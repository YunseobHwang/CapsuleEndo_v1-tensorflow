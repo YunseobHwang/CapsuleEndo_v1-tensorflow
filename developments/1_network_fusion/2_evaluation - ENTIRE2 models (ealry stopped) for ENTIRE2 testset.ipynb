{
 "cells": [
  {
   "cell_type": "code",
   "execution_count": 1,
   "metadata": {
    "ExecuteTime": {
     "end_time": "2020-01-09T15:12:19.660047Z",
     "start_time": "2020-01-09T15:12:17.462179Z"
    }
   },
   "outputs": [
    {
     "name": "stderr",
     "output_type": "stream",
     "text": [
      "/usr/local/lib/python3.5/dist-packages/tensorflow/python/framework/dtypes.py:516: FutureWarning: Passing (type, 1) or '1type' as a synonym of type is deprecated; in a future version of numpy, it will be understood as (type, (1,)) / '(1,)type'.\n",
      "  _np_qint8 = np.dtype([(\"qint8\", np.int8, 1)])\n",
      "/usr/local/lib/python3.5/dist-packages/tensorflow/python/framework/dtypes.py:517: FutureWarning: Passing (type, 1) or '1type' as a synonym of type is deprecated; in a future version of numpy, it will be understood as (type, (1,)) / '(1,)type'.\n",
      "  _np_quint8 = np.dtype([(\"quint8\", np.uint8, 1)])\n",
      "/usr/local/lib/python3.5/dist-packages/tensorflow/python/framework/dtypes.py:518: FutureWarning: Passing (type, 1) or '1type' as a synonym of type is deprecated; in a future version of numpy, it will be understood as (type, (1,)) / '(1,)type'.\n",
      "  _np_qint16 = np.dtype([(\"qint16\", np.int16, 1)])\n",
      "/usr/local/lib/python3.5/dist-packages/tensorflow/python/framework/dtypes.py:519: FutureWarning: Passing (type, 1) or '1type' as a synonym of type is deprecated; in a future version of numpy, it will be understood as (type, (1,)) / '(1,)type'.\n",
      "  _np_quint16 = np.dtype([(\"quint16\", np.uint16, 1)])\n",
      "/usr/local/lib/python3.5/dist-packages/tensorflow/python/framework/dtypes.py:520: FutureWarning: Passing (type, 1) or '1type' as a synonym of type is deprecated; in a future version of numpy, it will be understood as (type, (1,)) / '(1,)type'.\n",
      "  _np_qint32 = np.dtype([(\"qint32\", np.int32, 1)])\n",
      "/usr/local/lib/python3.5/dist-packages/tensorflow/python/framework/dtypes.py:525: FutureWarning: Passing (type, 1) or '1type' as a synonym of type is deprecated; in a future version of numpy, it will be understood as (type, (1,)) / '(1,)type'.\n",
      "  np_resource = np.dtype([(\"resource\", np.ubyte, 1)])\n",
      "/usr/local/lib/python3.5/dist-packages/tensorboard/compat/tensorflow_stub/dtypes.py:541: FutureWarning: Passing (type, 1) or '1type' as a synonym of type is deprecated; in a future version of numpy, it will be understood as (type, (1,)) / '(1,)type'.\n",
      "  _np_qint8 = np.dtype([(\"qint8\", np.int8, 1)])\n",
      "/usr/local/lib/python3.5/dist-packages/tensorboard/compat/tensorflow_stub/dtypes.py:542: FutureWarning: Passing (type, 1) or '1type' as a synonym of type is deprecated; in a future version of numpy, it will be understood as (type, (1,)) / '(1,)type'.\n",
      "  _np_quint8 = np.dtype([(\"quint8\", np.uint8, 1)])\n",
      "/usr/local/lib/python3.5/dist-packages/tensorboard/compat/tensorflow_stub/dtypes.py:543: FutureWarning: Passing (type, 1) or '1type' as a synonym of type is deprecated; in a future version of numpy, it will be understood as (type, (1,)) / '(1,)type'.\n",
      "  _np_qint16 = np.dtype([(\"qint16\", np.int16, 1)])\n",
      "/usr/local/lib/python3.5/dist-packages/tensorboard/compat/tensorflow_stub/dtypes.py:544: FutureWarning: Passing (type, 1) or '1type' as a synonym of type is deprecated; in a future version of numpy, it will be understood as (type, (1,)) / '(1,)type'.\n",
      "  _np_quint16 = np.dtype([(\"quint16\", np.uint16, 1)])\n",
      "/usr/local/lib/python3.5/dist-packages/tensorboard/compat/tensorflow_stub/dtypes.py:545: FutureWarning: Passing (type, 1) or '1type' as a synonym of type is deprecated; in a future version of numpy, it will be understood as (type, (1,)) / '(1,)type'.\n",
      "  _np_qint32 = np.dtype([(\"qint32\", np.int32, 1)])\n",
      "/usr/local/lib/python3.5/dist-packages/tensorboard/compat/tensorflow_stub/dtypes.py:550: FutureWarning: Passing (type, 1) or '1type' as a synonym of type is deprecated; in a future version of numpy, it will be understood as (type, (1,)) / '(1,)type'.\n",
      "  np_resource = np.dtype([(\"resource\", np.ubyte, 1)])\n"
     ]
    }
   ],
   "source": [
    "import os\n",
    "os.environ[\"CUDA_DEVICE_ORDER\"]=\"PCI_BUS_ID\"\n",
    "os.environ[\"CUDA_VISIBLE_DEVICES\"]=\"3\"\n",
    "\n",
    "import numpy as np\n",
    "import matplotlib.pyplot as plt\n",
    "\n",
    "import sys\n",
    "sys.path.append('/mnt/disk1/project/SMhospital/capsule/ce_packages')\n",
    "\n",
    "from ce_utils import load_data, one_hot, test_batch_idxs, batch_flatten\n",
    "from ce_utils import model_prob\n",
    "from ce_utils import classification_metric\n",
    "from ce_model import binary_model, ensemble_model"
   ]
  },
  {
   "cell_type": "markdown",
   "metadata": {},
   "source": [
    "# Load Data"
   ]
  },
  {
   "cell_type": "code",
   "execution_count": 2,
   "metadata": {
    "ExecuteTime": {
     "end_time": "2020-01-09T15:13:07.736730Z",
     "start_time": "2020-01-09T15:12:22.972498Z"
    }
   },
   "outputs": [],
   "source": [
    "neg_img, neg_name = load_data('test', 'n', 'neg', data = 'sm_v2', extract_name = True)\n",
    "redspot_img, redspot_name = load_data('test', 'h', 'redspot', data = 'sm_v2', extract_name = True)\n",
    "angio_img, angio_name = load_data('test', 'h', 'angio', data = 'sm_v2', extract_name = True)\n",
    "active_img, active_name = load_data('test', 'h', 'active', data = 'sm_v2', extract_name = True)\n",
    "ero_img, ero_name = load_data('test', 'd', 'ero', data = 'sm_v2', extract_name = True)\n",
    "ulcer_img, ulcer_name = load_data('test', 'd', 'ulcer', data = 'sm_v2', extract_name = True)\n",
    "str_img, str_name = load_data('test', 'd', 'str', data = 'sm_v2', extract_name = True)"
   ]
  },
  {
   "cell_type": "code",
   "execution_count": 3,
   "metadata": {
    "ExecuteTime": {
     "end_time": "2020-01-09T15:13:07.793456Z",
     "start_time": "2020-01-09T15:13:07.739719Z"
    }
   },
   "outputs": [
    {
     "name": "stdout",
     "output_type": "stream",
     "text": [
      "negative: (10927, 512, 512, 3) (10927, 2)\n",
      "red spot: (973, 512, 512, 3) (973, 2)\n",
      "angioectasia: (35, 512, 512, 3) (35, 2)\n",
      "active_bleeding: (756, 512, 512, 3) (756, 2)\n",
      "erosion: (1295, 512, 512, 3) (1295, 2)\n",
      "ulcer: (1281, 512, 512, 3) (1281, 2)\n",
      "stricture: (182, 512, 512, 3) (182, 2)\n"
     ]
    }
   ],
   "source": [
    "neg_label = one_hot(neg_img, 0)\n",
    "redspot_label = one_hot(redspot_img, 1)\n",
    "angio_label = one_hot(angio_img, 1)\n",
    "active_label = one_hot(active_img, 1)\n",
    "ero_label = one_hot(ero_img, 1)\n",
    "ulcer_label = one_hot(ulcer_img, 1)\n",
    "str_label = one_hot(str_img, 1)\n",
    "\n",
    "print(\"negative:\",neg_img.shape, neg_label.shape)\n",
    "print(\"red spot:\",redspot_img.shape, redspot_label.shape)\n",
    "print(\"angioectasia:\",angio_img.shape, angio_label.shape)\n",
    "print(\"active_bleeding:\",active_img.shape, active_label.shape)\n",
    "print(\"erosion:\",ero_img.shape, ero_label.shape)\n",
    "print(\"ulcer:\",ulcer_img.shape, ulcer_label.shape)\n",
    "print(\"stricture:\",str_img.shape, str_label.shape)"
   ]
  },
  {
   "cell_type": "code",
   "execution_count": 4,
   "metadata": {
    "ExecuteTime": {
     "end_time": "2020-01-09T15:25:07.386147Z",
     "start_time": "2020-01-09T15:25:07.374412Z"
    }
   },
   "outputs": [
    {
     "data": {
      "text/plain": [
       "1764"
      ]
     },
     "execution_count": 4,
     "metadata": {},
     "output_type": "execute_result"
    }
   ],
   "source": [
    "len(redspot_name) + len(angio_name) + len(active_name)"
   ]
  },
  {
   "cell_type": "code",
   "execution_count": 5,
   "metadata": {
    "ExecuteTime": {
     "end_time": "2020-01-09T15:25:07.774844Z",
     "start_time": "2020-01-09T15:25:07.768317Z"
    }
   },
   "outputs": [
    {
     "data": {
      "text/plain": [
       "2758"
      ]
     },
     "execution_count": 5,
     "metadata": {},
     "output_type": "execute_result"
    }
   ],
   "source": [
    "len(ero_name) + len(ulcer_name) + len(str_name)"
   ]
  },
  {
   "cell_type": "code",
   "execution_count": 6,
   "metadata": {
    "ExecuteTime": {
     "end_time": "2020-01-09T15:25:08.241912Z",
     "start_time": "2020-01-09T15:25:08.235797Z"
    }
   },
   "outputs": [
    {
     "data": {
      "text/plain": [
       "4522"
      ]
     },
     "execution_count": 6,
     "metadata": {},
     "output_type": "execute_result"
    }
   ],
   "source": [
    "len(redspot_name) + len(angio_name) + len(active_name) + len(ero_name) + len(ulcer_name) + len(str_name)"
   ]
  },
  {
   "cell_type": "code",
   "execution_count": 7,
   "metadata": {
    "ExecuteTime": {
     "end_time": "2020-01-09T15:25:09.041532Z",
     "start_time": "2020-01-09T15:25:09.032702Z"
    }
   },
   "outputs": [
    {
     "data": {
      "text/plain": [
       "array([1771, 7922, 7227, ...,  154,  758, 7964])"
      ]
     },
     "execution_count": 7,
     "metadata": {},
     "output_type": "execute_result"
    }
   ],
   "source": [
    "np.random.choice(len(neg_name), 4522)"
   ]
  },
  {
   "cell_type": "code",
   "execution_count": 8,
   "metadata": {
    "ExecuteTime": {
     "end_time": "2020-01-09T15:25:10.877533Z",
     "start_time": "2020-01-09T15:25:10.141754Z"
    }
   },
   "outputs": [],
   "source": [
    "neg2_img = neg_img[np.random.choice(len(neg_name), 4522)]\n",
    "neg2_label = one_hot(neg2_img, 0)"
   ]
  },
  {
   "cell_type": "code",
   "execution_count": 9,
   "metadata": {
    "ExecuteTime": {
     "end_time": "2020-01-09T15:25:11.493792Z",
     "start_time": "2020-01-09T15:25:11.486625Z"
    }
   },
   "outputs": [
    {
     "data": {
      "text/plain": [
       "(4522, 512, 512, 3)"
      ]
     },
     "execution_count": 9,
     "metadata": {},
     "output_type": "execute_result"
    }
   ],
   "source": [
    "neg2_img.shape"
   ]
  },
  {
   "cell_type": "markdown",
   "metadata": {},
   "source": [
    "# Model Inference"
   ]
  },
  {
   "cell_type": "code",
   "execution_count": 92,
   "metadata": {
    "ExecuteTime": {
     "end_time": "2020-01-10T06:11:44.389299Z",
     "start_time": "2020-01-10T06:11:44.376388Z"
    }
   },
   "outputs": [],
   "source": [
    "nh_list = sorted([i[:-5] for i in os.listdir('./model') if 'meta' in i and 'NH_' in i and 'core' not in i])\n",
    "nd_list = sorted([i[:-5] for i in os.listdir('./model') if 'meta' in i and 'ND_' in i and 'core' not in i])\n",
    "b_list = sorted([i[:-5] for i in os.listdir('./model') if 'meta' in i and 'B_' in i and 'core' not in i])"
   ]
  },
  {
   "cell_type": "code",
   "execution_count": 52,
   "metadata": {
    "ExecuteTime": {
     "end_time": "2020-01-10T04:28:20.147947Z",
     "start_time": "2020-01-10T04:28:20.139125Z"
    }
   },
   "outputs": [
    {
     "data": {
      "text/plain": [
       "['NH_1908312018_5750_val_acc_1.00_val_loss_0.001598',\n",
       " 'NH_2001060148_2540_val_acc_1.00_val_loss_0.034387',\n",
       " 'NH_2001060150_2870_val_acc_0.98_val_loss_0.027345',\n",
       " 'NH_2001060155_3730_val_acc_1.00_val_loss_0.015424',\n",
       " 'NH_2001060204_5320_val_acc_1.00_val_loss_0.009253',\n",
       " 'NH_2001060208_6000_val_acc_1.00_val_loss_0.005527',\n",
       " 'NH_2001062352_20490_val_acc_1.00_val_loss_0.000032',\n",
       " 'NH_2001070020_23020_val_acc_1.00_val_loss_0.000018',\n",
       " 'NH_2001070150_5800_val_acc_0.98_val_loss_0.043403',\n",
       " 'NH_2001070151_5900_val_acc_0.98_val_loss_0.038373',\n",
       " 'NH_2001070214_8200_val_acc_1.00_val_loss_0.035504',\n",
       " 'NH_2001070221_8900_val_acc_0.99_val_loss_0.023356',\n",
       " 'NH_2001080155_12800_val_acc_0.99_val_loss_0.016635',\n",
       " 'NH_2001081600_2000_val_acc_0.97_val_loss_0.093729',\n",
       " 'NH_2001081601_2100_val_acc_0.97_val_loss_0.057087',\n",
       " 'NH_2001081619_3800_val_acc_0.97_val_loss_0.054612',\n",
       " 'NH_2001081626_4500_val_acc_0.98_val_loss_0.046558',\n",
       " 'NH_2001081636_5500_val_acc_0.99_val_loss_0.035910',\n",
       " 'NH_2001100009_520_val_acc_0.82_val_loss_0.420632',\n",
       " 'NH_2001100009_540_val_acc_0.80_val_loss_0.420203',\n",
       " 'NH_2001100010_560_val_acc_0.81_val_loss_0.404852',\n",
       " 'NH_2001100010_600_val_acc_0.86_val_loss_0.363961',\n",
       " 'NH_2001100013_800_val_acc_0.84_val_loss_0.363432',\n",
       " 'NH_2001100015_10_val_acc_0.51_val_loss_0.691620',\n",
       " 'NH_2001100015_20_val_acc_0.54_val_loss_0.689558',\n",
       " 'NH_2001100015_30_val_acc_0.62_val_loss_0.668374',\n",
       " 'NH_2001100016_50_val_acc_0.67_val_loss_0.607173',\n",
       " 'NH_2001100016_60_val_acc_0.66_val_loss_0.604228',\n",
       " 'NH_2001100048_1330_val_acc_0.99_val_loss_0.045598',\n",
       " 'NH_2001100050_1460_val_acc_0.98_val_loss_0.044435',\n",
       " 'NH_2001100055_1710_val_acc_0.99_val_loss_0.044217',\n",
       " 'NH_2001100102_2100_val_acc_1.00_val_loss_0.019105',\n",
       " 'NH_2001100103_2170_val_acc_1.00_val_loss_0.007778']"
      ]
     },
     "execution_count": 52,
     "metadata": {},
     "output_type": "execute_result"
    }
   ],
   "source": [
    "nh_list"
   ]
  },
  {
   "cell_type": "code",
   "execution_count": 93,
   "metadata": {
    "ExecuteTime": {
     "end_time": "2020-01-10T06:11:46.471661Z",
     "start_time": "2020-01-10T06:11:46.463915Z"
    },
    "scrolled": false
   },
   "outputs": [
    {
     "data": {
      "text/plain": [
       "['ND_1908302155_7140_val_acc_1.00_val_loss_0.002939',\n",
       " 'ND_2001062348_20190_val_acc_1.00_val_loss_0.002604',\n",
       " 'ND_2001062355_20780_val_acc_1.00_val_loss_0.001135',\n",
       " 'ND_2001070006_21740_val_acc_1.00_val_loss_0.000432',\n",
       " 'ND_2001070141_4900_val_acc_0.96_val_loss_0.124103',\n",
       " 'ND_2001070150_5800_val_acc_0.96_val_loss_0.120055',\n",
       " 'ND_2001070152_6000_val_acc_0.97_val_loss_0.106324',\n",
       " 'ND_2001070211_7800_val_acc_0.96_val_loss_0.104963',\n",
       " 'ND_2001070212_7900_val_acc_0.97_val_loss_0.058071',\n",
       " 'ND_2001081614_2700_val_acc_0.95_val_loss_0.130868',\n",
       " 'ND_2001081615_2800_val_acc_0.96_val_loss_0.113698',\n",
       " 'ND_2001081634_4700_val_acc_0.95_val_loss_0.104473',\n",
       " 'ND_2001081639_5200_val_acc_0.97_val_loss_0.078812',\n",
       " 'ND_2001081650_6300_val_acc_0.98_val_loss_0.049867',\n",
       " 'ND_2001100010_10_val_acc_0.50_val_loss_0.691652',\n",
       " 'ND_2001100010_50_val_acc_0.48_val_loss_0.690351',\n",
       " 'ND_2001100011_60_val_acc_0.47_val_loss_0.679513',\n",
       " 'ND_2001100011_70_val_acc_0.65_val_loss_0.657932',\n",
       " 'ND_2001100011_90_val_acc_0.67_val_loss_0.563440',\n",
       " 'ND_2001100015_10_val_acc_0.52_val_loss_0.691693',\n",
       " 'ND_2001100015_30_val_acc_0.50_val_loss_0.691295',\n",
       " 'ND_2001100015_40_val_acc_0.61_val_loss_0.686412',\n",
       " 'ND_2001100016_80_val_acc_0.49_val_loss_0.674461',\n",
       " 'ND_2001100118_2870_val_acc_1.00_val_loss_0.030858',\n",
       " 'ND_2001100129_3460_val_acc_0.99_val_loss_0.026349',\n",
       " 'ND_2001100149_4520_val_acc_1.00_val_loss_0.023429',\n",
       " 'ND_2001100152_4670_val_acc_1.00_val_loss_0.012078',\n",
       " 'ND_2001100154_4760_val_acc_1.00_val_loss_0.010985']"
      ]
     },
     "execution_count": 93,
     "metadata": {},
     "output_type": "execute_result"
    }
   ],
   "source": [
    "nd_list"
   ]
  },
  {
   "cell_type": "code",
   "execution_count": 95,
   "metadata": {
    "ExecuteTime": {
     "end_time": "2020-01-10T06:12:05.921442Z",
     "start_time": "2020-01-10T06:12:05.911783Z"
    }
   },
   "outputs": [
    {
     "data": {
      "text/plain": [
       "['N1D9_2001100152_4380_val_acc_0.98_val_loss_0.039794',\n",
       " 'N1D9_2001100202_4900_val_acc_0.99_val_loss_0.039726',\n",
       " 'N1D9_2001100204_4990_val_acc_0.99_val_loss_0.027827',\n",
       " 'N1D9_2001100206_5120_val_acc_0.99_val_loss_0.026593',\n",
       " 'N1D9_2001100219_5810_val_acc_0.99_val_loss_0.022532']"
      ]
     },
     "execution_count": 95,
     "metadata": {},
     "output_type": "execute_result"
    }
   ],
   "source": [
    "sorted([i[:-5] for i in os.listdir('./model') if 'meta' in i and 'N1D9_' in i and 'core' not in i])"
   ]
  },
  {
   "cell_type": "code",
   "execution_count": 54,
   "metadata": {
    "ExecuteTime": {
     "end_time": "2020-01-10T04:28:26.029003Z",
     "start_time": "2020-01-10T04:28:26.021350Z"
    }
   },
   "outputs": [
    {
     "data": {
      "text/plain": [
       "['B_2001060434_9410_val_acc_1.00_val_loss_0.019657',\n",
       " 'B_2001060441_9870_val_acc_1.00_val_loss_0.011613',\n",
       " 'B_2001060509_11910_val_acc_1.00_val_loss_0.009551',\n",
       " 'B_2001060518_12540_val_acc_1.00_val_loss_0.008383',\n",
       " 'B_2001060534_13690_val_acc_1.00_val_loss_0.006853',\n",
       " 'B_2001081714_6900_val_acc_0.96_val_loss_0.094075',\n",
       " 'B_2001081734_8800_val_acc_0.97_val_loss_0.077247',\n",
       " 'B_2001081739_9300_val_acc_0.98_val_loss_0.059156',\n",
       " 'B_2001081801_11400_val_acc_0.98_val_loss_0.050810',\n",
       " 'B_2001081821_13300_val_acc_0.98_val_loss_0.042233',\n",
       " 'B_2001100012_80_val_acc_0.60_val_loss_0.659025',\n",
       " 'B_2001100013_150_val_acc_0.66_val_loss_0.650705',\n",
       " 'B_2001100013_90_val_acc_0.57_val_loss_0.655705',\n",
       " 'B_2001100014_160_val_acc_0.64_val_loss_0.616498',\n",
       " 'B_2001100014_180_val_acc_0.68_val_loss_0.614124',\n",
       " 'B_2001100015_10_val_acc_0.50_val_loss_0.691157',\n",
       " 'B_2001100015_30_val_acc_0.62_val_loss_0.688692',\n",
       " 'B_2001100015_50_val_acc_0.64_val_loss_0.606388',\n",
       " 'B_2001100122_3070_val_acc_1.00_val_loss_0.034832',\n",
       " 'B_2001100128_3400_val_acc_0.99_val_loss_0.023191',\n",
       " 'B_2001100151_4610_val_acc_1.00_val_loss_0.007210',\n",
       " 'B_2001100245_7540_val_acc_1.00_val_loss_0.005794',\n",
       " 'B_2001100252_7900_val_acc_1.00_val_loss_0.005764']"
      ]
     },
     "execution_count": 54,
     "metadata": {},
     "output_type": "execute_result"
    }
   ],
   "source": [
    "b_list"
   ]
  },
  {
   "cell_type": "code",
   "execution_count": 55,
   "metadata": {
    "ExecuteTime": {
     "end_time": "2020-01-10T04:29:00.089378Z",
     "start_time": "2020-01-10T04:28:57.267010Z"
    }
   },
   "outputs": [],
   "source": [
    "nh_path = './model/' + 'NH_2001062207_10900_val_acc_1.00_val_loss_0.000584'\n",
    "nd_path = './model/' + 'ND_2001060354_8430_val_acc_1.00_val_loss_0.009623'\n",
    "b_path = './model/' + 'B_2001060534_13690_val_acc_1.00_val_loss_0.006853'\n",
    "\n",
    "nh_path = './model/' + 'NH_2001080155_12800_val_acc_0.99_val_loss_0.016635'\n",
    "nd_path = './model/' + 'ND_2001070006_21740_val_acc_1.00_val_loss_0.000432'\n",
    "b_path = './model/' + 'B_2001080202_18300_val_acc_0.99_val_loss_0.026502'\n",
    "\n",
    "nh_path = './model/' + 'NH_2001081636_5500_val_acc_0.99_val_loss_0.035910'\n",
    "nd_path = './model/' + 'ND_2001081650_6300_val_acc_0.98_val_loss_0.049867'\n",
    "b_path = './model/' + 'B_2001081821_13300_val_acc_0.98_val_loss_0.042233'\n",
    "\n",
    "nh_path = './model/' + nh_list[-1]\n",
    "nd_path = './model/' + nd_list[-1]\n",
    "b_path = './model/' + b_list[-1]\n",
    "\n",
    "NH_model = binary_model(nh_path)\n",
    "ND_model = binary_model(nd_path)\n",
    "E_model = ensemble_model(nh_path, nd_path)\n",
    "B_model = binary_model(b_path)"
   ]
  },
  {
   "cell_type": "code",
   "execution_count": 96,
   "metadata": {
    "ExecuteTime": {
     "end_time": "2020-01-10T06:12:50.903116Z",
     "start_time": "2020-01-10T06:12:50.503644Z"
    }
   },
   "outputs": [],
   "source": [
    "n1d9_path = './model/' + 'N1D9_2001100219_5810_val_acc_0.99_val_loss_0.022532'\n",
    "\n",
    "N1D9_model = binary_model(n1d9_path)"
   ]
  },
  {
   "cell_type": "code",
   "execution_count": 97,
   "metadata": {
    "ExecuteTime": {
     "end_time": "2020-01-10T06:14:47.081650Z",
     "start_time": "2020-01-10T06:13:32.036156Z"
    }
   },
   "outputs": [
    {
     "name": "stdout",
     "output_type": "stream",
     "text": [
      "#: 10927 / Inference Time: 00:00:52\n",
      "#: 973 / Inference Time: 00:00:04\n",
      "#: 35 / Inference Time: 00:00:00\n",
      "#: 756 / Inference Time: 00:00:03\n",
      "#: 1295 / Inference Time: 00:00:06\n",
      "#: 1281 / Inference Time: 00:00:06\n",
      "#: 182 / Inference Time: 00:00:00\n"
     ]
    }
   ],
   "source": [
    "neg_n1d9_output = model_prob(N1D9_model, neg_img)\n",
    "redspot_n1d9_output = model_prob(N1D9_model, redspot_img)\n",
    "angio_n1d9_output = model_prob(N1D9_model, angio_img)\n",
    "active_n1d9_output = model_prob(N1D9_model, active_img)\n",
    "ero_n1d9_output = model_prob(N1D9_model, ero_img)\n",
    "ulcer_n1d9_output = model_prob(N1D9_model, ulcer_img)\n",
    "str_n1d9_output  = model_prob(N1D9_model, str_img)"
   ]
  },
  {
   "cell_type": "code",
   "execution_count": 56,
   "metadata": {
    "ExecuteTime": {
     "end_time": "2020-01-10T04:31:31.348999Z",
     "start_time": "2020-01-10T04:29:04.276757Z"
    }
   },
   "outputs": [
    {
     "name": "stdout",
     "output_type": "stream",
     "text": [
      "#: 10927 / Inference Time: 00:01:43\n",
      "#: 973 / Inference Time: 00:00:09\n",
      "#: 35 / Inference Time: 00:00:00\n",
      "#: 756 / Inference Time: 00:00:07\n",
      "#: 1295 / Inference Time: 00:00:12\n",
      "#: 1281 / Inference Time: 00:00:12\n",
      "#: 182 / Inference Time: 00:00:01\n"
     ]
    }
   ],
   "source": [
    "neg_e_output, neg_nh_output, neg_nd_output = model_prob(E_model, neg_img, model_type = 'ensemble')\n",
    "redspot_e_output, redspot_nh_output, redspot_nd_output = model_prob(E_model, redspot_img, model_type = 'ensemble')\n",
    "angio_e_output, angio_nh_output, angio_nd_output = model_prob(E_model, angio_img, model_type = 'ensemble')\n",
    "active_e_output, active_nh_output, active_nd_output = model_prob(E_model, active_img, model_type = 'ensemble')\n",
    "ero_e_output, ero_nh_output, ero_nd_output = model_prob(E_model, ero_img, model_type = 'ensemble')\n",
    "ulcer_e_output, ulcer_nh_output, ulcer_nd_output = model_prob(E_model, ulcer_img, model_type = 'ensemble')\n",
    "str_e_output, str_nh_output, str_nd_output  = model_prob(E_model, str_img, model_type = 'ensemble')"
   ]
  },
  {
   "cell_type": "code",
   "execution_count": 57,
   "metadata": {
    "ExecuteTime": {
     "end_time": "2020-01-10T04:32:45.743235Z",
     "start_time": "2020-01-10T04:31:31.351803Z"
    }
   },
   "outputs": [
    {
     "name": "stdout",
     "output_type": "stream",
     "text": [
      "#: 10927 / Inference Time: 00:00:52\n",
      "#: 973 / Inference Time: 00:00:04\n",
      "#: 35 / Inference Time: 00:00:00\n",
      "#: 756 / Inference Time: 00:00:03\n",
      "#: 1295 / Inference Time: 00:00:06\n",
      "#: 1281 / Inference Time: 00:00:06\n",
      "#: 182 / Inference Time: 00:00:00\n"
     ]
    }
   ],
   "source": [
    "neg_b_output = model_prob(B_model, neg_img)\n",
    "redspot_b_output = model_prob(B_model, redspot_img)\n",
    "angio_b_output = model_prob(B_model, angio_img)\n",
    "active_b_output = model_prob(B_model, active_img)\n",
    "ero_b_output = model_prob(B_model, ero_img)\n",
    "ulcer_b_output = model_prob(B_model, ulcer_img)\n",
    "str_b_output  = model_prob(B_model, str_img)"
   ]
  },
  {
   "cell_type": "code",
   "execution_count": 58,
   "metadata": {
    "ExecuteTime": {
     "end_time": "2020-01-10T04:33:51.056636Z",
     "start_time": "2020-01-10T04:32:45.747122Z"
    }
   },
   "outputs": [
    {
     "name": "stdout",
     "output_type": "stream",
     "text": [
      "#: 4522 / Inference Time: 00:00:43\n",
      "#: 4522 / Inference Time: 00:00:21\n"
     ]
    }
   ],
   "source": [
    "neg2_e_output, neg2_nh_output, neg2_nd_output = model_prob(E_model, neg2_img, model_type = 'ensemble')\n",
    "neg2_b_output = model_prob(B_model, neg2_img)"
   ]
  },
  {
   "cell_type": "markdown",
   "metadata": {},
   "source": [
    "# Evaluation"
   ]
  },
  {
   "cell_type": "code",
   "execution_count": 59,
   "metadata": {
    "ExecuteTime": {
     "end_time": "2020-01-10T04:33:51.067562Z",
     "start_time": "2020-01-10T04:33:51.062000Z"
    }
   },
   "outputs": [],
   "source": [
    "cls = classification_metric()"
   ]
  },
  {
   "cell_type": "markdown",
   "metadata": {},
   "source": [
    "## Accuracy per lesion"
   ]
  },
  {
   "cell_type": "code",
   "execution_count": 60,
   "metadata": {
    "ExecuteTime": {
     "end_time": "2020-01-10T04:33:51.080201Z",
     "start_time": "2020-01-10T04:33:51.071329Z"
    }
   },
   "outputs": [
    {
     "name": "stdout",
     "output_type": "stream",
     "text": [
      "Accuracy: 97.93 %\n",
      "Accuracy: 90.96 %\n",
      "Accuracy: 100.00 %\n",
      "Accuracy: 98.54 %\n"
     ]
    }
   ],
   "source": [
    "neg_nh_acc = cls.accuracy(neg_label, neg_nh_output)\n",
    "redspot_nh_acc = cls.accuracy(redspot_label, redspot_nh_output)\n",
    "angio_nh_acc = cls.accuracy(angio_label, angio_nh_output)\n",
    "active_nh_acc = cls.accuracy(active_label, active_nh_output)"
   ]
  },
  {
   "cell_type": "code",
   "execution_count": 61,
   "metadata": {
    "ExecuteTime": {
     "end_time": "2020-01-10T04:33:51.089956Z",
     "start_time": "2020-01-10T04:33:51.082836Z"
    }
   },
   "outputs": [
    {
     "name": "stdout",
     "output_type": "stream",
     "text": [
      "Accuracy: 98.01 %\n",
      "Accuracy: 94.90 %\n",
      "Accuracy: 95.47 %\n",
      "Accuracy: 87.91 %\n"
     ]
    }
   ],
   "source": [
    "neg_nd_acc = cls.accuracy(neg_label, neg_nd_output)\n",
    "ero_nd_acc = cls.accuracy(ero_label, ero_nd_output)\n",
    "ulcer_nd_acc = cls.accuracy(ulcer_label, ulcer_nd_output)\n",
    "str_nd_acc = cls.accuracy(str_label, str_nd_output)"
   ]
  },
  {
   "cell_type": "code",
   "execution_count": 98,
   "metadata": {
    "ExecuteTime": {
     "end_time": "2020-01-10T06:15:29.250557Z",
     "start_time": "2020-01-10T06:15:29.239585Z"
    }
   },
   "outputs": [
    {
     "name": "stdout",
     "output_type": "stream",
     "text": [
      "Accuracy: 90.99 %\n",
      "Accuracy: 96.83 %\n",
      "Accuracy: 97.11 %\n",
      "Accuracy: 91.21 %\n"
     ]
    }
   ],
   "source": [
    "neg_n1d9_acc = cls.accuracy(neg_label, neg_n1d9_output)\n",
    "ero_n1d9_acc = cls.accuracy(ero_label, ero_n1d9_output)\n",
    "ulcer_n1d9_acc = cls.accuracy(ulcer_label, ulcer_n1d9_output)\n",
    "str_n1d9_acc = cls.accuracy(str_label, str_n1d9_output)"
   ]
  },
  {
   "cell_type": "code",
   "execution_count": 62,
   "metadata": {
    "ExecuteTime": {
     "end_time": "2020-01-10T04:33:51.105128Z",
     "start_time": "2020-01-10T04:33:51.092457Z"
    }
   },
   "outputs": [
    {
     "name": "stdout",
     "output_type": "stream",
     "text": [
      "Accuracy: 97.55 %\n",
      "Accuracy: 87.67 %\n",
      "Accuracy: 100.00 %\n",
      "Accuracy: 98.15 %\n",
      "Accuracy: 93.90 %\n",
      "Accuracy: 92.51 %\n",
      "Accuracy: 90.66 %\n"
     ]
    }
   ],
   "source": [
    "neg_b_acc = cls.accuracy(neg_label, neg_b_output)\n",
    "redspot_b_acc = cls.accuracy(redspot_label, redspot_b_output)\n",
    "angio_b_acc = cls.accuracy(angio_label, angio_b_output)\n",
    "active_b_acc = cls.accuracy(active_label, active_b_output)\n",
    "ero_b_acc = cls.accuracy(ero_label, ero_b_output)\n",
    "ulcer_b_acc = cls.accuracy(ulcer_label, ulcer_b_output)\n",
    "str_b_acc = cls.accuracy(str_label, str_b_output)"
   ]
  },
  {
   "cell_type": "code",
   "execution_count": 63,
   "metadata": {
    "ExecuteTime": {
     "end_time": "2020-01-10T04:33:51.120312Z",
     "start_time": "2020-01-10T04:33:51.110042Z"
    }
   },
   "outputs": [
    {
     "name": "stdout",
     "output_type": "stream",
     "text": [
      "Accuracy: 96.37 %\n",
      "Accuracy: 92.29 %\n",
      "Accuracy: 100.00 %\n",
      "Accuracy: 99.60 %\n",
      "Accuracy: 96.45 %\n",
      "Accuracy: 96.88 %\n",
      "Accuracy: 93.41 %\n"
     ]
    }
   ],
   "source": [
    "neg_e_acc = cls.accuracy(neg_label, neg_e_output)\n",
    "redspot_e_acc = cls.accuracy(redspot_label, redspot_e_output)\n",
    "angio_e_acc = cls.accuracy(angio_label, angio_e_output)\n",
    "active_e_acc = cls.accuracy(active_label, active_e_output)\n",
    "ero_e_acc = cls.accuracy(ero_label, ero_e_output)\n",
    "ulcer_e_acc = cls.accuracy(ulcer_label, ulcer_e_output)\n",
    "str_e_acc = cls.accuracy(str_label, str_e_output)"
   ]
  },
  {
   "cell_type": "code",
   "execution_count": 64,
   "metadata": {
    "ExecuteTime": {
     "end_time": "2020-01-10T04:33:51.129704Z",
     "start_time": "2020-01-10T04:33:51.123212Z"
    }
   },
   "outputs": [
    {
     "name": "stdout",
     "output_type": "stream",
     "text": [
      "Accuracy: 97.97 %\n",
      "Accuracy: 98.03 %\n",
      "Accuracy: 97.88 %\n",
      "Accuracy: 96.46 %\n"
     ]
    }
   ],
   "source": [
    "neg2_nh_acc = cls.accuracy(neg2_label, neg2_nh_output)\n",
    "neg2_nd_acc = cls.accuracy(neg2_label, neg2_nd_output)\n",
    "neg2_b_acc = cls.accuracy(neg2_label, neg2_b_output)\n",
    "neg2_e_acc = cls.accuracy(neg2_label, neg2_e_output)"
   ]
  },
  {
   "cell_type": "markdown",
   "metadata": {},
   "source": [
    "## Confusion Matrix"
   ]
  },
  {
   "cell_type": "code",
   "execution_count": 65,
   "metadata": {
    "ExecuteTime": {
     "end_time": "2020-01-10T04:33:51.150016Z",
     "start_time": "2020-01-10T04:33:51.131869Z"
    }
   },
   "outputs": [],
   "source": [
    "nh_outputs = np.vstack([neg_nh_output, redspot_nh_output, angio_nh_output, active_nh_output])\n",
    "labels = np.vstack([neg_label, redspot_label, angio_label, active_label])\n",
    "\n",
    "nh_CM = cls.con_mat(labels, nh_outputs)"
   ]
  },
  {
   "cell_type": "code",
   "execution_count": 102,
   "metadata": {
    "ExecuteTime": {
     "end_time": "2020-01-10T06:24:44.094630Z",
     "start_time": "2020-01-10T06:24:43.807596Z"
    }
   },
   "outputs": [
    {
     "data": {
      "image/png": "[encoded data removed]",
      "text/plain": [
       "<Figure size 1152x576 with 2 Axes>"
      ]
     },
     "metadata": {
      "needs_background": "light"
     },
     "output_type": "display_data"
    }
   ],
   "source": [
    "plt.figure(figsize=(16, 8))\n",
    "plt.subplot(121)\n",
    "cls.plot_cm(nh_CM, value_size = 25, label_size = 20)\n",
    "plt.grid(False)\n",
    "plt.subplot(122)\n",
    "cls.plot_cm(nh_CM, value_size = 25, label_size = 20, mode = 'num')\n",
    "plt.grid(False)\n",
    "plt.show()"
   ]
  },
  {
   "cell_type": "code",
   "execution_count": 67,
   "metadata": {
    "ExecuteTime": {
     "end_time": "2020-01-10T04:33:51.469368Z",
     "start_time": "2020-01-10T04:33:51.454289Z"
    }
   },
   "outputs": [],
   "source": [
    "nd_outputs = np.vstack([neg_nd_output, ero_nd_output, ulcer_nd_output, str_nd_output])\n",
    "labels = np.vstack([neg_label, ero_label, ulcer_label, str_label])\n",
    "\n",
    "nd_CM = cls.con_mat(labels, nd_outputs)"
   ]
  },
  {
   "cell_type": "code",
   "execution_count": 101,
   "metadata": {
    "ExecuteTime": {
     "end_time": "2020-01-10T06:24:37.530392Z",
     "start_time": "2020-01-10T06:24:37.240247Z"
    }
   },
   "outputs": [
    {
     "data": {
      "image/png": "[encoded data removed]",
      "text/plain": [
       "<Figure size 1152x576 with 2 Axes>"
      ]
     },
     "metadata": {
      "needs_background": "light"
     },
     "output_type": "display_data"
    }
   ],
   "source": [
    "plt.figure(figsize=(16, 8))\n",
    "plt.subplot(121)\n",
    "cls.plot_cm(nd_CM, value_size = 25, label_size = 20)\n",
    "plt.grid(False)\n",
    "plt.subplot(122)\n",
    "cls.plot_cm(nd_CM, value_size = 25, label_size = 20, mode = 'num')\n",
    "plt.grid(False)\n",
    "plt.show()"
   ]
  },
  {
   "cell_type": "code",
   "execution_count": 69,
   "metadata": {
    "ExecuteTime": {
     "end_time": "2020-01-10T04:33:51.779000Z",
     "start_time": "2020-01-10T04:33:51.762592Z"
    }
   },
   "outputs": [],
   "source": [
    "e_outputs = np.vstack([neg_e_output, redspot_e_output, angio_e_output, active_e_output, ero_e_output, ulcer_e_output, str_e_output])\n",
    "labels = np.vstack([neg_label, redspot_label, angio_label, active_label, ero_label, ulcer_label, str_label])\n",
    "\n",
    "e_CM = cls.con_mat(labels, e_outputs)"
   ]
  },
  {
   "cell_type": "code",
   "execution_count": 100,
   "metadata": {
    "ExecuteTime": {
     "end_time": "2020-01-10T06:24:32.045416Z",
     "start_time": "2020-01-10T06:24:31.744114Z"
    }
   },
   "outputs": [
    {
     "data": {
      "image/png": "[encoded data removed]",
      "text/plain": [
       "<Figure size 1152x576 with 2 Axes>"
      ]
     },
     "metadata": {
      "needs_background": "light"
     },
     "output_type": "display_data"
    }
   ],
   "source": [
    "plt.figure(figsize=(16, 8))\n",
    "plt.subplot(121)\n",
    "cls.plot_cm(e_CM, value_size = 25, label_size = 20)\n",
    "plt.grid(False)\n",
    "plt.subplot(122)\n",
    "cls.plot_cm(e_CM, value_size = 25, label_size = 20, mode = 'num')\n",
    "plt.grid(False)\n",
    "plt.show()"
   ]
  },
  {
   "cell_type": "code",
   "execution_count": 71,
   "metadata": {
    "ExecuteTime": {
     "end_time": "2020-01-10T04:33:52.071749Z",
     "start_time": "2020-01-10T04:33:52.055991Z"
    }
   },
   "outputs": [],
   "source": [
    "b_outputs = np.vstack([neg_b_output, redspot_b_output, angio_b_output, active_b_output, ero_b_output, ulcer_b_output, str_b_output])\n",
    "labels = np.vstack([neg_label, redspot_label, angio_label, active_label, ero_label, ulcer_label, str_label])\n",
    "\n",
    "b_CM = cls.con_mat(labels, b_outputs)"
   ]
  },
  {
   "cell_type": "code",
   "execution_count": 72,
   "metadata": {
    "ExecuteTime": {
     "end_time": "2020-01-10T04:33:52.344138Z",
     "start_time": "2020-01-10T04:33:52.073505Z"
    }
   },
   "outputs": [
    {
     "data": {
      "image/png": "[encoded data removed]",
      "text/plain": [
       "<Figure size 1152x576 with 2 Axes>"
      ]
     },
     "metadata": {
      "needs_background": "light"
     },
     "output_type": "display_data"
    }
   ],
   "source": [
    "plt.figure(figsize=(16, 8))\n",
    "plt.subplot(121)\n",
    "cls.plot_cm(b_CM, value_size = 25, label_size = 20)\n",
    "plt.grid(False)\n",
    "plt.subplot(122)\n",
    "cls.plot_cm(b_CM, value_size = 25, label_size = 20, mode = 'num')\n",
    "plt.grid(False)\n",
    "plt.show()"
   ]
  },
  {
   "cell_type": "code",
   "execution_count": 99,
   "metadata": {
    "ExecuteTime": {
     "end_time": "2020-01-10T06:24:13.747558Z",
     "start_time": "2020-01-10T06:24:12.895725Z"
    }
   },
   "outputs": [
    {
     "data": {
      "image/png": "[encoded data removed]",
      "text/plain": [
       "<Figure size 1152x576 with 2 Axes>"
      ]
     },
     "metadata": {
      "needs_background": "light"
     },
     "output_type": "display_data"
    },
    {
     "data": {
      "image/png": "[encoded data removed]",
      "text/plain": [
       "<Figure size 1152x576 with 2 Axes>"
      ]
     },
     "metadata": {
      "needs_background": "light"
     },
     "output_type": "display_data"
    }
   ],
   "source": [
    "e_outputs = np.vstack([neg2_e_output, redspot_e_output, angio_e_output, active_e_output, ero_e_output, ulcer_e_output, str_e_output])\n",
    "labels = np.vstack([neg2_label, redspot_label, angio_label, active_label, ero_label, ulcer_label, str_label])\n",
    "\n",
    "e_CM = cls.con_mat(labels, e_outputs)\n",
    "\n",
    "plt.figure(figsize=(16, 8))\n",
    "plt.subplot(121)\n",
    "cls.plot_cm(e_CM, value_size = 25, label_size = 20)\n",
    "plt.grid(False)\n",
    "plt.subplot(122)\n",
    "cls.plot_cm(e_CM, value_size = 25, label_size = 20, mode = 'num')\n",
    "plt.grid(False)\n",
    "plt.show()\n",
    "\n",
    "b_outputs = np.vstack([neg2_b_output, redspot_b_output, angio_b_output, active_b_output, ero_b_output, ulcer_b_output, str_b_output])\n",
    "labels = np.vstack([neg2_label, redspot_label, angio_label, active_label, ero_label, ulcer_label, str_label])\n",
    "\n",
    "b_CM = cls.con_mat(labels, b_outputs)\n",
    "\n",
    "plt.figure(figsize=(16, 8))\n",
    "plt.subplot(121)\n",
    "cls.plot_cm(b_CM, value_size = 25, label_size = 20)\n",
    "plt.grid(False)\n",
    "plt.subplot(122)\n",
    "cls.plot_cm(b_CM, value_size = 25, label_size = 20, mode = 'num')\n",
    "plt.grid(False)\n",
    "plt.show()"
   ]
  },
  {
   "cell_type": "markdown",
   "metadata": {},
   "source": [
    "## ROC curve"
   ]
  },
  {
   "cell_type": "code",
   "execution_count": 74,
   "metadata": {
    "ExecuteTime": {
     "end_time": "2020-01-10T04:33:52.896317Z",
     "start_time": "2020-01-10T04:33:52.891412Z"
    }
   },
   "outputs": [],
   "source": [
    "from scipy.stats import sem, t\n",
    "from scipy import mean\n",
    "\n",
    "def conf_interval(data, conf_level = 0.95, mode = 'value', metric = 'Accr'):\n",
    "    n = len(data)\n",
    "    m = mean(data)\n",
    "    std_err = sem(data)\n",
    "    h = std_err * t.ppf((1 + conf_level) / 2, n - 1)\n",
    "\n",
    "    start = m - h\n",
    "    end = m + h\n",
    "    \n",
    "    if mode == 'value':\n",
    "        return m, start, end\n",
    "    elif mode == 'print':\n",
    "        return print(\"{} --- {:.2f} ({:.2f} ~ {:.2f})\".format(metric, m, start, end))"
   ]
  },
  {
   "cell_type": "code",
   "execution_count": 75,
   "metadata": {
    "ExecuteTime": {
     "end_time": "2020-01-10T04:33:52.902036Z",
     "start_time": "2020-01-10T04:33:52.898343Z"
    }
   },
   "outputs": [],
   "source": [
    "from sklearn.model_selection import KFold\n",
    "\n",
    "def k_fold_idx(n_fold, dataset):\n",
    "    kf = KFold(n_splits = n_fold, shuffle = True)\n",
    "    train_idxs = []\n",
    "    test_idxs = []\n",
    "    for train_idx, test_idx in kf.split(dataset):\n",
    "        train_idxs.append(train_idx)\n",
    "        test_idxs.append(test_idx)\n",
    "    return train_idxs, test_idxs"
   ]
  },
  {
   "cell_type": "code",
   "execution_count": 76,
   "metadata": {
    "ExecuteTime": {
     "end_time": "2020-01-10T04:33:52.911745Z",
     "start_time": "2020-01-10T04:33:52.903880Z"
    }
   },
   "outputs": [],
   "source": [
    "n_g = 10\n",
    "\n",
    "_, neg2_idxs = k_fold_idx(n_fold = n_g, dataset = neg2_label)\n",
    "_, redspot_idxs = k_fold_idx(n_fold = n_g, dataset = redspot_label)\n",
    "_, angio_idxs = k_fold_idx(n_fold = n_g, dataset = angio_label)\n",
    "_, active_idxs = k_fold_idx(n_fold = n_g, dataset = active_label)\n",
    "_, ero_idxs = k_fold_idx(n_fold = n_g, dataset = ero_label)\n",
    "_, ulcer_idxs = k_fold_idx(n_fold = n_g, dataset = ulcer_label)\n",
    "_, str_idxs = k_fold_idx(n_fold = n_g, dataset = str_label)"
   ]
  },
  {
   "cell_type": "code",
   "execution_count": 77,
   "metadata": {
    "ExecuteTime": {
     "end_time": "2020-01-10T04:33:52.933514Z",
     "start_time": "2020-01-10T04:33:52.913429Z"
    },
    "scrolled": false
   },
   "outputs": [],
   "source": [
    "from sklearn.metrics import roc_curve, auc\n",
    "\n",
    "e_aucs, b_aucs = [], []\n",
    "\n",
    "for n_idx, r_idx, an_idx, ac_idx, e_idx, u_idx, s_idx in zip(neg2_idxs, redspot_idxs, angio_idxs, active_idxs,\n",
    "                                                               ero_idxs, ulcer_idxs, str_idxs):\n",
    "    \n",
    "    b_outputs = np.vstack([neg2_b_output[n_idx], redspot_b_output[r_idx], angio_b_output[an_idx], active_b_output[ac_idx], \n",
    "                           ero_b_output[e_idx], ulcer_b_output[u_idx], str_b_output[s_idx]])\n",
    "    e_outputs = np.vstack([neg2_e_output[n_idx], redspot_e_output[r_idx], angio_e_output[an_idx], active_e_output[ac_idx], \n",
    "                           ero_e_output[e_idx], ulcer_e_output[u_idx], str_e_output[s_idx]])\n",
    "    labels = np.vstack([neg2_label[n_idx], redspot_label[r_idx], angio_label[an_idx], active_label[ac_idx], \n",
    "                        ero_label[e_idx], ulcer_label[u_idx], str_label[s_idx]])\n",
    "    e_fpr, e_tpr, thresholds = roc_curve(labels[:, 1], e_outputs[:,1])\n",
    "    b_fpr, b_tpr, thresholds = roc_curve(labels[:, 1], b_outputs[:,1])\n",
    "    e_aucs.append(auc(e_fpr, e_tpr))\n",
    "    b_aucs.append(auc(b_fpr, b_tpr))"
   ]
  },
  {
   "cell_type": "code",
   "execution_count": 78,
   "metadata": {
    "ExecuteTime": {
     "end_time": "2020-01-10T04:33:53.415236Z",
     "start_time": "2020-01-10T04:33:52.936594Z"
    }
   },
   "outputs": [
    {
     "name": "stderr",
     "output_type": "stream",
     "text": [
      "/usr/local/lib/python3.5/dist-packages/matplotlib/cbook/__init__.py:424: MatplotlibDeprecationWarning: \n",
      "Passing one of 'on', 'true', 'off', 'false' as a boolean is deprecated; use an actual boolean (True/False) instead.\n",
      "  warn_deprecated(\"2.2\", \"Passing one of 'on', 'true', 'off', 'false' as a \"\n"
     ]
    },
    {
     "data": {
      "image/png": "[encoded data removed]",
      "text/plain": [
       "<Figure size 720x576 with 1 Axes>"
      ]
     },
     "metadata": {
      "needs_background": "light"
     },
     "output_type": "display_data"
    },
    {
     "data": {
      "image/png": "[encoded data removed]",
      "text/plain": [
       "<Figure size 720x576 with 1 Axes>"
      ]
     },
     "metadata": {
      "needs_background": "light"
     },
     "output_type": "display_data"
    }
   ],
   "source": [
    "e_auc_m, e_auc_l, e_auc_u = conf_interval(e_aucs, mode = 'value')\n",
    "b_auc_m, b_auc_l, b_auc_u = conf_interval(b_aucs, mode = 'value')\n",
    "\n",
    "b_outputs = np.vstack([neg_b_output, redspot_b_output, angio_b_output, active_b_output, ero_b_output, ulcer_b_output, str_b_output])\n",
    "e_outputs = np.vstack([neg_e_output, redspot_e_output, angio_e_output, active_e_output, ero_e_output, ulcer_e_output, str_e_output])\n",
    "labels = np.vstack([neg_label, redspot_label, angio_label, active_label, ero_label, ulcer_label, str_label])\n",
    "\n",
    "e_fpr, e_tpr, thresholds = roc_curve(labels[:, 1], e_outputs[:,1])\n",
    "b_fpr, b_tpr, thresholds = roc_curve(labels[:, 1], b_outputs[:,1])\n",
    "\n",
    "fig = plt.figure(figsize=(10, 8))\n",
    "plt.plot(e_fpr, e_tpr, 'r-', label=\"Ensemble model, AUC: {:.4f} ({:.4f}~{:.4f}), 95 % CI\".format(e_auc_m, e_auc_l, e_auc_u))\n",
    "plt.plot(b_fpr, b_tpr, 'k-', label=\"Binary model, AUC: {:.4f} ({:.4f}~{:.4f}), 95 % CI\".format(b_auc_m, b_auc_l, b_auc_u))\n",
    "plt.xlabel('1 - Specificity', fontsize = 15)\n",
    "plt.ylabel('Sensitivity', fontsize = 15)\n",
    "plt.legend(fontsize = 12)\n",
    "plt.grid('on')\n",
    "fig.show()\n",
    "\n",
    "fig = plt.figure(figsize=(10, 8))\n",
    "plt.plot(e_fpr, e_tpr, 'r-', label=\"Ensemble model\")\n",
    "plt.plot(b_fpr, b_tpr, 'k-', label=\"Binary model\")\n",
    "plt.xlim([0.0, 0.1])\n",
    "plt.ylim([0.9, 1.0])\n",
    "plt.legend(fontsize = 20, loc = 4)\n",
    "fig.show()"
   ]
  },
  {
   "cell_type": "markdown",
   "metadata": {},
   "source": [
    "## Statistics"
   ]
  },
  {
   "cell_type": "markdown",
   "metadata": {},
   "source": [
    "![image](http://mblogthumb3.phinf.naver.net/20121114_106/istech7_1352875002440GYyqh_PNG/%B5%CE%C1%FD%B4%DC%C2%F7%C0%CC_%B0%CB%C1%A4%B9%E6%B9%FD%C8%E5%B8%A7%B5%B5.png?type=w2)\n",
    "\n",
    "![image](https://t1.daumcdn.net/cfile/tistory/2743524658F2520C2A)\n",
    "\n",
    "https://img1.daumcdn.net/thumb/R800x0/?scode=mtistory2&fname=https%3A%2F%2Ft1.daumcdn.net%2Fcfile%2Ftistory%2F1378B94E4F9C187F23"
   ]
  },
  {
   "cell_type": "code",
   "execution_count": 79,
   "metadata": {
    "ExecuteTime": {
     "end_time": "2020-01-10T04:33:53.449324Z",
     "start_time": "2020-01-10T04:33:53.417161Z"
    }
   },
   "outputs": [
    {
     "name": "stdout",
     "output_type": "stream",
     "text": [
      "(909, 2)\n",
      "(908, 2)\n",
      "(906, 2)\n",
      "(905, 2)\n",
      "(905, 2)\n",
      "(903, 2)\n",
      "(902, 2)\n",
      "(902, 2)\n",
      "(902, 2)\n",
      "(902, 2)\n"
     ]
    }
   ],
   "source": [
    "e_CM, b_CM = [], []\n",
    "\n",
    "for n_idx, r_idx, an_idx, ac_idx, e_idx, u_idx, s_idx in zip(neg2_idxs, redspot_idxs, angio_idxs, active_idxs,\n",
    "                                                               ero_idxs, ulcer_idxs, str_idxs):\n",
    "    \n",
    "    b_outputs = np.vstack([neg2_b_output[n_idx], redspot_b_output[r_idx], angio_b_output[an_idx], active_b_output[ac_idx], \n",
    "                           ero_b_output[e_idx], ulcer_b_output[u_idx], str_b_output[s_idx]])\n",
    "    e_outputs = np.vstack([neg2_e_output[n_idx], redspot_e_output[r_idx], angio_e_output[an_idx], active_e_output[ac_idx], \n",
    "                           ero_e_output[e_idx], ulcer_e_output[u_idx], str_e_output[s_idx]])\n",
    "    labels = np.vstack([neg2_label[n_idx], redspot_label[r_idx], angio_label[an_idx], active_label[ac_idx], \n",
    "                        ero_label[e_idx], ulcer_label[u_idx], str_label[s_idx]])\n",
    "    print(labels.shape)\n",
    "    e_CM.append(cls.con_mat(labels, e_outputs)), b_CM.append(cls.con_mat(labels, b_outputs))"
   ]
  },
  {
   "cell_type": "code",
   "execution_count": 80,
   "metadata": {
    "ExecuteTime": {
     "end_time": "2020-01-10T04:33:53.455882Z",
     "start_time": "2020-01-10T04:33:53.451096Z"
    }
   },
   "outputs": [],
   "source": [
    "b_metrices = []\n",
    "e_metrices = []\n",
    "\n",
    "for e_cm, b_cm in zip(e_CM, b_CM):\n",
    "    b_metrices.append(cls.cm2metric(b_cm))\n",
    "    e_metrices.append(cls.cm2metric(e_cm))\n",
    "    \n",
    "b_metrices = np.asarray(b_metrices)\n",
    "e_metrices = np.asarray(e_metrices)"
   ]
  },
  {
   "cell_type": "code",
   "execution_count": 81,
   "metadata": {
    "ExecuteTime": {
     "end_time": "2020-01-10T04:33:53.461822Z",
     "start_time": "2020-01-10T04:33:53.457754Z"
    }
   },
   "outputs": [
    {
     "data": {
      "text/plain": [
       "array([[0.9559956 , 0.92982456, 0.98233996, 0.93291405, 0.98148148],\n",
       "       [0.95154185, 0.92527473, 0.97792494, 0.92872117, 0.97679814],\n",
       "       [0.95584989, 0.92951542, 0.98230088, 0.93277311, 0.98139535],\n",
       "       [0.95801105, 0.93377483, 0.98230088, 0.93670886, 0.98143852],\n",
       "       [0.95690608, 0.92935982, 0.98451327, 0.93291405, 0.98364486],\n",
       "       [0.95791805, 0.94235033, 0.97345133, 0.94420601, 0.97254005],\n",
       "       [0.96341463, 0.94444444, 0.98230088, 0.9466951 , 0.98152425],\n",
       "       [0.95343681, 0.93333333, 0.97345133, 0.93617021, 0.97222222],\n",
       "       [0.93237251, 0.88666667, 0.97787611, 0.89655172, 0.97555012],\n",
       "       [0.94789357, 0.92444444, 0.97123894, 0.92811839, 0.96969697]])"
      ]
     },
     "execution_count": 81,
     "metadata": {},
     "output_type": "execute_result"
    }
   ],
   "source": [
    "b_metrices"
   ]
  },
  {
   "cell_type": "code",
   "execution_count": 82,
   "metadata": {
    "ExecuteTime": {
     "end_time": "2020-01-10T04:33:53.467542Z",
     "start_time": "2020-01-10T04:33:53.463478Z"
    }
   },
   "outputs": [
    {
     "data": {
      "text/plain": [
       "array([[0.97029703, 0.97807018, 0.96247241, 0.97757848, 0.96328294],\n",
       "       [0.96035242, 0.95384615, 0.96688742, 0.95424837, 0.96659243],\n",
       "       [0.97130243, 0.969163  , 0.97345133, 0.969163  , 0.97345133],\n",
       "       [0.96353591, 0.95364238, 0.97345133, 0.95444685, 0.97297297],\n",
       "       [0.96243094, 0.96467991, 0.96017699, 0.96444444, 0.96043956],\n",
       "       [0.96124031, 0.96674058, 0.95575221, 0.96644295, 0.95614035],\n",
       "       [0.97117517, 0.97333333, 0.96902655, 0.97333333, 0.96902655],\n",
       "       [0.96452328, 0.96444444, 0.96460177, 0.96460177, 0.96444444],\n",
       "       [0.94567627, 0.92888889, 0.96238938, 0.93147752, 0.96091954],\n",
       "       [0.9578714 , 0.95777778, 0.9579646 , 0.9579646 , 0.95777778]])"
      ]
     },
     "execution_count": 82,
     "metadata": {},
     "output_type": "execute_result"
    }
   ],
   "source": [
    "e_metrices"
   ]
  },
  {
   "cell_type": "code",
   "execution_count": 83,
   "metadata": {
    "ExecuteTime": {
     "end_time": "2020-01-10T04:33:53.482495Z",
     "start_time": "2020-01-10T04:33:53.469258Z"
    }
   },
   "outputs": [
    {
     "name": "stdout",
     "output_type": "stream",
     "text": [
      "95 % CI\n",
      "\n",
      "Binary model\n",
      "Accr --- 95.33 (94.73 ~ 95.94)\n",
      "Sen --- 92.79 (91.65 ~ 93.93)\n",
      "Spec --- 97.88 (97.54 ~ 98.21)\n",
      "NPV --- 93.16 (92.18 ~ 94.14)\n",
      "PPV --- 97.76 (97.41 ~ 98.11)\n",
      "\n",
      "Ensemble model\n",
      "Accr --- 96.28 (95.74 ~ 96.83)\n",
      "Sen --- 96.11 (95.12 ~ 97.09)\n",
      "Spec --- 96.46 (96.03 ~ 96.90)\n",
      "NPV --- 96.14 (95.21 ~ 97.07)\n",
      "PPV --- 96.45 (96.02 ~ 96.88)\n"
     ]
    }
   ],
   "source": [
    "print(\"95 % CI\\n\")\n",
    "\n",
    "print('Binary model')\n",
    "conf_interval(100*b_metrices[:, 0], mode = 'print', metric = 'Accr')\n",
    "conf_interval(100*b_metrices[:, 1], mode = 'print', metric = 'Sen')\n",
    "conf_interval(100*b_metrices[:, 2], mode = 'print', metric = 'Spec')\n",
    "conf_interval(100*b_metrices[:, 3], mode = 'print', metric = 'NPV')\n",
    "conf_interval(100*b_metrices[:, 4], mode = 'print', metric = 'PPV')\n",
    "print('')\n",
    "print('Ensemble model')\n",
    "conf_interval(100*e_metrices[:, 0], mode = 'print', metric = 'Accr')\n",
    "conf_interval(100*e_metrices[:, 1], mode = 'print', metric = 'Sen')\n",
    "conf_interval(100*e_metrices[:, 2], mode = 'print', metric = 'Spec')\n",
    "conf_interval(100*e_metrices[:, 3], mode = 'print', metric = 'NPV')\n",
    "conf_interval(100*e_metrices[:, 4], mode = 'print', metric = 'PPV')"
   ]
  },
  {
   "cell_type": "markdown",
   "metadata": {},
   "source": [
    "### Equal-Variance Test"
   ]
  },
  {
   "cell_type": "code",
   "execution_count": 84,
   "metadata": {
    "ExecuteTime": {
     "end_time": "2020-01-10T04:33:53.504187Z",
     "start_time": "2020-01-10T04:33:53.486066Z"
    }
   },
   "outputs": [
    {
     "name": "stdout",
     "output_type": "stream",
     "text": [
      "bartlett test for accuracy: 0.082, pvalue=0.774398477253\n",
      "bartlett test for sensitivity: 0.169, pvalue=0.681068134647\n",
      "bartlett test for specificity: 0.569, pvalue=0.450603302773\n",
      "bartlett test for negative predictive values: 0.024, pvalue=0.875777684246\n",
      "bartlett test for positive predictive values: 0.326, pvalue=0.568104065227\n"
     ]
    }
   ],
   "source": [
    "from scipy.stats import bartlett\n",
    "\n",
    "accr_stats = bartlett(100*b_metrices[:, 0], 100*e_metrices[:, 0])\n",
    "sens_stats = bartlett(100*b_metrices[:, 1], 100*e_metrices[:, 1])\n",
    "spec_stats = bartlett(100*b_metrices[:, 2], 100*e_metrices[:, 2])\n",
    "npv_stats = bartlett(100*b_metrices[:, 3], 100*e_metrices[:, 3])\n",
    "ppv_stats = bartlett(100*b_metrices[:, 4], 100*e_metrices[:, 4])\n",
    "\n",
    "print(\"bartlett test for accuracy: {:.3f}, pvalue={:.12f}\".format(accr_stats[0], accr_stats[1]))\n",
    "print(\"bartlett test for sensitivity: {:.3f}, pvalue={:.12f}\".format(sens_stats[0], sens_stats[1]))\n",
    "print(\"bartlett test for specificity: {:.3f}, pvalue={:.12f}\".format(spec_stats[0], spec_stats[1]))\n",
    "print(\"bartlett test for negative predictive values: {:.3f}, pvalue={:.12f}\".format(npv_stats[0], npv_stats[1]))\n",
    "print(\"bartlett test for positive predictive values: {:.3f}, pvalue={:.12f}\".format(ppv_stats[0], ppv_stats[1]))"
   ]
  },
  {
   "cell_type": "code",
   "execution_count": 85,
   "metadata": {
    "ExecuteTime": {
     "end_time": "2020-01-10T04:33:53.520181Z",
     "start_time": "2020-01-10T04:33:53.506671Z"
    }
   },
   "outputs": [
    {
     "name": "stdout",
     "output_type": "stream",
     "text": [
      "levene test for accuracy: 0.006, pvalue=0.940178461841\n",
      "levene test for sensitivity: 0.009, pvalue=0.926476579561\n",
      "levene test for specificity: 0.427, pvalue=0.521810470864\n",
      "levene test for negative predictive values: 0.056, pvalue=0.816411280080\n",
      "levene test for positive predictive values: 0.161, pvalue=0.693251854843\n"
     ]
    }
   ],
   "source": [
    "from scipy.stats import levene\n",
    "\n",
    "accr_stats = levene(100*b_metrices[:, 0], 100*e_metrices[:, 0])\n",
    "sens_stats = levene(100*b_metrices[:, 1], 100*e_metrices[:, 1])\n",
    "spec_stats = levene(100*b_metrices[:, 2], 100*e_metrices[:, 2])\n",
    "npv_stats = levene(100*b_metrices[:, 3], 100*e_metrices[:, 3])\n",
    "ppv_stats = levene(100*b_metrices[:, 4], 100*e_metrices[:, 4])\n",
    "\n",
    "print(\"levene test for accuracy: {:.3f}, pvalue={:.12f}\".format(accr_stats[0], accr_stats[1]))\n",
    "print(\"levene test for sensitivity: {:.3f}, pvalue={:.12f}\".format(sens_stats[0], sens_stats[1]))\n",
    "print(\"levene test for specificity: {:.3f}, pvalue={:.12f}\".format(spec_stats[0], spec_stats[1]))\n",
    "print(\"levene test for negative predictive values: {:.3f}, pvalue={:.12f}\".format(npv_stats[0], npv_stats[1]))\n",
    "print(\"levene test for positive predictive values: {:.3f}, pvalue={:.12f}\".format(ppv_stats[0], ppv_stats[1]))"
   ]
  },
  {
   "cell_type": "markdown",
   "metadata": {},
   "source": [
    "### Normality Test"
   ]
  },
  {
   "cell_type": "code",
   "execution_count": 86,
   "metadata": {
    "ExecuteTime": {
     "end_time": "2020-01-10T04:33:53.532016Z",
     "start_time": "2020-01-10T04:33:53.522223Z"
    }
   },
   "outputs": [
    {
     "name": "stdout",
     "output_type": "stream",
     "text": [
      "Kolmogorov-Smirnov test for accuracy: 0.700, pvalue=0.012340600576\n",
      "Kolmogorov-Smirnov test for sensitivity: 0.900, pvalue=0.000216501764\n",
      "Kolmogorov-Smirnov test for specificity: 0.800, pvalue=0.002056766763\n",
      "Kolmogorov-Smirnov test for negative predictive values: 0.900, pvalue=0.000216501764\n",
      "Kolmogorov-Smirnov test for positive predictive values: 0.800, pvalue=0.002056766763\n"
     ]
    }
   ],
   "source": [
    "from scipy.stats import ks_2samp\n",
    "\n",
    "accr_stats = ks_2samp(100*b_metrices[:, 0], 100*e_metrices[:, 0])\n",
    "sens_stats = ks_2samp(100*b_metrices[:, 1], 100*e_metrices[:, 1])\n",
    "spec_stats = ks_2samp(100*b_metrices[:, 2], 100*e_metrices[:, 2])\n",
    "npv_stats = ks_2samp(100*b_metrices[:, 3], 100*e_metrices[:, 3])\n",
    "ppv_stats = ks_2samp(100*b_metrices[:, 4], 100*e_metrices[:, 4])\n",
    "\n",
    "print(\"Kolmogorov-Smirnov test for accuracy: {:.3f}, pvalue={:.12f}\".format(accr_stats[0], accr_stats[1]))\n",
    "print(\"Kolmogorov-Smirnov test for sensitivity: {:.3f}, pvalue={:.12f}\".format(sens_stats[0], sens_stats[1]))\n",
    "print(\"Kolmogorov-Smirnov test for specificity: {:.3f}, pvalue={:.12f}\".format(spec_stats[0], spec_stats[1]))\n",
    "print(\"Kolmogorov-Smirnov test for negative predictive values: {:.3f}, pvalue={:.12f}\".format(npv_stats[0], npv_stats[1]))\n",
    "print(\"Kolmogorov-Smirnov test for positive predictive values: {:.3f}, pvalue={:.12f}\".format(ppv_stats[0], ppv_stats[1]))"
   ]
  },
  {
   "cell_type": "markdown",
   "metadata": {},
   "source": [
    "### Wilcoxon signed-ranks test (not normal and paired group)"
   ]
  },
  {
   "cell_type": "code",
   "execution_count": 87,
   "metadata": {
    "ExecuteTime": {
     "end_time": "2020-01-10T04:33:53.544651Z",
     "start_time": "2020-01-10T04:33:53.533955Z"
    }
   },
   "outputs": [
    {
     "name": "stdout",
     "output_type": "stream",
     "text": [
      "wilcoxon signed-ranks test for accuracy: 0.000, pvalue=0.005033508201\n",
      "wilcoxon signed-ranks test for sensitivity: 0.000, pvalue=0.005062032126\n",
      "wilcoxon signed-ranks test for specificity: 0.000, pvalue=0.004920313984\n",
      "wilcoxon signed-ranks test for negative predictive values: 0.000, pvalue=0.005062032126\n",
      "wilcoxon signed-ranks test for positive predictive values: 0.000, pvalue=0.005062032126\n"
     ]
    }
   ],
   "source": [
    "from scipy.stats import wilcoxon\n",
    "\n",
    "accr_stats = wilcoxon(100*b_metrices[:, 0], 100*e_metrices[:, 0])\n",
    "sens_stats = wilcoxon(100*b_metrices[:, 1], 100*e_metrices[:, 1])\n",
    "spec_stats = wilcoxon(100*b_metrices[:, 2], 100*e_metrices[:, 2])\n",
    "npv_stats = wilcoxon(100*b_metrices[:, 3], 100*e_metrices[:, 3])\n",
    "ppv_stats = wilcoxon(100*b_metrices[:, 4], 100*e_metrices[:, 4])\n",
    "\n",
    "print(\"wilcoxon signed-ranks test for accuracy: {:.3f}, pvalue={:.12f}\".format(accr_stats[0], accr_stats[1]))\n",
    "print(\"wilcoxon signed-ranks test for sensitivity: {:.3f}, pvalue={:.12f}\".format(sens_stats[0], sens_stats[1]))\n",
    "print(\"wilcoxon signed-ranks test for specificity: {:.3f}, pvalue={:.12f}\".format(spec_stats[0], spec_stats[1]))\n",
    "print(\"wilcoxon signed-ranks test for negative predictive values: {:.3f}, pvalue={:.12f}\".format(npv_stats[0], npv_stats[1]))\n",
    "print(\"wilcoxon signed-ranks test for positive predictive values: {:.3f}, pvalue={:.12f}\".format(ppv_stats[0], ppv_stats[1]))"
   ]
  },
  {
   "cell_type": "markdown",
   "metadata": {},
   "source": [
    "### Paired two-sample t-Test (normal and paired group)"
   ]
  },
  {
   "cell_type": "code",
   "execution_count": 88,
   "metadata": {
    "ExecuteTime": {
     "end_time": "2020-01-10T04:33:53.555523Z",
     "start_time": "2020-01-10T04:33:53.546327Z"
    }
   },
   "outputs": [
    {
     "name": "stdout",
     "output_type": "stream",
     "text": [
      "t-statistics for accuracy: -7.389, pvalue=0.000041508778\n",
      "t-statistics for sensitivity: -12.305, pvalue=0.000000621560\n",
      "t-statistics for specificity: 8.554, pvalue=0.000012910384\n",
      "t-statistics for negative predictive values: -12.318, pvalue=0.000000615916\n",
      "t-statistics for positive predictive values: 8.248, pvalue=0.000017323716\n"
     ]
    }
   ],
   "source": [
    "from scipy.stats import ttest_rel\n",
    "\n",
    "accr_stats = ttest_rel(100*b_metrices[:, 0], 100*e_metrices[:, 0])\n",
    "sens_stats = ttest_rel(100*b_metrices[:, 1], 100*e_metrices[:, 1])\n",
    "spec_stats = ttest_rel(100*b_metrices[:, 2], 100*e_metrices[:, 2])\n",
    "npv_stats = ttest_rel(100*b_metrices[:, 3], 100*e_metrices[:, 3])\n",
    "ppv_stats = ttest_rel(100*b_metrices[:, 4], 100*e_metrices[:, 4])\n",
    "\n",
    "print(\"t-statistics for accuracy: {:.3f}, pvalue={:.12f}\".format(accr_stats[0], accr_stats[1]))\n",
    "print(\"t-statistics for sensitivity: {:.3f}, pvalue={:.12f}\".format(sens_stats[0], sens_stats[1]))\n",
    "print(\"t-statistics for specificity: {:.3f}, pvalue={:.12f}\".format(spec_stats[0], spec_stats[1]))\n",
    "print(\"t-statistics for negative predictive values: {:.3f}, pvalue={:.12f}\".format(npv_stats[0], npv_stats[1]))\n",
    "print(\"t-statistics for positive predictive values: {:.3f}, pvalue={:.12f}\".format(ppv_stats[0], ppv_stats[1]))"
   ]
  },
  {
   "cell_type": "code",
   "execution_count": 89,
   "metadata": {
    "ExecuteTime": {
     "end_time": "2020-01-10T04:33:54.275498Z",
     "start_time": "2020-01-10T04:33:53.558994Z"
    }
   },
   "outputs": [
    {
     "data": {
      "image/png": "[encoded data removed]",
      "text/plain": [
       "<Figure size 1440x216 with 5 Axes>"
      ]
     },
     "metadata": {
      "needs_background": "light"
     },
     "output_type": "display_data"
    }
   ],
   "source": [
    "## Distribution by metric\n",
    "\n",
    "import seaborn as sns\n",
    "\n",
    "fig, axes = plt.subplots(ncols = 5)\n",
    "fig.set_size_inches(20, 3)\n",
    "\n",
    "sns.set_style({'axes.grid' : True})\n",
    "\n",
    "sns.distplot(b_metrices[:, 0], color='k', ax = axes[0])\n",
    "sns.distplot(e_metrices[:, 0], color='r', ax = axes[0])\n",
    "sns.distplot(b_metrices[:, 1], color='k', ax = axes[1])\n",
    "sns.distplot(e_metrices[:, 1], color='r', ax = axes[1])\n",
    "sns.distplot(b_metrices[:, 2], color='k', ax = axes[2])\n",
    "sns.distplot(e_metrices[:, 2], color='r', ax = axes[2])\n",
    "sns.distplot(b_metrices[:, 3], color='k', ax = axes[3])\n",
    "sns.distplot(e_metrices[:, 3], color='r', ax = axes[3])\n",
    "sns.distplot(b_metrices[:, 4], color='k', ax = axes[4])\n",
    "sns.distplot(e_metrices[:, 4], color='r', ax = axes[4])\n",
    "\n",
    "fig.show()"
   ]
  }
 ],
 "metadata": {
  "hide_input": false,
  "kernelspec": {
   "display_name": "Python 3",
   "language": "python",
   "name": "python3"
  },
  "language_info": {
   "codemirror_mode": {
    "name": "ipython",
    "version": 3
   },
   "file_extension": ".py",
   "mimetype": "text/x-python",
   "name": "python",
   "nbconvert_exporter": "python",
   "pygments_lexer": "ipython3",
   "version": "3.5.2"
  },
  "toc": {
   "base_numbering": 1,
   "nav_menu": {},
   "number_sections": true,
   "sideBar": true,
   "skip_h1_title": false,
   "title_cell": "Table of Contents",
   "title_sidebar": "Contents",
   "toc_cell": false,
   "toc_position": {},
   "toc_section_display": true,
   "toc_window_display": false
  }
 },
 "nbformat": 4,
 "nbformat_minor": 2
}
