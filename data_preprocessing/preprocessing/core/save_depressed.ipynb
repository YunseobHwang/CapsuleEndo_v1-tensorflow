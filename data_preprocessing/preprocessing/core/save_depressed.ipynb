{
 "cells": [
  {
   "cell_type": "code",
   "execution_count": 14,
   "metadata": {},
   "outputs": [],
   "source": [
    "# GPU setting\n",
    "import os\n",
    "os.environ[\"CUDA_DEVICE_ORDER\"]=\"PCI_BUS_ID\"\n",
    "os.environ[\"CUDA_VISIBLE_DEVICES\"]=\"1\"\n",
    "\n",
    "# modules setting\n",
    "import os\n",
    "import numpy as np\n",
    "import glob\n",
    "import matplotlib.pyplot as plt\n",
    "import matplotlib.image as mpimg\n",
    "import cv2"
   ]
  },
  {
   "cell_type": "markdown",
   "metadata": {},
   "source": [
    "# Import _Entire Erosion_"
   ]
  },
  {
   "cell_type": "code",
   "execution_count": 3,
   "metadata": {},
   "outputs": [
    {
     "name": "stdout",
     "output_type": "stream",
     "text": [
      "# Images = 922\n"
     ]
    }
   ],
   "source": [
    "dir_default = '/mnt/disk1/project/public/SMhospital/ChoongChoong/dataset/pre_p2_3/depressed/'\n",
    "lesion = 'erosion'\n",
    "dir_data = dir_default + lesion + '/'\n",
    "data_file = os.listdir(dir_data)\n",
    "print('# Images = {}'.format(len(data_file)))\n",
    "\n",
    "data_x = []\n",
    "for i in data_file:\n",
    "    temp = cv2.imread(dir_data + i)\n",
    "    data_x.append([i, temp])"
   ]
  },
  {
   "cell_type": "markdown",
   "metadata": {},
   "source": [
    "# Import _Erosion.txt_"
   ]
  },
  {
   "cell_type": "code",
   "execution_count": 28,
   "metadata": {},
   "outputs": [],
   "source": [
    "erosion_idx = []\n",
    "with open('core_erosion.txt') as inputfile:\n",
    "    for line in inputfile:\n",
    "        erosion_idx.append(line.strip().split(','))\n",
    "\n",
    "erosion_idx = erosion_idx[0][:-1]\n",
    "erosion_idx = [int(x) for x in erosion_idx]"
   ]
  },
  {
   "cell_type": "markdown",
   "metadata": {},
   "source": [
    "# Save _Core Erosion (485)_"
   ]
  },
  {
   "cell_type": "code",
   "execution_count": 27,
   "metadata": {},
   "outputs": [],
   "source": [
    "dir_default_core = '/mnt/disk1/project/public/SMhospital/ChoongChoong/dataset/core_pre_p2_3/depressed/'\n",
    "lesion = 'erosion'\n",
    "dir_data_core = dir_default_core + lesion + '/'\n",
    "\n",
    "for i in erosion_idx:\n",
    "    cv2.imwrite(dir_data_core + data_x[i][0], data_x[i][1])"
   ]
  },
  {
   "cell_type": "markdown",
   "metadata": {},
   "source": [
    "# Import _Entire Ulcer_"
   ]
  },
  {
   "cell_type": "code",
   "execution_count": 29,
   "metadata": {},
   "outputs": [
    {
     "name": "stdout",
     "output_type": "stream",
     "text": [
      "# Images = 915\n"
     ]
    }
   ],
   "source": [
    "dir_default = '/mnt/disk1/project/public/SMhospital/ChoongChoong/dataset/pre_p2_3/depressed/'\n",
    "lesion = 'ulcer'\n",
    "dir_data = dir_default + lesion + '/'\n",
    "data_file = os.listdir(dir_data)\n",
    "print('# Images = {}'.format(len(data_file)))\n",
    "\n",
    "data_x = []\n",
    "for i in data_file:\n",
    "    temp = cv2.imread(dir_data + i)\n",
    "    data_x.append([i, temp])"
   ]
  },
  {
   "cell_type": "code",
   "execution_count": 33,
   "metadata": {},
   "outputs": [
    {
     "name": "stdout",
     "output_type": "stream",
     "text": [
      "[['1', '4', '5', '6', '10', '22', '24', '27', '28', '29', '31', '32', '34', '37', '38', '43', '44', '45', '46', '47', '49', '57', '59', '61', '62', '63', '64', '65', '67', '72', '78', '79', '82', '86', '88', '89', '90', '93', '95', '98', '103', '104', '105', '110', '111', '113', '114', '115', '117', '119', '120', '124', '125', '126', '128', '130', '131', '134', '135', '138', '139', '142', '144', '145', '146', '148', '149', '150', '156', '158', '160', '161', '162', '163', '164', '166', '167', '168', '170', '171', '173', '175', '176', '181', '184', '185', '186', '188', '190', '191', '193', '194', '195', '197', '199', '203', '206', '208', '211', '212', '213', '215', '216', '218', '220', '222', '228', '229', '234', '235', '240', '242', '246', '247', '251', '252', '253', '254', '255', '256', '258', '259', '261', '264', '265', '266', '267', '268', '270', '271', '273', '274', '277', '284', '287', '289', '291', '292', '293', '295', '296', '297', '298', '299', '300', '301', '304', '305', '307', '308', '309', '310', '312', '314', '317', '318', '321', '323', '328', '329', '331', '335', '336', '338', '340', '342', '348', '351', '354', '358', '359', '360', '362', '364', '366', '367', '368', '372', '377', '381', '382', '383', '384', '385', '386', '388', '390', '393', '394', '395', '398', '399', '400', '405', '406', '408', '409', '413', '414', '415', '416', '418', '421', '423', '424', '427', '428', '430', '431', '432', '433', '435', '436', '438', '439', '441', '442', '443', '444', '445', '446', '448', '449', '450', '451', '452', '453', '455', '456', '459', '461', '462', '463', '464', '465', '467', '468', '469', '471', '472', '473', '474', '475', '476', '477', '481', '483', '487', '488', '491', '492', '494', '498', '501', '503', '506', '507', '508', '510', '513', '517', '518', '522', '523', '525', '526', '530', '531', '534', '535', '536', '540', '542', '543', '546', '549', '550', '551', '552', '553', '554', '556', '562', '564', '569', '571', '572', '573', '579', '580', '583', '584', '588', '590', '591', '592', '596', '602', '603', '605', '607', '610', '612', '621', '622', '623', '624', '625', '626', '627', '628', '632', '635', '636', '638', '639', '640', '642', '643', '644', '645', '646', '647', '648', '649', '650', '651', '653', '655', '656', '657', '658', '659', '661', '662', '663', '665', '667', '670', '674', '675', '677', '679', '682', '683', '686', '688', '689', '694', '696', '698', '699', '704', '705', '706', '708', '709', '711', '712', '713', '715', '716', '717', '718', '719', '723', '724', '725', '728', '729', '731', '732', '735', '736', '739', '742', '743', '744', '745', '746', '750', '751', '752', '753', '754', '756', '758', '760', '765', '767', '768', '769', '771', '773', '775', '776', '777', '781', '782', '783', '784', '785', '788', '789', '791', '792', '793', '794', '797', '798', '800', '801', '803', '806', '809', '812', '813', '816', '817', '818', '819', '820', '821', '823', '828', '829', '830', '832', '836', '838', '840', '844', '845', '847', '848', '849', '854', '861', '862', '863', '865', '867', '868', '869', '870', '875', '877', '878', '879', '881', '882', '884', '885', '890', '892', '893', '895', '898', '899', '900', '901', '902', '903', '904', '905', '907', '909', '910', '911', '913', '914']]\n",
      "[1, 4, 5, 6, 10, 22, 24, 27, 28, 29, 31, 32, 34, 37, 38, 43, 44, 45, 46, 47, 49, 57, 59, 61, 62, 63, 64, 65, 67, 72, 78, 79, 82, 86, 88, 89, 90, 93, 95, 98, 103, 104, 105, 110, 111, 113, 114, 115, 117, 119, 120, 124, 125, 126, 128, 130, 131, 134, 135, 138, 139, 142, 144, 145, 146, 148, 149, 150, 156, 158, 160, 161, 162, 163, 164, 166, 167, 168, 170, 171, 173, 175, 176, 181, 184, 185, 186, 188, 190, 191, 193, 194, 195, 197, 199, 203, 206, 208, 211, 212, 213, 215, 216, 218, 220, 222, 228, 229, 234, 235, 240, 242, 246, 247, 251, 252, 253, 254, 255, 256, 258, 259, 261, 264, 265, 266, 267, 268, 270, 271, 273, 274, 277, 284, 287, 289, 291, 292, 293, 295, 296, 297, 298, 299, 300, 301, 304, 305, 307, 308, 309, 310, 312, 314, 317, 318, 321, 323, 328, 329, 331, 335, 336, 338, 340, 342, 348, 351, 354, 358, 359, 360, 362, 364, 366, 367, 368, 372, 377, 381, 382, 383, 384, 385, 386, 388, 390, 393, 394, 395, 398, 399, 400, 405, 406, 408, 409, 413, 414, 415, 416, 418, 421, 423, 424, 427, 428, 430, 431, 432, 433, 435, 436, 438, 439, 441, 442, 443, 444, 445, 446, 448, 449, 450, 451, 452, 453, 455, 456, 459, 461, 462, 463, 464, 465, 467, 468, 469, 471, 472, 473, 474, 475, 476, 477, 481, 483, 487, 488, 491, 492, 494, 498, 501, 503, 506, 507, 508, 510, 513, 517, 518, 522, 523, 525, 526, 530, 531, 534, 535, 536, 540, 542, 543, 546, 549, 550, 551, 552, 553, 554, 556, 562, 564, 569, 571, 572, 573, 579, 580, 583, 584, 588, 590, 591, 592, 596, 602, 603, 605, 607, 610, 612, 621, 622, 623, 624, 625, 626, 627, 628, 632, 635, 636, 638, 639, 640, 642, 643, 644, 645, 646, 647, 648, 649, 650, 651, 653, 655, 656, 657, 658, 659, 661, 662, 663, 665, 667, 670, 674, 675, 677, 679, 682, 683, 686, 688, 689, 694, 696, 698, 699, 704, 705, 706, 708, 709, 711, 712, 713, 715, 716, 717, 718, 719, 723, 724, 725, 728, 729, 731, 732, 735, 736, 739, 742, 743, 744, 745, 746, 750, 751, 752, 753, 754, 756, 758, 760, 765, 767, 768, 769, 771, 773, 775, 776, 777, 781, 782, 783, 784, 785, 788, 789, 791, 792, 793, 794, 797, 798, 800, 801, 803, 806, 809, 812, 813, 816, 817, 818, 819, 820, 821, 823, 828, 829, 830, 832, 836, 838, 840, 844, 845, 847, 848, 849, 854, 861, 862, 863, 865, 867, 868, 869, 870, 875, 877, 878, 879, 881, 882, 884, 885, 890, 892, 893, 895, 898, 899, 900, 901, 902, 903, 904, 905, 907, 909, 910, 911, 913, 914]\n"
     ]
    }
   ],
   "source": [
    "ulcer_idx = []\n",
    "with open('core_ulcer.txt') as inputfile:\n",
    "    for line in inputfile:\n",
    "        ulcer_idx.append(line.strip().split(','))\n",
    "\n",
    "print(ulcer_idx)\n",
    "ulcer_idx = ulcer_idx[0]\n",
    "ulcer_idx = [int(x) for x in ulcer_idx]\n",
    "print(ulcer_idx)"
   ]
  },
  {
   "cell_type": "markdown",
   "metadata": {},
   "source": [
    "# Save _Core Ulcer (471)_"
   ]
  },
  {
   "cell_type": "code",
   "execution_count": 34,
   "metadata": {},
   "outputs": [],
   "source": [
    "dir_default_core = '/mnt/disk1/project/public/SMhospital/ChoongChoong/dataset/core_pre_p2_3/depressed/'\n",
    "lesion = 'ulcer'\n",
    "dir_data_core = dir_default_core + lesion + '/'\n",
    "\n",
    "for i in ulcer_idx:\n",
    "    cv2.imwrite(dir_data_core + data_x[i][0], data_x[i][1])"
   ]
  },
  {
   "cell_type": "markdown",
   "metadata": {},
   "source": [
    "# Import _Entire Stricture_"
   ]
  },
  {
   "cell_type": "code",
   "execution_count": 35,
   "metadata": {},
   "outputs": [
    {
     "name": "stdout",
     "output_type": "stream",
     "text": [
      "# Images = 129\n"
     ]
    }
   ],
   "source": [
    "dir_default = '/mnt/disk1/project/public/SMhospital/ChoongChoong/dataset/pre_p2_3/depressed/'\n",
    "lesion = 'stricture'\n",
    "dir_data = dir_default + lesion + '/'\n",
    "data_file = os.listdir(dir_data)\n",
    "print('# Images = {}'.format(len(data_file)))\n",
    "\n",
    "data_x = []\n",
    "for i in data_file:\n",
    "    temp = cv2.imread(dir_data + i)\n",
    "    data_x.append([i, temp])"
   ]
  },
  {
   "cell_type": "code",
   "execution_count": 36,
   "metadata": {},
   "outputs": [
    {
     "name": "stdout",
     "output_type": "stream",
     "text": [
      "[['0', '1', '3', '4', '6', '8', '9', '11', '13', '15', '16', '22', '26', '31', '32', '33', '43', '45', '48', '55', '57', '58', '60', '64', '66', '72', '73', '76', '78', '79', '85', '88', '89', '96', '97', '98', '111', '114', '115', '120', '121', '123', '124', '126', '127', '128']]\n",
      "[0, 1, 3, 4, 6, 8, 9, 11, 13, 15, 16, 22, 26, 31, 32, 33, 43, 45, 48, 55, 57, 58, 60, 64, 66, 72, 73, 76, 78, 79, 85, 88, 89, 96, 97, 98, 111, 114, 115, 120, 121, 123, 124, 126, 127, 128]\n"
     ]
    }
   ],
   "source": [
    "stricture_idx = []\n",
    "with open('core_stricture.txt') as inputfile:\n",
    "    for line in inputfile:\n",
    "        stricture_idx.append(line.strip().split(','))\n",
    "\n",
    "print(stricture_idx)\n",
    "stricture_idx = stricture_idx[0]\n",
    "stricture_idx = [int(x) for x in stricture_idx]\n",
    "print(stricture_idx)"
   ]
  },
  {
   "cell_type": "markdown",
   "metadata": {},
   "source": [
    "# Save _Core Stricture (46)_"
   ]
  },
  {
   "cell_type": "code",
   "execution_count": 37,
   "metadata": {},
   "outputs": [],
   "source": [
    "dir_default_core = '/mnt/disk1/project/public/SMhospital/ChoongChoong/dataset/core_pre_p2_3/depressed/'\n",
    "lesion = 'stricture'\n",
    "dir_data_core = dir_default_core + lesion + '/'\n",
    "\n",
    "for i in stricture_idx:\n",
    "    cv2.imwrite(dir_data_core + data_x[i][0], data_x[i][1])"
   ]
  }
 ],
 "metadata": {
  "kernelspec": {
   "display_name": "Python 3",
   "language": "python",
   "name": "python3"
  },
  "language_info": {
   "codemirror_mode": {
    "name": "ipython",
    "version": 3
   },
   "file_extension": ".py",
   "mimetype": "text/x-python",
   "name": "python",
   "nbconvert_exporter": "python",
   "pygments_lexer": "ipython3",
   "version": "3.6.3"
  }
 },
 "nbformat": 4,
 "nbformat_minor": 2
}
