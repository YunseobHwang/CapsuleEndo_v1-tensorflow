{
 "cells": [
  {
   "cell_type": "code",
   "execution_count": 1,
   "metadata": {
    "ExecuteTime": {
     "end_time": "2020-01-22T01:54:36.336274Z",
     "start_time": "2020-01-22T01:54:36.062996Z"
    }
   },
   "outputs": [
    {
     "name": "stdout",
     "output_type": "stream",
     "text": [
      "Wed Jan 22 10:54:36 2020       \n",
      "+-----------------------------------------------------------------------------+\n",
      "| NVIDIA-SMI 430.26       Driver Version: 430.26       CUDA Version: 10.2     |\n",
      "|-------------------------------+----------------------+----------------------+\n",
      "| GPU  Name        Persistence-M| Bus-Id        Disp.A | Volatile Uncorr. ECC |\n",
      "| Fan  Temp  Perf  Pwr:Usage/Cap|         Memory-Usage | GPU-Util  Compute M. |\n",
      "|===============================+======================+======================|\n",
      "|   0  GeForce RTX 208...  Off  | 00000000:1D:00.0 Off |                  N/A |\n",
      "| 27%   27C    P8    13W / 250W |     10MiB / 11019MiB |      0%      Default |\n",
      "+-------------------------------+----------------------+----------------------+\n",
      "|   1  GeForce RTX 208...  Off  | 00000000:1E:00.0 Off |                  N/A |\n",
      "| 27%   25C    P8     4W / 250W |   6515MiB / 11019MiB |      0%      Default |\n",
      "+-------------------------------+----------------------+----------------------+\n",
      "|   2  GeForce RTX 208...  Off  | 00000000:1F:00.0 Off |                  N/A |\n",
      "| 27%   26C    P8    21W / 250W |   6325MiB / 11019MiB |      0%      Default |\n",
      "+-------------------------------+----------------------+----------------------+\n",
      "|   3  GeForce RTX 208...  Off  | 00000000:20:00.0 Off |                  N/A |\n",
      "| 27%   24C    P8    20W / 250W |     10MiB / 11019MiB |      0%      Default |\n",
      "+-------------------------------+----------------------+----------------------+\n",
      "|   4  GeForce RTX 208...  Off  | 00000000:21:00.0 Off |                  N/A |\n",
      "| 27%   27C    P8    26W / 250W |  10665MiB / 11019MiB |      0%      Default |\n",
      "+-------------------------------+----------------------+----------------------+\n",
      "|   5  GeForce RTX 208...  Off  | 00000000:22:00.0 Off |                  N/A |\n",
      "| 27%   25C    P8     6W / 250W |     10MiB / 11019MiB |      0%      Default |\n",
      "+-------------------------------+----------------------+----------------------+\n",
      "|   6  GeForce RTX 208...  Off  | 00000000:23:00.0 Off |                  N/A |\n",
      "| 27%   27C    P8    17W / 250W |     10MiB / 11019MiB |      0%      Default |\n",
      "+-------------------------------+----------------------+----------------------+\n",
      "|   7  GeForce RTX 208...  Off  | 00000000:24:00.0 Off |                  N/A |\n",
      "| 27%   27C    P8     1W / 250W |     10MiB / 11019MiB |      0%      Default |\n",
      "+-------------------------------+----------------------+----------------------+\n",
      "                                                                               \n",
      "+-----------------------------------------------------------------------------+\n",
      "| Processes:                                                       GPU Memory |\n",
      "|  GPU       PID   Type   Process name                             Usage      |\n",
      "|=============================================================================|\n",
      "|    1     17988      C   /usr/bin/python3                            6505MiB |\n",
      "|    2     18003      C   /usr/bin/python3                            6315MiB |\n",
      "|    4      9736      C   /usr/bin/python3                           10655MiB |\n",
      "+-----------------------------------------------------------------------------+\n"
     ]
    }
   ],
   "source": [
    "!nvidia-smi"
   ]
  },
  {
   "cell_type": "code",
   "execution_count": 2,
   "metadata": {
    "ExecuteTime": {
     "end_time": "2020-01-22T01:54:42.911591Z",
     "start_time": "2020-01-22T01:54:40.981494Z"
    },
    "scrolled": true
   },
   "outputs": [
    {
     "name": "stderr",
     "output_type": "stream",
     "text": [
      "/usr/local/lib/python3.5/dist-packages/tensorflow/python/framework/dtypes.py:516: FutureWarning: Passing (type, 1) or '1type' as a synonym of type is deprecated; in a future version of numpy, it will be understood as (type, (1,)) / '(1,)type'.\n",
      "  _np_qint8 = np.dtype([(\"qint8\", np.int8, 1)])\n",
      "/usr/local/lib/python3.5/dist-packages/tensorflow/python/framework/dtypes.py:517: FutureWarning: Passing (type, 1) or '1type' as a synonym of type is deprecated; in a future version of numpy, it will be understood as (type, (1,)) / '(1,)type'.\n",
      "  _np_quint8 = np.dtype([(\"quint8\", np.uint8, 1)])\n",
      "/usr/local/lib/python3.5/dist-packages/tensorflow/python/framework/dtypes.py:518: FutureWarning: Passing (type, 1) or '1type' as a synonym of type is deprecated; in a future version of numpy, it will be understood as (type, (1,)) / '(1,)type'.\n",
      "  _np_qint16 = np.dtype([(\"qint16\", np.int16, 1)])\n",
      "/usr/local/lib/python3.5/dist-packages/tensorflow/python/framework/dtypes.py:519: FutureWarning: Passing (type, 1) or '1type' as a synonym of type is deprecated; in a future version of numpy, it will be understood as (type, (1,)) / '(1,)type'.\n",
      "  _np_quint16 = np.dtype([(\"quint16\", np.uint16, 1)])\n",
      "/usr/local/lib/python3.5/dist-packages/tensorflow/python/framework/dtypes.py:520: FutureWarning: Passing (type, 1) or '1type' as a synonym of type is deprecated; in a future version of numpy, it will be understood as (type, (1,)) / '(1,)type'.\n",
      "  _np_qint32 = np.dtype([(\"qint32\", np.int32, 1)])\n",
      "/usr/local/lib/python3.5/dist-packages/tensorflow/python/framework/dtypes.py:525: FutureWarning: Passing (type, 1) or '1type' as a synonym of type is deprecated; in a future version of numpy, it will be understood as (type, (1,)) / '(1,)type'.\n",
      "  np_resource = np.dtype([(\"resource\", np.ubyte, 1)])\n",
      "/usr/local/lib/python3.5/dist-packages/tensorboard/compat/tensorflow_stub/dtypes.py:541: FutureWarning: Passing (type, 1) or '1type' as a synonym of type is deprecated; in a future version of numpy, it will be understood as (type, (1,)) / '(1,)type'.\n",
      "  _np_qint8 = np.dtype([(\"qint8\", np.int8, 1)])\n",
      "/usr/local/lib/python3.5/dist-packages/tensorboard/compat/tensorflow_stub/dtypes.py:542: FutureWarning: Passing (type, 1) or '1type' as a synonym of type is deprecated; in a future version of numpy, it will be understood as (type, (1,)) / '(1,)type'.\n",
      "  _np_quint8 = np.dtype([(\"quint8\", np.uint8, 1)])\n",
      "/usr/local/lib/python3.5/dist-packages/tensorboard/compat/tensorflow_stub/dtypes.py:543: FutureWarning: Passing (type, 1) or '1type' as a synonym of type is deprecated; in a future version of numpy, it will be understood as (type, (1,)) / '(1,)type'.\n",
      "  _np_qint16 = np.dtype([(\"qint16\", np.int16, 1)])\n",
      "/usr/local/lib/python3.5/dist-packages/tensorboard/compat/tensorflow_stub/dtypes.py:544: FutureWarning: Passing (type, 1) or '1type' as a synonym of type is deprecated; in a future version of numpy, it will be understood as (type, (1,)) / '(1,)type'.\n",
      "  _np_quint16 = np.dtype([(\"quint16\", np.uint16, 1)])\n",
      "/usr/local/lib/python3.5/dist-packages/tensorboard/compat/tensorflow_stub/dtypes.py:545: FutureWarning: Passing (type, 1) or '1type' as a synonym of type is deprecated; in a future version of numpy, it will be understood as (type, (1,)) / '(1,)type'.\n",
      "  _np_qint32 = np.dtype([(\"qint32\", np.int32, 1)])\n",
      "/usr/local/lib/python3.5/dist-packages/tensorboard/compat/tensorflow_stub/dtypes.py:550: FutureWarning: Passing (type, 1) or '1type' as a synonym of type is deprecated; in a future version of numpy, it will be understood as (type, (1,)) / '(1,)type'.\n",
      "  np_resource = np.dtype([(\"resource\", np.ubyte, 1)])\n"
     ]
    }
   ],
   "source": [
    "import os\n",
    "os.environ[\"CUDA_DEVICE_ORDER\"]=\"PCI_BUS_ID\"\n",
    "os.environ[\"CUDA_VISIBLE_DEVICES\"]=\"5\"\n",
    "\n",
    "import numpy as np\n",
    "import matplotlib.pyplot as plt\n",
    "import tensorflow as tf\n",
    "import time, datetime\n",
    "\n",
    "import sys\n",
    "sys.path.append('/mnt/disk1/project/SMhospital/capsule/ce_packages')\n",
    "from ce_utils import load_path, train_valid_split, damped_exp_LR, load_random_minibatch, shuffle\n",
    "from ce_utils import training_history"
   ]
  },
  {
   "cell_type": "markdown",
   "metadata": {},
   "source": [
    "# Load Data"
   ]
  },
  {
   "cell_type": "code",
   "execution_count": 3,
   "metadata": {
    "ExecuteTime": {
     "end_time": "2020-01-22T01:54:43.992506Z",
     "start_time": "2020-01-22T01:54:43.959348Z"
    }
   },
   "outputs": [],
   "source": [
    "from itertools import product\n",
    "import glob\n",
    "\n",
    "def target_preprocessings(phase_a_switch = [1, 1, 1], phase_b_switch = True, mode = 'load'):\n",
    "    \"\"\"\n",
    "    phase_a_switch = [1, 1, 1], [0, 0 ,1], [1, 1, 0].... \n",
    "    that means [flip, rotate, blur_sharp]\n",
    "    \"\"\"\n",
    "    phase0 = ['_c']\n",
    "    phase1 = {1: ['-', 'f'], 0: ['-']}\n",
    "    phase2 = {1: ['-', 'r1', 'r2', 'r3'], 0: ['-']}\n",
    "    phase3 = {1: ['-', 'ab', 'mb', 'eh'], 0: ['-']}\n",
    "    phase4 = ['s_-30_v_30', 's_-30_v_-30', 's_30_v_-30', 's_30_v_30']\n",
    "    \n",
    "    if mode == 'load':\n",
    "        phase_a_items = [phase1[phase_a_switch[0]], phase2[phase_a_switch[1]], phase3[phase_a_switch[2]]]\n",
    "    elif mode == 'preprocessing':\n",
    "        phase_a_items = [phase0, phase1[phase_a_switch[0]], phase2[phase_a_switch[1]], phase3[phase_a_switch[2]]]\n",
    "    \n",
    "    phase_a = []\n",
    "    for i in list(product(*phase_a_items)):\n",
    "        phase_a.append('_'.join(i))\n",
    "\n",
    "    if not phase_b_switch != True:\n",
    "        phase_b = []\n",
    "        for i in list(product(*[phase_a, phase4])):\n",
    "            phase_b.append('_'.join(i))\n",
    "        return list(np.hstack([phase_a, phase_b]))\n",
    "    else:\n",
    "        return phase_a \n",
    "\n",
    "class ce_load_dataset:\n",
    "    def __init__(self, phase, data, pre_a, pre_b, img_ch = 'bgr', ext_name = True):\n",
    "        self.phase = phase        # 'train' or 'test'\n",
    "        self.data = data          # 'sm', 'sm_core', 'sm_v2', 'sm_x160', ...\n",
    "        self.pre_a = pre_a        # [1, 1, 1], [0, 0 ,1], [1, 1, 0].... \n",
    "        self.pre_b = pre_b        # True or False\n",
    "        self.img_ch = img_ch      # 'bgr', 'rgb', and 'hsv'\n",
    "        self.ext_name = ext_name  # True or False\n",
    "\n",
    "    def load_path(self, cls, les, data_dir = '/mnt/disk2/data/private_data/SMhospital/capsule/1 preprocessed'):\n",
    "        \"\"\"\n",
    "        phase = 'train', 'test'\n",
    "        cls: [les]  \n",
    "          'n': ['neg']\n",
    "          'h': ['redspot', 'angio', 'active'], \n",
    "          'd': ['ero', 'ulc', 'str'],\n",
    "          'p': ['amp', 'lym', 'tum']}\n",
    "        pre_a[0] must be 0\n",
    "        \"\"\"\n",
    "        lesions = dict(neg = 'negative', \n",
    "                       redspot = 'red_spot', angio = 'angioectasia', active = 'active_bleeding', \n",
    "                       ero = 'erosion', ulcer = 'ulcer', str = 'stricture', \n",
    "                       amp = 'ampulla_of_vater', lym = 'lymphoid_follicles', tum = 'small_bowel_tumor')\n",
    "        classes = dict(n = 'negative', h = 'hemorrhagic', d = 'depressed', p = 'protruded')\n",
    "\n",
    "        path = os.path.join(data_dir, self.data, self.phase, classes[cls], lesions[les])\n",
    "        pathlist = glob.glob(path + '/*.jpg')\n",
    "        if self.pre_b != True:\n",
    "            path_in_phase = []\n",
    "            for p in pathlist:\n",
    "                name = os.path.basename(p)\n",
    "#                 print(target_preprocessings(self.pre_a, self.pre_b))\n",
    "                if (name.split('c_')[-1])[:-4] in target_preprocessings(self.pre_a, self.pre_b):\n",
    "                    path_in_phase.append(p)   \n",
    "            return np.asarray(path_in_phase)\n",
    "        else:\n",
    "            return np.asarray(pathlist)\n",
    "\n",
    "    def load_image_from_path(self, pathlist,image_ch = 'bgr', extract_name = False):\n",
    "        data = []\n",
    "        for i in pathlist:\n",
    "            temp = cv2.imread(i)\n",
    "            if image_ch == 'bgr':\n",
    "                pass\n",
    "            elif image_ch == 'rgb':\n",
    "                temp = cv2.cvtColor(temp, cv2.COLOR_BGR2RGB)\n",
    "            elif image_ch == 'hsv':\n",
    "                temp = cv2.cvtColor(temp, cv2.COLOR_BGR2HSV)\n",
    "            data.append(temp)\n",
    "        if extract_name != False:\n",
    "            name = []\n",
    "            for i in pathlist:\n",
    "                name.append(os.path.basename(i))\n",
    "            return np.asarray(data), np.asarray(name)\n",
    "        else:\n",
    "            return np.asarray(data) \n",
    "\n",
    "    def load_data(self, cls, les):\n",
    "        pathlist = self.load_path(cls, les)\n",
    "        return  self.load_image_from_path(pathlist, image_ch = self.img_ch, extract_name = self.ext_name)"
   ]
  },
  {
   "cell_type": "code",
   "execution_count": 4,
   "metadata": {
    "ExecuteTime": {
     "end_time": "2020-01-22T01:54:52.435887Z",
     "start_time": "2020-01-22T01:54:52.429311Z"
    }
   },
   "outputs": [],
   "source": [
    "ce = ce_load_dataset(phase = 'train', data = 'sm_x160_v2', pre_a = [1, 1, 0], pre_b = False)"
   ]
  },
  {
   "cell_type": "code",
   "execution_count": 5,
   "metadata": {
    "ExecuteTime": {
     "end_time": "2020-01-22T01:55:03.343769Z",
     "start_time": "2020-01-22T01:54:55.317028Z"
    }
   },
   "outputs": [
    {
     "name": "stdout",
     "output_type": "stream",
     "text": [
      "negative: (49952,)\n",
      "red spot: (4448,)\n",
      "angioectasia: (144,)\n",
      "active_bleeding: (3424,)\n"
     ]
    }
   ],
   "source": [
    "neg_path = ce.load_path('n', 'neg')\n",
    "redspot_path = ce.load_path('h', 'redspot')\n",
    "angio_path = ce.load_path('h', 'angio')\n",
    "active_path = ce.load_path('h', 'active')\n",
    "# ero_path = ce.load_path('d', 'ero')\n",
    "# ulcer_path = ce.load_path('d', 'ulcer')\n",
    "# str_path = ce.load_path('d', 'str')\n",
    "\n",
    "print(\"negative:\",neg_path.shape)\n",
    "print(\"red spot:\",redspot_path.shape)\n",
    "print(\"angioectasia:\",angio_path.shape)\n",
    "print(\"active_bleeding:\",active_path.shape)\n",
    "# print(\"erosion:\",ero_path.shape)\n",
    "# print(\"ulcer:\",ulcer_path.shape)\n",
    "# print(\"stricture:\",str_path.shape)"
   ]
  },
  {
   "cell_type": "code",
   "execution_count": 6,
   "metadata": {
    "ExecuteTime": {
     "end_time": "2020-01-22T01:55:05.947030Z",
     "start_time": "2020-01-22T01:55:05.932863Z"
    }
   },
   "outputs": [
    {
     "data": {
      "text/plain": [
       "array(['/mnt/disk2/data/private_data/SMhospital/capsule/1 preprocessed/sm_x160_v2/train/hemorrhagic/angioectasia/실한___02-12-06___2032944__c_-_-_-.jpg',\n",
       "       '/mnt/disk2/data/private_data/SMhospital/capsule/1 preprocessed/sm_x160_v2/train/hemorrhagic/angioectasia/실한___02-12-06___2032944__c_f_-_-.jpg',\n",
       "       '/mnt/disk2/data/private_data/SMhospital/capsule/1 preprocessed/sm_x160_v2/train/hemorrhagic/angioectasia/실한___02-12-06___2032944__c_-_r1_-.jpg',\n",
       "       '/mnt/disk2/data/private_data/SMhospital/capsule/1 preprocessed/sm_x160_v2/train/hemorrhagic/angioectasia/실한___02-12-06___2032944__c_f_r1_-.jpg',\n",
       "       '/mnt/disk2/data/private_data/SMhospital/capsule/1 preprocessed/sm_x160_v2/train/hemorrhagic/angioectasia/실한___02-12-06___2032944__c_-_r2_-.jpg',\n",
       "       '/mnt/disk2/data/private_data/SMhospital/capsule/1 preprocessed/sm_x160_v2/train/hemorrhagic/angioectasia/실한___02-12-06___2032944__c_f_r2_-.jpg',\n",
       "       '/mnt/disk2/data/private_data/SMhospital/capsule/1 preprocessed/sm_x160_v2/train/hemorrhagic/angioectasia/실한___02-12-06___2032944__c_-_r3_-.jpg',\n",
       "       '/mnt/disk2/data/private_data/SMhospital/capsule/1 preprocessed/sm_x160_v2/train/hemorrhagic/angioectasia/Is___04-57-24___1035697__c_-_-_-.jpg',\n",
       "       '/mnt/disk2/data/private_data/SMhospital/capsule/1 preprocessed/sm_x160_v2/train/hemorrhagic/angioectasia/실한___02-12-06___2032944__c_f_r3_-.jpg',\n",
       "       '/mnt/disk2/data/private_data/SMhospital/capsule/1 preprocessed/sm_x160_v2/train/hemorrhagic/angioectasia/충이___00-30-39___2008347__c_-_-_-.jpg',\n",
       "       '/mnt/disk2/data/private_data/SMhospital/capsule/1 preprocessed/sm_x160_v2/train/hemorrhagic/angioectasia/충이___00-30-39___2008347__c_f_-_-.jpg',\n",
       "       '/mnt/disk2/data/private_data/SMhospital/capsule/1 preprocessed/sm_x160_v2/train/hemorrhagic/angioectasia/Is___04-57-24___1035697__c_f_-_-.jpg',\n",
       "       '/mnt/disk2/data/private_data/SMhospital/capsule/1 preprocessed/sm_x160_v2/train/hemorrhagic/angioectasia/충이___00-30-39___2008347__c_-_r1_-.jpg',\n",
       "       '/mnt/disk2/data/private_data/SMhospital/capsule/1 preprocessed/sm_x160_v2/train/hemorrhagic/angioectasia/충이___00-30-39___2008347__c_f_r1_-.jpg',\n",
       "       '/mnt/disk2/data/private_data/SMhospital/capsule/1 preprocessed/sm_x160_v2/train/hemorrhagic/angioectasia/충이___00-30-39___2008347__c_-_r2_-.jpg',\n",
       "       '/mnt/disk2/data/private_data/SMhospital/capsule/1 preprocessed/sm_x160_v2/train/hemorrhagic/angioectasia/충이___00-30-39___2008347__c_f_r2_-.jpg',\n",
       "       '/mnt/disk2/data/private_data/SMhospital/capsule/1 preprocessed/sm_x160_v2/train/hemorrhagic/angioectasia/충이___00-30-39___2008347__c_-_r3_-.jpg',\n",
       "       '/mnt/disk2/data/private_data/SMhospital/capsule/1 preprocessed/sm_x160_v2/train/hemorrhagic/angioectasia/충이___00-30-39___2008347__c_f_r3_-.jpg',\n",
       "       '/mnt/disk2/data/private_data/SMhospital/capsule/1 preprocessed/sm_x160_v2/train/hemorrhagic/angioectasia/Is___04-57-25___1035699__c_-_-_-.jpg',\n",
       "       '/mnt/disk2/data/private_data/SMhospital/capsule/1 preprocessed/sm_x160_v2/train/hemorrhagic/angioectasia/충이___00-20-19___2005470__c_-_-_-.jpg',\n",
       "       '/mnt/disk2/data/private_data/SMhospital/capsule/1 preprocessed/sm_x160_v2/train/hemorrhagic/angioectasia/충이___00-20-19___2005470__c_f_-_-.jpg',\n",
       "       '/mnt/disk2/data/private_data/SMhospital/capsule/1 preprocessed/sm_x160_v2/train/hemorrhagic/angioectasia/충이___00-20-19___2005470__c_-_r1_-.jpg',\n",
       "       '/mnt/disk2/data/private_data/SMhospital/capsule/1 preprocessed/sm_x160_v2/train/hemorrhagic/angioectasia/충이___00-20-19___2005470__c_f_r1_-.jpg',\n",
       "       '/mnt/disk2/data/private_data/SMhospital/capsule/1 preprocessed/sm_x160_v2/train/hemorrhagic/angioectasia/충이___00-20-19___2005470__c_-_r2_-.jpg',\n",
       "       '/mnt/disk2/data/private_data/SMhospital/capsule/1 preprocessed/sm_x160_v2/train/hemorrhagic/angioectasia/충이___00-20-19___2005470__c_f_r2_-.jpg',\n",
       "       '/mnt/disk2/data/private_data/SMhospital/capsule/1 preprocessed/sm_x160_v2/train/hemorrhagic/angioectasia/Is___04-57-25___1035699__c_f_-_-.jpg',\n",
       "       '/mnt/disk2/data/private_data/SMhospital/capsule/1 preprocessed/sm_x160_v2/train/hemorrhagic/angioectasia/충이___00-20-19___2005470__c_-_r3_-.jpg',\n",
       "       '/mnt/disk2/data/private_data/SMhospital/capsule/1 preprocessed/sm_x160_v2/train/hemorrhagic/angioectasia/충이___00-20-19___2005470__c_f_r3_-.jpg',\n",
       "       '/mnt/disk2/data/private_data/SMhospital/capsule/1 preprocessed/sm_x160_v2/train/hemorrhagic/angioectasia/실한___02-12-31___2032994__c_-_-_-.jpg',\n",
       "       '/mnt/disk2/data/private_data/SMhospital/capsule/1 preprocessed/sm_x160_v2/train/hemorrhagic/angioectasia/실한___02-12-31___2032994__c_f_-_-.jpg',\n",
       "       '/mnt/disk2/data/private_data/SMhospital/capsule/1 preprocessed/sm_x160_v2/train/hemorrhagic/angioectasia/실한___02-12-31___2032994__c_-_r1_-.jpg',\n",
       "       '/mnt/disk2/data/private_data/SMhospital/capsule/1 preprocessed/sm_x160_v2/train/hemorrhagic/angioectasia/실한___02-12-31___2032994__c_f_r1_-.jpg',\n",
       "       '/mnt/disk2/data/private_data/SMhospital/capsule/1 preprocessed/sm_x160_v2/train/hemorrhagic/angioectasia/실한___02-12-31___2032994__c_-_r2_-.jpg',\n",
       "       '/mnt/disk2/data/private_data/SMhospital/capsule/1 preprocessed/sm_x160_v2/train/hemorrhagic/angioectasia/실한___02-12-31___2032994__c_f_r2_-.jpg',\n",
       "       '/mnt/disk2/data/private_data/SMhospital/capsule/1 preprocessed/sm_x160_v2/train/hemorrhagic/angioectasia/실한___02-12-31___2032994__c_-_r3_-.jpg',\n",
       "       '/mnt/disk2/data/private_data/SMhospital/capsule/1 preprocessed/sm_x160_v2/train/hemorrhagic/angioectasia/실한___02-12-31___2032994__c_f_r3_-.jpg',\n",
       "       '/mnt/disk2/data/private_data/SMhospital/capsule/1 preprocessed/sm_x160_v2/train/hemorrhagic/angioectasia/충이___00-19-07___2005179__c_-_-_-.jpg',\n",
       "       '/mnt/disk2/data/private_data/SMhospital/capsule/1 preprocessed/sm_x160_v2/train/hemorrhagic/angioectasia/충이___00-19-07___2005179__c_f_-_-.jpg',\n",
       "       '/mnt/disk2/data/private_data/SMhospital/capsule/1 preprocessed/sm_x160_v2/train/hemorrhagic/angioectasia/충이___00-19-07___2005179__c_-_r1_-.jpg',\n",
       "       '/mnt/disk2/data/private_data/SMhospital/capsule/1 preprocessed/sm_x160_v2/train/hemorrhagic/angioectasia/충이___00-19-07___2005179__c_f_r1_-.jpg',\n",
       "       '/mnt/disk2/data/private_data/SMhospital/capsule/1 preprocessed/sm_x160_v2/train/hemorrhagic/angioectasia/충이___00-19-07___2005179__c_-_r2_-.jpg',\n",
       "       '/mnt/disk2/data/private_data/SMhospital/capsule/1 preprocessed/sm_x160_v2/train/hemorrhagic/angioectasia/충이___00-19-07___2005179__c_f_r2_-.jpg',\n",
       "       '/mnt/disk2/data/private_data/SMhospital/capsule/1 preprocessed/sm_x160_v2/train/hemorrhagic/angioectasia/충이___00-19-07___2005179__c_-_r3_-.jpg',\n",
       "       '/mnt/disk2/data/private_data/SMhospital/capsule/1 preprocessed/sm_x160_v2/train/hemorrhagic/angioectasia/충이___00-19-07___2005179__c_f_r3_-.jpg',\n",
       "       '/mnt/disk2/data/private_data/SMhospital/capsule/1 preprocessed/sm_x160_v2/train/hemorrhagic/angioectasia/Is___04-57-25___1035698__c_-_-_-.jpg',\n",
       "       '/mnt/disk2/data/private_data/SMhospital/capsule/1 preprocessed/sm_x160_v2/train/hemorrhagic/angioectasia/충이___00-15-15___2004160__c_-_-_-.jpg',\n",
       "       '/mnt/disk2/data/private_data/SMhospital/capsule/1 preprocessed/sm_x160_v2/train/hemorrhagic/angioectasia/충이___00-15-15___2004160__c_f_-_-.jpg',\n",
       "       '/mnt/disk2/data/private_data/SMhospital/capsule/1 preprocessed/sm_x160_v2/train/hemorrhagic/angioectasia/충이___00-15-15___2004160__c_-_r1_-.jpg',\n",
       "       '/mnt/disk2/data/private_data/SMhospital/capsule/1 preprocessed/sm_x160_v2/train/hemorrhagic/angioectasia/충이___00-15-15___2004160__c_f_r1_-.jpg',\n",
       "       '/mnt/disk2/data/private_data/SMhospital/capsule/1 preprocessed/sm_x160_v2/train/hemorrhagic/angioectasia/충이___00-15-15___2004160__c_-_r2_-.jpg',\n",
       "       '/mnt/disk2/data/private_data/SMhospital/capsule/1 preprocessed/sm_x160_v2/train/hemorrhagic/angioectasia/충이___00-15-15___2004160__c_f_r2_-.jpg',\n",
       "       '/mnt/disk2/data/private_data/SMhospital/capsule/1 preprocessed/sm_x160_v2/train/hemorrhagic/angioectasia/Is___04-57-25___1035698__c_f_-_-.jpg',\n",
       "       '/mnt/disk2/data/private_data/SMhospital/capsule/1 preprocessed/sm_x160_v2/train/hemorrhagic/angioectasia/충이___00-15-15___2004160__c_-_r3_-.jpg',\n",
       "       '/mnt/disk2/data/private_data/SMhospital/capsule/1 preprocessed/sm_x160_v2/train/hemorrhagic/angioectasia/충이___00-15-15___2004160__c_f_r3_-.jpg',\n",
       "       '/mnt/disk2/data/private_data/SMhospital/capsule/1 preprocessed/sm_x160_v2/train/hemorrhagic/angioectasia/Is___04-57-24___1035697__c_-_r1_-.jpg',\n",
       "       '/mnt/disk2/data/private_data/SMhospital/capsule/1 preprocessed/sm_x160_v2/train/hemorrhagic/angioectasia/Is___04-57-24___1035697__c_f_r1_-.jpg',\n",
       "       '/mnt/disk2/data/private_data/SMhospital/capsule/1 preprocessed/sm_x160_v2/train/hemorrhagic/angioectasia/Is___04-57-24___1035697__c_-_r2_-.jpg',\n",
       "       '/mnt/disk2/data/private_data/SMhospital/capsule/1 preprocessed/sm_x160_v2/train/hemorrhagic/angioectasia/Is___04-57-24___1035697__c_f_r2_-.jpg',\n",
       "       '/mnt/disk2/data/private_data/SMhospital/capsule/1 preprocessed/sm_x160_v2/train/hemorrhagic/angioectasia/Is___04-57-24___1035697__c_-_r3_-.jpg',\n",
       "       '/mnt/disk2/data/private_data/SMhospital/capsule/1 preprocessed/sm_x160_v2/train/hemorrhagic/angioectasia/Is___04-57-24___1035697__c_f_r3_-.jpg',\n",
       "       '/mnt/disk2/data/private_data/SMhospital/capsule/1 preprocessed/sm_x160_v2/train/hemorrhagic/angioectasia/충이___00-19-27___2005272__c_-_-_-.jpg',\n",
       "       '/mnt/disk2/data/private_data/SMhospital/capsule/1 preprocessed/sm_x160_v2/train/hemorrhagic/angioectasia/충이___00-19-27___2005272__c_f_-_-.jpg',\n",
       "       '/mnt/disk2/data/private_data/SMhospital/capsule/1 preprocessed/sm_x160_v2/train/hemorrhagic/angioectasia/충이___00-19-27___2005272__c_-_r1_-.jpg',\n",
       "       '/mnt/disk2/data/private_data/SMhospital/capsule/1 preprocessed/sm_x160_v2/train/hemorrhagic/angioectasia/충이___00-19-27___2005272__c_f_r1_-.jpg',\n",
       "       '/mnt/disk2/data/private_data/SMhospital/capsule/1 preprocessed/sm_x160_v2/train/hemorrhagic/angioectasia/충이___00-19-27___2005272__c_-_r2_-.jpg',\n",
       "       '/mnt/disk2/data/private_data/SMhospital/capsule/1 preprocessed/sm_x160_v2/train/hemorrhagic/angioectasia/충이___00-19-27___2005272__c_f_r2_-.jpg',\n",
       "       '/mnt/disk2/data/private_data/SMhospital/capsule/1 preprocessed/sm_x160_v2/train/hemorrhagic/angioectasia/충이___00-19-27___2005272__c_-_r3_-.jpg',\n",
       "       '/mnt/disk2/data/private_data/SMhospital/capsule/1 preprocessed/sm_x160_v2/train/hemorrhagic/angioectasia/충이___00-19-27___2005272__c_f_r3_-.jpg',\n",
       "       '/mnt/disk2/data/private_data/SMhospital/capsule/1 preprocessed/sm_x160_v2/train/hemorrhagic/angioectasia/충이___00-14-08___2003801__c_-_-_-.jpg',\n",
       "       '/mnt/disk2/data/private_data/SMhospital/capsule/1 preprocessed/sm_x160_v2/train/hemorrhagic/angioectasia/충이___00-14-08___2003801__c_f_-_-.jpg',\n",
       "       '/mnt/disk2/data/private_data/SMhospital/capsule/1 preprocessed/sm_x160_v2/train/hemorrhagic/angioectasia/충이___00-14-08___2003801__c_-_r1_-.jpg',\n",
       "       '/mnt/disk2/data/private_data/SMhospital/capsule/1 preprocessed/sm_x160_v2/train/hemorrhagic/angioectasia/충이___00-14-08___2003801__c_f_r1_-.jpg',\n",
       "       '/mnt/disk2/data/private_data/SMhospital/capsule/1 preprocessed/sm_x160_v2/train/hemorrhagic/angioectasia/충이___00-14-08___2003801__c_-_r2_-.jpg',\n",
       "       '/mnt/disk2/data/private_data/SMhospital/capsule/1 preprocessed/sm_x160_v2/train/hemorrhagic/angioectasia/충이___00-14-08___2003801__c_f_r2_-.jpg',\n",
       "       '/mnt/disk2/data/private_data/SMhospital/capsule/1 preprocessed/sm_x160_v2/train/hemorrhagic/angioectasia/충이___00-14-08___2003801__c_-_r3_-.jpg',\n",
       "       '/mnt/disk2/data/private_data/SMhospital/capsule/1 preprocessed/sm_x160_v2/train/hemorrhagic/angioectasia/충이___00-14-08___2003801__c_f_r3_-.jpg',\n",
       "       '/mnt/disk2/data/private_data/SMhospital/capsule/1 preprocessed/sm_x160_v2/train/hemorrhagic/angioectasia/충이___00-11-34___2003337__c_-_-_-.jpg',\n",
       "       '/mnt/disk2/data/private_data/SMhospital/capsule/1 preprocessed/sm_x160_v2/train/hemorrhagic/angioectasia/충이___00-11-34___2003337__c_f_-_-.jpg',\n",
       "       '/mnt/disk2/data/private_data/SMhospital/capsule/1 preprocessed/sm_x160_v2/train/hemorrhagic/angioectasia/충이___00-11-34___2003337__c_-_r1_-.jpg',\n",
       "       '/mnt/disk2/data/private_data/SMhospital/capsule/1 preprocessed/sm_x160_v2/train/hemorrhagic/angioectasia/충이___00-11-34___2003337__c_f_r1_-.jpg',\n",
       "       '/mnt/disk2/data/private_data/SMhospital/capsule/1 preprocessed/sm_x160_v2/train/hemorrhagic/angioectasia/충이___00-11-34___2003337__c_-_r2_-.jpg',\n",
       "       '/mnt/disk2/data/private_data/SMhospital/capsule/1 preprocessed/sm_x160_v2/train/hemorrhagic/angioectasia/충이___00-11-34___2003337__c_f_r2_-.jpg',\n",
       "       '/mnt/disk2/data/private_data/SMhospital/capsule/1 preprocessed/sm_x160_v2/train/hemorrhagic/angioectasia/충이___00-11-34___2003337__c_-_r3_-.jpg',\n",
       "       '/mnt/disk2/data/private_data/SMhospital/capsule/1 preprocessed/sm_x160_v2/train/hemorrhagic/angioectasia/충이___00-11-34___2003337__c_f_r3_-.jpg',\n",
       "       '/mnt/disk2/data/private_data/SMhospital/capsule/1 preprocessed/sm_x160_v2/train/hemorrhagic/angioectasia/연박___09-26-17___2085089__c_-_-_-.jpg',\n",
       "       '/mnt/disk2/data/private_data/SMhospital/capsule/1 preprocessed/sm_x160_v2/train/hemorrhagic/angioectasia/연박___09-26-17___2085089__c_f_-_-.jpg',\n",
       "       '/mnt/disk2/data/private_data/SMhospital/capsule/1 preprocessed/sm_x160_v2/train/hemorrhagic/angioectasia/연박___09-26-17___2085089__c_-_r1_-.jpg',\n",
       "       '/mnt/disk2/data/private_data/SMhospital/capsule/1 preprocessed/sm_x160_v2/train/hemorrhagic/angioectasia/연박___09-26-17___2085089__c_f_r1_-.jpg',\n",
       "       '/mnt/disk2/data/private_data/SMhospital/capsule/1 preprocessed/sm_x160_v2/train/hemorrhagic/angioectasia/연박___09-26-17___2085089__c_-_r2_-.jpg',\n",
       "       '/mnt/disk2/data/private_data/SMhospital/capsule/1 preprocessed/sm_x160_v2/train/hemorrhagic/angioectasia/연박___09-26-17___2085089__c_f_r2_-.jpg',\n",
       "       '/mnt/disk2/data/private_data/SMhospital/capsule/1 preprocessed/sm_x160_v2/train/hemorrhagic/angioectasia/연박___09-26-17___2085089__c_-_r3_-.jpg',\n",
       "       '/mnt/disk2/data/private_data/SMhospital/capsule/1 preprocessed/sm_x160_v2/train/hemorrhagic/angioectasia/연박___09-26-17___2085089__c_f_r3_-.jpg',\n",
       "       '/mnt/disk2/data/private_data/SMhospital/capsule/1 preprocessed/sm_x160_v2/train/hemorrhagic/angioectasia/실한___02-12-20___2032972__c_-_-_-.jpg',\n",
       "       '/mnt/disk2/data/private_data/SMhospital/capsule/1 preprocessed/sm_x160_v2/train/hemorrhagic/angioectasia/실한___02-12-20___2032972__c_f_-_-.jpg',\n",
       "       '/mnt/disk2/data/private_data/SMhospital/capsule/1 preprocessed/sm_x160_v2/train/hemorrhagic/angioectasia/실한___02-12-20___2032972__c_-_r1_-.jpg',\n",
       "       '/mnt/disk2/data/private_data/SMhospital/capsule/1 preprocessed/sm_x160_v2/train/hemorrhagic/angioectasia/실한___02-12-20___2032972__c_f_r1_-.jpg',\n",
       "       '/mnt/disk2/data/private_data/SMhospital/capsule/1 preprocessed/sm_x160_v2/train/hemorrhagic/angioectasia/실한___02-12-20___2032972__c_-_r2_-.jpg',\n",
       "       '/mnt/disk2/data/private_data/SMhospital/capsule/1 preprocessed/sm_x160_v2/train/hemorrhagic/angioectasia/실한___02-12-20___2032972__c_f_r2_-.jpg',\n",
       "       '/mnt/disk2/data/private_data/SMhospital/capsule/1 preprocessed/sm_x160_v2/train/hemorrhagic/angioectasia/실한___02-12-20___2032972__c_-_r3_-.jpg',\n",
       "       '/mnt/disk2/data/private_data/SMhospital/capsule/1 preprocessed/sm_x160_v2/train/hemorrhagic/angioectasia/실한___02-12-20___2032972__c_f_r3_-.jpg',\n",
       "       '/mnt/disk2/data/private_data/SMhospital/capsule/1 preprocessed/sm_x160_v2/train/hemorrhagic/angioectasia/Is___04-57-25___1035699__c_-_r1_-.jpg',\n",
       "       '/mnt/disk2/data/private_data/SMhospital/capsule/1 preprocessed/sm_x160_v2/train/hemorrhagic/angioectasia/Is___04-57-25___1035699__c_f_r1_-.jpg',\n",
       "       '/mnt/disk2/data/private_data/SMhospital/capsule/1 preprocessed/sm_x160_v2/train/hemorrhagic/angioectasia/Is___04-57-25___1035699__c_-_r2_-.jpg',\n",
       "       '/mnt/disk2/data/private_data/SMhospital/capsule/1 preprocessed/sm_x160_v2/train/hemorrhagic/angioectasia/Is___04-57-25___1035699__c_f_r2_-.jpg',\n",
       "       '/mnt/disk2/data/private_data/SMhospital/capsule/1 preprocessed/sm_x160_v2/train/hemorrhagic/angioectasia/Is___04-57-25___1035699__c_-_r3_-.jpg',\n",
       "       '/mnt/disk2/data/private_data/SMhospital/capsule/1 preprocessed/sm_x160_v2/train/hemorrhagic/angioectasia/Is___04-57-25___1035699__c_f_r3_-.jpg',\n",
       "       '/mnt/disk2/data/private_data/SMhospital/capsule/1 preprocessed/sm_x160_v2/train/hemorrhagic/angioectasia/충이___00-22-16___2006004__c_-_-_-.jpg',\n",
       "       '/mnt/disk2/data/private_data/SMhospital/capsule/1 preprocessed/sm_x160_v2/train/hemorrhagic/angioectasia/충이___00-22-16___2006004__c_f_-_-.jpg',\n",
       "       '/mnt/disk2/data/private_data/SMhospital/capsule/1 preprocessed/sm_x160_v2/train/hemorrhagic/angioectasia/충이___00-22-16___2006004__c_-_r1_-.jpg',\n",
       "       '/mnt/disk2/data/private_data/SMhospital/capsule/1 preprocessed/sm_x160_v2/train/hemorrhagic/angioectasia/충이___00-22-16___2006004__c_f_r1_-.jpg',\n",
       "       '/mnt/disk2/data/private_data/SMhospital/capsule/1 preprocessed/sm_x160_v2/train/hemorrhagic/angioectasia/충이___00-22-16___2006004__c_-_r2_-.jpg',\n",
       "       '/mnt/disk2/data/private_data/SMhospital/capsule/1 preprocessed/sm_x160_v2/train/hemorrhagic/angioectasia/충이___00-22-16___2006004__c_f_r2_-.jpg',\n",
       "       '/mnt/disk2/data/private_data/SMhospital/capsule/1 preprocessed/sm_x160_v2/train/hemorrhagic/angioectasia/충이___00-22-16___2006004__c_-_r3_-.jpg',\n",
       "       '/mnt/disk2/data/private_data/SMhospital/capsule/1 preprocessed/sm_x160_v2/train/hemorrhagic/angioectasia/충이___00-22-16___2006004__c_f_r3_-.jpg',\n",
       "       '/mnt/disk2/data/private_data/SMhospital/capsule/1 preprocessed/sm_x160_v2/train/hemorrhagic/angioectasia/충이___00-31-22___2008552__c_-_-_-.jpg',\n",
       "       '/mnt/disk2/data/private_data/SMhospital/capsule/1 preprocessed/sm_x160_v2/train/hemorrhagic/angioectasia/충이___00-31-22___2008552__c_f_-_-.jpg',\n",
       "       '/mnt/disk2/data/private_data/SMhospital/capsule/1 preprocessed/sm_x160_v2/train/hemorrhagic/angioectasia/충이___00-31-22___2008552__c_-_r1_-.jpg',\n",
       "       '/mnt/disk2/data/private_data/SMhospital/capsule/1 preprocessed/sm_x160_v2/train/hemorrhagic/angioectasia/충이___00-31-22___2008552__c_f_r1_-.jpg',\n",
       "       '/mnt/disk2/data/private_data/SMhospital/capsule/1 preprocessed/sm_x160_v2/train/hemorrhagic/angioectasia/충이___00-31-22___2008552__c_-_r2_-.jpg',\n",
       "       '/mnt/disk2/data/private_data/SMhospital/capsule/1 preprocessed/sm_x160_v2/train/hemorrhagic/angioectasia/충이___00-31-22___2008552__c_f_r2_-.jpg',\n",
       "       '/mnt/disk2/data/private_data/SMhospital/capsule/1 preprocessed/sm_x160_v2/train/hemorrhagic/angioectasia/충이___00-31-22___2008552__c_-_r3_-.jpg',\n",
       "       '/mnt/disk2/data/private_data/SMhospital/capsule/1 preprocessed/sm_x160_v2/train/hemorrhagic/angioectasia/충이___00-31-22___2008552__c_f_r3_-.jpg',\n",
       "       '/mnt/disk2/data/private_data/SMhospital/capsule/1 preprocessed/sm_x160_v2/train/hemorrhagic/angioectasia/충이___00-16-09___2004416__c_-_-_-.jpg',\n",
       "       '/mnt/disk2/data/private_data/SMhospital/capsule/1 preprocessed/sm_x160_v2/train/hemorrhagic/angioectasia/충이___00-16-09___2004416__c_f_-_-.jpg',\n",
       "       '/mnt/disk2/data/private_data/SMhospital/capsule/1 preprocessed/sm_x160_v2/train/hemorrhagic/angioectasia/충이___00-16-09___2004416__c_-_r1_-.jpg',\n",
       "       '/mnt/disk2/data/private_data/SMhospital/capsule/1 preprocessed/sm_x160_v2/train/hemorrhagic/angioectasia/충이___00-16-09___2004416__c_f_r1_-.jpg',\n",
       "       '/mnt/disk2/data/private_data/SMhospital/capsule/1 preprocessed/sm_x160_v2/train/hemorrhagic/angioectasia/충이___00-16-09___2004416__c_-_r2_-.jpg',\n",
       "       '/mnt/disk2/data/private_data/SMhospital/capsule/1 preprocessed/sm_x160_v2/train/hemorrhagic/angioectasia/충이___00-16-09___2004416__c_f_r2_-.jpg',\n",
       "       '/mnt/disk2/data/private_data/SMhospital/capsule/1 preprocessed/sm_x160_v2/train/hemorrhagic/angioectasia/충이___00-16-09___2004416__c_-_r3_-.jpg',\n",
       "       '/mnt/disk2/data/private_data/SMhospital/capsule/1 preprocessed/sm_x160_v2/train/hemorrhagic/angioectasia/충이___00-16-09___2004416__c_f_r3_-.jpg',\n",
       "       '/mnt/disk2/data/private_data/SMhospital/capsule/1 preprocessed/sm_x160_v2/train/hemorrhagic/angioectasia/Is___04-57-25___1035698__c_-_r1_-.jpg',\n",
       "       '/mnt/disk2/data/private_data/SMhospital/capsule/1 preprocessed/sm_x160_v2/train/hemorrhagic/angioectasia/Is___04-57-25___1035698__c_f_r1_-.jpg',\n",
       "       '/mnt/disk2/data/private_data/SMhospital/capsule/1 preprocessed/sm_x160_v2/train/hemorrhagic/angioectasia/Is___04-57-25___1035698__c_-_r2_-.jpg',\n",
       "       '/mnt/disk2/data/private_data/SMhospital/capsule/1 preprocessed/sm_x160_v2/train/hemorrhagic/angioectasia/Is___04-57-25___1035698__c_f_r2_-.jpg',\n",
       "       '/mnt/disk2/data/private_data/SMhospital/capsule/1 preprocessed/sm_x160_v2/train/hemorrhagic/angioectasia/Is___04-57-25___1035698__c_-_r3_-.jpg',\n",
       "       '/mnt/disk2/data/private_data/SMhospital/capsule/1 preprocessed/sm_x160_v2/train/hemorrhagic/angioectasia/Is___04-57-25___1035698__c_f_r3_-.jpg',\n",
       "       '/mnt/disk2/data/private_data/SMhospital/capsule/1 preprocessed/sm_x160_v2/train/hemorrhagic/angioectasia/충이___00-18-06___2004910__c_-_-_-.jpg',\n",
       "       '/mnt/disk2/data/private_data/SMhospital/capsule/1 preprocessed/sm_x160_v2/train/hemorrhagic/angioectasia/충이___00-18-06___2004910__c_f_-_-.jpg',\n",
       "       '/mnt/disk2/data/private_data/SMhospital/capsule/1 preprocessed/sm_x160_v2/train/hemorrhagic/angioectasia/충이___00-18-06___2004910__c_-_r1_-.jpg',\n",
       "       '/mnt/disk2/data/private_data/SMhospital/capsule/1 preprocessed/sm_x160_v2/train/hemorrhagic/angioectasia/충이___00-18-06___2004910__c_f_r1_-.jpg',\n",
       "       '/mnt/disk2/data/private_data/SMhospital/capsule/1 preprocessed/sm_x160_v2/train/hemorrhagic/angioectasia/충이___00-18-06___2004910__c_-_r2_-.jpg',\n",
       "       '/mnt/disk2/data/private_data/SMhospital/capsule/1 preprocessed/sm_x160_v2/train/hemorrhagic/angioectasia/충이___00-18-06___2004910__c_f_r2_-.jpg',\n",
       "       '/mnt/disk2/data/private_data/SMhospital/capsule/1 preprocessed/sm_x160_v2/train/hemorrhagic/angioectasia/충이___00-18-06___2004910__c_-_r3_-.jpg',\n",
       "       '/mnt/disk2/data/private_data/SMhospital/capsule/1 preprocessed/sm_x160_v2/train/hemorrhagic/angioectasia/충이___00-18-06___2004910__c_f_r3_-.jpg'],\n",
       "      dtype='<U142')"
      ]
     },
     "execution_count": 6,
     "metadata": {},
     "output_type": "execute_result"
    }
   ],
   "source": [
    "angio_path"
   ]
  },
  {
   "cell_type": "code",
   "execution_count": 8,
   "metadata": {
    "ExecuteTime": {
     "end_time": "2020-01-22T01:56:44.246364Z",
     "start_time": "2020-01-22T01:56:44.185374Z"
    }
   },
   "outputs": [
    {
     "name": "stdout",
     "output_type": "stream",
     "text": [
      "negative: (44956,) (4506,)\n",
      "red spot: (4003,) (405,)\n",
      "angioectasia: (129,) (15,)\n",
      "active bleeding: (3081,) (317,)\n"
     ]
    }
   ],
   "source": [
    "neg_train_path, neg_valid_path = train_valid_split(neg_path, train_rate = 0.9)\n",
    "redspot_train_path, redspot_valid_path = train_valid_split(redspot_path, train_rate = 0.9)\n",
    "angio_train_path, angio_valid_path = train_valid_split(angio_path, train_rate = 0.9)\n",
    "active_train_path, active_valid_path = train_valid_split(active_path, train_rate = 0.9)\n",
    "# ero_train_path, ero_valid_path = train_valid_split(ero_path, train_rate = 0.9)\n",
    "# ulcer_train_path, ulcer_valid_path = train_valid_split(ulcer_path, train_rate = 0.9)\n",
    "# str_train_path, str_valid_path = train_valid_split(str_path, train_rate = 0.9)\n",
    "\n",
    "print(\"negative:\", neg_train_path.shape, neg_valid_path.shape)\n",
    "print(\"red spot:\", redspot_train_path.shape, redspot_valid_path.shape)\n",
    "print(\"angioectasia:\", angio_train_path.shape, angio_valid_path.shape)\n",
    "print(\"active bleeding:\", active_train_path.shape, active_valid_path.shape)\n",
    "# print(\"erosion:\", ero_train_path.shape, ero_valid_path.shape)\n",
    "# print(\"ulcer:\", ulcer_train_path.shape, ulcer_valid_path.shape)\n",
    "# print(\"stricture:\", str_train_path.shape, str_valid_path.shape)"
   ]
  },
  {
   "cell_type": "markdown",
   "metadata": {},
   "source": [
    "# Model"
   ]
  },
  {
   "cell_type": "code",
   "execution_count": 9,
   "metadata": {
    "ExecuteTime": {
     "end_time": "2020-01-22T01:56:50.473497Z",
     "start_time": "2020-01-22T01:56:50.466051Z"
    }
   },
   "outputs": [],
   "source": [
    "input_h = 512\n",
    "input_w = 512\n",
    "input_ch = 3\n",
    "\n",
    "k_chs = [16, 16, 16, 32, 32, 32, 64]\n",
    "n_conv_block = len(k_chs)\n",
    "n_hid_node = [100, 50]\n",
    "n_hid_layer = len(n_hid_node)\n",
    "n_output = 2"
   ]
  },
  {
   "cell_type": "code",
   "execution_count": 10,
   "metadata": {
    "ExecuteTime": {
     "end_time": "2020-01-22T01:56:51.643641Z",
     "start_time": "2020-01-22T01:56:51.619008Z"
    }
   },
   "outputs": [],
   "source": [
    "class CE_cnn:\n",
    "    def __init__(self, k_chs, n_conv_block, n_hid_node, n_hid_layer, n_output):\n",
    "        self.k_chs = k_chs\n",
    "        self.n_conv_block = n_conv_block\n",
    "        self.n_hid_node = n_hid_node\n",
    "        self.n_hid_layer = n_hid_layer\n",
    "        self.n_output = n_output\n",
    "    def conv_block(self, x, k_chs, n_conv_block):\n",
    "        for i in range(1, n_conv_block + 1):\n",
    "            if i == 1:\n",
    "                conv = tf.layers.conv2d(inputs = x, filters = k_chs[i-1], kernel_size = [3, 3], padding = \"SAME\", \n",
    "                                        activation= tf.nn.relu, name = 'block_{}_conv_1'.format(i))\n",
    "            else:\n",
    "                conv = tf.layers.conv2d(inputs = conv, filters = k_chs[i-1], kernel_size = [3, 3], padding = \"SAME\", \n",
    "                                        activation= tf.nn.relu, name = 'block_{}_conv_1'.format(i))\n",
    "            conv = tf.layers.conv2d(inputs = conv, filters = k_chs[i-1], kernel_size = [3, 3], padding = \"SAME\", \n",
    "                                    activation= tf.nn.relu, name = 'block_{}_conv_2'.format(i))\n",
    "            conv = tf.layers.max_pooling2d(inputs = conv, pool_size = [2, 2], strides = 2, name = 'block_{}_maxp'.format(i))\n",
    "        return conv\n",
    "    def fc_layers(self, x, n_hid_node, n_hid_layer, n_output):\n",
    "        hidden = tf.layers.flatten(x)\n",
    "        for i in range(1, n_hid_layer + 1):\n",
    "            hidden = tf.layers.dense(inputs = hidden, units = n_hid_node[i-1],activation = tf.nn.relu, name = 'fc_{}'.format(i))\n",
    "            hidden = tf.layers.dropout(hidden, rate = 0.3, training = is_training)\n",
    "        score = tf.layers.dense(inputs = hidden, units = n_output, name = 'score')\n",
    "        return score\n",
    "    \n",
    "    def inf(self, x):\n",
    "        conv = self.conv_block(x, self.k_chs, self.n_conv_block)\n",
    "        score = self.fc_layers(conv, self.n_hid_node, self.n_hid_layer, self.n_output)\n",
    "        return score"
   ]
  },
  {
   "cell_type": "code",
   "execution_count": 17,
   "metadata": {
    "ExecuteTime": {
     "end_time": "2020-01-22T02:00:57.429764Z",
     "start_time": "2020-01-22T02:00:56.036374Z"
    }
   },
   "outputs": [],
   "source": [
    "tf.reset_default_graph()\n",
    "\n",
    "x = tf.placeholder(tf.float32, [None, input_h, input_w, input_ch], name = 'img')\n",
    "y = tf.placeholder(tf.float32, [None, n_output], name = 'label')\n",
    "#rate = tf.placeholder(tf.float32, name = 'rate') # tf.layers.dropout용 얼만큼 드랍아웃할건지\n",
    "is_training = tf.placeholder(tf.bool, name = 'is_training')\n",
    "LR = tf.placeholder(tf.float32)\n",
    "\n",
    "model = CE_cnn(k_chs, n_conv_block, n_hid_node, n_hid_layer, n_output)\n",
    "score = model.inf(x)\n",
    "loss = tf.losses.softmax_cross_entropy(onehot_labels=y, logits=score)\n",
    "loss = tf.reduce_mean(loss)\n",
    "\n",
    "# update_ops = tf.get_collection(tf.GraphKeys.UPDATE_OPS)\n",
    "# with tf.control_dependencies(update_ops):\n",
    "#     optm = tf.train.AdamOptimizer(learning_rate=lr).minimize(loss)\n",
    "optm = tf.train.AdamOptimizer(LR).minimize(loss)\n",
    "\n",
    "saver = tf.train.Saver()\n",
    "sess = tf.Session()\n",
    "\n",
    "init = tf.global_variables_initializer()\n",
    "sess.run(init)"
   ]
  },
  {
   "cell_type": "markdown",
   "metadata": {},
   "source": [
    "# Training"
   ]
  },
  {
   "cell_type": "markdown",
   "metadata": {
    "ExecuteTime": {
     "end_time": "2020-01-15T09:17:47.017357Z",
     "start_time": "2020-01-15T08:47:40.204Z"
    }
   },
   "source": [
    "damped_exp_LR(15000, alpha = 0.0001) <br>\n",
    "n_batch (per class) = 50  <br>\n",
    "cal_interval = 10 <br>\n",
    "prt_interval = 100 <br>"
   ]
  },
  {
   "cell_type": "code",
   "execution_count": 12,
   "metadata": {
    "ExecuteTime": {
     "end_time": "2020-01-22T01:57:01.255262Z",
     "start_time": "2020-01-22T01:57:01.244496Z"
    }
   },
   "outputs": [],
   "source": [
    "h_train_path = np.hstack([redspot_train_path, angio_train_path, active_train_path])\n",
    "h_valid_path = np.hstack([redspot_valid_path, angio_valid_path, active_valid_path])\n",
    "\n",
    "a_train_path = shuffle(h_train_path, None)\n",
    "a_valid_path = shuffle(h_valid_path, None)"
   ]
  },
  {
   "cell_type": "code",
   "execution_count": 13,
   "metadata": {
    "ExecuteTime": {
     "end_time": "2020-01-22T01:57:01.261565Z",
     "start_time": "2020-01-22T01:57:01.257499Z"
    }
   },
   "outputs": [
    {
     "data": {
      "text/plain": [
       "<function ce_utils.damped_exp_LR(n_iter, f=20, A=0.0005, alpha=0.0002, gamma=0.1)>"
      ]
     },
     "execution_count": 13,
     "metadata": {},
     "output_type": "execute_result"
    }
   ],
   "source": [
    "damped_exp_LR"
   ]
  },
  {
   "cell_type": "code",
   "execution_count": 16,
   "metadata": {
    "ExecuteTime": {
     "end_time": "2020-01-22T02:00:46.786834Z",
     "start_time": "2020-01-22T02:00:46.627801Z"
    }
   },
   "outputs": [
    {
     "data": {
      "text/plain": [
       "[<matplotlib.lines.Line2D at 0x7fc479971b00>]"
      ]
     },
     "execution_count": 16,
     "metadata": {},
     "output_type": "execute_result"
    },
    {
     "data": {
      "image/png": "[encoded data removed]",
      "text/plain": [
       "<Figure size 432x288 with 1 Axes>"
      ]
     },
     "metadata": {
      "needs_background": "light"
     },
     "output_type": "display_data"
    }
   ],
   "source": [
    "D_lr = damped_exp_LR(15000, alpha = 0.0001)\n",
    "\n",
    "plt.plot(D_lr)"
   ]
  },
  {
   "cell_type": "code",
   "execution_count": null,
   "metadata": {
    "ExecuteTime": {
     "start_time": "2020-01-22T02:01:19.942Z"
    },
    "scrolled": false
   },
   "outputs": [
    {
     "name": "stdout",
     "output_type": "stream",
     "text": [
      "==============================================================\n",
      "[Iter] || Train_accr || Valid_accr || Train_loss || Valid_loss\n",
      "==============================================================\n",
      "[*100] || 60.00 %    || 55.00 %    || 0.66115355 || 0.68353188\n",
      "--------------------------------------------------------------\n",
      "[*200] || 78.00 %    || 84.00 %    || 0.43310246 || 0.37554091\n",
      "--------------------------------------------------------------\n",
      "[*300] || 94.00 %    || 85.00 %    || 0.16211256 || 0.42993107\n",
      "--------------------------------------------------------------\n",
      "[*400] || 91.00 %    || 94.00 %    || 0.18798161 || 0.24669334\n",
      "--------------------------------------------------------------\n",
      "[*500] || 94.00 %    || 93.00 %    || 0.19421081 || 0.17427076\n",
      "--------------------------------------------------------------\n",
      "[*600] || 96.00 %    || 93.00 %    || 0.10383241 || 0.17131454\n",
      "--------------------------------------------------------------\n",
      "[*700] || 95.00 %    || 94.00 %    || 0.14508116 || 0.12904902\n",
      "--------------------------------------------------------------\n",
      "[*800] || 96.00 %    || 94.00 %    || 0.12220944 || 0.13213021\n",
      "--------------------------------------------------------------\n",
      "[*900] || 96.00 %    || 96.00 %    || 0.15639204 || 0.11008417\n",
      "--------------------------------------------------------------\n"
     ]
    }
   ],
   "source": [
    "sess = tf.Session()\n",
    "init = tf.global_variables_initializer()\n",
    "sess.run(init)\n",
    "\n",
    "n_iter = 0\n",
    "n_batch = 50\n",
    "cal_interval = 10\n",
    "prt_interval = 100\n",
    " \n",
    "early_stopping = False\n",
    "accr_train, accr_valid, loss_train, loss_valid = [], [], [], []\n",
    "mean_accr_t, mean_accr_v, mean_loss_t, mean_loss_v = [], [], [], []\n",
    "hist = training_history(accr_train, accr_valid, loss_train, loss_valid)\n",
    "hist.table()\n",
    "\n",
    "start_time = time.time()\n",
    "\n",
    "while True:\n",
    "    neg_train_x, neg_train_y = load_random_minibatch(neg_train_path, cls = 0, batch_size = n_batch)\n",
    "    a_train_x, a_train_y = load_random_minibatch(a_train_path, cls = 1, batch_size = n_batch)\n",
    "    train_x = np.vstack([neg_train_x, a_train_x])\n",
    "    train_y = np.vstack([neg_train_y, a_train_y])\n",
    "    train_x, train_y = shuffle(train_x, train_y)\n",
    "    \n",
    "    sess.run(optm, feed_dict = {'img:0': train_x, 'label:0': train_y, 'is_training:0' :1, LR: D_lr[n_iter]})\n",
    "    n_iter += 1\n",
    "    \n",
    "    if n_iter % cal_interval == 0:\n",
    "        c, p = sess.run([loss, score], feed_dict = {'img:0': train_x, 'label:0': train_y, 'is_training:0' :0})\n",
    "\n",
    "        p = np.argmax(p, axis = 1)\n",
    "        l = np.argmax(train_y, axis = 1)\n",
    "        a = np.mean(np.equal(p, l))\n",
    "        \n",
    "        neg_valid_x, neg_valid_y = load_random_minibatch(neg_valid_path, cls = 0, batch_size = n_batch)\n",
    "        a_valid_x, a_valid_y = load_random_minibatch(a_valid_path, cls = 1, batch_size = n_batch)\n",
    "        valid_x = np.vstack([neg_valid_x, a_valid_x])\n",
    "        valid_y = np.vstack([neg_valid_y, a_valid_y])\n",
    "        \n",
    "        c_valid, p_valid = sess.run([loss, score], feed_dict = {'img:0': valid_x, 'label:0': valid_y, 'is_training:0' :0})\n",
    "\n",
    "        p_valid = np.argmax(p_valid, axis = 1)\n",
    "        l_valid = np.argmax(valid_y, axis = 1)\n",
    "        a_valid = np.mean(np.equal(p_valid, l_valid))\n",
    "\n",
    "        accr_valid.append(a_valid)\n",
    "        loss_valid.append(c_valid)\n",
    "        accr_train.append(a)\n",
    "        loss_train.append(c)\n",
    "\n",
    "        if n_iter % prt_interval == 0:\n",
    "            hist.prt_evl(n_iter)\n",
    "        if n_iter >= 10:\n",
    "            mean_accr_t.append(np.mean(accr_train[-10:])), mean_accr_v.append(np.mean(accr_valid[-10:]))\n",
    "            mean_loss_t.append(np.mean(loss_train[-10:])), mean_loss_v.append(np.mean(loss_valid[-10:]))\n",
    "        if mean_loss_v[-1] == np.min(mean_loss_v):\n",
    "            now = datetime.datetime.now()\n",
    "            nowDatetime = now.strftime('%y%m%d%H%M')\n",
    "            model_name = 'X160_v2_fr_NH_{0}_{1}'.format(nowDatetime, n_iter)\n",
    "            model_spec = 't_acc_{0:.2f}_v_acc_{1:.2f}_t_loss_{2:.6f}_v_loss_{3:.6f}'.format(mean_accr_t[-1], mean_accr_v[-1], \n",
    "                                                                                            mean_loss_t[-1], mean_loss_v[-1])\n",
    "            saver.save(sess, './model/' + model_name + '_' + model_spec)\n",
    "        if n_iter == 10000:\n",
    "            break\n",
    "#         if n_iter > 5000:\n",
    "#             if np.max(accr_train) < 0.9:\n",
    "#                 if np.mean(loss_train[-50:-30]) <= np.mean(loss_train[-30:]) :\n",
    "#                     hist.early_under(n_iter)\n",
    "#                     early_stopping = True\n",
    "#                     break\n",
    "#             if np.mean(accr_train[-50:]) >= 0.995:\n",
    "#                 if (\n",
    "#                     np.mean(loss_valid[-41:-21]) <= np.mean(loss_valid[-21:-1]) and\n",
    "#                     loss_valid[-1] < loss_valid[-2] # np.min(loss_valid[-20:]) == loss_valid[-1]\n",
    "#                     ):\n",
    "#                     hist.early_over(n_iter)\n",
    "#                     early_stopping = True\n",
    "#                     break          \n",
    "    \n",
    "train_time = int((time.time() - start_time)/60)  \n",
    "hist.done(n_iter, train_time, early_stopping)\n",
    "\n",
    "hist.plot(cal_interval)   \n",
    "\n",
    "# sess.close()"
   ]
  },
  {
   "cell_type": "code",
   "execution_count": null,
   "metadata": {},
   "outputs": [],
   "source": []
  }
 ],
 "metadata": {
  "hide_input": false,
  "kernelspec": {
   "display_name": "Python 3",
   "language": "python",
   "name": "python3"
  },
  "language_info": {
   "codemirror_mode": {
    "name": "ipython",
    "version": 3
   },
   "file_extension": ".py",
   "mimetype": "text/x-python",
   "name": "python",
   "nbconvert_exporter": "python",
   "pygments_lexer": "ipython3",
   "version": "3.5.2"
  },
  "toc": {
   "base_numbering": 1,
   "nav_menu": {},
   "number_sections": true,
   "sideBar": true,
   "skip_h1_title": false,
   "title_cell": "Table of Contents",
   "title_sidebar": "Contents",
   "toc_cell": false,
   "toc_position": {},
   "toc_section_display": true,
   "toc_window_display": false
  }
 },
 "nbformat": 4,
 "nbformat_minor": 2
}
