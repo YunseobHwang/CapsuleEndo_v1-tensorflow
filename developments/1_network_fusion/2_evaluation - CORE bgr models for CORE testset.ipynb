{
 "cells": [
  {
   "cell_type": "code",
   "execution_count": 1,
   "metadata": {
    "ExecuteTime": {
     "end_time": "2020-01-21T06:51:00.176084Z",
     "start_time": "2020-01-21T06:50:59.911737Z"
    }
   },
   "outputs": [
    {
     "name": "stdout",
     "output_type": "stream",
     "text": [
      "Tue Jan 21 15:50:59 2020       \n",
      "+-----------------------------------------------------------------------------+\n",
      "| NVIDIA-SMI 430.26       Driver Version: 430.26       CUDA Version: 10.2     |\n",
      "|-------------------------------+----------------------+----------------------+\n",
      "| GPU  Name        Persistence-M| Bus-Id        Disp.A | Volatile Uncorr. ECC |\n",
      "| Fan  Temp  Perf  Pwr:Usage/Cap|         Memory-Usage | GPU-Util  Compute M. |\n",
      "|===============================+======================+======================|\n",
      "|   0  GeForce RTX 208...  Off  | 00000000:1D:00.0 Off |                  N/A |\n",
      "| 27%   28C    P8    13W / 250W |     10MiB / 11019MiB |      0%      Default |\n",
      "+-------------------------------+----------------------+----------------------+\n",
      "|   1  GeForce RTX 208...  Off  | 00000000:1E:00.0 Off |                  N/A |\n",
      "| 27%   26C    P8     6W / 250W |  10927MiB / 11019MiB |      0%      Default |\n",
      "+-------------------------------+----------------------+----------------------+\n",
      "|   2  GeForce RTX 208...  Off  | 00000000:1F:00.0 Off |                  N/A |\n",
      "| 27%   26C    P8    21W / 250W |   9971MiB / 11019MiB |      0%      Default |\n",
      "+-------------------------------+----------------------+----------------------+\n",
      "|   3  GeForce RTX 208...  Off  | 00000000:20:00.0 Off |                  N/A |\n",
      "| 32%   48C    P2    85W / 250W |  10925MiB / 11019MiB |     12%      Default |\n",
      "+-------------------------------+----------------------+----------------------+\n",
      "|   4  GeForce RTX 208...  Off  | 00000000:21:00.0 Off |                  N/A |\n",
      "| 27%   27C    P8    25W / 250W |  10665MiB / 11019MiB |      0%      Default |\n",
      "+-------------------------------+----------------------+----------------------+\n",
      "|   5  GeForce RTX 208...  Off  | 00000000:22:00.0 Off |                  N/A |\n",
      "| 34%   55C    P2    89W / 250W |  10925MiB / 11019MiB |     33%      Default |\n",
      "+-------------------------------+----------------------+----------------------+\n",
      "|   6  GeForce RTX 208...  Off  | 00000000:23:00.0 Off |                  N/A |\n",
      "| 34%   55C    P2    78W / 250W |  10925MiB / 11019MiB |     12%      Default |\n",
      "+-------------------------------+----------------------+----------------------+\n",
      "|   7  GeForce RTX 208...  Off  | 00000000:24:00.0 Off |                  N/A |\n",
      "| 27%   28C    P8     1W / 250W |     10MiB / 11019MiB |      0%      Default |\n",
      "+-------------------------------+----------------------+----------------------+\n",
      "                                                                               \n",
      "+-----------------------------------------------------------------------------+\n",
      "| Processes:                                                       GPU Memory |\n",
      "|  GPU       PID   Type   Process name                             Usage      |\n",
      "|=============================================================================|\n",
      "|    1     47063      C   /usr/bin/python3                           10917MiB |\n",
      "|    2     48768      C   /usr/bin/python3                            9961MiB |\n",
      "|    3     32974      C   /usr/bin/python3                           10915MiB |\n",
      "|    4      9736      C   /usr/bin/python3                           10655MiB |\n",
      "|    5     32989      C   /usr/bin/python3                           10915MiB |\n",
      "|    6     32959      C   /usr/bin/python3                           10915MiB |\n",
      "+-----------------------------------------------------------------------------+\n"
     ]
    }
   ],
   "source": [
    "!nvidia-smi"
   ]
  },
  {
   "cell_type": "code",
   "execution_count": 2,
   "metadata": {
    "ExecuteTime": {
     "end_time": "2020-01-21T06:51:06.110284Z",
     "start_time": "2020-01-21T06:51:04.030464Z"
    }
   },
   "outputs": [
    {
     "name": "stderr",
     "output_type": "stream",
     "text": [
      "/usr/local/lib/python3.5/dist-packages/tensorflow/python/framework/dtypes.py:516: FutureWarning: Passing (type, 1) or '1type' as a synonym of type is deprecated; in a future version of numpy, it will be understood as (type, (1,)) / '(1,)type'.\n",
      "  _np_qint8 = np.dtype([(\"qint8\", np.int8, 1)])\n",
      "/usr/local/lib/python3.5/dist-packages/tensorflow/python/framework/dtypes.py:517: FutureWarning: Passing (type, 1) or '1type' as a synonym of type is deprecated; in a future version of numpy, it will be understood as (type, (1,)) / '(1,)type'.\n",
      "  _np_quint8 = np.dtype([(\"quint8\", np.uint8, 1)])\n",
      "/usr/local/lib/python3.5/dist-packages/tensorflow/python/framework/dtypes.py:518: FutureWarning: Passing (type, 1) or '1type' as a synonym of type is deprecated; in a future version of numpy, it will be understood as (type, (1,)) / '(1,)type'.\n",
      "  _np_qint16 = np.dtype([(\"qint16\", np.int16, 1)])\n",
      "/usr/local/lib/python3.5/dist-packages/tensorflow/python/framework/dtypes.py:519: FutureWarning: Passing (type, 1) or '1type' as a synonym of type is deprecated; in a future version of numpy, it will be understood as (type, (1,)) / '(1,)type'.\n",
      "  _np_quint16 = np.dtype([(\"quint16\", np.uint16, 1)])\n",
      "/usr/local/lib/python3.5/dist-packages/tensorflow/python/framework/dtypes.py:520: FutureWarning: Passing (type, 1) or '1type' as a synonym of type is deprecated; in a future version of numpy, it will be understood as (type, (1,)) / '(1,)type'.\n",
      "  _np_qint32 = np.dtype([(\"qint32\", np.int32, 1)])\n",
      "/usr/local/lib/python3.5/dist-packages/tensorflow/python/framework/dtypes.py:525: FutureWarning: Passing (type, 1) or '1type' as a synonym of type is deprecated; in a future version of numpy, it will be understood as (type, (1,)) / '(1,)type'.\n",
      "  np_resource = np.dtype([(\"resource\", np.ubyte, 1)])\n",
      "/usr/local/lib/python3.5/dist-packages/tensorboard/compat/tensorflow_stub/dtypes.py:541: FutureWarning: Passing (type, 1) or '1type' as a synonym of type is deprecated; in a future version of numpy, it will be understood as (type, (1,)) / '(1,)type'.\n",
      "  _np_qint8 = np.dtype([(\"qint8\", np.int8, 1)])\n",
      "/usr/local/lib/python3.5/dist-packages/tensorboard/compat/tensorflow_stub/dtypes.py:542: FutureWarning: Passing (type, 1) or '1type' as a synonym of type is deprecated; in a future version of numpy, it will be understood as (type, (1,)) / '(1,)type'.\n",
      "  _np_quint8 = np.dtype([(\"quint8\", np.uint8, 1)])\n",
      "/usr/local/lib/python3.5/dist-packages/tensorboard/compat/tensorflow_stub/dtypes.py:543: FutureWarning: Passing (type, 1) or '1type' as a synonym of type is deprecated; in a future version of numpy, it will be understood as (type, (1,)) / '(1,)type'.\n",
      "  _np_qint16 = np.dtype([(\"qint16\", np.int16, 1)])\n",
      "/usr/local/lib/python3.5/dist-packages/tensorboard/compat/tensorflow_stub/dtypes.py:544: FutureWarning: Passing (type, 1) or '1type' as a synonym of type is deprecated; in a future version of numpy, it will be understood as (type, (1,)) / '(1,)type'.\n",
      "  _np_quint16 = np.dtype([(\"quint16\", np.uint16, 1)])\n",
      "/usr/local/lib/python3.5/dist-packages/tensorboard/compat/tensorflow_stub/dtypes.py:545: FutureWarning: Passing (type, 1) or '1type' as a synonym of type is deprecated; in a future version of numpy, it will be understood as (type, (1,)) / '(1,)type'.\n",
      "  _np_qint32 = np.dtype([(\"qint32\", np.int32, 1)])\n",
      "/usr/local/lib/python3.5/dist-packages/tensorboard/compat/tensorflow_stub/dtypes.py:550: FutureWarning: Passing (type, 1) or '1type' as a synonym of type is deprecated; in a future version of numpy, it will be understood as (type, (1,)) / '(1,)type'.\n",
      "  np_resource = np.dtype([(\"resource\", np.ubyte, 1)])\n"
     ]
    }
   ],
   "source": [
    "import os\n",
    "os.environ[\"CUDA_DEVICE_ORDER\"]=\"PCI_BUS_ID\"\n",
    "os.environ[\"CUDA_VISIBLE_DEVICES\"]=\"0\"\n",
    "\n",
    "import numpy as np\n",
    "import matplotlib.pyplot as plt\n",
    "\n",
    "import sys\n",
    "sys.path.append('/mnt/disk1/project/SMhospital/capsule/ce_packages')\n",
    "\n",
    "from ce_utils import load_data, one_hot, test_batch_idxs, batch_flatten\n",
    "from ce_utils import model_prob\n",
    "from ce_utils import classification_metric\n",
    "from ce_model import binary_model, ensemble_model"
   ]
  },
  {
   "cell_type": "markdown",
   "metadata": {},
   "source": [
    "# Load Data"
   ]
  },
  {
   "cell_type": "code",
   "execution_count": 31,
   "metadata": {
    "ExecuteTime": {
     "end_time": "2020-01-21T06:54:20.272499Z",
     "start_time": "2020-01-21T06:54:20.251573Z"
    }
   },
   "outputs": [],
   "source": [
    "import glob\n",
    "import cv2\n",
    "\n",
    "\n",
    "def load_data(phase, cls, les = None, data = 'sm', data_dir = '/mnt/disk2/data/private_data/SMhospital/capsule/1 preprocessed', \n",
    "              extract_name = True, image_ch = 'rgb'):\n",
    "    \"\"\"\n",
    "    phase = 'train', 'test'\n",
    "    cls: [les]  \n",
    "      'n': ['neg']\n",
    "      'h': ['redspot', 'angio', 'active'], \n",
    "      'd': ['ero', 'ulc', 'str'],\n",
    "      'p': ['amp', 'lym', 'tum']}\n",
    "    \"\"\"\n",
    "    lesions = dict(neg = 'negative', \n",
    "                   redspot = 'red_spot', angio = 'angioectasia', active = 'active_bleeding', \n",
    "                   ero = 'erosion', ulcer = 'ulcer', str = 'stricture', \n",
    "                   amp = 'ampulla_of_vater', lym = 'lymphoid_follicles', tum = 'small_bowel_tumor')\n",
    "    classes = dict(n = 'negative', h = 'hemorrhagic', d = 'depressed', p = 'protruded')\n",
    "\n",
    "    path = os.path.join(data_dir, data, phase, classes[cls], lesions[les])\n",
    "    pathlist = glob.glob(path + '/*.jpg')\n",
    "    \n",
    "    new_pathlist = []\n",
    "    for p in pathlist:\n",
    "        name = os.path.basename(p)\n",
    "        name_seg1 = name.split('___')[0]\n",
    "        if not ('f_' in name_seg1 or 'r1_' in name_seg1 or 'r2_' in name_seg1 or 'r3_' in name_seg1):\n",
    "            new_pathlist.append(p)\n",
    "    return load_image_from_path(new_pathlist, image_ch = image_ch, extract_name = extract_name)\n",
    "\n",
    "def load_image_from_path(pathlist,image_ch = 'bgr', extract_name = False):\n",
    "    data = []\n",
    "    for i in pathlist:\n",
    "        temp = cv2.imread(i)\n",
    "        if image_ch == 'bgr':\n",
    "            pass\n",
    "        elif image_ch == 'rgb':\n",
    "            temp = cv2.cvtColor(temp, cv2.COLOR_BGR2RGB)\n",
    "        elif image_ch == 'hsv':\n",
    "            temp = cv2.cvtColor(temp, cv2.COLOR_BGR2HSV)\n",
    "        data.append(temp)\n",
    "    if extract_name != False:\n",
    "        name = []\n",
    "        for i in pathlist:\n",
    "            name.append(os.path.basename(i))\n",
    "        return np.asarray(data), np.asarray(name)\n",
    "    else:\n",
    "        return np.asarray(data) "
   ]
  },
  {
   "cell_type": "code",
   "execution_count": 32,
   "metadata": {
    "ExecuteTime": {
     "end_time": "2020-01-21T06:54:22.839126Z",
     "start_time": "2020-01-21T06:54:20.733217Z"
    }
   },
   "outputs": [],
   "source": [
    "neg_nh_img, neg_nh_name = load_data('test', 'n', 'neg', data = 'sm_core/nh')\n",
    "neg_nd_img, neg_nd_name = load_data('test', 'n', 'neg', data = 'sm_core/nd')\n",
    "neg_img, neg_name = np.vstack([neg_nh_img, neg_nd_img]), np.hstack([neg_nh_name, neg_nd_name])\n",
    "redspot_img, redspot_name = load_data('test', 'h', 'redspot', data = 'sm_core/nh')\n",
    "angio_img, angio_name = load_data('test', 'h', 'angio', data = 'sm_core/nh')\n",
    "active_img, active_name = load_data('test', 'h', 'active', data = 'sm_core/nh')\n",
    "ero_img, ero_name = load_data('test', 'd', 'ero', data = 'sm_core/nd')\n",
    "ulcer_img, ulcer_name = load_data('test', 'd', 'ulcer', data = 'sm_core/nd')\n",
    "str_img, str_name = load_data('test', 'd', 'str', data = 'sm_core/nd')"
   ]
  },
  {
   "cell_type": "code",
   "execution_count": 33,
   "metadata": {
    "ExecuteTime": {
     "end_time": "2020-01-21T06:54:22.856628Z",
     "start_time": "2020-01-21T06:54:22.841249Z"
    }
   },
   "outputs": [
    {
     "name": "stdout",
     "output_type": "stream",
     "text": [
      "total negative: (299, 512, 512, 3) (299, 2)\n",
      "negative for nh: (98, 512, 512, 3) (98, 2)\n",
      "negative for nd: (201, 512, 512, 3) (201, 2)\n",
      "\n",
      "red spot: (46, 512, 512, 3) (46, 2)\n",
      "angioectasia: (3, 512, 512, 3) (3, 2)\n",
      "active_bleeding: (50, 512, 512, 3) (50, 2)\n",
      "erosion: (97, 512, 512, 3) (97, 2)\n",
      "ulcer: (95, 512, 512, 3) (95, 2)\n",
      "stricture: (10, 512, 512, 3) (10, 2)\n"
     ]
    }
   ],
   "source": [
    "neg_nh_label = one_hot(neg_nh_img, 0)\n",
    "neg_nd_label = one_hot(neg_nd_img, 0)\n",
    "neg_label = one_hot(neg_img, 0)\n",
    "redspot_label = one_hot(redspot_img, 1)\n",
    "angio_label = one_hot(angio_img, 1)\n",
    "active_label = one_hot(active_img, 1)\n",
    "ero_label = one_hot(ero_img, 1)\n",
    "ulcer_label = one_hot(ulcer_img, 1)\n",
    "str_label = one_hot(str_img, 1)\n",
    "\n",
    "print(\"total negative:\",neg_img.shape, neg_label.shape)\n",
    "print(\"negative for nh:\",neg_nh_img.shape, neg_nh_label.shape)\n",
    "print(\"negative for nd:\",neg_nd_img.shape, neg_nd_label.shape)\n",
    "print('')\n",
    "print(\"red spot:\",redspot_img.shape, redspot_label.shape)\n",
    "print(\"angioectasia:\",angio_img.shape, angio_label.shape)\n",
    "print(\"active_bleeding:\",active_img.shape, active_label.shape)\n",
    "print(\"erosion:\",ero_img.shape, ero_label.shape)\n",
    "print(\"ulcer:\",ulcer_img.shape, ulcer_label.shape)\n",
    "print(\"stricture:\",str_img.shape, str_label.shape)"
   ]
  },
  {
   "cell_type": "markdown",
   "metadata": {},
   "source": [
    "# Model Inference"
   ]
  },
  {
   "cell_type": "code",
   "execution_count": 34,
   "metadata": {
    "ExecuteTime": {
     "end_time": "2020-01-21T06:54:22.864006Z",
     "start_time": "2020-01-21T06:54:22.858815Z"
    }
   },
   "outputs": [],
   "source": [
    "nh_list = sorted([i[:-5] for i in os.listdir('./model/CORE') if 'meta' in i and 'CORE_rgb_NH' in i])\n",
    "nd_list = sorted([i[:-5] for i in os.listdir('./model/CORE') if 'meta' in i and 'CORE_rgb_ND' in i])\n",
    "b_list = sorted([i[:-5] for i in os.listdir('./model/CORE') if 'meta' in i and 'CORE_rgb_B' in i])"
   ]
  },
  {
   "cell_type": "code",
   "execution_count": 35,
   "metadata": {
    "ExecuteTime": {
     "end_time": "2020-01-21T06:54:22.870531Z",
     "start_time": "2020-01-21T06:54:22.866071Z"
    }
   },
   "outputs": [
    {
     "data": {
      "text/plain": [
       "['CORE_rgb_NH_2001041908_8770_val_acc_1.00_val_loss_0.000000',\n",
       " 'CORE_rgb_NH_2001041909_8890_val_acc_1.00_val_loss_0.000000',\n",
       " 'CORE_rgb_NH_2001041909_8960_val_acc_1.00_val_loss_0.000000',\n",
       " 'CORE_rgb_NH_2001041913_9360_val_acc_1.00_val_loss_0.000000',\n",
       " 'CORE_rgb_NH_2001041914_9540_val_acc_1.00_val_loss_0.000000']"
      ]
     },
     "execution_count": 35,
     "metadata": {},
     "output_type": "execute_result"
    }
   ],
   "source": [
    "nh_list"
   ]
  },
  {
   "cell_type": "code",
   "execution_count": 36,
   "metadata": {
    "ExecuteTime": {
     "end_time": "2020-01-21T06:54:22.876361Z",
     "start_time": "2020-01-21T06:54:22.872319Z"
    },
    "scrolled": false
   },
   "outputs": [
    {
     "data": {
      "text/plain": [
       "['CORE_rgb_ND_2001041923_8910_val_acc_1.00_val_loss_0.000802',\n",
       " 'CORE_rgb_ND_2001041925_9170_val_acc_1.00_val_loss_0.000772',\n",
       " 'CORE_rgb_ND_2001042207_10030_val_acc_1.00_val_loss_0.000457',\n",
       " 'CORE_rgb_ND_2001042207_10040_val_acc_1.00_val_loss_0.000284',\n",
       " 'CORE_rgb_ND_2001042229_12730_val_acc_1.00_val_loss_0.000018']"
      ]
     },
     "execution_count": 36,
     "metadata": {},
     "output_type": "execute_result"
    }
   ],
   "source": [
    "nd_list"
   ]
  },
  {
   "cell_type": "code",
   "execution_count": 37,
   "metadata": {
    "ExecuteTime": {
     "end_time": "2020-01-21T06:54:22.886420Z",
     "start_time": "2020-01-21T06:54:22.879993Z"
    }
   },
   "outputs": [
    {
     "data": {
      "text/plain": [
       "['CORE_rgb_B_2001041918_7510_val_acc_1.00_val_loss_0.004834',\n",
       " 'CORE_rgb_B_2001041919_7670_val_acc_1.00_val_loss_0.001308',\n",
       " 'CORE_rgb_B_2001041926_8400_val_acc_1.00_val_loss_0.000314',\n",
       " 'CORE_rgb_B_2001042014_13950_val_acc_1.00_val_loss_0.000256',\n",
       " 'CORE_rgb_B_2001042017_14320_val_acc_1.00_val_loss_0.000236']"
      ]
     },
     "execution_count": 37,
     "metadata": {},
     "output_type": "execute_result"
    }
   ],
   "source": [
    "b_list"
   ]
  },
  {
   "cell_type": "code",
   "execution_count": 38,
   "metadata": {
    "ExecuteTime": {
     "end_time": "2020-01-21T06:54:25.884002Z",
     "start_time": "2020-01-21T06:54:23.317289Z"
    }
   },
   "outputs": [],
   "source": [
    "nh_path = './model/CORE/' + nh_list[0]\n",
    "nd_path = './model/CORE/' + nd_list[0]\n",
    "b_path = './model/CORE/' + b_list[0]\n",
    "\n",
    "NH_model = binary_model(nh_path)\n",
    "ND_model = binary_model(nd_path)\n",
    "E_model = ensemble_model(nh_path, nd_path)\n",
    "B_model = binary_model(b_path)"
   ]
  },
  {
   "cell_type": "code",
   "execution_count": 39,
   "metadata": {
    "ExecuteTime": {
     "end_time": "2020-01-21T06:54:27.508149Z",
     "start_time": "2020-01-21T06:54:25.886428Z"
    }
   },
   "outputs": [
    {
     "name": "stdout",
     "output_type": "stream",
     "text": [
      "#: 98 / Inference Time: 00:00:00\n",
      "#: 201 / Inference Time: 00:00:01\n"
     ]
    }
   ],
   "source": [
    "neg_nh_output = model_prob(NH_model, neg_nh_img)\n",
    "neg_nd_output = model_prob(ND_model, neg_nd_img)"
   ]
  },
  {
   "cell_type": "code",
   "execution_count": 40,
   "metadata": {
    "ExecuteTime": {
     "end_time": "2020-01-21T06:54:34.593479Z",
     "start_time": "2020-01-21T06:54:27.510425Z"
    }
   },
   "outputs": [
    {
     "name": "stdout",
     "output_type": "stream",
     "text": [
      "#: 299 / Inference Time: 00:00:02\n",
      "#: 46 / Inference Time: 00:00:00\n",
      "#: 3 / Inference Time: 00:00:00\n",
      "#: 50 / Inference Time: 00:00:00\n",
      "#: 97 / Inference Time: 00:00:01\n",
      "#: 95 / Inference Time: 00:00:01\n",
      "#: 10 / Inference Time: 00:00:00\n"
     ]
    }
   ],
   "source": [
    "neg_e_output, _, _ = model_prob(E_model, neg_img, model_type = 'ensemble')\n",
    "redspot_e_output, redspot_nh_output, redspot_nd_output = model_prob(E_model, redspot_img, model_type = 'ensemble')\n",
    "angio_e_output, angio_nh_output, angio_nd_output = model_prob(E_model, angio_img, model_type = 'ensemble')\n",
    "active_e_output, active_nh_output, active_nd_output = model_prob(E_model, active_img, model_type = 'ensemble')\n",
    "ero_e_output, ero_nh_output, ero_nd_output = model_prob(E_model, ero_img, model_type = 'ensemble')\n",
    "ulcer_e_output, ulcer_nh_output, ulcer_nd_output = model_prob(E_model, ulcer_img, model_type = 'ensemble')\n",
    "str_e_output, str_nh_output, str_nd_output  = model_prob(E_model, str_img, model_type = 'ensemble')"
   ]
  },
  {
   "cell_type": "code",
   "execution_count": 41,
   "metadata": {
    "ExecuteTime": {
     "end_time": "2020-01-21T06:54:38.199884Z",
     "start_time": "2020-01-21T06:54:34.597259Z"
    }
   },
   "outputs": [
    {
     "name": "stdout",
     "output_type": "stream",
     "text": [
      "#: 299 / Inference Time: 00:00:01\n",
      "#: 46 / Inference Time: 00:00:00\n",
      "#: 3 / Inference Time: 00:00:00\n",
      "#: 50 / Inference Time: 00:00:00\n",
      "#: 97 / Inference Time: 00:00:00\n",
      "#: 95 / Inference Time: 00:00:00\n",
      "#: 10 / Inference Time: 00:00:00\n"
     ]
    }
   ],
   "source": [
    "neg_b_output = model_prob(B_model, neg_img)\n",
    "redspot_b_output = model_prob(B_model, redspot_img)\n",
    "angio_b_output = model_prob(B_model, angio_img)\n",
    "active_b_output = model_prob(B_model, active_img)\n",
    "ero_b_output = model_prob(B_model, ero_img)\n",
    "ulcer_b_output = model_prob(B_model, ulcer_img)\n",
    "str_b_output  = model_prob(B_model, str_img)"
   ]
  },
  {
   "cell_type": "markdown",
   "metadata": {},
   "source": [
    "# Evaluation"
   ]
  },
  {
   "cell_type": "code",
   "execution_count": 42,
   "metadata": {
    "ExecuteTime": {
     "end_time": "2020-01-21T06:54:38.205618Z",
     "start_time": "2020-01-21T06:54:38.202348Z"
    }
   },
   "outputs": [],
   "source": [
    "cls = classification_metric()"
   ]
  },
  {
   "cell_type": "markdown",
   "metadata": {},
   "source": [
    "## Accuracy per lesion"
   ]
  },
  {
   "cell_type": "code",
   "execution_count": 43,
   "metadata": {
    "ExecuteTime": {
     "end_time": "2020-01-21T06:54:38.214952Z",
     "start_time": "2020-01-21T06:54:38.208760Z"
    }
   },
   "outputs": [
    {
     "name": "stdout",
     "output_type": "stream",
     "text": [
      "Accuracy: 100.00 %\n",
      "Accuracy: 97.83 %\n",
      "Accuracy: 100.00 %\n",
      "Accuracy: 100.00 %\n"
     ]
    }
   ],
   "source": [
    "neg_nh_acc = cls.accuracy(neg_nh_label, neg_nh_output)\n",
    "redspot_nh_acc = cls.accuracy(redspot_label, redspot_nh_output)\n",
    "angio_nh_acc = cls.accuracy(angio_label, angio_nh_output)\n",
    "active_nh_acc = cls.accuracy(active_label, active_nh_output)"
   ]
  },
  {
   "cell_type": "code",
   "execution_count": 44,
   "metadata": {
    "ExecuteTime": {
     "end_time": "2020-01-21T06:54:38.223154Z",
     "start_time": "2020-01-21T06:54:38.217253Z"
    }
   },
   "outputs": [
    {
     "name": "stdout",
     "output_type": "stream",
     "text": [
      "Accuracy: 99.00 %\n",
      "Accuracy: 97.94 %\n",
      "Accuracy: 95.79 %\n",
      "Accuracy: 100.00 %\n"
     ]
    }
   ],
   "source": [
    "neg_nd_acc = cls.accuracy(neg_nd_label, neg_nd_output)\n",
    "ero_nd_acc = cls.accuracy(ero_label, ero_nd_output)\n",
    "ulcer_nd_acc = cls.accuracy(ulcer_label, ulcer_nd_output)\n",
    "str_nd_acc = cls.accuracy(str_label, str_nd_output)"
   ]
  },
  {
   "cell_type": "code",
   "execution_count": 45,
   "metadata": {
    "ExecuteTime": {
     "end_time": "2020-01-21T06:54:38.233976Z",
     "start_time": "2020-01-21T06:54:38.225577Z"
    }
   },
   "outputs": [
    {
     "name": "stdout",
     "output_type": "stream",
     "text": [
      "Accuracy: 97.32 %\n",
      "Accuracy: 100.00 %\n",
      "Accuracy: 100.00 %\n",
      "Accuracy: 100.00 %\n",
      "Accuracy: 89.69 %\n",
      "Accuracy: 85.26 %\n",
      "Accuracy: 100.00 %\n"
     ]
    }
   ],
   "source": [
    "neg_b_acc = cls.accuracy(neg_label, neg_b_output)\n",
    "redspot_b_acc = cls.accuracy(redspot_label, redspot_b_output)\n",
    "angio_b_acc = cls.accuracy(angio_label, angio_b_output)\n",
    "active_b_acc = cls.accuracy(active_label, active_b_output)\n",
    "ero_b_acc = cls.accuracy(ero_label, ero_b_output)\n",
    "ulcer_b_acc = cls.accuracy(ulcer_label, ulcer_b_output)\n",
    "str_b_acc = cls.accuracy(str_label, str_b_output)"
   ]
  },
  {
   "cell_type": "code",
   "execution_count": 46,
   "metadata": {
    "ExecuteTime": {
     "end_time": "2020-01-21T06:54:38.249040Z",
     "start_time": "2020-01-21T06:54:38.237535Z"
    }
   },
   "outputs": [
    {
     "name": "stdout",
     "output_type": "stream",
     "text": [
      "Accuracy: 97.99 %\n",
      "Accuracy: 97.83 %\n",
      "Accuracy: 100.00 %\n",
      "Accuracy: 100.00 %\n",
      "Accuracy: 98.97 %\n",
      "Accuracy: 95.79 %\n",
      "Accuracy: 100.00 %\n"
     ]
    }
   ],
   "source": [
    "neg_e_acc = cls.accuracy(neg_label, neg_e_output)\n",
    "redspot_e_acc = cls.accuracy(redspot_label, redspot_e_output)\n",
    "angio_e_acc = cls.accuracy(angio_label, angio_e_output)\n",
    "active_e_acc = cls.accuracy(active_label, active_e_output)\n",
    "ero_e_acc = cls.accuracy(ero_label, ero_e_output)\n",
    "ulcer_e_acc = cls.accuracy(ulcer_label, ulcer_e_output)\n",
    "str_e_acc = cls.accuracy(str_label, str_e_output)"
   ]
  },
  {
   "cell_type": "markdown",
   "metadata": {},
   "source": [
    "## Confusion Matrix"
   ]
  },
  {
   "cell_type": "code",
   "execution_count": 47,
   "metadata": {
    "ExecuteTime": {
     "end_time": "2020-01-21T06:54:56.636949Z",
     "start_time": "2020-01-21T06:54:56.626618Z"
    }
   },
   "outputs": [],
   "source": [
    "nh_outputs = np.vstack([neg_nh_output, redspot_nh_output, angio_nh_output, active_nh_output])\n",
    "labels = np.vstack([neg_nh_label, redspot_label, angio_label, active_label])\n",
    "\n",
    "nh_CM = cls.con_mat(labels, nh_outputs)"
   ]
  },
  {
   "cell_type": "code",
   "execution_count": 48,
   "metadata": {
    "ExecuteTime": {
     "end_time": "2020-01-21T06:54:57.145424Z",
     "start_time": "2020-01-21T06:54:56.809964Z"
    }
   },
   "outputs": [
    {
     "data": {
      "image/png": "[encoded data removed]",
      "text/plain": [
       "<Figure size 1152x576 with 2 Axes>"
      ]
     },
     "metadata": {
      "needs_background": "light"
     },
     "output_type": "display_data"
    }
   ],
   "source": [
    "plt.figure(figsize=(16, 8))\n",
    "plt.subplot(121)\n",
    "cls.plot_cm(nh_CM, value_size = 25, label_size = 20)\n",
    "plt.subplot(122)\n",
    "cls.plot_cm(nh_CM, value_size = 25, label_size = 20, mode = 'num')\n",
    "plt.show()"
   ]
  },
  {
   "cell_type": "code",
   "execution_count": 49,
   "metadata": {
    "ExecuteTime": {
     "end_time": "2020-01-21T06:54:57.510233Z",
     "start_time": "2020-01-21T06:54:57.501037Z"
    }
   },
   "outputs": [],
   "source": [
    "nd_outputs = np.vstack([neg_nd_output, ero_nd_output, ulcer_nd_output, str_nd_output])\n",
    "labels = np.vstack([neg_nd_label, ero_label, ulcer_label, str_label])\n",
    "\n",
    "nd_CM = cls.con_mat(labels, nd_outputs)"
   ]
  },
  {
   "cell_type": "code",
   "execution_count": 50,
   "metadata": {
    "ExecuteTime": {
     "end_time": "2020-01-21T06:54:58.159221Z",
     "start_time": "2020-01-21T06:54:57.877551Z"
    }
   },
   "outputs": [
    {
     "data": {
      "image/png": "[encoded data removed]",
      "text/plain": [
       "<Figure size 1152x576 with 2 Axes>"
      ]
     },
     "metadata": {
      "needs_background": "light"
     },
     "output_type": "display_data"
    }
   ],
   "source": [
    "plt.figure(figsize=(16, 8))\n",
    "plt.subplot(121)\n",
    "cls.plot_cm(nd_CM, value_size = 25, label_size = 20)\n",
    "plt.subplot(122)\n",
    "cls.plot_cm(nd_CM, value_size = 25, label_size = 20, mode = 'num')\n",
    "plt.show()"
   ]
  },
  {
   "cell_type": "code",
   "execution_count": 51,
   "metadata": {
    "ExecuteTime": {
     "end_time": "2020-01-21T06:54:58.224750Z",
     "start_time": "2020-01-21T06:54:58.214579Z"
    }
   },
   "outputs": [],
   "source": [
    "e_outputs = np.vstack([neg_e_output, redspot_e_output, angio_e_output, active_e_output, ero_e_output, ulcer_e_output, str_e_output])\n",
    "labels = np.vstack([neg_label, redspot_label, angio_label, active_label, ero_label, ulcer_label, str_label])\n",
    "\n",
    "e_CM = cls.con_mat(labels, e_outputs)"
   ]
  },
  {
   "cell_type": "code",
   "execution_count": 52,
   "metadata": {
    "ExecuteTime": {
     "end_time": "2020-01-21T06:54:58.884689Z",
     "start_time": "2020-01-21T06:54:58.607692Z"
    }
   },
   "outputs": [
    {
     "data": {
      "image/png": "[encoded data removed]",
      "text/plain": [
       "<Figure size 1152x576 with 2 Axes>"
      ]
     },
     "metadata": {
      "needs_background": "light"
     },
     "output_type": "display_data"
    }
   ],
   "source": [
    "plt.figure(figsize=(16, 8))\n",
    "plt.subplot(121)\n",
    "cls.plot_cm(e_CM, value_size = 25, label_size = 20)\n",
    "plt.subplot(122)\n",
    "cls.plot_cm(e_CM, value_size = 25, label_size = 20, mode = 'num')\n",
    "plt.show()"
   ]
  },
  {
   "cell_type": "code",
   "execution_count": 53,
   "metadata": {
    "ExecuteTime": {
     "end_time": "2020-01-21T06:54:59.781789Z",
     "start_time": "2020-01-21T06:54:59.771704Z"
    }
   },
   "outputs": [],
   "source": [
    "b_outputs = np.vstack([neg_b_output, redspot_b_output, angio_b_output, active_b_output, ero_b_output, ulcer_b_output, str_b_output])\n",
    "labels = np.vstack([neg_label, redspot_label, angio_label, active_label, ero_label, ulcer_label, str_label])\n",
    "\n",
    "b_CM = cls.con_mat(labels, b_outputs)"
   ]
  },
  {
   "cell_type": "code",
   "execution_count": 54,
   "metadata": {
    "ExecuteTime": {
     "end_time": "2020-01-21T06:55:01.480706Z",
     "start_time": "2020-01-21T06:55:01.198986Z"
    }
   },
   "outputs": [
    {
     "data": {
      "image/png": "[encoded data removed]",
      "text/plain": [
       "<Figure size 1152x576 with 2 Axes>"
      ]
     },
     "metadata": {
      "needs_background": "light"
     },
     "output_type": "display_data"
    }
   ],
   "source": [
    "plt.figure(figsize=(16, 8))\n",
    "plt.subplot(121)\n",
    "cls.plot_cm(b_CM, value_size = 25, label_size = 20)\n",
    "plt.grid(False)\n",
    "plt.subplot(122)\n",
    "cls.plot_cm(b_CM, value_size = 25, label_size = 20, mode = 'num')\n",
    "plt.grid(False)\n",
    "plt.show()"
   ]
  },
  {
   "cell_type": "markdown",
   "metadata": {},
   "source": [
    "## ROC curve"
   ]
  },
  {
   "cell_type": "code",
   "execution_count": 55,
   "metadata": {
    "ExecuteTime": {
     "end_time": "2020-01-21T06:55:15.247468Z",
     "start_time": "2020-01-21T06:55:15.236185Z"
    }
   },
   "outputs": [],
   "source": [
    "from scipy.stats import sem, t\n",
    "from scipy import mean\n",
    "\n",
    "def conf_interval(data, conf_level = 0.95, mode = 'value', metric = 'Accr'):\n",
    "    n = len(data)\n",
    "    m = mean(data)\n",
    "    std_err = sem(data)\n",
    "    h = std_err * t.ppf((1 + conf_level) / 2, n - 1)\n",
    "\n",
    "    start = m - h\n",
    "    end = m + h\n",
    "    \n",
    "    if mode == 'value':\n",
    "        return m, start, end\n",
    "    elif mode == 'print':\n",
    "        return print(\"{} --- {:.2f} ({:.2f} ~ {:.2f})\".format(metric, m, start, end))"
   ]
  },
  {
   "cell_type": "code",
   "execution_count": 56,
   "metadata": {
    "ExecuteTime": {
     "end_time": "2020-01-21T06:55:15.408802Z",
     "start_time": "2020-01-21T06:55:15.393225Z"
    }
   },
   "outputs": [],
   "source": [
    "from sklearn.model_selection import KFold"
   ]
  },
  {
   "cell_type": "code",
   "execution_count": 57,
   "metadata": {
    "ExecuteTime": {
     "end_time": "2020-01-21T06:55:15.754579Z",
     "start_time": "2020-01-21T06:55:15.746726Z"
    }
   },
   "outputs": [],
   "source": [
    "def k_fold_idx(n_fold, dataset):\n",
    "    kf = KFold(n_splits = n_fold, shuffle = True)\n",
    "    train_idxs = []\n",
    "    test_idxs = []\n",
    "    for train_idx, test_idx in kf.split(dataset):\n",
    "        train_idxs.append(train_idx)\n",
    "        test_idxs.append(test_idx)\n",
    "    return train_idxs, test_idxs"
   ]
  },
  {
   "cell_type": "code",
   "execution_count": 58,
   "metadata": {
    "ExecuteTime": {
     "end_time": "2020-01-21T06:55:16.170933Z",
     "start_time": "2020-01-21T06:55:16.116181Z"
    }
   },
   "outputs": [
    {
     "ename": "ValueError",
     "evalue": "Cannot have number of splits n_splits=10 greater than the number of samples: n_samples=3.",
     "output_type": "error",
     "traceback": [
      "\u001b[0;31m---------------------------------------------------------------------------\u001b[0m",
      "\u001b[0;31mValueError\u001b[0m                                Traceback (most recent call last)",
      "\u001b[0;32m<ipython-input-58-26b552fec349>\u001b[0m in \u001b[0;36m<module>\u001b[0;34m\u001b[0m\n\u001b[1;32m      5\u001b[0m \u001b[0m_\u001b[0m\u001b[0;34m,\u001b[0m \u001b[0mneg_idxs\u001b[0m \u001b[0;34m=\u001b[0m \u001b[0mk_fold_idx\u001b[0m\u001b[0;34m(\u001b[0m\u001b[0mn_fold\u001b[0m \u001b[0;34m=\u001b[0m \u001b[0mn_g\u001b[0m\u001b[0;34m,\u001b[0m \u001b[0mdataset\u001b[0m \u001b[0;34m=\u001b[0m \u001b[0mneg_label\u001b[0m\u001b[0;34m)\u001b[0m\u001b[0;34m\u001b[0m\u001b[0m\n\u001b[1;32m      6\u001b[0m \u001b[0m_\u001b[0m\u001b[0;34m,\u001b[0m \u001b[0mredspot_idxs\u001b[0m \u001b[0;34m=\u001b[0m \u001b[0mk_fold_idx\u001b[0m\u001b[0;34m(\u001b[0m\u001b[0mn_fold\u001b[0m \u001b[0;34m=\u001b[0m \u001b[0mn_g\u001b[0m\u001b[0;34m,\u001b[0m \u001b[0mdataset\u001b[0m \u001b[0;34m=\u001b[0m \u001b[0mredspot_label\u001b[0m\u001b[0;34m)\u001b[0m\u001b[0;34m\u001b[0m\u001b[0m\n\u001b[0;32m----> 7\u001b[0;31m \u001b[0m_\u001b[0m\u001b[0;34m,\u001b[0m \u001b[0mangio_idxs\u001b[0m \u001b[0;34m=\u001b[0m \u001b[0mk_fold_idx\u001b[0m\u001b[0;34m(\u001b[0m\u001b[0mn_fold\u001b[0m \u001b[0;34m=\u001b[0m \u001b[0mn_g\u001b[0m\u001b[0;34m,\u001b[0m \u001b[0mdataset\u001b[0m \u001b[0;34m=\u001b[0m \u001b[0mangio_label\u001b[0m\u001b[0;34m)\u001b[0m\u001b[0;34m\u001b[0m\u001b[0m\n\u001b[0m\u001b[1;32m      8\u001b[0m \u001b[0m_\u001b[0m\u001b[0;34m,\u001b[0m \u001b[0mactive_idxs\u001b[0m \u001b[0;34m=\u001b[0m \u001b[0mk_fold_idx\u001b[0m\u001b[0;34m(\u001b[0m\u001b[0mn_fold\u001b[0m \u001b[0;34m=\u001b[0m \u001b[0mn_g\u001b[0m\u001b[0;34m,\u001b[0m \u001b[0mdataset\u001b[0m \u001b[0;34m=\u001b[0m \u001b[0mactive_label\u001b[0m\u001b[0;34m)\u001b[0m\u001b[0;34m\u001b[0m\u001b[0m\n\u001b[1;32m      9\u001b[0m \u001b[0m_\u001b[0m\u001b[0;34m,\u001b[0m \u001b[0mero_idxs\u001b[0m \u001b[0;34m=\u001b[0m \u001b[0mk_fold_idx\u001b[0m\u001b[0;34m(\u001b[0m\u001b[0mn_fold\u001b[0m \u001b[0;34m=\u001b[0m \u001b[0mn_g\u001b[0m\u001b[0;34m,\u001b[0m \u001b[0mdataset\u001b[0m \u001b[0;34m=\u001b[0m \u001b[0mero_label\u001b[0m\u001b[0;34m)\u001b[0m\u001b[0;34m\u001b[0m\u001b[0m\n",
      "\u001b[0;32m<ipython-input-57-3aba6556f833>\u001b[0m in \u001b[0;36mk_fold_idx\u001b[0;34m(n_fold, dataset)\u001b[0m\n\u001b[1;32m      3\u001b[0m     \u001b[0mtrain_idxs\u001b[0m \u001b[0;34m=\u001b[0m \u001b[0;34m[\u001b[0m\u001b[0;34m]\u001b[0m\u001b[0;34m\u001b[0m\u001b[0m\n\u001b[1;32m      4\u001b[0m     \u001b[0mtest_idxs\u001b[0m \u001b[0;34m=\u001b[0m \u001b[0;34m[\u001b[0m\u001b[0;34m]\u001b[0m\u001b[0;34m\u001b[0m\u001b[0m\n\u001b[0;32m----> 5\u001b[0;31m     \u001b[0;32mfor\u001b[0m \u001b[0mtrain_idx\u001b[0m\u001b[0;34m,\u001b[0m \u001b[0mtest_idx\u001b[0m \u001b[0;32min\u001b[0m \u001b[0mkf\u001b[0m\u001b[0;34m.\u001b[0m\u001b[0msplit\u001b[0m\u001b[0;34m(\u001b[0m\u001b[0mdataset\u001b[0m\u001b[0;34m)\u001b[0m\u001b[0;34m:\u001b[0m\u001b[0;34m\u001b[0m\u001b[0m\n\u001b[0m\u001b[1;32m      6\u001b[0m         \u001b[0mtrain_idxs\u001b[0m\u001b[0;34m.\u001b[0m\u001b[0mappend\u001b[0m\u001b[0;34m(\u001b[0m\u001b[0mtrain_idx\u001b[0m\u001b[0;34m)\u001b[0m\u001b[0;34m\u001b[0m\u001b[0m\n\u001b[1;32m      7\u001b[0m         \u001b[0mtest_idxs\u001b[0m\u001b[0;34m.\u001b[0m\u001b[0mappend\u001b[0m\u001b[0;34m(\u001b[0m\u001b[0mtest_idx\u001b[0m\u001b[0;34m)\u001b[0m\u001b[0;34m\u001b[0m\u001b[0m\n",
      "\u001b[0;32m/usr/local/lib/python3.5/dist-packages/sklearn/model_selection/_split.py\u001b[0m in \u001b[0;36msplit\u001b[0;34m(self, X, y, groups)\u001b[0m\n\u001b[1;32m    331\u001b[0m                 (\"Cannot have number of splits n_splits={0} greater\"\n\u001b[1;32m    332\u001b[0m                  \" than the number of samples: n_samples={1}.\")\n\u001b[0;32m--> 333\u001b[0;31m                 .format(self.n_splits, n_samples))\n\u001b[0m\u001b[1;32m    334\u001b[0m \u001b[0;34m\u001b[0m\u001b[0m\n\u001b[1;32m    335\u001b[0m         \u001b[0;32mfor\u001b[0m \u001b[0mtrain\u001b[0m\u001b[0;34m,\u001b[0m \u001b[0mtest\u001b[0m \u001b[0;32min\u001b[0m \u001b[0msuper\u001b[0m\u001b[0;34m(\u001b[0m\u001b[0;34m)\u001b[0m\u001b[0;34m.\u001b[0m\u001b[0msplit\u001b[0m\u001b[0;34m(\u001b[0m\u001b[0mX\u001b[0m\u001b[0;34m,\u001b[0m \u001b[0my\u001b[0m\u001b[0;34m,\u001b[0m \u001b[0mgroups\u001b[0m\u001b[0;34m)\u001b[0m\u001b[0;34m:\u001b[0m\u001b[0;34m\u001b[0m\u001b[0m\n",
      "\u001b[0;31mValueError\u001b[0m: Cannot have number of splits n_splits=10 greater than the number of samples: n_samples=3."
     ]
    }
   ],
   "source": [
    "n_g = 10\n",
    "\n",
    "_, neg_nh_idxs = k_fold_idx(n_fold = n_g, dataset = neg_nh_label)\n",
    "_, neg_nd_idxs = k_fold_idx(n_fold = n_g, dataset = neg_nd_label)\n",
    "_, neg_idxs = k_fold_idx(n_fold = n_g, dataset = neg_label)\n",
    "_, redspot_idxs = k_fold_idx(n_fold = n_g, dataset = redspot_label)\n",
    "_, angio_idxs = k_fold_idx(n_fold = n_g, dataset = angio_label)\n",
    "_, active_idxs = k_fold_idx(n_fold = n_g, dataset = active_label)\n",
    "_, ero_idxs = k_fold_idx(n_fold = n_g, dataset = ero_label)\n",
    "_, ulcer_idxs = k_fold_idx(n_fold = n_g, dataset = ulcer_label)\n",
    "_, str_idxs = k_fold_idx(n_fold = n_g, dataset = str_label)"
   ]
  },
  {
   "cell_type": "code",
   "execution_count": 177,
   "metadata": {
    "ExecuteTime": {
     "end_time": "2020-01-11T15:12:51.803195Z",
     "start_time": "2020-01-11T15:12:51.784197Z"
    },
    "scrolled": false
   },
   "outputs": [],
   "source": [
    "from sklearn.metrics import roc_curve, auc\n",
    "\n",
    "e_aucs, b_aucs = [], []\n",
    "\n",
    "for n_idx, r_idx, an_idx, ac_idx, e_idx, u_idx, s_idx in zip(neg_idxs, redspot_idxs, angio_idxs, active_idxs,\n",
    "                                                               ero_idxs, ulcer_idxs, str_idxs):\n",
    "    \n",
    "    b_outputs = np.vstack([neg_b_output[n_idx], redspot_b_output[r_idx], angio_b_output[an_idx], active_b_output[ac_idx], \n",
    "                           ero_b_output[e_idx], ulcer_b_output[u_idx], str_b_output[s_idx]])\n",
    "    e_outputs = np.vstack([neg_e_output[n_idx], redspot_e_output[r_idx], angio_e_output[an_idx], active_e_output[ac_idx], \n",
    "                           ero_e_output[e_idx], ulcer_e_output[u_idx], str_e_output[s_idx]])\n",
    "    labels = np.vstack([neg_label[n_idx], redspot_label[r_idx], angio_label[an_idx], active_label[ac_idx], \n",
    "                        ero_label[e_idx], ulcer_label[u_idx], str_label[s_idx]])\n",
    "    e_fpr, e_tpr, thresholds = roc_curve(labels[:, 1], e_outputs[:,1])\n",
    "    b_fpr, b_tpr, thresholds = roc_curve(labels[:, 1], b_outputs[:,1])\n",
    "    e_aucs.append(auc(e_fpr, e_tpr))\n",
    "    b_aucs.append(auc(b_fpr, b_tpr))"
   ]
  },
  {
   "cell_type": "code",
   "execution_count": 178,
   "metadata": {
    "ExecuteTime": {
     "end_time": "2020-01-11T15:12:52.276794Z",
     "start_time": "2020-01-11T15:12:51.806412Z"
    }
   },
   "outputs": [
    {
     "data": {
      "image/png": "[encoded data removed]",
      "text/plain": [
       "<Figure size 720x576 with 1 Axes>"
      ]
     },
     "metadata": {
      "needs_background": "light"
     },
     "output_type": "display_data"
    },
    {
     "data": {
      "image/png": "[encoded data removed]",
      "text/plain": [
       "<Figure size 720x576 with 1 Axes>"
      ]
     },
     "metadata": {
      "needs_background": "light"
     },
     "output_type": "display_data"
    }
   ],
   "source": [
    "e_auc_m, e_auc_l, e_auc_u = conf_interval(e_aucs, mode = 'value')\n",
    "b_auc_m, b_auc_l, b_auc_u = conf_interval(b_aucs, mode = 'value')\n",
    "\n",
    "b_outputs = np.vstack([neg_b_output, redspot_b_output, angio_b_output, active_b_output, ero_b_output, ulcer_b_output, str_b_output])\n",
    "e_outputs = np.vstack([neg_e_output, redspot_e_output, angio_e_output, active_e_output, ero_e_output, ulcer_e_output, str_e_output])\n",
    "labels = np.vstack([neg_label, redspot_label, angio_label, active_label, ero_label, ulcer_label, str_label])\n",
    "\n",
    "e_fpr, e_tpr, thresholds = roc_curve(labels[:, 1], e_outputs[:,1])\n",
    "b_fpr, b_tpr, thresholds = roc_curve(labels[:, 1], b_outputs[:,1])\n",
    "\n",
    "fig = plt.figure(figsize=(10, 8))\n",
    "plt.plot(e_fpr, e_tpr, 'r-', label=\"Ensemble model, AUC: {:.4f} ({:.4f}~{:.4f}), 95 % CI\".format(e_auc_m, e_auc_l, e_auc_u))\n",
    "plt.plot(b_fpr, b_tpr, 'k-', label=\"Binary model, AUC: {:.4f} ({:.4f}~{:.4f}), 95 % CI\".format(b_auc_m, b_auc_l, b_auc_u))\n",
    "plt.xlabel('1 - Specificity', fontsize = 15)\n",
    "plt.ylabel('Sensitivity', fontsize = 15)\n",
    "plt.legend(fontsize = 12)\n",
    "plt.grid('on')\n",
    "fig.show()\n",
    "\n",
    "fig = plt.figure(figsize=(10, 8))\n",
    "plt.plot(e_fpr, e_tpr, 'r-', label=\"Ensemble model\")\n",
    "plt.plot(b_fpr, b_tpr, 'k-', label=\"Binary model\")\n",
    "plt.xlim([0.0, 0.1])\n",
    "plt.ylim([0.9, 1.0])\n",
    "plt.legend(fontsize = 20, loc = 4)\n",
    "fig.show()"
   ]
  },
  {
   "cell_type": "markdown",
   "metadata": {},
   "source": [
    "## Statistics"
   ]
  },
  {
   "cell_type": "markdown",
   "metadata": {},
   "source": [
    "![image](http://mblogthumb3.phinf.naver.net/20121114_106/istech7_1352875002440GYyqh_PNG/%B5%CE%C1%FD%B4%DC%C2%F7%C0%CC_%B0%CB%C1%A4%B9%E6%B9%FD%C8%E5%B8%A7%B5%B5.png?type=w2)\n",
    "\n",
    "![image](https://t1.daumcdn.net/cfile/tistory/2743524658F2520C2A)\n",
    "\n",
    "https://img1.daumcdn.net/thumb/R800x0/?scode=mtistory2&fname=https%3A%2F%2Ft1.daumcdn.net%2Fcfile%2Ftistory%2F1378B94E4F9C187F23"
   ]
  },
  {
   "cell_type": "code",
   "execution_count": 179,
   "metadata": {
    "ExecuteTime": {
     "end_time": "2020-01-11T15:12:52.303510Z",
     "start_time": "2020-01-11T15:12:52.278848Z"
    }
   },
   "outputs": [
    {
     "name": "stdout",
     "output_type": "stream",
     "text": [
      "(482, 2)\n",
      "(482, 2)\n",
      "(481, 2)\n",
      "(481, 2)\n",
      "(480, 2)\n",
      "(480, 2)\n",
      "(479, 2)\n",
      "(479, 2)\n",
      "(478, 2)\n",
      "(478, 2)\n"
     ]
    }
   ],
   "source": [
    "e_CM, b_CM = [], []\n",
    "\n",
    "for n_idx, r_idx, an_idx, ac_idx, e_idx, u_idx, s_idx in zip(neg_idxs, redspot_idxs, angio_idxs, active_idxs,\n",
    "                                                               ero_idxs, ulcer_idxs, str_idxs):\n",
    "    \n",
    "    b_outputs = np.vstack([neg_b_output[n_idx], redspot_b_output[r_idx], angio_b_output[an_idx], active_b_output[ac_idx], \n",
    "                           ero_b_output[e_idx], ulcer_b_output[u_idx], str_b_output[s_idx]])\n",
    "    e_outputs = np.vstack([neg_e_output[n_idx], redspot_e_output[r_idx], angio_e_output[an_idx], active_e_output[ac_idx], \n",
    "                           ero_e_output[e_idx], ulcer_e_output[u_idx], str_e_output[s_idx]])\n",
    "    labels = np.vstack([neg_label[n_idx], redspot_label[r_idx], angio_label[an_idx], active_label[ac_idx], \n",
    "                        ero_label[e_idx], ulcer_label[u_idx], str_label[s_idx]])\n",
    "    print(labels.shape)\n",
    "    e_CM.append(cls.con_mat(labels, e_outputs)), b_CM.append(cls.con_mat(labels, b_outputs))"
   ]
  },
  {
   "cell_type": "code",
   "execution_count": 180,
   "metadata": {
    "ExecuteTime": {
     "end_time": "2020-01-11T15:12:52.309150Z",
     "start_time": "2020-01-11T15:12:52.305270Z"
    }
   },
   "outputs": [],
   "source": [
    "b_metrices = []\n",
    "e_metrices = []\n",
    "\n",
    "for e_cm, b_cm in zip(e_CM, b_CM):\n",
    "    b_metrices.append(cls.cm2metric(b_cm))\n",
    "    e_metrices.append(cls.cm2metric(e_cm))\n",
    "    \n",
    "b_metrices = np.asarray(b_metrices)\n",
    "e_metrices = np.asarray(e_metrices)"
   ]
  },
  {
   "cell_type": "code",
   "execution_count": 181,
   "metadata": {
    "ExecuteTime": {
     "end_time": "2020-01-11T15:12:52.315459Z",
     "start_time": "2020-01-11T15:12:52.311178Z"
    }
   },
   "outputs": [
    {
     "data": {
      "text/plain": [
       "array([[0.96680498, 0.95867769, 0.975     , 0.95901639, 0.97478992],\n",
       "       [0.96887967, 0.97107438, 0.96666667, 0.9707113 , 0.96707819],\n",
       "       [0.95841996, 0.96280992, 0.9539749 , 0.96202532, 0.95491803],\n",
       "       [0.96465696, 0.94628099, 0.9832636 , 0.94758065, 0.98283262],\n",
       "       [0.9625    , 0.9626556 , 0.9623431 , 0.9623431 , 0.9626556 ],\n",
       "       [0.96458333, 0.95850622, 0.9707113 , 0.95867769, 0.97058824],\n",
       "       [0.97912317, 0.99166667, 0.9665272 , 0.99141631, 0.96747967],\n",
       "       [0.97077244, 0.96666667, 0.9748954 , 0.96680498, 0.97478992],\n",
       "       [0.9665272 , 0.9707113 , 0.9623431 , 0.97046414, 0.9626556 ],\n",
       "       [0.9623431 , 0.9539749 , 0.9707113 , 0.95473251, 0.97021277]])"
      ]
     },
     "execution_count": 181,
     "metadata": {},
     "output_type": "execute_result"
    }
   ],
   "source": [
    "b_metrices"
   ]
  },
  {
   "cell_type": "code",
   "execution_count": 182,
   "metadata": {
    "ExecuteTime": {
     "end_time": "2020-01-11T15:12:52.321809Z",
     "start_time": "2020-01-11T15:12:52.317239Z"
    }
   },
   "outputs": [
    {
     "data": {
      "text/plain": [
       "array([[0.97925311, 0.98760331, 0.97083333, 0.98728814, 0.97154472],\n",
       "       [0.98755187, 0.98347107, 0.99166667, 0.98347107, 0.99166667],\n",
       "       [0.96465696, 0.96280992, 0.9665272 , 0.9625    , 0.96680498],\n",
       "       [0.97713098, 0.98347107, 0.9707113 , 0.98305085, 0.97142857],\n",
       "       [0.96666667, 0.97510373, 0.958159  , 0.97446809, 0.95918367],\n",
       "       [0.975     , 0.97925311, 0.9707113 , 0.97890295, 0.97119342],\n",
       "       [0.98329854, 0.9875    , 0.9790795 , 0.98734177, 0.97933884],\n",
       "       [0.96659708, 0.96666667, 0.9665272 , 0.9665272 , 0.96666667],\n",
       "       [0.9748954 , 0.9707113 , 0.9790795 , 0.97095436, 0.97890295],\n",
       "       [0.97698745, 0.9790795 , 0.9748954 , 0.9789916 , 0.975     ]])"
      ]
     },
     "execution_count": 182,
     "metadata": {},
     "output_type": "execute_result"
    }
   ],
   "source": [
    "e_metrices"
   ]
  },
  {
   "cell_type": "code",
   "execution_count": 183,
   "metadata": {
    "ExecuteTime": {
     "end_time": "2020-01-11T15:12:52.349221Z",
     "start_time": "2020-01-11T15:12:52.325331Z"
    }
   },
   "outputs": [
    {
     "name": "stdout",
     "output_type": "stream",
     "text": [
      "95 % CI\n",
      "\n",
      "Binary model\n",
      "Accr --- 96.65 (96.24 ~ 97.05)\n",
      "Sen --- 96.43 (95.56 ~ 97.30)\n",
      "Spec --- 96.86 (96.28 ~ 97.45)\n",
      "NPV --- 96.44 (95.59 ~ 97.28)\n",
      "PPV --- 96.88 (96.32 ~ 97.44)\n",
      "\n",
      "Ensemble model\n",
      "Accr --- 97.52 (96.99 ~ 98.05)\n",
      "Sen --- 97.76 (97.14 ~ 98.37)\n",
      "Spec --- 97.28 (96.63 ~ 97.93)\n",
      "NPV --- 97.73 (97.12 ~ 98.35)\n",
      "PPV --- 97.32 (96.68 ~ 97.95)\n"
     ]
    }
   ],
   "source": [
    "print(\"95 % CI\\n\")\n",
    "\n",
    "print('Binary model')\n",
    "conf_interval(100*b_metrices[:, 0], mode = 'print', metric = 'Accr')\n",
    "conf_interval(100*b_metrices[:, 1], mode = 'print', metric = 'Sen')\n",
    "conf_interval(100*b_metrices[:, 2], mode = 'print', metric = 'Spec')\n",
    "conf_interval(100*b_metrices[:, 3], mode = 'print', metric = 'NPV')\n",
    "conf_interval(100*b_metrices[:, 4], mode = 'print', metric = 'PPV')\n",
    "print('')\n",
    "print('Ensemble model')\n",
    "conf_interval(100*e_metrices[:, 0], mode = 'print', metric = 'Accr')\n",
    "conf_interval(100*e_metrices[:, 1], mode = 'print', metric = 'Sen')\n",
    "conf_interval(100*e_metrices[:, 2], mode = 'print', metric = 'Spec')\n",
    "conf_interval(100*e_metrices[:, 3], mode = 'print', metric = 'NPV')\n",
    "conf_interval(100*e_metrices[:, 4], mode = 'print', metric = 'PPV')"
   ]
  },
  {
   "cell_type": "markdown",
   "metadata": {},
   "source": [
    "### Equal-Variance Test"
   ]
  },
  {
   "cell_type": "code",
   "execution_count": 185,
   "metadata": {
    "ExecuteTime": {
     "end_time": "2020-01-11T15:12:52.368214Z",
     "start_time": "2020-01-11T15:12:52.356805Z"
    }
   },
   "outputs": [
    {
     "name": "stdout",
     "output_type": "stream",
     "text": [
      "bartlett test for accuracy: 0.631, pvalue=0.426936350622\n",
      "bartlett test for sensitivity: 1.037, pvalue=0.308587128180\n",
      "bartlett test for specificity: 0.092, pvalue=0.761144327532\n",
      "bartlett test for negative predictive values: 0.874, pvalue=0.349730662239\n",
      "bartlett test for positive predictive values: 0.136, pvalue=0.711904191579\n"
     ]
    }
   ],
   "source": [
    "from scipy.stats import bartlett\n",
    "\n",
    "accr_stats = bartlett(100*b_metrices[:, 0], 100*e_metrices[:, 0])\n",
    "sens_stats = bartlett(100*b_metrices[:, 1], 100*e_metrices[:, 1])\n",
    "spec_stats = bartlett(100*b_metrices[:, 2], 100*e_metrices[:, 2])\n",
    "npv_stats = bartlett(100*b_metrices[:, 3], 100*e_metrices[:, 3])\n",
    "ppv_stats = bartlett(100*b_metrices[:, 4], 100*e_metrices[:, 4])\n",
    "\n",
    "print(\"bartlett test for accuracy: {:.3f}, pvalue={:.12f}\".format(accr_stats[0], accr_stats[1]))\n",
    "print(\"bartlett test for sensitivity: {:.3f}, pvalue={:.12f}\".format(sens_stats[0], sens_stats[1]))\n",
    "print(\"bartlett test for specificity: {:.3f}, pvalue={:.12f}\".format(spec_stats[0], spec_stats[1]))\n",
    "print(\"bartlett test for negative predictive values: {:.3f}, pvalue={:.12f}\".format(npv_stats[0], npv_stats[1]))\n",
    "print(\"bartlett test for positive predictive values: {:.3f}, pvalue={:.12f}\".format(ppv_stats[0], ppv_stats[1]))"
   ]
  },
  {
   "cell_type": "code",
   "execution_count": 187,
   "metadata": {
    "ExecuteTime": {
     "end_time": "2020-01-11T15:12:52.385961Z",
     "start_time": "2020-01-11T15:12:52.374872Z"
    }
   },
   "outputs": [
    {
     "name": "stdout",
     "output_type": "stream",
     "text": [
      "levene test for accuracy: 0.776, pvalue=0.389959094408\n",
      "levene test for sensitivity: 0.247, pvalue=0.625415684856\n",
      "levene test for specificity: 0.000, pvalue=0.994166146076\n",
      "levene test for negative predictive values: 0.164, pvalue=0.689855809483\n",
      "levene test for positive predictive values: 0.012, pvalue=0.913759020041\n"
     ]
    }
   ],
   "source": [
    "from scipy.stats import levene\n",
    "\n",
    "accr_stats = levene(100*b_metrices[:, 0], 100*e_metrices[:, 0])\n",
    "sens_stats = levene(100*b_metrices[:, 1], 100*e_metrices[:, 1])\n",
    "spec_stats = levene(100*b_metrices[:, 2], 100*e_metrices[:, 2])\n",
    "npv_stats = levene(100*b_metrices[:, 3], 100*e_metrices[:, 3])\n",
    "ppv_stats = levene(100*b_metrices[:, 4], 100*e_metrices[:, 4])\n",
    "\n",
    "print(\"levene test for accuracy: {:.3f}, pvalue={:.12f}\".format(accr_stats[0], accr_stats[1]))\n",
    "print(\"levene test for sensitivity: {:.3f}, pvalue={:.12f}\".format(sens_stats[0], sens_stats[1]))\n",
    "print(\"levene test for specificity: {:.3f}, pvalue={:.12f}\".format(spec_stats[0], spec_stats[1]))\n",
    "print(\"levene test for negative predictive values: {:.3f}, pvalue={:.12f}\".format(npv_stats[0], npv_stats[1]))\n",
    "print(\"levene test for positive predictive values: {:.3f}, pvalue={:.12f}\".format(ppv_stats[0], ppv_stats[1]))"
   ]
  },
  {
   "cell_type": "markdown",
   "metadata": {},
   "source": [
    "### Normality Test"
   ]
  },
  {
   "cell_type": "code",
   "execution_count": 188,
   "metadata": {
    "ExecuteTime": {
     "end_time": "2020-01-11T15:12:52.396451Z",
     "start_time": "2020-01-11T15:12:52.387653Z"
    }
   },
   "outputs": [
    {
     "name": "stdout",
     "output_type": "stream",
     "text": [
      "Kolmogorov-Smirnov test for accuracy: 0.600, pvalue=0.052447552448\n",
      "Kolmogorov-Smirnov test for sensitivity: 0.600, pvalue=0.052447552448\n",
      "Kolmogorov-Smirnov test for specificity: 0.200, pvalue=0.994457554829\n",
      "Kolmogorov-Smirnov test for negative predictive values: 0.700, pvalue=0.012340600576\n",
      "Kolmogorov-Smirnov test for positive predictive values: 0.400, pvalue=0.417523652818\n"
     ]
    }
   ],
   "source": [
    "from scipy.stats import ks_2samp\n",
    "\n",
    "accr_stats = ks_2samp(100*b_metrices[:, 0], 100*e_metrices[:, 0])\n",
    "sens_stats = ks_2samp(100*b_metrices[:, 1], 100*e_metrices[:, 1])\n",
    "spec_stats = ks_2samp(100*b_metrices[:, 2], 100*e_metrices[:, 2])\n",
    "npv_stats = ks_2samp(100*b_metrices[:, 3], 100*e_metrices[:, 3])\n",
    "ppv_stats = ks_2samp(100*b_metrices[:, 4], 100*e_metrices[:, 4])\n",
    "\n",
    "print(\"Kolmogorov-Smirnov test for accuracy: {:.3f}, pvalue={:.12f}\".format(accr_stats[0], accr_stats[1]))\n",
    "print(\"Kolmogorov-Smirnov test for sensitivity: {:.3f}, pvalue={:.12f}\".format(sens_stats[0], sens_stats[1]))\n",
    "print(\"Kolmogorov-Smirnov test for specificity: {:.3f}, pvalue={:.12f}\".format(spec_stats[0], spec_stats[1]))\n",
    "print(\"Kolmogorov-Smirnov test for negative predictive values: {:.3f}, pvalue={:.12f}\".format(npv_stats[0], npv_stats[1]))\n",
    "print(\"Kolmogorov-Smirnov test for positive predictive values: {:.3f}, pvalue={:.12f}\".format(ppv_stats[0], ppv_stats[1]))"
   ]
  },
  {
   "cell_type": "markdown",
   "metadata": {},
   "source": [
    "### Wilcoxon signed-ranks test (not normal and paired group)"
   ]
  },
  {
   "cell_type": "code",
   "execution_count": 190,
   "metadata": {
    "ExecuteTime": {
     "end_time": "2020-01-11T15:12:52.413651Z",
     "start_time": "2020-01-11T15:12:52.402385Z"
    }
   },
   "outputs": [
    {
     "name": "stdout",
     "output_type": "stream",
     "text": [
      "wilcoxon signed-ranks test for accuracy: 2.500, pvalue=0.010775621103\n",
      "wilcoxon signed-ranks test for sensitivity: 1.000, pvalue=0.027991815486\n",
      "wilcoxon signed-ranks test for specificity: 13.000, pvalue=0.259555406787\n",
      "wilcoxon signed-ranks test for negative predictive values: 5.000, pvalue=0.021824275626\n",
      "wilcoxon signed-ranks test for positive predictive values: 16.000, pvalue=0.241121368277\n"
     ]
    }
   ],
   "source": [
    "from scipy.stats import wilcoxon\n",
    "\n",
    "accr_stats = wilcoxon(100*b_metrices[:, 0], 100*e_metrices[:, 0])\n",
    "sens_stats = wilcoxon(100*b_metrices[:, 1], 100*e_metrices[:, 1])\n",
    "spec_stats = wilcoxon(100*b_metrices[:, 2], 100*e_metrices[:, 2])\n",
    "npv_stats = wilcoxon(100*b_metrices[:, 3], 100*e_metrices[:, 3])\n",
    "ppv_stats = wilcoxon(100*b_metrices[:, 4], 100*e_metrices[:, 4])\n",
    "\n",
    "print(\"wilcoxon signed-ranks test for accuracy: {:.3f}, pvalue={:.12f}\".format(accr_stats[0], accr_stats[1]))\n",
    "print(\"wilcoxon signed-ranks test for sensitivity: {:.3f}, pvalue={:.12f}\".format(sens_stats[0], sens_stats[1]))\n",
    "print(\"wilcoxon signed-ranks test for specificity: {:.3f}, pvalue={:.12f}\".format(spec_stats[0], spec_stats[1]))\n",
    "print(\"wilcoxon signed-ranks test for negative predictive values: {:.3f}, pvalue={:.12f}\".format(npv_stats[0], npv_stats[1]))\n",
    "print(\"wilcoxon signed-ranks test for positive predictive values: {:.3f}, pvalue={:.12f}\".format(ppv_stats[0], ppv_stats[1]))"
   ]
  },
  {
   "cell_type": "markdown",
   "metadata": {},
   "source": [
    "### Paired two-sample t-Test (normal and paired group)"
   ]
  },
  {
   "cell_type": "code",
   "execution_count": 191,
   "metadata": {
    "ExecuteTime": {
     "end_time": "2020-01-11T15:12:52.418062Z",
     "start_time": "2020-01-11T15:12:52.415490Z"
    }
   },
   "outputs": [],
   "source": [
    "from scipy.stats import ttest_rel"
   ]
  },
  {
   "cell_type": "code",
   "execution_count": 192,
   "metadata": {
    "ExecuteTime": {
     "end_time": "2020-01-11T15:12:52.439512Z",
     "start_time": "2020-01-11T15:12:52.421820Z"
    }
   },
   "outputs": [
    {
     "name": "stdout",
     "output_type": "stream",
     "text": [
      "t-statistics for accuracy: -4.261, pvalue=0.002109534733\n",
      "t-statistics for sensitivity: -2.928, pvalue=0.016809647112\n",
      "t-statistics for specificity: -1.088, pvalue=0.304932685275\n",
      "t-statistics for negative predictive values: -2.986, pvalue=0.015310824701\n",
      "t-statistics for positive predictive values: -1.197, pvalue=0.261883020117\n"
     ]
    }
   ],
   "source": [
    "accr_stats = ttest_rel(100*b_metrices[:, 0], 100*e_metrices[:, 0])\n",
    "sens_stats = ttest_rel(100*b_metrices[:, 1], 100*e_metrices[:, 1])\n",
    "spec_stats = ttest_rel(100*b_metrices[:, 2], 100*e_metrices[:, 2])\n",
    "npv_stats = ttest_rel(100*b_metrices[:, 3], 100*e_metrices[:, 3])\n",
    "ppv_stats = ttest_rel(100*b_metrices[:, 4], 100*e_metrices[:, 4])\n",
    "\n",
    "print(\"t-statistics for accuracy: {:.3f}, pvalue={:.12f}\".format(accr_stats[0], accr_stats[1]))\n",
    "print(\"t-statistics for sensitivity: {:.3f}, pvalue={:.12f}\".format(sens_stats[0], sens_stats[1]))\n",
    "print(\"t-statistics for specificity: {:.3f}, pvalue={:.12f}\".format(spec_stats[0], spec_stats[1]))\n",
    "print(\"t-statistics for negative predictive values: {:.3f}, pvalue={:.12f}\".format(npv_stats[0], npv_stats[1]))\n",
    "print(\"t-statistics for positive predictive values: {:.3f}, pvalue={:.12f}\".format(ppv_stats[0], ppv_stats[1]))"
   ]
  },
  {
   "cell_type": "code",
   "execution_count": 193,
   "metadata": {
    "ExecuteTime": {
     "end_time": "2020-01-11T15:12:53.132467Z",
     "start_time": "2020-01-11T15:12:52.441993Z"
    }
   },
   "outputs": [
    {
     "data": {
      "image/png": "[encoded data removed]",
      "text/plain": [
       "<Figure size 1440x216 with 5 Axes>"
      ]
     },
     "metadata": {
      "needs_background": "light"
     },
     "output_type": "display_data"
    }
   ],
   "source": [
    "## Distribution by metric\n",
    "\n",
    "import seaborn as sns\n",
    "\n",
    "fig, axes = plt.subplots(ncols = 5)\n",
    "fig.set_size_inches(20, 3)\n",
    "\n",
    "sns.set_style({'axes.grid' : True})\n",
    "\n",
    "sns.distplot(b_metrices[:, 0], color='k', ax = axes[0])\n",
    "sns.distplot(e_metrices[:, 0], color='r', ax = axes[0])\n",
    "sns.distplot(b_metrices[:, 1], color='k', ax = axes[1])\n",
    "sns.distplot(e_metrices[:, 1], color='r', ax = axes[1])\n",
    "sns.distplot(b_metrices[:, 2], color='k', ax = axes[2])\n",
    "sns.distplot(e_metrices[:, 2], color='r', ax = axes[2])\n",
    "sns.distplot(b_metrices[:, 3], color='k', ax = axes[3])\n",
    "sns.distplot(e_metrices[:, 3], color='r', ax = axes[3])\n",
    "sns.distplot(b_metrices[:, 4], color='k', ax = axes[4])\n",
    "sns.distplot(e_metrices[:, 4], color='r', ax = axes[4])\n",
    "\n",
    "fig.show()"
   ]
  }
 ],
 "metadata": {
  "hide_input": false,
  "kernelspec": {
   "display_name": "Python 3",
   "language": "python",
   "name": "python3"
  },
  "language_info": {
   "codemirror_mode": {
    "name": "ipython",
    "version": 3
   },
   "file_extension": ".py",
   "mimetype": "text/x-python",
   "name": "python",
   "nbconvert_exporter": "python",
   "pygments_lexer": "ipython3",
   "version": "3.5.2"
  },
  "toc": {
   "base_numbering": 1,
   "nav_menu": {},
   "number_sections": true,
   "sideBar": true,
   "skip_h1_title": false,
   "title_cell": "Table of Contents",
   "title_sidebar": "Contents",
   "toc_cell": false,
   "toc_position": {},
   "toc_section_display": true,
   "toc_window_display": false
  }
 },
 "nbformat": 4,
 "nbformat_minor": 2
}
