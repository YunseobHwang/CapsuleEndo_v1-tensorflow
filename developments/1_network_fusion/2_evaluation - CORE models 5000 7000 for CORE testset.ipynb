{
 "cells": [
  {
   "cell_type": "code",
   "execution_count": 1,
   "metadata": {
    "ExecuteTime": {
     "end_time": "2020-01-12T05:31:37.137589Z",
     "start_time": "2020-01-12T05:31:35.212304Z"
    }
   },
   "outputs": [
    {
     "name": "stderr",
     "output_type": "stream",
     "text": [
      "/usr/local/lib/python3.5/dist-packages/tensorflow/python/framework/dtypes.py:516: FutureWarning: Passing (type, 1) or '1type' as a synonym of type is deprecated; in a future version of numpy, it will be understood as (type, (1,)) / '(1,)type'.\n",
      "  _np_qint8 = np.dtype([(\"qint8\", np.int8, 1)])\n",
      "/usr/local/lib/python3.5/dist-packages/tensorflow/python/framework/dtypes.py:517: FutureWarning: Passing (type, 1) or '1type' as a synonym of type is deprecated; in a future version of numpy, it will be understood as (type, (1,)) / '(1,)type'.\n",
      "  _np_quint8 = np.dtype([(\"quint8\", np.uint8, 1)])\n",
      "/usr/local/lib/python3.5/dist-packages/tensorflow/python/framework/dtypes.py:518: FutureWarning: Passing (type, 1) or '1type' as a synonym of type is deprecated; in a future version of numpy, it will be understood as (type, (1,)) / '(1,)type'.\n",
      "  _np_qint16 = np.dtype([(\"qint16\", np.int16, 1)])\n",
      "/usr/local/lib/python3.5/dist-packages/tensorflow/python/framework/dtypes.py:519: FutureWarning: Passing (type, 1) or '1type' as a synonym of type is deprecated; in a future version of numpy, it will be understood as (type, (1,)) / '(1,)type'.\n",
      "  _np_quint16 = np.dtype([(\"quint16\", np.uint16, 1)])\n",
      "/usr/local/lib/python3.5/dist-packages/tensorflow/python/framework/dtypes.py:520: FutureWarning: Passing (type, 1) or '1type' as a synonym of type is deprecated; in a future version of numpy, it will be understood as (type, (1,)) / '(1,)type'.\n",
      "  _np_qint32 = np.dtype([(\"qint32\", np.int32, 1)])\n",
      "/usr/local/lib/python3.5/dist-packages/tensorflow/python/framework/dtypes.py:525: FutureWarning: Passing (type, 1) or '1type' as a synonym of type is deprecated; in a future version of numpy, it will be understood as (type, (1,)) / '(1,)type'.\n",
      "  np_resource = np.dtype([(\"resource\", np.ubyte, 1)])\n",
      "/usr/local/lib/python3.5/dist-packages/tensorboard/compat/tensorflow_stub/dtypes.py:541: FutureWarning: Passing (type, 1) or '1type' as a synonym of type is deprecated; in a future version of numpy, it will be understood as (type, (1,)) / '(1,)type'.\n",
      "  _np_qint8 = np.dtype([(\"qint8\", np.int8, 1)])\n",
      "/usr/local/lib/python3.5/dist-packages/tensorboard/compat/tensorflow_stub/dtypes.py:542: FutureWarning: Passing (type, 1) or '1type' as a synonym of type is deprecated; in a future version of numpy, it will be understood as (type, (1,)) / '(1,)type'.\n",
      "  _np_quint8 = np.dtype([(\"quint8\", np.uint8, 1)])\n",
      "/usr/local/lib/python3.5/dist-packages/tensorboard/compat/tensorflow_stub/dtypes.py:543: FutureWarning: Passing (type, 1) or '1type' as a synonym of type is deprecated; in a future version of numpy, it will be understood as (type, (1,)) / '(1,)type'.\n",
      "  _np_qint16 = np.dtype([(\"qint16\", np.int16, 1)])\n",
      "/usr/local/lib/python3.5/dist-packages/tensorboard/compat/tensorflow_stub/dtypes.py:544: FutureWarning: Passing (type, 1) or '1type' as a synonym of type is deprecated; in a future version of numpy, it will be understood as (type, (1,)) / '(1,)type'.\n",
      "  _np_quint16 = np.dtype([(\"quint16\", np.uint16, 1)])\n",
      "/usr/local/lib/python3.5/dist-packages/tensorboard/compat/tensorflow_stub/dtypes.py:545: FutureWarning: Passing (type, 1) or '1type' as a synonym of type is deprecated; in a future version of numpy, it will be understood as (type, (1,)) / '(1,)type'.\n",
      "  _np_qint32 = np.dtype([(\"qint32\", np.int32, 1)])\n",
      "/usr/local/lib/python3.5/dist-packages/tensorboard/compat/tensorflow_stub/dtypes.py:550: FutureWarning: Passing (type, 1) or '1type' as a synonym of type is deprecated; in a future version of numpy, it will be understood as (type, (1,)) / '(1,)type'.\n",
      "  np_resource = np.dtype([(\"resource\", np.ubyte, 1)])\n"
     ]
    }
   ],
   "source": [
    "import os\n",
    "os.environ[\"CUDA_DEVICE_ORDER\"]=\"PCI_BUS_ID\"\n",
    "os.environ[\"CUDA_VISIBLE_DEVICES\"]=\"3\"\n",
    "\n",
    "import numpy as np\n",
    "import matplotlib.pyplot as plt\n",
    "\n",
    "import sys\n",
    "sys.path.append('/mnt/disk1/project/SMhospital/capsule/ce_packages')\n",
    "\n",
    "from ce_utils import load_data, one_hot, test_batch_idxs, batch_flatten\n",
    "from ce_utils import model_prob\n",
    "from ce_utils import classification_metric\n",
    "from ce_model import binary_model, ensemble_model"
   ]
  },
  {
   "cell_type": "markdown",
   "metadata": {},
   "source": [
    "# Load Data"
   ]
  },
  {
   "cell_type": "code",
   "execution_count": 2,
   "metadata": {
    "ExecuteTime": {
     "end_time": "2020-01-12T05:31:59.228670Z",
     "start_time": "2020-01-12T05:31:45.836109Z"
    }
   },
   "outputs": [],
   "source": [
    "neg_nh_img, neg_nh_name = load_data('test', 'n', 'neg', data = 'sm_core/nh', extract_name = True)\n",
    "neg_nd_img, neg_nd_name = load_data('test', 'n', 'neg', data = 'sm_core/nd', extract_name = True)\n",
    "neg_img, neg_name = np.vstack([neg_nh_img, neg_nd_img]), np.hstack([neg_nh_name, neg_nd_name])\n",
    "redspot_img, redspot_name = load_data('test', 'h', 'redspot', data = 'sm_core/nh', extract_name = True)\n",
    "angio_img, angio_name = load_data('test', 'h', 'angio', data = 'sm_core/nh', extract_name = True)\n",
    "active_img, active_name = load_data('test', 'h', 'active', data = 'sm_core/nh', extract_name = True)\n",
    "ero_img, ero_name = load_data('test', 'd', 'ero', data = 'sm_core/nd', extract_name = True)\n",
    "ulcer_img, ulcer_name = load_data('test', 'd', 'ulcer', data = 'sm_core/nd', extract_name = True)\n",
    "str_img, str_name = load_data('test', 'd', 'str', data = 'sm_core/nd', extract_name = True)"
   ]
  },
  {
   "cell_type": "code",
   "execution_count": 3,
   "metadata": {
    "ExecuteTime": {
     "end_time": "2020-01-12T05:32:07.080857Z",
     "start_time": "2020-01-12T05:32:07.034232Z"
    }
   },
   "outputs": [
    {
     "name": "stdout",
     "output_type": "stream",
     "text": [
      "total negative: (2392, 512, 512, 3) (2392, 2)\n",
      "negative for nh: (784, 512, 512, 3) (784, 2)\n",
      "negative for nd: (1608, 512, 512, 3) (1608, 2)\n",
      "\n",
      "red spot: (368, 512, 512, 3) (368, 2)\n",
      "angioectasia: (24, 512, 512, 3) (24, 2)\n",
      "active_bleeding: (400, 512, 512, 3) (400, 2)\n",
      "erosion: (776, 512, 512, 3) (776, 2)\n",
      "ulcer: (760, 512, 512, 3) (760, 2)\n",
      "stricture: (80, 512, 512, 3) (80, 2)\n"
     ]
    }
   ],
   "source": [
    "neg_nh_label = one_hot(neg_nh_img, 0)\n",
    "neg_nd_label = one_hot(neg_nd_img, 0)\n",
    "neg_label = one_hot(neg_img, 0)\n",
    "redspot_label = one_hot(redspot_img, 1)\n",
    "angio_label = one_hot(angio_img, 1)\n",
    "active_label = one_hot(active_img, 1)\n",
    "ero_label = one_hot(ero_img, 1)\n",
    "ulcer_label = one_hot(ulcer_img, 1)\n",
    "str_label = one_hot(str_img, 1)\n",
    "\n",
    "print(\"total negative:\",neg_img.shape, neg_label.shape)\n",
    "print(\"negative for nh:\",neg_nh_img.shape, neg_nh_label.shape)\n",
    "print(\"negative for nd:\",neg_nd_img.shape, neg_nd_label.shape)\n",
    "print('')\n",
    "print(\"red spot:\",redspot_img.shape, redspot_label.shape)\n",
    "print(\"angioectasia:\",angio_img.shape, angio_label.shape)\n",
    "print(\"active_bleeding:\",active_img.shape, active_label.shape)\n",
    "print(\"erosion:\",ero_img.shape, ero_label.shape)\n",
    "print(\"ulcer:\",ulcer_img.shape, ulcer_label.shape)\n",
    "print(\"stricture:\",str_img.shape, str_label.shape)"
   ]
  },
  {
   "cell_type": "markdown",
   "metadata": {},
   "source": [
    "# Model Inference"
   ]
  },
  {
   "cell_type": "code",
   "execution_count": 4,
   "metadata": {
    "ExecuteTime": {
     "end_time": "2020-01-12T05:32:31.623141Z",
     "start_time": "2020-01-12T05:32:31.610364Z"
    }
   },
   "outputs": [],
   "source": [
    "nh_list = sorted([i[:-5] for i in os.listdir('./model') if 'meta' in i and 'NH' in i and 'core' in i and '5000' in i])\n",
    "nd_list = sorted([i[:-5] for i in os.listdir('./model') if 'meta' in i and 'ND' in i and 'core' in i and '7000' in i])\n",
    "b_list = sorted([i[:-5] for i in os.listdir('./model') if 'meta' in i and 'B' in i and 'core' in i and '5000' in i])"
   ]
  },
  {
   "cell_type": "code",
   "execution_count": 5,
   "metadata": {
    "ExecuteTime": {
     "end_time": "2020-01-12T05:32:32.611852Z",
     "start_time": "2020-01-12T05:32:32.599668Z"
    }
   },
   "outputs": [
    {
     "data": {
      "text/plain": [
       "['NH_core_2001121427_5000_val_acc_0.99_val_loss_0.013037']"
      ]
     },
     "execution_count": 5,
     "metadata": {},
     "output_type": "execute_result"
    }
   ],
   "source": [
    "nh_list"
   ]
  },
  {
   "cell_type": "code",
   "execution_count": 6,
   "metadata": {
    "ExecuteTime": {
     "end_time": "2020-01-12T05:32:36.012904Z",
     "start_time": "2020-01-12T05:32:36.005829Z"
    },
    "scrolled": false
   },
   "outputs": [
    {
     "data": {
      "text/plain": [
       "['ND_core_2001120244_7000_val_acc_0.91_val_loss_0.419095']"
      ]
     },
     "execution_count": 6,
     "metadata": {},
     "output_type": "execute_result"
    }
   ],
   "source": [
    "nd_list"
   ]
  },
  {
   "cell_type": "code",
   "execution_count": 7,
   "metadata": {
    "ExecuteTime": {
     "end_time": "2020-01-12T05:32:36.273297Z",
     "start_time": "2020-01-12T05:32:36.266732Z"
    }
   },
   "outputs": [
    {
     "data": {
      "text/plain": [
       "['B_core_2001120204_5000_val_acc_0.94_val_loss_0.130928']"
      ]
     },
     "execution_count": 7,
     "metadata": {},
     "output_type": "execute_result"
    }
   ],
   "source": [
    "b_list"
   ]
  },
  {
   "cell_type": "code",
   "execution_count": 8,
   "metadata": {
    "ExecuteTime": {
     "end_time": "2020-01-12T05:32:50.731775Z",
     "start_time": "2020-01-12T05:32:42.976064Z"
    }
   },
   "outputs": [
    {
     "name": "stderr",
     "output_type": "stream",
     "text": [
      "WARNING: Logging before flag parsing goes to stderr.\n",
      "W0112 14:32:43.007904 139737598412544 deprecation_wrapper.py:119] From /mnt/disk1/project/SMhospital/capsule/ce_packages/ce_model.py:107: The name tf.Session is deprecated. Please use tf.compat.v1.Session instead.\n",
      "\n",
      "W0112 14:32:47.758725 139737598412544 deprecation_wrapper.py:119] From /mnt/disk1/project/SMhospital/capsule/ce_packages/ce_model.py:108: The name tf.train.import_meta_graph is deprecated. Please use tf.compat.v1.train.import_meta_graph instead.\n",
      "\n",
      "W0112 14:32:48.088944 139737598412544 deprecation.py:323] From /usr/local/lib/python3.5/dist-packages/tensorflow/python/training/saver.py:1276: checkpoint_exists (from tensorflow.python.training.checkpoint_management) is deprecated and will be removed in a future version.\n",
      "Instructions for updating:\n",
      "Use standard file APIs to check for files with this prefix.\n"
     ]
    }
   ],
   "source": [
    "nh_path = './model/' + nh_list[-1]\n",
    "nd_path = './model/' + nd_list[-1]\n",
    "b_path = './model/' + b_list[-1]\n",
    "\n",
    "NH_model = binary_model(nh_path)\n",
    "ND_model = binary_model(nd_path)\n",
    "E_model = ensemble_model(nh_path, nd_path)\n",
    "B_model = binary_model(b_path)"
   ]
  },
  {
   "cell_type": "code",
   "execution_count": 9,
   "metadata": {
    "ExecuteTime": {
     "end_time": "2020-01-12T05:33:06.990594Z",
     "start_time": "2020-01-12T05:32:50.739491Z"
    }
   },
   "outputs": [
    {
     "name": "stdout",
     "output_type": "stream",
     "text": [
      "#: 784 / Inference Time: 00:00:07\n",
      "#: 1608 / Inference Time: 00:00:08\n"
     ]
    }
   ],
   "source": [
    "neg_nh_output = model_prob(NH_model, neg_nh_img)\n",
    "neg_nd_output = model_prob(ND_model, neg_nd_img)"
   ]
  },
  {
   "cell_type": "code",
   "execution_count": 10,
   "metadata": {
    "ExecuteTime": {
     "end_time": "2020-01-12T05:33:59.115104Z",
     "start_time": "2020-01-12T05:33:06.993745Z"
    }
   },
   "outputs": [
    {
     "name": "stdout",
     "output_type": "stream",
     "text": [
      "#: 2392 / Inference Time: 00:00:24\n",
      "#: 368 / Inference Time: 00:00:04\n",
      "#: 24 / Inference Time: 00:00:00\n",
      "#: 400 / Inference Time: 00:00:05\n",
      "#: 776 / Inference Time: 00:00:07\n",
      "#: 760 / Inference Time: 00:00:07\n",
      "#: 80 / Inference Time: 00:00:01\n"
     ]
    }
   ],
   "source": [
    "neg_e_output, _, _ = model_prob(E_model, neg_img, model_type = 'ensemble')\n",
    "redspot_e_output, redspot_nh_output, redspot_nd_output = model_prob(E_model, redspot_img, model_type = 'ensemble')\n",
    "angio_e_output, angio_nh_output, angio_nd_output = model_prob(E_model, angio_img, model_type = 'ensemble')\n",
    "active_e_output, active_nh_output, active_nd_output = model_prob(E_model, active_img, model_type = 'ensemble')\n",
    "ero_e_output, ero_nh_output, ero_nd_output = model_prob(E_model, ero_img, model_type = 'ensemble')\n",
    "ulcer_e_output, ulcer_nh_output, ulcer_nd_output = model_prob(E_model, ulcer_img, model_type = 'ensemble')\n",
    "str_e_output, str_nh_output, str_nd_output  = model_prob(E_model, str_img, model_type = 'ensemble')"
   ]
  },
  {
   "cell_type": "code",
   "execution_count": 11,
   "metadata": {
    "ExecuteTime": {
     "end_time": "2020-01-12T05:34:22.831099Z",
     "start_time": "2020-01-12T05:33:59.118425Z"
    }
   },
   "outputs": [
    {
     "name": "stdout",
     "output_type": "stream",
     "text": [
      "#: 2392 / Inference Time: 00:00:11\n",
      "#: 368 / Inference Time: 00:00:01\n",
      "#: 24 / Inference Time: 00:00:00\n",
      "#: 400 / Inference Time: 00:00:02\n",
      "#: 776 / Inference Time: 00:00:03\n",
      "#: 760 / Inference Time: 00:00:03\n",
      "#: 80 / Inference Time: 00:00:00\n"
     ]
    }
   ],
   "source": [
    "neg_b_output = model_prob(B_model, neg_img)\n",
    "redspot_b_output = model_prob(B_model, redspot_img)\n",
    "angio_b_output = model_prob(B_model, angio_img)\n",
    "active_b_output = model_prob(B_model, active_img)\n",
    "ero_b_output = model_prob(B_model, ero_img)\n",
    "ulcer_b_output = model_prob(B_model, ulcer_img)\n",
    "str_b_output  = model_prob(B_model, str_img)"
   ]
  },
  {
   "cell_type": "markdown",
   "metadata": {},
   "source": [
    "# Evaluation"
   ]
  },
  {
   "cell_type": "code",
   "execution_count": 12,
   "metadata": {
    "ExecuteTime": {
     "end_time": "2020-01-12T05:34:22.837226Z",
     "start_time": "2020-01-12T05:34:22.833913Z"
    }
   },
   "outputs": [],
   "source": [
    "cls = classification_metric()"
   ]
  },
  {
   "cell_type": "markdown",
   "metadata": {},
   "source": [
    "## Accuracy per lesion"
   ]
  },
  {
   "cell_type": "code",
   "execution_count": 13,
   "metadata": {
    "ExecuteTime": {
     "end_time": "2020-01-12T05:34:22.844624Z",
     "start_time": "2020-01-12T05:34:22.839296Z"
    }
   },
   "outputs": [
    {
     "name": "stdout",
     "output_type": "stream",
     "text": [
      "Accuracy: 98.98 %\n",
      "Accuracy: 96.74 %\n",
      "Accuracy: 100.00 %\n",
      "Accuracy: 100.00 %\n"
     ]
    }
   ],
   "source": [
    "neg_nh_acc = cls.accuracy(neg_nh_label, neg_nh_output)\n",
    "redspot_nh_acc = cls.accuracy(redspot_label, redspot_nh_output)\n",
    "angio_nh_acc = cls.accuracy(angio_label, angio_nh_output)\n",
    "active_nh_acc = cls.accuracy(active_label, active_nh_output)"
   ]
  },
  {
   "cell_type": "code",
   "execution_count": 14,
   "metadata": {
    "ExecuteTime": {
     "end_time": "2020-01-12T05:34:22.852708Z",
     "start_time": "2020-01-12T05:34:22.846699Z"
    }
   },
   "outputs": [
    {
     "name": "stdout",
     "output_type": "stream",
     "text": [
      "Accuracy: 94.65 %\n",
      "Accuracy: 96.39 %\n",
      "Accuracy: 93.68 %\n",
      "Accuracy: 93.75 %\n"
     ]
    }
   ],
   "source": [
    "neg_nd_acc = cls.accuracy(neg_nd_label, neg_nd_output)\n",
    "ero_nd_acc = cls.accuracy(ero_label, ero_nd_output)\n",
    "ulcer_nd_acc = cls.accuracy(ulcer_label, ulcer_nd_output)\n",
    "str_nd_acc = cls.accuracy(str_label, str_nd_output)"
   ]
  },
  {
   "cell_type": "code",
   "execution_count": 15,
   "metadata": {
    "ExecuteTime": {
     "end_time": "2020-01-12T05:34:22.864093Z",
     "start_time": "2020-01-12T05:34:22.856228Z"
    }
   },
   "outputs": [
    {
     "name": "stdout",
     "output_type": "stream",
     "text": [
      "Accuracy: 93.81 %\n",
      "Accuracy: 98.37 %\n",
      "Accuracy: 100.00 %\n",
      "Accuracy: 100.00 %\n",
      "Accuracy: 98.71 %\n",
      "Accuracy: 96.05 %\n",
      "Accuracy: 96.25 %\n"
     ]
    }
   ],
   "source": [
    "neg_b_acc = cls.accuracy(neg_label, neg_b_output)\n",
    "redspot_b_acc = cls.accuracy(redspot_label, redspot_b_output)\n",
    "angio_b_acc = cls.accuracy(angio_label, angio_b_output)\n",
    "active_b_acc = cls.accuracy(active_label, active_b_output)\n",
    "ero_b_acc = cls.accuracy(ero_label, ero_b_output)\n",
    "ulcer_b_acc = cls.accuracy(ulcer_label, ulcer_b_output)\n",
    "str_b_acc = cls.accuracy(str_label, str_b_output)"
   ]
  },
  {
   "cell_type": "code",
   "execution_count": 16,
   "metadata": {
    "ExecuteTime": {
     "end_time": "2020-01-12T05:34:22.874447Z",
     "start_time": "2020-01-12T05:34:22.866738Z"
    }
   },
   "outputs": [
    {
     "name": "stdout",
     "output_type": "stream",
     "text": [
      "Accuracy: 93.39 %\n",
      "Accuracy: 98.64 %\n",
      "Accuracy: 100.00 %\n",
      "Accuracy: 100.00 %\n",
      "Accuracy: 96.52 %\n",
      "Accuracy: 94.47 %\n",
      "Accuracy: 97.50 %\n"
     ]
    }
   ],
   "source": [
    "neg_e_acc = cls.accuracy(neg_label, neg_e_output)\n",
    "redspot_e_acc = cls.accuracy(redspot_label, redspot_e_output)\n",
    "angio_e_acc = cls.accuracy(angio_label, angio_e_output)\n",
    "active_e_acc = cls.accuracy(active_label, active_e_output)\n",
    "ero_e_acc = cls.accuracy(ero_label, ero_e_output)\n",
    "ulcer_e_acc = cls.accuracy(ulcer_label, ulcer_e_output)\n",
    "str_e_acc = cls.accuracy(str_label, str_e_output)"
   ]
  },
  {
   "cell_type": "markdown",
   "metadata": {},
   "source": [
    "## Confusion Matrix"
   ]
  },
  {
   "cell_type": "code",
   "execution_count": 17,
   "metadata": {
    "ExecuteTime": {
     "end_time": "2020-01-12T05:34:22.883825Z",
     "start_time": "2020-01-12T05:34:22.876530Z"
    }
   },
   "outputs": [],
   "source": [
    "nh_outputs = np.vstack([neg_nh_output, redspot_nh_output, angio_nh_output, active_nh_output])\n",
    "labels = np.vstack([neg_nh_label, redspot_label, angio_label, active_label])\n",
    "\n",
    "nh_CM = cls.con_mat(labels, nh_outputs)"
   ]
  },
  {
   "cell_type": "code",
   "execution_count": 18,
   "metadata": {
    "ExecuteTime": {
     "end_time": "2020-01-12T05:34:23.204285Z",
     "start_time": "2020-01-12T05:34:22.885951Z"
    }
   },
   "outputs": [
    {
     "data": {
      "image/png": "[encoded data removed]",
      "text/plain": [
       "<Figure size 1152x576 with 2 Axes>"
      ]
     },
     "metadata": {
      "needs_background": "light"
     },
     "output_type": "display_data"
    }
   ],
   "source": [
    "plt.figure(figsize=(16, 8))\n",
    "plt.subplot(121)\n",
    "cls.plot_cm(nh_CM, value_size = 25, label_size = 20)\n",
    "plt.subplot(122)\n",
    "cls.plot_cm(nh_CM, value_size = 25, label_size = 20, mode = 'num')\n",
    "plt.show()"
   ]
  },
  {
   "cell_type": "code",
   "execution_count": 19,
   "metadata": {
    "ExecuteTime": {
     "end_time": "2020-01-12T05:34:23.212802Z",
     "start_time": "2020-01-12T05:34:23.206500Z"
    }
   },
   "outputs": [],
   "source": [
    "nd_outputs = np.vstack([neg_nd_output, ero_nd_output, ulcer_nd_output, str_nd_output])\n",
    "labels = np.vstack([neg_nd_label, ero_label, ulcer_label, str_label])\n",
    "\n",
    "nd_CM = cls.con_mat(labels, nd_outputs)"
   ]
  },
  {
   "cell_type": "code",
   "execution_count": 20,
   "metadata": {
    "ExecuteTime": {
     "end_time": "2020-01-12T05:34:23.468592Z",
     "start_time": "2020-01-12T05:34:23.214514Z"
    }
   },
   "outputs": [
    {
     "data": {
      "image/png": "[encoded data removed]",
      "text/plain": [
       "<Figure size 1152x576 with 2 Axes>"
      ]
     },
     "metadata": {
      "needs_background": "light"
     },
     "output_type": "display_data"
    }
   ],
   "source": [
    "plt.figure(figsize=(16, 8))\n",
    "plt.subplot(121)\n",
    "cls.plot_cm(nd_CM, value_size = 25, label_size = 20)\n",
    "plt.subplot(122)\n",
    "cls.plot_cm(nd_CM, value_size = 25, label_size = 20, mode = 'num')\n",
    "plt.show()"
   ]
  },
  {
   "cell_type": "code",
   "execution_count": 21,
   "metadata": {
    "ExecuteTime": {
     "end_time": "2020-01-12T05:34:23.479021Z",
     "start_time": "2020-01-12T05:34:23.470977Z"
    }
   },
   "outputs": [],
   "source": [
    "e_outputs = np.vstack([neg_e_output, redspot_e_output, angio_e_output, active_e_output, ero_e_output, ulcer_e_output, str_e_output])\n",
    "labels = np.vstack([neg_label, redspot_label, angio_label, active_label, ero_label, ulcer_label, str_label])\n",
    "\n",
    "e_CM = cls.con_mat(labels, e_outputs)"
   ]
  },
  {
   "cell_type": "code",
   "execution_count": 22,
   "metadata": {
    "ExecuteTime": {
     "end_time": "2020-01-12T05:34:23.743308Z",
     "start_time": "2020-01-12T05:34:23.480742Z"
    }
   },
   "outputs": [
    {
     "data": {
      "image/png": "[encoded data removed]",
      "text/plain": [
       "<Figure size 1152x576 with 2 Axes>"
      ]
     },
     "metadata": {
      "needs_background": "light"
     },
     "output_type": "display_data"
    }
   ],
   "source": [
    "plt.figure(figsize=(16, 8))\n",
    "plt.subplot(121)\n",
    "cls.plot_cm(e_CM, value_size = 25, label_size = 20)\n",
    "plt.subplot(122)\n",
    "cls.plot_cm(e_CM, value_size = 25, label_size = 20, mode = 'num')\n",
    "plt.show()"
   ]
  },
  {
   "cell_type": "code",
   "execution_count": 23,
   "metadata": {
    "ExecuteTime": {
     "end_time": "2020-01-12T05:34:23.753473Z",
     "start_time": "2020-01-12T05:34:23.745779Z"
    }
   },
   "outputs": [],
   "source": [
    "b_outputs = np.vstack([neg_b_output, redspot_b_output, angio_b_output, active_b_output, ero_b_output, ulcer_b_output, str_b_output])\n",
    "labels = np.vstack([neg_label, redspot_label, angio_label, active_label, ero_label, ulcer_label, str_label])\n",
    "\n",
    "b_CM = cls.con_mat(labels, b_outputs)"
   ]
  },
  {
   "cell_type": "code",
   "execution_count": 24,
   "metadata": {
    "ExecuteTime": {
     "end_time": "2020-01-12T05:34:24.018719Z",
     "start_time": "2020-01-12T05:34:23.755192Z"
    }
   },
   "outputs": [
    {
     "data": {
      "image/png": "[encoded data removed]",
      "text/plain": [
       "<Figure size 1152x576 with 2 Axes>"
      ]
     },
     "metadata": {
      "needs_background": "light"
     },
     "output_type": "display_data"
    }
   ],
   "source": [
    "plt.figure(figsize=(16, 8))\n",
    "plt.subplot(121)\n",
    "cls.plot_cm(b_CM, value_size = 25, label_size = 20)\n",
    "plt.grid(False)\n",
    "plt.subplot(122)\n",
    "cls.plot_cm(b_CM, value_size = 25, label_size = 20, mode = 'num')\n",
    "plt.grid(False)\n",
    "plt.show()"
   ]
  },
  {
   "cell_type": "markdown",
   "metadata": {},
   "source": [
    "## ROC curve"
   ]
  },
  {
   "cell_type": "code",
   "execution_count": 25,
   "metadata": {
    "ExecuteTime": {
     "end_time": "2020-01-12T05:34:24.025497Z",
     "start_time": "2020-01-12T05:34:24.020575Z"
    }
   },
   "outputs": [],
   "source": [
    "from scipy.stats import sem, t\n",
    "from scipy import mean\n",
    "\n",
    "def conf_interval(data, conf_level = 0.95, mode = 'value', metric = 'Accr'):\n",
    "    n = len(data)\n",
    "    m = mean(data)\n",
    "    std_err = sem(data)\n",
    "    h = std_err * t.ppf((1 + conf_level) / 2, n - 1)\n",
    "\n",
    "    start = m - h\n",
    "    end = m + h\n",
    "    \n",
    "    if mode == 'value':\n",
    "        return m, start, end\n",
    "    elif mode == 'print':\n",
    "        return print(\"{} --- {:.2f} ({:.2f} ~ {:.2f})\".format(metric, m, start, end))"
   ]
  },
  {
   "cell_type": "code",
   "execution_count": 26,
   "metadata": {
    "ExecuteTime": {
     "end_time": "2020-01-12T05:34:24.034687Z",
     "start_time": "2020-01-12T05:34:24.027378Z"
    }
   },
   "outputs": [],
   "source": [
    "from sklearn.model_selection import KFold"
   ]
  },
  {
   "cell_type": "code",
   "execution_count": 27,
   "metadata": {
    "ExecuteTime": {
     "end_time": "2020-01-12T05:34:24.040164Z",
     "start_time": "2020-01-12T05:34:24.036490Z"
    }
   },
   "outputs": [],
   "source": [
    "def k_fold_idx(n_fold, dataset):\n",
    "    kf = KFold(n_splits = n_fold, shuffle = True)\n",
    "    train_idxs = []\n",
    "    test_idxs = []\n",
    "    for train_idx, test_idx in kf.split(dataset):\n",
    "        train_idxs.append(train_idx)\n",
    "        test_idxs.append(test_idx)\n",
    "    return train_idxs, test_idxs"
   ]
  },
  {
   "cell_type": "code",
   "execution_count": 28,
   "metadata": {
    "ExecuteTime": {
     "end_time": "2020-01-12T05:34:24.050764Z",
     "start_time": "2020-01-12T05:34:24.042105Z"
    }
   },
   "outputs": [],
   "source": [
    "n_g = 10\n",
    "\n",
    "_, neg_nh_idxs = k_fold_idx(n_fold = n_g, dataset = neg_nh_label)\n",
    "_, neg_nd_idxs = k_fold_idx(n_fold = n_g, dataset = neg_nd_label)\n",
    "_, neg_idxs = k_fold_idx(n_fold = n_g, dataset = neg_label)\n",
    "_, redspot_idxs = k_fold_idx(n_fold = n_g, dataset = redspot_label)\n",
    "_, angio_idxs = k_fold_idx(n_fold = n_g, dataset = angio_label)\n",
    "_, active_idxs = k_fold_idx(n_fold = n_g, dataset = active_label)\n",
    "_, ero_idxs = k_fold_idx(n_fold = n_g, dataset = ero_label)\n",
    "_, ulcer_idxs = k_fold_idx(n_fold = n_g, dataset = ulcer_label)\n",
    "_, str_idxs = k_fold_idx(n_fold = n_g, dataset = str_label)"
   ]
  },
  {
   "cell_type": "code",
   "execution_count": 29,
   "metadata": {
    "ExecuteTime": {
     "end_time": "2020-01-12T05:34:24.071250Z",
     "start_time": "2020-01-12T05:34:24.052408Z"
    },
    "scrolled": false
   },
   "outputs": [],
   "source": [
    "from sklearn.metrics import roc_curve, auc\n",
    "\n",
    "e_aucs, b_aucs = [], []\n",
    "\n",
    "for n_idx, r_idx, an_idx, ac_idx, e_idx, u_idx, s_idx in zip(neg_idxs, redspot_idxs, angio_idxs, active_idxs,\n",
    "                                                               ero_idxs, ulcer_idxs, str_idxs):\n",
    "    \n",
    "    b_outputs = np.vstack([neg_b_output[n_idx], redspot_b_output[r_idx], angio_b_output[an_idx], active_b_output[ac_idx], \n",
    "                           ero_b_output[e_idx], ulcer_b_output[u_idx], str_b_output[s_idx]])\n",
    "    e_outputs = np.vstack([neg_e_output[n_idx], redspot_e_output[r_idx], angio_e_output[an_idx], active_e_output[ac_idx], \n",
    "                           ero_e_output[e_idx], ulcer_e_output[u_idx], str_e_output[s_idx]])\n",
    "    labels = np.vstack([neg_label[n_idx], redspot_label[r_idx], angio_label[an_idx], active_label[ac_idx], \n",
    "                        ero_label[e_idx], ulcer_label[u_idx], str_label[s_idx]])\n",
    "    e_fpr, e_tpr, thresholds = roc_curve(labels[:, 1], e_outputs[:,1])\n",
    "    b_fpr, b_tpr, thresholds = roc_curve(labels[:, 1], b_outputs[:,1])\n",
    "    e_aucs.append(auc(e_fpr, e_tpr))\n",
    "    b_aucs.append(auc(b_fpr, b_tpr))"
   ]
  },
  {
   "cell_type": "code",
   "execution_count": 30,
   "metadata": {
    "ExecuteTime": {
     "end_time": "2020-01-12T05:34:24.533435Z",
     "start_time": "2020-01-12T05:34:24.074918Z"
    }
   },
   "outputs": [
    {
     "name": "stderr",
     "output_type": "stream",
     "text": [
      "/usr/local/lib/python3.5/dist-packages/matplotlib/cbook/__init__.py:424: MatplotlibDeprecationWarning: \n",
      "Passing one of 'on', 'true', 'off', 'false' as a boolean is deprecated; use an actual boolean (True/False) instead.\n",
      "  warn_deprecated(\"2.2\", \"Passing one of 'on', 'true', 'off', 'false' as a \"\n"
     ]
    },
    {
     "data": {
      "image/png": "[encoded data removed]",
      "text/plain": [
       "<Figure size 720x576 with 1 Axes>"
      ]
     },
     "metadata": {
      "needs_background": "light"
     },
     "output_type": "display_data"
    },
    {
     "data": {
      "image/png": "[encoded data removed]",
      "text/plain": [
       "<Figure size 720x576 with 1 Axes>"
      ]
     },
     "metadata": {
      "needs_background": "light"
     },
     "output_type": "display_data"
    }
   ],
   "source": [
    "e_auc_m, e_auc_l, e_auc_u = conf_interval(e_aucs, mode = 'value')\n",
    "b_auc_m, b_auc_l, b_auc_u = conf_interval(b_aucs, mode = 'value')\n",
    "\n",
    "b_outputs = np.vstack([neg_b_output, redspot_b_output, angio_b_output, active_b_output, ero_b_output, ulcer_b_output, str_b_output])\n",
    "e_outputs = np.vstack([neg_e_output, redspot_e_output, angio_e_output, active_e_output, ero_e_output, ulcer_e_output, str_e_output])\n",
    "labels = np.vstack([neg_label, redspot_label, angio_label, active_label, ero_label, ulcer_label, str_label])\n",
    "\n",
    "e_fpr, e_tpr, thresholds = roc_curve(labels[:, 1], e_outputs[:,1])\n",
    "b_fpr, b_tpr, thresholds = roc_curve(labels[:, 1], b_outputs[:,1])\n",
    "\n",
    "fig = plt.figure(figsize=(10, 8))\n",
    "plt.plot(e_fpr, e_tpr, 'r-', label=\"Ensemble model, AUC: {:.4f} ({:.4f}~{:.4f}), 95 % CI\".format(e_auc_m, e_auc_l, e_auc_u))\n",
    "plt.plot(b_fpr, b_tpr, 'k-', label=\"Binary model, AUC: {:.4f} ({:.4f}~{:.4f}), 95 % CI\".format(b_auc_m, b_auc_l, b_auc_u))\n",
    "plt.xlabel('1 - Specificity', fontsize = 15)\n",
    "plt.ylabel('Sensitivity', fontsize = 15)\n",
    "plt.legend(fontsize = 12)\n",
    "plt.grid('on')\n",
    "fig.show()\n",
    "\n",
    "fig = plt.figure(figsize=(10, 8))\n",
    "plt.plot(e_fpr, e_tpr, 'r-', label=\"Ensemble model\")\n",
    "plt.plot(b_fpr, b_tpr, 'k-', label=\"Binary model\")\n",
    "plt.xlim([0.0, 0.1])\n",
    "plt.ylim([0.9, 1.0])\n",
    "plt.legend(fontsize = 20, loc = 4)\n",
    "fig.show()"
   ]
  },
  {
   "cell_type": "markdown",
   "metadata": {},
   "source": [
    "## Statistics"
   ]
  },
  {
   "cell_type": "markdown",
   "metadata": {},
   "source": [
    "![image](http://mblogthumb3.phinf.naver.net/20121114_106/istech7_1352875002440GYyqh_PNG/%B5%CE%C1%FD%B4%DC%C2%F7%C0%CC_%B0%CB%C1%A4%B9%E6%B9%FD%C8%E5%B8%A7%B5%B5.png?type=w2)\n",
    "\n",
    "![image](https://t1.daumcdn.net/cfile/tistory/2743524658F2520C2A)\n",
    "\n",
    "https://img1.daumcdn.net/thumb/R800x0/?scode=mtistory2&fname=https%3A%2F%2Ft1.daumcdn.net%2Fcfile%2Ftistory%2F1378B94E4F9C187F23"
   ]
  },
  {
   "cell_type": "code",
   "execution_count": 31,
   "metadata": {
    "ExecuteTime": {
     "end_time": "2020-01-12T05:34:24.559264Z",
     "start_time": "2020-01-12T05:34:24.535281Z"
    }
   },
   "outputs": [
    {
     "name": "stdout",
     "output_type": "stream",
     "text": [
      "(482, 2)\n",
      "(482, 2)\n",
      "(481, 2)\n",
      "(481, 2)\n",
      "(480, 2)\n",
      "(480, 2)\n",
      "(479, 2)\n",
      "(479, 2)\n",
      "(478, 2)\n",
      "(478, 2)\n"
     ]
    }
   ],
   "source": [
    "e_CM, b_CM = [], []\n",
    "\n",
    "for n_idx, r_idx, an_idx, ac_idx, e_idx, u_idx, s_idx in zip(neg_idxs, redspot_idxs, angio_idxs, active_idxs,\n",
    "                                                               ero_idxs, ulcer_idxs, str_idxs):\n",
    "    \n",
    "    b_outputs = np.vstack([neg_b_output[n_idx], redspot_b_output[r_idx], angio_b_output[an_idx], active_b_output[ac_idx], \n",
    "                           ero_b_output[e_idx], ulcer_b_output[u_idx], str_b_output[s_idx]])\n",
    "    e_outputs = np.vstack([neg_e_output[n_idx], redspot_e_output[r_idx], angio_e_output[an_idx], active_e_output[ac_idx], \n",
    "                           ero_e_output[e_idx], ulcer_e_output[u_idx], str_e_output[s_idx]])\n",
    "    labels = np.vstack([neg_label[n_idx], redspot_label[r_idx], angio_label[an_idx], active_label[ac_idx], \n",
    "                        ero_label[e_idx], ulcer_label[u_idx], str_label[s_idx]])\n",
    "    print(labels.shape)\n",
    "    e_CM.append(cls.con_mat(labels, e_outputs)), b_CM.append(cls.con_mat(labels, b_outputs))"
   ]
  },
  {
   "cell_type": "code",
   "execution_count": 32,
   "metadata": {
    "ExecuteTime": {
     "end_time": "2020-01-12T05:34:24.564914Z",
     "start_time": "2020-01-12T05:34:24.561067Z"
    }
   },
   "outputs": [],
   "source": [
    "b_metrices = []\n",
    "e_metrices = []\n",
    "\n",
    "for e_cm, b_cm in zip(e_CM, b_CM):\n",
    "    b_metrices.append(cls.cm2metric(b_cm))\n",
    "    e_metrices.append(cls.cm2metric(e_cm))\n",
    "    \n",
    "b_metrices = np.asarray(b_metrices)\n",
    "e_metrices = np.asarray(e_metrices)"
   ]
  },
  {
   "cell_type": "code",
   "execution_count": 33,
   "metadata": {
    "ExecuteTime": {
     "end_time": "2020-01-12T05:34:24.571044Z",
     "start_time": "2020-01-12T05:34:24.566592Z"
    }
   },
   "outputs": [
    {
     "data": {
      "text/plain": [
       "array([[0.92946058, 0.97107438, 0.8875    , 0.96818182, 0.89694656],\n",
       "       [0.93153527, 0.95867769, 0.90416667, 0.95594714, 0.90980392],\n",
       "       [0.97505198, 0.98760331, 0.9623431 , 0.98712446, 0.96370968],\n",
       "       [0.96881497, 0.99173554, 0.94560669, 0.99122807, 0.9486166 ],\n",
       "       [0.97083333, 0.97095436, 0.9707113 , 0.9707113 , 0.97095436],\n",
       "       [0.9625    , 0.97510373, 0.94979079, 0.97424893, 0.951417  ],\n",
       "       [0.9519833 , 0.975     , 0.92887029, 0.97368421, 0.93227092],\n",
       "       [0.96450939, 0.9875    , 0.94142259, 0.98684211, 0.94422311],\n",
       "       [0.9623431 , 0.9916318 , 0.93305439, 0.99111111, 0.93675889],\n",
       "       [0.97280335, 0.9874477 , 0.958159  , 0.98706897, 0.95934959]])"
      ]
     },
     "execution_count": 33,
     "metadata": {},
     "output_type": "execute_result"
    }
   ],
   "source": [
    "b_metrices"
   ]
  },
  {
   "cell_type": "code",
   "execution_count": 34,
   "metadata": {
    "ExecuteTime": {
     "end_time": "2020-01-12T05:34:24.576817Z",
     "start_time": "2020-01-12T05:34:24.572737Z"
    }
   },
   "outputs": [
    {
     "data": {
      "text/plain": [
       "array([[0.93360996, 0.97520661, 0.89166667, 0.97272727, 0.90076336],\n",
       "       [0.94190871, 0.96694215, 0.91666667, 0.96491228, 0.92125984],\n",
       "       [0.96673597, 0.96280992, 0.9707113 , 0.9626556 , 0.97083333],\n",
       "       [0.94802495, 0.97107438, 0.92468619, 0.96929825, 0.92885375],\n",
       "       [0.94375   , 0.94190871, 0.94560669, 0.94166667, 0.94583333],\n",
       "       [0.95833333, 0.97095436, 0.94560669, 0.96995708, 0.94736842],\n",
       "       [0.96450939, 0.97083333, 0.958159  , 0.97033898, 0.95884774],\n",
       "       [0.94989562, 0.96666667, 0.93305439, 0.96536797, 0.93548387],\n",
       "       [0.95606695, 0.9832636 , 0.92887029, 0.98230088, 0.93253968],\n",
       "       [0.94979079, 0.9748954 , 0.92468619, 0.97356828, 0.92828685]])"
      ]
     },
     "execution_count": 34,
     "metadata": {},
     "output_type": "execute_result"
    }
   ],
   "source": [
    "e_metrices"
   ]
  },
  {
   "cell_type": "code",
   "execution_count": 35,
   "metadata": {
    "ExecuteTime": {
     "end_time": "2020-01-12T05:34:24.592501Z",
     "start_time": "2020-01-12T05:34:24.578537Z"
    }
   },
   "outputs": [
    {
     "name": "stdout",
     "output_type": "stream",
     "text": [
      "95 % CI\n",
      "\n",
      "Binary model\n",
      "Accr --- 95.90 (94.73 ~ 97.07)\n",
      "Sen --- 97.97 (97.17 ~ 98.76)\n",
      "Spec --- 93.82 (91.96 ~ 95.68)\n",
      "NPV --- 97.86 (97.02 ~ 98.71)\n",
      "PPV --- 94.14 (92.47 ~ 95.82)\n",
      "\n",
      "Ensemble model\n",
      "Accr --- 95.13 (94.39 ~ 95.86)\n",
      "Sen --- 96.85 (96.07 ~ 97.62)\n",
      "Spec --- 93.40 (91.80 ~ 95.00)\n",
      "NPV --- 96.73 (95.97 ~ 97.48)\n",
      "PPV --- 93.70 (92.28 ~ 95.12)\n"
     ]
    }
   ],
   "source": [
    "print(\"95 % CI\\n\")\n",
    "\n",
    "print('Binary model')\n",
    "conf_interval(100*b_metrices[:, 0], mode = 'print', metric = 'Accr')\n",
    "conf_interval(100*b_metrices[:, 1], mode = 'print', metric = 'Sen')\n",
    "conf_interval(100*b_metrices[:, 2], mode = 'print', metric = 'Spec')\n",
    "conf_interval(100*b_metrices[:, 3], mode = 'print', metric = 'NPV')\n",
    "conf_interval(100*b_metrices[:, 4], mode = 'print', metric = 'PPV')\n",
    "print('')\n",
    "print('Ensemble model')\n",
    "conf_interval(100*e_metrices[:, 0], mode = 'print', metric = 'Accr')\n",
    "conf_interval(100*e_metrices[:, 1], mode = 'print', metric = 'Sen')\n",
    "conf_interval(100*e_metrices[:, 2], mode = 'print', metric = 'Spec')\n",
    "conf_interval(100*e_metrices[:, 3], mode = 'print', metric = 'NPV')\n",
    "conf_interval(100*e_metrices[:, 4], mode = 'print', metric = 'PPV')"
   ]
  },
  {
   "cell_type": "markdown",
   "metadata": {},
   "source": [
    "### Equal-Variance Test"
   ]
  },
  {
   "cell_type": "code",
   "execution_count": 36,
   "metadata": {
    "ExecuteTime": {
     "end_time": "2020-01-12T05:34:24.603687Z",
     "start_time": "2020-01-12T05:34:24.594204Z"
    }
   },
   "outputs": [
    {
     "name": "stdout",
     "output_type": "stream",
     "text": [
      "bartlett test for accuracy: 1.760, pvalue=0.184644354339\n",
      "bartlett test for sensitivity: 0.003, pvalue=0.957784095326\n",
      "bartlett test for specificity: 0.194, pvalue=0.659598740211\n",
      "bartlett test for negative predictive values: 0.108, pvalue=0.742493132320\n",
      "bartlett test for positive predictive values: 0.236, pvalue=0.626760005632\n"
     ]
    }
   ],
   "source": [
    "from scipy.stats import bartlett\n",
    "\n",
    "accr_stats = bartlett(100*b_metrices[:, 0], 100*e_metrices[:, 0])\n",
    "sens_stats = bartlett(100*b_metrices[:, 1], 100*e_metrices[:, 1])\n",
    "spec_stats = bartlett(100*b_metrices[:, 2], 100*e_metrices[:, 2])\n",
    "npv_stats = bartlett(100*b_metrices[:, 3], 100*e_metrices[:, 3])\n",
    "ppv_stats = bartlett(100*b_metrices[:, 4], 100*e_metrices[:, 4])\n",
    "\n",
    "print(\"bartlett test for accuracy: {:.3f}, pvalue={:.12f}\".format(accr_stats[0], accr_stats[1]))\n",
    "print(\"bartlett test for sensitivity: {:.3f}, pvalue={:.12f}\".format(sens_stats[0], sens_stats[1]))\n",
    "print(\"bartlett test for specificity: {:.3f}, pvalue={:.12f}\".format(spec_stats[0], spec_stats[1]))\n",
    "print(\"bartlett test for negative predictive values: {:.3f}, pvalue={:.12f}\".format(npv_stats[0], npv_stats[1]))\n",
    "print(\"bartlett test for positive predictive values: {:.3f}, pvalue={:.12f}\".format(ppv_stats[0], ppv_stats[1]))"
   ]
  },
  {
   "cell_type": "code",
   "execution_count": 37,
   "metadata": {
    "ExecuteTime": {
     "end_time": "2020-01-12T05:34:24.615800Z",
     "start_time": "2020-01-12T05:34:24.605474Z"
    }
   },
   "outputs": [
    {
     "name": "stdout",
     "output_type": "stream",
     "text": [
      "levene test for accuracy: 0.685, pvalue=0.418690060080\n",
      "levene test for sensitivity: 0.819, pvalue=0.377290633455\n",
      "levene test for specificity: 0.125, pvalue=0.727588786272\n",
      "levene test for negative predictive values: 1.247, pvalue=0.278873783847\n",
      "levene test for positive predictive values: 0.186, pvalue=0.671362963801\n"
     ]
    }
   ],
   "source": [
    "from scipy.stats import levene\n",
    "\n",
    "accr_stats = levene(100*b_metrices[:, 0], 100*e_metrices[:, 0])\n",
    "sens_stats = levene(100*b_metrices[:, 1], 100*e_metrices[:, 1])\n",
    "spec_stats = levene(100*b_metrices[:, 2], 100*e_metrices[:, 2])\n",
    "npv_stats = levene(100*b_metrices[:, 3], 100*e_metrices[:, 3])\n",
    "ppv_stats = levene(100*b_metrices[:, 4], 100*e_metrices[:, 4])\n",
    "\n",
    "print(\"levene test for accuracy: {:.3f}, pvalue={:.12f}\".format(accr_stats[0], accr_stats[1]))\n",
    "print(\"levene test for sensitivity: {:.3f}, pvalue={:.12f}\".format(sens_stats[0], sens_stats[1]))\n",
    "print(\"levene test for specificity: {:.3f}, pvalue={:.12f}\".format(spec_stats[0], spec_stats[1]))\n",
    "print(\"levene test for negative predictive values: {:.3f}, pvalue={:.12f}\".format(npv_stats[0], npv_stats[1]))\n",
    "print(\"levene test for positive predictive values: {:.3f}, pvalue={:.12f}\".format(ppv_stats[0], ppv_stats[1]))"
   ]
  },
  {
   "cell_type": "markdown",
   "metadata": {},
   "source": [
    "### Normality Test"
   ]
  },
  {
   "cell_type": "code",
   "execution_count": 38,
   "metadata": {
    "ExecuteTime": {
     "end_time": "2020-01-12T05:34:24.625973Z",
     "start_time": "2020-01-12T05:34:24.617533Z"
    }
   },
   "outputs": [
    {
     "name": "stdout",
     "output_type": "stream",
     "text": [
      "Kolmogorov-Smirnov test for accuracy: 0.500, pvalue=0.167821342744\n",
      "Kolmogorov-Smirnov test for sensitivity: 0.500, pvalue=0.167821342744\n",
      "Kolmogorov-Smirnov test for specificity: 0.200, pvalue=0.994457554829\n",
      "Kolmogorov-Smirnov test for negative predictive values: 0.600, pvalue=0.052447552448\n",
      "Kolmogorov-Smirnov test for positive predictive values: 0.300, pvalue=0.786929788478\n"
     ]
    }
   ],
   "source": [
    "from scipy.stats import ks_2samp\n",
    "\n",
    "accr_stats = ks_2samp(100*b_metrices[:, 0], 100*e_metrices[:, 0])\n",
    "sens_stats = ks_2samp(100*b_metrices[:, 1], 100*e_metrices[:, 1])\n",
    "spec_stats = ks_2samp(100*b_metrices[:, 2], 100*e_metrices[:, 2])\n",
    "npv_stats = ks_2samp(100*b_metrices[:, 3], 100*e_metrices[:, 3])\n",
    "ppv_stats = ks_2samp(100*b_metrices[:, 4], 100*e_metrices[:, 4])\n",
    "\n",
    "print(\"Kolmogorov-Smirnov test for accuracy: {:.3f}, pvalue={:.12f}\".format(accr_stats[0], accr_stats[1]))\n",
    "print(\"Kolmogorov-Smirnov test for sensitivity: {:.3f}, pvalue={:.12f}\".format(sens_stats[0], sens_stats[1]))\n",
    "print(\"Kolmogorov-Smirnov test for specificity: {:.3f}, pvalue={:.12f}\".format(spec_stats[0], spec_stats[1]))\n",
    "print(\"Kolmogorov-Smirnov test for negative predictive values: {:.3f}, pvalue={:.12f}\".format(npv_stats[0], npv_stats[1]))\n",
    "print(\"Kolmogorov-Smirnov test for positive predictive values: {:.3f}, pvalue={:.12f}\".format(ppv_stats[0], ppv_stats[1]))"
   ]
  },
  {
   "cell_type": "markdown",
   "metadata": {},
   "source": [
    "### Wilcoxon signed-ranks test (not normal and paired group)"
   ]
  },
  {
   "cell_type": "code",
   "execution_count": 39,
   "metadata": {
    "ExecuteTime": {
     "end_time": "2020-01-12T05:34:24.637950Z",
     "start_time": "2020-01-12T05:34:24.627889Z"
    }
   },
   "outputs": [
    {
     "name": "stdout",
     "output_type": "stream",
     "text": [
      "wilcoxon signed-ranks test for accuracy: 12.000, pvalue=0.114128327762\n",
      "wilcoxon signed-ranks test for sensitivity: 5.000, pvalue=0.021824275626\n",
      "wilcoxon signed-ranks test for specificity: 21.000, pvalue=0.507348493382\n",
      "wilcoxon signed-ranks test for negative predictive values: 8.000, pvalue=0.046853284788\n",
      "wilcoxon signed-ranks test for positive predictive values: 20.000, pvalue=0.444586738912\n"
     ]
    }
   ],
   "source": [
    "from scipy.stats import wilcoxon\n",
    "\n",
    "accr_stats = wilcoxon(100*b_metrices[:, 0], 100*e_metrices[:, 0])\n",
    "sens_stats = wilcoxon(100*b_metrices[:, 1], 100*e_metrices[:, 1])\n",
    "spec_stats = wilcoxon(100*b_metrices[:, 2], 100*e_metrices[:, 2])\n",
    "npv_stats = wilcoxon(100*b_metrices[:, 3], 100*e_metrices[:, 3])\n",
    "ppv_stats = wilcoxon(100*b_metrices[:, 4], 100*e_metrices[:, 4])\n",
    "\n",
    "print(\"wilcoxon signed-ranks test for accuracy: {:.3f}, pvalue={:.12f}\".format(accr_stats[0], accr_stats[1]))\n",
    "print(\"wilcoxon signed-ranks test for sensitivity: {:.3f}, pvalue={:.12f}\".format(sens_stats[0], sens_stats[1]))\n",
    "print(\"wilcoxon signed-ranks test for specificity: {:.3f}, pvalue={:.12f}\".format(spec_stats[0], spec_stats[1]))\n",
    "print(\"wilcoxon signed-ranks test for negative predictive values: {:.3f}, pvalue={:.12f}\".format(npv_stats[0], npv_stats[1]))\n",
    "print(\"wilcoxon signed-ranks test for positive predictive values: {:.3f}, pvalue={:.12f}\".format(ppv_stats[0], ppv_stats[1]))"
   ]
  },
  {
   "cell_type": "markdown",
   "metadata": {},
   "source": [
    "### Paired two-sample t-Test (normal and paired group)"
   ]
  },
  {
   "cell_type": "code",
   "execution_count": 41,
   "metadata": {
    "ExecuteTime": {
     "end_time": "2020-01-12T05:34:24.663522Z",
     "start_time": "2020-01-12T05:34:24.647850Z"
    }
   },
   "outputs": [
    {
     "name": "stdout",
     "output_type": "stream",
     "text": [
      "t-statistics for accuracy: 1.766, pvalue=0.111212757829\n",
      "t-statistics for sensitivity: 2.835, pvalue=0.019546456618\n",
      "t-statistics for specificity: 0.701, pvalue=0.501163025653\n",
      "t-statistics for negative predictive values: 2.786, pvalue=0.021193938547\n",
      "t-statistics for positive predictive values: 0.788, pvalue=0.451184995410\n"
     ]
    }
   ],
   "source": [
    "from scipy.stats import ttest_rel\n",
    "\n",
    "accr_stats = ttest_rel(100*b_metrices[:, 0], 100*e_metrices[:, 0])\n",
    "sens_stats = ttest_rel(100*b_metrices[:, 1], 100*e_metrices[:, 1])\n",
    "spec_stats = ttest_rel(100*b_metrices[:, 2], 100*e_metrices[:, 2])\n",
    "npv_stats = ttest_rel(100*b_metrices[:, 3], 100*e_metrices[:, 3])\n",
    "ppv_stats = ttest_rel(100*b_metrices[:, 4], 100*e_metrices[:, 4])\n",
    "\n",
    "print(\"t-statistics for accuracy: {:.3f}, pvalue={:.12f}\".format(accr_stats[0], accr_stats[1]))\n",
    "print(\"t-statistics for sensitivity: {:.3f}, pvalue={:.12f}\".format(sens_stats[0], sens_stats[1]))\n",
    "print(\"t-statistics for specificity: {:.3f}, pvalue={:.12f}\".format(spec_stats[0], spec_stats[1]))\n",
    "print(\"t-statistics for negative predictive values: {:.3f}, pvalue={:.12f}\".format(npv_stats[0], npv_stats[1]))\n",
    "print(\"t-statistics for positive predictive values: {:.3f}, pvalue={:.12f}\".format(ppv_stats[0], ppv_stats[1]))"
   ]
  },
  {
   "cell_type": "code",
   "execution_count": 42,
   "metadata": {
    "ExecuteTime": {
     "end_time": "2020-01-12T05:34:25.338419Z",
     "start_time": "2020-01-12T05:34:24.665769Z"
    }
   },
   "outputs": [
    {
     "data": {
      "image/png": "[encoded data removed]",
      "text/plain": [
       "<Figure size 1440x216 with 5 Axes>"
      ]
     },
     "metadata": {
      "needs_background": "light"
     },
     "output_type": "display_data"
    }
   ],
   "source": [
    "## Distribution by metric\n",
    "\n",
    "import seaborn as sns\n",
    "\n",
    "fig, axes = plt.subplots(ncols = 5)\n",
    "fig.set_size_inches(20, 3)\n",
    "\n",
    "sns.set_style({'axes.grid' : True})\n",
    "\n",
    "sns.distplot(b_metrices[:, 0], color='k', ax = axes[0])\n",
    "sns.distplot(e_metrices[:, 0], color='r', ax = axes[0])\n",
    "sns.distplot(b_metrices[:, 1], color='k', ax = axes[1])\n",
    "sns.distplot(e_metrices[:, 1], color='r', ax = axes[1])\n",
    "sns.distplot(b_metrices[:, 2], color='k', ax = axes[2])\n",
    "sns.distplot(e_metrices[:, 2], color='r', ax = axes[2])\n",
    "sns.distplot(b_metrices[:, 3], color='k', ax = axes[3])\n",
    "sns.distplot(e_metrices[:, 3], color='r', ax = axes[3])\n",
    "sns.distplot(b_metrices[:, 4], color='k', ax = axes[4])\n",
    "sns.distplot(e_metrices[:, 4], color='r', ax = axes[4])\n",
    "\n",
    "fig.show()"
   ]
  },
  {
   "cell_type": "code",
   "execution_count": null,
   "metadata": {},
   "outputs": [],
   "source": []
  }
 ],
 "metadata": {
  "hide_input": false,
  "kernelspec": {
   "display_name": "Python 3",
   "language": "python",
   "name": "python3"
  },
  "language_info": {
   "codemirror_mode": {
    "name": "ipython",
    "version": 3
   },
   "file_extension": ".py",
   "mimetype": "text/x-python",
   "name": "python",
   "nbconvert_exporter": "python",
   "pygments_lexer": "ipython3",
   "version": "3.5.2"
  },
  "toc": {
   "base_numbering": 1,
   "nav_menu": {},
   "number_sections": true,
   "sideBar": true,
   "skip_h1_title": false,
   "title_cell": "Table of Contents",
   "title_sidebar": "Contents",
   "toc_cell": false,
   "toc_position": {},
   "toc_section_display": true,
   "toc_window_display": false
  }
 },
 "nbformat": 4,
 "nbformat_minor": 2
}
