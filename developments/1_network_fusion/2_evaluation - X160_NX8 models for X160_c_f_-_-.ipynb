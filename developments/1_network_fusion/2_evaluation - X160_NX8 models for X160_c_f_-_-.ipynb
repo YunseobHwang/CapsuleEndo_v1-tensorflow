{
 "cells": [
  {
   "cell_type": "code",
   "execution_count": 1,
   "metadata": {
    "ExecuteTime": {
     "end_time": "2020-01-16T16:25:22.583293Z",
     "start_time": "2020-01-16T16:25:22.310513Z"
    }
   },
   "outputs": [
    {
     "name": "stdout",
     "output_type": "stream",
     "text": [
      "Fri Jan 17 01:25:22 2020       \n",
      "+-----------------------------------------------------------------------------+\n",
      "| NVIDIA-SMI 430.26       Driver Version: 430.26       CUDA Version: 10.2     |\n",
      "|-------------------------------+----------------------+----------------------+\n",
      "| GPU  Name        Persistence-M| Bus-Id        Disp.A | Volatile Uncorr. ECC |\n",
      "| Fan  Temp  Perf  Pwr:Usage/Cap|         Memory-Usage | GPU-Util  Compute M. |\n",
      "|===============================+======================+======================|\n",
      "|   0  GeForce RTX 208...  Off  | 00000000:1D:00.0 Off |                  N/A |\n",
      "| 27%   32C    P8    14W / 250W |     10MiB / 11019MiB |      0%      Default |\n",
      "+-------------------------------+----------------------+----------------------+\n",
      "|   1  GeForce RTX 208...  Off  | 00000000:1E:00.0 Off |                  N/A |\n",
      "| 27%   32C    P0    75W / 250W |     10MiB / 11019MiB |     46%      Default |\n",
      "+-------------------------------+----------------------+----------------------+\n",
      "|   2  GeForce RTX 208...  Off  | 00000000:1F:00.0 Off |                  N/A |\n",
      "| 35%   61C    P2   243W / 250W |  10925MiB / 11019MiB |     12%      Default |\n",
      "+-------------------------------+----------------------+----------------------+\n",
      "|   3  GeForce RTX 208...  Off  | 00000000:20:00.0 Off |                  N/A |\n",
      "| 35%   56C    P2    89W / 250W |  10925MiB / 11019MiB |     37%      Default |\n",
      "+-------------------------------+----------------------+----------------------+\n",
      "|   4  GeForce RTX 208...  Off  | 00000000:21:00.0 Off |                  N/A |\n",
      "| 27%   29C    P8    25W / 250W |  10665MiB / 11019MiB |      0%      Default |\n",
      "+-------------------------------+----------------------+----------------------+\n",
      "|   5  GeForce RTX 208...  Off  | 00000000:22:00.0 Off |                  N/A |\n",
      "| 37%   64C    P2   256W / 250W |  10925MiB / 11019MiB |     21%      Default |\n",
      "+-------------------------------+----------------------+----------------------+\n",
      "|   6  GeForce RTX 208...  Off  | 00000000:23:00.0 Off |                  N/A |\n",
      "| 27%   29C    P8    17W / 250W |    871MiB / 11019MiB |      0%      Default |\n",
      "+-------------------------------+----------------------+----------------------+\n",
      "|   7  GeForce RTX 208...  Off  | 00000000:24:00.0 Off |                  N/A |\n",
      "| 27%   29C    P8     1W / 250W |   2593MiB / 11019MiB |      0%      Default |\n",
      "+-------------------------------+----------------------+----------------------+\n",
      "                                                                               \n",
      "+-----------------------------------------------------------------------------+\n",
      "| Processes:                                                       GPU Memory |\n",
      "|  GPU       PID   Type   Process name                             Usage      |\n",
      "|=============================================================================|\n",
      "|    2     12996      C   /usr/bin/python3                           10915MiB |\n",
      "|    3     13017      C   /usr/bin/python3                           10915MiB |\n",
      "|    4      9736      C   /usr/bin/python3                           10655MiB |\n",
      "|    5     13011      C   /usr/bin/python3                           10915MiB |\n",
      "|    6     21200      C   /usr/bin/python3                             861MiB |\n",
      "|    7     20576      C   /usr/bin/python3                             861MiB |\n",
      "|    7     20836      C   /usr/bin/python3                             861MiB |\n",
      "|    7     21084      C   /usr/bin/python3                             861MiB |\n",
      "+-----------------------------------------------------------------------------+\n"
     ]
    }
   ],
   "source": [
    "!nvidia-smi"
   ]
  },
  {
   "cell_type": "code",
   "execution_count": 2,
   "metadata": {
    "ExecuteTime": {
     "end_time": "2020-01-16T16:25:24.678185Z",
     "start_time": "2020-01-16T16:25:22.588055Z"
    },
    "scrolled": true
   },
   "outputs": [
    {
     "name": "stderr",
     "output_type": "stream",
     "text": [
      "/usr/local/lib/python3.5/dist-packages/tensorflow/python/framework/dtypes.py:516: FutureWarning: Passing (type, 1) or '1type' as a synonym of type is deprecated; in a future version of numpy, it will be understood as (type, (1,)) / '(1,)type'.\n",
      "  _np_qint8 = np.dtype([(\"qint8\", np.int8, 1)])\n",
      "/usr/local/lib/python3.5/dist-packages/tensorflow/python/framework/dtypes.py:517: FutureWarning: Passing (type, 1) or '1type' as a synonym of type is deprecated; in a future version of numpy, it will be understood as (type, (1,)) / '(1,)type'.\n",
      "  _np_quint8 = np.dtype([(\"quint8\", np.uint8, 1)])\n",
      "/usr/local/lib/python3.5/dist-packages/tensorflow/python/framework/dtypes.py:518: FutureWarning: Passing (type, 1) or '1type' as a synonym of type is deprecated; in a future version of numpy, it will be understood as (type, (1,)) / '(1,)type'.\n",
      "  _np_qint16 = np.dtype([(\"qint16\", np.int16, 1)])\n",
      "/usr/local/lib/python3.5/dist-packages/tensorflow/python/framework/dtypes.py:519: FutureWarning: Passing (type, 1) or '1type' as a synonym of type is deprecated; in a future version of numpy, it will be understood as (type, (1,)) / '(1,)type'.\n",
      "  _np_quint16 = np.dtype([(\"quint16\", np.uint16, 1)])\n",
      "/usr/local/lib/python3.5/dist-packages/tensorflow/python/framework/dtypes.py:520: FutureWarning: Passing (type, 1) or '1type' as a synonym of type is deprecated; in a future version of numpy, it will be understood as (type, (1,)) / '(1,)type'.\n",
      "  _np_qint32 = np.dtype([(\"qint32\", np.int32, 1)])\n",
      "/usr/local/lib/python3.5/dist-packages/tensorflow/python/framework/dtypes.py:525: FutureWarning: Passing (type, 1) or '1type' as a synonym of type is deprecated; in a future version of numpy, it will be understood as (type, (1,)) / '(1,)type'.\n",
      "  np_resource = np.dtype([(\"resource\", np.ubyte, 1)])\n",
      "/usr/local/lib/python3.5/dist-packages/tensorboard/compat/tensorflow_stub/dtypes.py:541: FutureWarning: Passing (type, 1) or '1type' as a synonym of type is deprecated; in a future version of numpy, it will be understood as (type, (1,)) / '(1,)type'.\n",
      "  _np_qint8 = np.dtype([(\"qint8\", np.int8, 1)])\n",
      "/usr/local/lib/python3.5/dist-packages/tensorboard/compat/tensorflow_stub/dtypes.py:542: FutureWarning: Passing (type, 1) or '1type' as a synonym of type is deprecated; in a future version of numpy, it will be understood as (type, (1,)) / '(1,)type'.\n",
      "  _np_quint8 = np.dtype([(\"quint8\", np.uint8, 1)])\n",
      "/usr/local/lib/python3.5/dist-packages/tensorboard/compat/tensorflow_stub/dtypes.py:543: FutureWarning: Passing (type, 1) or '1type' as a synonym of type is deprecated; in a future version of numpy, it will be understood as (type, (1,)) / '(1,)type'.\n",
      "  _np_qint16 = np.dtype([(\"qint16\", np.int16, 1)])\n",
      "/usr/local/lib/python3.5/dist-packages/tensorboard/compat/tensorflow_stub/dtypes.py:544: FutureWarning: Passing (type, 1) or '1type' as a synonym of type is deprecated; in a future version of numpy, it will be understood as (type, (1,)) / '(1,)type'.\n",
      "  _np_quint16 = np.dtype([(\"quint16\", np.uint16, 1)])\n",
      "/usr/local/lib/python3.5/dist-packages/tensorboard/compat/tensorflow_stub/dtypes.py:545: FutureWarning: Passing (type, 1) or '1type' as a synonym of type is deprecated; in a future version of numpy, it will be understood as (type, (1,)) / '(1,)type'.\n",
      "  _np_qint32 = np.dtype([(\"qint32\", np.int32, 1)])\n",
      "/usr/local/lib/python3.5/dist-packages/tensorboard/compat/tensorflow_stub/dtypes.py:550: FutureWarning: Passing (type, 1) or '1type' as a synonym of type is deprecated; in a future version of numpy, it will be understood as (type, (1,)) / '(1,)type'.\n",
      "  np_resource = np.dtype([(\"resource\", np.ubyte, 1)])\n"
     ]
    }
   ],
   "source": [
    "import os\n",
    "os.environ[\"CUDA_DEVICE_ORDER\"]=\"PCI_BUS_ID\"\n",
    "os.environ[\"CUDA_VISIBLE_DEVICES\"]=\"1\"\n",
    "\n",
    "import numpy as np\n",
    "import matplotlib.pyplot as plt\n",
    "import cv2\n",
    "\n",
    "import sys\n",
    "sys.path.append('/mnt/disk1/project/SMhospital/capsule/ce_packages')\n",
    "\n",
    "from ce_utils import load_data, one_hot, test_batch_idxs, batch_flatten\n",
    "from ce_utils import model_prob\n",
    "from ce_utils import classification_metric\n",
    "from ce_model import binary_model, ensemble_model"
   ]
  },
  {
   "cell_type": "markdown",
   "metadata": {},
   "source": [
    "# Load Data"
   ]
  },
  {
   "cell_type": "code",
   "execution_count": 3,
   "metadata": {
    "ExecuteTime": {
     "end_time": "2020-01-16T16:25:24.699897Z",
     "start_time": "2020-01-16T16:25:24.681155Z"
    }
   },
   "outputs": [],
   "source": [
    "from itertools import product\n",
    "import glob\n",
    "\n",
    "def target_preprocessings(phase_a_switch = [1, 1, 1, 1], phase_b_switch = True):\n",
    "    \"\"\"\n",
    "    phase_a_switch = [1, 1, 1, 1], [1, 0, 0 ,1], [1, 1, 0, 1].... \n",
    "    that means [cropping, flip, rotate, blur_sharp]\n",
    "    \"\"\"\n",
    "    phase0 = ['_c']\n",
    "    phase1 = {1: ['-', 'f'], 0: ['-']}\n",
    "    phase2 = {1: ['-', 'r1', 'r2', 'r3'], 0: ['-']}\n",
    "    phase3 = {1: ['-', 'ab', 'mb', 'eh'], 0: ['-']}\n",
    "    phase4 = ['s_-30_v_30', 's_-30_v_-30', 's_30_v_-30', 's_30_v_30']\n",
    "    \n",
    "    if phase_a_switch[0] == 1:\n",
    "        phase_a_items = [phase0, phase1[phase_a_switch[1]], phase2[phase_a_switch[2]], phase3[phase_a_switch[3]]]\n",
    "    elif phase_a_switch[0] == 0:\n",
    "        phase_a_items = [phase1[phase_a_switch[1]], phase2[phase_a_switch[2]], phase3[phase_a_switch[3]]]\n",
    "    \n",
    "    phase_a = []\n",
    "    for i in list(product(*phase_a_items)):\n",
    "        phase_a.append('_'.join(i))\n",
    "\n",
    "    if not phase_b_switch != True:\n",
    "        phase_b = []\n",
    "        for i in list(product(*[phase_a, phase4])):\n",
    "            phase_b.append('_'.join(i))\n",
    "        return list(np.hstack([phase_a, phase_b]))\n",
    "    else:\n",
    "        return phase_a \n",
    "\n",
    "class ce_load_dataset:\n",
    "    def __init__(self, phase, data, pre_a, pre_b, img_ch, ext_name):\n",
    "        self.phase = phase        # 'train' or 'test'\n",
    "        self.data = data          # 'sm', 'sm_core', 'sm_v2', 'sm_x160', ...\n",
    "        self.pre_a = pre_a        # [1, 1, 1, 1], [1, 0, 0 ,1], [1, 1, 0, 1].... \n",
    "        self.pre_b = pre_b        # True or False\n",
    "        self.img_ch = img_ch      # 'bgr', 'rgb', and 'hsv'\n",
    "        self.ext_name = ext_name  # True or False\n",
    "\n",
    "    def load_path(self, phase, cls, les, data = 'sm', data_dir = '/mnt/disk2/data/private_data/SMhospital/capsule/1 preprocessed', \n",
    "                  pre_a = [0, 0, 0, 0], pre_b = False):\n",
    "        \"\"\"\n",
    "        phase = 'train', 'test'\n",
    "        cls: [les]  \n",
    "          'n': ['neg']\n",
    "          'h': ['redspot', 'angio', 'active'], \n",
    "          'd': ['ero', 'ulc', 'str'],\n",
    "          'p': ['amp', 'lym', 'tum']}\n",
    "        pre_a[0] must be 0\n",
    "        \"\"\"\n",
    "        lesions = dict(neg = 'negative', \n",
    "                       redspot = 'red_spot', angio = 'angioectasia', active = 'active_bleeding', \n",
    "                       ero = 'erosion', ulcer = 'ulcer', str = 'stricture', \n",
    "                       amp = 'ampulla_of_vater', lym = 'lymphoid_follicles', tum = 'small_bowel_tumor')\n",
    "        classes = dict(n = 'negative', h = 'hemorrhagic', d = 'depressed', p = 'protruded')\n",
    "\n",
    "        path = os.path.join(data_dir, data, phase, classes[cls], lesions[les])\n",
    "        pathlist = glob.glob(path + '/*.jpg')\n",
    "        if pre_a != [1, 1, 1, 1]:\n",
    "            path_in_phase = []\n",
    "            for p in pathlist:\n",
    "                if (p.split('c_')[-1])[:-4] in target_preprocessings(pre_a, pre_b):\n",
    "                    path_in_phase.append(p)   \n",
    "            return np.asarray(path_in_phase)\n",
    "        else:\n",
    "            return np.asarray(pathlist)\n",
    "\n",
    "    def load_image_from_path(self, pathlist,image_ch = 'bgr', extract_name = False):\n",
    "        data = []\n",
    "        for i in pathlist:\n",
    "            temp = cv2.imread(i)\n",
    "            if image_ch == 'bgr':\n",
    "                pass\n",
    "            elif image_ch == 'rgb':\n",
    "                temp = cv2.cvtColor(temp, cv2.COLOR_BGR2RGB)\n",
    "            elif image_ch == 'hsv':\n",
    "                temp = cv2.cvtColor(temp, cv2.COLOR_BGR2HSV)\n",
    "            data.append(temp)\n",
    "        if extract_name != False:\n",
    "            name = []\n",
    "            for i in pathlist:\n",
    "                name.append(os.path.basename(i))\n",
    "            return np.asarray(data), np.asarray(name)\n",
    "        else:\n",
    "            return np.asarray(data) \n",
    "\n",
    "    def load_data(self, cls, les):\n",
    "        pathlist = self.load_path(self.phase,  cls, les,  data = self.data, pre_a = self.pre_a, pre_b = self.pre_b)\n",
    "        return  self.load_image_from_path(pathlist, image_ch = self.img_ch, extract_name = self.ext_name)"
   ]
  },
  {
   "cell_type": "code",
   "execution_count": 4,
   "metadata": {
    "ExecuteTime": {
     "end_time": "2020-01-16T16:25:24.705822Z",
     "start_time": "2020-01-16T16:25:24.702403Z"
    }
   },
   "outputs": [],
   "source": [
    "ce = ce_load_dataset(phase = 'test', data = 'sm_x160', pre_a = [0, 1, 0, 0], pre_b = False, img_ch = 'bgr', ext_name = True)"
   ]
  },
  {
   "cell_type": "code",
   "execution_count": 5,
   "metadata": {
    "ExecuteTime": {
     "end_time": "2020-01-16T16:25:36.349304Z",
     "start_time": "2020-01-16T16:25:24.707921Z"
    }
   },
   "outputs": [
    {
     "name": "stdout",
     "output_type": "stream",
     "text": [
      "negative: (2898, 512, 512, 3) (2898, 2)\n",
      "red spot: (228, 512, 512, 3) (228, 2)\n",
      "angioectasia: (6, 512, 512, 3) (6, 2)\n",
      "active_bleeding: (244, 512, 512, 3) (244, 2)\n",
      "erosion: (242, 512, 512, 3) (242, 2)\n",
      "ulcer: (282, 512, 512, 3) (282, 2)\n",
      "stricture: (62, 512, 512, 3) (62, 2)\n"
     ]
    }
   ],
   "source": [
    "neg_testset = ce.load_data('n', 'neg')\n",
    "redspot_testset = ce.load_data('h', 'redspot')\n",
    "angio_testset = ce.load_data('h', 'angio')\n",
    "active_testset = ce.load_data('h', 'active')\n",
    "ero_testset = ce.load_data('d', 'ero')\n",
    "ulcer_testset = ce.load_data('d', 'ulcer')\n",
    "str_testset = ce.load_data('d', 'str')\n",
    "\n",
    "neg_label = one_hot(neg_testset[0], 0)\n",
    "redspot_label = one_hot(redspot_testset[0], 1)\n",
    "angio_label = one_hot(angio_testset[0], 1)\n",
    "active_label = one_hot(active_testset[0], 1)\n",
    "ero_label = one_hot(ero_testset[0], 1)\n",
    "ulcer_label = one_hot(ulcer_testset[0], 1)\n",
    "str_label = one_hot(str_testset[0], 1)\n",
    "\n",
    "print(\"negative:\",neg_testset[0].shape, neg_label.shape)\n",
    "print(\"red spot:\",redspot_testset[0].shape, redspot_label.shape)\n",
    "print(\"angioectasia:\",angio_testset[0].shape, angio_label.shape)\n",
    "print(\"active_bleeding:\",active_testset[0].shape, active_label.shape)\n",
    "print(\"erosion:\",ero_testset[0].shape, ero_label.shape)\n",
    "print(\"ulcer:\",ulcer_testset[0].shape, ulcer_label.shape)\n",
    "print(\"stricture:\",str_testset[0].shape, str_label.shape)"
   ]
  },
  {
   "cell_type": "code",
   "execution_count": 6,
   "metadata": {
    "ExecuteTime": {
     "end_time": "2020-01-16T16:25:36.357890Z",
     "start_time": "2020-01-16T16:25:36.351617Z"
    }
   },
   "outputs": [
    {
     "data": {
      "text/plain": [
       "array(['CW___02-49-14___1020312__c_-_-_-.jpg',\n",
       "       'CW___02-49-14___1020312__c_f_-_-.jpg',\n",
       "       'AJ___02-07-37___1015318__c_-_-_-.jpg', ...,\n",
       "       '희정___05-19-44___2053248__c_f_-_-.jpg',\n",
       "       '희정___05-21-26___2053556__c_-_-_-.jpg',\n",
       "       '희정___05-21-26___2053556__c_f_-_-.jpg'], dtype='<U36')"
      ]
     },
     "execution_count": 6,
     "metadata": {},
     "output_type": "execute_result"
    }
   ],
   "source": [
    "neg_testset[1]"
   ]
  },
  {
   "cell_type": "markdown",
   "metadata": {},
   "source": [
    "# Model Inference"
   ]
  },
  {
   "cell_type": "code",
   "execution_count": 7,
   "metadata": {
    "ExecuteTime": {
     "end_time": "2020-01-16T16:25:36.366823Z",
     "start_time": "2020-01-16T16:25:36.360031Z"
    }
   },
   "outputs": [],
   "source": [
    "nh_list = sorted([i[:-5] for i in os.listdir('./model') if 'meta' in i and 'X160_NX8H' in i])\n",
    "nd_list = sorted([i[:-5] for i in os.listdir('./model') if 'meta' in i and 'X160_NX8D' in i])\n",
    "b_list = sorted([i[:-5] for i in os.listdir('./model') if 'meta' in i and 'X160_NX8A' in i])"
   ]
  },
  {
   "cell_type": "code",
   "execution_count": 8,
   "metadata": {
    "ExecuteTime": {
     "end_time": "2020-01-16T16:25:36.374180Z",
     "start_time": "2020-01-16T16:25:36.370079Z"
    }
   },
   "outputs": [
    {
     "data": {
      "text/plain": [
       "['X160_NX8H_2001161706_1780_val_acc_1.00_val_loss_0.000070',\n",
       " 'X160_NX8H_2001161804_4660_val_acc_1.00_val_loss_0.000001',\n",
       " 'X160_NX8H_2001161845_6680_val_acc_1.00_val_loss_0.000000',\n",
       " 'X160_NX8H_2001162013_11010_val_acc_1.00_val_loss_0.000000',\n",
       " 'X160_NX8H_2001162030_11850_val_acc_1.00_val_loss_0.000000']"
      ]
     },
     "execution_count": 8,
     "metadata": {},
     "output_type": "execute_result"
    }
   ],
   "source": [
    "nh_list"
   ]
  },
  {
   "cell_type": "code",
   "execution_count": 9,
   "metadata": {
    "ExecuteTime": {
     "end_time": "2020-01-16T16:25:36.380425Z",
     "start_time": "2020-01-16T16:25:36.376545Z"
    },
    "scrolled": false
   },
   "outputs": [
    {
     "data": {
      "text/plain": [
       "['X160_NX8D_2001170008_24560_val_acc_1.00_val_loss_0.000036',\n",
       " 'X160_NX8D_2001170023_25390_val_acc_1.00_val_loss_0.000033',\n",
       " 'X160_NX8D_2001170057_27260_val_acc_1.00_val_loss_0.000031',\n",
       " 'X160_NX8D_2001170103_27580_val_acc_1.00_val_loss_0.000020',\n",
       " 'X160_NX8D_2001170116_28280_val_acc_1.00_val_loss_0.000005']"
      ]
     },
     "execution_count": 9,
     "metadata": {},
     "output_type": "execute_result"
    }
   ],
   "source": [
    "nd_list"
   ]
  },
  {
   "cell_type": "code",
   "execution_count": 10,
   "metadata": {
    "ExecuteTime": {
     "end_time": "2020-01-16T16:25:36.386592Z",
     "start_time": "2020-01-16T16:25:36.382498Z"
    }
   },
   "outputs": [
    {
     "data": {
      "text/plain": [
       "['X160_NX8A_2001162314_21730_val_acc_1.00_val_loss_0.000762',\n",
       " 'X160_NX8A_2001162351_23750_val_acc_1.00_val_loss_0.000651',\n",
       " 'X160_NX8A_2001162353_23870_val_acc_1.00_val_loss_0.000588',\n",
       " 'X160_NX8A_2001170032_26000_val_acc_1.00_val_loss_0.000514',\n",
       " 'X160_NX8A_2001170050_27000_val_acc_1.00_val_loss_0.000312']"
      ]
     },
     "execution_count": 10,
     "metadata": {},
     "output_type": "execute_result"
    }
   ],
   "source": [
    "b_list"
   ]
  },
  {
   "cell_type": "code",
   "execution_count": 11,
   "metadata": {
    "ExecuteTime": {
     "end_time": "2020-01-16T16:25:39.823134Z",
     "start_time": "2020-01-16T16:25:36.388605Z"
    }
   },
   "outputs": [
    {
     "name": "stderr",
     "output_type": "stream",
     "text": [
      "WARNING: Logging before flag parsing goes to stderr.\n",
      "W0117 01:25:36.407685 140362347124480 deprecation_wrapper.py:119] From /mnt/disk1/project/SMhospital/capsule/ce_packages/ce_model.py:108: The name tf.Session is deprecated. Please use tf.compat.v1.Session instead.\n",
      "\n",
      "W0117 01:25:36.702427 140362347124480 deprecation_wrapper.py:119] From /mnt/disk1/project/SMhospital/capsule/ce_packages/ce_model.py:109: The name tf.train.import_meta_graph is deprecated. Please use tf.compat.v1.train.import_meta_graph instead.\n",
      "\n",
      "W0117 01:25:37.036839 140362347124480 deprecation.py:323] From /usr/local/lib/python3.5/dist-packages/tensorflow/python/training/saver.py:1276: checkpoint_exists (from tensorflow.python.training.checkpoint_management) is deprecated and will be removed in a future version.\n",
      "Instructions for updating:\n",
      "Use standard file APIs to check for files with this prefix.\n"
     ]
    }
   ],
   "source": [
    "nh_path = './model/' + nh_list[-1]\n",
    "nd_path = './model/' + nd_list[-1]\n",
    "b_path = './model/' + b_list[-1]\n",
    "\n",
    "NH_model = binary_model(nh_path)\n",
    "ND_model = binary_model(nd_path)\n",
    "E_model = ensemble_model(nh_path, nd_path)\n",
    "B_model = binary_model(b_path)"
   ]
  },
  {
   "cell_type": "code",
   "execution_count": 12,
   "metadata": {
    "ExecuteTime": {
     "end_time": "2020-01-16T16:26:30.170135Z",
     "start_time": "2020-01-16T16:25:39.832247Z"
    }
   },
   "outputs": [
    {
     "name": "stdout",
     "output_type": "stream",
     "text": [
      "#: 2898 / Inference Time: 00:00:33\n",
      "#: 228 / Inference Time: 00:00:03\n",
      "#: 6 / Inference Time: 00:00:00\n",
      "#: 244 / Inference Time: 00:00:03\n",
      "#: 242 / Inference Time: 00:00:03\n",
      "#: 282 / Inference Time: 00:00:03\n",
      "#: 62 / Inference Time: 00:00:01\n"
     ]
    }
   ],
   "source": [
    "neg_e_output, neg_nh_output, neg_nd_output = model_prob(E_model, neg_testset[0], model_type = 'ensemble')\n",
    "redspot_e_output, redspot_nh_output, redspot_nd_output = model_prob(E_model, redspot_testset[0], model_type = 'ensemble')\n",
    "angio_e_output, angio_nh_output, angio_nd_output = model_prob(E_model, angio_testset[0], model_type = 'ensemble')\n",
    "active_e_output, active_nh_output, active_nd_output = model_prob(E_model, active_testset[0], model_type = 'ensemble')\n",
    "ero_e_output, ero_nh_output, ero_nd_output = model_prob(E_model, ero_testset[0], model_type = 'ensemble')\n",
    "ulcer_e_output, ulcer_nh_output, ulcer_nd_output = model_prob(E_model, ulcer_testset[0], model_type = 'ensemble')\n",
    "str_e_output, str_nh_output, str_nd_output  = model_prob(E_model, str_testset[0], model_type = 'ensemble')"
   ]
  },
  {
   "cell_type": "code",
   "execution_count": 13,
   "metadata": {
    "ExecuteTime": {
     "end_time": "2020-01-16T16:26:51.239296Z",
     "start_time": "2020-01-16T16:26:30.174027Z"
    }
   },
   "outputs": [
    {
     "name": "stdout",
     "output_type": "stream",
     "text": [
      "#: 2898 / Inference Time: 00:00:15\n",
      "#: 228 / Inference Time: 00:00:01\n",
      "#: 6 / Inference Time: 00:00:00\n",
      "#: 244 / Inference Time: 00:00:01\n",
      "#: 242 / Inference Time: 00:00:01\n",
      "#: 282 / Inference Time: 00:00:01\n",
      "#: 62 / Inference Time: 00:00:00\n"
     ]
    }
   ],
   "source": [
    "neg_b_output = model_prob(B_model, neg_testset[0])\n",
    "redspot_b_output = model_prob(B_model, redspot_testset[0])\n",
    "angio_b_output = model_prob(B_model, angio_testset[0])\n",
    "active_b_output = model_prob(B_model, active_testset[0])\n",
    "ero_b_output = model_prob(B_model, ero_testset[0])\n",
    "ulcer_b_output = model_prob(B_model, ulcer_testset[0])\n",
    "str_b_output  = model_prob(B_model, str_testset[0])"
   ]
  },
  {
   "cell_type": "code",
   "execution_count": 14,
   "metadata": {
    "ExecuteTime": {
     "end_time": "2020-01-16T16:26:51.249014Z",
     "start_time": "2020-01-16T16:26:51.241906Z"
    }
   },
   "outputs": [],
   "source": [
    "h_label = np.vstack([redspot_label, angio_label, active_label])\n",
    "d_label = np.vstack([ero_label, ulcer_label, str_label])\n",
    "labels = np.vstack([neg_label, h_label, d_label])\n",
    "\n",
    "h_b_output = np.vstack([redspot_b_output, angio_b_output, active_b_output])\n",
    "d_b_output = np.vstack([ero_b_output, ulcer_b_output, str_b_output])\n",
    "b_outputs = np.vstack([neg_e_output, h_b_output, d_b_output])\n",
    "\n",
    "h_e_output = np.vstack([redspot_e_output, angio_e_output, active_e_output])\n",
    "d_e_output = np.vstack([ero_e_output, ulcer_e_output, str_e_output])\n",
    "e_outputs = np.vstack([neg_e_output, h_e_output, d_e_output])"
   ]
  },
  {
   "cell_type": "markdown",
   "metadata": {},
   "source": [
    "# Evaluation"
   ]
  },
  {
   "cell_type": "code",
   "execution_count": 15,
   "metadata": {
    "ExecuteTime": {
     "end_time": "2020-01-16T16:26:51.254633Z",
     "start_time": "2020-01-16T16:26:51.251680Z"
    }
   },
   "outputs": [],
   "source": [
    "cls = classification_metric()"
   ]
  },
  {
   "cell_type": "markdown",
   "metadata": {},
   "source": [
    "## Accuracy per lesion"
   ]
  },
  {
   "cell_type": "code",
   "execution_count": 16,
   "metadata": {
    "ExecuteTime": {
     "end_time": "2020-01-16T16:26:51.262620Z",
     "start_time": "2020-01-16T16:26:51.256790Z"
    }
   },
   "outputs": [
    {
     "name": "stdout",
     "output_type": "stream",
     "text": [
      "Accuracy: 97.69 %\n",
      "Accuracy: 39.47 %\n",
      "Accuracy: 100.00 %\n",
      "Accuracy: 38.93 %\n"
     ]
    }
   ],
   "source": [
    "neg_nh_acc = cls.accuracy(neg_label, neg_nh_output)\n",
    "redspot_nh_acc = cls.accuracy(redspot_label, redspot_nh_output)\n",
    "angio_nh_acc = cls.accuracy(angio_label, angio_nh_output)\n",
    "active_nh_acc = cls.accuracy(active_label, active_nh_output)"
   ]
  },
  {
   "cell_type": "code",
   "execution_count": 17,
   "metadata": {
    "ExecuteTime": {
     "end_time": "2020-01-16T16:26:51.269829Z",
     "start_time": "2020-01-16T16:26:51.264486Z"
    }
   },
   "outputs": [
    {
     "name": "stdout",
     "output_type": "stream",
     "text": [
      "Accuracy: 98.62 %\n",
      "Accuracy: 75.21 %\n",
      "Accuracy: 50.35 %\n",
      "Accuracy: 91.94 %\n"
     ]
    }
   ],
   "source": [
    "neg_nd_acc = cls.accuracy(neg_label, neg_nd_output)\n",
    "ero_nd_acc = cls.accuracy(ero_label, ero_nd_output)\n",
    "ulcer_nd_acc = cls.accuracy(ulcer_label, ulcer_nd_output)\n",
    "str_nd_acc = cls.accuracy(str_label, str_nd_output)"
   ]
  },
  {
   "cell_type": "code",
   "execution_count": 18,
   "metadata": {
    "ExecuteTime": {
     "end_time": "2020-01-16T16:26:51.279561Z",
     "start_time": "2020-01-16T16:26:51.271946Z"
    }
   },
   "outputs": [
    {
     "name": "stdout",
     "output_type": "stream",
     "text": [
      "Accuracy: 97.03 %\n",
      "Accuracy: 71.93 %\n",
      "Accuracy: 100.00 %\n",
      "Accuracy: 95.49 %\n",
      "Accuracy: 83.88 %\n",
      "Accuracy: 57.09 %\n",
      "Accuracy: 93.55 %\n"
     ]
    }
   ],
   "source": [
    "neg_b_acc = cls.accuracy(neg_label, neg_b_output)\n",
    "redspot_b_acc = cls.accuracy(redspot_label, redspot_b_output)\n",
    "angio_b_acc = cls.accuracy(angio_label, angio_b_output)\n",
    "active_b_acc = cls.accuracy(active_label, active_b_output)\n",
    "ero_b_acc = cls.accuracy(ero_label, ero_b_output)\n",
    "ulcer_b_acc = cls.accuracy(ulcer_label, ulcer_b_output)\n",
    "str_b_acc = cls.accuracy(str_label, str_b_output)"
   ]
  },
  {
   "cell_type": "code",
   "execution_count": 19,
   "metadata": {
    "ExecuteTime": {
     "end_time": "2020-01-16T16:26:51.286602Z",
     "start_time": "2020-01-16T16:26:51.281877Z"
    }
   },
   "outputs": [
    {
     "name": "stdout",
     "output_type": "stream",
     "text": [
      "Accuracy: 84.31 %\n",
      "Accuracy: 72.01 %\n"
     ]
    }
   ],
   "source": [
    "h_b_acc = cls.accuracy(h_label, h_b_output)\n",
    "d_b_acc = cls.accuracy(d_label, d_b_output)"
   ]
  },
  {
   "cell_type": "code",
   "execution_count": 20,
   "metadata": {
    "ExecuteTime": {
     "end_time": "2020-01-16T16:26:51.297724Z",
     "start_time": "2020-01-16T16:26:51.289129Z"
    }
   },
   "outputs": [
    {
     "name": "stdout",
     "output_type": "stream",
     "text": [
      "Accuracy: 96.83 %\n",
      "Accuracy: 67.98 %\n",
      "Accuracy: 100.00 %\n",
      "Accuracy: 88.11 %\n",
      "Accuracy: 75.62 %\n",
      "Accuracy: 59.22 %\n",
      "Accuracy: 93.55 %\n"
     ]
    }
   ],
   "source": [
    "neg_e_acc = cls.accuracy(neg_label, neg_e_output)\n",
    "redspot_e_acc = cls.accuracy(redspot_label, redspot_e_output)\n",
    "angio_e_acc = cls.accuracy(angio_label, angio_e_output)\n",
    "active_e_acc = cls.accuracy(active_label, active_e_output)\n",
    "ero_e_acc = cls.accuracy(ero_label, ero_e_output)\n",
    "ulcer_e_acc = cls.accuracy(ulcer_label, ulcer_e_output)\n",
    "str_e_acc = cls.accuracy(str_label, str_e_output)"
   ]
  },
  {
   "cell_type": "code",
   "execution_count": 21,
   "metadata": {
    "ExecuteTime": {
     "end_time": "2020-01-16T16:26:51.305492Z",
     "start_time": "2020-01-16T16:26:51.300260Z"
    }
   },
   "outputs": [
    {
     "name": "stdout",
     "output_type": "stream",
     "text": [
      "Accuracy: 78.66 %\n",
      "Accuracy: 69.62 %\n"
     ]
    }
   ],
   "source": [
    "h_e_acc = cls.accuracy(h_label, h_e_output)\n",
    "d_e_acc = cls.accuracy(d_label, d_e_output)"
   ]
  },
  {
   "cell_type": "markdown",
   "metadata": {},
   "source": [
    "## Confusion Matrix"
   ]
  },
  {
   "cell_type": "code",
   "execution_count": 22,
   "metadata": {
    "ExecuteTime": {
     "end_time": "2020-01-16T16:26:51.682123Z",
     "start_time": "2020-01-16T16:26:51.308052Z"
    }
   },
   "outputs": [
    {
     "data": {
      "image/png": "[encoded data removed]",
      "text/plain": [
       "<Figure size 1152x576 with 2 Axes>"
      ]
     },
     "metadata": {
      "needs_background": "light"
     },
     "output_type": "display_data"
    }
   ],
   "source": [
    "nh_outputs = np.vstack([neg_nh_output, redspot_nh_output, angio_nh_output, active_nh_output])\n",
    "nh_labels = np.vstack([neg_label, redspot_label, angio_label, active_label])\n",
    "\n",
    "nh_CM = cls.con_mat(nh_labels, nh_outputs)\n",
    "\n",
    "plt.figure(figsize=(16, 8))\n",
    "plt.subplot(121)\n",
    "cls.plot_cm(nh_CM, value_size = 25, label_size = 20)\n",
    "plt.subplot(122)\n",
    "cls.plot_cm(nh_CM, value_size = 25, label_size = 20, mode = 'num')\n",
    "plt.show()"
   ]
  },
  {
   "cell_type": "code",
   "execution_count": 23,
   "metadata": {
    "ExecuteTime": {
     "end_time": "2020-01-16T16:26:51.961591Z",
     "start_time": "2020-01-16T16:26:51.685944Z"
    }
   },
   "outputs": [
    {
     "data": {
      "image/png": "[encoded data removed]",
      "text/plain": [
       "<Figure size 1152x576 with 2 Axes>"
      ]
     },
     "metadata": {
      "needs_background": "light"
     },
     "output_type": "display_data"
    }
   ],
   "source": [
    "nd_outputs = np.vstack([neg_nd_output, ero_nd_output, ulcer_nd_output, str_nd_output])\n",
    "nd_labels = np.vstack([neg_label, ero_label, ulcer_label, str_label])\n",
    "\n",
    "nd_CM = cls.con_mat(nd_labels, nd_outputs)\n",
    "\n",
    "plt.figure(figsize=(16, 8))\n",
    "plt.subplot(121)\n",
    "cls.plot_cm(nd_CM, value_size = 25, label_size = 20)\n",
    "plt.subplot(122)\n",
    "cls.plot_cm(nd_CM, value_size = 25, label_size = 20, mode = 'num')\n",
    "plt.show()"
   ]
  },
  {
   "cell_type": "code",
   "execution_count": 24,
   "metadata": {
    "ExecuteTime": {
     "end_time": "2020-01-16T16:26:52.244737Z",
     "start_time": "2020-01-16T16:26:51.963717Z"
    }
   },
   "outputs": [
    {
     "data": {
      "image/png": "[encoded data removed]",
      "text/plain": [
       "<Figure size 1152x576 with 2 Axes>"
      ]
     },
     "metadata": {
      "needs_background": "light"
     },
     "output_type": "display_data"
    }
   ],
   "source": [
    "e_CM = cls.con_mat(labels, e_outputs)\n",
    "\n",
    "plt.figure(figsize=(16, 8))\n",
    "plt.subplot(121)\n",
    "cls.plot_cm(e_CM, value_size = 25, label_size = 20)\n",
    "plt.subplot(122)\n",
    "cls.plot_cm(e_CM, value_size = 25, label_size = 20, mode = 'num')\n",
    "plt.show()"
   ]
  },
  {
   "cell_type": "code",
   "execution_count": 25,
   "metadata": {
    "ExecuteTime": {
     "end_time": "2020-01-16T16:26:52.518561Z",
     "start_time": "2020-01-16T16:26:52.246920Z"
    }
   },
   "outputs": [
    {
     "data": {
      "image/png": "[encoded data removed]",
      "text/plain": [
       "<Figure size 1152x576 with 2 Axes>"
      ]
     },
     "metadata": {
      "needs_background": "light"
     },
     "output_type": "display_data"
    }
   ],
   "source": [
    "b_CM = cls.con_mat(labels, b_outputs)\n",
    "\n",
    "plt.figure(figsize=(16, 8))\n",
    "plt.subplot(121)\n",
    "cls.plot_cm(b_CM, value_size = 25, label_size = 20)\n",
    "plt.grid(False)\n",
    "plt.subplot(122)\n",
    "cls.plot_cm(b_CM, value_size = 25, label_size = 20, mode = 'num')\n",
    "plt.grid(False)\n",
    "plt.show()"
   ]
  },
  {
   "cell_type": "markdown",
   "metadata": {},
   "source": [
    "## ROC curve"
   ]
  },
  {
   "cell_type": "code",
   "execution_count": 26,
   "metadata": {
    "ExecuteTime": {
     "end_time": "2020-01-16T16:26:52.526150Z",
     "start_time": "2020-01-16T16:26:52.520655Z"
    }
   },
   "outputs": [],
   "source": [
    "from scipy.stats import sem, t\n",
    "from scipy import mean\n",
    "\n",
    "def conf_interval(data, conf_level = 0.95, mode = 'value', metric = 'Accr'):\n",
    "    n = len(data)\n",
    "    m = mean(data)\n",
    "    std_err = sem(data)\n",
    "    h = std_err * t.ppf((1 + conf_level) / 2, n - 1)\n",
    "\n",
    "    start = m - h\n",
    "    end = m + h\n",
    "    \n",
    "    if mode == 'value':\n",
    "        return m, start, end\n",
    "    elif mode == 'print':\n",
    "        return print(\"{} --- {:.2f} ({:.2f} ~ {:.2f})\".format(metric, m, start, end))"
   ]
  },
  {
   "cell_type": "code",
   "execution_count": 27,
   "metadata": {
    "ExecuteTime": {
     "end_time": "2020-01-16T16:26:52.537004Z",
     "start_time": "2020-01-16T16:26:52.528235Z"
    }
   },
   "outputs": [],
   "source": [
    "from sklearn.model_selection import KFold\n",
    "\n",
    "def k_fold_idx(n_fold, dataset):\n",
    "    kf = KFold(n_splits = n_fold, shuffle = True)\n",
    "    train_idxs = []\n",
    "    test_idxs = []\n",
    "    for train_idx, test_idx in kf.split(dataset):\n",
    "        train_idxs.append(train_idx)\n",
    "        test_idxs.append(test_idx)\n",
    "    return train_idxs, test_idxs"
   ]
  },
  {
   "cell_type": "code",
   "execution_count": 28,
   "metadata": {
    "ExecuteTime": {
     "end_time": "2020-01-16T16:26:52.544467Z",
     "start_time": "2020-01-16T16:26:52.538926Z"
    }
   },
   "outputs": [],
   "source": [
    "n_g = 10\n",
    "\n",
    "_, neg_idxs = k_fold_idx(n_fold = n_g, dataset = neg_label)\n",
    "_, h_idxs = k_fold_idx(n_fold = n_g, dataset = h_label)\n",
    "_, d_idxs = k_fold_idx(n_fold = n_g, dataset = d_label)"
   ]
  },
  {
   "cell_type": "code",
   "execution_count": null,
   "metadata": {
    "ExecuteTime": {
     "end_time": "2020-01-16T15:53:31.762463Z",
     "start_time": "2020-01-16T15:53:31.754710Z"
    }
   },
   "outputs": [],
   "source": []
  },
  {
   "cell_type": "code",
   "execution_count": 29,
   "metadata": {
    "ExecuteTime": {
     "end_time": "2020-01-16T16:26:52.549649Z",
     "start_time": "2020-01-16T16:26:52.546210Z"
    }
   },
   "outputs": [],
   "source": [
    "def tri_shuffle(x, y, z):\n",
    "    rand_idx = np.random.choice(len(x), len(x), replace = False)\n",
    "    return x[rand_idx], y[rand_idx], z[rand_idx]"
   ]
  },
  {
   "cell_type": "code",
   "execution_count": 30,
   "metadata": {
    "ExecuteTime": {
     "end_time": "2020-01-16T16:26:52.555114Z",
     "start_time": "2020-01-16T16:26:52.551272Z"
    }
   },
   "outputs": [],
   "source": [
    "h_label, h_b_output, h_e_output = tri_shuffle(h_label, h_b_output, h_e_output)\n",
    "d_label, d_b_output, d_e_output = tri_shuffle(d_label, d_b_output, d_e_output)"
   ]
  },
  {
   "cell_type": "code",
   "execution_count": 31,
   "metadata": {
    "ExecuteTime": {
     "end_time": "2020-01-16T16:26:53.225613Z",
     "start_time": "2020-01-16T16:26:52.556924Z"
    },
    "scrolled": false
   },
   "outputs": [
    {
     "name": "stderr",
     "output_type": "stream",
     "text": [
      "/usr/local/lib/python3.5/dist-packages/matplotlib/cbook/__init__.py:424: MatplotlibDeprecationWarning: \n",
      "Passing one of 'on', 'true', 'off', 'false' as a boolean is deprecated; use an actual boolean (True/False) instead.\n",
      "  warn_deprecated(\"2.2\", \"Passing one of 'on', 'true', 'off', 'false' as a \"\n"
     ]
    },
    {
     "data": {
      "image/png": "[encoded data removed]",
      "text/plain": [
       "<Figure size 720x576 with 1 Axes>"
      ]
     },
     "metadata": {
      "needs_background": "light"
     },
     "output_type": "display_data"
    },
    {
     "data": {
      "image/png": "[encoded data removed]",
      "text/plain": [
       "<Figure size 720x576 with 1 Axes>"
      ]
     },
     "metadata": {
      "needs_background": "light"
     },
     "output_type": "display_data"
    }
   ],
   "source": [
    "from sklearn.metrics import roc_curve, auc\n",
    "\n",
    "e_aucs, b_aucs = [], []\n",
    "\n",
    "for n_idx, h_idx, d_idx in zip(neg_idxs, h_idxs, d_idxs):\n",
    "\n",
    "    labels = np.vstack([neg_label[n_idx], h_label[h_idx], d_label[d_idx]])\n",
    "    b_outputs = np.vstack([neg_b_output[n_idx], h_b_output[h_idx], d_b_output[d_idx]]) \n",
    "    e_outputs = np.vstack([neg_e_output[n_idx], h_e_output[h_idx], d_e_output[d_idx]]) \n",
    "    \n",
    "    e_fpr, e_tpr, thresholds = roc_curve(labels[:, 1], e_outputs[:,1])\n",
    "    b_fpr, b_tpr, thresholds = roc_curve(labels[:, 1], b_outputs[:,1])\n",
    "    e_aucs.append(auc(e_fpr, e_tpr))\n",
    "    b_aucs.append(auc(b_fpr, b_tpr))\n",
    "\n",
    "e_auc_m, e_auc_l, e_auc_u = conf_interval(e_aucs, mode = 'value')\n",
    "b_auc_m, b_auc_l, b_auc_u = conf_interval(b_aucs, mode = 'value')\n",
    "\n",
    "labels = np.vstack([neg_label, h_label, d_label])\n",
    "b_outputs = np.vstack([neg_b_output, h_b_output, d_b_output])\n",
    "e_outputs = np.vstack([neg_e_output, h_e_output, d_e_output])\n",
    "\n",
    "labels, b_outputs, e_outputs = tri_shuffle(labels, b_outputs, e_outputs)\n",
    "\n",
    "e_fpr, e_tpr, thresholds = roc_curve(labels[:, 1], e_outputs[:,1])\n",
    "b_fpr, b_tpr, thresholds = roc_curve(labels[:, 1], b_outputs[:,1])\n",
    "\n",
    "fig = plt.figure(figsize=(10, 8))\n",
    "plt.plot(e_fpr, e_tpr, 'r-', label=\"Ensemble model, AUC: {:.4f} ({:.4f}~{:.4f}), 95 % CI\".format(e_auc_m, e_auc_l, e_auc_u))\n",
    "plt.plot(b_fpr, b_tpr, 'k-', label=\"Binary model, AUC: {:.4f} ({:.4f}~{:.4f}), 95 % CI\".format(b_auc_m, b_auc_l, b_auc_u))\n",
    "plt.xlabel('1 - Specificity', fontsize = 15)\n",
    "plt.ylabel('Sensitivity', fontsize = 15)\n",
    "plt.legend(fontsize = 12)\n",
    "plt.grid('on')\n",
    "fig.show()\n",
    "\n",
    "fig = plt.figure(figsize=(10, 8))\n",
    "plt.plot(e_fpr, e_tpr, 'r-', label=\"Ensemble model\")\n",
    "plt.plot(b_fpr, b_tpr, 'k-', label=\"Binary model\")\n",
    "plt.xlim([0.0, 0.1])\n",
    "plt.ylim([0.9, 1.0])\n",
    "plt.legend(fontsize = 20, loc = 4)\n",
    "fig.show()"
   ]
  },
  {
   "cell_type": "markdown",
   "metadata": {},
   "source": [
    "## Statistics"
   ]
  },
  {
   "cell_type": "markdown",
   "metadata": {},
   "source": [
    "![image](http://mblogthumb3.phinf.naver.net/20121114_106/istech7_1352875002440GYyqh_PNG/%B5%CE%C1%FD%B4%DC%C2%F7%C0%CC_%B0%CB%C1%A4%B9%E6%B9%FD%C8%E5%B8%A7%B5%B5.png?type=w2)\n",
    "\n",
    "![image](https://t1.daumcdn.net/cfile/tistory/2743524658F2520C2A)\n",
    "\n",
    "https://img1.daumcdn.net/thumb/R800x0/?scode=mtistory2&fname=https%3A%2F%2Ft1.daumcdn.net%2Fcfile%2Ftistory%2F1378B94E4F9C187F23"
   ]
  },
  {
   "cell_type": "code",
   "execution_count": 32,
   "metadata": {
    "ExecuteTime": {
     "end_time": "2020-01-16T16:26:53.247100Z",
     "start_time": "2020-01-16T16:26:53.227768Z"
    }
   },
   "outputs": [],
   "source": [
    "e_CM, b_CM = [], []\n",
    "\n",
    "for n_idx, h_idx, d_idx in zip(neg_idxs, h_idxs, d_idxs):\n",
    "    labels = np.vstack([neg_label[n_idx], h_label[h_idx], d_label[d_idx]])\n",
    "    b_outputs = np.vstack([neg_b_output[n_idx], h_b_output[h_idx], d_b_output[d_idx]]) \n",
    "    e_outputs = np.vstack([neg_e_output[n_idx], h_e_output[h_idx], d_e_output[d_idx]]) \n",
    "    e_CM.append(cls.con_mat(labels, e_outputs)), b_CM.append(cls.con_mat(labels, b_outputs))"
   ]
  },
  {
   "cell_type": "code",
   "execution_count": 33,
   "metadata": {
    "ExecuteTime": {
     "end_time": "2020-01-16T16:26:53.253039Z",
     "start_time": "2020-01-16T16:26:53.248952Z"
    }
   },
   "outputs": [],
   "source": [
    "b_metrices = []\n",
    "e_metrices = []\n",
    "\n",
    "for e_cm, b_cm in zip(e_CM, b_CM):\n",
    "    b_metrices.append(cls.cm2metric(b_cm))\n",
    "    e_metrices.append(cls.cm2metric(e_cm))\n",
    "    \n",
    "b_metrices = np.asarray(b_metrices)\n",
    "e_metrices = np.asarray(e_metrices)"
   ]
  },
  {
   "cell_type": "code",
   "execution_count": 34,
   "metadata": {
    "ExecuteTime": {
     "end_time": "2020-01-16T16:26:53.260209Z",
     "start_time": "2020-01-16T16:26:53.255069Z"
    }
   },
   "outputs": [
    {
     "data": {
      "text/plain": [
       "array([[0.92191436, 0.77570093, 0.97586207, 0.9218241 , 0.92222222],\n",
       "       [0.91183879, 0.78504673, 0.95862069, 0.92358804, 0.875     ],\n",
       "       [0.92191436, 0.79439252, 0.96896552, 0.92739274, 0.90425532],\n",
       "       [0.91939547, 0.75700935, 0.97931034, 0.91612903, 0.93103448],\n",
       "       [0.91939547, 0.77570093, 0.97241379, 0.92156863, 0.91208791],\n",
       "       [0.89420655, 0.74766355, 0.94827586, 0.91059603, 0.84210526],\n",
       "       [0.91666667, 0.75471698, 0.97586207, 0.91585761, 0.91954023],\n",
       "       [0.91666667, 0.75471698, 0.97586207, 0.91585761, 0.91954023],\n",
       "       [0.93147208, 0.82857143, 0.96885813, 0.93959732, 0.90625   ],\n",
       "       [0.92639594, 0.78095238, 0.97923875, 0.9248366 , 0.93181818]])"
      ]
     },
     "execution_count": 34,
     "metadata": {},
     "output_type": "execute_result"
    }
   ],
   "source": [
    "b_metrices"
   ]
  },
  {
   "cell_type": "code",
   "execution_count": 35,
   "metadata": {
    "ExecuteTime": {
     "end_time": "2020-01-16T16:26:53.266167Z",
     "start_time": "2020-01-16T16:26:53.261968Z"
    }
   },
   "outputs": [
    {
     "data": {
      "text/plain": [
       "array([[0.92191436, 0.79439252, 0.96896552, 0.92739274, 0.90425532],\n",
       "       [0.89420655, 0.69158879, 0.96896552, 0.89490446, 0.89156627],\n",
       "       [0.91687657, 0.75700935, 0.97586207, 0.91585761, 0.92045455],\n",
       "       [0.90428212, 0.72897196, 0.96896552, 0.90645161, 0.89655172],\n",
       "       [0.90680101, 0.74766355, 0.96551724, 0.91205212, 0.88888889],\n",
       "       [0.9093199 , 0.76635514, 0.96206897, 0.91776316, 0.88172043],\n",
       "       [0.88636364, 0.68867925, 0.95862069, 0.89389068, 0.85882353],\n",
       "       [0.89141414, 0.68867925, 0.96551724, 0.89456869, 0.87951807],\n",
       "       [0.91116751, 0.74285714, 0.97231834, 0.91233766, 0.90697674],\n",
       "       [0.91878173, 0.76190476, 0.97577855, 0.91856678, 0.91954023]])"
      ]
     },
     "execution_count": 35,
     "metadata": {},
     "output_type": "execute_result"
    }
   ],
   "source": [
    "e_metrices"
   ]
  },
  {
   "cell_type": "code",
   "execution_count": 36,
   "metadata": {
    "ExecuteTime": {
     "end_time": "2020-01-16T16:26:53.282389Z",
     "start_time": "2020-01-16T16:26:53.267976Z"
    }
   },
   "outputs": [
    {
     "name": "stdout",
     "output_type": "stream",
     "text": [
      "95 % CI\n",
      "\n",
      "Binary model\n",
      "Accr --- 91.80 (91.09 ~ 92.51)\n",
      "Sen --- 77.54 (75.81 ~ 79.28)\n",
      "Spec --- 97.03 (96.32 ~ 97.74)\n",
      "NPV --- 92.17 (91.59 ~ 92.75)\n",
      "PPV --- 90.64 (88.64 ~ 92.63)\n",
      "\n",
      "Ensemble model\n",
      "Accr --- 90.61 (89.75 ~ 91.48)\n",
      "Sen --- 73.68 (71.06 ~ 76.31)\n",
      "Spec --- 96.83 (96.43 ~ 97.22)\n",
      "NPV --- 90.94 (90.11 ~ 91.77)\n",
      "PPV --- 89.48 (88.12 ~ 90.84)\n"
     ]
    }
   ],
   "source": [
    "print(\"95 % CI\\n\")\n",
    "\n",
    "print('Binary model')\n",
    "conf_interval(100*b_metrices[:, 0], mode = 'print', metric = 'Accr')\n",
    "conf_interval(100*b_metrices[:, 1], mode = 'print', metric = 'Sen')\n",
    "conf_interval(100*b_metrices[:, 2], mode = 'print', metric = 'Spec')\n",
    "conf_interval(100*b_metrices[:, 3], mode = 'print', metric = 'NPV')\n",
    "conf_interval(100*b_metrices[:, 4], mode = 'print', metric = 'PPV')\n",
    "print('')\n",
    "print('Ensemble model')\n",
    "conf_interval(100*e_metrices[:, 0], mode = 'print', metric = 'Accr')\n",
    "conf_interval(100*e_metrices[:, 1], mode = 'print', metric = 'Sen')\n",
    "conf_interval(100*e_metrices[:, 2], mode = 'print', metric = 'Spec')\n",
    "conf_interval(100*e_metrices[:, 3], mode = 'print', metric = 'NPV')\n",
    "conf_interval(100*e_metrices[:, 4], mode = 'print', metric = 'PPV')"
   ]
  },
  {
   "cell_type": "markdown",
   "metadata": {},
   "source": [
    "### Equal-Variance Test"
   ]
  },
  {
   "cell_type": "code",
   "execution_count": 37,
   "metadata": {
    "ExecuteTime": {
     "end_time": "2020-01-16T16:26:53.295287Z",
     "start_time": "2020-01-16T16:26:53.284332Z"
    }
   },
   "outputs": [
    {
     "name": "stdout",
     "output_type": "stream",
     "text": [
      "bartlett test for accuracy: 0.313, pvalue=0.575625977141\n",
      "bartlett test for sensitivity: 1.434, pvalue=0.231035069680\n",
      "bartlett test for specificity: 2.696, pvalue=0.100618345101\n",
      "bartlett test for negative predictive values: 1.094, pvalue=0.295648345638\n",
      "bartlett test for positive predictive values: 1.223, pvalue=0.268867633658\n"
     ]
    }
   ],
   "source": [
    "from scipy.stats import bartlett\n",
    "\n",
    "accr_stats = bartlett(100*b_metrices[:, 0], 100*e_metrices[:, 0])\n",
    "sens_stats = bartlett(100*b_metrices[:, 1], 100*e_metrices[:, 1])\n",
    "spec_stats = bartlett(100*b_metrices[:, 2], 100*e_metrices[:, 2])\n",
    "npv_stats = bartlett(100*b_metrices[:, 3], 100*e_metrices[:, 3])\n",
    "ppv_stats = bartlett(100*b_metrices[:, 4], 100*e_metrices[:, 4])\n",
    "\n",
    "print(\"bartlett test for accuracy: {:.3f}, pvalue={:.12f}\".format(accr_stats[0], accr_stats[1]))\n",
    "print(\"bartlett test for sensitivity: {:.3f}, pvalue={:.12f}\".format(sens_stats[0], sens_stats[1]))\n",
    "print(\"bartlett test for specificity: {:.3f}, pvalue={:.12f}\".format(spec_stats[0], spec_stats[1]))\n",
    "print(\"bartlett test for negative predictive values: {:.3f}, pvalue={:.12f}\".format(npv_stats[0], npv_stats[1]))\n",
    "print(\"bartlett test for positive predictive values: {:.3f}, pvalue={:.12f}\".format(ppv_stats[0], ppv_stats[1]))"
   ]
  },
  {
   "cell_type": "code",
   "execution_count": 38,
   "metadata": {
    "ExecuteTime": {
     "end_time": "2020-01-16T16:26:53.307738Z",
     "start_time": "2020-01-16T16:26:53.297074Z"
    }
   },
   "outputs": [
    {
     "name": "stdout",
     "output_type": "stream",
     "text": [
      "levene test for accuracy: 0.986, pvalue=0.333951930963\n",
      "levene test for sensitivity: 1.641, pvalue=0.216433926395\n",
      "levene test for specificity: 1.043, pvalue=0.320554247270\n",
      "levene test for negative predictive values: 1.303, pvalue=0.268627942624\n",
      "levene test for positive predictive values: 0.223, pvalue=0.642465274739\n"
     ]
    }
   ],
   "source": [
    "from scipy.stats import levene\n",
    "\n",
    "accr_stats = levene(100*b_metrices[:, 0], 100*e_metrices[:, 0])\n",
    "sens_stats = levene(100*b_metrices[:, 1], 100*e_metrices[:, 1])\n",
    "spec_stats = levene(100*b_metrices[:, 2], 100*e_metrices[:, 2])\n",
    "npv_stats = levene(100*b_metrices[:, 3], 100*e_metrices[:, 3])\n",
    "ppv_stats = levene(100*b_metrices[:, 4], 100*e_metrices[:, 4])\n",
    "\n",
    "print(\"levene test for accuracy: {:.3f}, pvalue={:.12f}\".format(accr_stats[0], accr_stats[1]))\n",
    "print(\"levene test for sensitivity: {:.3f}, pvalue={:.12f}\".format(sens_stats[0], sens_stats[1]))\n",
    "print(\"levene test for specificity: {:.3f}, pvalue={:.12f}\".format(spec_stats[0], spec_stats[1]))\n",
    "print(\"levene test for negative predictive values: {:.3f}, pvalue={:.12f}\".format(npv_stats[0], npv_stats[1]))\n",
    "print(\"levene test for positive predictive values: {:.3f}, pvalue={:.12f}\".format(ppv_stats[0], ppv_stats[1]))"
   ]
  },
  {
   "cell_type": "markdown",
   "metadata": {},
   "source": [
    "### Normality Test"
   ]
  },
  {
   "cell_type": "code",
   "execution_count": 39,
   "metadata": {
    "ExecuteTime": {
     "end_time": "2020-01-16T16:26:53.318394Z",
     "start_time": "2020-01-16T16:26:53.309565Z"
    }
   },
   "outputs": [
    {
     "name": "stdout",
     "output_type": "stream",
     "text": [
      "Kolmogorov-Smirnov test for accuracy: 0.600, pvalue=0.052447552448\n",
      "Kolmogorov-Smirnov test for sensitivity: 0.500, pvalue=0.167821342744\n",
      "Kolmogorov-Smirnov test for specificity: 0.400, pvalue=0.417523652818\n",
      "Kolmogorov-Smirnov test for negative predictive values: 0.500, pvalue=0.167821342744\n",
      "Kolmogorov-Smirnov test for positive predictive values: 0.400, pvalue=0.417523652818\n"
     ]
    }
   ],
   "source": [
    "from scipy.stats import ks_2samp\n",
    "\n",
    "accr_stats = ks_2samp(100*b_metrices[:, 0], 100*e_metrices[:, 0])\n",
    "sens_stats = ks_2samp(100*b_metrices[:, 1], 100*e_metrices[:, 1])\n",
    "spec_stats = ks_2samp(100*b_metrices[:, 2], 100*e_metrices[:, 2])\n",
    "npv_stats = ks_2samp(100*b_metrices[:, 3], 100*e_metrices[:, 3])\n",
    "ppv_stats = ks_2samp(100*b_metrices[:, 4], 100*e_metrices[:, 4])\n",
    "\n",
    "print(\"Kolmogorov-Smirnov test for accuracy: {:.3f}, pvalue={:.12f}\".format(accr_stats[0], accr_stats[1]))\n",
    "print(\"Kolmogorov-Smirnov test for sensitivity: {:.3f}, pvalue={:.12f}\".format(sens_stats[0], sens_stats[1]))\n",
    "print(\"Kolmogorov-Smirnov test for specificity: {:.3f}, pvalue={:.12f}\".format(spec_stats[0], spec_stats[1]))\n",
    "print(\"Kolmogorov-Smirnov test for negative predictive values: {:.3f}, pvalue={:.12f}\".format(npv_stats[0], npv_stats[1]))\n",
    "print(\"Kolmogorov-Smirnov test for positive predictive values: {:.3f}, pvalue={:.12f}\".format(ppv_stats[0], ppv_stats[1]))"
   ]
  },
  {
   "cell_type": "markdown",
   "metadata": {},
   "source": [
    "### Wilcoxon signed-ranks test (not normal and paired group)"
   ]
  },
  {
   "cell_type": "code",
   "execution_count": 40,
   "metadata": {
    "ExecuteTime": {
     "end_time": "2020-01-16T16:26:53.331380Z",
     "start_time": "2020-01-16T16:26:53.320134Z"
    }
   },
   "outputs": [
    {
     "name": "stdout",
     "output_type": "stream",
     "text": [
      "wilcoxon signed-ranks test for accuracy: 4.500, pvalue=0.032815858973\n",
      "wilcoxon signed-ranks test for sensitivity: 3.000, pvalue=0.012344150274\n",
      "wilcoxon signed-ranks test for specificity: 22.500, pvalue=0.609834043673\n",
      "wilcoxon signed-ranks test for negative predictive values: 4.000, pvalue=0.016604878104\n",
      "wilcoxon signed-ranks test for positive predictive values: 16.000, pvalue=0.241121368277\n"
     ]
    },
    {
     "name": "stderr",
     "output_type": "stream",
     "text": [
      "/usr/local/lib/python3.5/dist-packages/scipy/stats/morestats.py:2863: UserWarning: Sample size too small for normal approximation.\n",
      "  warnings.warn(\"Sample size too small for normal approximation.\")\n"
     ]
    }
   ],
   "source": [
    "from scipy.stats import wilcoxon\n",
    "\n",
    "accr_stats = wilcoxon(100*b_metrices[:, 0], 100*e_metrices[:, 0])\n",
    "sens_stats = wilcoxon(100*b_metrices[:, 1], 100*e_metrices[:, 1])\n",
    "spec_stats = wilcoxon(100*b_metrices[:, 2], 100*e_metrices[:, 2])\n",
    "npv_stats = wilcoxon(100*b_metrices[:, 3], 100*e_metrices[:, 3])\n",
    "ppv_stats = wilcoxon(100*b_metrices[:, 4], 100*e_metrices[:, 4])\n",
    "\n",
    "print(\"wilcoxon signed-ranks test for accuracy: {:.3f}, pvalue={:.12f}\".format(accr_stats[0], accr_stats[1]))\n",
    "print(\"wilcoxon signed-ranks test for sensitivity: {:.3f}, pvalue={:.12f}\".format(sens_stats[0], sens_stats[1]))\n",
    "print(\"wilcoxon signed-ranks test for specificity: {:.3f}, pvalue={:.12f}\".format(spec_stats[0], spec_stats[1]))\n",
    "print(\"wilcoxon signed-ranks test for negative predictive values: {:.3f}, pvalue={:.12f}\".format(npv_stats[0], npv_stats[1]))\n",
    "print(\"wilcoxon signed-ranks test for positive predictive values: {:.3f}, pvalue={:.12f}\".format(ppv_stats[0], ppv_stats[1]))"
   ]
  },
  {
   "cell_type": "markdown",
   "metadata": {},
   "source": [
    "### Paired two-sample t-Test (normal and paired group)"
   ]
  },
  {
   "cell_type": "code",
   "execution_count": 41,
   "metadata": {
    "ExecuteTime": {
     "end_time": "2020-01-16T16:26:53.343203Z",
     "start_time": "2020-01-16T16:26:53.333138Z"
    }
   },
   "outputs": [
    {
     "name": "stdout",
     "output_type": "stream",
     "text": [
      "t-statistics for accuracy: 2.845, pvalue=0.019255358002\n",
      "t-statistics for sensitivity: 3.108, pvalue=0.012553947066\n",
      "t-statistics for specificity: 0.643, pvalue=0.536384052665\n",
      "t-statistics for negative predictive values: 3.112, pvalue=0.012472457990\n",
      "t-statistics for positive predictive values: 1.206, pvalue=0.258490884381\n"
     ]
    }
   ],
   "source": [
    "from scipy.stats import ttest_rel\n",
    "\n",
    "accr_stats = ttest_rel(100*b_metrices[:, 0], 100*e_metrices[:, 0])\n",
    "sens_stats = ttest_rel(100*b_metrices[:, 1], 100*e_metrices[:, 1])\n",
    "spec_stats = ttest_rel(100*b_metrices[:, 2], 100*e_metrices[:, 2])\n",
    "npv_stats = ttest_rel(100*b_metrices[:, 3], 100*e_metrices[:, 3])\n",
    "ppv_stats = ttest_rel(100*b_metrices[:, 4], 100*e_metrices[:, 4])\n",
    "\n",
    "print(\"t-statistics for accuracy: {:.3f}, pvalue={:.12f}\".format(accr_stats[0], accr_stats[1]))\n",
    "print(\"t-statistics for sensitivity: {:.3f}, pvalue={:.12f}\".format(sens_stats[0], sens_stats[1]))\n",
    "print(\"t-statistics for specificity: {:.3f}, pvalue={:.12f}\".format(spec_stats[0], spec_stats[1]))\n",
    "print(\"t-statistics for negative predictive values: {:.3f}, pvalue={:.12f}\".format(npv_stats[0], npv_stats[1]))\n",
    "print(\"t-statistics for positive predictive values: {:.3f}, pvalue={:.12f}\".format(ppv_stats[0], ppv_stats[1]))"
   ]
  },
  {
   "cell_type": "code",
   "execution_count": 42,
   "metadata": {
    "ExecuteTime": {
     "end_time": "2020-01-16T16:26:54.037901Z",
     "start_time": "2020-01-16T16:26:53.345056Z"
    }
   },
   "outputs": [
    {
     "data": {
      "image/png": "[encoded data removed]",
      "text/plain": [
       "<Figure size 1440x216 with 5 Axes>"
      ]
     },
     "metadata": {
      "needs_background": "light"
     },
     "output_type": "display_data"
    }
   ],
   "source": [
    "## Distribution by metric\n",
    "\n",
    "import seaborn as sns\n",
    "\n",
    "fig, axes = plt.subplots(ncols = 5)\n",
    "fig.set_size_inches(20, 3)\n",
    "\n",
    "sns.set_style({'axes.grid' : True})\n",
    "\n",
    "sns.distplot(b_metrices[:, 0], color='k', ax = axes[0])\n",
    "sns.distplot(e_metrices[:, 0], color='r', ax = axes[0])\n",
    "sns.distplot(b_metrices[:, 1], color='k', ax = axes[1])\n",
    "sns.distplot(e_metrices[:, 1], color='r', ax = axes[1])\n",
    "sns.distplot(b_metrices[:, 2], color='k', ax = axes[2])\n",
    "sns.distplot(e_metrices[:, 2], color='r', ax = axes[2])\n",
    "sns.distplot(b_metrices[:, 3], color='k', ax = axes[3])\n",
    "sns.distplot(e_metrices[:, 3], color='r', ax = axes[3])\n",
    "sns.distplot(b_metrices[:, 4], color='k', ax = axes[4])\n",
    "sns.distplot(e_metrices[:, 4], color='r', ax = axes[4])\n",
    "\n",
    "fig.show()"
   ]
  },
  {
   "cell_type": "code",
   "execution_count": null,
   "metadata": {},
   "outputs": [],
   "source": []
  },
  {
   "cell_type": "code",
   "execution_count": null,
   "metadata": {},
   "outputs": [],
   "source": []
  }
 ],
 "metadata": {
  "hide_input": false,
  "kernelspec": {
   "display_name": "Python 3",
   "language": "python",
   "name": "python3"
  },
  "language_info": {
   "codemirror_mode": {
    "name": "ipython",
    "version": 3
   },
   "file_extension": ".py",
   "mimetype": "text/x-python",
   "name": "python",
   "nbconvert_exporter": "python",
   "pygments_lexer": "ipython3",
   "version": "3.5.2"
  },
  "toc": {
   "base_numbering": 1,
   "nav_menu": {},
   "number_sections": true,
   "sideBar": true,
   "skip_h1_title": false,
   "title_cell": "Table of Contents",
   "title_sidebar": "Contents",
   "toc_cell": false,
   "toc_position": {},
   "toc_section_display": true,
   "toc_window_display": false
  }
 },
 "nbformat": 4,
 "nbformat_minor": 2
}
