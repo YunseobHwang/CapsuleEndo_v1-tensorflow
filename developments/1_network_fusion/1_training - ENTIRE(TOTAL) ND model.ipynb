{
 "cells": [
  {
   "cell_type": "code",
   "execution_count": 1,
   "metadata": {
    "ExecuteTime": {
     "end_time": "2020-01-23T06:48:22.548770Z",
     "start_time": "2020-01-23T06:48:22.278138Z"
    }
   },
   "outputs": [
    {
     "name": "stdout",
     "output_type": "stream",
     "text": [
      "Thu Jan 23 15:48:22 2020       \n",
      "+-----------------------------------------------------------------------------+\n",
      "| NVIDIA-SMI 430.26       Driver Version: 430.26       CUDA Version: 10.2     |\n",
      "|-------------------------------+----------------------+----------------------+\n",
      "| GPU  Name        Persistence-M| Bus-Id        Disp.A | Volatile Uncorr. ECC |\n",
      "| Fan  Temp  Perf  Pwr:Usage/Cap|         Memory-Usage | GPU-Util  Compute M. |\n",
      "|===============================+======================+======================|\n",
      "|   0  GeForce RTX 208...  Off  | 00000000:1D:00.0 Off |                  N/A |\n",
      "| 27%   27C    P8    13W / 250W |     10MiB / 11019MiB |      0%      Default |\n",
      "+-------------------------------+----------------------+----------------------+\n",
      "|   1  GeForce RTX 208...  Off  | 00000000:1E:00.0 Off |                  N/A |\n",
      "| 27%   25C    P8     7W / 250W |     10MiB / 11019MiB |      0%      Default |\n",
      "+-------------------------------+----------------------+----------------------+\n",
      "|   2  GeForce RTX 208...  Off  | 00000000:1F:00.0 Off |                  N/A |\n",
      "| 29%   41C    P2    84W / 250W |  10857MiB / 11019MiB |     39%      Default |\n",
      "+-------------------------------+----------------------+----------------------+\n",
      "|   3  GeForce RTX 208...  Off  | 00000000:20:00.0 Off |                  N/A |\n",
      "| 27%   24C    P8    20W / 250W |  10935MiB / 11019MiB |      0%      Default |\n",
      "+-------------------------------+----------------------+----------------------+\n",
      "|   4  GeForce RTX 208...  Off  | 00000000:21:00.0 Off |                  N/A |\n",
      "| 27%   27C    P8    26W / 250W |  10665MiB / 11019MiB |      0%      Default |\n",
      "+-------------------------------+----------------------+----------------------+\n",
      "|   5  GeForce RTX 208...  Off  | 00000000:22:00.0 Off |                  N/A |\n",
      "| 27%   25C    P8     5W / 250W |     10MiB / 11019MiB |      0%      Default |\n",
      "+-------------------------------+----------------------+----------------------+\n",
      "|   6  GeForce RTX 208...  Off  | 00000000:23:00.0 Off |                  N/A |\n",
      "| 27%   27C    P8    17W / 250W |     10MiB / 11019MiB |      0%      Default |\n",
      "+-------------------------------+----------------------+----------------------+\n",
      "|   7  GeForce RTX 208...  Off  | 00000000:24:00.0 Off |                  N/A |\n",
      "| 27%   27C    P8     1W / 250W |     10MiB / 11019MiB |      0%      Default |\n",
      "+-------------------------------+----------------------+----------------------+\n",
      "                                                                               \n",
      "+-----------------------------------------------------------------------------+\n",
      "| Processes:                                                       GPU Memory |\n",
      "|  GPU       PID   Type   Process name                             Usage      |\n",
      "|=============================================================================|\n",
      "|    2     29925      C   /usr/bin/python3                           10847MiB |\n",
      "|    3     33451      C   /usr/bin/python3                           10925MiB |\n",
      "|    4      9736      C   /usr/bin/python3                           10655MiB |\n",
      "+-----------------------------------------------------------------------------+\n"
     ]
    }
   ],
   "source": [
    "!nvidia-smi"
   ]
  },
  {
   "cell_type": "code",
   "execution_count": 2,
   "metadata": {
    "ExecuteTime": {
     "end_time": "2020-01-23T06:48:27.138083Z",
     "start_time": "2020-01-23T06:48:25.171678Z"
    }
   },
   "outputs": [
    {
     "name": "stderr",
     "output_type": "stream",
     "text": [
      "/usr/local/lib/python3.5/dist-packages/tensorflow/python/framework/dtypes.py:516: FutureWarning: Passing (type, 1) or '1type' as a synonym of type is deprecated; in a future version of numpy, it will be understood as (type, (1,)) / '(1,)type'.\n",
      "  _np_qint8 = np.dtype([(\"qint8\", np.int8, 1)])\n",
      "/usr/local/lib/python3.5/dist-packages/tensorflow/python/framework/dtypes.py:517: FutureWarning: Passing (type, 1) or '1type' as a synonym of type is deprecated; in a future version of numpy, it will be understood as (type, (1,)) / '(1,)type'.\n",
      "  _np_quint8 = np.dtype([(\"quint8\", np.uint8, 1)])\n",
      "/usr/local/lib/python3.5/dist-packages/tensorflow/python/framework/dtypes.py:518: FutureWarning: Passing (type, 1) or '1type' as a synonym of type is deprecated; in a future version of numpy, it will be understood as (type, (1,)) / '(1,)type'.\n",
      "  _np_qint16 = np.dtype([(\"qint16\", np.int16, 1)])\n",
      "/usr/local/lib/python3.5/dist-packages/tensorflow/python/framework/dtypes.py:519: FutureWarning: Passing (type, 1) or '1type' as a synonym of type is deprecated; in a future version of numpy, it will be understood as (type, (1,)) / '(1,)type'.\n",
      "  _np_quint16 = np.dtype([(\"quint16\", np.uint16, 1)])\n",
      "/usr/local/lib/python3.5/dist-packages/tensorflow/python/framework/dtypes.py:520: FutureWarning: Passing (type, 1) or '1type' as a synonym of type is deprecated; in a future version of numpy, it will be understood as (type, (1,)) / '(1,)type'.\n",
      "  _np_qint32 = np.dtype([(\"qint32\", np.int32, 1)])\n",
      "/usr/local/lib/python3.5/dist-packages/tensorflow/python/framework/dtypes.py:525: FutureWarning: Passing (type, 1) or '1type' as a synonym of type is deprecated; in a future version of numpy, it will be understood as (type, (1,)) / '(1,)type'.\n",
      "  np_resource = np.dtype([(\"resource\", np.ubyte, 1)])\n",
      "/usr/local/lib/python3.5/dist-packages/tensorboard/compat/tensorflow_stub/dtypes.py:541: FutureWarning: Passing (type, 1) or '1type' as a synonym of type is deprecated; in a future version of numpy, it will be understood as (type, (1,)) / '(1,)type'.\n",
      "  _np_qint8 = np.dtype([(\"qint8\", np.int8, 1)])\n",
      "/usr/local/lib/python3.5/dist-packages/tensorboard/compat/tensorflow_stub/dtypes.py:542: FutureWarning: Passing (type, 1) or '1type' as a synonym of type is deprecated; in a future version of numpy, it will be understood as (type, (1,)) / '(1,)type'.\n",
      "  _np_quint8 = np.dtype([(\"quint8\", np.uint8, 1)])\n",
      "/usr/local/lib/python3.5/dist-packages/tensorboard/compat/tensorflow_stub/dtypes.py:543: FutureWarning: Passing (type, 1) or '1type' as a synonym of type is deprecated; in a future version of numpy, it will be understood as (type, (1,)) / '(1,)type'.\n",
      "  _np_qint16 = np.dtype([(\"qint16\", np.int16, 1)])\n",
      "/usr/local/lib/python3.5/dist-packages/tensorboard/compat/tensorflow_stub/dtypes.py:544: FutureWarning: Passing (type, 1) or '1type' as a synonym of type is deprecated; in a future version of numpy, it will be understood as (type, (1,)) / '(1,)type'.\n",
      "  _np_quint16 = np.dtype([(\"quint16\", np.uint16, 1)])\n",
      "/usr/local/lib/python3.5/dist-packages/tensorboard/compat/tensorflow_stub/dtypes.py:545: FutureWarning: Passing (type, 1) or '1type' as a synonym of type is deprecated; in a future version of numpy, it will be understood as (type, (1,)) / '(1,)type'.\n",
      "  _np_qint32 = np.dtype([(\"qint32\", np.int32, 1)])\n",
      "/usr/local/lib/python3.5/dist-packages/tensorboard/compat/tensorflow_stub/dtypes.py:550: FutureWarning: Passing (type, 1) or '1type' as a synonym of type is deprecated; in a future version of numpy, it will be understood as (type, (1,)) / '(1,)type'.\n",
      "  np_resource = np.dtype([(\"resource\", np.ubyte, 1)])\n"
     ]
    }
   ],
   "source": [
    "import os\n",
    "os.environ[\"CUDA_DEVICE_ORDER\"]=\"PCI_BUS_ID\"\n",
    "os.environ[\"CUDA_VISIBLE_DEVICES\"]=\"6\"\n",
    "\n",
    "import numpy as np\n",
    "import matplotlib.pyplot as plt\n",
    "import tensorflow as tf\n",
    "import time, datetime\n",
    "\n",
    "import sys\n",
    "sys.path.append('/mnt/disk1/project/SMhospital/capsule/ce_packages')\n",
    "from ce_utils import load_path, train_valid_split, damped_exp_LR, load_random_minibatch, shuffle\n",
    "from ce_utils import training_history"
   ]
  },
  {
   "cell_type": "markdown",
   "metadata": {},
   "source": [
    "# Load Data"
   ]
  },
  {
   "cell_type": "code",
   "execution_count": 16,
   "metadata": {
    "ExecuteTime": {
     "end_time": "2020-01-23T07:23:31.943232Z",
     "start_time": "2020-01-23T07:23:31.647381Z"
    }
   },
   "outputs": [
    {
     "name": "stdout",
     "output_type": "stream",
     "text": [
      "negative: (49960,)\n",
      "erosion: (5896,)\n",
      "ulcer: (5856,)\n",
      "stricture: (824,)\n"
     ]
    }
   ],
   "source": [
    "neg_train_path = load_path('train', 'n', 'neg', data = 'sm')\n",
    "# redspot_train_path = load_path('train', 'h', 'redspot', data = 'sm')\n",
    "# angio_train_path = load_path('train', 'h', 'angio', data = 'sm')\n",
    "# active_train_path = load_path('train', 'h', 'active', data = 'sm')\n",
    "ero_train_path = load_path('train', 'd', 'ero', data = 'sm')\n",
    "ulcer_train_path = load_path('train', 'd', 'ulcer', data = 'sm')\n",
    "str_train_path = load_path('train', 'd', 'str', data = 'sm')\n",
    "\n",
    "print(\"negative:\",neg_train_path.shape)\n",
    "# print(\"red spot:\",redspot_train_path.shape)\n",
    "# print(\"angioectasia:\",angio_train_path.shape)\n",
    "# print(\"active_bleeding:\",active_train_path.shape)\n",
    "print(\"erosion:\",ero_train_path.shape)\n",
    "print(\"ulcer:\",ulcer_train_path.shape)\n",
    "print(\"stricture:\",str_train_path.shape)"
   ]
  },
  {
   "cell_type": "code",
   "execution_count": 17,
   "metadata": {
    "ExecuteTime": {
     "end_time": "2020-01-23T07:23:37.411737Z",
     "start_time": "2020-01-23T07:23:37.349273Z"
    }
   },
   "outputs": [
    {
     "name": "stdout",
     "output_type": "stream",
     "text": [
      "negative: (10927,)\n",
      "erosion: (1295,)\n",
      "ulcer: (1281,)\n",
      "stricture: (182,)\n"
     ]
    }
   ],
   "source": [
    "neg_test_path = load_path('test', 'n', 'neg', data = 'sm')\n",
    "# redspot_test_path = load_path('test', 'h', 'redspot', data = 'sm')\n",
    "# angio_test_path = load_path('test', 'h', 'angio', data = 'sm')\n",
    "# active_test_path = load_path('test', 'h', 'active', data = 'sm')\n",
    "ero_test_path = load_path('test', 'd', 'ero', data = 'sm')\n",
    "ulcer_test_path = load_path('test', 'd', 'ulcer', data = 'sm')\n",
    "str_test_path = load_path('test', 'd', 'str', data = 'sm')\n",
    "\n",
    "print(\"negative:\",neg_test_path.shape)\n",
    "# print(\"red spot:\",redspot_test_path.shape)\n",
    "# print(\"angioectasia:\",angio_test_path.shape)\n",
    "# print(\"active_bleeding:\",active_test_path.shape)\n",
    "print(\"erosion:\",ero_test_path.shape)\n",
    "print(\"ulcer:\",ulcer_test_path.shape)\n",
    "print(\"stricture:\",str_test_path.shape)"
   ]
  },
  {
   "cell_type": "code",
   "execution_count": 5,
   "metadata": {
    "ExecuteTime": {
     "end_time": "2020-01-23T06:48:57.882523Z",
     "start_time": "2020-01-23T06:48:57.824354Z"
    }
   },
   "outputs": [
    {
     "name": "stdout",
     "output_type": "stream",
     "text": [
      "negative: (62448,)\n",
      "erosion: (7376,)\n",
      "ulcer: (7320,)\n",
      "stricture: (1032,)\n"
     ]
    }
   ],
   "source": [
    "neg_path = np.hstack([neg_train_path, neg_test_path])\n",
    "# redspot_path = np.hstack([redspot_train_path, redspot_test_path])\n",
    "# angio_path = np.hstack([angio_train_path, angio_test_path])\n",
    "# active_path = np.hstack([active_train_path, active_test_path])\n",
    "ero_path = np.hstack([ero_train_path, ero_test_path])\n",
    "ulcer_path = np.hstack([ulcer_train_path, ulcer_test_path])\n",
    "str_path = np.hstack([str_train_path, str_test_path])\n",
    "\n",
    "print(\"negative:\",neg_path.shape)\n",
    "# print(\"red spot:\",redspot_path.shape)\n",
    "# print(\"angioectasia:\",angio_path.shape)\n",
    "# print(\"active_bleeding:\",active_path.shape)\n",
    "print(\"erosion:\",ero_path.shape)\n",
    "print(\"ulcer:\",ulcer_path.shape)\n",
    "print(\"stricture:\",str_path.shape)"
   ]
  },
  {
   "cell_type": "code",
   "execution_count": 6,
   "metadata": {
    "ExecuteTime": {
     "end_time": "2020-01-23T06:49:12.733073Z",
     "start_time": "2020-01-23T06:49:12.663202Z"
    }
   },
   "outputs": [
    {
     "name": "stdout",
     "output_type": "stream",
     "text": [
      "negative: (53080,) (7992,)\n",
      "erosion: (6269,) (946,)\n",
      "ulcer: (6222,) (935,)\n",
      "stricture: (877,) (133,)\n"
     ]
    }
   ],
   "source": [
    "neg_train_path, neg_valid_path = train_valid_split(neg_path)\n",
    "# redspot_train_path, redspot_valid_path = train_valid_split(redspot_path)\n",
    "# angio_train_path, angio_valid_path = train_valid_split(angio_path)\n",
    "# active_train_path, active_valid_path = train_valid_split(active_path)\n",
    "ero_train_path, ero_valid_path = train_valid_split(ero_path)\n",
    "ulcer_train_path, ulcer_valid_path = train_valid_split(ulcer_path)\n",
    "str_train_path, str_valid_path = train_valid_split(str_path)\n",
    "\n",
    "print(\"negative:\", neg_train_path.shape, neg_valid_path.shape)\n",
    "# print(\"red spot:\", redspot_train_path.shape, redspot_valid_path.shape)\n",
    "# print(\"angioectasia:\", angio_train_path.shape, angio_valid_path.shape)\n",
    "# print(\"active bleeding:\", active_train_path.shape, active_valid_path.shape)\n",
    "print(\"erosion:\", ero_train_path.shape, ero_valid_path.shape)\n",
    "print(\"ulcer:\", ulcer_train_path.shape, ulcer_valid_path.shape)\n",
    "print(\"stricture:\", str_train_path.shape, str_valid_path.shape)"
   ]
  },
  {
   "cell_type": "markdown",
   "metadata": {},
   "source": [
    "# Model"
   ]
  },
  {
   "cell_type": "code",
   "execution_count": 7,
   "metadata": {
    "ExecuteTime": {
     "end_time": "2020-01-23T06:49:32.898596Z",
     "start_time": "2020-01-23T06:49:32.890273Z"
    }
   },
   "outputs": [],
   "source": [
    "input_h = 512\n",
    "input_w = 512\n",
    "input_ch = 3\n",
    "\n",
    "k1_ch = 16\n",
    "# 256 256 16\n",
    "\n",
    "k2_ch = 16\n",
    "# 128 128 16\n",
    "\n",
    "k3_ch = 16\n",
    "# 64 64 16\n",
    "\n",
    "k4_ch = 32\n",
    "# 32 32 32\n",
    "\n",
    "k5_ch = 32\n",
    "# 16 16 32\n",
    "\n",
    "k6_ch = 32\n",
    "# 8 8 32\n",
    "\n",
    "k7_ch = 64\n",
    "# 4 4 64\n",
    "\n",
    "n_hidden1 = 100\n",
    "n_hidden2 = 50\n",
    "n_output = 2"
   ]
  },
  {
   "cell_type": "code",
   "execution_count": 8,
   "metadata": {
    "ExecuteTime": {
     "end_time": "2020-01-23T06:49:33.746639Z",
     "start_time": "2020-01-23T06:49:33.722530Z"
    }
   },
   "outputs": [],
   "source": [
    "class CE_cnn:\n",
    "    def __init__(self, k1_ch, k2_ch, k3_ch, k4_ch, k5_ch, k6_ch, k7_ch, n_hidden1, n_hidden2, n_output):\n",
    "        self.k1_ch = k1_ch\n",
    "        self.k2_ch = k2_ch\n",
    "        self.k3_ch = k3_ch\n",
    "        self.k4_ch = k4_ch\n",
    "        self.k5_ch = k5_ch\n",
    "        self.k6_ch = k6_ch\n",
    "        self.k7_ch = k7_ch\n",
    "        self.n_hidden1 = n_hidden1\n",
    "        self.n_hidden2 = n_hidden2\n",
    "        self.n_output = n_output\n",
    "    def conv_block(self, x, k_channel, maxp_name = 'maxp'):\n",
    "        conv1 = tf.layers.conv2d(inputs = x, \n",
    "                                 filters = k_channel, \n",
    "                                 kernel_size = [3, 3], \n",
    "                                 padding = \"SAME\",\n",
    "                                 activation= tf.nn.relu)\n",
    "        conv2 = tf.layers.conv2d(inputs = conv1, \n",
    "                                 filters = k_channel, \n",
    "                                 kernel_size = [3, 3], \n",
    "                                 padding = \"SAME\",\n",
    "                                 activation= tf.nn.relu)\n",
    "        maxp = tf.layers.max_pooling2d(inputs = conv2, \n",
    "                                       pool_size = [2, 2], \n",
    "                                       strides = 2,\n",
    "                                       name = maxp_name)\n",
    "        return maxp\n",
    "\n",
    "    def fc2_layers(self, x, n_hidden1, n_hidden2, n_output, score_name = 'score'):\n",
    "        maxp_re = tf.layers.flatten(x)\n",
    "        hidden1 = tf.layers.dense(inputs = maxp_re, \n",
    "                                  units = n_hidden1,\n",
    "                                  activation = tf.nn.relu)\n",
    "        hidden1 = tf.layers.dropout(hidden1, rate = 0.3, training = is_training) # Drouout\n",
    "        hidden2 = tf.layers.dense(inputs = hidden1, \n",
    "                                  units = n_hidden2,\n",
    "                                  activation = tf.nn.relu)\n",
    "        hidden2 = tf.layers.dropout(hidden2, rate = 0.3, training = is_training) # Drouout\n",
    "        score = tf.layers.dense(inputs = hidden2, units = n_output, name = score_name)\n",
    "        return score\n",
    "\n",
    "    def inf(self, x):\n",
    "        conv1 = self.conv_block(x, self.k1_ch, 'maxp1')\n",
    "        conv2 = self.conv_block(conv1, self.k2_ch, 'maxp2')\n",
    "        conv3 = self.conv_block(conv2, self.k3_ch, 'maxp3')\n",
    "        conv4 = self.conv_block(conv3, self.k4_ch, 'maxp4')\n",
    "        conv5 = self.conv_block(conv4, self.k5_ch, 'maxp5')\n",
    "        conv6 = self.conv_block(conv5, self.k6_ch, 'maxp6')\n",
    "        conv7 = self.conv_block(conv6, self.k7_ch, 'maxp7')\n",
    "\n",
    "        score = self.fc2_layers(conv7, self.n_hidden1, self.n_hidden2, self.n_output, 'score')\n",
    "\n",
    "        return score"
   ]
  },
  {
   "cell_type": "code",
   "execution_count": 9,
   "metadata": {
    "ExecuteTime": {
     "end_time": "2020-01-23T06:49:37.353297Z",
     "start_time": "2020-01-23T06:49:34.317060Z"
    },
    "scrolled": true
   },
   "outputs": [
    {
     "name": "stderr",
     "output_type": "stream",
     "text": [
      "WARNING: Logging before flag parsing goes to stderr.\n",
      "W0123 15:49:34.359961 140472721426176 deprecation.py:323] From <ipython-input-8-249d499180cf>:18: conv2d (from tensorflow.python.layers.convolutional) is deprecated and will be removed in a future version.\n",
      "Instructions for updating:\n",
      "Use `tf.keras.layers.Conv2D` instead.\n",
      "W0123 15:49:34.364622 140472721426176 deprecation.py:506] From /usr/local/lib/python3.5/dist-packages/tensorflow/python/ops/init_ops.py:1251: calling VarianceScaling.__init__ (from tensorflow.python.ops.init_ops) with dtype is deprecated and will be removed in a future version.\n",
      "Instructions for updating:\n",
      "Call initializer instance with the dtype argument instead of passing it to the constructor\n",
      "W0123 15:49:34.561539 140472721426176 deprecation.py:323] From <ipython-input-8-249d499180cf>:27: max_pooling2d (from tensorflow.python.layers.pooling) is deprecated and will be removed in a future version.\n",
      "Instructions for updating:\n",
      "Use keras.layers.MaxPooling2D instead.\n",
      "W0123 15:49:34.844743 140472721426176 deprecation.py:323] From <ipython-input-8-249d499180cf>:31: flatten (from tensorflow.python.layers.core) is deprecated and will be removed in a future version.\n",
      "Instructions for updating:\n",
      "Use keras.layers.flatten instead.\n",
      "W0123 15:49:35.025569 140472721426176 deprecation.py:323] From <ipython-input-8-249d499180cf>:34: dense (from tensorflow.python.layers.core) is deprecated and will be removed in a future version.\n",
      "Instructions for updating:\n",
      "Use keras.layers.dense instead.\n",
      "W0123 15:49:35.344099 140472721426176 deprecation.py:323] From <ipython-input-8-249d499180cf>:35: dropout (from tensorflow.python.layers.core) is deprecated and will be removed in a future version.\n",
      "Instructions for updating:\n",
      "Use keras.layers.dropout instead.\n",
      "W0123 15:49:35.470243 140472721426176 deprecation.py:323] From /usr/local/lib/python3.5/dist-packages/tensorflow/python/ops/losses/losses_impl.py:121: add_dispatch_support.<locals>.wrapper (from tensorflow.python.ops.array_ops) is deprecated and will be removed in a future version.\n",
      "Instructions for updating:\n",
      "Use tf.where in 2.0, which has the same broadcast rule as np.where\n"
     ]
    }
   ],
   "source": [
    "tf.reset_default_graph()\n",
    "\n",
    "x = tf.placeholder(tf.float32, [None, input_h, input_w, input_ch], name = 'img')\n",
    "y = tf.placeholder(tf.float32, [None, n_output], name = 'label')\n",
    "#rate = tf.placeholder(tf.float32, name = 'rate') # tf.layers.dropout용 얼만큼 드랍아웃할건지\n",
    "LR = tf.placeholder(tf.float32)\n",
    "is_training = tf.placeholder(tf.bool, name = 'is_training')\n",
    "\n",
    "model = CE_cnn(k1_ch, k2_ch, k3_ch, k4_ch, k5_ch, k6_ch, k7_ch, n_hidden1, n_hidden2, n_output)\n",
    "score = model.inf(x)\n",
    "loss = tf.losses.softmax_cross_entropy(onehot_labels=y, logits=score)\n",
    "loss = tf.reduce_mean(loss)\n",
    "\n",
    "# update_ops = tf.get_collection(tf.GraphKeys.UPDATE_OPS)\n",
    "# with tf.control_dependencies(update_ops):\n",
    "#     optm = tf.train.AdamOptimizer(learning_rate=lr).minimize(loss)\n",
    "optm = tf.train.AdamOptimizer(LR).minimize(loss)\n",
    "\n",
    "saver = tf.train.Saver()\n",
    "sess = tf.Session()\n",
    "\n",
    "init = tf.global_variables_initializer()\n",
    "sess.run(init)"
   ]
  },
  {
   "cell_type": "markdown",
   "metadata": {},
   "source": [
    "# Training"
   ]
  },
  {
   "cell_type": "markdown",
   "metadata": {},
   "source": [
    "## equal batch-size by class and damaped exp LR"
   ]
  },
  {
   "cell_type": "markdown",
   "metadata": {},
   "source": [
    "damped_exp_LR(15000) <br>\n",
    "t_batch = 50 <br>\n",
    "v_batch = 50 <br>\n",
    "cal_interval = 10 <br>\n",
    "prt_interval = 100 <br>\n",
    "early stopping = True <br>"
   ]
  },
  {
   "cell_type": "code",
   "execution_count": 13,
   "metadata": {
    "ExecuteTime": {
     "end_time": "2020-01-23T06:50:55.408626Z",
     "start_time": "2020-01-23T06:50:55.387313Z"
    }
   },
   "outputs": [],
   "source": [
    "d_train_path = np.hstack([ero_train_path, ulcer_train_path, str_train_path])\n",
    "d_valid_path = np.hstack([ero_valid_path, ulcer_valid_path, str_valid_path])\n",
    "\n",
    "a_train_path = shuffle(d_train_path, None)\n",
    "a_valid_path = shuffle(d_valid_path, None)"
   ]
  },
  {
   "cell_type": "code",
   "execution_count": 14,
   "metadata": {
    "ExecuteTime": {
     "end_time": "2020-01-23T06:50:56.584905Z",
     "start_time": "2020-01-23T06:50:56.398810Z"
    }
   },
   "outputs": [
    {
     "data": {
      "text/plain": [
       "[<matplotlib.lines.Line2D at 0x7fc204b36400>]"
      ]
     },
     "execution_count": 14,
     "metadata": {},
     "output_type": "execute_result"
    },
    {
     "data": {
      "image/png": "[encoded data removed]",
      "text/plain": [
       "<Figure size 432x288 with 1 Axes>"
      ]
     },
     "metadata": {
      "needs_background": "light"
     },
     "output_type": "display_data"
    }
   ],
   "source": [
    "D_lr = damped_exp_LR(15000)\n",
    "\n",
    "plt.plot(D_lr)"
   ]
  },
  {
   "cell_type": "code",
   "execution_count": 15,
   "metadata": {
    "ExecuteTime": {
     "end_time": "2020-01-23T07:23:15.173387Z",
     "start_time": "2020-01-23T06:50:57.550502Z"
    },
    "scrolled": false
   },
   "outputs": [
    {
     "name": "stdout",
     "output_type": "stream",
     "text": [
      "==============================================================\n",
      "[Iter] || Train_accr || Valid_accr || Train_loss || Valid_loss\n",
      "==============================================================\n"
     ]
    },
    {
     "name": "stderr",
     "output_type": "stream",
     "text": [
      "W0123 15:52:53.726270 140472721426176 deprecation.py:323] From /usr/local/lib/python3.5/dist-packages/tensorflow/python/training/saver.py:960: remove_checkpoint (from tensorflow.python.training.checkpoint_management) is deprecated and will be removed in a future version.\n",
      "Instructions for updating:\n",
      "Use standard file APIs to delete files with this prefix.\n"
     ]
    },
    {
     "name": "stdout",
     "output_type": "stream",
     "text": [
      "[*100] || 58.00 %    || 67.00 %    || 0.67775649 || 0.59492332\n",
      "--------------------------------------------------------------\n",
      "[*200] || 62.00 %    || 74.00 %    || 0.60892957 || 0.58520681\n",
      "--------------------------------------------------------------\n",
      "[*300] || 83.00 %    || 78.00 %    || 0.45311168 || 0.48228702\n",
      "--------------------------------------------------------------\n",
      "[*400] || 90.00 %    || 85.00 %    || 0.27123716 || 0.30193985\n",
      "--------------------------------------------------------------\n",
      "[*500] || 85.00 %    || 84.00 %    || 0.34252277 || 0.34285286\n",
      "--------------------------------------------------------------\n",
      "[*600] || 92.00 %    || 93.00 %    || 0.21658169 || 0.17923537\n",
      "--------------------------------------------------------------\n",
      "[*700] || 92.00 %    || 90.00 %    || 0.22717865 || 0.28772998\n",
      "--------------------------------------------------------------\n",
      "[*800] || 94.00 %    || 87.00 %    || 0.19234335 || 0.28701633\n",
      "--------------------------------------------------------------\n",
      "[*900] || 89.00 %    || 94.00 %    || 0.29434615 || 0.16667129\n",
      "--------------------------------------------------------------\n",
      "[1000] || 92.00 %    || 86.00 %    || 0.20195484 || 0.24301939\n",
      "--------------------------------------------------------------\n",
      "[1100] || 93.00 %    || 90.00 %    || 0.21643047 || 0.25670767\n",
      "--------------------------------------------------------------\n",
      "[1200] || 89.00 %    || 85.00 %    || 0.24968882 || 0.30725297\n",
      "--------------------------------------------------------------\n",
      "[1300] || 91.00 %    || 86.00 %    || 0.18634528 || 0.24120094\n",
      "--------------------------------------------------------------\n",
      "[1400] || 93.00 %    || 99.00 %    || 0.15962648 || 0.05201277\n",
      "--------------------------------------------------------------\n",
      "[1500] || 90.00 %    || 90.00 %    || 0.17875595 || 0.25903419\n",
      "--------------------------------------------------------------\n",
      "[1600] || 91.00 %    || 90.00 %    || 0.20785579 || 0.31525084\n",
      "--------------------------------------------------------------\n",
      "[1700] || 95.00 %    || 93.00 %    || 0.13771491 || 0.18257068\n",
      "--------------------------------------------------------------\n"
     ]
    },
    {
     "ename": "KeyboardInterrupt",
     "evalue": "",
     "output_type": "error",
     "traceback": [
      "\u001b[0;31m---------------------------------------------------------------------------\u001b[0m",
      "\u001b[0;31mKeyboardInterrupt\u001b[0m                         Traceback (most recent call last)",
      "\u001b[0;32m<ipython-input-15-44b5cdfa14f9>\u001b[0m in \u001b[0;36m<module>\u001b[0;34m\u001b[0m\n\u001b[1;32m     19\u001b[0m     \u001b[0mtrain_x\u001b[0m\u001b[0;34m,\u001b[0m \u001b[0mtrain_y\u001b[0m \u001b[0;34m=\u001b[0m \u001b[0mshuffle\u001b[0m\u001b[0;34m(\u001b[0m\u001b[0mtrain_x\u001b[0m\u001b[0;34m,\u001b[0m \u001b[0mtrain_y\u001b[0m\u001b[0;34m)\u001b[0m\u001b[0;34m\u001b[0m\u001b[0m\n\u001b[1;32m     20\u001b[0m \u001b[0;34m\u001b[0m\u001b[0m\n\u001b[0;32m---> 21\u001b[0;31m     \u001b[0msess\u001b[0m\u001b[0;34m.\u001b[0m\u001b[0mrun\u001b[0m\u001b[0;34m(\u001b[0m\u001b[0moptm\u001b[0m\u001b[0;34m,\u001b[0m \u001b[0mfeed_dict\u001b[0m \u001b[0;34m=\u001b[0m \u001b[0;34m{\u001b[0m\u001b[0;34m'img:0'\u001b[0m\u001b[0;34m:\u001b[0m \u001b[0mtrain_x\u001b[0m\u001b[0;34m,\u001b[0m \u001b[0;34m'label:0'\u001b[0m\u001b[0;34m:\u001b[0m \u001b[0mtrain_y\u001b[0m\u001b[0;34m,\u001b[0m \u001b[0;34m'is_training:0'\u001b[0m \u001b[0;34m:\u001b[0m\u001b[0;36m1\u001b[0m\u001b[0;34m,\u001b[0m \u001b[0mLR\u001b[0m\u001b[0;34m:\u001b[0m \u001b[0mD_lr\u001b[0m\u001b[0;34m[\u001b[0m\u001b[0mn_iter\u001b[0m\u001b[0;34m]\u001b[0m\u001b[0;34m}\u001b[0m\u001b[0;34m)\u001b[0m\u001b[0;34m\u001b[0m\u001b[0m\n\u001b[0m\u001b[1;32m     22\u001b[0m     \u001b[0mn_iter\u001b[0m \u001b[0;34m+=\u001b[0m \u001b[0;36m1\u001b[0m\u001b[0;34m\u001b[0m\u001b[0m\n\u001b[1;32m     23\u001b[0m \u001b[0;34m\u001b[0m\u001b[0m\n",
      "\u001b[0;32m/usr/local/lib/python3.5/dist-packages/tensorflow/python/client/session.py\u001b[0m in \u001b[0;36mrun\u001b[0;34m(self, fetches, feed_dict, options, run_metadata)\u001b[0m\n\u001b[1;32m    948\u001b[0m     \u001b[0;32mtry\u001b[0m\u001b[0;34m:\u001b[0m\u001b[0;34m\u001b[0m\u001b[0m\n\u001b[1;32m    949\u001b[0m       result = self._run(None, fetches, feed_dict, options_ptr,\n\u001b[0;32m--> 950\u001b[0;31m                          run_metadata_ptr)\n\u001b[0m\u001b[1;32m    951\u001b[0m       \u001b[0;32mif\u001b[0m \u001b[0mrun_metadata\u001b[0m\u001b[0;34m:\u001b[0m\u001b[0;34m\u001b[0m\u001b[0m\n\u001b[1;32m    952\u001b[0m         \u001b[0mproto_data\u001b[0m \u001b[0;34m=\u001b[0m \u001b[0mtf_session\u001b[0m\u001b[0;34m.\u001b[0m\u001b[0mTF_GetBuffer\u001b[0m\u001b[0;34m(\u001b[0m\u001b[0mrun_metadata_ptr\u001b[0m\u001b[0;34m)\u001b[0m\u001b[0;34m\u001b[0m\u001b[0m\n",
      "\u001b[0;32m/usr/local/lib/python3.5/dist-packages/tensorflow/python/client/session.py\u001b[0m in \u001b[0;36m_run\u001b[0;34m(self, handle, fetches, feed_dict, options, run_metadata)\u001b[0m\n\u001b[1;32m   1140\u001b[0m             \u001b[0mfeed_handles\u001b[0m\u001b[0;34m[\u001b[0m\u001b[0msubfeed_t\u001b[0m\u001b[0;34m]\u001b[0m \u001b[0;34m=\u001b[0m \u001b[0msubfeed_val\u001b[0m\u001b[0;34m\u001b[0m\u001b[0m\n\u001b[1;32m   1141\u001b[0m           \u001b[0;32melse\u001b[0m\u001b[0;34m:\u001b[0m\u001b[0;34m\u001b[0m\u001b[0m\n\u001b[0;32m-> 1142\u001b[0;31m             \u001b[0mnp_val\u001b[0m \u001b[0;34m=\u001b[0m \u001b[0mnp\u001b[0m\u001b[0;34m.\u001b[0m\u001b[0masarray\u001b[0m\u001b[0;34m(\u001b[0m\u001b[0msubfeed_val\u001b[0m\u001b[0;34m,\u001b[0m \u001b[0mdtype\u001b[0m\u001b[0;34m=\u001b[0m\u001b[0msubfeed_dtype\u001b[0m\u001b[0;34m)\u001b[0m\u001b[0;34m\u001b[0m\u001b[0m\n\u001b[0m\u001b[1;32m   1143\u001b[0m \u001b[0;34m\u001b[0m\u001b[0m\n\u001b[1;32m   1144\u001b[0m           if (not is_tensor_handle_feed and\n",
      "\u001b[0;32m~/.local/lib/python3.5/site-packages/numpy/core/_asarray.py\u001b[0m in \u001b[0;36masarray\u001b[0;34m(a, dtype, order)\u001b[0m\n\u001b[1;32m     83\u001b[0m \u001b[0;34m\u001b[0m\u001b[0m\n\u001b[1;32m     84\u001b[0m     \"\"\"\n\u001b[0;32m---> 85\u001b[0;31m     \u001b[0;32mreturn\u001b[0m \u001b[0marray\u001b[0m\u001b[0;34m(\u001b[0m\u001b[0ma\u001b[0m\u001b[0;34m,\u001b[0m \u001b[0mdtype\u001b[0m\u001b[0;34m,\u001b[0m \u001b[0mcopy\u001b[0m\u001b[0;34m=\u001b[0m\u001b[0;32mFalse\u001b[0m\u001b[0;34m,\u001b[0m \u001b[0morder\u001b[0m\u001b[0;34m=\u001b[0m\u001b[0morder\u001b[0m\u001b[0;34m)\u001b[0m\u001b[0;34m\u001b[0m\u001b[0m\n\u001b[0m\u001b[1;32m     86\u001b[0m \u001b[0;34m\u001b[0m\u001b[0m\n\u001b[1;32m     87\u001b[0m \u001b[0;34m\u001b[0m\u001b[0m\n",
      "\u001b[0;31mKeyboardInterrupt\u001b[0m: "
     ]
    }
   ],
   "source": [
    "n_iter = 0\n",
    "t_batch = 50\n",
    "v_batch = 50\n",
    "cal_interval = 10\n",
    "prt_interval = 100\n",
    " \n",
    "early_stopping = False\n",
    "accr_train, accr_valid, loss_train, loss_valid = [], [], [], []\n",
    "hist = training_history(accr_train, accr_valid, loss_train, loss_valid)\n",
    "hist.table()\n",
    "\n",
    "start_time = time.time()\n",
    "\n",
    "while True:\n",
    "    neg_train_x, neg_train_y = load_random_minibatch(neg_train_path, cls = 0, batch_size = t_batch)\n",
    "    a_train_x, a_train_y = load_random_minibatch(a_train_path, cls = 1, batch_size = t_batch)\n",
    "    train_x = np.vstack([neg_train_x, a_train_x])\n",
    "    train_y = np.vstack([neg_train_y, a_train_y])\n",
    "    train_x, train_y = shuffle(train_x, train_y)\n",
    "    \n",
    "    sess.run(optm, feed_dict = {'img:0': train_x, 'label:0': train_y, 'is_training:0' :1, LR: D_lr[n_iter]})\n",
    "    n_iter += 1\n",
    "    \n",
    "    if n_iter % cal_interval == 0:\n",
    "        c, p = sess.run([loss, score], feed_dict = {'img:0': train_x, 'label:0': train_y, 'is_training:0' :0})\n",
    "\n",
    "        p = np.argmax(p, axis = 1)\n",
    "        l = np.argmax(train_y, axis = 1)\n",
    "        a = np.mean(np.equal(p, l))\n",
    "        \n",
    "        neg_valid_x, neg_valid_y = load_random_minibatch(neg_valid_path, cls = 0, batch_size = v_batch)\n",
    "        a_valid_x, a_valid_y = load_random_minibatch(a_valid_path, cls = 1, batch_size = v_batch)\n",
    "        valid_x = np.vstack([neg_valid_x, a_valid_x])\n",
    "        valid_y = np.vstack([neg_valid_y, a_valid_y])\n",
    "        \n",
    "        c_valid, p_valid = sess.run([loss, score], feed_dict = {'img:0': valid_x, 'label:0': valid_y, 'is_training:0' :0})\n",
    "\n",
    "        p_valid = np.argmax(p_valid, axis = 1)\n",
    "        l_valid = np.argmax(valid_y, axis = 1)\n",
    "        a_valid = np.mean(np.equal(p_valid, l_valid))\n",
    "\n",
    "        accr_valid.append(a_valid)\n",
    "        loss_valid.append(c_valid)\n",
    "        accr_train.append(a)\n",
    "        loss_train.append(c)\n",
    "\n",
    "        if n_iter % prt_interval == 0:\n",
    "            hist.prt_evl(n_iter)\n",
    "\n",
    "        if loss_valid[-1] == np.min(loss_valid):\n",
    "            now = datetime.datetime.now()\n",
    "            nowDatetime = now.strftime('%y%m%d%H%M')\n",
    "            model_name = 'ENTIRE(TOTAL)_ND_{0}_{1}_val_acc_{2:.2f}_val_loss_{3:.6f}'.format(nowDatetime, n_iter, accr_valid[-1], loss_valid[-1])\n",
    "            saver.save(sess, './model/ENTIRE(TOTAL)/' + model_name)\n",
    "        if n_iter == 15000:\n",
    "            break\n",
    "#         if n_iter > 5000:\n",
    "#             if np.max(accr_train) < 0.9:\n",
    "#                 if np.mean(loss_train[-50:-30]) <= np.mean(loss_train[-30:]) :\n",
    "#                     hist.early_under(n_iter)\n",
    "#                     early_stopping = True\n",
    "#                     break\n",
    "#             if np.mean(accr_train[-50:]) >= 0.995:\n",
    "#                 if (\n",
    "#                     np.mean(loss_valid[-41:-21]) <= np.mean(loss_valid[-21:-1]) and\n",
    "#                     loss_valid[-1] < loss_valid[-2] # np.min(loss_valid[-20:]) == loss_valid[-1]\n",
    "#                     ):\n",
    "#                     hist.early_over(n_iter)\n",
    "#                     early_stopping = True\n",
    "#                     break          \n",
    "    \n",
    "train_time = int((time.time() - start_time)/60)  \n",
    "hist.done(n_iter, train_time, early_stopping)\n",
    "\n",
    "hist.plot(cal_interval)   \n",
    "\n",
    "# sess.close()"
   ]
  }
 ],
 "metadata": {
  "hide_input": false,
  "kernelspec": {
   "display_name": "Python 3",
   "language": "python",
   "name": "python3"
  },
  "language_info": {
   "codemirror_mode": {
    "name": "ipython",
    "version": 3
   },
   "file_extension": ".py",
   "mimetype": "text/x-python",
   "name": "python",
   "nbconvert_exporter": "python",
   "pygments_lexer": "ipython3",
   "version": "3.5.2"
  },
  "toc": {
   "base_numbering": 1,
   "nav_menu": {},
   "number_sections": true,
   "sideBar": true,
   "skip_h1_title": false,
   "title_cell": "Table of Contents",
   "title_sidebar": "Contents",
   "toc_cell": false,
   "toc_position": {},
   "toc_section_display": true,
   "toc_window_display": false
  }
 },
 "nbformat": 4,
 "nbformat_minor": 2
}
