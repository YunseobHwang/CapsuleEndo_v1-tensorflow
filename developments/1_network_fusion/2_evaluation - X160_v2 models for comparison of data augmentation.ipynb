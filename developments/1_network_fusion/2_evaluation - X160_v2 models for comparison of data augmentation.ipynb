{
 "cells": [
  {
   "cell_type": "code",
   "execution_count": 1,
   "metadata": {
    "ExecuteTime": {
     "end_time": "2020-04-01T04:06:14.217272Z",
     "start_time": "2020-04-01T04:06:08.064001Z"
    }
   },
   "outputs": [
    {
     "name": "stdout",
     "output_type": "stream",
     "text": [
      "Wed Apr  1 13:06:13 2020       \r\n",
      "+-----------------------------------------------------------------------------+\r\n",
      "| NVIDIA-SMI 430.26       Driver Version: 430.26       CUDA Version: 10.2     |\r\n",
      "|-------------------------------+----------------------+----------------------+\r\n",
      "| GPU  Name        Persistence-M| Bus-Id        Disp.A | Volatile Uncorr. ECC |\r\n",
      "| Fan  Temp  Perf  Pwr:Usage/Cap|         Memory-Usage | GPU-Util  Compute M. |\r\n",
      "|===============================+======================+======================|\r\n",
      "|   0  GeForce RTX 208...  Off  | 00000000:1D:00.0 Off |                  N/A |\r\n",
      "| 27%   37C    P0    53W / 250W |      0MiB / 11019MiB |      0%      Default |\r\n",
      "+-------------------------------+----------------------+----------------------+\r\n",
      "|   1  GeForce RTX 208...  Off  | 00000000:1E:00.0 Off |                  N/A |\r\n",
      "| 28%   38C    P0    61W / 250W |      0MiB / 11019MiB |      0%      Default |\r\n",
      "+-------------------------------+----------------------+----------------------+\r\n",
      "|   2  GeForce RTX 208...  Off  | 00000000:1F:00.0 Off |                  N/A |\r\n",
      "| 27%   36C    P0    62W / 250W |      0MiB / 11019MiB |      0%      Default |\r\n",
      "+-------------------------------+----------------------+----------------------+\r\n",
      "|   3  GeForce RTX 208...  Off  | 00000000:20:00.0 Off |                  N/A |\r\n",
      "| 30%   49C    P2   175W / 250W |  10923MiB / 11019MiB |     48%      Default |\r\n",
      "+-------------------------------+----------------------+----------------------+\r\n",
      "|   4  GeForce RTX 208...  Off  | 00000000:21:00.0 Off |                  N/A |\r\n",
      "| 28%   39C    P0    66W / 250W |      0MiB / 11019MiB |      0%      Default |\r\n",
      "+-------------------------------+----------------------+----------------------+\r\n",
      "|   5  GeForce RTX 208...  Off  | 00000000:22:00.0 Off |                  N/A |\r\n",
      "| 29%   38C    P0    58W / 250W |      0MiB / 11019MiB |      1%      Default |\r\n",
      "+-------------------------------+----------------------+----------------------+\r\n",
      "|   6  GeForce RTX 208...  Off  | 00000000:23:00.0 Off |                  N/A |\r\n",
      "| 31%   38C    P0    59W / 250W |      0MiB / 11019MiB |      1%      Default |\r\n",
      "+-------------------------------+----------------------+----------------------+\r\n",
      "|   7  GeForce RTX 208...  Off  | 00000000:24:00.0 Off |                  N/A |\r\n",
      "| 17%   38C    P0     1W / 250W |      0MiB / 11019MiB |      0%      Default |\r\n",
      "+-------------------------------+----------------------+----------------------+\r\n",
      "                                                                               \r\n",
      "+-----------------------------------------------------------------------------+\r\n",
      "| Processes:                                                       GPU Memory |\r\n",
      "|  GPU       PID   Type   Process name                             Usage      |\r\n",
      "|=============================================================================|\r\n",
      "|    3     19284      C   /usr/bin/python3                           10913MiB |\r\n",
      "+-----------------------------------------------------------------------------+\r\n"
     ]
    }
   ],
   "source": [
    "!nvidia-smi"
   ]
  },
  {
   "cell_type": "code",
   "execution_count": 2,
   "metadata": {
    "ExecuteTime": {
     "end_time": "2020-01-27T06:48:53.624684Z",
     "start_time": "2020-01-27T06:48:51.648790Z"
    },
    "scrolled": true
   },
   "outputs": [
    {
     "name": "stderr",
     "output_type": "stream",
     "text": [
      "/usr/local/lib/python3.5/dist-packages/tensorflow/python/framework/dtypes.py:516: FutureWarning: Passing (type, 1) or '1type' as a synonym of type is deprecated; in a future version of numpy, it will be understood as (type, (1,)) / '(1,)type'.\n",
      "  _np_qint8 = np.dtype([(\"qint8\", np.int8, 1)])\n",
      "/usr/local/lib/python3.5/dist-packages/tensorflow/python/framework/dtypes.py:517: FutureWarning: Passing (type, 1) or '1type' as a synonym of type is deprecated; in a future version of numpy, it will be understood as (type, (1,)) / '(1,)type'.\n",
      "  _np_quint8 = np.dtype([(\"quint8\", np.uint8, 1)])\n",
      "/usr/local/lib/python3.5/dist-packages/tensorflow/python/framework/dtypes.py:518: FutureWarning: Passing (type, 1) or '1type' as a synonym of type is deprecated; in a future version of numpy, it will be understood as (type, (1,)) / '(1,)type'.\n",
      "  _np_qint16 = np.dtype([(\"qint16\", np.int16, 1)])\n",
      "/usr/local/lib/python3.5/dist-packages/tensorflow/python/framework/dtypes.py:519: FutureWarning: Passing (type, 1) or '1type' as a synonym of type is deprecated; in a future version of numpy, it will be understood as (type, (1,)) / '(1,)type'.\n",
      "  _np_quint16 = np.dtype([(\"quint16\", np.uint16, 1)])\n",
      "/usr/local/lib/python3.5/dist-packages/tensorflow/python/framework/dtypes.py:520: FutureWarning: Passing (type, 1) or '1type' as a synonym of type is deprecated; in a future version of numpy, it will be understood as (type, (1,)) / '(1,)type'.\n",
      "  _np_qint32 = np.dtype([(\"qint32\", np.int32, 1)])\n",
      "/usr/local/lib/python3.5/dist-packages/tensorflow/python/framework/dtypes.py:525: FutureWarning: Passing (type, 1) or '1type' as a synonym of type is deprecated; in a future version of numpy, it will be understood as (type, (1,)) / '(1,)type'.\n",
      "  np_resource = np.dtype([(\"resource\", np.ubyte, 1)])\n",
      "/usr/local/lib/python3.5/dist-packages/tensorboard/compat/tensorflow_stub/dtypes.py:541: FutureWarning: Passing (type, 1) or '1type' as a synonym of type is deprecated; in a future version of numpy, it will be understood as (type, (1,)) / '(1,)type'.\n",
      "  _np_qint8 = np.dtype([(\"qint8\", np.int8, 1)])\n",
      "/usr/local/lib/python3.5/dist-packages/tensorboard/compat/tensorflow_stub/dtypes.py:542: FutureWarning: Passing (type, 1) or '1type' as a synonym of type is deprecated; in a future version of numpy, it will be understood as (type, (1,)) / '(1,)type'.\n",
      "  _np_quint8 = np.dtype([(\"quint8\", np.uint8, 1)])\n",
      "/usr/local/lib/python3.5/dist-packages/tensorboard/compat/tensorflow_stub/dtypes.py:543: FutureWarning: Passing (type, 1) or '1type' as a synonym of type is deprecated; in a future version of numpy, it will be understood as (type, (1,)) / '(1,)type'.\n",
      "  _np_qint16 = np.dtype([(\"qint16\", np.int16, 1)])\n",
      "/usr/local/lib/python3.5/dist-packages/tensorboard/compat/tensorflow_stub/dtypes.py:544: FutureWarning: Passing (type, 1) or '1type' as a synonym of type is deprecated; in a future version of numpy, it will be understood as (type, (1,)) / '(1,)type'.\n",
      "  _np_quint16 = np.dtype([(\"quint16\", np.uint16, 1)])\n",
      "/usr/local/lib/python3.5/dist-packages/tensorboard/compat/tensorflow_stub/dtypes.py:545: FutureWarning: Passing (type, 1) or '1type' as a synonym of type is deprecated; in a future version of numpy, it will be understood as (type, (1,)) / '(1,)type'.\n",
      "  _np_qint32 = np.dtype([(\"qint32\", np.int32, 1)])\n",
      "/usr/local/lib/python3.5/dist-packages/tensorboard/compat/tensorflow_stub/dtypes.py:550: FutureWarning: Passing (type, 1) or '1type' as a synonym of type is deprecated; in a future version of numpy, it will be understood as (type, (1,)) / '(1,)type'.\n",
      "  np_resource = np.dtype([(\"resource\", np.ubyte, 1)])\n"
     ]
    }
   ],
   "source": [
    "import os\n",
    "os.environ[\"CUDA_DEVICE_ORDER\"]=\"PCI_BUS_ID\"\n",
    "os.environ[\"CUDA_VISIBLE_DEVICES\"]=\"3\"\n",
    "\n",
    "import numpy as np\n",
    "import matplotlib.pyplot as plt\n",
    "import cv2\n",
    "\n",
    "import sys\n",
    "sys.path.append('/mnt/disk1/project/SMhospital/capsule/ce_packages')\n",
    "\n",
    "from ce_utils import load_data, one_hot, test_batch_idxs, batch_flatten\n",
    "from ce_utils import model_prob\n",
    "from ce_utils import classification_metric\n",
    "from ce_model import binary_model, ensemble_model"
   ]
  },
  {
   "cell_type": "markdown",
   "metadata": {},
   "source": [
    "# Load Data"
   ]
  },
  {
   "cell_type": "code",
   "execution_count": 3,
   "metadata": {
    "ExecuteTime": {
     "end_time": "2020-01-27T06:51:15.740879Z",
     "start_time": "2020-01-27T06:51:15.709034Z"
    }
   },
   "outputs": [],
   "source": [
    "from itertools import product\n",
    "import glob\n",
    "\n",
    "def target_preprocessings(phase_a_switch = [1, 1, 1], phase_b_switch = True, mode = 'load'):\n",
    "    \"\"\"\n",
    "    phase_a_switch = [1, 1, 1], [0, 0 ,1], [1, 1, 0].... \n",
    "    that means [flip, rotate, blur_sharp]\n",
    "    \"\"\"\n",
    "    phase0 = ['_c']\n",
    "    phase1 = {1: ['-', 'f'], 0: ['-']}\n",
    "    phase2 = {1: ['-', 'r1', 'r2', 'r3'], 0: ['-']}\n",
    "    phase3 = {1: ['-', 'ab', 'mb', 'eh'], 0: ['-']}\n",
    "    phase4 = ['s_-30_v_30', 's_-30_v_-30', 's_30_v_-30', 's_30_v_30']\n",
    "    \n",
    "    if mode == 'load':\n",
    "        phase_a_items = [phase1[phase_a_switch[0]], phase2[phase_a_switch[1]], phase3[phase_a_switch[2]]]\n",
    "    elif mode == 'preprocessing':\n",
    "        phase_a_items = [phase0, phase1[phase_a_switch[0]], phase2[phase_a_switch[1]], phase3[phase_a_switch[2]]]\n",
    "    \n",
    "    phase_a = []\n",
    "    for i in list(product(*phase_a_items)):\n",
    "        phase_a.append('_'.join(i))\n",
    "\n",
    "    if not phase_b_switch != True:\n",
    "        phase_b = []\n",
    "        for i in list(product(*[phase_a, phase4])):\n",
    "            phase_b.append('_'.join(i))\n",
    "        return list(np.hstack([phase_a, phase_b]))\n",
    "    else:\n",
    "        return phase_a \n",
    "\n",
    "class ce_load_dataset:\n",
    "    def __init__(self, phase, data, pre_a, pre_b, img_ch = 'bgr', ext_name = True):\n",
    "        self.phase = phase        # 'train' or 'test'\n",
    "        self.data = data          # 'sm', 'sm_core', 'sm_v2', 'sm_x160', ...\n",
    "        self.pre_a = pre_a        # [1, 1, 1], [0, 0 ,1], [1, 1, 0].... \n",
    "        self.pre_b = pre_b        # True or False\n",
    "        self.img_ch = img_ch      # 'bgr', 'rgb', and 'hsv'\n",
    "        self.ext_name = ext_name  # True or False\n",
    "\n",
    "    def load_path(self, cls, les, data_dir = '/mnt/disk2/data/private_data/SMhospital/capsule/1 preprocessed'):\n",
    "        \"\"\"\n",
    "        phase = 'train', 'test'\n",
    "        cls: [les]  \n",
    "          'n': ['neg']\n",
    "          'h': ['redspot', 'angio', 'active'], \n",
    "          'd': ['ero', 'ulc', 'str'],\n",
    "          'p': ['amp', 'lym', 'tum']}\n",
    "        pre_a[0] must be 0\n",
    "        \"\"\"\n",
    "        lesions = dict(neg = 'negative', \n",
    "                       redspot = 'red_spot', angio = 'angioectasia', active = 'active_bleeding', \n",
    "                       ero = 'erosion', ulcer = 'ulcer', str = 'stricture', \n",
    "                       amp = 'ampulla_of_vater', lym = 'lymphoid_follicles', tum = 'small_bowel_tumor')\n",
    "        classes = dict(n = 'negative', h = 'hemorrhagic', d = 'depressed', p = 'protruded')\n",
    "\n",
    "        path = os.path.join(data_dir, self.data, self.phase, classes[cls], lesions[les])\n",
    "        pathlist = glob.glob(path + '/*.jpg')\n",
    "        if self.pre_b != True:\n",
    "            path_in_phase = []\n",
    "            for p in pathlist:\n",
    "                name = os.path.basename(p)\n",
    "                if (name.split('c_')[-1])[:-4] in target_preprocessings(self.pre_a, self.pre_b):\n",
    "                    path_in_phase.append(p)   \n",
    "            return np.asarray(path_in_phase)\n",
    "        else:\n",
    "            return np.asarray(pathlist)\n",
    "\n",
    "    def load_image_from_path(self, pathlist,image_ch = 'bgr', extract_name = False):\n",
    "        data = []\n",
    "        for i in pathlist:\n",
    "            temp = cv2.imread(i)\n",
    "            if image_ch == 'bgr':\n",
    "                pass\n",
    "            elif image_ch == 'rgb':\n",
    "                temp = cv2.cvtColor(temp, cv2.COLOR_BGR2RGB)\n",
    "            elif image_ch == 'hsv':\n",
    "                temp = cv2.cvtColor(temp, cv2.COLOR_BGR2HSV)\n",
    "            data.append(temp)\n",
    "        if extract_name != False:\n",
    "            name = []\n",
    "            for i in pathlist:\n",
    "                name.append(os.path.basename(i))\n",
    "            return np.asarray(data), np.asarray(name)\n",
    "        else:\n",
    "            return np.asarray(data) \n",
    "\n",
    "    def load_data(self, cls, les):\n",
    "        pathlist = self.load_path(cls, les)\n",
    "        return  self.load_image_from_path(pathlist, image_ch = self.img_ch, extract_name = self.ext_name)"
   ]
  },
  {
   "cell_type": "code",
   "execution_count": 4,
   "metadata": {
    "ExecuteTime": {
     "end_time": "2020-01-27T06:51:21.555958Z",
     "start_time": "2020-01-27T06:51:21.550020Z"
    }
   },
   "outputs": [],
   "source": [
    "ce = ce_load_dataset(phase = 'test', data = 'sm_x160_v2', pre_a = [0, 0, 0], pre_b = False)"
   ]
  },
  {
   "cell_type": "code",
   "execution_count": 5,
   "metadata": {
    "ExecuteTime": {
     "end_time": "2020-01-27T06:51:34.065935Z",
     "start_time": "2020-01-27T06:51:25.583640Z"
    }
   },
   "outputs": [
    {
     "name": "stdout",
     "output_type": "stream",
     "text": [
      "negative: (1562, 512, 512, 3) (1562, 2)\n",
      "red spot: (139, 512, 512, 3) (139, 2)\n",
      "angioectasia: (5, 512, 512, 3) (5, 2)\n",
      "active_bleeding: (108, 512, 512, 3) (108, 2)\n",
      "erosion: (185, 512, 512, 3) (185, 2)\n",
      "ulcer: (183, 512, 512, 3) (183, 2)\n",
      "stricture: (26, 512, 512, 3) (26, 2)\n"
     ]
    }
   ],
   "source": [
    "neg_testset = ce.load_data('n', 'neg')\n",
    "redspot_testset = ce.load_data('h', 'redspot')\n",
    "angio_testset = ce.load_data('h', 'angio')\n",
    "active_testset = ce.load_data('h', 'active')\n",
    "ero_testset = ce.load_data('d', 'ero')\n",
    "ulcer_testset = ce.load_data('d', 'ulcer')\n",
    "str_testset = ce.load_data('d', 'str')\n",
    "\n",
    "neg_label = one_hot(neg_testset[0], 0)\n",
    "redspot_label = one_hot(redspot_testset[0], 1)\n",
    "angio_label = one_hot(angio_testset[0], 1)\n",
    "active_label = one_hot(active_testset[0], 1)\n",
    "ero_label = one_hot(ero_testset[0], 1)\n",
    "ulcer_label = one_hot(ulcer_testset[0], 1)\n",
    "str_label = one_hot(str_testset[0], 1)\n",
    "\n",
    "print(\"negative:\",neg_testset[0].shape, neg_label.shape)\n",
    "print(\"red spot:\",redspot_testset[0].shape, redspot_label.shape)\n",
    "print(\"angioectasia:\",angio_testset[0].shape, angio_label.shape)\n",
    "print(\"active_bleeding:\",active_testset[0].shape, active_label.shape)\n",
    "print(\"erosion:\",ero_testset[0].shape, ero_label.shape)\n",
    "print(\"ulcer:\",ulcer_testset[0].shape, ulcer_label.shape)\n",
    "print(\"stricture:\",str_testset[0].shape, str_label.shape)"
   ]
  },
  {
   "cell_type": "code",
   "execution_count": 6,
   "metadata": {
    "ExecuteTime": {
     "end_time": "2020-01-27T06:51:38.868655Z",
     "start_time": "2020-01-27T06:51:38.856365Z"
    }
   },
   "outputs": [
    {
     "data": {
      "text/plain": [
       "array(['AJ___02-08-16___1015395__c_-_-_-.jpg',\n",
       "       'DJ___01-58-32___1014228__c_-_-_-.jpg',\n",
       "       'DJ___01-59-21___1014325__c_-_-_-.jpg', ...,\n",
       "       '희정___04-45-38___2047831__c_-_-_-.jpg',\n",
       "       '희정___05-17-56___2052919__c_-_-_-.jpg',\n",
       "       '희정___05-19-44___2053248__c_-_-_-.jpg'], dtype='<U37')"
      ]
     },
     "execution_count": 6,
     "metadata": {},
     "output_type": "execute_result"
    }
   ],
   "source": [
    "neg_testset[1]"
   ]
  },
  {
   "cell_type": "markdown",
   "metadata": {},
   "source": [
    "# Model Inference"
   ]
  },
  {
   "cell_type": "code",
   "execution_count": 7,
   "metadata": {
    "ExecuteTime": {
     "end_time": "2020-01-27T06:52:29.604997Z",
     "start_time": "2020-01-27T06:52:29.598054Z"
    }
   },
   "outputs": [],
   "source": [
    "b_list = sorted([i[:-5] for i in os.listdir('./model/X160_v2/comparison') if 'meta' in i])"
   ]
  },
  {
   "cell_type": "code",
   "execution_count": 9,
   "metadata": {
    "ExecuteTime": {
     "end_time": "2020-01-27T06:52:36.011971Z",
     "start_time": "2020-01-27T06:52:36.003464Z"
    }
   },
   "outputs": [
    {
     "data": {
      "text/plain": [
       "['X160_v2_B_2001231929_120_t_acc_0.61_v_acc_0.59_t_loss_0.656259_v_loss_0.651237',\n",
       " 'X160_v2_B_2001231929_130_t_acc_0.63_v_acc_0.61_t_loss_0.641107_v_loss_0.643231',\n",
       " 'X160_v2_B_2001231930_140_t_acc_0.65_v_acc_0.64_t_loss_0.622017_v_loss_0.621604',\n",
       " 'X160_v2_B_2001231930_150_t_acc_0.67_v_acc_0.67_t_loss_0.610996_v_loss_0.599846',\n",
       " 'X160_v2_B_2001231930_160_t_acc_0.69_v_acc_0.69_t_loss_0.597492_v_loss_0.582524',\n",
       " 'X160_v2_B_2001231957_10_t_acc_0.64_v_acc_0.48_t_loss_0.687736_v_loss_0.692382',\n",
       " 'X160_v2_B_2001232006_30_t_acc_0.56_v_acc_0.54_t_loss_0.685987_v_loss_0.688833',\n",
       " 'X160_v2_B_2001232006_40_t_acc_0.56_v_acc_0.55_t_loss_0.683776_v_loss_0.687903',\n",
       " 'X160_v2_B_2001232007_50_t_acc_0.58_v_acc_0.58_t_loss_0.679669_v_loss_0.682847',\n",
       " 'X160_v2_B_2001232007_60_t_acc_0.61_v_acc_0.61_t_loss_0.669189_v_loss_0.673316',\n",
       " 'X160_v2_B_2001232007_70_t_acc_0.63_v_acc_0.61_t_loss_0.659057_v_loss_0.663516',\n",
       " 'X160_v2_B_2001232039_1660_t_acc_0.90_v_acc_0.85_t_loss_0.260919_v_loss_0.351091',\n",
       " 'X160_v2_B_2001232042_1780_t_acc_0.90_v_acc_0.87_t_loss_0.230283_v_loss_0.334447',\n",
       " 'X160_v2_B_2001232042_1790_t_acc_0.91_v_acc_0.87_t_loss_0.225771_v_loss_0.333798',\n",
       " 'X160_v2_B_2001232042_1800_t_acc_0.91_v_acc_0.88_t_loss_0.220298_v_loss_0.322933',\n",
       " 'X160_v2_B_2001232042_1810_t_acc_0.91_v_acc_0.87_t_loss_0.218927_v_loss_0.321115',\n",
       " 'X160_v2_b_B_2001232047_1970_t_acc_0.91_v_acc_0.90_t_loss_0.220860_v_loss_0.246902',\n",
       " 'X160_v2_b_B_2001232051_2210_t_acc_0.93_v_acc_0.91_t_loss_0.178654_v_loss_0.234910',\n",
       " 'X160_v2_b_B_2001232052_2220_t_acc_0.93_v_acc_0.91_t_loss_0.184860_v_loss_0.234360',\n",
       " 'X160_v2_b_B_2001232052_2230_t_acc_0.93_v_acc_0.92_t_loss_0.182871_v_loss_0.229571',\n",
       " 'X160_v2_b_B_2001232052_2240_t_acc_0.93_v_acc_0.92_t_loss_0.182928_v_loss_0.218141',\n",
       " 'X160_v2_f_B_2001231929_100_t_acc_0.57_v_acc_0.60_t_loss_0.667579_v_loss_0.665111',\n",
       " 'X160_v2_f_B_2001231929_90_t_acc_0.55_v_acc_0.58_t_loss_0.683361_v_loss_0.674656',\n",
       " 'X160_v2_f_B_2001231930_110_t_acc_0.60_v_acc_0.61_t_loss_0.653310_v_loss_0.648786',\n",
       " 'X160_v2_f_B_2001231930_120_t_acc_0.63_v_acc_0.63_t_loss_0.633931_v_loss_0.634030',\n",
       " 'X160_v2_f_B_2001231930_130_t_acc_0.65_v_acc_0.65_t_loss_0.625962_v_loss_0.620718',\n",
       " 'X160_v2_f_B_2001231957_10_t_acc_0.52_v_acc_0.53_t_loss_0.694620_v_loss_0.691171',\n",
       " 'X160_v2_f_B_2001232046_2520_t_acc_0.93_v_acc_0.92_t_loss_0.166061_v_loss_0.197793',\n",
       " 'X160_v2_f_B_2001232046_2530_t_acc_0.94_v_acc_0.93_t_loss_0.167918_v_loss_0.188035',\n",
       " 'X160_v2_f_B_2001232102_3360_t_acc_0.94_v_acc_0.94_t_loss_0.143564_v_loss_0.180548',\n",
       " 'X160_v2_f_B_2001232102_3370_t_acc_0.95_v_acc_0.95_t_loss_0.129959_v_loss_0.177794',\n",
       " 'X160_v2_f_B_2001232102_3410_t_acc_0.96_v_acc_0.94_t_loss_0.111460_v_loss_0.173293',\n",
       " 'X160_v2_fr_B_2001241151_4440_t_acc_0.95_v_acc_0.95_t_loss_0.123020_v_loss_0.134710',\n",
       " 'X160_v2_fr_B_2001241152_4470_t_acc_0.95_v_acc_0.95_t_loss_0.121472_v_loss_0.131683',\n",
       " 'X160_v2_fr_B_2001241224_6290_t_acc_0.97_v_acc_0.95_t_loss_0.092030_v_loss_0.126429',\n",
       " 'X160_v2_fr_B_2001241225_6330_t_acc_0.97_v_acc_0.95_t_loss_0.093978_v_loss_0.122219',\n",
       " 'X160_v2_fr_B_2001241254_7940_t_acc_0.98_v_acc_0.96_t_loss_0.062579_v_loss_0.118580',\n",
       " 'X160_v2_r_B_2001231929_40_t_acc_0.52_v_acc_0.54_t_loss_0.692677_v_loss_0.692310',\n",
       " 'X160_v2_r_B_2001231929_50_t_acc_0.54_v_acc_0.56_t_loss_0.691782_v_loss_0.691603',\n",
       " 'X160_v2_r_B_2001231930_60_t_acc_0.55_v_acc_0.56_t_loss_0.690712_v_loss_0.690985',\n",
       " 'X160_v2_r_B_2001231930_70_t_acc_0.54_v_acc_0.57_t_loss_0.689344_v_loss_0.688501',\n",
       " 'X160_v2_r_B_2001231930_80_t_acc_0.56_v_acc_0.59_t_loss_0.686115_v_loss_0.683083',\n",
       " 'X160_v2_r_B_2001232124_4200_t_acc_0.96_v_acc_0.94_t_loss_0.119480_v_loss_0.139085',\n",
       " 'X160_v2_r_B_2001232125_4230_t_acc_0.95_v_acc_0.95_t_loss_0.117029_v_loss_0.135151',\n",
       " 'X160_v2_r_B_2001232134_4730_t_acc_0.95_v_acc_0.95_t_loss_0.113065_v_loss_0.130679',\n",
       " 'X160_v2_r_B_2001232134_4740_t_acc_0.95_v_acc_0.95_t_loss_0.112664_v_loss_0.128015',\n",
       " 'X160_v2_r_B_2001232134_4750_t_acc_0.96_v_acc_0.96_t_loss_0.119850_v_loss_0.116892',\n",
       " 'X160_v2_sv_B_2001232056_2130_t_acc_0.92_v_acc_0.92_t_loss_0.201637_v_loss_0.215632',\n",
       " 'X160_v2_sv_B_2001232057_2160_t_acc_0.93_v_acc_0.92_t_loss_0.177994_v_loss_0.213911',\n",
       " 'X160_v2_sv_B_2001232107_2680_t_acc_0.91_v_acc_0.93_t_loss_0.195421_v_loss_0.210834',\n",
       " 'X160_v2_sv_B_2001232107_2690_t_acc_0.92_v_acc_0.93_t_loss_0.194906_v_loss_0.204824',\n",
       " 'X160_v2_sv_B_2001232107_2700_t_acc_0.93_v_acc_0.92_t_loss_0.180744_v_loss_0.204723']"
      ]
     },
     "execution_count": 9,
     "metadata": {},
     "output_type": "execute_result"
    }
   ],
   "source": [
    "b_list"
   ]
  },
  {
   "cell_type": "code",
   "execution_count": 10,
   "metadata": {
    "ExecuteTime": {
     "end_time": "2020-01-27T06:57:19.661086Z",
     "start_time": "2020-01-27T06:57:19.655044Z"
    }
   },
   "outputs": [],
   "source": [
    "b_list = {0: 'X160_v2_B_2001232042_1810_t_acc_0.91_v_acc_0.87_t_loss_0.218927_v_loss_0.321115', \n",
    "          1: 'X160_v2_f_B_2001232102_3410_t_acc_0.96_v_acc_0.94_t_loss_0.111460_v_loss_0.173293', \n",
    "          2: 'X160_v2_r_B_2001232134_4750_t_acc_0.96_v_acc_0.96_t_loss_0.119850_v_loss_0.116892', \n",
    "          3: 'X160_v2_b_B_2001232052_2240_t_acc_0.93_v_acc_0.92_t_loss_0.182928_v_loss_0.218141', \n",
    "          4: 'X160_v2_sv_B_2001232107_2700_t_acc_0.93_v_acc_0.92_t_loss_0.180744_v_loss_0.204723', \n",
    "          5: 'X160_v2_fr_B_2001241254_7940_t_acc_0.98_v_acc_0.96_t_loss_0.062579_v_loss_0.118580'}"
   ]
  },
  {
   "cell_type": "code",
   "execution_count": 14,
   "metadata": {
    "ExecuteTime": {
     "end_time": "2020-01-27T07:08:12.094528Z",
     "start_time": "2020-01-27T07:06:56.753396Z"
    }
   },
   "outputs": [
    {
     "name": "stdout",
     "output_type": "stream",
     "text": [
      "X160_v2_B\n",
      "#: 1562 / Inference Time: 00:00:08\n",
      "#: 139 / Inference Time: 00:00:00\n",
      "#: 5 / Inference Time: 00:00:00\n",
      "#: 108 / Inference Time: 00:00:00\n",
      "#: 185 / Inference Time: 00:00:01\n",
      "#: 183 / Inference Time: 00:00:00\n",
      "#: 26 / Inference Time: 00:00:00\n",
      "negative: 87.84 %\n",
      "red spot: 56.12 %\n",
      "angioectasia: 40.00 %\n",
      "active bleeding: 95.37 %\n",
      "erosion: 87.03 %\n",
      "ulcer: 89.62 %\n",
      "stricture: 88.46 %\n",
      "total: 86.19 %\n",
      "\n",
      "X160_v2_f_B\n",
      "#: 1562 / Inference Time: 00:00:08\n",
      "#: 139 / Inference Time: 00:00:00\n",
      "#: 5 / Inference Time: 00:00:00\n",
      "#: 108 / Inference Time: 00:00:00\n",
      "#: 185 / Inference Time: 00:00:00\n",
      "#: 183 / Inference Time: 00:00:00\n",
      "#: 26 / Inference Time: 00:00:00\n",
      "negative: 96.67 %\n",
      "red spot: 79.14 %\n",
      "angioectasia: 100.00 %\n",
      "active bleeding: 99.07 %\n",
      "erosion: 94.59 %\n",
      "ulcer: 88.52 %\n",
      "stricture: 88.46 %\n",
      "total: 94.75 %\n",
      "\n",
      "X160_v2_r_B\n",
      "#: 1562 / Inference Time: 00:00:08\n",
      "#: 139 / Inference Time: 00:00:00\n",
      "#: 5 / Inference Time: 00:00:00\n",
      "#: 108 / Inference Time: 00:00:00\n",
      "#: 185 / Inference Time: 00:00:01\n",
      "#: 183 / Inference Time: 00:00:00\n",
      "#: 26 / Inference Time: 00:00:00\n",
      "negative: 97.31 %\n",
      "red spot: 86.33 %\n",
      "angioectasia: 100.00 %\n",
      "active bleeding: 98.15 %\n",
      "erosion: 94.59 %\n",
      "ulcer: 86.34 %\n",
      "stricture: 96.15 %\n",
      "total: 95.52 %\n",
      "\n",
      "X160_v2_b_B\n",
      "#: 1562 / Inference Time: 00:00:08\n",
      "#: 139 / Inference Time: 00:00:00\n",
      "#: 5 / Inference Time: 00:00:00\n",
      "#: 108 / Inference Time: 00:00:00\n",
      "#: 185 / Inference Time: 00:00:00\n",
      "#: 183 / Inference Time: 00:00:00\n",
      "#: 26 / Inference Time: 00:00:00\n",
      "negative: 93.02 %\n",
      "red spot: 67.63 %\n",
      "angioectasia: 80.00 %\n",
      "active bleeding: 99.07 %\n",
      "erosion: 93.51 %\n",
      "ulcer: 88.52 %\n",
      "stricture: 100.00 %\n",
      "total: 91.44 %\n",
      "\n",
      "X160_v2_sv_B\n",
      "#: 1562 / Inference Time: 00:00:08\n",
      "#: 139 / Inference Time: 00:00:00\n",
      "#: 5 / Inference Time: 00:00:00\n",
      "#: 108 / Inference Time: 00:00:00\n",
      "#: 185 / Inference Time: 00:00:00\n",
      "#: 183 / Inference Time: 00:00:00\n",
      "#: 26 / Inference Time: 00:00:00\n",
      "negative: 94.11 %\n",
      "red spot: 77.70 %\n",
      "angioectasia: 100.00 %\n",
      "active bleeding: 99.07 %\n",
      "erosion: 96.22 %\n",
      "ulcer: 90.71 %\n",
      "stricture: 92.31 %\n",
      "total: 93.21 %\n",
      "\n",
      "X160_v2_fr_B\n",
      "#: 1562 / Inference Time: 00:00:08\n",
      "#: 139 / Inference Time: 00:00:00\n",
      "#: 5 / Inference Time: 00:00:00\n",
      "#: 108 / Inference Time: 00:00:00\n",
      "#: 185 / Inference Time: 00:00:00\n",
      "#: 183 / Inference Time: 00:00:01\n",
      "#: 26 / Inference Time: 00:00:00\n",
      "negative: 94.17 %\n",
      "red spot: 94.96 %\n",
      "angioectasia: 100.00 %\n",
      "active bleeding: 99.07 %\n",
      "erosion: 95.68 %\n",
      "ulcer: 92.35 %\n",
      "stricture: 100.00 %\n",
      "total: 94.52 %\n",
      "\n"
     ]
    }
   ],
   "source": [
    "h_label = np.vstack([redspot_label, angio_label, active_label])\n",
    "d_label = np.vstack([ero_label, ulcer_label, str_label])\n",
    "labels = np.vstack([neg_label, h_label, d_label])\n",
    "\n",
    "cls = classification_metric()\n",
    "\n",
    "for i in range(6):\n",
    "    \n",
    "    b_path = './model/X160_v2/comparison/' + b_list[i]\n",
    "    B_model = binary_model(b_path)\n",
    "    \n",
    "    print(b_list[i].split('_2001')[0])\n",
    "    \n",
    "    neg_b_output = model_prob(B_model, neg_testset[0])\n",
    "    redspot_b_output = model_prob(B_model, redspot_testset[0])\n",
    "    angio_b_output = model_prob(B_model, angio_testset[0])\n",
    "    active_b_output = model_prob(B_model, active_testset[0])\n",
    "    ero_b_output = model_prob(B_model, ero_testset[0])\n",
    "    ulcer_b_output = model_prob(B_model, ulcer_testset[0])\n",
    "    str_b_output  = model_prob(B_model, str_testset[0])\n",
    "    \n",
    "    neg_b_acc = cls.accuracy(neg_label, neg_b_output, 'negative')\n",
    "    redspot_b_acc = cls.accuracy(redspot_label, redspot_b_output, 'red spot')\n",
    "    angio_b_acc = cls.accuracy(angio_label, angio_b_output, 'angioectasia')\n",
    "    active_b_acc = cls.accuracy(active_label, active_b_output, 'active bleeding')\n",
    "    ero_b_acc = cls.accuracy(ero_label, ero_b_output, 'erosion')\n",
    "    ulcer_b_acc = cls.accuracy(ulcer_label, ulcer_b_output, 'ulcer')\n",
    "    str_b_acc = cls.accuracy(str_label, str_b_output, 'stricture')\n",
    "    \n",
    "    h_b_output = np.vstack([redspot_b_output, angio_b_output, active_b_output])\n",
    "    d_b_output = np.vstack([ero_b_output, ulcer_b_output, str_b_output])\n",
    "    b_outputs = np.vstack([neg_b_output, h_b_output, d_b_output])\n",
    "    \n",
    "    total_acc = cls.accuracy(labels, b_outputs, 'total')\n",
    "    print('')"
   ]
  }
 ],
 "metadata": {
  "hide_input": false,
  "kernelspec": {
   "display_name": "Python 3",
   "language": "python",
   "name": "python3"
  },
  "language_info": {
   "codemirror_mode": {
    "name": "ipython",
    "version": 3
   },
   "file_extension": ".py",
   "mimetype": "text/x-python",
   "name": "python",
   "nbconvert_exporter": "python",
   "pygments_lexer": "ipython3",
   "version": "3.5.2"
  },
  "toc": {
   "base_numbering": 1,
   "nav_menu": {},
   "number_sections": true,
   "sideBar": true,
   "skip_h1_title": false,
   "title_cell": "Table of Contents",
   "title_sidebar": "Contents",
   "toc_cell": false,
   "toc_position": {},
   "toc_section_display": true,
   "toc_window_display": false
  }
 },
 "nbformat": 4,
 "nbformat_minor": 2
}
