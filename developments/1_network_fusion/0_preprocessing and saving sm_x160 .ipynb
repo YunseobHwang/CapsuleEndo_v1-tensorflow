{
 "cells": [
  {
   "cell_type": "code",
   "execution_count": 3,
   "metadata": {
    "ExecuteTime": {
     "end_time": "2020-02-12T00:44:00.135336Z",
     "start_time": "2020-02-12T00:43:59.570723Z"
    }
   },
   "outputs": [],
   "source": [
    "import numpy as np\n",
    "import matplotlib.pyplot as plt\n",
    "import sys\n",
    "import os\n",
    "import glob\n",
    "import cv2\n",
    "import pandas as pd\n",
    "from itertools import product"
   ]
  },
  {
   "cell_type": "code",
   "execution_count": 4,
   "metadata": {
    "ExecuteTime": {
     "end_time": "2020-02-12T00:44:01.880749Z",
     "start_time": "2020-02-12T00:44:01.866546Z"
    }
   },
   "outputs": [],
   "source": [
    "def load_filename(phase, cls, les = None, data = 'sm', data_dir = '/mnt/disk2/data/private_data/SMhospital/capsule/1 preprocessed'):\n",
    "    \"\"\"\n",
    "    phase = 'train', 'test'\n",
    "    cls: [les]  \n",
    "      'n': ['neg']\n",
    "      'h': ['redspot', 'angio', 'active'], \n",
    "      'd': ['ero', 'ulc', 'str'],\n",
    "      'p': ['amp', 'lym', 'tum']}\n",
    "    \"\"\"\n",
    "    lesions = dict(neg = 'negative', \n",
    "                   redspot = 'red_spot', angio = 'angioectasia', active = 'active_bleeding', \n",
    "                   ero = 'erosion', ulcer = 'ulcer', str = 'stricture', \n",
    "                   amp = 'ampulla_of_vater', lym = 'lymphoid_follicles', tum = 'small_bowel_tumor')\n",
    "    classes = dict(n = 'negative', h = 'hemorrhagic', d = 'depressed', p = 'protruded')\n",
    "\n",
    "    path = os.path.join(data_dir, data, phase, classes[cls], lesions[les])\n",
    "    pathlist = glob.glob(path + '/*.jpg')\n",
    "    name = []\n",
    "    for path in pathlist:\n",
    "        name.append(os.path.basename(path))\n",
    "    \n",
    "    return np.asarray(name)"
   ]
  },
  {
   "cell_type": "markdown",
   "metadata": {},
   "source": [
    "# Train / Test with no redundacny of patient"
   ]
  },
  {
   "cell_type": "markdown",
   "metadata": {},
   "source": [
    "## Split Training / Testing set by Patient"
   ]
  },
  {
   "cell_type": "markdown",
   "metadata": {},
   "source": [
    "### Check Number of Patients"
   ]
  },
  {
   "cell_type": "code",
   "execution_count": 5,
   "metadata": {
    "ExecuteTime": {
     "end_time": "2020-02-12T00:44:07.325449Z",
     "start_time": "2020-02-12T00:44:07.224772Z"
    }
   },
   "outputs": [],
   "source": [
    "data_dir = '/mnt/disk2/data/private_data/SMhospital/capsule/0 data/labeled'\n",
    "\n",
    "neg_1_filename = load_filename('p3_2', 'n', 'neg', data = '190520 p3_2', data_dir = data_dir)\n",
    "neg_2_filename = load_filename('raw', 'n', 'neg', data = '190814 negative', data_dir = data_dir)\n",
    "redspot_filename = load_filename('p3_2', 'h', 'redspot', data = '190520 p3_2', data_dir = data_dir)\n",
    "angio_filename = load_filename('p3_2', 'h', 'angio', data = '190520 p3_2', data_dir = data_dir)\n",
    "active_filename = load_filename('p3_2', 'h', 'active', data = '190520 p3_2', data_dir = data_dir)\n",
    "ero_filename = load_filename('p3_2', 'd', 'ero', data = '190520 p3_2', data_dir = data_dir)\n",
    "ulcer_filename = load_filename('p3_2', 'd', 'ulcer', data = '190520 p3_2', data_dir = data_dir)\n",
    "str_filename = load_filename('p3_2', 'd', 'str', data = '190520 p3_2', data_dir = data_dir)"
   ]
  },
  {
   "cell_type": "code",
   "execution_count": 6,
   "metadata": {
    "ExecuteTime": {
     "end_time": "2020-02-12T00:44:22.071573Z",
     "start_time": "2020-02-12T00:44:22.058860Z"
    },
    "scrolled": true
   },
   "outputs": [
    {
     "data": {
      "text/plain": [
       "(2536, 5270, 695, 23, 536, 922, 915, 129)"
      ]
     },
     "execution_count": 6,
     "metadata": {},
     "output_type": "execute_result"
    }
   ],
   "source": [
    "len(neg_1_filename), len(neg_2_filename), len(redspot_filename), len(angio_filename), len(active_filename), len(ero_filename), len(ulcer_filename), len(str_filename)"
   ]
  },
  {
   "cell_type": "code",
   "execution_count": 26,
   "metadata": {
    "ExecuteTime": {
     "end_time": "2020-01-24T03:49:46.063231Z",
     "start_time": "2020-01-24T03:49:46.056834Z"
    }
   },
   "outputs": [],
   "source": [
    "def extract_patient_name(filenames):\n",
    "    patient_names = []\n",
    "\n",
    "    for filename in filenames:\n",
    "        patient_names.append(filename.split('___')[0])\n",
    "    return patient_names"
   ]
  },
  {
   "cell_type": "code",
   "execution_count": 27,
   "metadata": {
    "ExecuteTime": {
     "end_time": "2020-01-24T03:49:46.974816Z",
     "start_time": "2020-01-24T03:49:46.946885Z"
    }
   },
   "outputs": [],
   "source": [
    "neg_1_patient_name = extract_patient_name(neg_1_filename)\n",
    "neg_2_patient_name = extract_patient_name(neg_2_filename)\n",
    "redspot_patient_name = extract_patient_name(redspot_filename)\n",
    "angio_patient_name = extract_patient_name(angio_filename)\n",
    "active_patient_name = extract_patient_name(active_filename)\n",
    "ero_patient_name = extract_patient_name(ero_filename)\n",
    "ulcer_patient_name = extract_patient_name(ulcer_filename)\n",
    "str_patient_name = extract_patient_name(str_filename)"
   ]
  },
  {
   "cell_type": "code",
   "execution_count": 28,
   "metadata": {
    "ExecuteTime": {
     "end_time": "2020-01-24T03:49:47.732432Z",
     "start_time": "2020-01-24T03:49:47.723163Z"
    },
    "scrolled": true
   },
   "outputs": [
    {
     "data": {
      "text/plain": [
       "(2536, 5270, 695, 23, 536, 922, 915, 129)"
      ]
     },
     "execution_count": 28,
     "metadata": {},
     "output_type": "execute_result"
    }
   ],
   "source": [
    "len(neg_1_patient_name), len(neg_2_patient_name), len(redspot_patient_name), len(angio_patient_name), len(active_patient_name), len(ero_patient_name), len(ulcer_patient_name), len(str_patient_name)"
   ]
  },
  {
   "cell_type": "code",
   "execution_count": 29,
   "metadata": {
    "ExecuteTime": {
     "end_time": "2020-01-24T03:49:48.611373Z",
     "start_time": "2020-01-24T03:49:48.589803Z"
    }
   },
   "outputs": [
    {
     "data": {
      "text/plain": [
       "['EA',\n",
       " 'BK',\n",
       " 'EA',\n",
       " 'BS',\n",
       " 'EA',\n",
       " 'BS',\n",
       " 'EA',\n",
       " 'BS',\n",
       " 'GB',\n",
       " 'BS',\n",
       " 'GB',\n",
       " 'BS',\n",
       " 'GB',\n",
       " 'BS',\n",
       " 'GK',\n",
       " 'BS',\n",
       " 'HG',\n",
       " 'BS',\n",
       " 'HG',\n",
       " 'BS',\n",
       " 'HG',\n",
       " 'CGB',\n",
       " 'HG',\n",
       " 'CGB',\n",
       " 'HG',\n",
       " 'CGB',\n",
       " 'HG',\n",
       " 'CGB',\n",
       " 'HG',\n",
       " 'CGB',\n",
       " 'HG',\n",
       " 'CGB',\n",
       " 'HG',\n",
       " 'CGB',\n",
       " 'HG',\n",
       " 'CGB',\n",
       " 'HG',\n",
       " 'CGB',\n",
       " 'HG',\n",
       " 'CGB',\n",
       " 'HG',\n",
       " 'CH',\n",
       " 'HG',\n",
       " 'CH',\n",
       " 'HG',\n",
       " 'CH',\n",
       " 'HG',\n",
       " 'CH',\n",
       " 'HS',\n",
       " 'CH',\n",
       " 'HS',\n",
       " 'CH',\n",
       " 'Hr',\n",
       " 'CH',\n",
       " 'Hr',\n",
       " 'CH',\n",
       " 'IH',\n",
       " 'CJ',\n",
       " 'IK',\n",
       " 'CJ',\n",
       " 'IK',\n",
       " 'CJ',\n",
       " 'IK',\n",
       " 'CY',\n",
       " 'IK',\n",
       " 'DK',\n",
       " 'IK',\n",
       " 'DO',\n",
       " 'IS',\n",
       " 'DO',\n",
       " 'JB',\n",
       " 'DO',\n",
       " 'JB',\n",
       " 'DO',\n",
       " 'JB',\n",
       " 'DO',\n",
       " 'JB',\n",
       " 'DP',\n",
       " 'JB',\n",
       " 'EA',\n",
       " 'JB',\n",
       " 'EA',\n",
       " 'EA',\n",
       " 'JB',\n",
       " 'EA',\n",
       " 'JH',\n",
       " 'EA',\n",
       " 'JH',\n",
       " 'GB',\n",
       " 'jb',\n",
       " 'JH',\n",
       " 'JH',\n",
       " 'JL',\n",
       " 'JL',\n",
       " 'JL',\n",
       " 'JL',\n",
       " 'JL',\n",
       " 'JL',\n",
       " 'Jy',\n",
       " 'KH',\n",
       " 'KH',\n",
       " 'KH',\n",
       " 'KH',\n",
       " 'KH',\n",
       " 'KH',\n",
       " 'KH',\n",
       " 'KH',\n",
       " 'KH',\n",
       " 'KI',\n",
       " 'KI',\n",
       " 'KI',\n",
       " 'KJ',\n",
       " 'KJ',\n",
       " 'KJ',\n",
       " 'KJ',\n",
       " 'KJ',\n",
       " 'KJ',\n",
       " 'KJ',\n",
       " 'KJ',\n",
       " 'KJ',\n",
       " 'KK',\n",
       " 'KK',\n",
       " 'KK',\n",
       " 'KK',\n",
       " 'KM',\n",
       " 'KM',\n",
       " 'KM',\n",
       " 'LE',\n",
       " 'LE',\n",
       " 'LE',\n",
       " 'LE',\n",
       " 'LE',\n",
       " 'LE',\n",
       " 'LE',\n",
       " 'LE',\n",
       " 'LE',\n",
       " 'LE',\n",
       " 'LE',\n",
       " 'LE',\n",
       " 'LE',\n",
       " 'LE',\n",
       " 'LE',\n",
       " 'LE',\n",
       " 'LE',\n",
       " 'LE',\n",
       " 'LE',\n",
       " 'LE',\n",
       " 'LE',\n",
       " 'TI',\n",
       " 'LO',\n",
       " 'LS',\n",
       " 'LS',\n",
       " 'LS',\n",
       " 'LS',\n",
       " 'LS',\n",
       " 'LS',\n",
       " 'LS',\n",
       " 'LS',\n",
       " 'LS',\n",
       " 'LS',\n",
       " 'LS',\n",
       " 'LS',\n",
       " 'Lh',\n",
       " 'Lh',\n",
       " 'Lh',\n",
       " 'Ly',\n",
       " 'Nm',\n",
       " 'Nm',\n",
       " 'Nm',\n",
       " 'OD',\n",
       " 'PI',\n",
       " 'PI',\n",
       " 'PI',\n",
       " 'PJ',\n",
       " 'PJ',\n",
       " 'PJ',\n",
       " 'PJ',\n",
       " 'SJ',\n",
       " 'TI',\n",
       " 'WK',\n",
       " 'YJ',\n",
       " 'SK',\n",
       " 'SL',\n",
       " 'SL',\n",
       " 'SL',\n",
       " 'SL',\n",
       " 'TI',\n",
       " 'TI',\n",
       " 'YJ',\n",
       " 'YJ',\n",
       " 'YJ',\n",
       " 'YJ',\n",
       " 'YJ',\n",
       " 'YJ',\n",
       " 'YJ',\n",
       " 'YJ',\n",
       " 'YJ',\n",
       " 'YJ',\n",
       " 'YK',\n",
       " 'YK',\n",
       " 'YK',\n",
       " 'YK',\n",
       " 'YM',\n",
       " 'YM',\n",
       " 'YM',\n",
       " 'YM',\n",
       " 'YM',\n",
       " 'YM',\n",
       " 'YM',\n",
       " 'YM',\n",
       " 'YM',\n",
       " 'YM',\n",
       " 'YM',\n",
       " 'YM',\n",
       " 'YM',\n",
       " 'YM',\n",
       " 'YM',\n",
       " 'Yn',\n",
       " 'Yn',\n",
       " 'Yn',\n",
       " 'Yn',\n",
       " 'Yn',\n",
       " 'Yn',\n",
       " 'Yn',\n",
       " 'Yn',\n",
       " 'Yn',\n",
       " 'Yn',\n",
       " 'Yn',\n",
       " 'Yn',\n",
       " 'Yn',\n",
       " 'Yn',\n",
       " 'Yn',\n",
       " 'Yn',\n",
       " 'ck',\n",
       " 'ck',\n",
       " 'ck',\n",
       " 'ck',\n",
       " 'ck',\n",
       " 'dG',\n",
       " 'dG',\n",
       " 'dG',\n",
       " 'dG',\n",
       " 'dG',\n",
       " 'dG',\n",
       " 'dG',\n",
       " 'dG',\n",
       " 'iu',\n",
       " 'iu',\n",
       " 'iu',\n",
       " 'iu',\n",
       " 'iu',\n",
       " 'jb',\n",
       " 'mK',\n",
       " 'jb',\n",
       " 'mK',\n",
       " 'jb',\n",
       " 'mK',\n",
       " 'jh',\n",
       " 'mK',\n",
       " 'mK',\n",
       " 'mK',\n",
       " 'mK',\n",
       " 'mj',\n",
       " 'mK',\n",
       " 'mj',\n",
       " 'mK',\n",
       " 'oP',\n",
       " 'mK',\n",
       " 'sK',\n",
       " 'mK',\n",
       " '건박',\n",
       " 'mK',\n",
       " '강은',\n",
       " 'mK',\n",
       " '건박',\n",
       " 'mK',\n",
       " '경윤',\n",
       " 'mK',\n",
       " '경이',\n",
       " 'mK',\n",
       " '계신',\n",
       " 'mK',\n",
       " '계신',\n",
       " 'mK',\n",
       " 'mj',\n",
       " '김혜',\n",
       " '경윤',\n",
       " '김혜',\n",
       " '광김',\n",
       " '김혜',\n",
       " '광김',\n",
       " '김혜',\n",
       " '광김',\n",
       " '김혜',\n",
       " '광김',\n",
       " '김혜',\n",
       " '광김',\n",
       " '김혜',\n",
       " '광김',\n",
       " '낙최',\n",
       " '귀박',\n",
       " '낙최',\n",
       " '귀박',\n",
       " '낙최',\n",
       " '귀박',\n",
       " '낙최',\n",
       " '귀박',\n",
       " '낙최',\n",
       " '금황',\n",
       " '낙최',\n",
       " '기강',\n",
       " '낙최',\n",
       " '기강',\n",
       " '낙최',\n",
       " '기김',\n",
       " '낙최',\n",
       " '기김',\n",
       " '낙최',\n",
       " '기오',\n",
       " '낙최',\n",
       " '김혜',\n",
       " '낙최',\n",
       " '김혜',\n",
       " '낙최',\n",
       " '김혜',\n",
       " '낙최',\n",
       " '김혜',\n",
       " '달조',\n",
       " '김혜',\n",
       " '맹신',\n",
       " '김혜',\n",
       " '맹신',\n",
       " '김혜',\n",
       " '맹신',\n",
       " '김혜',\n",
       " '맹신',\n",
       " '김혜',\n",
       " '맹신',\n",
       " '김혜',\n",
       " '명김',\n",
       " '김혜',\n",
       " '명김',\n",
       " '김혜',\n",
       " '명김',\n",
       " '김혜',\n",
       " '명김',\n",
       " '김혜',\n",
       " '명김',\n",
       " '김혜',\n",
       " '명김',\n",
       " '김혜',\n",
       " '명김',\n",
       " '김혜',\n",
       " '명김',\n",
       " '김혜',\n",
       " '명김',\n",
       " '김혜',\n",
       " '명김',\n",
       " '김혜',\n",
       " '김혜',\n",
       " '성이',\n",
       " '맹신',\n",
       " '성정',\n",
       " '맹신',\n",
       " '명김',\n",
       " '명김',\n",
       " '명이',\n",
       " '명이',\n",
       " '명이',\n",
       " '명이',\n",
       " '명채',\n",
       " '명채',\n",
       " '명채',\n",
       " '명채',\n",
       " '명채',\n",
       " '범안',\n",
       " '범안',\n",
       " '복이',\n",
       " '복지',\n",
       " '복지',\n",
       " '복지',\n",
       " '복지',\n",
       " '복지',\n",
       " '복지',\n",
       " '복지',\n",
       " '복지',\n",
       " '봉오',\n",
       " '분김',\n",
       " '분김',\n",
       " '삼조',\n",
       " '상이',\n",
       " '상이',\n",
       " '상이',\n",
       " '상이',\n",
       " '상이',\n",
       " '상이',\n",
       " '상이',\n",
       " '상이',\n",
       " '상이',\n",
       " '상이',\n",
       " '상이',\n",
       " '상이',\n",
       " '상이',\n",
       " '상이',\n",
       " '상이',\n",
       " '상이',\n",
       " '상이',\n",
       " '상이',\n",
       " '상이',\n",
       " '상이',\n",
       " '상이',\n",
       " '상이',\n",
       " '상이',\n",
       " '상이',\n",
       " '상이',\n",
       " '상이',\n",
       " '상이',\n",
       " '상이',\n",
       " '상이',\n",
       " '상이',\n",
       " '상이',\n",
       " '상이',\n",
       " '상이',\n",
       " '석강',\n",
       " '석강',\n",
       " '석강',\n",
       " '석강',\n",
       " '석강',\n",
       " '석강',\n",
       " '석강',\n",
       " '석강',\n",
       " '석강',\n",
       " '성김',\n",
       " '성김',\n",
       " '성박',\n",
       " '성박',\n",
       " '성박',\n",
       " '성박',\n",
       " '성박',\n",
       " '성박',\n",
       " '성박',\n",
       " '성정',\n",
       " '영김',\n",
       " '영유',\n",
       " '성서',\n",
       " '영김',\n",
       " '영이',\n",
       " '성서',\n",
       " '성정',\n",
       " '성정',\n",
       " '성정',\n",
       " '손정',\n",
       " '손정',\n",
       " '수이',\n",
       " '순하',\n",
       " '순하',\n",
       " '순하',\n",
       " '승김',\n",
       " '승김',\n",
       " '승김',\n",
       " '승김',\n",
       " '승박',\n",
       " '승박',\n",
       " '승박',\n",
       " '승박',\n",
       " '승박',\n",
       " '승박',\n",
       " '승박',\n",
       " '승박',\n",
       " '승박',\n",
       " '승박',\n",
       " '승박',\n",
       " '승박',\n",
       " '승박',\n",
       " '승박',\n",
       " '승박',\n",
       " '승박',\n",
       " '승박',\n",
       " '승박',\n",
       " '승박',\n",
       " '승박',\n",
       " '승박',\n",
       " '승박',\n",
       " '승박',\n",
       " '승이',\n",
       " '승이',\n",
       " '승이',\n",
       " '승이',\n",
       " '승이',\n",
       " '실한',\n",
       " '실한',\n",
       " '안창',\n",
       " '안창',\n",
       " '영유',\n",
       " '안창',\n",
       " '안창',\n",
       " '안창',\n",
       " '안창',\n",
       " '안창',\n",
       " '안창',\n",
       " '안창',\n",
       " '안창',\n",
       " '안창',\n",
       " '안창',\n",
       " '안창',\n",
       " '안창',\n",
       " '안창',\n",
       " '안창',\n",
       " '안창',\n",
       " '안창',\n",
       " '안창',\n",
       " '안창',\n",
       " '안창',\n",
       " '안창',\n",
       " '안창',\n",
       " '양임',\n",
       " '양임',\n",
       " '연박',\n",
       " '연박',\n",
       " '연박',\n",
       " '연정',\n",
       " '영유',\n",
       " '영이',\n",
       " '영이',\n",
       " '영이',\n",
       " '영이',\n",
       " '영최',\n",
       " '오김',\n",
       " '오김',\n",
       " '옥김',\n",
       " '옥김',\n",
       " '옥김',\n",
       " '옥김',\n",
       " '옥서',\n",
       " '옥서',\n",
       " '옥이',\n",
       " '옥이',\n",
       " '옥이',\n",
       " '옥이',\n",
       " '옥이',\n",
       " '옥이',\n",
       " '옥이',\n",
       " '옥이',\n",
       " '용안',\n",
       " '용안',\n",
       " '용이',\n",
       " '용이',\n",
       " '용이',\n",
       " '용이',\n",
       " '용이',\n",
       " '용이',\n",
       " '욱최',\n",
       " '자성',\n",
       " '욱최',\n",
       " '유김',\n",
       " '유김',\n",
       " '유김',\n",
       " '유김',\n",
       " '유김',\n",
       " '윤박',\n",
       " '윤박',\n",
       " '윤박',\n",
       " '윤박',\n",
       " '윤박',\n",
       " '윤정',\n",
       " '윤정',\n",
       " '윤정',\n",
       " '윤정',\n",
       " '은임',\n",
       " '은임',\n",
       " '은임',\n",
       " '은임',\n",
       " '은임',\n",
       " '은임',\n",
       " '은임',\n",
       " '은임',\n",
       " '은임',\n",
       " '은임',\n",
       " '은임',\n",
       " '은임',\n",
       " '은임',\n",
       " '은임',\n",
       " '은임',\n",
       " '은임',\n",
       " '은임',\n",
       " '은임',\n",
       " '은임',\n",
       " '은임',\n",
       " '은임',\n",
       " '은임',\n",
       " '은임',\n",
       " '은임',\n",
       " '은임',\n",
       " '이세',\n",
       " '인오',\n",
       " '인오',\n",
       " '인이',\n",
       " '인편',\n",
       " '자성',\n",
       " '자성',\n",
       " '자성',\n",
       " '자성',\n",
       " '자성',\n",
       " '자성',\n",
       " '재한',\n",
       " '재한',\n",
       " '정김',\n",
       " '정김',\n",
       " '정주',\n",
       " '정주',\n",
       " '정주',\n",
       " '정주',\n",
       " '정주',\n",
       " '종이',\n",
       " '지윤',\n",
       " '지임',\n",
       " '지임',\n",
       " '홍양',\n",
       " '홍양',\n",
       " '진김',\n",
       " '진김',\n",
       " '진한',\n",
       " '진한',\n",
       " '진한',\n",
       " '진한',\n",
       " '진한',\n",
       " '진한',\n",
       " '진한',\n",
       " '진한',\n",
       " '진한',\n",
       " '진한',\n",
       " '진한',\n",
       " '진한',\n",
       " '진한',\n",
       " '진한',\n",
       " '진한',\n",
       " '진한',\n",
       " '차한',\n",
       " '차한',\n",
       " '차한',\n",
       " '차한',\n",
       " '차한',\n",
       " '창김',\n",
       " '창김',\n",
       " '창김',\n",
       " '창김',\n",
       " '창정',\n",
       " '창정',\n",
       " '철김',\n",
       " '철김',\n",
       " '철성',\n",
       " '철성',\n",
       " '철성',\n",
       " '철전',\n",
       " '철전',\n",
       " '철전',\n",
       " '철전',\n",
       " '철전',\n",
       " '철전',\n",
       " '청곽',\n",
       " '청곽',\n",
       " '청이',\n",
       " '청이',\n",
       " '청이',\n",
       " '청이',\n",
       " '청이',\n",
       " '청이',\n",
       " '태조',\n",
       " '태조',\n",
       " '태조',\n",
       " '태조',\n",
       " '한박',\n",
       " '해정',\n",
       " '현강',\n",
       " '현강',\n",
       " '현강',\n",
       " '현이',\n",
       " '현이',\n",
       " '현이',\n",
       " '현이',\n",
       " '현이',\n",
       " '현이',\n",
       " '혜유',\n",
       " '홍양',\n",
       " '홍양',\n",
       " '화김',\n",
       " '화이',\n",
       " '휘장',\n",
       " '휘장',\n",
       " '휘장',\n",
       " '휘장',\n",
       " '휘장',\n",
       " '휘장',\n",
       " '휘장',\n",
       " '휘장']"
      ]
     },
     "execution_count": 29,
     "metadata": {},
     "output_type": "execute_result"
    }
   ],
   "source": [
    "redspot_patient_name"
   ]
  },
  {
   "cell_type": "code",
   "execution_count": 30,
   "metadata": {
    "ExecuteTime": {
     "end_time": "2020-01-24T03:49:49.447024Z",
     "start_time": "2020-01-24T03:49:49.433337Z"
    }
   },
   "outputs": [],
   "source": [
    "neg_1_patient = np.unique(neg_1_patient_name)\n",
    "neg_2_patient = np.unique(neg_2_patient_name)\n",
    "redspot_patient = np.unique(redspot_patient_name)\n",
    "angio_patient = np.unique(angio_patient_name)\n",
    "active_patient = np.unique(active_patient_name)\n",
    "ero_patient = np.unique(ero_patient_name)\n",
    "ulcer_patient = np.unique(ulcer_patient_name)\n",
    "str_patient = np.unique(str_patient_name)"
   ]
  },
  {
   "cell_type": "code",
   "execution_count": 11,
   "metadata": {
    "ExecuteTime": {
     "end_time": "2020-01-24T03:47:03.440540Z",
     "start_time": "2020-01-24T03:47:03.430794Z"
    }
   },
   "outputs": [
    {
     "data": {
      "text/plain": [
       "(160, 62, 142, 4, 56, 101, 64, 16)"
      ]
     },
     "execution_count": 11,
     "metadata": {},
     "output_type": "execute_result"
    }
   ],
   "source": [
    "len(neg_1_patient), len(neg_2_patient), len(redspot_patient), len(angio_patient), len(active_patient), len(ero_patient), len(ulcer_patient), len(str_patient)"
   ]
  },
  {
   "cell_type": "code",
   "execution_count": 12,
   "metadata": {
    "ExecuteTime": {
     "end_time": "2020-01-24T03:47:07.576139Z",
     "start_time": "2020-01-24T03:47:07.566412Z"
    }
   },
   "outputs": [
    {
     "data": {
      "text/plain": [
       "(160, 62, 142, 4, 56, 101, 64, 16)"
      ]
     },
     "execution_count": 12,
     "metadata": {},
     "output_type": "execute_result"
    }
   ],
   "source": [
    "len(neg_1_patient), len(neg_2_patient), len(redspot_patient), len(angio_patient), len(active_patient), len(ero_patient), len(ulcer_patient), len(str_patient)"
   ]
  },
  {
   "cell_type": "code",
   "execution_count": 13,
   "metadata": {
    "ExecuteTime": {
     "end_time": "2020-01-24T03:47:18.139545Z",
     "start_time": "2020-01-24T03:47:18.132312Z"
    }
   },
   "outputs": [
    {
     "data": {
      "text/plain": [
       "41"
      ]
     },
     "execution_count": 13,
     "metadata": {},
     "output_type": "execute_result"
    }
   ],
   "source": [
    "len(np.intersect1d(neg_1_patient, neg_2_patient))"
   ]
  },
  {
   "cell_type": "code",
   "execution_count": 14,
   "metadata": {
    "ExecuteTime": {
     "end_time": "2020-01-24T03:47:27.220475Z",
     "start_time": "2020-01-24T03:47:27.212919Z"
    }
   },
   "outputs": [
    {
     "data": {
      "text/plain": [
       "array(['BK', 'CH', 'CJ', 'CK', 'EA', 'GK', 'HG', 'JH', 'JP', 'KH', 'KI',\n",
       "       'KJ', 'KK', 'LO', 'Lh', 'SJ', 'YK', 'YM', 'mK', 'mj', '강은', '경김',\n",
       "       '광김', '광배', '금황', '기김', '명최', '범정', '복이', '상이', '서황', '순김', '순황',\n",
       "       '승김', '승박', '승이', '안창', '양임', '영김', '영이', '옥서', '옥이', '용이', '윤이',\n",
       "       '인이', '정김', '정박', '종문', '종신', '진김', '진박', '창정', '철김', '태김', '해정',\n",
       "       '현이'], dtype='<U2')"
      ]
     },
     "execution_count": 14,
     "metadata": {},
     "output_type": "execute_result"
    }
   ],
   "source": [
    "active_patient"
   ]
  },
  {
   "cell_type": "code",
   "execution_count": 15,
   "metadata": {
    "ExecuteTime": {
     "end_time": "2020-01-24T03:47:31.623622Z",
     "start_time": "2020-01-24T03:47:31.617170Z"
    }
   },
   "outputs": [],
   "source": [
    "total_patient = np.hstack([neg_1_patient, neg_2_patient, \n",
    "                           redspot_patient, angio_patient,active_patient, \n",
    "                           ero_patient, ulcer_patient, str_patient])\n",
    "total_patient_wo_redundancy = np.unique(total_patient)"
   ]
  },
  {
   "cell_type": "code",
   "execution_count": 16,
   "metadata": {
    "ExecuteTime": {
     "end_time": "2020-01-24T03:47:32.963426Z",
     "start_time": "2020-01-24T03:47:32.955046Z"
    }
   },
   "outputs": [
    {
     "data": {
      "text/plain": [
       "array(['AJ', 'BK', 'BS', 'CE', 'CGB', 'CH', 'CJ', 'CK', 'CP', 'CW', 'CY',\n",
       "       'DG', 'DJ', 'DK', 'DO', 'DP', 'EA', 'EC', 'EG', 'EK', 'EL', 'GB',\n",
       "       'GK', 'GN', 'HG', 'HL', 'HN', 'HS', 'Hr', 'IH', 'IK', 'IS', 'Is',\n",
       "       'JB', 'JG', 'JH', 'JJ', 'JK', 'JL', 'JO', 'JP', 'JS', 'JY', 'Jy',\n",
       "       'KH', 'KI', 'KJ', 'KK', 'KM', 'KS', 'LE', 'LO', 'LS', 'Lh', 'Ly',\n",
       "       'ML', 'MN', 'MP', 'NT', 'Nm', 'OD', 'PI', 'PJ', 'PM', 'SH', 'SJ',\n",
       "       'SK', 'SL', 'SP', 'TI', 'TY', 'WK', 'YB', 'YJ', 'YK', 'YM', 'Yn',\n",
       "       'ck', 'cp', 'dG', 'hk', 'iu', 'jb', 'jh', 'mK', 'mj', 'oP', 'sK',\n",
       "       '강은', '건박', '경김', '경박', '경백', '경양', '경윤', '경이', '계신', '고상', '광김',\n",
       "       '광배', '귀박', '규김', '규심', '금황', '기강', '기김', '기박', '기오', '기유', '김혜',\n",
       "       '낙최', '달조', '대권', '대염', '동김', '동신', '맹신', '명김', '명나', '명박', '명이',\n",
       "       '명채', '명최', '미김', '미장', '민강', '민김', '민방', '민최', '범안', '범정', '병김',\n",
       "       '병문', '보김', '복이', '복지', '봉오', '분김', '사고', '삼조', '상이', '상최', '서미',\n",
       "       '서황', '석강', '석김', '성김', '성박', '성서', '성양', '성이', '성정', '성조', '소서',\n",
       "       '손정', '솔신', '수이', '숙김', '숙황', '순김', '순임', '순하', '순황', '승김', '승박',\n",
       "       '승이', '승한', '신배', '실한', '안유', '안창', '양임', '양정', '언정', '연박', '연이',\n",
       "       '연정', '영김', '영유', '영윤', '영이', '영최', '오김', '옥김', '옥서', '옥이', '옥정',\n",
       "       '왕신', '용강', '용김', '용안', '용이', '우조', '욱최', '웅김', '원장', '유김', '윤김',\n",
       "       '윤박', '윤이', '윤장', '윤정', '은이', '은임', '을김', '이동', '이석', '이세', '이전',\n",
       "       '인오', '인이', '인편', '자성', '장최', '장한', '재박', '재손', '재이', '재임', '재한',\n",
       "       '정김', '정노', '정박', '정주', '종문', '종신', '종오', '종이', '주이', '주차', '죽이',\n",
       "       '지윤', '지임', '지최', '진강', '진김', '진남', '진박', '진한', '차박', '차한', '창김',\n",
       "       '창정', '창최', '철김', '철성', '철전', '청곽', '청이', '충이', '치최', '태김', '태조',\n",
       "       '학현', '한박', '한이', '해나', '해정', '향신', '현강', '현노', '현서', '현이', '형최',\n",
       "       '혜박', '혜유', '홍양', '화김', '화엄', '화이', '휘장', '희박', '희신', '희정'],\n",
       "      dtype='<U3')"
      ]
     },
     "execution_count": 16,
     "metadata": {},
     "output_type": "execute_result"
    }
   ],
   "source": [
    "total_patient_wo_redundancy"
   ]
  },
  {
   "cell_type": "code",
   "execution_count": 17,
   "metadata": {
    "ExecuteTime": {
     "end_time": "2020-01-24T03:47:36.812199Z",
     "start_time": "2020-01-24T03:47:36.805196Z"
    }
   },
   "outputs": [
    {
     "data": {
      "text/plain": [
       "274"
      ]
     },
     "execution_count": 17,
     "metadata": {},
     "output_type": "execute_result"
    }
   ],
   "source": [
    "len(total_patient_wo_redundancy)"
   ]
  },
  {
   "cell_type": "markdown",
   "metadata": {
    "heading_collapsed": true
   },
   "source": [
    "### Split (train_patient: test_patient = 8:2)"
   ]
  },
  {
   "cell_type": "code",
   "execution_count": 21,
   "metadata": {
    "ExecuteTime": {
     "end_time": "2020-01-17T08:07:17.216805Z",
     "start_time": "2020-01-17T08:07:17.208231Z"
    },
    "hidden": true
   },
   "outputs": [
    {
     "data": {
      "text/plain": [
       "array([0, 1, 2, 3, 4, 5, 6, 7, 8, 9])"
      ]
     },
     "execution_count": 21,
     "metadata": {},
     "output_type": "execute_result"
    }
   ],
   "source": [
    "np.arange(10)"
   ]
  },
  {
   "cell_type": "code",
   "execution_count": 22,
   "metadata": {
    "ExecuteTime": {
     "end_time": "2020-01-17T08:07:18.319139Z",
     "start_time": "2020-01-17T08:07:18.310932Z"
    },
    "hidden": true
   },
   "outputs": [],
   "source": [
    "def train_test_patient_split(patients, train_rate = 0.80):\n",
    "    train_idx = np.sort(np.random.choice(len(patients), round(len(patients)*train_rate), replace = False))\n",
    "    test_idx = np.setxor1d(train_idx, np.arange(len(patients)))\n",
    "    return patients[train_idx], patients[test_idx]"
   ]
  },
  {
   "cell_type": "code",
   "execution_count": 24,
   "metadata": {
    "ExecuteTime": {
     "end_time": "2020-01-17T08:07:55.145851Z",
     "start_time": "2020-01-17T08:07:55.132350Z"
    },
    "hidden": true
   },
   "outputs": [],
   "source": [
    "neg_1_train_patient, neg_1_test_patient = train_test_patient_split(neg_1_patient)\n",
    "neg_2_train_patient, neg_2_test_patient = train_test_patient_split(neg_2_patient)\n",
    "redspot_train_patient, redspot_test_patient = train_test_patient_split(redspot_patient)\n",
    "angio_train_patient, angio_test_patient = train_test_patient_split(angio_patient)\n",
    "active_train_patient, active_test_patient = train_test_patient_split(active_patient)\n",
    "ero_train_patient, ero_test_patient = train_test_patient_split(ero_patient)\n",
    "ulcer_train_patient, ulcer_test_patient = train_test_patient_split(ulcer_patient)\n",
    "str_train_patient, str_test_patient = train_test_patient_split(str_patient)"
   ]
  },
  {
   "cell_type": "code",
   "execution_count": 25,
   "metadata": {
    "ExecuteTime": {
     "end_time": "2020-01-17T08:07:57.534560Z",
     "start_time": "2020-01-17T08:07:57.526201Z"
    },
    "hidden": true
   },
   "outputs": [
    {
     "data": {
      "text/plain": [
       "array([], dtype='<U3')"
      ]
     },
     "execution_count": 25,
     "metadata": {},
     "output_type": "execute_result"
    }
   ],
   "source": [
    "np.intersect1d(neg_1_train_patient, neg_1_test_patient)"
   ]
  },
  {
   "cell_type": "code",
   "execution_count": 26,
   "metadata": {
    "ExecuteTime": {
     "end_time": "2020-01-17T08:07:58.076206Z",
     "start_time": "2020-01-17T08:07:58.068065Z"
    },
    "hidden": true
   },
   "outputs": [
    {
     "data": {
      "text/plain": [
       "array([], dtype='<U2')"
      ]
     },
     "execution_count": 26,
     "metadata": {},
     "output_type": "execute_result"
    }
   ],
   "source": [
    "np.intersect1d(neg_2_train_patient, neg_2_test_patient)"
   ]
  },
  {
   "cell_type": "code",
   "execution_count": 27,
   "metadata": {
    "ExecuteTime": {
     "end_time": "2020-01-17T08:07:58.256431Z",
     "start_time": "2020-01-17T08:07:58.248673Z"
    },
    "hidden": true
   },
   "outputs": [
    {
     "data": {
      "text/plain": [
       "array([], dtype='<U3')"
      ]
     },
     "execution_count": 27,
     "metadata": {},
     "output_type": "execute_result"
    }
   ],
   "source": [
    "np.intersect1d(redspot_train_patient, redspot_test_patient)"
   ]
  },
  {
   "cell_type": "code",
   "execution_count": 28,
   "metadata": {
    "ExecuteTime": {
     "end_time": "2020-01-17T08:07:58.411017Z",
     "start_time": "2020-01-17T08:07:58.403301Z"
    },
    "hidden": true
   },
   "outputs": [
    {
     "data": {
      "text/plain": [
       "array([], dtype='<U2')"
      ]
     },
     "execution_count": 28,
     "metadata": {},
     "output_type": "execute_result"
    }
   ],
   "source": [
    "np.intersect1d(angio_train_patient, angio_test_patient)"
   ]
  },
  {
   "cell_type": "code",
   "execution_count": 29,
   "metadata": {
    "ExecuteTime": {
     "end_time": "2020-01-17T08:07:58.585190Z",
     "start_time": "2020-01-17T08:07:58.577487Z"
    },
    "hidden": true
   },
   "outputs": [
    {
     "data": {
      "text/plain": [
       "array([], dtype='<U2')"
      ]
     },
     "execution_count": 29,
     "metadata": {},
     "output_type": "execute_result"
    }
   ],
   "source": [
    "np.intersect1d(active_train_patient, active_test_patient)"
   ]
  },
  {
   "cell_type": "code",
   "execution_count": 30,
   "metadata": {
    "ExecuteTime": {
     "end_time": "2020-01-17T08:07:58.824969Z",
     "start_time": "2020-01-17T08:07:58.817342Z"
    },
    "hidden": true
   },
   "outputs": [
    {
     "data": {
      "text/plain": [
       "array([], dtype='<U3')"
      ]
     },
     "execution_count": 30,
     "metadata": {},
     "output_type": "execute_result"
    }
   ],
   "source": [
    "np.intersect1d(ero_train_patient, ero_test_patient)"
   ]
  },
  {
   "cell_type": "code",
   "execution_count": 31,
   "metadata": {
    "ExecuteTime": {
     "end_time": "2020-01-17T08:07:59.344676Z",
     "start_time": "2020-01-17T08:07:59.336910Z"
    },
    "hidden": true
   },
   "outputs": [
    {
     "data": {
      "text/plain": [
       "array([], dtype='<U3')"
      ]
     },
     "execution_count": 31,
     "metadata": {},
     "output_type": "execute_result"
    }
   ],
   "source": [
    "np.intersect1d(ulcer_train_patient, ulcer_test_patient)"
   ]
  },
  {
   "cell_type": "code",
   "execution_count": 1277,
   "metadata": {
    "ExecuteTime": {
     "end_time": "2020-01-15T16:28:12.094920Z",
     "start_time": "2020-01-15T16:28:12.087218Z"
    },
    "hidden": true
   },
   "outputs": [
    {
     "data": {
      "text/plain": [
       "array([], dtype='<U3')"
      ]
     },
     "execution_count": 1277,
     "metadata": {},
     "output_type": "execute_result"
    }
   ],
   "source": [
    "np.intersect1d(str_train_patient, str_test_patient)"
   ]
  },
  {
   "cell_type": "markdown",
   "metadata": {
    "heading_collapsed": true
   },
   "source": [
    "### Save Patient Info"
   ]
  },
  {
   "cell_type": "code",
   "execution_count": 931,
   "metadata": {
    "ExecuteTime": {
     "end_time": "2020-01-14T16:55:51.274914Z",
     "start_time": "2020-01-14T16:55:50.639220Z"
    },
    "hidden": true
   },
   "outputs": [],
   "source": [
    "import pandas as pd"
   ]
  },
  {
   "cell_type": "code",
   "execution_count": 976,
   "metadata": {
    "ExecuteTime": {
     "end_time": "2020-01-14T17:27:14.388274Z",
     "start_time": "2020-01-14T17:27:14.373160Z"
    },
    "hidden": true
   },
   "outputs": [],
   "source": [
    "df = pd.DataFrame(columns = ['patient', 'negative1', 'negative2', \n",
    "                             'red spot', 'angioectasia', 'active bleeding',\n",
    "                             'erosion', 'ulcer', 'stricture'])"
   ]
  },
  {
   "cell_type": "code",
   "execution_count": 977,
   "metadata": {
    "ExecuteTime": {
     "end_time": "2020-01-14T17:27:15.232442Z",
     "start_time": "2020-01-14T17:27:14.590132Z"
    },
    "hidden": true
   },
   "outputs": [],
   "source": [
    "for i, patient in zip(range(len(total_patient_wo_redundancy)), total_patient_wo_redundancy):\n",
    "    including_label = np.zeros([8])\n",
    "    \n",
    "    if patient in neg_1_train_patient: including_label[0] = 1\n",
    "    if patient in neg_2_train_patient: including_label[1] = 1\n",
    "    if patient in redspot_train_patient: including_label[2] = 1\n",
    "    if patient in angio_train_patient: including_label[3] = 1\n",
    "    if patient in active_train_patient: including_label[4] = 1\n",
    "    if patient in ero_train_patient: including_label[5] = 1\n",
    "    if patient in ulcer_train_patient: including_label[6] = 1\n",
    "    if patient in str_train_patient: including_label[7] = 1\n",
    "        \n",
    "    if patient in neg_1_test_patient: including_label[0] = 2\n",
    "    if patient in neg_2_test_patient: including_label[1] = 2\n",
    "    if patient in redspot_test_patient: including_label[2] = 2\n",
    "    if patient in angio_test_patient: including_label[3] = 2\n",
    "    if patient in active_test_patient: including_label[4] = 2\n",
    "    if patient in ero_test_patient: including_label[5] = 2\n",
    "    if patient in ulcer_test_patient: including_label[6] = 2\n",
    "    if patient in str_test_patient: including_label[7] = 2\n",
    "        \n",
    "    if np.sum(including_label) == 0:\n",
    "        print(\"{} - {} is missed\".format(i, patient))\n",
    "    \n",
    "    df.loc[i] = [patient, including_label[0], including_label[1], including_label[2], including_label[3],\n",
    "                 including_label[4], including_label[5], including_label[6], including_label[7]]"
   ]
  },
  {
   "cell_type": "code",
   "execution_count": 978,
   "metadata": {
    "ExecuteTime": {
     "end_time": "2020-01-14T17:27:15.967251Z",
     "start_time": "2020-01-14T17:27:15.918294Z"
    },
    "hidden": true,
    "scrolled": false
   },
   "outputs": [
    {
     "data": {
      "text/html": [
       "<div>\n",
       "<style scoped>\n",
       "    .dataframe tbody tr th:only-of-type {\n",
       "        vertical-align: middle;\n",
       "    }\n",
       "\n",
       "    .dataframe tbody tr th {\n",
       "        vertical-align: top;\n",
       "    }\n",
       "\n",
       "    .dataframe thead th {\n",
       "        text-align: right;\n",
       "    }\n",
       "</style>\n",
       "<table border=\"1\" class=\"dataframe\">\n",
       "  <thead>\n",
       "    <tr style=\"text-align: right;\">\n",
       "      <th></th>\n",
       "      <th>patient</th>\n",
       "      <th>negative1</th>\n",
       "      <th>negative2</th>\n",
       "      <th>red spot</th>\n",
       "      <th>angioectasia</th>\n",
       "      <th>active bleeding</th>\n",
       "      <th>erosion</th>\n",
       "      <th>ulcer</th>\n",
       "      <th>stricture</th>\n",
       "    </tr>\n",
       "  </thead>\n",
       "  <tbody>\n",
       "    <tr>\n",
       "      <th>0</th>\n",
       "      <td>AJ</td>\n",
       "      <td>2.0</td>\n",
       "      <td>0.0</td>\n",
       "      <td>0.0</td>\n",
       "      <td>0.0</td>\n",
       "      <td>0.0</td>\n",
       "      <td>0.0</td>\n",
       "      <td>0.0</td>\n",
       "      <td>0.0</td>\n",
       "    </tr>\n",
       "    <tr>\n",
       "      <th>1</th>\n",
       "      <td>BK</td>\n",
       "      <td>0.0</td>\n",
       "      <td>0.0</td>\n",
       "      <td>2.0</td>\n",
       "      <td>0.0</td>\n",
       "      <td>2.0</td>\n",
       "      <td>0.0</td>\n",
       "      <td>0.0</td>\n",
       "      <td>0.0</td>\n",
       "    </tr>\n",
       "    <tr>\n",
       "      <th>2</th>\n",
       "      <td>BS</td>\n",
       "      <td>0.0</td>\n",
       "      <td>0.0</td>\n",
       "      <td>2.0</td>\n",
       "      <td>0.0</td>\n",
       "      <td>0.0</td>\n",
       "      <td>0.0</td>\n",
       "      <td>0.0</td>\n",
       "      <td>0.0</td>\n",
       "    </tr>\n",
       "    <tr>\n",
       "      <th>3</th>\n",
       "      <td>CE</td>\n",
       "      <td>0.0</td>\n",
       "      <td>0.0</td>\n",
       "      <td>0.0</td>\n",
       "      <td>0.0</td>\n",
       "      <td>0.0</td>\n",
       "      <td>1.0</td>\n",
       "      <td>0.0</td>\n",
       "      <td>0.0</td>\n",
       "    </tr>\n",
       "    <tr>\n",
       "      <th>4</th>\n",
       "      <td>CGB</td>\n",
       "      <td>1.0</td>\n",
       "      <td>0.0</td>\n",
       "      <td>1.0</td>\n",
       "      <td>0.0</td>\n",
       "      <td>0.0</td>\n",
       "      <td>1.0</td>\n",
       "      <td>1.0</td>\n",
       "      <td>1.0</td>\n",
       "    </tr>\n",
       "    <tr>\n",
       "      <th>5</th>\n",
       "      <td>CH</td>\n",
       "      <td>0.0</td>\n",
       "      <td>0.0</td>\n",
       "      <td>1.0</td>\n",
       "      <td>0.0</td>\n",
       "      <td>1.0</td>\n",
       "      <td>1.0</td>\n",
       "      <td>2.0</td>\n",
       "      <td>0.0</td>\n",
       "    </tr>\n",
       "    <tr>\n",
       "      <th>6</th>\n",
       "      <td>CJ</td>\n",
       "      <td>0.0</td>\n",
       "      <td>0.0</td>\n",
       "      <td>1.0</td>\n",
       "      <td>0.0</td>\n",
       "      <td>2.0</td>\n",
       "      <td>1.0</td>\n",
       "      <td>0.0</td>\n",
       "      <td>0.0</td>\n",
       "    </tr>\n",
       "    <tr>\n",
       "      <th>7</th>\n",
       "      <td>CK</td>\n",
       "      <td>0.0</td>\n",
       "      <td>0.0</td>\n",
       "      <td>0.0</td>\n",
       "      <td>0.0</td>\n",
       "      <td>1.0</td>\n",
       "      <td>0.0</td>\n",
       "      <td>0.0</td>\n",
       "      <td>0.0</td>\n",
       "    </tr>\n",
       "    <tr>\n",
       "      <th>8</th>\n",
       "      <td>CP</td>\n",
       "      <td>0.0</td>\n",
       "      <td>0.0</td>\n",
       "      <td>0.0</td>\n",
       "      <td>0.0</td>\n",
       "      <td>0.0</td>\n",
       "      <td>1.0</td>\n",
       "      <td>0.0</td>\n",
       "      <td>0.0</td>\n",
       "    </tr>\n",
       "    <tr>\n",
       "      <th>9</th>\n",
       "      <td>CW</td>\n",
       "      <td>2.0</td>\n",
       "      <td>0.0</td>\n",
       "      <td>0.0</td>\n",
       "      <td>0.0</td>\n",
       "      <td>0.0</td>\n",
       "      <td>1.0</td>\n",
       "      <td>1.0</td>\n",
       "      <td>0.0</td>\n",
       "    </tr>\n",
       "    <tr>\n",
       "      <th>10</th>\n",
       "      <td>CY</td>\n",
       "      <td>0.0</td>\n",
       "      <td>0.0</td>\n",
       "      <td>1.0</td>\n",
       "      <td>0.0</td>\n",
       "      <td>0.0</td>\n",
       "      <td>1.0</td>\n",
       "      <td>0.0</td>\n",
       "      <td>0.0</td>\n",
       "    </tr>\n",
       "    <tr>\n",
       "      <th>11</th>\n",
       "      <td>DG</td>\n",
       "      <td>0.0</td>\n",
       "      <td>0.0</td>\n",
       "      <td>0.0</td>\n",
       "      <td>0.0</td>\n",
       "      <td>0.0</td>\n",
       "      <td>1.0</td>\n",
       "      <td>1.0</td>\n",
       "      <td>0.0</td>\n",
       "    </tr>\n",
       "    <tr>\n",
       "      <th>12</th>\n",
       "      <td>DJ</td>\n",
       "      <td>1.0</td>\n",
       "      <td>0.0</td>\n",
       "      <td>0.0</td>\n",
       "      <td>0.0</td>\n",
       "      <td>0.0</td>\n",
       "      <td>0.0</td>\n",
       "      <td>0.0</td>\n",
       "      <td>0.0</td>\n",
       "    </tr>\n",
       "    <tr>\n",
       "      <th>13</th>\n",
       "      <td>DK</td>\n",
       "      <td>0.0</td>\n",
       "      <td>0.0</td>\n",
       "      <td>1.0</td>\n",
       "      <td>0.0</td>\n",
       "      <td>0.0</td>\n",
       "      <td>1.0</td>\n",
       "      <td>0.0</td>\n",
       "      <td>0.0</td>\n",
       "    </tr>\n",
       "    <tr>\n",
       "      <th>14</th>\n",
       "      <td>DO</td>\n",
       "      <td>2.0</td>\n",
       "      <td>0.0</td>\n",
       "      <td>1.0</td>\n",
       "      <td>0.0</td>\n",
       "      <td>0.0</td>\n",
       "      <td>0.0</td>\n",
       "      <td>0.0</td>\n",
       "      <td>0.0</td>\n",
       "    </tr>\n",
       "    <tr>\n",
       "      <th>15</th>\n",
       "      <td>DP</td>\n",
       "      <td>0.0</td>\n",
       "      <td>0.0</td>\n",
       "      <td>1.0</td>\n",
       "      <td>0.0</td>\n",
       "      <td>0.0</td>\n",
       "      <td>1.0</td>\n",
       "      <td>0.0</td>\n",
       "      <td>0.0</td>\n",
       "    </tr>\n",
       "    <tr>\n",
       "      <th>16</th>\n",
       "      <td>EA</td>\n",
       "      <td>1.0</td>\n",
       "      <td>0.0</td>\n",
       "      <td>1.0</td>\n",
       "      <td>0.0</td>\n",
       "      <td>1.0</td>\n",
       "      <td>0.0</td>\n",
       "      <td>1.0</td>\n",
       "      <td>0.0</td>\n",
       "    </tr>\n",
       "    <tr>\n",
       "      <th>17</th>\n",
       "      <td>EC</td>\n",
       "      <td>1.0</td>\n",
       "      <td>0.0</td>\n",
       "      <td>0.0</td>\n",
       "      <td>0.0</td>\n",
       "      <td>0.0</td>\n",
       "      <td>0.0</td>\n",
       "      <td>0.0</td>\n",
       "      <td>0.0</td>\n",
       "    </tr>\n",
       "    <tr>\n",
       "      <th>18</th>\n",
       "      <td>EG</td>\n",
       "      <td>0.0</td>\n",
       "      <td>0.0</td>\n",
       "      <td>0.0</td>\n",
       "      <td>0.0</td>\n",
       "      <td>0.0</td>\n",
       "      <td>1.0</td>\n",
       "      <td>0.0</td>\n",
       "      <td>0.0</td>\n",
       "    </tr>\n",
       "    <tr>\n",
       "      <th>19</th>\n",
       "      <td>EK</td>\n",
       "      <td>1.0</td>\n",
       "      <td>0.0</td>\n",
       "      <td>0.0</td>\n",
       "      <td>0.0</td>\n",
       "      <td>0.0</td>\n",
       "      <td>0.0</td>\n",
       "      <td>0.0</td>\n",
       "      <td>0.0</td>\n",
       "    </tr>\n",
       "    <tr>\n",
       "      <th>20</th>\n",
       "      <td>EL</td>\n",
       "      <td>0.0</td>\n",
       "      <td>0.0</td>\n",
       "      <td>0.0</td>\n",
       "      <td>0.0</td>\n",
       "      <td>0.0</td>\n",
       "      <td>1.0</td>\n",
       "      <td>0.0</td>\n",
       "      <td>0.0</td>\n",
       "    </tr>\n",
       "    <tr>\n",
       "      <th>21</th>\n",
       "      <td>GB</td>\n",
       "      <td>0.0</td>\n",
       "      <td>0.0</td>\n",
       "      <td>1.0</td>\n",
       "      <td>0.0</td>\n",
       "      <td>0.0</td>\n",
       "      <td>0.0</td>\n",
       "      <td>0.0</td>\n",
       "      <td>0.0</td>\n",
       "    </tr>\n",
       "    <tr>\n",
       "      <th>22</th>\n",
       "      <td>GK</td>\n",
       "      <td>0.0</td>\n",
       "      <td>0.0</td>\n",
       "      <td>1.0</td>\n",
       "      <td>0.0</td>\n",
       "      <td>1.0</td>\n",
       "      <td>0.0</td>\n",
       "      <td>2.0</td>\n",
       "      <td>1.0</td>\n",
       "    </tr>\n",
       "    <tr>\n",
       "      <th>23</th>\n",
       "      <td>GN</td>\n",
       "      <td>1.0</td>\n",
       "      <td>0.0</td>\n",
       "      <td>0.0</td>\n",
       "      <td>0.0</td>\n",
       "      <td>0.0</td>\n",
       "      <td>1.0</td>\n",
       "      <td>2.0</td>\n",
       "      <td>0.0</td>\n",
       "    </tr>\n",
       "    <tr>\n",
       "      <th>24</th>\n",
       "      <td>HG</td>\n",
       "      <td>0.0</td>\n",
       "      <td>0.0</td>\n",
       "      <td>1.0</td>\n",
       "      <td>0.0</td>\n",
       "      <td>1.0</td>\n",
       "      <td>1.0</td>\n",
       "      <td>0.0</td>\n",
       "      <td>0.0</td>\n",
       "    </tr>\n",
       "    <tr>\n",
       "      <th>25</th>\n",
       "      <td>HL</td>\n",
       "      <td>0.0</td>\n",
       "      <td>0.0</td>\n",
       "      <td>0.0</td>\n",
       "      <td>0.0</td>\n",
       "      <td>0.0</td>\n",
       "      <td>1.0</td>\n",
       "      <td>0.0</td>\n",
       "      <td>0.0</td>\n",
       "    </tr>\n",
       "    <tr>\n",
       "      <th>26</th>\n",
       "      <td>HN</td>\n",
       "      <td>0.0</td>\n",
       "      <td>0.0</td>\n",
       "      <td>0.0</td>\n",
       "      <td>0.0</td>\n",
       "      <td>0.0</td>\n",
       "      <td>2.0</td>\n",
       "      <td>0.0</td>\n",
       "      <td>0.0</td>\n",
       "    </tr>\n",
       "    <tr>\n",
       "      <th>27</th>\n",
       "      <td>HS</td>\n",
       "      <td>1.0</td>\n",
       "      <td>0.0</td>\n",
       "      <td>2.0</td>\n",
       "      <td>0.0</td>\n",
       "      <td>0.0</td>\n",
       "      <td>0.0</td>\n",
       "      <td>0.0</td>\n",
       "      <td>0.0</td>\n",
       "    </tr>\n",
       "    <tr>\n",
       "      <th>28</th>\n",
       "      <td>Hr</td>\n",
       "      <td>0.0</td>\n",
       "      <td>0.0</td>\n",
       "      <td>1.0</td>\n",
       "      <td>0.0</td>\n",
       "      <td>0.0</td>\n",
       "      <td>1.0</td>\n",
       "      <td>0.0</td>\n",
       "      <td>0.0</td>\n",
       "    </tr>\n",
       "    <tr>\n",
       "      <th>29</th>\n",
       "      <td>IH</td>\n",
       "      <td>0.0</td>\n",
       "      <td>0.0</td>\n",
       "      <td>1.0</td>\n",
       "      <td>0.0</td>\n",
       "      <td>0.0</td>\n",
       "      <td>0.0</td>\n",
       "      <td>2.0</td>\n",
       "      <td>0.0</td>\n",
       "    </tr>\n",
       "    <tr>\n",
       "      <th>...</th>\n",
       "      <td>...</td>\n",
       "      <td>...</td>\n",
       "      <td>...</td>\n",
       "      <td>...</td>\n",
       "      <td>...</td>\n",
       "      <td>...</td>\n",
       "      <td>...</td>\n",
       "      <td>...</td>\n",
       "      <td>...</td>\n",
       "    </tr>\n",
       "    <tr>\n",
       "      <th>244</th>\n",
       "      <td>철김</td>\n",
       "      <td>0.0</td>\n",
       "      <td>0.0</td>\n",
       "      <td>1.0</td>\n",
       "      <td>0.0</td>\n",
       "      <td>1.0</td>\n",
       "      <td>1.0</td>\n",
       "      <td>1.0</td>\n",
       "      <td>1.0</td>\n",
       "    </tr>\n",
       "    <tr>\n",
       "      <th>245</th>\n",
       "      <td>철성</td>\n",
       "      <td>0.0</td>\n",
       "      <td>1.0</td>\n",
       "      <td>2.0</td>\n",
       "      <td>0.0</td>\n",
       "      <td>0.0</td>\n",
       "      <td>0.0</td>\n",
       "      <td>0.0</td>\n",
       "      <td>0.0</td>\n",
       "    </tr>\n",
       "    <tr>\n",
       "      <th>246</th>\n",
       "      <td>철전</td>\n",
       "      <td>0.0</td>\n",
       "      <td>0.0</td>\n",
       "      <td>1.0</td>\n",
       "      <td>0.0</td>\n",
       "      <td>0.0</td>\n",
       "      <td>1.0</td>\n",
       "      <td>0.0</td>\n",
       "      <td>0.0</td>\n",
       "    </tr>\n",
       "    <tr>\n",
       "      <th>247</th>\n",
       "      <td>청곽</td>\n",
       "      <td>1.0</td>\n",
       "      <td>1.0</td>\n",
       "      <td>1.0</td>\n",
       "      <td>0.0</td>\n",
       "      <td>0.0</td>\n",
       "      <td>0.0</td>\n",
       "      <td>1.0</td>\n",
       "      <td>0.0</td>\n",
       "    </tr>\n",
       "    <tr>\n",
       "      <th>248</th>\n",
       "      <td>청이</td>\n",
       "      <td>1.0</td>\n",
       "      <td>0.0</td>\n",
       "      <td>1.0</td>\n",
       "      <td>0.0</td>\n",
       "      <td>0.0</td>\n",
       "      <td>1.0</td>\n",
       "      <td>2.0</td>\n",
       "      <td>0.0</td>\n",
       "    </tr>\n",
       "    <tr>\n",
       "      <th>249</th>\n",
       "      <td>충이</td>\n",
       "      <td>0.0</td>\n",
       "      <td>0.0</td>\n",
       "      <td>0.0</td>\n",
       "      <td>1.0</td>\n",
       "      <td>0.0</td>\n",
       "      <td>0.0</td>\n",
       "      <td>0.0</td>\n",
       "      <td>0.0</td>\n",
       "    </tr>\n",
       "    <tr>\n",
       "      <th>250</th>\n",
       "      <td>치최</td>\n",
       "      <td>1.0</td>\n",
       "      <td>0.0</td>\n",
       "      <td>0.0</td>\n",
       "      <td>0.0</td>\n",
       "      <td>0.0</td>\n",
       "      <td>0.0</td>\n",
       "      <td>1.0</td>\n",
       "      <td>0.0</td>\n",
       "    </tr>\n",
       "    <tr>\n",
       "      <th>251</th>\n",
       "      <td>태김</td>\n",
       "      <td>0.0</td>\n",
       "      <td>0.0</td>\n",
       "      <td>0.0</td>\n",
       "      <td>0.0</td>\n",
       "      <td>1.0</td>\n",
       "      <td>0.0</td>\n",
       "      <td>0.0</td>\n",
       "      <td>0.0</td>\n",
       "    </tr>\n",
       "    <tr>\n",
       "      <th>252</th>\n",
       "      <td>태조</td>\n",
       "      <td>1.0</td>\n",
       "      <td>0.0</td>\n",
       "      <td>1.0</td>\n",
       "      <td>0.0</td>\n",
       "      <td>0.0</td>\n",
       "      <td>0.0</td>\n",
       "      <td>0.0</td>\n",
       "      <td>0.0</td>\n",
       "    </tr>\n",
       "    <tr>\n",
       "      <th>253</th>\n",
       "      <td>학현</td>\n",
       "      <td>0.0</td>\n",
       "      <td>0.0</td>\n",
       "      <td>0.0</td>\n",
       "      <td>0.0</td>\n",
       "      <td>0.0</td>\n",
       "      <td>1.0</td>\n",
       "      <td>0.0</td>\n",
       "      <td>0.0</td>\n",
       "    </tr>\n",
       "    <tr>\n",
       "      <th>254</th>\n",
       "      <td>한박</td>\n",
       "      <td>1.0</td>\n",
       "      <td>0.0</td>\n",
       "      <td>1.0</td>\n",
       "      <td>0.0</td>\n",
       "      <td>0.0</td>\n",
       "      <td>1.0</td>\n",
       "      <td>0.0</td>\n",
       "      <td>0.0</td>\n",
       "    </tr>\n",
       "    <tr>\n",
       "      <th>255</th>\n",
       "      <td>한이</td>\n",
       "      <td>2.0</td>\n",
       "      <td>0.0</td>\n",
       "      <td>0.0</td>\n",
       "      <td>0.0</td>\n",
       "      <td>0.0</td>\n",
       "      <td>0.0</td>\n",
       "      <td>0.0</td>\n",
       "      <td>0.0</td>\n",
       "    </tr>\n",
       "    <tr>\n",
       "      <th>256</th>\n",
       "      <td>해나</td>\n",
       "      <td>0.0</td>\n",
       "      <td>1.0</td>\n",
       "      <td>0.0</td>\n",
       "      <td>0.0</td>\n",
       "      <td>0.0</td>\n",
       "      <td>0.0</td>\n",
       "      <td>0.0</td>\n",
       "      <td>0.0</td>\n",
       "    </tr>\n",
       "    <tr>\n",
       "      <th>257</th>\n",
       "      <td>해정</td>\n",
       "      <td>0.0</td>\n",
       "      <td>0.0</td>\n",
       "      <td>2.0</td>\n",
       "      <td>0.0</td>\n",
       "      <td>2.0</td>\n",
       "      <td>0.0</td>\n",
       "      <td>1.0</td>\n",
       "      <td>0.0</td>\n",
       "    </tr>\n",
       "    <tr>\n",
       "      <th>258</th>\n",
       "      <td>향신</td>\n",
       "      <td>0.0</td>\n",
       "      <td>2.0</td>\n",
       "      <td>0.0</td>\n",
       "      <td>0.0</td>\n",
       "      <td>0.0</td>\n",
       "      <td>0.0</td>\n",
       "      <td>0.0</td>\n",
       "      <td>0.0</td>\n",
       "    </tr>\n",
       "    <tr>\n",
       "      <th>259</th>\n",
       "      <td>현강</td>\n",
       "      <td>1.0</td>\n",
       "      <td>2.0</td>\n",
       "      <td>1.0</td>\n",
       "      <td>0.0</td>\n",
       "      <td>0.0</td>\n",
       "      <td>1.0</td>\n",
       "      <td>1.0</td>\n",
       "      <td>0.0</td>\n",
       "    </tr>\n",
       "    <tr>\n",
       "      <th>260</th>\n",
       "      <td>현노</td>\n",
       "      <td>1.0</td>\n",
       "      <td>0.0</td>\n",
       "      <td>0.0</td>\n",
       "      <td>0.0</td>\n",
       "      <td>0.0</td>\n",
       "      <td>0.0</td>\n",
       "      <td>0.0</td>\n",
       "      <td>0.0</td>\n",
       "    </tr>\n",
       "    <tr>\n",
       "      <th>261</th>\n",
       "      <td>현서</td>\n",
       "      <td>1.0</td>\n",
       "      <td>0.0</td>\n",
       "      <td>0.0</td>\n",
       "      <td>0.0</td>\n",
       "      <td>0.0</td>\n",
       "      <td>0.0</td>\n",
       "      <td>0.0</td>\n",
       "      <td>0.0</td>\n",
       "    </tr>\n",
       "    <tr>\n",
       "      <th>262</th>\n",
       "      <td>현이</td>\n",
       "      <td>1.0</td>\n",
       "      <td>0.0</td>\n",
       "      <td>1.0</td>\n",
       "      <td>0.0</td>\n",
       "      <td>2.0</td>\n",
       "      <td>1.0</td>\n",
       "      <td>1.0</td>\n",
       "      <td>0.0</td>\n",
       "    </tr>\n",
       "    <tr>\n",
       "      <th>263</th>\n",
       "      <td>형최</td>\n",
       "      <td>1.0</td>\n",
       "      <td>1.0</td>\n",
       "      <td>0.0</td>\n",
       "      <td>0.0</td>\n",
       "      <td>0.0</td>\n",
       "      <td>0.0</td>\n",
       "      <td>0.0</td>\n",
       "      <td>0.0</td>\n",
       "    </tr>\n",
       "    <tr>\n",
       "      <th>264</th>\n",
       "      <td>혜박</td>\n",
       "      <td>0.0</td>\n",
       "      <td>1.0</td>\n",
       "      <td>0.0</td>\n",
       "      <td>0.0</td>\n",
       "      <td>0.0</td>\n",
       "      <td>2.0</td>\n",
       "      <td>0.0</td>\n",
       "      <td>0.0</td>\n",
       "    </tr>\n",
       "    <tr>\n",
       "      <th>265</th>\n",
       "      <td>혜유</td>\n",
       "      <td>1.0</td>\n",
       "      <td>0.0</td>\n",
       "      <td>1.0</td>\n",
       "      <td>0.0</td>\n",
       "      <td>0.0</td>\n",
       "      <td>0.0</td>\n",
       "      <td>0.0</td>\n",
       "      <td>0.0</td>\n",
       "    </tr>\n",
       "    <tr>\n",
       "      <th>266</th>\n",
       "      <td>홍양</td>\n",
       "      <td>0.0</td>\n",
       "      <td>1.0</td>\n",
       "      <td>1.0</td>\n",
       "      <td>0.0</td>\n",
       "      <td>0.0</td>\n",
       "      <td>0.0</td>\n",
       "      <td>0.0</td>\n",
       "      <td>0.0</td>\n",
       "    </tr>\n",
       "    <tr>\n",
       "      <th>267</th>\n",
       "      <td>화김</td>\n",
       "      <td>2.0</td>\n",
       "      <td>0.0</td>\n",
       "      <td>1.0</td>\n",
       "      <td>0.0</td>\n",
       "      <td>0.0</td>\n",
       "      <td>0.0</td>\n",
       "      <td>1.0</td>\n",
       "      <td>0.0</td>\n",
       "    </tr>\n",
       "    <tr>\n",
       "      <th>268</th>\n",
       "      <td>화엄</td>\n",
       "      <td>0.0</td>\n",
       "      <td>1.0</td>\n",
       "      <td>0.0</td>\n",
       "      <td>0.0</td>\n",
       "      <td>0.0</td>\n",
       "      <td>0.0</td>\n",
       "      <td>0.0</td>\n",
       "      <td>0.0</td>\n",
       "    </tr>\n",
       "    <tr>\n",
       "      <th>269</th>\n",
       "      <td>화이</td>\n",
       "      <td>1.0</td>\n",
       "      <td>0.0</td>\n",
       "      <td>1.0</td>\n",
       "      <td>0.0</td>\n",
       "      <td>0.0</td>\n",
       "      <td>1.0</td>\n",
       "      <td>0.0</td>\n",
       "      <td>0.0</td>\n",
       "    </tr>\n",
       "    <tr>\n",
       "      <th>270</th>\n",
       "      <td>휘장</td>\n",
       "      <td>2.0</td>\n",
       "      <td>0.0</td>\n",
       "      <td>1.0</td>\n",
       "      <td>0.0</td>\n",
       "      <td>0.0</td>\n",
       "      <td>0.0</td>\n",
       "      <td>0.0</td>\n",
       "      <td>0.0</td>\n",
       "    </tr>\n",
       "    <tr>\n",
       "      <th>271</th>\n",
       "      <td>희박</td>\n",
       "      <td>1.0</td>\n",
       "      <td>1.0</td>\n",
       "      <td>0.0</td>\n",
       "      <td>0.0</td>\n",
       "      <td>0.0</td>\n",
       "      <td>0.0</td>\n",
       "      <td>0.0</td>\n",
       "      <td>0.0</td>\n",
       "    </tr>\n",
       "    <tr>\n",
       "      <th>272</th>\n",
       "      <td>희신</td>\n",
       "      <td>2.0</td>\n",
       "      <td>1.0</td>\n",
       "      <td>0.0</td>\n",
       "      <td>0.0</td>\n",
       "      <td>0.0</td>\n",
       "      <td>1.0</td>\n",
       "      <td>0.0</td>\n",
       "      <td>0.0</td>\n",
       "    </tr>\n",
       "    <tr>\n",
       "      <th>273</th>\n",
       "      <td>희정</td>\n",
       "      <td>0.0</td>\n",
       "      <td>2.0</td>\n",
       "      <td>0.0</td>\n",
       "      <td>0.0</td>\n",
       "      <td>0.0</td>\n",
       "      <td>1.0</td>\n",
       "      <td>0.0</td>\n",
       "      <td>0.0</td>\n",
       "    </tr>\n",
       "  </tbody>\n",
       "</table>\n",
       "<p>274 rows × 9 columns</p>\n",
       "</div>"
      ],
      "text/plain": [
       "    patient  negative1  negative2  red spot  angioectasia  active bleeding  \\\n",
       "0        AJ        2.0        0.0       0.0           0.0              0.0   \n",
       "1        BK        0.0        0.0       2.0           0.0              2.0   \n",
       "2        BS        0.0        0.0       2.0           0.0              0.0   \n",
       "3        CE        0.0        0.0       0.0           0.0              0.0   \n",
       "4       CGB        1.0        0.0       1.0           0.0              0.0   \n",
       "5        CH        0.0        0.0       1.0           0.0              1.0   \n",
       "6        CJ        0.0        0.0       1.0           0.0              2.0   \n",
       "7        CK        0.0        0.0       0.0           0.0              1.0   \n",
       "8        CP        0.0        0.0       0.0           0.0              0.0   \n",
       "9        CW        2.0        0.0       0.0           0.0              0.0   \n",
       "10       CY        0.0        0.0       1.0           0.0              0.0   \n",
       "11       DG        0.0        0.0       0.0           0.0              0.0   \n",
       "12       DJ        1.0        0.0       0.0           0.0              0.0   \n",
       "13       DK        0.0        0.0       1.0           0.0              0.0   \n",
       "14       DO        2.0        0.0       1.0           0.0              0.0   \n",
       "15       DP        0.0        0.0       1.0           0.0              0.0   \n",
       "16       EA        1.0        0.0       1.0           0.0              1.0   \n",
       "17       EC        1.0        0.0       0.0           0.0              0.0   \n",
       "18       EG        0.0        0.0       0.0           0.0              0.0   \n",
       "19       EK        1.0        0.0       0.0           0.0              0.0   \n",
       "20       EL        0.0        0.0       0.0           0.0              0.0   \n",
       "21       GB        0.0        0.0       1.0           0.0              0.0   \n",
       "22       GK        0.0        0.0       1.0           0.0              1.0   \n",
       "23       GN        1.0        0.0       0.0           0.0              0.0   \n",
       "24       HG        0.0        0.0       1.0           0.0              1.0   \n",
       "25       HL        0.0        0.0       0.0           0.0              0.0   \n",
       "26       HN        0.0        0.0       0.0           0.0              0.0   \n",
       "27       HS        1.0        0.0       2.0           0.0              0.0   \n",
       "28       Hr        0.0        0.0       1.0           0.0              0.0   \n",
       "29       IH        0.0        0.0       1.0           0.0              0.0   \n",
       "..      ...        ...        ...       ...           ...              ...   \n",
       "244      철김        0.0        0.0       1.0           0.0              1.0   \n",
       "245      철성        0.0        1.0       2.0           0.0              0.0   \n",
       "246      철전        0.0        0.0       1.0           0.0              0.0   \n",
       "247      청곽        1.0        1.0       1.0           0.0              0.0   \n",
       "248      청이        1.0        0.0       1.0           0.0              0.0   \n",
       "249      충이        0.0        0.0       0.0           1.0              0.0   \n",
       "250      치최        1.0        0.0       0.0           0.0              0.0   \n",
       "251      태김        0.0        0.0       0.0           0.0              1.0   \n",
       "252      태조        1.0        0.0       1.0           0.0              0.0   \n",
       "253      학현        0.0        0.0       0.0           0.0              0.0   \n",
       "254      한박        1.0        0.0       1.0           0.0              0.0   \n",
       "255      한이        2.0        0.0       0.0           0.0              0.0   \n",
       "256      해나        0.0        1.0       0.0           0.0              0.0   \n",
       "257      해정        0.0        0.0       2.0           0.0              2.0   \n",
       "258      향신        0.0        2.0       0.0           0.0              0.0   \n",
       "259      현강        1.0        2.0       1.0           0.0              0.0   \n",
       "260      현노        1.0        0.0       0.0           0.0              0.0   \n",
       "261      현서        1.0        0.0       0.0           0.0              0.0   \n",
       "262      현이        1.0        0.0       1.0           0.0              2.0   \n",
       "263      형최        1.0        1.0       0.0           0.0              0.0   \n",
       "264      혜박        0.0        1.0       0.0           0.0              0.0   \n",
       "265      혜유        1.0        0.0       1.0           0.0              0.0   \n",
       "266      홍양        0.0        1.0       1.0           0.0              0.0   \n",
       "267      화김        2.0        0.0       1.0           0.0              0.0   \n",
       "268      화엄        0.0        1.0       0.0           0.0              0.0   \n",
       "269      화이        1.0        0.0       1.0           0.0              0.0   \n",
       "270      휘장        2.0        0.0       1.0           0.0              0.0   \n",
       "271      희박        1.0        1.0       0.0           0.0              0.0   \n",
       "272      희신        2.0        1.0       0.0           0.0              0.0   \n",
       "273      희정        0.0        2.0       0.0           0.0              0.0   \n",
       "\n",
       "     erosion  ulcer  stricture  \n",
       "0        0.0    0.0        0.0  \n",
       "1        0.0    0.0        0.0  \n",
       "2        0.0    0.0        0.0  \n",
       "3        1.0    0.0        0.0  \n",
       "4        1.0    1.0        1.0  \n",
       "5        1.0    2.0        0.0  \n",
       "6        1.0    0.0        0.0  \n",
       "7        0.0    0.0        0.0  \n",
       "8        1.0    0.0        0.0  \n",
       "9        1.0    1.0        0.0  \n",
       "10       1.0    0.0        0.0  \n",
       "11       1.0    1.0        0.0  \n",
       "12       0.0    0.0        0.0  \n",
       "13       1.0    0.0        0.0  \n",
       "14       0.0    0.0        0.0  \n",
       "15       1.0    0.0        0.0  \n",
       "16       0.0    1.0        0.0  \n",
       "17       0.0    0.0        0.0  \n",
       "18       1.0    0.0        0.0  \n",
       "19       0.0    0.0        0.0  \n",
       "20       1.0    0.0        0.0  \n",
       "21       0.0    0.0        0.0  \n",
       "22       0.0    2.0        1.0  \n",
       "23       1.0    2.0        0.0  \n",
       "24       1.0    0.0        0.0  \n",
       "25       1.0    0.0        0.0  \n",
       "26       2.0    0.0        0.0  \n",
       "27       0.0    0.0        0.0  \n",
       "28       1.0    0.0        0.0  \n",
       "29       0.0    2.0        0.0  \n",
       "..       ...    ...        ...  \n",
       "244      1.0    1.0        1.0  \n",
       "245      0.0    0.0        0.0  \n",
       "246      1.0    0.0        0.0  \n",
       "247      0.0    1.0        0.0  \n",
       "248      1.0    2.0        0.0  \n",
       "249      0.0    0.0        0.0  \n",
       "250      0.0    1.0        0.0  \n",
       "251      0.0    0.0        0.0  \n",
       "252      0.0    0.0        0.0  \n",
       "253      1.0    0.0        0.0  \n",
       "254      1.0    0.0        0.0  \n",
       "255      0.0    0.0        0.0  \n",
       "256      0.0    0.0        0.0  \n",
       "257      0.0    1.0        0.0  \n",
       "258      0.0    0.0        0.0  \n",
       "259      1.0    1.0        0.0  \n",
       "260      0.0    0.0        0.0  \n",
       "261      0.0    0.0        0.0  \n",
       "262      1.0    1.0        0.0  \n",
       "263      0.0    0.0        0.0  \n",
       "264      2.0    0.0        0.0  \n",
       "265      0.0    0.0        0.0  \n",
       "266      0.0    0.0        0.0  \n",
       "267      0.0    1.0        0.0  \n",
       "268      0.0    0.0        0.0  \n",
       "269      1.0    0.0        0.0  \n",
       "270      0.0    0.0        0.0  \n",
       "271      0.0    0.0        0.0  \n",
       "272      1.0    0.0        0.0  \n",
       "273      1.0    0.0        0.0  \n",
       "\n",
       "[274 rows x 9 columns]"
      ]
     },
     "execution_count": 978,
     "metadata": {},
     "output_type": "execute_result"
    }
   ],
   "source": [
    "df"
   ]
  },
  {
   "cell_type": "code",
   "execution_count": 981,
   "metadata": {
    "ExecuteTime": {
     "end_time": "2020-01-14T17:33:49.763330Z",
     "start_time": "2020-01-14T17:33:49.746583Z"
    },
    "hidden": true
   },
   "outputs": [],
   "source": [
    "df.to_csv(\"./patient_info(train_1_test_2).csv\", mode='w', encoding = 'utf-8-sig')"
   ]
  },
  {
   "cell_type": "markdown",
   "metadata": {
    "heading_collapsed": true
   },
   "source": [
    "### Load save info"
   ]
  },
  {
   "cell_type": "code",
   "execution_count": 50,
   "metadata": {
    "ExecuteTime": {
     "end_time": "2020-01-17T08:24:54.176156Z",
     "start_time": "2020-01-17T08:24:54.144342Z"
    },
    "hidden": true
   },
   "outputs": [
    {
     "data": {
      "text/html": [
       "<div>\n",
       "<style scoped>\n",
       "    .dataframe tbody tr th:only-of-type {\n",
       "        vertical-align: middle;\n",
       "    }\n",
       "\n",
       "    .dataframe tbody tr th {\n",
       "        vertical-align: top;\n",
       "    }\n",
       "\n",
       "    .dataframe thead th {\n",
       "        text-align: right;\n",
       "    }\n",
       "</style>\n",
       "<table border=\"1\" class=\"dataframe\">\n",
       "  <thead>\n",
       "    <tr style=\"text-align: right;\">\n",
       "      <th></th>\n",
       "      <th>patient</th>\n",
       "      <th>neg_1</th>\n",
       "      <th>neg_2</th>\n",
       "      <th>redspot</th>\n",
       "      <th>angio</th>\n",
       "      <th>active</th>\n",
       "      <th>ero</th>\n",
       "      <th>ulcer</th>\n",
       "      <th>str</th>\n",
       "    </tr>\n",
       "  </thead>\n",
       "  <tbody>\n",
       "    <tr>\n",
       "      <th>0</th>\n",
       "      <td>AJ</td>\n",
       "      <td>2.0</td>\n",
       "      <td>0.0</td>\n",
       "      <td>0.0</td>\n",
       "      <td>0.0</td>\n",
       "      <td>0.0</td>\n",
       "      <td>0.0</td>\n",
       "      <td>0.0</td>\n",
       "      <td>0.0</td>\n",
       "    </tr>\n",
       "    <tr>\n",
       "      <th>1</th>\n",
       "      <td>BK</td>\n",
       "      <td>0.0</td>\n",
       "      <td>0.0</td>\n",
       "      <td>2.0</td>\n",
       "      <td>0.0</td>\n",
       "      <td>2.0</td>\n",
       "      <td>0.0</td>\n",
       "      <td>0.0</td>\n",
       "      <td>0.0</td>\n",
       "    </tr>\n",
       "    <tr>\n",
       "      <th>2</th>\n",
       "      <td>BS</td>\n",
       "      <td>0.0</td>\n",
       "      <td>0.0</td>\n",
       "      <td>2.0</td>\n",
       "      <td>0.0</td>\n",
       "      <td>0.0</td>\n",
       "      <td>0.0</td>\n",
       "      <td>0.0</td>\n",
       "      <td>0.0</td>\n",
       "    </tr>\n",
       "    <tr>\n",
       "      <th>3</th>\n",
       "      <td>CE</td>\n",
       "      <td>0.0</td>\n",
       "      <td>0.0</td>\n",
       "      <td>0.0</td>\n",
       "      <td>0.0</td>\n",
       "      <td>0.0</td>\n",
       "      <td>1.0</td>\n",
       "      <td>0.0</td>\n",
       "      <td>0.0</td>\n",
       "    </tr>\n",
       "    <tr>\n",
       "      <th>4</th>\n",
       "      <td>CGB</td>\n",
       "      <td>1.0</td>\n",
       "      <td>0.0</td>\n",
       "      <td>1.0</td>\n",
       "      <td>0.0</td>\n",
       "      <td>0.0</td>\n",
       "      <td>1.0</td>\n",
       "      <td>1.0</td>\n",
       "      <td>1.0</td>\n",
       "    </tr>\n",
       "  </tbody>\n",
       "</table>\n",
       "</div>"
      ],
      "text/plain": [
       "  patient  neg_1  neg_2  redspot  angio  active  ero  ulcer  str\n",
       "0      AJ    2.0    0.0      0.0    0.0     0.0  0.0    0.0  0.0\n",
       "1      BK    0.0    0.0      2.0    0.0     2.0  0.0    0.0  0.0\n",
       "2      BS    0.0    0.0      2.0    0.0     0.0  0.0    0.0  0.0\n",
       "3      CE    0.0    0.0      0.0    0.0     0.0  1.0    0.0  0.0\n",
       "4     CGB    1.0    0.0      1.0    0.0     0.0  1.0    1.0  1.0"
      ]
     },
     "execution_count": 50,
     "metadata": {},
     "output_type": "execute_result"
    }
   ],
   "source": [
    "df = pd.read_csv(\"./patient_info(train_1_test_2).csv\")\n",
    "df = df.drop(columns = 'Unnamed: 0')\n",
    "df.head()"
   ]
  },
  {
   "cell_type": "code",
   "execution_count": 49,
   "metadata": {
    "ExecuteTime": {
     "end_time": "2020-01-17T08:24:48.279930Z",
     "start_time": "2020-01-17T08:24:48.267086Z"
    },
    "hidden": true
   },
   "outputs": [],
   "source": [
    "df.to_csv(\"./patient_info(train_1_test_2).csv\", mode='w', encoding = 'utf-8-sig')"
   ]
  },
  {
   "cell_type": "code",
   "execution_count": 74,
   "metadata": {
    "ExecuteTime": {
     "end_time": "2020-01-17T08:41:01.625555Z",
     "start_time": "2020-01-17T08:41:01.617755Z"
    },
    "hidden": true
   },
   "outputs": [],
   "source": [
    "def find_patient(col, phase = 'train'):\n",
    "    if phase == 'train':\n",
    "        return df[df[col] == 1]['patient'].tolist()\n",
    "    elif phase == 'test':\n",
    "        return df[df[col] == 2]['patient'].tolist()"
   ]
  },
  {
   "cell_type": "code",
   "execution_count": 75,
   "metadata": {
    "ExecuteTime": {
     "end_time": "2020-01-17T08:41:02.543529Z",
     "start_time": "2020-01-17T08:41:02.522289Z"
    },
    "hidden": true
   },
   "outputs": [],
   "source": [
    "neg_1_train_patient = find_patient('neg_1', 'train')\n",
    "neg_2_train_patient = find_patient('neg_2', 'train')\n",
    "redspot_train_patient = find_patient('redspot', 'train')\n",
    "angio_train_patient = find_patient('angio', 'train')\n",
    "active_train_patient = find_patient('active', 'train')\n",
    "ero_train_patient = find_patient('ero', 'train')\n",
    "ulcer_train_patient = find_patient('ulcer', 'train')\n",
    "str_train_patient = find_patient('str', 'train')"
   ]
  },
  {
   "cell_type": "code",
   "execution_count": 76,
   "metadata": {
    "ExecuteTime": {
     "end_time": "2020-01-17T08:41:02.684158Z",
     "start_time": "2020-01-17T08:41:02.662997Z"
    },
    "hidden": true
   },
   "outputs": [],
   "source": [
    "neg_1_test_patient = find_patient('neg_1', 'test')\n",
    "neg_2_test_patient = find_patient('neg_2', 'test')\n",
    "redspot_test_patient = find_patient('redspot', 'test')\n",
    "angio_test_patient = find_patient('angio', 'test')\n",
    "active_test_patient = find_patient('active', 'test')\n",
    "ero_test_patient = find_patient('ero', 'test')\n",
    "ulcer_test_patient = find_patient('ulcer', 'test')\n",
    "str_test_patient = find_patient('str', 'test')"
   ]
  },
  {
   "cell_type": "markdown",
   "metadata": {
    "heading_collapsed": true
   },
   "source": [
    "### split into train and test filenames which belongs to train and test patients respectively\n",
    "\n",
    "<font size = 4> by whether it belongs to train_patient or test_patient </font>"
   ]
  },
  {
   "cell_type": "code",
   "execution_count": 79,
   "metadata": {
    "ExecuteTime": {
     "end_time": "2020-01-17T08:41:15.967742Z",
     "start_time": "2020-01-17T08:41:15.958324Z"
    },
    "hidden": true
   },
   "outputs": [],
   "source": [
    "def train_test_by_patient(filenames, train_patient, test_patient):\n",
    "    train_filename = []\n",
    "    test_filename = []\n",
    "    for filename in filenames:\n",
    "        if filename.split('___')[0] in train_patient:\n",
    "            train_filename.append(filename)\n",
    "        elif filename.split('___')[0] in test_patient:\n",
    "            test_filename.append(filename)\n",
    "    return train_filename, test_filename"
   ]
  },
  {
   "cell_type": "code",
   "execution_count": 80,
   "metadata": {
    "ExecuteTime": {
     "end_time": "2020-01-17T08:41:16.170970Z",
     "start_time": "2020-01-17T08:41:16.133110Z"
    },
    "hidden": true
   },
   "outputs": [],
   "source": [
    "neg_1_train_filename, neg_1_test_filename = train_test_by_patient(neg_1_filename, neg_1_train_patient, neg_1_test_patient)\n",
    "neg_2_train_filename, neg_2_test_filename = train_test_by_patient(neg_2_filename, neg_2_train_patient, neg_2_test_patient)\n",
    "redspot_train_filename, redspot_test_filename = train_test_by_patient(redspot_filename, redspot_train_patient, redspot_test_patient)\n",
    "angio_train_filename, angio_test_filename = train_test_by_patient(angio_filename, angio_train_patient, angio_test_patient)\n",
    "active_train_filename, active_test_filename = train_test_by_patient(active_filename, active_train_patient, active_test_patient)\n",
    "ero_train_filename, ero_test_filename = train_test_by_patient(ero_filename, ero_train_patient, ero_test_patient)\n",
    "ulcer_train_filename, ulcer_test_filename = train_test_by_patient(ulcer_filename, ulcer_train_patient, ulcer_test_patient)\n",
    "str_train_filename, str_test_filename = train_test_by_patient(str_filename, str_train_patient, str_test_patient)"
   ]
  },
  {
   "cell_type": "code",
   "execution_count": 923,
   "metadata": {
    "ExecuteTime": {
     "end_time": "2020-01-14T15:19:28.971643Z",
     "start_time": "2020-01-14T15:19:28.961820Z"
    },
    "hidden": true,
    "scrolled": true
   },
   "outputs": [
    {
     "data": {
      "text/plain": [
       "(2536, 5270, 695, 23, 536, 922, 915, 129)"
      ]
     },
     "execution_count": 923,
     "metadata": {},
     "output_type": "execute_result"
    }
   ],
   "source": [
    "len(neg_1_filename), len(neg_2_filename), len(redspot_filename), len(angio_filename), len(active_filename), len(ero_filename), len(ulcer_filename), len(str_filename)"
   ]
  },
  {
   "cell_type": "code",
   "execution_count": 62,
   "metadata": {
    "ExecuteTime": {
     "end_time": "2020-01-17T08:38:27.528227Z",
     "start_time": "2020-01-17T08:38:27.518100Z"
    },
    "hidden": true,
    "scrolled": true
   },
   "outputs": [
    {
     "data": {
      "text/plain": [
       "(2536, 5270, 695, 23, 536, 922, 915, 129)"
      ]
     },
     "execution_count": 62,
     "metadata": {},
     "output_type": "execute_result"
    }
   ],
   "source": [
    "len(neg_1_filename), len(neg_2_filename), len(redspot_filename), len(angio_filename), len(active_filename), len(ero_filename), len(ulcer_filename), len(str_filename)"
   ]
  },
  {
   "cell_type": "code",
   "execution_count": 924,
   "metadata": {
    "ExecuteTime": {
     "end_time": "2020-01-14T15:19:29.841055Z",
     "start_time": "2020-01-14T15:19:29.831347Z"
    },
    "hidden": true
   },
   "outputs": [
    {
     "data": {
      "text/plain": [
       "(2029, 4328, 581, 20, 414, 801, 774, 98)"
      ]
     },
     "execution_count": 924,
     "metadata": {},
     "output_type": "execute_result"
    }
   ],
   "source": [
    "len(neg_1_train_filename), len(neg_2_train_filename), len(redspot_train_filename), len(angio_train_filename), len(active_train_filename), len(ero_train_filename), len(ulcer_train_filename), len(str_train_filename)"
   ]
  },
  {
   "cell_type": "code",
   "execution_count": 81,
   "metadata": {
    "ExecuteTime": {
     "end_time": "2020-01-17T08:41:20.127634Z",
     "start_time": "2020-01-17T08:41:20.117988Z"
    },
    "hidden": true
   },
   "outputs": [
    {
     "data": {
      "text/plain": [
       "(2029, 4328, 581, 20, 414, 801, 774, 98)"
      ]
     },
     "execution_count": 81,
     "metadata": {},
     "output_type": "execute_result"
    }
   ],
   "source": [
    "len(neg_1_train_filename), len(neg_2_train_filename), len(redspot_train_filename), len(angio_train_filename), len(active_train_filename), len(ero_train_filename), len(ulcer_train_filename), len(str_train_filename)"
   ]
  },
  {
   "cell_type": "code",
   "execution_count": 925,
   "metadata": {
    "ExecuteTime": {
     "end_time": "2020-01-14T15:19:31.625336Z",
     "start_time": "2020-01-14T15:19:31.615376Z"
    },
    "hidden": true
   },
   "outputs": [
    {
     "data": {
      "text/plain": [
       "(507, 942, 114, 3, 122, 121, 141, 31)"
      ]
     },
     "execution_count": 925,
     "metadata": {},
     "output_type": "execute_result"
    }
   ],
   "source": [
    "len(neg_1_test_filename), len(neg_2_test_filename), len(redspot_test_filename), len(angio_test_filename), len(active_test_filename), len(ero_test_filename), len(ulcer_test_filename), len(str_test_filename)"
   ]
  },
  {
   "cell_type": "code",
   "execution_count": 82,
   "metadata": {
    "ExecuteTime": {
     "end_time": "2020-01-17T08:41:25.107210Z",
     "start_time": "2020-01-17T08:41:25.098200Z"
    },
    "hidden": true
   },
   "outputs": [
    {
     "data": {
      "text/plain": [
       "(507, 942, 114, 3, 122, 121, 141, 31)"
      ]
     },
     "execution_count": 82,
     "metadata": {},
     "output_type": "execute_result"
    }
   ],
   "source": [
    "len(neg_1_test_filename), len(neg_2_test_filename), len(redspot_test_filename), len(angio_test_filename), len(active_test_filename), len(ero_test_filename), len(ulcer_test_filename), len(str_test_filename)"
   ]
  },
  {
   "cell_type": "markdown",
   "metadata": {
    "heading_collapsed": true
   },
   "source": [
    "### Preprocssing and Save"
   ]
  },
  {
   "cell_type": "code",
   "execution_count": 83,
   "metadata": {
    "ExecuteTime": {
     "end_time": "2020-01-17T08:41:32.265832Z",
     "start_time": "2020-01-17T08:41:32.244688Z"
    },
    "hidden": true
   },
   "outputs": [],
   "source": [
    "def printProgress(iteration, total, prefix = '', suffix = '', decimals = 1, barLength = 100):\n",
    "    formatStr = \"{0:.\" + str(decimals) + \"f}\"\n",
    "    percent = formatStr.format(100 * (iteration / float(total)))\n",
    "    filledLength = int(round(barLength * iteration / float(total)))\n",
    "    bar = '#' * filledLength + '-' * (barLength - filledLength)\n",
    "    sys.stdout.write('\\r{} |{} | {}{} {}'.format(prefix, bar, percent, '%', suffix)),\n",
    "    if iteration == total:\n",
    "        sys.stdout.write('\\n')\n",
    "    sys.stdout.flush()\n",
    "\n",
    "def target_preprocessings(phase_a_switch = [1, 1, 1], phase_b_switch = True, mode = 'load'):\n",
    "    \"\"\"\n",
    "    phase_a_switch = [1, 1, 1], [0, 0 ,1], [1, 1, 0].... \n",
    "    that means [flip, rotate, blur_sharp]\n",
    "    \"\"\"\n",
    "    phase0 = ['_c']\n",
    "    phase1 = {1: ['-', 'f'], 0: ['-']}\n",
    "    phase2 = {1: ['-', 'r1', 'r2', 'r3'], 0: ['-']}\n",
    "    phase3 = {1: ['-', 'ab', 'mb', 'eh'], 0: ['-']}\n",
    "    phase4 = ['s_-30_v_30', 's_-30_v_-30', 's_30_v_-30', 's_30_v_30']\n",
    "\n",
    "    if mode == 'load':\n",
    "        phase_a_items = [phase1[phase_a_switch[0]], phase2[phase_a_switch[1]], phase3[phase_a_switch[2]]]\n",
    "    elif mode == 'preprocessing':\n",
    "        phase_a_items = [phase0, phase1[phase_a_switch[0]], phase2[phase_a_switch[1]], phase3[phase_a_switch[2]]]\n",
    "\n",
    "    phase_a = []\n",
    "    for i in list(product(*phase_a_items)):\n",
    "        phase_a.append('_'.join(i))\n",
    "\n",
    "    if not phase_b_switch != True:\n",
    "        phase_b = []\n",
    "        for i in list(product(*[phase_a, phase4])):\n",
    "            phase_b.append('_'.join(i))\n",
    "        return list(np.hstack([phase_a, phase_b]))\n",
    "    else:\n",
    "        return phase_a "
   ]
  },
  {
   "cell_type": "code",
   "execution_count": 84,
   "metadata": {
    "ExecuteTime": {
     "end_time": "2020-01-17T08:41:32.493794Z",
     "start_time": "2020-01-17T08:41:32.438520Z"
    },
    "hidden": true
   },
   "outputs": [],
   "source": [
    "class ce_preprocessing:\n",
    "    def __init__(self, data_dir, save_dir):\n",
    "        self.data_dir = data_dir\n",
    "        self.save_dir = save_dir\n",
    "\n",
    "    def cropping(self, img):\n",
    "        img = np.array(img, dtype = 'f4')\n",
    "        img_pre = img[32:544, 32:544, :]\n",
    "        for i in range(100):\n",
    "            for j in range(100):\n",
    "                if i + j > 99:\n",
    "                    pass\n",
    "                else :\n",
    "                    img_pre[i, j, :] = 0\n",
    "                    img_pre[i, -j, :] = 0\n",
    "        return img_pre.astype('uint8')\n",
    "\n",
    "    def rotate(self, img, degree):\n",
    "        rows, cols = img.shape[:2]\n",
    "        M = cv2.getRotationMatrix2D(center = (cols/2, rows/2), angle = degree, scale = 1)\n",
    "        img_rotated = cv2.warpAffine(img, M, dsize = (rows, cols))\n",
    "        return img_rotated\n",
    "    \n",
    "    def blur_and_sharp(self, img):\n",
    "        img_avg_blur = cv2.blur(img, (5,5)).astype('uint8')\n",
    "        \n",
    "        kernel_size = 15\n",
    "        \n",
    "        kernel_motion_blur = np.zeros((kernel_size, kernel_size))\n",
    "        kernel_motion_blur[int((kernel_size-1)/2), :] = np.ones(kernel_size)\n",
    "        kernel_motion_blur = kernel_motion_blur / kernel_size\n",
    "        img_mb = cv2.filter2D(img, -1, kernel_motion_blur).astype('uint8')\n",
    "        \n",
    "        kernel_edge_enhancement = np.array([[-1,-1,-1,-1,-1],[-1,2,2,2,-1],[-1,2,8,2,-1],[-1,2,2,2,-1],[-1,-1,-1,-1,-1]])/8.0\n",
    "        img_eh = cv2.filter2D(img, -1, kernel_edge_enhancement).astype('uint8')    \n",
    "        return img_avg_blur, img_mb, img_eh\n",
    "    \n",
    "    def bgr2_h_s_v(self, img):\n",
    "        hsv = cv2.cvtColor(img, cv2.COLOR_BGR2HSV)\n",
    "        h, s, v = cv2.split(hsv)\n",
    "        return h, s, v\n",
    "\n",
    "    def hsv_control(self, ch_data, ctr_value, ch_name):\n",
    "        \"\"\"\n",
    "        ch_data: data of channel (h, s, or v) which you want to revise by ctr_value / shape: image.shape[0:2]\n",
    "        ctr_value: the value that will be added to corresponding channel.\n",
    "        ch_name: 'h', 's', or 'v'\n",
    "        \"\"\"\n",
    "        ch_data_rev = ch_data.copy()\n",
    "        if ctr_value > 0:\n",
    "            ch_data_rev[np.where(ch_data <= 255 - ctr_value)] += ctr_value\n",
    "        else:\n",
    "            ch_data_rev[np.where(ch_data + ctr_value >= 0)] -= abs(ctr_value)\n",
    "        return ch_data_rev\n",
    "    \n",
    "    def pre_aug(self, img, phase = 'x160'):  \n",
    "        \"\"\"\n",
    "        The image will be preprocessed and augmented at one go \n",
    "        by an entire process consisting of  the repetitive statement (for loop) per the processing phase \n",
    "        \"\"\"\n",
    "        preprocessed_imgs = []\n",
    "        preprocessed_nots = []\n",
    "        \n",
    "        crop = self.cropping(img)\n",
    "        if phase == 'crop':\n",
    "            return [crop], ['_c_-_-_-']\n",
    "        else:\n",
    "            sv_ctr_values = [-30, 30]\n",
    "            c_r1, c_r2, c_r3 = self.rotate(crop, 90), self.rotate(crop, 180), self.rotate(crop, 270)\n",
    "            for r, r_n in zip([crop, c_r1, c_r2, c_r3], ['-', 'r1', 'r2', 'r3']):\n",
    "                r_f = np.flipud(r)\n",
    "                for f,  f_n in zip([r, r_f], ['-', 'f']): \n",
    "                    f_ab, f_mb, f_edge = self.blur_and_sharp(f)\n",
    "                    for b, b_n in zip([f, f_ab, f_mb, f_edge], ['-', 'ab', 'mb', 'eh']):                    \n",
    "                        preprocessed_imgs.append(b)\n",
    "                        not_ = '_c_{}_{}_{}'.format(f_n, r_n, b_n)\n",
    "                        preprocessed_nots.append(not_)\n",
    "                        h, s, v = self.bgr2_h_s_v(b)\n",
    "                        for s_value in sv_ctr_values:\n",
    "                            s_rev = self.hsv_control(s, s_value, ch_name = 's')\n",
    "                            for v_value in sv_ctr_values:\n",
    "                                v_rev = self.hsv_control(v, v_value, ch_name = 'v')\n",
    "                                v_rev[np.where(v <= 7)] = 0\n",
    "                                b_sv = cv2.merge((h, s_rev, v_rev))\n",
    "                                b_sv = cv2.cvtColor(b_sv, cv2.COLOR_HSV2BGR)\n",
    "                                preprocessed_imgs.append(b_sv)\n",
    "                                not_ = '_c_{}_{}_{}_s_{}_v_{}'.format(f_n, r_n, b_n, s_value, v_value)\n",
    "                                preprocessed_nots.append(not_) \n",
    "                if not phase != 'before_rotation':\n",
    "                    break\n",
    "            return preprocessed_imgs, preprocessed_nots\n",
    "    \n",
    "    def avg_blur(self, img):\n",
    "        return cv2.blur(img, (5,5)).astype('uint8')\n",
    "    \n",
    "    def motion_blur(self, img):\n",
    "        kernel_size = 15\n",
    "        kernel_motion_blur = np.zeros((kernel_size, kernel_size))\n",
    "        kernel_motion_blur[int((kernel_size-1)/2), :] = np.ones(kernel_size)\n",
    "        kernel_motion_blur = kernel_motion_blur / kernel_size\n",
    "        return cv2.filter2D(img, -1, kernel_motion_blur).astype('uint8')\n",
    "    \n",
    "    def edge_enhancement(self, img):\n",
    "        kernel_edge = np.array([[-1,-1,-1,-1,-1],[-1,2,2,2,-1],[-1,2,8,2,-1],[-1,2,2,2,-1],[-1,-1,-1,-1,-1]])/8.0\n",
    "        return cv2.filter2D(img, -1, kernel_edge).astype('uint8') \n",
    "    \n",
    "    def s_rev(self, img, s_value):\n",
    "        h, s, v = self.bgr2_h_s_v(img)\n",
    "        s_rev = self.hsv_control(s, s_value, ch_name = 's')\n",
    "        \n",
    "        return [h, s_rev, v]\n",
    "    def v_rev_after_s_rev(self, s_rev_outputs, v_value):\n",
    "        h, s_rev, v = s_rev_outputs\n",
    "        v_rev = self.hsv_control(v, v_value, ch_name = 'v')\n",
    "        v_rev[np.where(v <= 7)] = 0\n",
    "        img_sv = cv2.merge((h, s_rev, v_rev))\n",
    "        return cv2.cvtColor(img_sv, cv2.COLOR_HSV2BGR)\n",
    "            \n",
    "    def pre_aug_target_phase(self, img, phase = 'c'): \n",
    "        \n",
    "        \"\"\"\n",
    "        phase, ex) 'c_f_-_mb_s_-30_v_30' -> 'c_f_-_mb_s-30_v30' -> ['c', 'f', '-', 's-30','v30']\n",
    "        It allows to preprocess the image in specific phase, but slower it is fit to check preprocessing with small data\n",
    "        \"\"\"\n",
    "        function = {'': (lambda x: x), '-': (lambda x: x),\n",
    "                    'c': (lambda x: self.cropping(x)),\n",
    "                    'f': (lambda x: np.flipud(x)), \n",
    "                    'r1': (lambda x: self.rotate(x, 90)), \n",
    "                    'r2': (lambda x: self.rotate(x, 180)), \n",
    "                    'r3': (lambda x: self.rotate(x, 270)),\n",
    "                    'ab': (lambda x: self.avg_blur(x)),\n",
    "                    'mb': (lambda x: self.motion_blur(x)),\n",
    "                    'eh': (lambda x: self.edge_enhancement(x)),\n",
    "                    's-30': (lambda x: self.s_rev(x, -30)),\n",
    "                    's30': (lambda x: self.s_rev(x, 30)),\n",
    "                    'v-30': (lambda x: self.v_rev_after_s_rev(x, -30)),\n",
    "                    'v30': (lambda x: self.v_rev_after_s_rev(x, 30))}\n",
    "        values = ['-30', '30']\n",
    "        for i in values:\n",
    "            if i in phase:\n",
    "                phase = phase.replace('_{}'.format(i), str(i))\n",
    "        phase_seg = phase.split('_')  \n",
    "        for i, p in zip(range(len(phase_seg)), phase_seg):\n",
    "            if i == 0:\n",
    "                p_img = function[p](img)\n",
    "            else:\n",
    "                p_img = function[p](p_img)\n",
    "        return p_img\n",
    "    \n",
    "    def pre_aug_and_save(self, phase, cls, les, filename, preprocessing_phase = 'x160', pre_aug_type = 'for_loop',\n",
    "                         phase_a = [1, 1, 1], phase_b = True):\n",
    "        \n",
    "        \"\"\"\n",
    "        phase = 'train', 'test'\n",
    "        cls: [les]  \n",
    "          'n': ['neg']\n",
    "          'h': ['redspot', 'angio', 'active'], \n",
    "          'd': ['ero', 'ulc', 'str'],\n",
    "          'p': ['amp', 'lym', 'tum']}\n",
    "        preprocessing_phase = 'x160', 'crop', 'before_rotation' for pre_aug\n",
    "        phase_a = [1, 1, 1], [1, 0, 1], [1, 1, 0] .... [flip, rotate, blur_sharp]\n",
    "        phase_b = True -> phase_a (max. x32) + phase_a * sv_control (max. x32x4) => max, 32 x 5\n",
    "        \"\"\"\n",
    "        lesions = dict(neg = 'negative', \n",
    "                       redspot = 'red_spot', angio = 'angioectasia', active = 'active_bleeding', \n",
    "                       ero = 'erosion', ulcer = 'ulcer', str = 'stricture', \n",
    "                       amp = 'ampulla_of_vater', lym = 'lymphoid_follicles', tum = 'small_bowel_tumor')\n",
    "        classes = dict(n = 'negative', h = 'hemorrhagic', d = 'depressed', p = 'protruded')\n",
    "        \n",
    "        save_path = os.path.join(self.save_dir, phase, classes[cls], lesions[les])\n",
    "        import_path = os.path.join(self.data_dir, classes[cls], lesions[les])\n",
    "\n",
    "        if not(os.path.isdir(save_path)):\n",
    "            os.makedirs(save_path)\n",
    "        \n",
    "        for i, f in zip(range(1, len(filename)+1), filename) :\n",
    "            img = cv2.imread(import_path + '/' + f)\n",
    "            if pre_aug_type == 'for_loop':\n",
    "                p_imgs, p_nots = self.pre_aug(img, phase = preprocessing_phase)  \n",
    "                for img_, not_ in zip(p_imgs, p_nots):\n",
    "                    save_filename = os.path.join(save_path, '{}_{}{}'.format(f[:-4], not_, f[-4:]))\n",
    "                    if not(os.path.isfile(save_filename)):\n",
    "                        cv2.imwrite(save_filename, img_)\n",
    "            elif pre_aug_type == 'target_phase':\n",
    "                for not_ in target_preprocessings(phase_a, phase_b, mode = 'preprocessing'):\n",
    "                    save_filename = os.path.join(save_path, '{}_{}{}'.format(f[:-4], not_, f[-4:]))\n",
    "                    if not(os.path.isfile(save_filename)):\n",
    "                        p_img = self.pre_aug_target_phase(img, phase = not_)\n",
    "                        cv2.imwrite(save_filename, p_img)\n",
    "            printProgress(i, len(filename), prefix = '{:05d}'.format(len(filename)))"
   ]
  },
  {
   "cell_type": "code",
   "execution_count": 85,
   "metadata": {
    "ExecuteTime": {
     "end_time": "2020-01-17T08:41:33.706827Z",
     "start_time": "2020-01-17T08:41:33.701981Z"
    },
    "hidden": true
   },
   "outputs": [],
   "source": [
    "data_dir = '/mnt/disk2/data/private_data/SMhospital/capsule/0 data/labeled/190520 p3_2/p3_2'\n",
    "save_dir =  '/mnt/disk2/data/private_data/SMhospital/capsule/1 preprocessed/sm_x160'\n",
    "\n",
    "ce_pre = ce_preprocessing(data_dir, save_dir)"
   ]
  },
  {
   "cell_type": "code",
   "execution_count": 86,
   "metadata": {
    "ExecuteTime": {
     "end_time": "2020-01-17T11:17:49.852268Z",
     "start_time": "2020-01-17T08:41:37.108254Z"
    },
    "hidden": true
   },
   "outputs": [
    {
     "name": "stdout",
     "output_type": "stream",
     "text": [
      "02029 |#################################################################################################### | 100.0% \n"
     ]
    }
   ],
   "source": [
    "ce_pre.pre_aug_and_save(phase = 'train', cls = 'n', les = 'neg', filename = neg_1_train_filename,\n",
    "                        phase_a = [1, 1, 1], phase_b = True, pre_aug_type ='target_phase')"
   ]
  },
  {
   "cell_type": "code",
   "execution_count": 1373,
   "metadata": {
    "ExecuteTime": {
     "end_time": "2020-01-16T05:01:39.431979Z",
     "start_time": "2020-01-16T05:01:03.316468Z"
    },
    "hidden": true
   },
   "outputs": [
    {
     "name": "stdout",
     "output_type": "stream",
     "text": [
      "00581 |#################################################################################################### | 100.0% \n",
      "00020 |#################################################################################################### | 100.0% \n",
      "00414 |#################################################################################################### | 100.0% \n",
      "00801 |#################################################################################################### | 100.0% \n",
      "00774 |#################################################################################################### | 100.0% \n",
      "00098 |#################################################################################################### | 100.0% \n",
      "02029 |#################################################################################################### | 100.0% \n"
     ]
    }
   ],
   "source": [
    "ce_pre.pre_aug_and_save(phase = 'train', cls = 'h', les = 'redspot', filename = redspot_train_filename)\n",
    "ce_pre.pre_aug_and_save(phase = 'train', cls = 'h', les = 'angio', filename = angio_train_filename)\n",
    "ce_pre.pre_aug_and_save(phase = 'train', cls = 'h', les = 'active', filename = active_train_filename)\n",
    "ce_pre.pre_aug_and_save(phase = 'train', cls = 'd', les = 'ero', filename = ero_train_filename)\n",
    "ce_pre.pre_aug_and_save(phase = 'train', cls = 'd', les = 'ulcer', filename = ulcer_train_filename)\n",
    "ce_pre.pre_aug_and_save(phase = 'train', cls = 'd', les = 'str', filename = str_train_filename)\n",
    "ce_pre.pre_aug_and_save(phase = 'train', cls = 'n', les = 'neg', filename = neg_1_train_filename,\n",
    "                        phase_a = [1, 0, 1], phase_b = False, pre_aug_type ='by_phase')"
   ]
  },
  {
   "cell_type": "code",
   "execution_count": 1372,
   "metadata": {
    "ExecuteTime": {
     "end_time": "2020-01-16T05:00:51.468553Z",
     "start_time": "2020-01-16T05:00:41.645370Z"
    },
    "hidden": true
   },
   "outputs": [
    {
     "name": "stdout",
     "output_type": "stream",
     "text": [
      "00114 |#################################################################################################### | 100.0% \n",
      "00003 |#################################################################################################### | 100.0% \n",
      "00122 |#################################################################################################### | 100.0% \n",
      "00121 |#################################################################################################### | 100.0% \n",
      "00141 |#################################################################################################### | 100.0% \n",
      "00031 |#################################################################################################### | 100.0% \n",
      "00507 |#################################################################################################### | 100.0% \n"
     ]
    }
   ],
   "source": [
    "ce_pre.pre_aug_and_save(phase = 'test', cls = 'h', les = 'redspot', filename = redspot_test_filename)\n",
    "ce_pre.pre_aug_and_save(phase = 'test', cls = 'h', les = 'angio', filename = angio_test_filename)\n",
    "ce_pre.pre_aug_and_save(phase = 'test', cls = 'h', les = 'active', filename = active_test_filename)\n",
    "ce_pre.pre_aug_and_save(phase = 'test', cls = 'd', les = 'ero', filename = ero_test_filename)\n",
    "ce_pre.pre_aug_and_save(phase = 'test', cls = 'd', les = 'ulcer', filename = ulcer_test_filename)\n",
    "ce_pre.pre_aug_and_save(phase = 'test', cls = 'd', les = 'str', filename = str_test_filename)\n",
    "ce_pre.pre_aug_and_save(phase = 'test', cls = 'n', les = 'neg', filename = neg_1_test_filename, \n",
    "                        phase_a = [1, 0, 1], phase_b = False, pre_aug_type ='by_phase')"
   ]
  },
  {
   "cell_type": "code",
   "execution_count": 1376,
   "metadata": {
    "ExecuteTime": {
     "end_time": "2020-01-16T05:03:29.084668Z",
     "start_time": "2020-01-16T05:02:33.293258Z"
    },
    "hidden": true
   },
   "outputs": [
    {
     "name": "stdout",
     "output_type": "stream",
     "text": [
      "04328 |#################################################################################################### | 100.0% \n",
      "00942 |#################################################################################################### | 100.0% \n"
     ]
    }
   ],
   "source": [
    "neg_2_dir = '/mnt/disk2/data/private_data/SMhospital/capsule/0 data/labeled/190814 negative/raw'\n",
    "\n",
    "ce_pre = ce_preprocessing(neg_2_dir, save_dir)\n",
    "ce_pre.pre_aug_and_save(phase = 'train', cls = 'n', les = 'neg', filename = neg_2_train_filename,\n",
    "                        phase_a = [1, 1, 0, 1], phase_b = False, pre_aug_type ='by_phase') \n",
    "ce_pre.pre_aug_and_save(phase = 'test', cls = 'n', les = 'neg', filename = neg_2_test_filename, \n",
    "                        phase_a = [1, 1, 0, 1], phase_b = False, pre_aug_type ='by_phase') "
   ]
  },
  {
   "cell_type": "code",
   "execution_count": 1185,
   "metadata": {
    "ExecuteTime": {
     "end_time": "2020-01-15T07:07:04.767579Z",
     "start_time": "2020-01-15T07:07:04.761824Z"
    },
    "hidden": true
   },
   "outputs": [],
   "source": [
    "def num_of_jpg_file(dir_):\n",
    "    print(len(glob.glob(dir_ + '/*.jpg')))"
   ]
  },
  {
   "cell_type": "code",
   "execution_count": 1514,
   "metadata": {
    "ExecuteTime": {
     "end_time": "2020-01-16T07:28:53.341465Z",
     "start_time": "2020-01-16T07:28:52.198497Z"
    },
    "hidden": true
   },
   "outputs": [
    {
     "name": "stdout",
     "output_type": "stream",
     "text": [
      "50856\n",
      "92960\n",
      "3200\n",
      "66240\n",
      "128160\n",
      "123840\n",
      "15680\n"
     ]
    }
   ],
   "source": [
    "num_of_jpg_file(save_dir + '/train/negative/negative' )\n",
    "num_of_jpg_file(save_dir + '/train/hemorrhagic/red_spot' )\n",
    "num_of_jpg_file(save_dir + '/train/hemorrhagic/angioectasia' )\n",
    "num_of_jpg_file(save_dir + '/train/hemorrhagic/active_bleeding' )\n",
    "num_of_jpg_file(save_dir + '/train/depressed/erosion' )\n",
    "num_of_jpg_file(save_dir + '/train/depressed/ulcer' )\n",
    "num_of_jpg_file(save_dir + '/train/depressed/stricture' )"
   ]
  },
  {
   "cell_type": "code",
   "execution_count": 1396,
   "metadata": {
    "ExecuteTime": {
     "end_time": "2020-01-16T05:40:11.540039Z",
     "start_time": "2020-01-16T05:40:11.529288Z"
    },
    "hidden": true
   },
   "outputs": [
    {
     "data": {
      "text/plain": [
       "(50856, 92960, 3200, 66240, 128160, 123840, 15680)"
      ]
     },
     "execution_count": 1396,
     "metadata": {},
     "output_type": "execute_result"
    }
   ],
   "source": [
    "(len(neg_1_train_filename) + len(neg_2_train_filename))*8, len(redspot_train_filename)*160, len(angio_train_filename)*160, len(active_train_filename)*160, len(ero_train_filename)*160, len(ulcer_train_filename)*160, len(str_train_filename)*160"
   ]
  },
  {
   "cell_type": "code",
   "execution_count": 1515,
   "metadata": {
    "ExecuteTime": {
     "end_time": "2020-01-16T07:28:57.604005Z",
     "start_time": "2020-01-16T07:28:57.315926Z"
    },
    "hidden": true
   },
   "outputs": [
    {
     "name": "stdout",
     "output_type": "stream",
     "text": [
      "11592\n",
      "18240\n",
      "480\n",
      "19520\n",
      "19360\n",
      "22560\n",
      "4960\n"
     ]
    }
   ],
   "source": [
    "num_of_jpg_file(save_dir + '/test/negative/negative' )\n",
    "num_of_jpg_file(save_dir + '/test/hemorrhagic/red_spot' )\n",
    "num_of_jpg_file(save_dir + '/test/hemorrhagic/angioectasia' )\n",
    "num_of_jpg_file(save_dir + '/test/hemorrhagic/active_bleeding' )\n",
    "num_of_jpg_file(save_dir + '/test/depressed/erosion' )\n",
    "num_of_jpg_file(save_dir + '/test/depressed/ulcer' )\n",
    "num_of_jpg_file(save_dir + '/test/depressed/stricture' )"
   ]
  },
  {
   "cell_type": "code",
   "execution_count": 1395,
   "metadata": {
    "ExecuteTime": {
     "end_time": "2020-01-16T05:40:03.223162Z",
     "start_time": "2020-01-16T05:40:03.211547Z"
    },
    "hidden": true
   },
   "outputs": [
    {
     "data": {
      "text/plain": [
       "(11592, 18240, 480, 19520, 19360, 22560, 4960)"
      ]
     },
     "execution_count": 1395,
     "metadata": {},
     "output_type": "execute_result"
    }
   ],
   "source": [
    "(len(neg_1_test_filename) + len(neg_2_test_filename))*8, len(redspot_test_filename)*160, len(angio_test_filename)*160, len(active_test_filename)*160, len(ero_test_filename)*160, len(ulcer_test_filename)*160, len(str_test_filename)*160"
   ]
  },
  {
   "cell_type": "markdown",
   "metadata": {},
   "source": [
    "# Train / Test with no redundacny of patient"
   ]
  },
  {
   "cell_type": "code",
   "execution_count": 3,
   "metadata": {
    "ExecuteTime": {
     "end_time": "2020-01-23T09:36:36.128734Z",
     "start_time": "2020-01-23T09:36:36.072505Z"
    }
   },
   "outputs": [],
   "source": [
    "data_dir = '/mnt/disk2/data/private_data/SMhospital/capsule/0 data/labeled'\n",
    "\n",
    "neg_1_filename = load_filename('p3_2', 'n', 'neg', data = '190520 p3_2', data_dir = data_dir)\n",
    "neg_2_filename = load_filename('raw', 'n', 'neg', data = '190814 negative', data_dir = data_dir)\n",
    "redspot_filename = load_filename('p3_2', 'h', 'redspot', data = '190520 p3_2', data_dir = data_dir)\n",
    "angio_filename = load_filename('p3_2', 'h', 'angio', data = '190520 p3_2', data_dir = data_dir)\n",
    "active_filename = load_filename('p3_2', 'h', 'active', data = '190520 p3_2', data_dir = data_dir)\n",
    "ero_filename = load_filename('p3_2', 'd', 'ero', data = '190520 p3_2', data_dir = data_dir)\n",
    "ulcer_filename = load_filename('p3_2', 'd', 'ulcer', data = '190520 p3_2', data_dir = data_dir)\n",
    "str_filename = load_filename('p3_2', 'd', 'str', data = '190520 p3_2', data_dir = data_dir)"
   ]
  },
  {
   "cell_type": "code",
   "execution_count": 5,
   "metadata": {
    "ExecuteTime": {
     "end_time": "2020-01-20T06:24:39.594568Z",
     "start_time": "2020-01-20T06:24:39.586605Z"
    }
   },
   "outputs": [],
   "source": [
    "def train_test_split(filenames, train_rate = 0.8):\n",
    "    n = len(filenames)\n",
    "    train_idx = np.random.choice(n, int(n*train_rate), replace = False)\n",
    "    test_idx = np.setdiff1d(np.arange(n), train_idx)\n",
    "    return filenames[train_idx], filenames[test_idx]"
   ]
  },
  {
   "cell_type": "code",
   "execution_count": 8,
   "metadata": {
    "ExecuteTime": {
     "end_time": "2020-01-20T06:26:35.536214Z",
     "start_time": "2020-01-20T06:26:35.522526Z"
    }
   },
   "outputs": [],
   "source": [
    "neg_1_train_filename, neg_1_test_filename = train_test_split(neg_1_filename)\n",
    "neg_2_train_filename, neg_2_test_filename = train_test_split(neg_2_filename)\n",
    "redspot_train_filename, redspot_test_filename = train_test_split(redspot_filename)\n",
    "angio_train_filename, angio_test_filename = train_test_split(angio_filename)\n",
    "active_train_filename, active_test_filename = train_test_split(active_filename)\n",
    "ulcer_train_filename, ulcer_test_filename = train_test_split(ulcer_filename)\n",
    "ero_train_filename, ero_test_filename = train_test_split(ero_filename)\n",
    "str_train_filename, str_test_filename = train_test_split(str_filename)"
   ]
  },
  {
   "cell_type": "code",
   "execution_count": 4,
   "metadata": {
    "ExecuteTime": {
     "end_time": "2020-01-23T09:36:44.812881Z",
     "start_time": "2020-01-23T09:36:44.791506Z"
    }
   },
   "outputs": [],
   "source": [
    "def printProgress(iteration, total, prefix = '', suffix = '', decimals = 1, barLength = 100):\n",
    "    formatStr = \"{0:.\" + str(decimals) + \"f}\"\n",
    "    percent = formatStr.format(100 * (iteration / float(total)))\n",
    "    filledLength = int(round(barLength * iteration / float(total)))\n",
    "    bar = '#' * filledLength + '-' * (barLength - filledLength)\n",
    "    sys.stdout.write('\\r{} |{} | {}{} {}'.format(prefix, bar, percent, '%', suffix)),\n",
    "    if iteration == total:\n",
    "        sys.stdout.write('\\n')\n",
    "    sys.stdout.flush()\n",
    "\n",
    "def target_preprocessings(phase_a_switch = [1, 1, 1], phase_b_switch = True, mode = 'load'):\n",
    "    \"\"\"\n",
    "    phase_a_switch = [1, 1, 1], [0, 0 ,1], [1, 1, 0].... \n",
    "    that means [flip, rotate, blur_sharp]\n",
    "    \"\"\"\n",
    "    phase0 = ['_c']\n",
    "    phase1 = {1: ['-', 'f'], 0: ['-']}\n",
    "    phase2 = {1: ['-', 'r1', 'r2', 'r3'], 0: ['-']}\n",
    "    phase3 = {1: ['-', 'ab', 'mb', 'eh'], 0: ['-']}\n",
    "    phase4 = ['s_-30_v_30', 's_-30_v_-30', 's_30_v_-30', 's_30_v_30']\n",
    "\n",
    "    if mode == 'load':\n",
    "        phase_a_items = [phase1[phase_a_switch[0]], phase2[phase_a_switch[1]], phase3[phase_a_switch[2]]]\n",
    "    elif mode == 'preprocessing':\n",
    "        phase_a_items = [phase0, phase1[phase_a_switch[0]], phase2[phase_a_switch[1]], phase3[phase_a_switch[2]]]\n",
    "\n",
    "    phase_a = []\n",
    "    for i in list(product(*phase_a_items)):\n",
    "        phase_a.append('_'.join(i))\n",
    "\n",
    "    if not phase_b_switch != True:\n",
    "        phase_b = []\n",
    "        for i in list(product(*[phase_a, phase4])):\n",
    "            phase_b.append('_'.join(i))\n",
    "        return list(np.hstack([phase_a, phase_b]))\n",
    "    else:\n",
    "        return phase_a "
   ]
  },
  {
   "cell_type": "code",
   "execution_count": 5,
   "metadata": {
    "ExecuteTime": {
     "end_time": "2020-01-23T09:36:45.427342Z",
     "start_time": "2020-01-23T09:36:45.372114Z"
    }
   },
   "outputs": [],
   "source": [
    "class ce_preprocessing:\n",
    "    def __init__(self, data_dir, save_dir):\n",
    "        self.data_dir = data_dir\n",
    "        self.save_dir = save_dir\n",
    "\n",
    "    def cropping(self, img):\n",
    "        img = np.array(img, dtype = 'f4')\n",
    "        img_pre = img[32:544, 32:544, :]\n",
    "        for i in range(100):\n",
    "            for j in range(100):\n",
    "                if i + j > 99:\n",
    "                    pass\n",
    "                else :\n",
    "                    img_pre[i, j, :] = 0\n",
    "                    img_pre[i, -j, :] = 0\n",
    "        return img_pre.astype('uint8')\n",
    "\n",
    "    def rotate(self, img, degree):\n",
    "        rows, cols = img.shape[:2]\n",
    "        M = cv2.getRotationMatrix2D(center = (cols/2, rows/2), angle = degree, scale = 1)\n",
    "        img_rotated = cv2.warpAffine(img, M, dsize = (rows, cols))\n",
    "        return img_rotated\n",
    "    \n",
    "    def blur_and_sharp(self, img):\n",
    "        img_avg_blur = cv2.blur(img, (5,5)).astype('uint8')\n",
    "        \n",
    "        kernel_size = 15\n",
    "        \n",
    "        kernel_motion_blur = np.zeros((kernel_size, kernel_size))\n",
    "        kernel_motion_blur[int((kernel_size-1)/2), :] = np.ones(kernel_size)\n",
    "        kernel_motion_blur = kernel_motion_blur / kernel_size\n",
    "        img_mb = cv2.filter2D(img, -1, kernel_motion_blur).astype('uint8')\n",
    "        \n",
    "        kernel_edge_enhancement = np.array([[-1,-1,-1,-1,-1],[-1,2,2,2,-1],[-1,2,8,2,-1],[-1,2,2,2,-1],[-1,-1,-1,-1,-1]])/8.0\n",
    "        img_eh = cv2.filter2D(img, -1, kernel_edge_enhancement).astype('uint8')    \n",
    "        return img_avg_blur, img_mb, img_eh\n",
    "    \n",
    "    def bgr2_h_s_v(self, img):\n",
    "        hsv = cv2.cvtColor(img, cv2.COLOR_BGR2HSV)\n",
    "        h, s, v = cv2.split(hsv)\n",
    "        return h, s, v\n",
    "\n",
    "    def hsv_control(self, ch_data, ctr_value, ch_name):\n",
    "        \"\"\"\n",
    "        ch_data: data of channel (h, s, or v) which you want to revise by ctr_value / shape: image.shape[0:2]\n",
    "        ctr_value: the value that will be added to corresponding channel.\n",
    "        ch_name: 'h', 's', or 'v'\n",
    "        \"\"\"\n",
    "        ch_data_rev = ch_data.copy()\n",
    "        if ctr_value > 0:\n",
    "            ch_data_rev[np.where(ch_data <= 255 - ctr_value)] += ctr_value\n",
    "        else:\n",
    "            ch_data_rev[np.where(ch_data + ctr_value >= 0)] -= abs(ctr_value)\n",
    "        return ch_data_rev\n",
    "    \n",
    "    def pre_aug(self, img, phase = 'x160'):  \n",
    "        \"\"\"\n",
    "        The image will be preprocessed and augmented at one go \n",
    "        by an entire process consisting of  the repetitive statement (for loop) per the processing phase \n",
    "        \"\"\"\n",
    "        preprocessed_imgs = []\n",
    "        preprocessed_nots = []\n",
    "        \n",
    "        crop = self.cropping(img)\n",
    "        if phase == 'crop':\n",
    "            return [crop], ['_c_-_-_-']\n",
    "        else:\n",
    "            sv_ctr_values = [-30, 30]\n",
    "            c_r1, c_r2, c_r3 = self.rotate(crop, 90), self.rotate(crop, 180), self.rotate(crop, 270)\n",
    "            for r, r_n in zip([crop, c_r1, c_r2, c_r3], ['-', 'r1', 'r2', 'r3']):\n",
    "                r_f = np.flipud(r)\n",
    "                for f,  f_n in zip([r, r_f], ['-', 'f']): \n",
    "                    f_ab, f_mb, f_edge = self.blur_and_sharp(f)\n",
    "                    for b, b_n in zip([f, f_ab, f_mb, f_edge], ['-', 'ab', 'mb', 'eh']):                    \n",
    "                        preprocessed_imgs.append(b)\n",
    "                        not_ = '_c_{}_{}_{}'.format(f_n, r_n, b_n)\n",
    "                        preprocessed_nots.append(not_)\n",
    "                        h, s, v = self.bgr2_h_s_v(b)\n",
    "                        for s_value in sv_ctr_values:\n",
    "                            s_rev = self.hsv_control(s, s_value, ch_name = 's')\n",
    "                            for v_value in sv_ctr_values:\n",
    "                                v_rev = self.hsv_control(v, v_value, ch_name = 'v')\n",
    "                                v_rev[np.where(v <= 7)] = 0\n",
    "                                b_sv = cv2.merge((h, s_rev, v_rev))\n",
    "                                b_sv = cv2.cvtColor(b_sv, cv2.COLOR_HSV2BGR)\n",
    "                                preprocessed_imgs.append(b_sv)\n",
    "                                not_ = '_c_{}_{}_{}_s_{}_v_{}'.format(f_n, r_n, b_n, s_value, v_value)\n",
    "                                preprocessed_nots.append(not_) \n",
    "                if not phase != 'before_rotation':\n",
    "                    break\n",
    "            return preprocessed_imgs, preprocessed_nots\n",
    "    \n",
    "    def avg_blur(self, img):\n",
    "        return cv2.blur(img, (5,5)).astype('uint8')\n",
    "    \n",
    "    def motion_blur(self, img):\n",
    "        kernel_size = 15\n",
    "        kernel_motion_blur = np.zeros((kernel_size, kernel_size))\n",
    "        kernel_motion_blur[int((kernel_size-1)/2), :] = np.ones(kernel_size)\n",
    "        kernel_motion_blur = kernel_motion_blur / kernel_size\n",
    "        return cv2.filter2D(img, -1, kernel_motion_blur).astype('uint8')\n",
    "    \n",
    "    def edge_enhancement(self, img):\n",
    "        kernel_edge = np.array([[-1,-1,-1,-1,-1],[-1,2,2,2,-1],[-1,2,8,2,-1],[-1,2,2,2,-1],[-1,-1,-1,-1,-1]])/8.0\n",
    "        return cv2.filter2D(img, -1, kernel_edge).astype('uint8') \n",
    "    \n",
    "    def s_rev(self, img, s_value):\n",
    "        h, s, v = self.bgr2_h_s_v(img)\n",
    "        s_rev = self.hsv_control(s, s_value, ch_name = 's')\n",
    "        return [h, s_rev, v]\n",
    "    \n",
    "    def v_rev_after_s_rev(self, s_rev_outputs, v_value):\n",
    "        h, s_rev, v = s_rev_outputs\n",
    "        v_rev = self.hsv_control(v, v_value, ch_name = 'v')\n",
    "        v_rev[np.where(v <= 7)] = 0\n",
    "        img_sv = cv2.merge((h, s_rev, v_rev))\n",
    "        return cv2.cvtColor(img_sv, cv2.COLOR_HSV2BGR)\n",
    "            \n",
    "    def pre_aug_target_phase(self, img, phase = 'c'): \n",
    "        \n",
    "        \"\"\"\n",
    "        phase, ex) 'c_f_-_mb_s_-30_v_30' -> 'c_f_-_mb_s-30_v30' -> ['c', 'f', '-', 's-30','v30']\n",
    "        It allows to preprocess the image in specific phase, but slower it is fit to check preprocessing with small data\n",
    "        \"\"\"\n",
    "        function = {'': (lambda x: x), '-': (lambda x: x),\n",
    "                    'c': (lambda x: self.cropping(x)),\n",
    "                    'f': (lambda x: np.flipud(x)), \n",
    "                    'r1': (lambda x: self.rotate(x, 90)), \n",
    "                    'r2': (lambda x: self.rotate(x, 180)), \n",
    "                    'r3': (lambda x: self.rotate(x, 270)),\n",
    "                    'ab': (lambda x: self.avg_blur(x)),\n",
    "                    'mb': (lambda x: self.motion_blur(x)),\n",
    "                    'eh': (lambda x: self.edge_enhancement(x)),\n",
    "                    's-30': (lambda x: self.s_rev(x, -30)),\n",
    "                    's30': (lambda x: self.s_rev(x, 30)),\n",
    "                    'v-30': (lambda x: self.v_rev_after_s_rev(x, -30)),\n",
    "                    'v30': (lambda x: self.v_rev_after_s_rev(x, 30))}\n",
    "        values = ['-30', '30']\n",
    "        for i in values:\n",
    "            if i in phase:\n",
    "                phase = phase.replace('_{}'.format(i), str(i))\n",
    "        phase_seg = phase.split('_')  \n",
    "        for i, p in zip(range(len(phase_seg)), phase_seg):\n",
    "            if i == 0:\n",
    "                p_img = function[p](img)\n",
    "            else:\n",
    "                p_img = function[p](p_img)\n",
    "        return p_img\n",
    "    \n",
    "    def pre_aug_and_save(self, phase, cls, les, filename, preprocessing_phase = 'x160', pre_aug_type = 'for_loop',\n",
    "                         phase_a = [1, 1, 1], phase_b = True):\n",
    "        \n",
    "        \"\"\"\n",
    "        phase = 'train', 'test'\n",
    "        cls: [les]  \n",
    "          'n': ['neg']\n",
    "          'h': ['redspot', 'angio', 'active'], \n",
    "          'd': ['ero', 'ulc', 'str'],\n",
    "          'p': ['amp', 'lym', 'tum']}\n",
    "        preprocessing_phase = 'x160', 'crop', 'before_rotation' for pre_aug\n",
    "        phase_a = [1, 1, 1], [1, 0, 1], [1, 1, 0] .... [flip, rotate, blur_sharp]\n",
    "        phase_b = True -> phase_a (max. x32) + phase_a * sv_control (max. x32x4) => max, 32 x 5\n",
    "        \"\"\"\n",
    "        lesions = dict(neg = 'negative', \n",
    "                       redspot = 'red_spot', angio = 'angioectasia', active = 'active_bleeding', \n",
    "                       ero = 'erosion', ulcer = 'ulcer', str = 'stricture', \n",
    "                       amp = 'ampulla_of_vater', lym = 'lymphoid_follicles', tum = 'small_bowel_tumor')\n",
    "        classes = dict(n = 'negative', h = 'hemorrhagic', d = 'depressed', p = 'protruded')\n",
    "        \n",
    "        save_path = os.path.join(self.save_dir, phase, classes[cls], lesions[les])\n",
    "        import_path = os.path.join(self.data_dir, classes[cls], lesions[les])\n",
    "\n",
    "        if not(os.path.isdir(save_path)):\n",
    "            os.makedirs(save_path)\n",
    "        \n",
    "        for i, f in zip(range(1, len(filename)+1), filename) :\n",
    "            img = cv2.imread(import_path + '/' + f)\n",
    "            if pre_aug_type == 'for_loop':\n",
    "                p_imgs, p_nots = self.pre_aug(img, phase = preprocessing_phase)  \n",
    "                for img_, not_ in zip(p_imgs, p_nots):\n",
    "                    save_filename = os.path.join(save_path, '{}_{}{}'.format(f[:-4], not_, f[-4:]))\n",
    "                    if not(os.path.isfile(save_filename)):\n",
    "                        cv2.imwrite(save_filename, img_)\n",
    "            elif pre_aug_type == 'target_phase':\n",
    "                for not_ in target_preprocessings(phase_a, phase_b, mode = 'preprocessing'):\n",
    "                    save_filename = os.path.join(save_path, '{}_{}{}'.format(f[:-4], not_, f[-4:]))\n",
    "                    if not(os.path.isfile(save_filename)):\n",
    "                        p_img = self.pre_aug_target_phase(img, phase = not_)\n",
    "                        cv2.imwrite(save_filename, p_img)\n",
    "            printProgress(i, len(filename), prefix = '{:05d}'.format(len(filename)))"
   ]
  },
  {
   "cell_type": "code",
   "execution_count": 49,
   "metadata": {
    "ExecuteTime": {
     "end_time": "2020-01-20T09:24:33.286445Z",
     "start_time": "2020-01-20T09:24:33.281262Z"
    }
   },
   "outputs": [],
   "source": [
    "data_dir = '/mnt/disk2/data/private_data/SMhospital/capsule/0 data/labeled/190520 p3_2/p3_2'\n",
    "save_dir =  '/mnt/disk2/data/private_data/SMhospital/capsule/1 preprocessed/sm_x160_v2'\n",
    "\n",
    "ce_pre = ce_preprocessing(data_dir, save_dir)"
   ]
  },
  {
   "cell_type": "code",
   "execution_count": 14,
   "metadata": {
    "ExecuteTime": {
     "end_time": "2020-01-20T07:08:39.092334Z",
     "start_time": "2020-01-20T06:30:08.370178Z"
    }
   },
   "outputs": [
    {
     "name": "stdout",
     "output_type": "stream",
     "text": [
      "00139 |#################################################################################################### | 100.0% \n",
      "00005 |#################################################################################################### | 100.0% \n",
      "00108 |#################################################################################################### | 100.0% \n",
      "00185 |#################################################################################################### | 100.0% \n",
      "00183 |#################################################################################################### | 100.0% \n",
      "00026 |#################################################################################################### | 100.0% \n",
      "00508 |#################################################################################################### | 100.0% \n"
     ]
    }
   ],
   "source": [
    "ce_pre.pre_aug_and_save(phase = 'test', cls = 'h', les = 'redspot', filename = redspot_test_filename)\n",
    "ce_pre.pre_aug_and_save(phase = 'test', cls = 'h', les = 'angio', filename = angio_test_filename)\n",
    "ce_pre.pre_aug_and_save(phase = 'test', cls = 'h', les = 'active', filename = active_test_filename)\n",
    "ce_pre.pre_aug_and_save(phase = 'test', cls = 'd', les = 'ero', filename = ero_test_filename)\n",
    "ce_pre.pre_aug_and_save(phase = 'test', cls = 'd', les = 'ulcer', filename = ulcer_test_filename)\n",
    "ce_pre.pre_aug_and_save(phase = 'test', cls = 'd', les = 'str', filename = str_test_filename)\n",
    "ce_pre.pre_aug_and_save(phase = 'test', cls = 'n', les = 'neg', filename = neg_1_test_filename)"
   ]
  },
  {
   "cell_type": "code",
   "execution_count": 15,
   "metadata": {
    "ExecuteTime": {
     "end_time": "2020-01-20T09:06:28.882335Z",
     "start_time": "2020-01-20T07:08:39.095447Z"
    }
   },
   "outputs": [
    {
     "name": "stdout",
     "output_type": "stream",
     "text": [
      "00556 |#################################################################################################### | 100.0% \n",
      "00018 |#################################################################################################### | 100.0% \n",
      "00428 |#################################################################################################### | 100.0% \n",
      "00737 |#################################################################################################### | 100.0% \n",
      "00732 |#################################################################################################### | 100.0% \n",
      "00103 |#################################################################################################### | 100.0% \n",
      "02028 |####################################################------------------------------------------------ | 52.2% "
     ]
    },
    {
     "ename": "KeyboardInterrupt",
     "evalue": "",
     "output_type": "error",
     "traceback": [
      "\u001b[0;31m---------------------------------------------------------------------------\u001b[0m",
      "\u001b[0;31mKeyboardInterrupt\u001b[0m                         Traceback (most recent call last)",
      "\u001b[0;32m<ipython-input-15-d4a4342800fa>\u001b[0m in \u001b[0;36m<module>\u001b[0;34m\u001b[0m\n\u001b[1;32m      5\u001b[0m \u001b[0mce_pre\u001b[0m\u001b[0;34m.\u001b[0m\u001b[0mpre_aug_and_save\u001b[0m\u001b[0;34m(\u001b[0m\u001b[0mphase\u001b[0m \u001b[0;34m=\u001b[0m \u001b[0;34m'train'\u001b[0m\u001b[0;34m,\u001b[0m \u001b[0mcls\u001b[0m \u001b[0;34m=\u001b[0m \u001b[0;34m'd'\u001b[0m\u001b[0;34m,\u001b[0m \u001b[0mles\u001b[0m \u001b[0;34m=\u001b[0m \u001b[0;34m'ulcer'\u001b[0m\u001b[0;34m,\u001b[0m \u001b[0mfilename\u001b[0m \u001b[0;34m=\u001b[0m \u001b[0mulcer_train_filename\u001b[0m\u001b[0;34m)\u001b[0m\u001b[0;34m\u001b[0m\u001b[0m\n\u001b[1;32m      6\u001b[0m \u001b[0mce_pre\u001b[0m\u001b[0;34m.\u001b[0m\u001b[0mpre_aug_and_save\u001b[0m\u001b[0;34m(\u001b[0m\u001b[0mphase\u001b[0m \u001b[0;34m=\u001b[0m \u001b[0;34m'train'\u001b[0m\u001b[0;34m,\u001b[0m \u001b[0mcls\u001b[0m \u001b[0;34m=\u001b[0m \u001b[0;34m'd'\u001b[0m\u001b[0;34m,\u001b[0m \u001b[0mles\u001b[0m \u001b[0;34m=\u001b[0m \u001b[0;34m'str'\u001b[0m\u001b[0;34m,\u001b[0m \u001b[0mfilename\u001b[0m \u001b[0;34m=\u001b[0m \u001b[0mstr_train_filename\u001b[0m\u001b[0;34m)\u001b[0m\u001b[0;34m\u001b[0m\u001b[0m\n\u001b[0;32m----> 7\u001b[0;31m \u001b[0mce_pre\u001b[0m\u001b[0;34m.\u001b[0m\u001b[0mpre_aug_and_save\u001b[0m\u001b[0;34m(\u001b[0m\u001b[0mphase\u001b[0m \u001b[0;34m=\u001b[0m \u001b[0;34m'train'\u001b[0m\u001b[0;34m,\u001b[0m \u001b[0mcls\u001b[0m \u001b[0;34m=\u001b[0m \u001b[0;34m'n'\u001b[0m\u001b[0;34m,\u001b[0m \u001b[0mles\u001b[0m \u001b[0;34m=\u001b[0m \u001b[0;34m'neg'\u001b[0m\u001b[0;34m,\u001b[0m \u001b[0mfilename\u001b[0m \u001b[0;34m=\u001b[0m \u001b[0mneg_1_train_filename\u001b[0m\u001b[0;34m)\u001b[0m\u001b[0;34m\u001b[0m\u001b[0m\n\u001b[0m",
      "\u001b[0;32m<ipython-input-11-a790711030bc>\u001b[0m in \u001b[0;36mpre_aug_and_save\u001b[0;34m(self, phase, cls, les, filename, preprocessing_phase, pre_aug_type, phase_a, phase_b)\u001b[0m\n\u001b[1;32m    177\u001b[0m             \u001b[0mimg\u001b[0m \u001b[0;34m=\u001b[0m \u001b[0mcv2\u001b[0m\u001b[0;34m.\u001b[0m\u001b[0mimread\u001b[0m\u001b[0;34m(\u001b[0m\u001b[0mimport_path\u001b[0m \u001b[0;34m+\u001b[0m \u001b[0;34m'/'\u001b[0m \u001b[0;34m+\u001b[0m \u001b[0mf\u001b[0m\u001b[0;34m)\u001b[0m\u001b[0;34m\u001b[0m\u001b[0m\n\u001b[1;32m    178\u001b[0m             \u001b[0;32mif\u001b[0m \u001b[0mpre_aug_type\u001b[0m \u001b[0;34m==\u001b[0m \u001b[0;34m'for_loop'\u001b[0m\u001b[0;34m:\u001b[0m\u001b[0;34m\u001b[0m\u001b[0m\n\u001b[0;32m--> 179\u001b[0;31m                 \u001b[0mp_imgs\u001b[0m\u001b[0;34m,\u001b[0m \u001b[0mp_nots\u001b[0m \u001b[0;34m=\u001b[0m \u001b[0mself\u001b[0m\u001b[0;34m.\u001b[0m\u001b[0mpre_aug\u001b[0m\u001b[0;34m(\u001b[0m\u001b[0mimg\u001b[0m\u001b[0;34m,\u001b[0m \u001b[0mphase\u001b[0m \u001b[0;34m=\u001b[0m \u001b[0mpreprocessing_phase\u001b[0m\u001b[0;34m)\u001b[0m\u001b[0;34m\u001b[0m\u001b[0m\n\u001b[0m\u001b[1;32m    180\u001b[0m                 \u001b[0;32mfor\u001b[0m \u001b[0mimg_\u001b[0m\u001b[0;34m,\u001b[0m \u001b[0mnot_\u001b[0m \u001b[0;32min\u001b[0m \u001b[0mzip\u001b[0m\u001b[0;34m(\u001b[0m\u001b[0mp_imgs\u001b[0m\u001b[0;34m,\u001b[0m \u001b[0mp_nots\u001b[0m\u001b[0;34m)\u001b[0m\u001b[0;34m:\u001b[0m\u001b[0;34m\u001b[0m\u001b[0m\n\u001b[1;32m    181\u001b[0m                     \u001b[0msave_filename\u001b[0m \u001b[0;34m=\u001b[0m \u001b[0mos\u001b[0m\u001b[0;34m.\u001b[0m\u001b[0mpath\u001b[0m\u001b[0;34m.\u001b[0m\u001b[0mjoin\u001b[0m\u001b[0;34m(\u001b[0m\u001b[0msave_path\u001b[0m\u001b[0;34m,\u001b[0m \u001b[0;34m'{}_{}{}'\u001b[0m\u001b[0;34m.\u001b[0m\u001b[0mformat\u001b[0m\u001b[0;34m(\u001b[0m\u001b[0mf\u001b[0m\u001b[0;34m[\u001b[0m\u001b[0;34m:\u001b[0m\u001b[0;34m-\u001b[0m\u001b[0;36m4\u001b[0m\u001b[0;34m]\u001b[0m\u001b[0;34m,\u001b[0m \u001b[0mnot_\u001b[0m\u001b[0;34m,\u001b[0m \u001b[0mf\u001b[0m\u001b[0;34m[\u001b[0m\u001b[0;34m-\u001b[0m\u001b[0;36m4\u001b[0m\u001b[0;34m:\u001b[0m\u001b[0;34m]\u001b[0m\u001b[0;34m)\u001b[0m\u001b[0;34m)\u001b[0m\u001b[0;34m\u001b[0m\u001b[0m\n",
      "\u001b[0;32m<ipython-input-11-a790711030bc>\u001b[0m in \u001b[0;36mpre_aug\u001b[0;34m(self, img, phase)\u001b[0m\n\u001b[1;32m     81\u001b[0m                             \u001b[0;32mfor\u001b[0m \u001b[0mv_value\u001b[0m \u001b[0;32min\u001b[0m \u001b[0msv_ctr_values\u001b[0m\u001b[0;34m:\u001b[0m\u001b[0;34m\u001b[0m\u001b[0m\n\u001b[1;32m     82\u001b[0m                                 \u001b[0mv_rev\u001b[0m \u001b[0;34m=\u001b[0m \u001b[0mself\u001b[0m\u001b[0;34m.\u001b[0m\u001b[0mhsv_control\u001b[0m\u001b[0;34m(\u001b[0m\u001b[0mv\u001b[0m\u001b[0;34m,\u001b[0m \u001b[0mv_value\u001b[0m\u001b[0;34m,\u001b[0m \u001b[0mch_name\u001b[0m \u001b[0;34m=\u001b[0m \u001b[0;34m'v'\u001b[0m\u001b[0;34m)\u001b[0m\u001b[0;34m\u001b[0m\u001b[0m\n\u001b[0;32m---> 83\u001b[0;31m                                 \u001b[0mv_rev\u001b[0m\u001b[0;34m[\u001b[0m\u001b[0mnp\u001b[0m\u001b[0;34m.\u001b[0m\u001b[0mwhere\u001b[0m\u001b[0;34m(\u001b[0m\u001b[0mv\u001b[0m \u001b[0;34m<=\u001b[0m \u001b[0;36m7\u001b[0m\u001b[0;34m)\u001b[0m\u001b[0;34m]\u001b[0m \u001b[0;34m=\u001b[0m \u001b[0;36m0\u001b[0m\u001b[0;34m\u001b[0m\u001b[0m\n\u001b[0m\u001b[1;32m     84\u001b[0m                                 \u001b[0mb_sv\u001b[0m \u001b[0;34m=\u001b[0m \u001b[0mcv2\u001b[0m\u001b[0;34m.\u001b[0m\u001b[0mmerge\u001b[0m\u001b[0;34m(\u001b[0m\u001b[0;34m(\u001b[0m\u001b[0mh\u001b[0m\u001b[0;34m,\u001b[0m \u001b[0ms_rev\u001b[0m\u001b[0;34m,\u001b[0m \u001b[0mv_rev\u001b[0m\u001b[0;34m)\u001b[0m\u001b[0;34m)\u001b[0m\u001b[0;34m\u001b[0m\u001b[0m\n\u001b[1;32m     85\u001b[0m                                 \u001b[0mb_sv\u001b[0m \u001b[0;34m=\u001b[0m \u001b[0mcv2\u001b[0m\u001b[0;34m.\u001b[0m\u001b[0mcvtColor\u001b[0m\u001b[0;34m(\u001b[0m\u001b[0mb_sv\u001b[0m\u001b[0;34m,\u001b[0m \u001b[0mcv2\u001b[0m\u001b[0;34m.\u001b[0m\u001b[0mCOLOR_HSV2BGR\u001b[0m\u001b[0;34m)\u001b[0m\u001b[0;34m\u001b[0m\u001b[0m\n",
      "\u001b[0;32m<__array_function__ internals>\u001b[0m in \u001b[0;36mwhere\u001b[0;34m(*args, **kwargs)\u001b[0m\n",
      "\u001b[0;31mKeyboardInterrupt\u001b[0m: "
     ]
    }
   ],
   "source": [
    "ce_pre.pre_aug_and_save(phase = 'train', cls = 'h', les = 'redspot', filename = redspot_train_filename)\n",
    "ce_pre.pre_aug_and_save(phase = 'train', cls = 'h', les = 'angio', filename = angio_train_filename)\n",
    "ce_pre.pre_aug_and_save(phase = 'train', cls = 'h', les = 'active', filename = active_train_filename)\n",
    "ce_pre.pre_aug_and_save(phase = 'train', cls = 'd', les = 'ero', filename = ero_train_filename)\n",
    "ce_pre.pre_aug_and_save(phase = 'train', cls = 'd', les = 'ulcer', filename = ulcer_train_filename)\n",
    "ce_pre.pre_aug_and_save(phase = 'train', cls = 'd', les = 'str', filename = str_train_filename)\n",
    "ce_pre.pre_aug_and_save(phase = 'train', cls = 'n', les = 'neg', filename = neg_1_train_filename)"
   ]
  },
  {
   "cell_type": "code",
   "execution_count": 50,
   "metadata": {
    "ExecuteTime": {
     "end_time": "2020-01-20T10:42:45.005410Z",
     "start_time": "2020-01-20T09:24:35.811292Z"
    }
   },
   "outputs": [
    {
     "name": "stdout",
     "output_type": "stream",
     "text": [
      "02028 |#################################################################################################### | 100.0% \n"
     ]
    }
   ],
   "source": [
    "ce_pre.pre_aug_and_save(phase = 'train', cls = 'n', les = 'neg', filename = neg_1_train_filename, pre_aug_type = 'target_phase')"
   ]
  },
  {
   "cell_type": "code",
   "execution_count": 51,
   "metadata": {
    "ExecuteTime": {
     "end_time": "2020-01-20T12:52:21.138611Z",
     "start_time": "2020-01-20T10:42:45.009465Z"
    }
   },
   "outputs": [
    {
     "name": "stdout",
     "output_type": "stream",
     "text": [
      "04216 |#################################################################################################### | 100.0% \n"
     ]
    },
    {
     "ename": "TypeError",
     "evalue": "pre_aug_and_save() got an unexpected keyword argument 'prepre_aug_type'",
     "output_type": "error",
     "traceback": [
      "\u001b[0;31m---------------------------------------------------------------------------\u001b[0m",
      "\u001b[0;31mTypeError\u001b[0m                                 Traceback (most recent call last)",
      "\u001b[0;32m<ipython-input-51-e2ca42b8757d>\u001b[0m in \u001b[0;36m<module>\u001b[0;34m\u001b[0m\n\u001b[1;32m      4\u001b[0m \u001b[0mce_pre\u001b[0m\u001b[0;34m.\u001b[0m\u001b[0mpre_aug_and_save\u001b[0m\u001b[0;34m(\u001b[0m\u001b[0mphase\u001b[0m \u001b[0;34m=\u001b[0m \u001b[0;34m'train'\u001b[0m\u001b[0;34m,\u001b[0m \u001b[0mcls\u001b[0m \u001b[0;34m=\u001b[0m \u001b[0;34m'n'\u001b[0m\u001b[0;34m,\u001b[0m \u001b[0mles\u001b[0m \u001b[0;34m=\u001b[0m \u001b[0;34m'neg'\u001b[0m\u001b[0;34m,\u001b[0m \u001b[0mfilename\u001b[0m \u001b[0;34m=\u001b[0m \u001b[0mneg_2_train_filename\u001b[0m\u001b[0;34m)\u001b[0m\u001b[0;34m\u001b[0m\u001b[0m\n\u001b[1;32m      5\u001b[0m ce_pre.pre_aug_and_save(phase = 'test', cls = 'n', les = 'neg', filename = neg_2_test_filename, phase_a = [0, 0, 0], phase_b = False, \n\u001b[0;32m----> 6\u001b[0;31m                         prepre_aug_type = 'target_phase') \n\u001b[0m",
      "\u001b[0;31mTypeError\u001b[0m: pre_aug_and_save() got an unexpected keyword argument 'prepre_aug_type'"
     ]
    }
   ],
   "source": [
    "neg_2_dir = '/mnt/disk2/data/private_data/SMhospital/capsule/0 data/labeled/190814 negative/raw'\n",
    "\n",
    "ce_pre = ce_preprocessing(neg_2_dir, save_dir)\n",
    "ce_pre.pre_aug_and_save(phase = 'train', cls = 'n', les = 'neg', filename = neg_2_train_filename) \n",
    "ce_pre.pre_aug_and_save(phase = 'test', cls = 'n', les = 'neg', filename = neg_2_test_filename, phase_a = [0, 0, 0], phase_b = False, \n",
    "                        pre_aug_type = 'target_phase') "
   ]
  },
  {
   "cell_type": "code",
   "execution_count": 52,
   "metadata": {
    "ExecuteTime": {
     "end_time": "2020-01-20T23:55:34.698729Z",
     "start_time": "2020-01-20T23:55:21.448604Z"
    }
   },
   "outputs": [
    {
     "name": "stdout",
     "output_type": "stream",
     "text": [
      "01054 |#################################################################################################### | 100.0% \n"
     ]
    }
   ],
   "source": [
    "ce_pre.pre_aug_and_save(phase = 'test', cls = 'n', les = 'neg', filename = neg_2_test_filename, phase_a = [0, 0, 0], phase_b = False, \n",
    "                        pre_aug_type = 'target_phase') "
   ]
  },
  {
   "cell_type": "code",
   "execution_count": 8,
   "metadata": {
    "ExecuteTime": {
     "end_time": "2020-01-23T09:39:34.373240Z",
     "start_time": "2020-01-23T09:39:34.085064Z"
    }
   },
   "outputs": [],
   "source": [
    "test_names = []\n",
    "for i in glob.glob('/mnt/disk2/data/private_data/SMhospital/capsule/1 preprocessed/sm_x160_v2/test/negative/negative/*.jpg'):\n",
    "    filename = os.path.basename(i)\n",
    "    origin_fn = filename.split('__c_')[0] + '.jpg'\n",
    "    \n",
    "    test_names.append(origin_fn)"
   ]
  },
  {
   "cell_type": "code",
   "execution_count": 11,
   "metadata": {
    "ExecuteTime": {
     "end_time": "2020-01-23T09:39:57.485346Z",
     "start_time": "2020-01-23T09:39:57.431840Z"
    }
   },
   "outputs": [],
   "source": [
    "test_names = np.unique(test_names)"
   ]
  },
  {
   "cell_type": "code",
   "execution_count": 12,
   "metadata": {
    "ExecuteTime": {
     "end_time": "2020-01-23T09:40:01.986106Z",
     "start_time": "2020-01-23T09:40:01.978926Z"
    }
   },
   "outputs": [
    {
     "data": {
      "text/plain": [
       "1562"
      ]
     },
     "execution_count": 12,
     "metadata": {},
     "output_type": "execute_result"
    }
   ],
   "source": [
    "len(test_names)"
   ]
  },
  {
   "cell_type": "code",
   "execution_count": 14,
   "metadata": {
    "ExecuteTime": {
     "end_time": "2020-01-23T09:40:48.979540Z",
     "start_time": "2020-01-23T09:40:48.972681Z"
    }
   },
   "outputs": [
    {
     "data": {
      "text/plain": [
       "array(['AJ___02-08-16___1015395.jpg', 'AJ___02-09-57___1015598.jpg',\n",
       "       'AJ___02-10-14___1015632.jpg', ..., '희정___04-45-38___2047831.jpg',\n",
       "       '희정___05-17-56___2052919.jpg', '희정___05-19-44___2053248.jpg'],\n",
       "      dtype='<U28')"
      ]
     },
     "execution_count": 14,
     "metadata": {},
     "output_type": "execute_result"
    }
   ],
   "source": [
    "test_names"
   ]
  },
  {
   "cell_type": "code",
   "execution_count": 19,
   "metadata": {
    "ExecuteTime": {
     "end_time": "2020-01-23T09:42:18.428045Z",
     "start_time": "2020-01-23T09:42:18.414280Z"
    }
   },
   "outputs": [],
   "source": [
    "neg_2_names = os.listdir('/mnt/disk2/data/private_data/SMhospital/capsule/0 data/labeled/190814 negative/raw/negative/negative')"
   ]
  },
  {
   "cell_type": "code",
   "execution_count": 20,
   "metadata": {
    "ExecuteTime": {
     "end_time": "2020-01-23T09:42:18.926636Z",
     "start_time": "2020-01-23T09:42:18.919857Z"
    }
   },
   "outputs": [
    {
     "data": {
      "text/plain": [
       "5270"
      ]
     },
     "execution_count": 20,
     "metadata": {},
     "output_type": "execute_result"
    }
   ],
   "source": [
    "len(neg_2_names)"
   ]
  },
  {
   "cell_type": "code",
   "execution_count": 22,
   "metadata": {
    "ExecuteTime": {
     "end_time": "2020-01-23T09:42:25.826830Z",
     "start_time": "2020-01-23T09:42:25.812977Z"
    }
   },
   "outputs": [
    {
     "data": {
      "text/plain": [
       "1054"
      ]
     },
     "execution_count": 22,
     "metadata": {},
     "output_type": "execute_result"
    }
   ],
   "source": [
    "len(np.intersect1d(test_names, neg_2_names))"
   ]
  },
  {
   "cell_type": "code",
   "execution_count": 23,
   "metadata": {
    "ExecuteTime": {
     "end_time": "2020-01-23T09:42:52.991606Z",
     "start_time": "2020-01-23T09:42:52.979046Z"
    }
   },
   "outputs": [],
   "source": [
    "neg_2_test_filename = np.intersect1d(test_names, neg_2_names)"
   ]
  },
  {
   "cell_type": "code",
   "execution_count": 24,
   "metadata": {
    "ExecuteTime": {
     "end_time": "2020-01-23T11:06:37.234034Z",
     "start_time": "2020-01-23T09:43:43.208282Z"
    }
   },
   "outputs": [
    {
     "name": "stdout",
     "output_type": "stream",
     "text": [
      "01054 |#################################################################################################### | 100.0% \n"
     ]
    }
   ],
   "source": [
    "neg_2_dir = '/mnt/disk2/data/private_data/SMhospital/capsule/0 data/labeled/190814 negative/raw'\n",
    "save_dir =  '/mnt/disk2/data/private_data/SMhospital/capsule/1 preprocessed/sm_x160_v2'\n",
    "\n",
    "ce_pre = ce_preprocessing(neg_2_dir, save_dir)\n",
    "ce_pre.pre_aug_and_save(phase = 'test', cls = 'n', les = 'neg', filename = neg_2_test_filename, phase_a = [1, 1, 1], phase_b = True, \n",
    "                        pre_aug_type = 'target_phase') "
   ]
  },
  {
   "cell_type": "code",
   "execution_count": 25,
   "metadata": {
    "ExecuteTime": {
     "end_time": "2020-01-23T11:17:58.554752Z",
     "start_time": "2020-01-23T11:17:58.512667Z"
    }
   },
   "outputs": [],
   "source": [
    "def num_of_jpg_file(dir_):\n",
    "    print(len(glob.glob(dir_ + '/*.jpg')))"
   ]
  },
  {
   "cell_type": "code",
   "execution_count": 26,
   "metadata": {
    "ExecuteTime": {
     "end_time": "2020-01-23T11:18:13.258037Z",
     "start_time": "2020-01-23T11:18:12.650831Z"
    }
   },
   "outputs": [
    {
     "name": "stdout",
     "output_type": "stream",
     "text": [
      "249920\n"
     ]
    }
   ],
   "source": [
    "num_of_jpg_file(save_dir + '/test/negative/negative' )"
   ]
  },
  {
   "cell_type": "code",
   "execution_count": 27,
   "metadata": {
    "ExecuteTime": {
     "end_time": "2020-01-23T11:18:21.794972Z",
     "start_time": "2020-01-23T11:18:21.780527Z"
    }
   },
   "outputs": [
    {
     "data": {
      "text/plain": [
       "1562.0"
      ]
     },
     "execution_count": 27,
     "metadata": {},
     "output_type": "execute_result"
    }
   ],
   "source": [
    "249920/160"
   ]
  },
  {
   "cell_type": "markdown",
   "metadata": {},
   "source": [
    "# Check size between original and augmented data"
   ]
  },
  {
   "cell_type": "code",
   "execution_count": 20,
   "metadata": {
    "ExecuteTime": {
     "end_time": "2020-02-12T00:52:43.326731Z",
     "start_time": "2020-02-12T00:52:43.257600Z"
    }
   },
   "outputs": [],
   "source": [
    "data_dir = '/mnt/disk2/data/private_data/SMhospital/capsule/0 data/labeled'\n",
    "\n",
    "neg_1_filename = load_filename('p3_2', 'n', 'neg', data = '190520 p3_2', data_dir = data_dir)\n",
    "neg_2_filename = load_filename('raw', 'n', 'neg', data = '190814 negative', data_dir = data_dir)\n",
    "redspot_filename = load_filename('p3_2', 'h', 'redspot', data = '190520 p3_2', data_dir = data_dir)\n",
    "angio_filename = load_filename('p3_2', 'h', 'angio', data = '190520 p3_2', data_dir = data_dir)\n",
    "active_filename = load_filename('p3_2', 'h', 'active', data = '190520 p3_2', data_dir = data_dir)\n",
    "ero_filename = load_filename('p3_2', 'd', 'ero', data = '190520 p3_2', data_dir = data_dir)\n",
    "ulcer_filename = load_filename('p3_2', 'd', 'ulcer', data = '190520 p3_2', data_dir = data_dir)\n",
    "str_filename = load_filename('p3_2', 'd', 'str', data = '190520 p3_2', data_dir = data_dir)"
   ]
  },
  {
   "cell_type": "code",
   "execution_count": 8,
   "metadata": {
    "ExecuteTime": {
     "end_time": "2020-02-12T00:46:12.511071Z",
     "start_time": "2020-02-12T00:46:12.500569Z"
    }
   },
   "outputs": [
    {
     "data": {
      "text/plain": [
       "array([1248960,  111200,    3680,   85760,  147520,  146400,   20640])"
      ]
     },
     "execution_count": 8,
     "metadata": {},
     "output_type": "execute_result"
    }
   ],
   "source": [
    "160*np.array([len(neg_1_filename)+ len(neg_2_filename), len(redspot_filename), len(angio_filename), len(active_filename), len(ero_filename), len(ulcer_filename), len(str_filename)])"
   ]
  },
  {
   "cell_type": "code",
   "execution_count": 13,
   "metadata": {
    "ExecuteTime": {
     "end_time": "2020-02-12T00:49:54.278687Z",
     "start_time": "2020-02-12T00:49:44.503698Z"
    }
   },
   "outputs": [],
   "source": [
    "save_dir =  '/mnt/disk2/data/private_data/SMhospital/capsule/1 preprocessed/'\n",
    "\n",
    "neg_1_filename = load_filename('train', 'n', 'neg', data = 'sm_x160_v2', data_dir = save_dir)\n",
    "# neg_2_filename = load_filename('train', 'n', 'neg', data = 'sm_x160_v2', data_dir = save_dir)\n",
    "redspot_filename = load_filename('train', 'h', 'redspot', data = 'sm_x160_v2', data_dir = save_dir)\n",
    "angio_filename = load_filename('train', 'h', 'angio', data = 'sm_x160_v2', data_dir = save_dir)\n",
    "active_filename = load_filename('train', 'h', 'active', data = 'sm_x160_v2', data_dir = save_dir)\n",
    "ero_filename = load_filename('train', 'd', 'ero', data = 'sm_x160_v2', data_dir = save_dir)\n",
    "ulcer_filename = load_filename('train', 'd', 'ulcer', data = 'sm_x160_v2', data_dir = save_dir)\n",
    "str_filename = load_filename('train', 'd', 'str', data = 'sm_x160_v2', data_dir = save_dir)"
   ]
  },
  {
   "cell_type": "code",
   "execution_count": 15,
   "metadata": {
    "ExecuteTime": {
     "end_time": "2020-02-12T00:50:45.095323Z",
     "start_time": "2020-02-12T00:50:45.085673Z"
    }
   },
   "outputs": [
    {
     "data": {
      "text/plain": [
       "array([999040,  88960,   2880,  68480, 117920, 117120,  16480])"
      ]
     },
     "execution_count": 15,
     "metadata": {},
     "output_type": "execute_result"
    }
   ],
   "source": [
    "n_train = np.array([len(neg_1_filename), len(redspot_filename), len(angio_filename), len(active_filename), len(ero_filename), len(ulcer_filename), len(str_filename)])\n",
    "n_train"
   ]
  },
  {
   "cell_type": "code",
   "execution_count": 17,
   "metadata": {
    "ExecuteTime": {
     "end_time": "2020-02-12T00:51:20.525933Z",
     "start_time": "2020-02-12T00:51:18.712153Z"
    }
   },
   "outputs": [],
   "source": [
    "neg_1_filename = load_filename('test', 'n', 'neg', data = 'sm_x160_v2', data_dir = save_dir)\n",
    "# neg_2_filename = load_filename('test', 'n', 'neg', data = 'sm_x160_v2', data_dir = save_dir)\n",
    "redspot_filename = load_filename('test', 'h', 'redspot', data = 'sm_x160_v2', data_dir = save_dir)\n",
    "angio_filename = load_filename('test', 'h', 'angio', data = 'sm_x160_v2', data_dir = save_dir)\n",
    "active_filename = load_filename('test', 'h', 'active', data = 'sm_x160_v2', data_dir = save_dir)\n",
    "ero_filename = load_filename('test', 'd', 'ero', data = 'sm_x160_v2', data_dir = save_dir)\n",
    "ulcer_filename = load_filename('test', 'd', 'ulcer', data = 'sm_x160_v2', data_dir = save_dir)\n",
    "str_filename = load_filename('test', 'd', 'str', data = 'sm_x160_v2', data_dir = save_dir)"
   ]
  },
  {
   "cell_type": "code",
   "execution_count": 18,
   "metadata": {
    "ExecuteTime": {
     "end_time": "2020-02-12T00:51:26.814126Z",
     "start_time": "2020-02-12T00:51:26.804577Z"
    }
   },
   "outputs": [
    {
     "data": {
      "text/plain": [
       "array([249920,  22240,    800,  17280,  29600,  29280,   4160])"
      ]
     },
     "execution_count": 18,
     "metadata": {},
     "output_type": "execute_result"
    }
   ],
   "source": [
    "n_test = np.array([len(neg_1_filename), len(redspot_filename), len(angio_filename), len(active_filename), len(ero_filename), len(ulcer_filename), len(str_filename)])\n",
    "n_test"
   ]
  },
  {
   "cell_type": "code",
   "execution_count": 16,
   "metadata": {
    "ExecuteTime": {
     "end_time": "2020-02-12T00:51:02.872372Z",
     "start_time": "2020-02-12T00:51:02.864292Z"
    }
   },
   "outputs": [
    {
     "data": {
      "text/plain": [
       "array([6244.,  556.,   18.,  428.,  737.,  732.,  103.])"
      ]
     },
     "execution_count": 16,
     "metadata": {},
     "output_type": "execute_result"
    }
   ],
   "source": [
    "n_train/160"
   ]
  },
  {
   "cell_type": "code",
   "execution_count": 19,
   "metadata": {
    "ExecuteTime": {
     "end_time": "2020-02-12T00:51:34.833454Z",
     "start_time": "2020-02-12T00:51:34.825877Z"
    }
   },
   "outputs": [
    {
     "data": {
      "text/plain": [
       "array([1562.,  139.,    5.,  108.,  185.,  183.,   26.])"
      ]
     },
     "execution_count": 19,
     "metadata": {},
     "output_type": "execute_result"
    }
   ],
   "source": [
    "n_test/160"
   ]
  },
  {
   "cell_type": "code",
   "execution_count": 22,
   "metadata": {
    "ExecuteTime": {
     "end_time": "2020-02-12T00:53:03.403746Z",
     "start_time": "2020-02-12T00:53:03.395729Z"
    }
   },
   "outputs": [
    {
     "data": {
      "text/plain": [
       "array([7806.,  695.,   23.,  536.,  922.,  915.,  129.])"
      ]
     },
     "execution_count": 22,
     "metadata": {},
     "output_type": "execute_result"
    }
   ],
   "source": [
    "(n_train+n_test)/160"
   ]
  },
  {
   "cell_type": "code",
   "execution_count": 21,
   "metadata": {
    "ExecuteTime": {
     "end_time": "2020-02-12T00:52:48.313596Z",
     "start_time": "2020-02-12T00:52:48.303688Z"
    }
   },
   "outputs": [
    {
     "data": {
      "text/plain": [
       "array([7806,  695,   23,  536,  922,  915,  129])"
      ]
     },
     "execution_count": 21,
     "metadata": {},
     "output_type": "execute_result"
    }
   ],
   "source": [
    "np.array([len(neg_1_filename)+ len(neg_2_filename), len(redspot_filename), len(angio_filename), len(active_filename), len(ero_filename), len(ulcer_filename), len(str_filename)])"
   ]
  }
 ],
 "metadata": {
  "hide_input": false,
  "kernelspec": {
   "display_name": "Python 3",
   "language": "python",
   "name": "python3"
  },
  "language_info": {
   "codemirror_mode": {
    "name": "ipython",
    "version": 3
   },
   "file_extension": ".py",
   "mimetype": "text/x-python",
   "name": "python",
   "nbconvert_exporter": "python",
   "pygments_lexer": "ipython3",
   "version": "3.5.2"
  },
  "toc": {
   "base_numbering": 1,
   "nav_menu": {},
   "number_sections": true,
   "sideBar": true,
   "skip_h1_title": false,
   "title_cell": "Table of Contents",
   "title_sidebar": "Contents",
   "toc_cell": false,
   "toc_position": {},
   "toc_section_display": true,
   "toc_window_display": false
  }
 },
 "nbformat": 4,
 "nbformat_minor": 2
}
