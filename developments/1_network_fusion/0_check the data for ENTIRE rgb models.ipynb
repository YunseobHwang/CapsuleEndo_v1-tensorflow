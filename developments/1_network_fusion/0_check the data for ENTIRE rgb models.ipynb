{
 "cells": [
  {
   "cell_type": "code",
   "execution_count": 1,
   "metadata": {
    "ExecuteTime": {
     "end_time": "2020-02-06T13:44:07.737955Z",
     "start_time": "2020-02-06T13:44:07.550013Z"
    }
   },
   "outputs": [],
   "source": [
    "import os\n",
    "import numpy as np\n",
    "import glob\n",
    "import cv2"
   ]
  },
  {
   "cell_type": "code",
   "execution_count": 2,
   "metadata": {
    "ExecuteTime": {
     "end_time": "2020-02-06T13:44:07.745905Z",
     "start_time": "2020-02-06T13:44:07.740329Z"
    }
   },
   "outputs": [],
   "source": [
    "def load_data(phase, cls, lesion = None):\n",
    "    \"\"\"\n",
    "    cls = 'negative', 'hemorrhagic', 'depressed', 'protruded'\n",
    "    cls: [lesion]  \n",
    "    'hemorrhagic': ['red_spot', 'angioectasia', 'active_bleeding'], \n",
    "    'depressed': ['erosion', 'ulcer', 'stricture'],\n",
    "    'protruded': ['ampulla_of_vater', 'lymphoid_follicles', 'small_bowel_tumor']}\n",
    "    phase = 'train', 'test'\n",
    "    \"\"\"\n",
    "    if cls == 'negative':\n",
    "        lesion = cls\n",
    "    \n",
    "    data_dir = '/mnt/disk2/data/private_data/SMhospital/capsule/1 preprocessed/sm/'\n",
    "    \n",
    "    path = os.path.join(data_dir, phase, cls, lesion)\n",
    "    pathlist = glob.glob(path + '/*.jpg')\n",
    "\n",
    "    data = []\n",
    "    name = []\n",
    "\n",
    "    for i in pathlist:\n",
    "        temp = cv2.imread(i)\n",
    "        temp_rgb = cv2.cvtColor(temp, cv2.COLOR_BGR2RGB)\n",
    "        data.append(temp_rgb)\n",
    "        name.append(os.path.basename(i))\n",
    "\n",
    "    return np.asarray(data), np.asarray(name)"
   ]
  },
  {
   "cell_type": "code",
   "execution_count": 3,
   "metadata": {
    "ExecuteTime": {
     "end_time": "2020-02-06T13:45:18.217647Z",
     "start_time": "2020-02-06T13:44:25.834188Z"
    }
   },
   "outputs": [],
   "source": [
    "neg_data, neg_name = load_data('test', 'negative')\n",
    "redspot_data, redspot_name = load_data('test', 'hemorrhagic', 'red_spot')\n",
    "angio_data, angio_name = load_data('test', 'hemorrhagic', 'angioectasia')\n",
    "active_data, active_name = load_data('test', 'hemorrhagic', 'active_bleeding')"
   ]
  },
  {
   "cell_type": "code",
   "execution_count": 4,
   "metadata": {
    "ExecuteTime": {
     "end_time": "2020-02-06T13:45:24.852686Z",
     "start_time": "2020-02-06T13:45:24.830014Z"
    }
   },
   "outputs": [
    {
     "data": {
      "text/plain": [
       "(37, 512, 512, 3)"
      ]
     },
     "execution_count": 4,
     "metadata": {},
     "output_type": "execute_result"
    }
   ],
   "source": [
    "angio_data.shape"
   ]
  },
  {
   "cell_type": "code",
   "execution_count": 5,
   "metadata": {
    "ExecuteTime": {
     "end_time": "2020-02-06T13:45:29.324644Z",
     "start_time": "2020-02-06T13:45:29.315408Z"
    }
   },
   "outputs": [
    {
     "data": {
      "text/plain": [
       "array([[[0, 0, 0],\n",
       "        [0, 0, 0],\n",
       "        [0, 0, 0],\n",
       "        ...,\n",
       "        [0, 0, 0],\n",
       "        [0, 0, 0],\n",
       "        [0, 0, 0]],\n",
       "\n",
       "       [[0, 0, 0],\n",
       "        [0, 0, 0],\n",
       "        [0, 0, 0],\n",
       "        ...,\n",
       "        [0, 0, 0],\n",
       "        [0, 0, 0],\n",
       "        [0, 0, 0]],\n",
       "\n",
       "       [[0, 0, 0],\n",
       "        [0, 0, 0],\n",
       "        [0, 0, 0],\n",
       "        ...,\n",
       "        [0, 0, 0],\n",
       "        [0, 0, 0],\n",
       "        [0, 0, 0]],\n",
       "\n",
       "       ...,\n",
       "\n",
       "       [[1, 1, 1],\n",
       "        [1, 1, 1],\n",
       "        [1, 1, 1],\n",
       "        ...,\n",
       "        [1, 1, 1],\n",
       "        [1, 1, 1],\n",
       "        [1, 1, 1]],\n",
       "\n",
       "       [[1, 1, 1],\n",
       "        [1, 1, 1],\n",
       "        [1, 1, 1],\n",
       "        ...,\n",
       "        [1, 1, 1],\n",
       "        [1, 1, 1],\n",
       "        [1, 1, 1]],\n",
       "\n",
       "       [[1, 1, 1],\n",
       "        [1, 1, 1],\n",
       "        [1, 1, 1],\n",
       "        ...,\n",
       "        [1, 1, 1],\n",
       "        [1, 1, 1],\n",
       "        [1, 1, 1]]], dtype=uint8)"
      ]
     },
     "execution_count": 5,
     "metadata": {},
     "output_type": "execute_result"
    }
   ],
   "source": [
    "angio_data[0]"
   ]
  },
  {
   "cell_type": "code",
   "execution_count": 6,
   "metadata": {
    "ExecuteTime": {
     "end_time": "2020-02-06T13:45:50.050957Z",
     "start_time": "2020-02-06T13:45:50.041044Z"
    }
   },
   "outputs": [
    {
     "data": {
      "text/plain": [
       "233"
      ]
     },
     "execution_count": 6,
     "metadata": {},
     "output_type": "execute_result"
    }
   ],
   "source": [
    "np.max(angio_data[0])"
   ]
  }
 ],
 "metadata": {
  "hide_input": false,
  "kernelspec": {
   "display_name": "Python 3",
   "language": "python",
   "name": "python3"
  },
  "language_info": {
   "codemirror_mode": {
    "name": "ipython",
    "version": 3
   },
   "file_extension": ".py",
   "mimetype": "text/x-python",
   "name": "python",
   "nbconvert_exporter": "python",
   "pygments_lexer": "ipython3",
   "version": "3.5.2"
  },
  "toc": {
   "base_numbering": 1,
   "nav_menu": {},
   "number_sections": true,
   "sideBar": true,
   "skip_h1_title": false,
   "title_cell": "Table of Contents",
   "title_sidebar": "Contents",
   "toc_cell": false,
   "toc_position": {},
   "toc_section_display": true,
   "toc_window_display": false
  }
 },
 "nbformat": 4,
 "nbformat_minor": 2
}
