{
 "cells": [
  {
   "cell_type": "code",
   "execution_count": 1,
   "metadata": {},
   "outputs": [],
   "source": [
    "# GPU setting\n",
    "import os\n",
    "os.environ[\"CUDA_DEVICE_ORDER\"]=\"PCI_BUS_ID\"\n",
    "os.environ[\"CUDA_VISIBLE_DEVICES\"]=\"1\""
   ]
  },
  {
   "cell_type": "code",
   "execution_count": 2,
   "metadata": {},
   "outputs": [
    {
     "name": "stderr",
     "output_type": "stream",
     "text": [
      "/home/project/.pyenv/versions/3.6.3/lib/python3.6/importlib/_bootstrap.py:219: RuntimeWarning: compiletime version 3.5 of module 'tensorflow.python.framework.fast_tensor_util' does not match runtime version 3.6\n",
      "  return f(*args, **kwds)\n"
     ]
    }
   ],
   "source": [
    "# modules setting\n",
    "from sklearn.metrics import confusion_matrix\n",
    "import itertools\n",
    "import os\n",
    "import numpy as np\n",
    "import glob\n",
    "import matplotlib.pyplot as plt\n",
    "import matplotlib.image as mpimg\n",
    "import tensorflow as tf\n",
    "import random\n",
    "import cv2"
   ]
  },
  {
   "cell_type": "markdown",
   "metadata": {},
   "source": [
    "# PREPROCESSED DATA DIR"
   ]
  },
  {
   "cell_type": "code",
   "execution_count": 5,
   "metadata": {},
   "outputs": [],
   "source": [
    "# cls = ['negative', 'hemorrhagic', 'depressed', 'protruded']\n",
    "# lesion = {'negative' : ['negative'], \n",
    "#           'hemorrhagic': ['red_spot', 'angioectasia', 'active_bleeding'],\n",
    "#           'depressed': ['erosion', 'ulcer', 'stricture'],\n",
    "#           'protruded': ['ampulla_of_vater', 'lymphoid_follicles', 'small_bowel_tumor']}\n",
    "cls = ['negative', 'hemorrhagic']\n",
    "lesion = {'negative' : ['negative'], \n",
    "          'hemorrhagic': ['red_spot', 'angioectasia', 'active_bleeding']}"
   ]
  },
  {
   "cell_type": "code",
   "execution_count": 6,
   "metadata": {},
   "outputs": [
    {
     "name": "stdout",
     "output_type": "stream",
     "text": [
      "{'negative': {'negative': '/mnt/disk1/project/public/SMhospital/ChoongChoong/dataset/core_pre_p2_3/negative/negative'}, 'hemorrhagic': {'red_spot': '/mnt/disk1/project/public/SMhospital/ChoongChoong/dataset/core_pre_p2_3/hemorrhagic/red_spot', 'angioectasia': '/mnt/disk1/project/public/SMhospital/ChoongChoong/dataset/core_pre_p2_3/hemorrhagic/angioectasia', 'active_bleeding': '/mnt/disk1/project/public/SMhospital/ChoongChoong/dataset/core_pre_p2_3/hemorrhagic/active_bleeding'}}\n"
     ]
    }
   ],
   "source": [
    "# path of data folder\n",
    "dir_data = '/mnt/disk1/project/public/SMhospital/ChoongChoong/dataset/core_pre_p2_3/'\n",
    "path_folder = {}\n",
    "\n",
    "for i in cls:\n",
    "    path_folder[i] = {}\n",
    "    for j in lesion[i]:\n",
    "        temp = dir_data + '{0}/{1}'.format(i, j)\n",
    "        path_folder[i][j] = temp\n",
    "        \n",
    "print(path_folder)"
   ]
  },
  {
   "cell_type": "code",
   "execution_count": 7,
   "metadata": {},
   "outputs": [
    {
     "name": "stdout",
     "output_type": "stream",
     "text": [
      "{'negative': {'negative': [['JH___04-10-09___1030024.jpg', 'CW___02-48-46___1020256.jpg', 'EC___02-39-23___2033706.jpg', 'JG___03-55-23___1028253.jpg', 'JS___04-56-49___1035626.jpg', 'JL___03-06-36___1022334.jpg', 'JH___04-32-04___1032656.jpg', 'GN___03-51-11___1027742.jpg', 'CGB___06-30-52___1046914.jpg', 'HS___01-11-29___1008581.jpg', 'EC___02-40-02___2033799.jpg', 'JY___02-03-54___1014872.jpg', 'CW___03-00-16___1021637.jpg', 'DJ___03-40-43___1026492.jpg', 'HS___01-11-25___1008572.jpg', 'JH___04-09-50___1029986.jpg', 'EC___02-39-07___2033654.jpg', 'PI___03-38-18___2038281.jpg', 'KK___05-11-39___1037407.jpg', 'SJ___04-02-15___1029076.jpg', 'EC___03-41-54___2041735.jpg', 'PI___04-16-40___2043213.jpg', 'ML___04-06-13___1029554.jpg', 'DO___03-44-34___1026955.jpg', 'PI___02-17-29___2027224.jpg', 'JY___02-03-56___1014876.jpg', 'JY___02-03-06___1014775.jpg', 'JL___04-10-44___1030032.jpg', 'EC___02-39-03___2033640.jpg', 'HS___01-11-23___1008569.jpg', 'PI___03-37-58___2038240.jpg', 'SJ___03-47-59___1027365.jpg', 'DJ___03-36-50___1026026.jpg', 'DO___03-44-36___1026959.jpg', 'CGB___06-31-11___1046953.jpg', 'JH___04-09-54___1029995.jpg', 'JH___04-30-52___1032512.jpg', 'SJ___03-47-45___1027337.jpg', 'DO___03-44-36___1026958.jpg', 'KK___03-02-18___1021880.jpg', 'EC___02-39-33___2033740.jpg', 'jh___00-48-10___1005781.jpg', 'JY___02-02-16___1014675.jpg', 'DJ___03-40-43___1026491.jpg', 'HS___03-29-30___1025147.jpg', 'dG___03-16-30___2040671.jpg', 'dG___03-15-20___2040531.jpg', 'jb___04-11-48___2044969.jpg', 'jb___03-25-39___2037495.jpg', 'KK___05-11-32___1037393.jpg', 'PM___01-42-37___2020473.jpg', 'CGB___06-30-46___1046902.jpg', 'AJ___03-13-59___1023283.jpg', 'jb___02-36-28___2028800.jpg', 'jb___03-00-41___2033543.jpg', 'mK___02-27-48___2032564.jpg', 'JH___03-36-17___1025960.jpg', 'PM___00-41-10___2008088.jpg', 'DO___04-14-02___1030492.jpg', 'HS___01-11-28___1008578.jpg', 'JH___03-41-56___1026638.jpg', 'JH___04-31-45___1032617.jpg', 'jb___03-31-33___2038396.jpg', 'DO___05-30-33___1039676.jpg', 'GN___03-28-42___1025043.jpg', 'oP___03-39-03___1026053.jpg', 'PI___04-16-40___2043214.jpg', 'CW___03-00-15___1021634.jpg', 'mK___02-27-30___2032498.jpg', 'KK___03-01-18___1021760.jpg', 'GN___03-51-01___1027722.jpg', 'PM___02-11-10___2024753.jpg', 'jb___03-26-14___2037599.jpg', 'JG___03-55-44___1028295.jpg', 'DO___03-44-42___1026970.jpg', 'HS___01-11-54___1008631.jpg', 'JH___04-10-08___1030022.jpg', 'jb___02-37-00___2028897.jpg', 'JS___04-56-54___1035636.jpg', 'EC___03-41-51___2041728.jpg', 'JG___03-55-36___1028280.jpg', 'oP___02-03-57___1014640.jpg', 'KK___04-04-17___1029320.jpg', 'JS___04-56-48___1035624.jpg', 'KK___03-01-48___1021821.jpg', 'JL___03-52-47___1027879.jpg', 'JS___03-59-38___1028727.jpg', 'EC___02-39-20___2033694.jpg', 'jb___05-06-54___2053912.jpg', 'GN___04-02-51___1029142.jpg', 'DO___03-44-38___1026963.jpg', 'jb___03-47-44___2040894.jpg', 'jb___04-33-26___2048790.jpg', 'DO___05-30-33___1039675.jpg', 'JL___03-06-19___1022300.jpg', 'JY___02-03-33___1014829.jpg', 'JO___05-26-12___1039152.jpg', 'HS___01-11-28___1008579.jpg', 'PI___03-37-52___2038228.jpg', 'JG___03-55-42___1028292.jpg', 'jb___04-53-38___2052320.jpg', 'dG___03-15-34___2040559.jpg', 'JH___03-44-44___1026975.jpg', 'JL___04-10-56___1030057.jpg', 'ML___04-47-57___1034563.jpg', 'JH___05-12-40___1037529.jpg', 'DO___04-13-55___1030478.jpg', 'jb___02-37-01___2028900.jpg', 'KK___05-11-34___1037397.jpg', 'EC___03-11-54___2037990.jpg', 'EC___02-39-09___2033660.jpg', 'EA___02-12-01___1015846.jpg', 'DJ___03-51-17___1027760.jpg', 'mK___02-17-15___2029749.jpg', 'EA___02-12-20___1015885.jpg', 'JS___03-59-43___1028737.jpg', 'PM___02-32-03___2027881.jpg', 'CW___02-48-38___1020240.jpg', 'DO___03-44-40___1026966.jpg', 'jb___02-36-56___2028884.jpg', 'EC___02-39-07___2033653.jpg', 'ML___04-06-10___1029548.jpg', 'JL___03-52-51___1027887.jpg', 'JH___04-30-40___1032487.jpg', 'JS___04-56-58___1035644.jpg', 'JL___03-05-53___1022248.jpg', 'DO___03-44-41___1026969.jpg', 'JL___04-10-46___1030036.jpg', 'JY___02-03-02___1014768.jpg', 'GN___03-51-07___1027735.jpg', 'JH___04-10-10___1030026.jpg', 'JO___05-35-41___1040290.jpg', 'dG___03-17-53___2040836.jpg', 'JY___02-02-32___1014707.jpg', 'HS___03-19-39___1023964.jpg', 'jb___04-11-56___2044999.jpg', 'ML___03-48-14___1027396.jpg', 'jb___04-53-21___2052285.jpg', 'EC___02-39-00___2033634.jpg', 'JH___04-32-28___1032704.jpg', 'PM___01-42-09___2020412.jpg', 'SJ___03-48-02___1027371.jpg', 'DO___05-30-36___1039682.jpg', 'dG___03-16-47___2040705.jpg', 'jb___04-48-12___2051611.jpg', 'PI___03-38-20___2038285.jpg', 'jb___05-06-47___2053899.jpg', 'HS___01-34-35___1011352.jpg', 'jb___04-53-50___2052343.jpg', 'JL___03-52-54___1027892.jpg', 'HS___01-11-30___1008582.jpg', 'JH___04-48-33___1034634.jpg', 'AJ___03-58-47___1028661.jpg', 'PM___00-41-12___2008097.jpg', 'JL___04-10-58___1030060.jpg', 'KK___05-11-37___1037403.jpg', 'PM___00-41-12___2008099.jpg', 'GN___03-28-50___1025060.jpg', 'JG___03-55-41___1028290.jpg', 'dG___03-17-39___2040808.jpg', 'DO___03-44-38___1026962.jpg', 'JH___03-45-24___1027054.jpg', 'CGB___06-31-10___1046950.jpg', 'GN___03-28-45___1025049.jpg', 'jb___02-37-41___2029020.jpg', 'JH___03-45-06___1027019.jpg', 'DO___03-44-35___1026956.jpg', 'oP___04-32-00___1032409.jpg', 'SH___04-14-06___1030499.jpg', 'JH___04-10-08___1030023.jpg', 'DO___05-30-35___1039680.jpg', 'EC___02-40-03___2033804.jpg', 'CGB___06-31-09___1046949.jpg', 'JY___02-02-53___1014750.jpg', 'CW___03-00-29___1021663.jpg', 'GN___06-56-11___1049947.jpg', 'jb___04-33-15___2048761.jpg', 'JL___03-06-01___1022264.jpg', 'MP___04-53-39___1035246.jpg', 'DO___04-14-00___1030487.jpg', 'EA___02-30-20___1018044.jpg', 'EA___02-30-29___1018062.jpg', 'CW___02-38-00___1018964.jpg', 'DO___05-30-32___1039674.jpg', 'jb___04-53-21___2052286.jpg', 'JY___02-03-38___1014839.jpg', 'jb___04-53-44___2052332.jpg', 'AJ___04-01-56___1029039.jpg', 'GN___04-03-07___1029174.jpg', 'KK___03-02-44___1021932.jpg', 'JY___02-04-01___1014885.jpg', 'MP___04-53-50___1035269.jpg', 'ML___04-06-04___1029535.jpg', 'JH___04-31-07___1032542.jpg', 'JG___03-55-22___1028251.jpg', 'KK___05-11-38___1037405.jpg', 'dG___03-13-57___2040365.jpg', 'DJ___03-21-28___1024181.jpg', 'GN___03-28-45___1025050.jpg', 'jb___03-32-55___2038609.jpg', 'EC___03-41-35___2041696.jpg', 'DO___05-30-37___1039683.jpg', 'JH___04-09-49___1029984.jpg', 'JL___03-06-10___1022282.jpg', 'AJ___02-09-47___1015577.jpg', 'jb___02-37-47___2029034.jpg', 'JS___04-56-55___1035638.jpg', 'oP___04-32-04___1032416.jpg', 'jb___06-14-44___2062054.jpg', 'KK___03-02-21___1021886.jpg', 'HS___01-11-57___1008636.jpg', 'GN___03-50-55___1027711.jpg', 'jb___02-37-00___2028898.jpg', 'CW___02-38-02___1018968.jpg']]}, 'hemorrhagic': {'red_spot': [['은임___03-13-01___2040293.jpg', 'LE___04-09-27___1029939.jpg', '은임___02-52-41___2037853.jpg', '영이___07-45-50___2072989.jpg', 'LE___04-54-11___1035308.jpg', '성정___02-40-29___1019260.jpg', '복지___03-56-43___2043298.jpg', '성박___00-39-43___1004767.jpg', 'HG___00-16-45___1002010.jpg', '경윤___05-48-28___2053377.jpg', '차한___09-34-22___2086026.jpg', '은임___02-57-01___2038372.jpg', 'mK___02-28-08___2032658.jpg', '진한___04-43-34___2049885.jpg', 'CJ___00-22-42___1002724.jpg', '안창___04-23-28___2040808.jpg', 'mK___02-27-55___2032597.jpg', 'HG___00-18-05___1002170.jpg', 'HG___00-18-49___1002259.jpg', '은임___04-11-39___2047330.jpg', 'EA___01-13-40___1008842.jpg', '옥이___02-11-51___1015822.jpg', 'PI___00-59-54___2016134.jpg', '성박___02-09-38___1015558.jpg', 'Nm___01-06-58___1008037.jpg', 'Nm___01-07-00___1008042.jpg', 'mK___02-27-55___2032596.jpg', '복지___01-33-51___2017312.jpg', '복지___04-29-43___2048914.jpg', '인이___05-23-45___2068907.jpg', 'Nm___01-06-57___1008036.jpg', '승박___01-34-40___1011362.jpg', 'HG___00-16-45___1002011.jpg', 'mK___02-27-53___2032588.jpg', '옥김___07-51-44___2073717.jpg', 'JL___03-04-17___1022057.jpg', '승박___02-02-58___1014757.jpg', '현강___01-15-00___2024177.jpg', '복지___06-31-56___2064120.jpg', '승박___06-48-40___1049047.jpg', '연박___00-42-23___2011296.jpg', 'LE___04-10-54___1030113.jpg', '성정___02-40-30___1019262.jpg', '은임___03-13-04___2040298.jpg', '은임___02-48-21___2037333.jpg', '승박___01-42-40___1012322.jpg', 'JL___03-04-17___1022056.jpg', 'LE___04-09-10___1029905.jpg', '옥김___07-51-42___2073714.jpg', '정주___03-01-29___2037177.jpg', 'HG___00-18-03___1002166.jpg', '은임___02-48-03___2037297.jpg', 'LE___01-37-05___1011652.jpg', 'HG___00-17-36___1002113.jpg', '은임___02-16-11___2033472.jpg', 'LE___01-36-29___1011580.jpg', '은임___02-14-08___2033072.jpg', '승박___07-06-36___1051199.jpg', '석강___00-33-14___2008825.jpg', '은임___02-58-58___2038606.jpg', 'HG___00-24-34___1002948.jpg', 'ck___02-08-43___1015450.jpg', 'HG___00-15-41___1001883.jpg', '은임___03-13-02___2040295.jpg', 'mK___02-28-08___2032659.jpg', 'LE___02-16-39___1016401.jpg', '기강___04-55-17___2051267.jpg', '진한___04-44-48___2050063.jpg', '창정___03-54-18___2040402.jpg', 'YM___04-33-55___1032878.jpg', '영유___01-48-38___2030132.jpg', '기김___06-34-41___1047368.jpg', '안창___04-12-37___2039452.jpg', 'HG___00-15-39___1001878.jpg', 'EA___01-13-39___1008840.jpg', '성박___02-10-29___1015660.jpg', '기강___04-55-17___2051266.jpg']], 'angioectasia': [['충이___00-11-34___2003337.jpg', '실한___02-12-20___2032972.jpg', '실한___02-12-06___2032944.jpg', '충이___00-15-15___2004160.jpg', 'Is___04-57-24___1035697.jpg', '충이___00-22-16___2006004.jpg', '충이___00-13-31___2003593.jpg', 'Is___04-57-25___1035698.jpg', '충이___00-19-07___2005179.jpg', '실한___02-12-31___2032994.jpg', '충이___00-18-06___2004910.jpg', '충이___00-20-19___2005470.jpg', '충이___00-14-31___2003925.jpg', '충이___00-27-24___2007362.jpg']], 'active_bleeding': [['승김___05-14-15___2054806.jpg', 'mK___01-04-22___2017959.jpg', '인이___02-31-45___1018209.jpg', 'mK___01-04-21___2017958.jpg', '순황___02-56-02___1021126.jpg', '용이___02-47-01___2035028.jpg', 'BK___02-02-21___1014686.jpg', '종문___02-44-27___2029323.jpg', '승김___05-14-16___2054807.jpg', 'CJ___00-22-40___1002720.jpg', '기김___00-20-13___2006026.jpg', '복이___00-56-46___2014893.jpg', '강은___02-41-33___2023743.jpg', '종문___02-44-37___2029352.jpg', '승김___05-14-15___2054805.jpg', 'CH___01-39-11___1011905.jpg', 'mK___01-04-16___2017935.jpg', 'SJ___07-56-37___1057208.jpg', '승김___05-14-16___2054808.jpg', '인이___02-31-45___1018209_bleeding 에 넣.jpg', 'CH___01-38-57___1011876.jpg', '옥이___02-32-43___1018327.jpg', '기김___00-20-55___2006228.jpg', 'CJ___00-23-08___1002776.jpg', '철김___00-28-10___2008059.jpg', 'mK___01-04-21___2017956.jpg', '종문___02-44-27___2029322.jpg', '철김___00-28-10___2008057.jpg', 'CJ___01-22-16___1009875.jpg', '철김___00-28-10___2008060.jpg', '철김___00-33-49___2009932.jpg', '승박___00-08-19___1000998.jpg', '종문___02-45-18___2029449.jpg', '복이___00-54-38___2014289.jpg', '철김___00-33-49___2009933.jpg', 'mK___01-04-15___2017933.jpg', 'CJ___00-23-09___1002779.jpg', 'CJ___01-22-18___1009878.jpg', '철김___00-28-10___2008061.jpg']]}}\n"
     ]
    }
   ],
   "source": [
    "list_data_pre = {}\n",
    "for i in cls:\n",
    "    list_data_pre[i] = {}\n",
    "    for j in lesion[i]:\n",
    "        list_data_pre[i][j] = []\n",
    "        temp = os.listdir(path_folder[i][j])\n",
    "        list_data_pre[i][j].append(temp)\n",
    "\n",
    "print(list_data_pre)"
   ]
  },
  {
   "cell_type": "markdown",
   "metadata": {},
   "source": [
    "# Augmentation"
   ]
  },
  {
   "cell_type": "code",
   "execution_count": 8,
   "metadata": {},
   "outputs": [],
   "source": [
    "def rotate90(img, times):\n",
    "    rows, cols = img.shape[:2]\n",
    "    M = cv2.getRotationMatrix2D(center = (cols/2, rows/2), angle = 90*times, scale = 1)\n",
    "    img_rotated = cv2.warpAffine(img, M, dsize = (rows, cols))\n",
    "    return img_rotated"
   ]
  },
  {
   "cell_type": "code",
   "execution_count": 12,
   "metadata": {},
   "outputs": [],
   "source": [
    "dir_data_pre = '/mnt/disk1/project/public/SMhospital/ChoongChoong/dataset/core_pre_p2_3/'\n",
    "dir_data_pre_aug = '/mnt/disk1/project/public/SMhospital/ChoongChoong/dataset/aug_core_pre_p2_3/'\n",
    "for i in cls:\n",
    "    for j in lesion[i]:\n",
    "        for k in list_data_pre[i][j][0]:\n",
    "            temp = cv2.imread(dir_data_pre + '{0}/{1}/{2}'.format(i, j, k)) # Original\n",
    "            temp_r1 = rotate90(temp, 1) # 90도\n",
    "            temp_r2 = rotate90(temp, 2) # 180도\n",
    "            temp_r3 = rotate90(temp, 3) # 270도\n",
    "            \n",
    "            temp_f = np.flipud(temp) # flip up and down\n",
    "            temp_f_r1 = rotate90(temp_f, 1) # 90도\n",
    "            temp_f_r2 = rotate90(temp_f, 2) # 180도\n",
    "            temp_f_r3 = rotate90(temp_f, 3) # 270도\n",
    "            \n",
    "            cv2.imwrite(dir_data_pre_aug + '{0}/{1}/{2}'.format(i, j, k), temp)\n",
    "            cv2.imwrite(dir_data_pre_aug + '{0}/{1}/r1_{2}'.format(i, j, k), temp_r1)\n",
    "            cv2.imwrite(dir_data_pre_aug + '{0}/{1}/r2_{2}'.format(i, j, k), temp_r2)\n",
    "            cv2.imwrite(dir_data_pre_aug + '{0}/{1}/r3_{2}'.format(i, j, k), temp_r3)\n",
    "            \n",
    "            cv2.imwrite(dir_data_pre_aug + '{0}/{1}/f_{2}'.format(i, j, k), temp_f)\n",
    "            cv2.imwrite(dir_data_pre_aug + '{0}/{1}/f_r1_{2}'.format(i, j, k), temp_f_r1)\n",
    "            cv2.imwrite(dir_data_pre_aug + '{0}/{1}/f_r2_{2}'.format(i, j, k), temp_f_r2)\n",
    "            cv2.imwrite(dir_data_pre_aug + '{0}/{1}/f_r3_{2}'.format(i, j, k), temp_f_r3)"
   ]
  }
 ],
 "metadata": {
  "kernelspec": {
   "display_name": "Python 3",
   "language": "python",
   "name": "python3"
  },
  "language_info": {
   "codemirror_mode": {
    "name": "ipython",
    "version": 3
   },
   "file_extension": ".py",
   "mimetype": "text/x-python",
   "name": "python",
   "nbconvert_exporter": "python",
   "pygments_lexer": "ipython3",
   "version": "3.6.3"
  }
 },
 "nbformat": 4,
 "nbformat_minor": 2
}
