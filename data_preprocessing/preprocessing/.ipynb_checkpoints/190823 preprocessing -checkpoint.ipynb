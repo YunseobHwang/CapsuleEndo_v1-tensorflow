{
 "cells": [
  {
   "cell_type": "code",
   "execution_count": 1,
   "metadata": {
    "ExecuteTime": {
     "end_time": "2019-08-23T05:16:38.789131Z",
     "start_time": "2019-08-23T05:16:38.783333Z"
    }
   },
   "outputs": [],
   "source": [
    "# GPU setting\n",
    "import os\n",
    "os.environ[\"CUDA_DEVICE_ORDER\"]=\"PCI_BUS_ID\"\n",
    "os.environ[\"CUDA_VISIBLE_DEVICES\"]=\"3\""
   ]
  },
  {
   "cell_type": "code",
   "execution_count": 2,
   "metadata": {
    "ExecuteTime": {
     "end_time": "2019-08-23T05:16:41.291373Z",
     "start_time": "2019-08-23T05:16:39.540838Z"
    }
   },
   "outputs": [],
   "source": [
    "from sklearn.metrics import confusion_matrix\n",
    "import itertools\n",
    "import os\n",
    "import numpy as np\n",
    "import glob\n",
    "import matplotlib.pyplot as plt\n",
    "import matplotlib.image as mpimg\n",
    "import tensorflow as tf\n",
    "import random\n",
    "import cv2"
   ]
  },
  {
   "cell_type": "code",
   "execution_count": 3,
   "metadata": {
    "ExecuteTime": {
     "end_time": "2019-08-23T06:01:23.985657Z",
     "start_time": "2019-08-23T06:01:23.980106Z"
    }
   },
   "outputs": [],
   "source": [
    "root = '/mnt/disk2/data/private_data/SMhospital/capsule/0 data/labeled/190814 negative/'\n",
    "\n",
    "import_path = root + 'raw/'\n",
    "save_path = root + 'pre_aug/'"
   ]
  },
  {
   "cell_type": "code",
   "execution_count": 4,
   "metadata": {
    "ExecuteTime": {
     "end_time": "2019-08-23T05:37:56.218428Z",
     "start_time": "2019-08-23T05:37:56.206205Z"
    }
   },
   "outputs": [],
   "source": [
    "file_list = os.listdir(import_path)"
   ]
  },
  {
   "cell_type": "code",
   "execution_count": 5,
   "metadata": {
    "ExecuteTime": {
     "end_time": "2019-08-23T05:36:46.578193Z",
     "start_time": "2019-08-23T05:36:46.568839Z"
    }
   },
   "outputs": [],
   "source": [
    "def pre_process(img):\n",
    "    img = np.array(img, dtype = 'f4')\n",
    "    img_pre = img[32:544, 32:544, :]\n",
    "    for i in range(100):\n",
    "        for j in range(100):\n",
    "            if i + j > 99:\n",
    "                pass\n",
    "            else :\n",
    "                img_pre[i, j, :] = 0\n",
    "                img_pre[i, -j, :] = 0\n",
    "    return img_pre"
   ]
  },
  {
   "cell_type": "code",
   "execution_count": 6,
   "metadata": {
    "ExecuteTime": {
     "end_time": "2019-08-23T05:36:47.064724Z",
     "start_time": "2019-08-23T05:36:47.056972Z"
    }
   },
   "outputs": [],
   "source": [
    "def rotate90(img, times):\n",
    "    rows, cols = img.shape[:2]\n",
    "    M = cv2.getRotationMatrix2D(center = (cols/2, rows/2), angle = 90*times, scale = 1)\n",
    "    img_rotated = cv2.warpAffine(img, M, dsize = (rows, cols))\n",
    "    return img_rotated"
   ]
  },
  {
   "cell_type": "code",
   "execution_count": null,
   "metadata": {
    "ExecuteTime": {
     "end_time": "2019-08-23T05:47:14.124926Z",
     "start_time": "2019-08-23T05:47:21.713Z"
    }
   },
   "outputs": [],
   "source": [
    "for i in file_list:\n",
    "    image = cv2.imread(import_path + i)\n",
    "    temp = pre_process(image)\n",
    "    \n",
    "    temp_r1 = rotate90(temp, 1) # 90도\n",
    "    temp_r2 = rotate90(temp, 2) # 180도\n",
    "    temp_r3 = rotate90(temp, 3) # 270도\n",
    "\n",
    "    temp_f = np.flipud(temp) # flip up and down\n",
    "    temp_f_r1 = rotate90(temp_f, 1) # 90도\n",
    "    temp_f_r2 = rotate90(temp_f, 2) # 180도\n",
    "    temp_f_r3 = rotate90(temp_f, 3) # 270도\n",
    "\n",
    "    cv2.imwrite(save_path + '{}'.format(i), temp)\n",
    "    cv2.imwrite(save_path + 'r1_{}'.format(i), temp_r1)\n",
    "    cv2.imwrite(save_path + 'r2_{}'.format(i), temp_r2)\n",
    "    cv2.imwrite(save_path + 'r3_{}'.format(i), temp_r3)\n",
    "\n",
    "    cv2.imwrite(save_path + 'f_{}'.format(i), temp_f)\n",
    "    cv2.imwrite(save_path + 'f_r1_{}'.format(i), temp_f_r1)\n",
    "    cv2.imwrite(save_path + 'f_r2_{}'.format(i), temp_f_r2)\n",
    "    cv2.imwrite(save_path + 'f_r3_{}'.format(i), temp_f_r3)   "
   ]
  },
  {
   "cell_type": "code",
   "execution_count": null,
   "metadata": {},
   "outputs": [],
   "source": [
    "dir_data_pre = '/mnt/disk1/project/public/SMhospital/ChoongChoong/dataset/core_pre_p2_3/'\n",
    "dir_data_pre_aug = '/mnt/disk1/project/public/SMhospital/ChoongChoong/dataset/aug_core_pre_p2_3/'\n",
    "for i in cls:\n",
    "    for j in lesion[i]:\n",
    "        for k in list_data_pre[i][j][0]:\n",
    "            temp = cv2.imread( + '{0}/{1}/{2}'.format(i, j, k)) # Original\n",
    "            temp_r1 = rotate90(temp, 1) # 90도\n",
    "            temp_r2 = rotate90(temp, 2) # 180도\n",
    "            temp_r3 = rotate90(temp, 3) # 270도\n",
    "            \n",
    "            temp_f = np.flipud(temp) # flip up and down\n",
    "            temp_f_r1 = rotate90(temp_f, 1) # 90도\n",
    "            temp_f_r2 = rotate90(temp_f, 2) # 180도\n",
    "            temp_f_r3 = rotate90(temp_f, 3) # 270도\n",
    "            \n",
    "            cv2.imwrite(dir_data_pre_aug + '{0}/{1}/{2}'.format(i, j, k), temp)\n",
    "            cv2.imwrite(dir_data_pre_aug + '{0}/{1}/r1_{2}'.format(i, j, k), temp_r1)\n",
    "            cv2.imwrite(dir_data_pre_aug + '{0}/{1}/r2_{2}'.format(i, j, k), temp_r2)\n",
    "            cv2.imwrite(dir_data_pre_aug + '{0}/{1}/r3_{2}'.format(i, j, k), temp_r3)\n",
    "            \n",
    "            cv2.imwrite(dir_data_pre_aug + '{0}/{1}/f_{2}'.format(i, j, k), temp_f)\n",
    "            cv2.imwrite(dir_data_pre_aug + '{0}/{1}/f_r1_{2}'.format(i, j, k), temp_f_r1)\n",
    "            cv2.imwrite(dir_data_pre_aug + '{0}/{1}/f_r2_{2}'.format(i, j, k), temp_f_r2)\n",
    "            cv2.imwrite(dir_data_pre_aug + '{0}/{1}/f_r3_{2}'.format(i, j, k), temp_f_r3)"
   ]
  }
 ],
 "metadata": {
  "hide_input": false,
  "kernelspec": {
   "display_name": "Python 3",
   "language": "python",
   "name": "python3"
  },
  "language_info": {
   "codemirror_mode": {
    "name": "ipython",
    "version": 3
   },
   "file_extension": ".py",
   "mimetype": "text/x-python",
   "name": "python",
   "nbconvert_exporter": "python",
   "pygments_lexer": "ipython3",
   "version": "3.5.2"
  },
  "toc": {
   "base_numbering": 1,
   "nav_menu": {},
   "number_sections": true,
   "sideBar": true,
   "skip_h1_title": false,
   "title_cell": "Table of Contents",
   "title_sidebar": "Contents",
   "toc_cell": false,
   "toc_position": {},
   "toc_section_display": true,
   "toc_window_display": false
  }
 },
 "nbformat": 4,
 "nbformat_minor": 2
}
