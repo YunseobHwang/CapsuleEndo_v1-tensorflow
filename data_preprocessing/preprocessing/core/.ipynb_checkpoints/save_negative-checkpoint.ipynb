{
 "cells": [
  {
   "cell_type": "code",
   "execution_count": 1,
   "metadata": {},
   "outputs": [],
   "source": [
    "# GPU setting\n",
    "import os\n",
    "os.environ[\"CUDA_DEVICE_ORDER\"]=\"PCI_BUS_ID\"\n",
    "os.environ[\"CUDA_VISIBLE_DEVICES\"]=\"1\"\n",
    "\n",
    "# modules setting\n",
    "import os\n",
    "import numpy as np\n",
    "import glob\n",
    "import matplotlib.pyplot as plt\n",
    "import matplotlib.image as mpimg\n",
    "import cv2"
   ]
  },
  {
   "cell_type": "markdown",
   "metadata": {},
   "source": [
    "# Import _Entire Negative_"
   ]
  },
  {
   "cell_type": "code",
   "execution_count": 2,
   "metadata": {},
   "outputs": [
    {
     "name": "stdout",
     "output_type": "stream",
     "text": [
      "# Images = 2536\n"
     ]
    }
   ],
   "source": [
    "dir_default = '/mnt/disk1/project/public/SMhospital/ChoongChoong/dataset/pre_p2_3/negative/'\n",
    "lesion = 'negative'\n",
    "dir_data = dir_default + lesion + '/'\n",
    "data_file = os.listdir(dir_data)\n",
    "print('# Images = {}'.format(len(data_file)))\n",
    "\n",
    "data_x = []\n",
    "for i in data_file:\n",
    "    temp = cv2.imread(dir_data + i)\n",
    "    data_x.append([i, temp])"
   ]
  },
  {
   "cell_type": "markdown",
   "metadata": {},
   "source": [
    "# Generate Idx"
   ]
  },
  {
   "cell_type": "code",
   "execution_count": 4,
   "metadata": {},
   "outputs": [],
   "source": [
    "num_n = len(data_x)\n",
    "num_h = 490\n",
    "num_d = 1002\n",
    "\n",
    "nh_idx = set(np.random.choice(num_n, num_h, replace=False))\n",
    "remain = set(np.arange(num_n)) - nh_idx\n",
    "nd_idx = set(np.random.choice(list(remain), num_d, replace=False))"
   ]
  },
  {
   "cell_type": "code",
   "execution_count": 7,
   "metadata": {},
   "outputs": [],
   "source": [
    "nh_idx = list(nh_idx)\n",
    "nd_idx = list(nd_idx)"
   ]
  },
  {
   "cell_type": "code",
   "execution_count": 9,
   "metadata": {},
   "outputs": [
    {
     "name": "stdout",
     "output_type": "stream",
     "text": [
      "490\n",
      "1002\n"
     ]
    }
   ],
   "source": [
    "print(len(nh_idx))\n",
    "print(len(nd_idx))"
   ]
  },
  {
   "cell_type": "code",
   "execution_count": 10,
   "metadata": {},
   "outputs": [
    {
     "data": {
      "text/plain": [
       "set()"
      ]
     },
     "execution_count": 10,
     "metadata": {},
     "output_type": "execute_result"
    }
   ],
   "source": [
    "set(nh_idx).intersection(nd_idx)"
   ]
  },
  {
   "cell_type": "markdown",
   "metadata": {},
   "source": [
    "# Save _Negative in NH_"
   ]
  },
  {
   "cell_type": "code",
   "execution_count": 11,
   "metadata": {},
   "outputs": [],
   "source": [
    "dir_default_core = '/mnt/disk1/project/public/SMhospital/Database/1_ongoing/sm_core/nh/total/negative/'\n",
    "lesion = 'negative'\n",
    "dir_data_core = dir_default_core + lesion + '/'\n",
    "\n",
    "for i in nh_idx:\n",
    "    cv2.imwrite(dir_data_core + data_x[i][0], data_x[i][1])"
   ]
  },
  {
   "cell_type": "markdown",
   "metadata": {},
   "source": [
    "# Save _Negative in NH_"
   ]
  },
  {
   "cell_type": "code",
   "execution_count": 12,
   "metadata": {},
   "outputs": [],
   "source": [
    "dir_default_core = '/mnt/disk1/project/public/SMhospital/Database/1_ongoing/sm_core/nd/total/negative/'\n",
    "lesion = 'negative'\n",
    "dir_data_core = dir_default_core + lesion + '/'\n",
    "\n",
    "for i in nd_idx:\n",
    "    cv2.imwrite(dir_data_core + data_x[i][0], data_x[i][1])"
   ]
  }
 ],
 "metadata": {
  "kernelspec": {
   "display_name": "Python 3",
   "language": "python",
   "name": "python3"
  },
  "language_info": {
   "codemirror_mode": {
    "name": "ipython",
    "version": 3
   },
   "file_extension": ".py",
   "mimetype": "text/x-python",
   "name": "python",
   "nbconvert_exporter": "python",
   "pygments_lexer": "ipython3",
   "version": "3.6.3"
  }
 },
 "nbformat": 4,
 "nbformat_minor": 2
}
