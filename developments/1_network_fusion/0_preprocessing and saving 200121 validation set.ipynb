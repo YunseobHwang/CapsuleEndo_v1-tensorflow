{
 "cells": [
  {
   "cell_type": "code",
   "execution_count": 1,
   "metadata": {
    "ExecuteTime": {
     "end_time": "2020-01-23T03:06:14.597383Z",
     "start_time": "2020-01-23T03:06:14.010410Z"
    }
   },
   "outputs": [],
   "source": [
    "import numpy as np\n",
    "import matplotlib.pyplot as plt\n",
    "import sys\n",
    "import os\n",
    "import glob\n",
    "import cv2\n",
    "import pandas as pd\n",
    "from itertools import product"
   ]
  },
  {
   "cell_type": "code",
   "execution_count": 2,
   "metadata": {
    "ExecuteTime": {
     "end_time": "2020-01-23T03:06:15.033971Z",
     "start_time": "2020-01-23T03:06:15.020228Z"
    }
   },
   "outputs": [],
   "source": [
    "def load_filename(phase, cls, les = None, data = 'sm', data_dir = '/mnt/disk2/data/private_data/SMhospital/capsule/1 preprocessed'):\n",
    "    \"\"\"\n",
    "    phase = 'train', 'test'\n",
    "    cls: [les]  \n",
    "      'n': ['neg']\n",
    "      'h': ['redspot', 'angio', 'active'], \n",
    "      'd': ['ero', 'ulc', 'str'],\n",
    "      'p': ['amp', 'lym', 'tum']}\n",
    "    \"\"\"\n",
    "    lesions = dict(neg = 'negative', \n",
    "                   redspot = 'red_spot', angio = 'angioectasia', active = 'active_bleeding', \n",
    "                   ero = 'erosion', ulcer = 'ulcer', str = 'stricture', \n",
    "                   amp = 'ampulla_of_vater', lym = 'lymphoid_follicles', tum = 'small_bowel_tumor')\n",
    "    classes = dict(n = 'negative', h = 'hemorrhagic', d = 'depressed', p = 'protruded')\n",
    "\n",
    "    path = os.path.join(data_dir, data, phase, classes[cls], lesions[les])\n",
    "    pathlist = glob.glob(path + '/*.jpg')\n",
    "    name = []\n",
    "    for path in pathlist:\n",
    "        name.append(os.path.basename(path))\n",
    "    \n",
    "    return np.asarray(name)"
   ]
  },
  {
   "cell_type": "code",
   "execution_count": 25,
   "metadata": {
    "ExecuteTime": {
     "end_time": "2020-01-23T04:12:54.650638Z",
     "start_time": "2020-01-23T04:12:54.615283Z"
    }
   },
   "outputs": [
    {
     "name": "stdout",
     "output_type": "stream",
     "text": [
      "[2019.01~05]  서울성모 1. red spot\n",
      "[2019.01~05]  서울성모 10. phlebectasia\n",
      "[2019.01~05]  서울성모 11. lymphangiectasia\n",
      "[2019.01~05]  서울성모 2. angioectasia\n",
      "[2019.01~05]  서울성모 3. active bleeding\n",
      "[2019.01~05]  서울성모 4. erosion\n",
      "[2019.01~05]  서울성모 5. ulcer\n",
      "[2019.01~05]  서울성모 6. stricture\n",
      "[2019.01~05]  서울성모 7. ampulla of vater\n",
      "[2019.01~05]  서울성모 8. lymphoid follicles\n",
      "[2019.01~05]  서울성모 9. small bowel tumor\n",
      "[2019.01~05]  서울성모 96. Esophagus\n",
      "[2019.01~05]  서울성모 97. Stomach\n",
      "[2019.01~05]  서울성모 98. Colon\n",
      "[2019.01~05]  서울성모 99. Small bowel_정상사진\n",
      "[성빈센트] 사진분류_Pillcam 1. red spot\n",
      "[성빈센트] 사진분류_Pillcam 10. phlebectasia\n",
      "[성빈센트] 사진분류_Pillcam 11. lymphangiectasia\n",
      "[성빈센트] 사진분류_Pillcam 2. angioectasia\n",
      "[성빈센트] 사진분류_Pillcam 3. active bleeding\n",
      "[성빈센트] 사진분류_Pillcam 4. erosion\n",
      "[성빈센트] 사진분류_Pillcam 5. ulcer\n",
      "[성빈센트] 사진분류_Pillcam 6. stricture\n",
      "[성빈센트] 사진분류_Pillcam 7. ampulla of vater\n",
      "[성빈센트] 사진분류_Pillcam 8. lymphoid follicles\n",
      "[성빈센트] 사진분류_Pillcam 9. small bowel tumor\n",
      "[성빈센트] 사진분류_Pillcam 96. Esophagus\n",
      "[성빈센트] 사진분류_Pillcam 97. Stomach\n",
      "[성빈센트] 사진분류_Pillcam 98. Colon\n",
      "[성빈센트] 사진분류_Pillcam 99. Small bowel_정상사진\n",
      "[성빈센트] 사진분류_Pillcam ★ 20200121 확인완료_LHH (96-99는 제외)\n",
      "[여의도성모] 사진분류 1. red spot\n",
      "[여의도성모] 사진분류 10. phlebectasia\n",
      "[여의도성모] 사진분류 11. lymphangiectasia\n",
      "[여의도성모] 사진분류 2. angioectasia\n",
      "[여의도성모] 사진분류 3. active bleeding\n",
      "[여의도성모] 사진분류 4. erosion\n",
      "[여의도성모] 사진분류 5. ulcer\n",
      "[여의도성모] 사진분류 6. stricture\n",
      "[여의도성모] 사진분류 7. ampulla of vater\n",
      "[여의도성모] 사진분류 8. lymphoid follicles\n",
      "[여의도성모] 사진분류 9. small bowel tumor\n",
      "[여의도성모] 사진분류 96. Esophagus\n",
      "[여의도성모] 사진분류 97. Stomach\n",
      "[여의도성모] 사진분류 98. Colon\n",
      "[여의도성모] 사진분류 99. Small bowel_정상사진\n",
      "[여의도성모] 사진분류 ★ 20200120  검토완료_LHH (96-99는 제외)\n"
     ]
    }
   ],
   "source": [
    "root = '/mnt/disk2/data/private_data/SMhospital/capsule/0 data/labeled/200121 validation dataset'\n",
    "\n",
    "hospital_list = os.listdir(root)[1:]\n",
    "\n",
    "data_list = {}\n",
    "\n",
    "for hosp in hospital_list:\n",
    "    lesion_list = os.listdir(os.path.join(root, hosp))\n",
    "    data_list[hosp] = {}\n",
    "    for les in lesion_list:\n",
    "        print(hosp, les)\n",
    "        data_list[hosp][les] = os.listdir(os.path.join(root, hosp, les))"
   ]
  },
  {
   "cell_type": "markdown",
   "metadata": {},
   "source": [
    "### Preprocssing and Save"
   ]
  },
  {
   "cell_type": "code",
   "execution_count": 87,
   "metadata": {
    "ExecuteTime": {
     "end_time": "2020-01-23T05:16:21.741225Z",
     "start_time": "2020-01-23T05:16:21.718370Z"
    }
   },
   "outputs": [],
   "source": [
    "def printProgress(iteration, total, prefix = '', suffix = '', decimals = 1, barLength = 50):\n",
    "    formatStr = \"{0:.\" + str(decimals) + \"f}\"\n",
    "    percent = formatStr.format(100 * (iteration / float(total)))\n",
    "    filledLength = int(round(barLength * iteration / float(total)))\n",
    "    bar = '#' * filledLength + '-' * (barLength - filledLength)\n",
    "    sys.stdout.write('\\r{} |{} | {}{} {}'.format(prefix, bar, percent, '%', suffix)),\n",
    "    if iteration == total:\n",
    "        sys.stdout.write('\\n')\n",
    "    sys.stdout.flush()\n",
    "\n",
    "def target_preprocessings(phase_a_switch = [1, 1, 1], phase_b_switch = True, mode = 'load'):\n",
    "    \"\"\"\n",
    "    phase_a_switch = [1, 1, 1], [0, 0 ,1], [1, 1, 0].... \n",
    "    that means [flip, rotate, blur_sharp]\n",
    "    \"\"\"\n",
    "    phase0 = ['_c']\n",
    "    phase1 = {1: ['-', 'f'], 0: ['-']}\n",
    "    phase2 = {1: ['-', 'r1', 'r2', 'r3'], 0: ['-']}\n",
    "    phase3 = {1: ['-', 'ab', 'mb', 'eh'], 0: ['-']}\n",
    "    phase4 = ['s_-30_v_30', 's_-30_v_-30', 's_30_v_-30', 's_30_v_30']\n",
    "\n",
    "    if mode == 'load':\n",
    "        phase_a_items = [phase1[phase_a_switch[0]], phase2[phase_a_switch[1]], phase3[phase_a_switch[2]]]\n",
    "    elif mode == 'preprocessing':\n",
    "        phase_a_items = [phase0, phase1[phase_a_switch[0]], phase2[phase_a_switch[1]], phase3[phase_a_switch[2]]]\n",
    "\n",
    "    phase_a = []\n",
    "    for i in list(product(*phase_a_items)):\n",
    "        phase_a.append('_'.join(i))\n",
    "\n",
    "    if not phase_b_switch != True:\n",
    "        phase_b = []\n",
    "        for i in list(product(*[phase_a, phase4])):\n",
    "            phase_b.append('_'.join(i))\n",
    "        return list(np.hstack([phase_a, phase_b]))\n",
    "    else:\n",
    "        return phase_a "
   ]
  },
  {
   "cell_type": "code",
   "execution_count": 88,
   "metadata": {
    "ExecuteTime": {
     "end_time": "2020-01-23T05:16:22.307146Z",
     "start_time": "2020-01-23T05:16:22.250530Z"
    }
   },
   "outputs": [],
   "source": [
    "class ce_preprocessing:\n",
    "    def __init__(self, data_dir, save_dir):\n",
    "        self.data_dir = data_dir\n",
    "        self.save_dir = save_dir\n",
    "\n",
    "    def cropping(self, img):\n",
    "        img = np.array(img, dtype = 'f4')\n",
    "        img_pre = img[32:544, 32:544, :]\n",
    "        for i in range(100):\n",
    "            for j in range(100):\n",
    "                if i + j > 99:\n",
    "                    pass\n",
    "                else :\n",
    "                    img_pre[i, j, :] = 0\n",
    "                    img_pre[i, -j, :] = 0\n",
    "        return img_pre.astype('uint8')\n",
    "\n",
    "    def rotate(self, img, degree):\n",
    "        rows, cols = img.shape[:2]\n",
    "        M = cv2.getRotationMatrix2D(center = (cols/2, rows/2), angle = degree, scale = 1)\n",
    "        img_rotated = cv2.warpAffine(img, M, dsize = (rows, cols))\n",
    "        return img_rotated\n",
    "    \n",
    "    def blur_and_sharp(self, img):\n",
    "        img_avg_blur = cv2.blur(img, (5,5)).astype('uint8')\n",
    "        \n",
    "        kernel_size = 15\n",
    "        \n",
    "        kernel_motion_blur = np.zeros((kernel_size, kernel_size))\n",
    "        kernel_motion_blur[int((kernel_size-1)/2), :] = np.ones(kernel_size)\n",
    "        kernel_motion_blur = kernel_motion_blur / kernel_size\n",
    "        img_mb = cv2.filter2D(img, -1, kernel_motion_blur).astype('uint8')\n",
    "        \n",
    "        kernel_edge_enhancement = np.array([[-1,-1,-1,-1,-1],[-1,2,2,2,-1],[-1,2,8,2,-1],[-1,2,2,2,-1],[-1,-1,-1,-1,-1]])/8.0\n",
    "        img_eh = cv2.filter2D(img, -1, kernel_edge_enhancement).astype('uint8')    \n",
    "        return img_avg_blur, img_mb, img_eh\n",
    "    \n",
    "    def bgr2_h_s_v(self, img):\n",
    "        hsv = cv2.cvtColor(img, cv2.COLOR_BGR2HSV)\n",
    "        h, s, v = cv2.split(hsv)\n",
    "        return h, s, v\n",
    "\n",
    "    def hsv_control(self, ch_data, ctr_value, ch_name):\n",
    "        \"\"\"\n",
    "        ch_data: data of channel (h, s, or v) which you want to revise by ctr_value / shape: image.shape[0:2]\n",
    "        ctr_value: the value that will be added to corresponding channel.\n",
    "        ch_name: 'h', 's', or 'v'\n",
    "        \"\"\"\n",
    "        ch_data_rev = ch_data.copy()\n",
    "        if ctr_value > 0:\n",
    "            ch_data_rev[np.where(ch_data <= 255 - ctr_value)] += ctr_value\n",
    "        else:\n",
    "            ch_data_rev[np.where(ch_data + ctr_value >= 0)] -= abs(ctr_value)\n",
    "        return ch_data_rev\n",
    "    \n",
    "    def pre_aug(self, img, phase = 'x160'):  \n",
    "        \"\"\"\n",
    "        The image will be preprocessed and augmented at one go \n",
    "        by an entire process consisting of  the repetitive statement (for loop) per the processing phase \n",
    "        \"\"\"\n",
    "        preprocessed_imgs = []\n",
    "        preprocessed_nots = []\n",
    "        \n",
    "        crop = self.cropping(img)\n",
    "        if phase == 'crop':\n",
    "            return [crop], ['_c_-_-_-']\n",
    "        else:\n",
    "            sv_ctr_values = [-30, 30]\n",
    "            c_r1, c_r2, c_r3 = self.rotate(crop, 90), self.rotate(crop, 180), self.rotate(crop, 270)\n",
    "            for r, r_n in zip([crop, c_r1, c_r2, c_r3], ['-', 'r1', 'r2', 'r3']):\n",
    "                r_f = np.flipud(r)\n",
    "                for f,  f_n in zip([r, r_f], ['-', 'f']): \n",
    "                    f_ab, f_mb, f_edge = self.blur_and_sharp(f)\n",
    "                    for b, b_n in zip([f, f_ab, f_mb, f_edge], ['-', 'ab', 'mb', 'eh']):                    \n",
    "                        preprocessed_imgs.append(b)\n",
    "                        not_ = '_c_{}_{}_{}'.format(f_n, r_n, b_n)\n",
    "                        preprocessed_nots.append(not_)\n",
    "                        h, s, v = self.bgr2_h_s_v(b)\n",
    "                        for s_value in sv_ctr_values:\n",
    "                            s_rev = self.hsv_control(s, s_value, ch_name = 's')\n",
    "                            for v_value in sv_ctr_values:\n",
    "                                v_rev = self.hsv_control(v, v_value, ch_name = 'v')\n",
    "                                v_rev[np.where(v <= 7)] = 0\n",
    "                                b_sv = cv2.merge((h, s_rev, v_rev))\n",
    "                                b_sv = cv2.cvtColor(b_sv, cv2.COLOR_HSV2BGR)\n",
    "                                preprocessed_imgs.append(b_sv)\n",
    "                                not_ = '_c_{}_{}_{}_s_{}_v_{}'.format(f_n, r_n, b_n, s_value, v_value)\n",
    "                                preprocessed_nots.append(not_) \n",
    "                if not phase != 'before_rotation':\n",
    "                    break\n",
    "            return preprocessed_imgs, preprocessed_nots\n",
    "    \n",
    "    def avg_blur(self, img):\n",
    "        return cv2.blur(img, (5,5)).astype('uint8')\n",
    "    \n",
    "    def motion_blur(self, img):\n",
    "        kernel_size = 15\n",
    "        kernel_motion_blur = np.zeros((kernel_size, kernel_size))\n",
    "        kernel_motion_blur[int((kernel_size-1)/2), :] = np.ones(kernel_size)\n",
    "        kernel_motion_blur = kernel_motion_blur / kernel_size\n",
    "        return cv2.filter2D(img, -1, kernel_motion_blur).astype('uint8')\n",
    "    \n",
    "    def edge_enhancement(self, img):\n",
    "        kernel_edge = np.array([[-1,-1,-1,-1,-1],[-1,2,2,2,-1],[-1,2,8,2,-1],[-1,2,2,2,-1],[-1,-1,-1,-1,-1]])/8.0\n",
    "        return cv2.filter2D(img, -1, kernel_edge).astype('uint8') \n",
    "    \n",
    "    def s_rev(self, img, s_value):\n",
    "        h, s, v = self.bgr2_h_s_v(img)\n",
    "        s_rev = self.hsv_control(s, s_value, ch_name = 's')\n",
    "        \n",
    "        return [h, s_rev, v]\n",
    "    def v_rev_after_s_rev(self, s_rev_outputs, v_value):\n",
    "        h, s_rev, v = s_rev_outputs\n",
    "        v_rev = self.hsv_control(v, v_value, ch_name = 'v')\n",
    "        v_rev[np.where(v <= 7)] = 0\n",
    "        img_sv = cv2.merge((h, s_rev, v_rev))\n",
    "        return cv2.cvtColor(img_sv, cv2.COLOR_HSV2BGR)\n",
    "            \n",
    "    def pre_aug_target_phase(self, img, phase = 'c'): \n",
    "        \n",
    "        \"\"\"\n",
    "        phase, ex) 'c_f_-_mb_s_-30_v_30' -> 'c_f_-_mb_s-30_v30' -> ['c', 'f', '-', 's-30','v30']\n",
    "        It allows to preprocess the image in specific phase, but slower it is fit to check preprocessing with small data\n",
    "        \"\"\"\n",
    "        function = {'': (lambda x: x), '-': (lambda x: x),\n",
    "                    'c': (lambda x: self.cropping(x)),\n",
    "                    'f': (lambda x: np.flipud(x)), \n",
    "                    'r1': (lambda x: self.rotate(x, 90)), \n",
    "                    'r2': (lambda x: self.rotate(x, 180)), \n",
    "                    'r3': (lambda x: self.rotate(x, 270)),\n",
    "                    'ab': (lambda x: self.avg_blur(x)),\n",
    "                    'mb': (lambda x: self.motion_blur(x)),\n",
    "                    'eh': (lambda x: self.edge_enhancement(x)),\n",
    "                    's-30': (lambda x: self.s_rev(x, -30)),\n",
    "                    's30': (lambda x: self.s_rev(x, 30)),\n",
    "                    'v-30': (lambda x: self.v_rev_after_s_rev(x, -30)),\n",
    "                    'v30': (lambda x: self.v_rev_after_s_rev(x, 30))}\n",
    "        values = ['-30', '30']\n",
    "        for i in values:\n",
    "            if i in phase:\n",
    "                phase = phase.replace('_{}'.format(i), str(i))\n",
    "        phase_seg = phase.split('_')  \n",
    "        for i, p in zip(range(len(phase_seg)), phase_seg):\n",
    "            if i == 0:\n",
    "                p_img = function[p](img)\n",
    "            else:\n",
    "                p_img = function[p](p_img)\n",
    "        return p_img\n",
    "    \n",
    "    def pre_aug_and_save(self, data_list, preprocessing_phase = 'x160', pre_aug_type = 'for_loop',\n",
    "                         phase_a = [1, 1, 1], phase_b = True):\n",
    "        \n",
    "        \"\"\"\n",
    "        preprocessing_phase = 'x160', 'crop', 'before_rotation' for pre_aug\n",
    "        phase_a = [1, 1, 1], [1, 0, 1], [1, 1, 0] .... [flip, rotate, blur_sharp]\n",
    "        phase_b = True -> phase_a (max. x32) + phase_a * sv_control (max. x32x4) => max, 32 x 5\n",
    "        \"\"\"\n",
    "        lesion_type_dict = {'h': ['1. red spot', '2. angioectasia', '3. active bleeding'],\n",
    "                            'd': ['4. erosion', '5. ulcer', '6. stricture'],\n",
    "                            'p': ['7. ampulla of vater', '8. lymphoid follicles', '9. small bowel tumor']}\n",
    "\n",
    "        classes = dict(n = 'negative', h = 'hemorrhagic', d = 'depressed', p = 'protruded')\n",
    "\n",
    "        hospital_list = data_list.keys()\n",
    "        for hosp in hospital_list:\n",
    "            lesion_list = data_list[hosp]\n",
    "            for les in lesion_list:\n",
    "                for les_type, les_ in lesion_type_dict.items():\n",
    "                    if les in les_:\n",
    "                        save_path = os.path.join(self.save_dir, classes[les_type], '_'.join(les.split(' ')[1:]))\n",
    "                        break\n",
    "                    else:\n",
    "                        save_path = os.path.join(self.save_dir, 'etc', '_'.join(les.split(' ')[1:]))\n",
    "                if not(os.path.isdir(save_path)):\n",
    "                    os.makedirs(save_path)\n",
    "                filenames = data_list[hosp][les]\n",
    "                for i, filename in enumerate(filenames):\n",
    "                    import_path = os.path.join(self.data_dir, hosp, les, filename)\n",
    "                    if not(os.path.isdir(import_path)):\n",
    "                        img = cv2.imread(import_path)\n",
    "                        if pre_aug_type == 'for_loop':\n",
    "                            p_imgs, p_nots = self.pre_aug(img, phase = preprocessing_phase)  \n",
    "                            for img_, not_ in zip(p_imgs, p_nots):\n",
    "                                save_filename = os.path.join(save_path, '{}_{}{}'.format(filename[:-4], not_, filename[-4:]))\n",
    "                                if not(os.path.isfile(save_filename)):\n",
    "                                    cv2.imwrite(save_filename, img_)\n",
    "                        elif pre_aug_type == 'target_phase':\n",
    "                            for not_ in target_preprocessings(phase_a, phase_b, mode = 'preprocessing'):\n",
    "                                save_filename = os.path.join(save_path, '{}_{}{}'.format(filename[:-4], not_, filename[-4:]))\n",
    "                                if not(os.path.isfile(save_filename)):\n",
    "                                    p_img = self.pre_aug_target_phase(img, phase = not_)\n",
    "                                    cv2.imwrite(save_filename, p_img)\n",
    "#                     print(len(filenames), hosp, les)\n",
    "                    printProgress(i, len(filenames), prefix = '{}/{}'.format(hosp, les))"
   ]
  },
  {
   "cell_type": "code",
   "execution_count": 89,
   "metadata": {
    "ExecuteTime": {
     "end_time": "2020-01-23T05:16:23.912727Z",
     "start_time": "2020-01-23T05:16:23.907696Z"
    }
   },
   "outputs": [],
   "source": [
    "data_dir = '/mnt/disk2/data/private_data/SMhospital/capsule/0 data/labeled/200121 validation dataset'\n",
    "save_dir = '/mnt/disk2/data/private_data/SMhospital/capsule/0 data/labeled/200121 validation dataset/preprocessing'\n",
    "\n",
    "ce = ce_preprocessing(data_dir, save_dir)"
   ]
  },
  {
   "cell_type": "code",
   "execution_count": 90,
   "metadata": {
    "ExecuteTime": {
     "end_time": "2020-01-23T05:16:35.320220Z",
     "start_time": "2020-01-23T05:16:24.290593Z"
    }
   },
   "outputs": [
    {
     "name": "stdout",
     "output_type": "stream",
     "text": [
      "[여의도성모] 사진분류/97. Stomach |################################################## | 99.2%  | 99.8%  0.0%   - | 0.0% "
     ]
    }
   ],
   "source": [
    "ce.pre_aug_and_save(data_list, pre_aug_type = 'target_phase', phase_a = [0, 0, 0], phase_b = False)"
   ]
  },
  {
   "cell_type": "code",
   "execution_count": 91,
   "metadata": {
    "ExecuteTime": {
     "end_time": "2020-01-23T05:17:29.951393Z",
     "start_time": "2020-01-23T05:17:29.946223Z"
    }
   },
   "outputs": [],
   "source": [
    "def num_of_jpg_file(dir_):\n",
    "    print(len(glob.glob(dir_ + '/*.jpg')))"
   ]
  },
  {
   "cell_type": "code",
   "execution_count": 93,
   "metadata": {
    "ExecuteTime": {
     "end_time": "2020-01-23T05:18:00.163636Z",
     "start_time": "2020-01-23T05:18:00.145745Z"
    }
   },
   "outputs": [
    {
     "name": "stdout",
     "output_type": "stream",
     "text": [
      "370\n",
      "2\n",
      "293\n",
      "297\n",
      "410\n",
      "48\n"
     ]
    }
   ],
   "source": [
    "num_of_jpg_file(save_dir + '/hemorrhagic/red_spot' )\n",
    "num_of_jpg_file(save_dir + '/hemorrhagic/angioectasia' )\n",
    "num_of_jpg_file(save_dir + '/hemorrhagic/active_bleeding' )\n",
    "num_of_jpg_file(save_dir + '/depressed/erosion' )\n",
    "num_of_jpg_file(save_dir + '/depressed/ulcer' )\n",
    "num_of_jpg_file(save_dir + '/depressed/stricture' )"
   ]
  }
 ],
 "metadata": {
  "hide_input": false,
  "kernelspec": {
   "display_name": "Python 3",
   "language": "python",
   "name": "python3"
  },
  "language_info": {
   "codemirror_mode": {
    "name": "ipython",
    "version": 3
   },
   "file_extension": ".py",
   "mimetype": "text/x-python",
   "name": "python",
   "nbconvert_exporter": "python",
   "pygments_lexer": "ipython3",
   "version": "3.5.2"
  },
  "toc": {
   "base_numbering": 1,
   "nav_menu": {},
   "number_sections": true,
   "sideBar": true,
   "skip_h1_title": false,
   "title_cell": "Table of Contents",
   "title_sidebar": "Contents",
   "toc_cell": false,
   "toc_position": {},
   "toc_section_display": true,
   "toc_window_display": false
  }
 },
 "nbformat": 4,
 "nbformat_minor": 2
}
