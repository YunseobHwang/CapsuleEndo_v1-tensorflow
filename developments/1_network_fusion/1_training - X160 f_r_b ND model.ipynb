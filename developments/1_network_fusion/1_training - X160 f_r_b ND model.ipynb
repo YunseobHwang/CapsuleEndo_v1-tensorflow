{
 "cells": [
  {
   "cell_type": "code",
   "execution_count": 2,
   "metadata": {
    "ExecuteTime": {
     "end_time": "2020-01-20T05:30:27.393132Z",
     "start_time": "2020-01-20T05:30:27.116978Z"
    }
   },
   "outputs": [
    {
     "name": "stdout",
     "output_type": "stream",
     "text": [
      "Mon Jan 20 14:30:27 2020       \n",
      "+-----------------------------------------------------------------------------+\n",
      "| NVIDIA-SMI 430.26       Driver Version: 430.26       CUDA Version: 10.2     |\n",
      "|-------------------------------+----------------------+----------------------+\n",
      "| GPU  Name        Persistence-M| Bus-Id        Disp.A | Volatile Uncorr. ECC |\n",
      "| Fan  Temp  Perf  Pwr:Usage/Cap|         Memory-Usage | GPU-Util  Compute M. |\n",
      "|===============================+======================+======================|\n",
      "|   0  GeForce RTX 208...  Off  | 00000000:1D:00.0 Off |                  N/A |\n",
      "| 30%   42C    P2    55W / 250W |    869MiB / 11019MiB |     11%      Default |\n",
      "+-------------------------------+----------------------+----------------------+\n",
      "|   1  GeForce RTX 208...  Off  | 00000000:1E:00.0 Off |                  N/A |\n",
      "| 27%   29C    P8     7W / 250W |  10927MiB / 11019MiB |      0%      Default |\n",
      "+-------------------------------+----------------------+----------------------+\n",
      "|   2  GeForce RTX 208...  Off  | 00000000:1F:00.0 Off |                  N/A |\n",
      "| 36%   59C    P2   130W / 250W |   4333MiB / 11019MiB |    100%      Default |\n",
      "+-------------------------------+----------------------+----------------------+\n",
      "|   3  GeForce RTX 208...  Off  | 00000000:20:00.0 Off |                  N/A |\n",
      "| 34%   54C    P2   118W / 250W |   2591MiB / 11019MiB |     99%      Default |\n",
      "+-------------------------------+----------------------+----------------------+\n",
      "|   4  GeForce RTX 208...  Off  | 00000000:21:00.0 Off |                  N/A |\n",
      "| 27%   29C    P8    25W / 250W |  11014MiB / 11019MiB |      0%      Default |\n",
      "+-------------------------------+----------------------+----------------------+\n",
      "|   5  GeForce RTX 208...  Off  | 00000000:22:00.0 Off |                  N/A |\n",
      "| 36%   62C    P2   245W / 250W |  10925MiB / 11019MiB |     31%      Default |\n",
      "+-------------------------------+----------------------+----------------------+\n",
      "|   6  GeForce RTX 208...  Off  | 00000000:23:00.0 Off |                  N/A |\n",
      "| 27%   28C    P8    17W / 250W |    869MiB / 11019MiB |      0%      Default |\n",
      "+-------------------------------+----------------------+----------------------+\n",
      "|   7  GeForce RTX 208...  Off  | 00000000:24:00.0 Off |                  N/A |\n",
      "| 27%   29C    P8     1W / 250W |     10MiB / 11019MiB |      0%      Default |\n",
      "+-------------------------------+----------------------+----------------------+\n",
      "                                                                               \n",
      "+-----------------------------------------------------------------------------+\n",
      "| Processes:                                                       GPU Memory |\n",
      "|  GPU       PID   Type   Process name                             Usage      |\n",
      "|=============================================================================|\n",
      "|    0     15061      C   /usr/bin/python3                             859MiB |\n",
      "|    1      2716      C   /usr/bin/python3                           10917MiB |\n",
      "|    2     13246      C   /usr/bin/python3                             867MiB |\n",
      "|    2     13261      C   /usr/bin/python3                             863MiB |\n",
      "|    2     13276      C   /usr/bin/python3                             867MiB |\n",
      "|    2     13555      C   /usr/bin/python3                             865MiB |\n",
      "|    2     15177      C   /usr/bin/python3                             861MiB |\n",
      "|    3     15061      C   /usr/bin/python3                             863MiB |\n",
      "|    3     15486      C   /usr/bin/python3                             859MiB |\n",
      "|    3     15613      C   /usr/bin/python3                             859MiB |\n",
      "|    4      9736      C   /usr/bin/python3                           10655MiB |\n",
      "|    4     15885      C   /usr/bin/python3                             349MiB |\n",
      "|    5     16153      C   /usr/bin/python3                           10915MiB |\n",
      "|    6     15885      C   /usr/bin/python3                             859MiB |\n",
      "+-----------------------------------------------------------------------------+\n"
     ]
    }
   ],
   "source": [
    "!nvidia-smi"
   ]
  },
  {
   "cell_type": "code",
   "execution_count": 3,
   "metadata": {
    "ExecuteTime": {
     "end_time": "2020-01-20T05:30:33.378687Z",
     "start_time": "2020-01-20T05:30:31.224217Z"
    },
    "scrolled": true
   },
   "outputs": [
    {
     "name": "stderr",
     "output_type": "stream",
     "text": [
      "/usr/local/lib/python3.5/dist-packages/tensorflow/python/framework/dtypes.py:516: FutureWarning: Passing (type, 1) or '1type' as a synonym of type is deprecated; in a future version of numpy, it will be understood as (type, (1,)) / '(1,)type'.\n",
      "  _np_qint8 = np.dtype([(\"qint8\", np.int8, 1)])\n",
      "/usr/local/lib/python3.5/dist-packages/tensorflow/python/framework/dtypes.py:517: FutureWarning: Passing (type, 1) or '1type' as a synonym of type is deprecated; in a future version of numpy, it will be understood as (type, (1,)) / '(1,)type'.\n",
      "  _np_quint8 = np.dtype([(\"quint8\", np.uint8, 1)])\n",
      "/usr/local/lib/python3.5/dist-packages/tensorflow/python/framework/dtypes.py:518: FutureWarning: Passing (type, 1) or '1type' as a synonym of type is deprecated; in a future version of numpy, it will be understood as (type, (1,)) / '(1,)type'.\n",
      "  _np_qint16 = np.dtype([(\"qint16\", np.int16, 1)])\n",
      "/usr/local/lib/python3.5/dist-packages/tensorflow/python/framework/dtypes.py:519: FutureWarning: Passing (type, 1) or '1type' as a synonym of type is deprecated; in a future version of numpy, it will be understood as (type, (1,)) / '(1,)type'.\n",
      "  _np_quint16 = np.dtype([(\"quint16\", np.uint16, 1)])\n",
      "/usr/local/lib/python3.5/dist-packages/tensorflow/python/framework/dtypes.py:520: FutureWarning: Passing (type, 1) or '1type' as a synonym of type is deprecated; in a future version of numpy, it will be understood as (type, (1,)) / '(1,)type'.\n",
      "  _np_qint32 = np.dtype([(\"qint32\", np.int32, 1)])\n",
      "/usr/local/lib/python3.5/dist-packages/tensorflow/python/framework/dtypes.py:525: FutureWarning: Passing (type, 1) or '1type' as a synonym of type is deprecated; in a future version of numpy, it will be understood as (type, (1,)) / '(1,)type'.\n",
      "  np_resource = np.dtype([(\"resource\", np.ubyte, 1)])\n",
      "/usr/local/lib/python3.5/dist-packages/tensorboard/compat/tensorflow_stub/dtypes.py:541: FutureWarning: Passing (type, 1) or '1type' as a synonym of type is deprecated; in a future version of numpy, it will be understood as (type, (1,)) / '(1,)type'.\n",
      "  _np_qint8 = np.dtype([(\"qint8\", np.int8, 1)])\n",
      "/usr/local/lib/python3.5/dist-packages/tensorboard/compat/tensorflow_stub/dtypes.py:542: FutureWarning: Passing (type, 1) or '1type' as a synonym of type is deprecated; in a future version of numpy, it will be understood as (type, (1,)) / '(1,)type'.\n",
      "  _np_quint8 = np.dtype([(\"quint8\", np.uint8, 1)])\n",
      "/usr/local/lib/python3.5/dist-packages/tensorboard/compat/tensorflow_stub/dtypes.py:543: FutureWarning: Passing (type, 1) or '1type' as a synonym of type is deprecated; in a future version of numpy, it will be understood as (type, (1,)) / '(1,)type'.\n",
      "  _np_qint16 = np.dtype([(\"qint16\", np.int16, 1)])\n",
      "/usr/local/lib/python3.5/dist-packages/tensorboard/compat/tensorflow_stub/dtypes.py:544: FutureWarning: Passing (type, 1) or '1type' as a synonym of type is deprecated; in a future version of numpy, it will be understood as (type, (1,)) / '(1,)type'.\n",
      "  _np_quint16 = np.dtype([(\"quint16\", np.uint16, 1)])\n",
      "/usr/local/lib/python3.5/dist-packages/tensorboard/compat/tensorflow_stub/dtypes.py:545: FutureWarning: Passing (type, 1) or '1type' as a synonym of type is deprecated; in a future version of numpy, it will be understood as (type, (1,)) / '(1,)type'.\n",
      "  _np_qint32 = np.dtype([(\"qint32\", np.int32, 1)])\n",
      "/usr/local/lib/python3.5/dist-packages/tensorboard/compat/tensorflow_stub/dtypes.py:550: FutureWarning: Passing (type, 1) or '1type' as a synonym of type is deprecated; in a future version of numpy, it will be understood as (type, (1,)) / '(1,)type'.\n",
      "  np_resource = np.dtype([(\"resource\", np.ubyte, 1)])\n"
     ]
    }
   ],
   "source": [
    "import os\n",
    "os.environ[\"CUDA_DEVICE_ORDER\"]=\"PCI_BUS_ID\"\n",
    "os.environ[\"CUDA_VISIBLE_DEVICES\"]=\"7\"\n",
    "\n",
    "import numpy as np\n",
    "import matplotlib.pyplot as plt\n",
    "import tensorflow as tf\n",
    "import time, datetime\n",
    "\n",
    "import sys\n",
    "sys.path.append('/mnt/disk1/project/SMhospital/capsule/ce_packages')\n",
    "from ce_utils import load_path, train_valid_split, damped_exp_LR, load_random_minibatch, shuffle\n",
    "from ce_utils import training_history"
   ]
  },
  {
   "cell_type": "markdown",
   "metadata": {},
   "source": [
    "# Load Data"
   ]
  },
  {
   "cell_type": "code",
   "execution_count": 4,
   "metadata": {
    "ExecuteTime": {
     "end_time": "2020-01-20T05:30:41.103459Z",
     "start_time": "2020-01-20T05:30:41.065562Z"
    }
   },
   "outputs": [],
   "source": [
    "from itertools import product\n",
    "import glob\n",
    "\n",
    "def target_preprocessings(phase_a_switch = [1, 1, 1], phase_b_switch = True, mode = 'load'):\n",
    "    \"\"\"\n",
    "    phase_a_switch = [1, 1, 1], [0, 0 ,1], [1, 1, 0].... \n",
    "    that means [flip, rotate, blur_sharp]\n",
    "    \"\"\"\n",
    "    phase0 = ['_c']\n",
    "    phase1 = {1: ['-', 'f'], 0: ['-']}\n",
    "    phase2 = {1: ['-', 'r1', 'r2', 'r3'], 0: ['-']}\n",
    "    phase3 = {1: ['-', 'ab', 'mb', 'eh'], 0: ['-']}\n",
    "    phase4 = ['s_-30_v_30', 's_-30_v_-30', 's_30_v_-30', 's_30_v_30']\n",
    "    \n",
    "    if mode == 'load':\n",
    "        phase_a_items = [phase1[phase_a_switch[0]], phase2[phase_a_switch[1]], phase3[phase_a_switch[2]]]\n",
    "    elif mode == 'preprocessing':\n",
    "        phase_a_items = [phase0, phase1[phase_a_switch[0]], phase2[phase_a_switch[1]], phase3[phase_a_switch[2]]]\n",
    "    \n",
    "    phase_a = []\n",
    "    for i in list(product(*phase_a_items)):\n",
    "        phase_a.append('_'.join(i))\n",
    "\n",
    "    if not phase_b_switch != True:\n",
    "        phase_b = []\n",
    "        for i in list(product(*[phase_a, phase4])):\n",
    "            phase_b.append('_'.join(i))\n",
    "        return list(np.hstack([phase_a, phase_b]))\n",
    "    else:\n",
    "        return phase_a \n",
    "\n",
    "class ce_load_dataset:\n",
    "    def __init__(self, phase, data, pre_a, pre_b, img_ch = 'bgr', ext_name = True):\n",
    "        self.phase = phase        # 'train' or 'test'\n",
    "        self.data = data          # 'sm', 'sm_core', 'sm_v2', 'sm_x160', ...\n",
    "        self.pre_a = pre_a        # [1, 1, 1], [0, 0 ,1], [1, 1, 0].... \n",
    "        self.pre_b = pre_b        # True or False\n",
    "        self.img_ch = img_ch      # 'bgr', 'rgb', and 'hsv'\n",
    "        self.ext_name = ext_name  # True or False\n",
    "\n",
    "    def load_path(self, cls, les, data_dir = '/mnt/disk2/data/private_data/SMhospital/capsule/1 preprocessed'):\n",
    "        \"\"\"\n",
    "        phase = 'train', 'test'\n",
    "        cls: [les]  \n",
    "          'n': ['neg']\n",
    "          'h': ['redspot', 'angio', 'active'], \n",
    "          'd': ['ero', 'ulc', 'str'],\n",
    "          'p': ['amp', 'lym', 'tum']}\n",
    "        pre_a[0] must be 0\n",
    "        \"\"\"\n",
    "        lesions = dict(neg = 'negative', \n",
    "                       redspot = 'red_spot', angio = 'angioectasia', active = 'active_bleeding', \n",
    "                       ero = 'erosion', ulcer = 'ulcer', str = 'stricture', \n",
    "                       amp = 'ampulla_of_vater', lym = 'lymphoid_follicles', tum = 'small_bowel_tumor')\n",
    "        classes = dict(n = 'negative', h = 'hemorrhagic', d = 'depressed', p = 'protruded')\n",
    "\n",
    "        path = os.path.join(data_dir, self.data, self.phase, classes[cls], lesions[les])\n",
    "        pathlist = glob.glob(path + '/*.jpg')\n",
    "        if self.pre_b != True:\n",
    "            path_in_phase = []\n",
    "            for p in pathlist:\n",
    "                name = os.path.basename(p)\n",
    "                if (name.split('c_')[-1])[:-4] in target_preprocessings(self.pre_a, self.pre_b):\n",
    "                    path_in_phase.append(p)   \n",
    "            return np.asarray(path_in_phase)\n",
    "        else:\n",
    "            return np.asarray(pathlist)\n",
    "\n",
    "    def load_image_from_path(self, pathlist,image_ch = 'bgr', extract_name = False):\n",
    "        data = []\n",
    "        for i in pathlist:\n",
    "            temp = cv2.imread(i)\n",
    "            if image_ch == 'bgr':\n",
    "                pass\n",
    "            elif image_ch == 'rgb':\n",
    "                temp = cv2.cvtColor(temp, cv2.COLOR_BGR2RGB)\n",
    "            elif image_ch == 'hsv':\n",
    "                temp = cv2.cvtColor(temp, cv2.COLOR_BGR2HSV)\n",
    "            data.append(temp)\n",
    "        if extract_name != False:\n",
    "            name = []\n",
    "            for i in pathlist:\n",
    "                name.append(os.path.basename(i))\n",
    "            return np.asarray(data), np.asarray(name)\n",
    "        else:\n",
    "            return np.asarray(data) \n",
    "\n",
    "    def load_data(self, cls, les):\n",
    "        pathlist = self.load_path(cls, les)\n",
    "        return  self.load_image_from_path(pathlist, image_ch = self.img_ch, extract_name = self.ext_name)"
   ]
  },
  {
   "cell_type": "code",
   "execution_count": 5,
   "metadata": {
    "ExecuteTime": {
     "end_time": "2020-01-20T05:30:46.532528Z",
     "start_time": "2020-01-20T05:30:46.526862Z"
    }
   },
   "outputs": [],
   "source": [
    "ce = ce_load_dataset(phase = 'train', data = 'sm_x160', pre_a = [1, 1, 1], pre_b = False)"
   ]
  },
  {
   "cell_type": "code",
   "execution_count": 6,
   "metadata": {
    "ExecuteTime": {
     "end_time": "2020-01-20T05:31:04.745243Z",
     "start_time": "2020-01-20T05:30:47.254725Z"
    }
   },
   "outputs": [
    {
     "name": "stdout",
     "output_type": "stream",
     "text": [
      "negative: (203424,)\n",
      "erosion: (25632,)\n",
      "ulcer: (24768,)\n",
      "stricture: (3136,)\n"
     ]
    }
   ],
   "source": [
    "neg_path = ce.load_path('n', 'neg')\n",
    "# redspot_path = ce.load_path('h', 'redspot')\n",
    "# angio_path = ce.load_path('h', 'angio')\n",
    "# active_path = ce.load_path('h', 'active')\n",
    "ero_path = ce.load_path('d', 'ero')\n",
    "ulcer_path = ce.load_path('d', 'ulcer')\n",
    "str_path = ce.load_path('d', 'str')\n",
    "\n",
    "print(\"negative:\",neg_path.shape)\n",
    "# print(\"red spot:\",redspot_path.shape)\n",
    "# print(\"angioectasia:\",angio_path.shape)\n",
    "# print(\"active_bleeding:\",active_path.shape)\n",
    "print(\"erosion:\",ero_path.shape)\n",
    "print(\"ulcer:\",ulcer_path.shape)\n",
    "print(\"stricture:\",str_path.shape)"
   ]
  },
  {
   "cell_type": "code",
   "execution_count": 7,
   "metadata": {
    "ExecuteTime": {
     "end_time": "2020-01-20T05:31:07.020028Z",
     "start_time": "2020-01-20T05:31:07.008709Z"
    }
   },
   "outputs": [
    {
     "data": {
      "text/plain": [
       "array(['/mnt/disk2/data/private_data/SMhospital/capsule/1 preprocessed/sm_x160/train/negative/negative/DJ___01-58-07___1014178__c_-_-_-.jpg',\n",
       "       '/mnt/disk2/data/private_data/SMhospital/capsule/1 preprocessed/sm_x160/train/negative/negative/DJ___01-58-07___1014178__c_-_-_ab.jpg',\n",
       "       '/mnt/disk2/data/private_data/SMhospital/capsule/1 preprocessed/sm_x160/train/negative/negative/DJ___01-58-07___1014178__c_-_-_mb.jpg',\n",
       "       ...,\n",
       "       '/mnt/disk2/data/private_data/SMhospital/capsule/1 preprocessed/sm_x160/train/negative/negative/희신___02-23-34___2029109__c_f_r3_ab.jpg',\n",
       "       '/mnt/disk2/data/private_data/SMhospital/capsule/1 preprocessed/sm_x160/train/negative/negative/희신___02-23-34___2029109__c_f_r3_mb.jpg',\n",
       "       '/mnt/disk2/data/private_data/SMhospital/capsule/1 preprocessed/sm_x160/train/negative/negative/희신___02-23-34___2029109__c_f_r3_eh.jpg'],\n",
       "      dtype='<U179')"
      ]
     },
     "execution_count": 7,
     "metadata": {},
     "output_type": "execute_result"
    }
   ],
   "source": [
    "neg_path"
   ]
  },
  {
   "cell_type": "code",
   "execution_count": 8,
   "metadata": {
    "ExecuteTime": {
     "end_time": "2020-01-20T05:31:12.180629Z",
     "start_time": "2020-01-20T05:31:11.994659Z"
    }
   },
   "outputs": [
    {
     "name": "stdout",
     "output_type": "stream",
     "text": [
      "negative: (172910,) (25898,)\n",
      "erosion: (21787,) (3235,)\n",
      "ulcer: (21052,) (3181,)\n",
      "stricture: (2665,) (390,)\n"
     ]
    }
   ],
   "source": [
    "neg_train_path, neg_valid_path = train_valid_split(neg_path)\n",
    "# redspot_train_path, redspot_valid_path = train_valid_split(redspot_path)\n",
    "# angio_train_path, angio_valid_path = train_valid_split(angio_path)\n",
    "# active_train_path, active_valid_path = train_valid_split(active_path)\n",
    "ero_train_path, ero_valid_path = train_valid_split(ero_path)\n",
    "ulcer_train_path, ulcer_valid_path = train_valid_split(ulcer_path)\n",
    "str_train_path, str_valid_path = train_valid_split(str_path)\n",
    "\n",
    "print(\"negative:\", neg_train_path.shape, neg_valid_path.shape)\n",
    "# print(\"red spot:\", redspot_train_path.shape, redspot_valid_path.shape)\n",
    "# print(\"angioectasia:\", angio_train_path.shape, angio_valid_path.shape)\n",
    "# print(\"active bleeding:\", active_train_path.shape, active_valid_path.shape)\n",
    "print(\"erosion:\", ero_train_path.shape, ero_valid_path.shape)\n",
    "print(\"ulcer:\", ulcer_train_path.shape, ulcer_valid_path.shape)\n",
    "print(\"stricture:\", str_train_path.shape, str_valid_path.shape)"
   ]
  },
  {
   "cell_type": "markdown",
   "metadata": {},
   "source": [
    "# Model"
   ]
  },
  {
   "cell_type": "code",
   "execution_count": 9,
   "metadata": {
    "ExecuteTime": {
     "end_time": "2020-01-20T05:31:14.921773Z",
     "start_time": "2020-01-20T05:31:14.916225Z"
    }
   },
   "outputs": [],
   "source": [
    "input_h = 512\n",
    "input_w = 512\n",
    "input_ch = 3\n",
    "\n",
    "k_chs = [16, 16, 16, 32, 32, 32, 64]\n",
    "n_conv_block = len(k_chs)\n",
    "n_hid_node = [100, 50]\n",
    "n_hid_layer = len(n_hid_node)\n",
    "n_output = 2"
   ]
  },
  {
   "cell_type": "code",
   "execution_count": 10,
   "metadata": {
    "ExecuteTime": {
     "end_time": "2020-01-20T05:31:15.119451Z",
     "start_time": "2020-01-20T05:31:15.093537Z"
    }
   },
   "outputs": [],
   "source": [
    "class CE_cnn:\n",
    "    def __init__(self, k_chs, n_conv_block, n_hid_node, n_hid_layer, n_output):\n",
    "        self.k_chs = k_chs\n",
    "        self.n_conv_block = n_conv_block\n",
    "        self.n_hid_node = n_hid_node\n",
    "        self.n_hid_layer = n_hid_layer\n",
    "        self.n_output = n_output\n",
    "    def conv_block(self, x, k_chs, n_conv_block):\n",
    "        for i in range(1, n_conv_block + 1):\n",
    "            if i == 1:\n",
    "                conv = tf.layers.conv2d(inputs = x, filters = k_chs[i-1], kernel_size = [3, 3], padding = \"SAME\", \n",
    "                                        activation= tf.nn.relu, name = 'block_{}_conv_1'.format(i))\n",
    "            else:\n",
    "                conv = tf.layers.conv2d(inputs = conv, filters = k_chs[i-1], kernel_size = [3, 3], padding = \"SAME\", \n",
    "                                        activation= tf.nn.relu, name = 'block_{}_conv_1'.format(i))\n",
    "            conv = tf.layers.conv2d(inputs = conv, filters = k_chs[i-1], kernel_size = [3, 3], padding = \"SAME\", \n",
    "                                    activation= tf.nn.relu, name = 'block_{}_conv_2'.format(i))\n",
    "            conv = tf.layers.max_pooling2d(inputs = conv, pool_size = [2, 2], strides = 2, name = 'block_{}_maxp'.format(i))\n",
    "        return conv\n",
    "    def fc_layers(self, x, n_hid_node, n_hid_layer, n_output):\n",
    "        hidden = tf.layers.flatten(x)\n",
    "        for i in range(1, n_hid_layer + 1):\n",
    "            hidden = tf.layers.dense(inputs = hidden, units = n_hid_node[i-1],activation = tf.nn.relu, name = 'fc_{}'.format(i))\n",
    "            hidden = tf.layers.dropout(hidden, rate = 0.3, training = is_training)\n",
    "        score = tf.layers.dense(inputs = hidden, units = n_output, name = 'score')\n",
    "        return score\n",
    "    \n",
    "    def inf(self, x):\n",
    "        conv = self.conv_block(x, self.k_chs, self.n_conv_block)\n",
    "        score = self.fc_layers(conv, self.n_hid_node, self.n_hid_layer, self.n_output)\n",
    "        return score"
   ]
  },
  {
   "cell_type": "code",
   "execution_count": 11,
   "metadata": {
    "ExecuteTime": {
     "end_time": "2020-01-20T05:31:18.383012Z",
     "start_time": "2020-01-20T05:31:15.192118Z"
    }
   },
   "outputs": [
    {
     "name": "stderr",
     "output_type": "stream",
     "text": [
      "WARNING: Logging before flag parsing goes to stderr.\n",
      "W0120 14:31:15.240573 139912799573760 deprecation.py:323] From <ipython-input-10-147423120551>:12: conv2d (from tensorflow.python.layers.convolutional) is deprecated and will be removed in a future version.\n",
      "Instructions for updating:\n",
      "Use `tf.keras.layers.Conv2D` instead.\n",
      "W0120 14:31:15.246929 139912799573760 deprecation.py:506] From /usr/local/lib/python3.5/dist-packages/tensorflow/python/ops/init_ops.py:1251: calling VarianceScaling.__init__ (from tensorflow.python.ops.init_ops) with dtype is deprecated and will be removed in a future version.\n",
      "Instructions for updating:\n",
      "Call initializer instance with the dtype argument instead of passing it to the constructor\n",
      "W0120 14:31:15.466123 139912799573760 deprecation.py:323] From <ipython-input-10-147423120551>:18: max_pooling2d (from tensorflow.python.layers.pooling) is deprecated and will be removed in a future version.\n",
      "Instructions for updating:\n",
      "Use keras.layers.MaxPooling2D instead.\n",
      "W0120 14:31:15.779227 139912799573760 deprecation.py:323] From <ipython-input-10-147423120551>:21: flatten (from tensorflow.python.layers.core) is deprecated and will be removed in a future version.\n",
      "Instructions for updating:\n",
      "Use keras.layers.flatten instead.\n",
      "W0120 14:31:15.980616 139912799573760 deprecation.py:323] From <ipython-input-10-147423120551>:23: dense (from tensorflow.python.layers.core) is deprecated and will be removed in a future version.\n",
      "Instructions for updating:\n",
      "Use keras.layers.dense instead.\n",
      "W0120 14:31:16.357964 139912799573760 deprecation.py:323] From <ipython-input-10-147423120551>:24: dropout (from tensorflow.python.layers.core) is deprecated and will be removed in a future version.\n",
      "Instructions for updating:\n",
      "Use keras.layers.dropout instead.\n",
      "W0120 14:31:16.492801 139912799573760 deprecation.py:323] From /usr/local/lib/python3.5/dist-packages/tensorflow/python/ops/losses/losses_impl.py:121: add_dispatch_support.<locals>.wrapper (from tensorflow.python.ops.array_ops) is deprecated and will be removed in a future version.\n",
      "Instructions for updating:\n",
      "Use tf.where in 2.0, which has the same broadcast rule as np.where\n"
     ]
    }
   ],
   "source": [
    "tf.reset_default_graph()\n",
    "\n",
    "x = tf.placeholder(tf.float32, [None, input_h, input_w, input_ch], name = 'img')\n",
    "y = tf.placeholder(tf.float32, [None, n_output], name = 'label')\n",
    "#rate = tf.placeholder(tf.float32, name = 'rate') # tf.layers.dropout용 얼만큼 드랍아웃할건지\n",
    "is_training = tf.placeholder(tf.bool, name = 'is_training')\n",
    "LR = tf.placeholder(tf.float32)\n",
    "\n",
    "model = CE_cnn(k_chs, n_conv_block, n_hid_node, n_hid_layer, n_output)\n",
    "score = model.inf(x)\n",
    "loss = tf.losses.softmax_cross_entropy(onehot_labels=y, logits=score)\n",
    "loss = tf.reduce_mean(loss)\n",
    "\n",
    "# update_ops = tf.get_collection(tf.GraphKeys.UPDATE_OPS)\n",
    "# with tf.control_dependencies(update_ops):\n",
    "#     optm = tf.train.AdamOptimizer(learning_rate=lr).minimize(loss)\n",
    "optm = tf.train.AdamOptimizer(LR).minimize(loss)\n",
    "\n",
    "saver = tf.train.Saver()\n",
    "sess = tf.Session()\n",
    "\n",
    "init = tf.global_variables_initializer()\n",
    "sess.run(init)"
   ]
  },
  {
   "cell_type": "markdown",
   "metadata": {},
   "source": [
    "# Training"
   ]
  },
  {
   "cell_type": "markdown",
   "metadata": {
    "ExecuteTime": {
     "start_time": "2020-01-15T08:47:40.204Z"
    }
   },
   "source": [
    "damped_exp_LR(40000, alpha = 0.00005) <br>\n",
    "n_batch (per class) = 50  <br>\n",
    "cal_interval = 10 <br>\n",
    "prt_interval = 100 <br>"
   ]
  },
  {
   "cell_type": "code",
   "execution_count": 12,
   "metadata": {
    "ExecuteTime": {
     "end_time": "2020-01-20T05:31:18.446663Z",
     "start_time": "2020-01-20T05:31:18.385848Z"
    }
   },
   "outputs": [],
   "source": [
    "d_train_path = np.hstack([ero_train_path, ulcer_train_path, str_train_path])\n",
    "d_valid_path = np.hstack([ero_valid_path, ulcer_valid_path, str_valid_path])\n",
    "\n",
    "a_train_path = shuffle(d_train_path, None)\n",
    "a_valid_path = shuffle(d_valid_path, None)"
   ]
  },
  {
   "cell_type": "code",
   "execution_count": 13,
   "metadata": {
    "ExecuteTime": {
     "end_time": "2020-01-20T05:31:18.453548Z",
     "start_time": "2020-01-20T05:31:18.448942Z"
    }
   },
   "outputs": [
    {
     "data": {
      "text/plain": [
       "<function ce_utils.damped_exp_LR(n_iter, f=20, A=0.0005, alpha=0.0002, gamma=0.1)>"
      ]
     },
     "execution_count": 13,
     "metadata": {},
     "output_type": "execute_result"
    }
   ],
   "source": [
    "damped_exp_LR"
   ]
  },
  {
   "cell_type": "code",
   "execution_count": 14,
   "metadata": {
    "ExecuteTime": {
     "end_time": "2020-01-20T05:31:18.684841Z",
     "start_time": "2020-01-20T05:31:18.455464Z"
    }
   },
   "outputs": [
    {
     "data": {
      "text/plain": [
       "[<matplotlib.lines.Line2D at 0x7f3fae824ef0>]"
      ]
     },
     "execution_count": 14,
     "metadata": {},
     "output_type": "execute_result"
    },
    {
     "data": {
      "image/png": "[encoded data removed]",
      "text/plain": [
       "<Figure size 432x288 with 1 Axes>"
      ]
     },
     "metadata": {
      "needs_background": "light"
     },
     "output_type": "display_data"
    }
   ],
   "source": [
    "D_lr = damped_exp_LR(40000, alpha = 0.00005)\n",
    "\n",
    "plt.plot(D_lr)"
   ]
  },
  {
   "cell_type": "code",
   "execution_count": 15,
   "metadata": {
    "ExecuteTime": {
     "end_time": "2020-01-20T09:39:24.795217Z",
     "start_time": "2020-01-20T05:31:23.949700Z"
    },
    "scrolled": false
   },
   "outputs": [
    {
     "name": "stdout",
     "output_type": "stream",
     "text": [
      "==============================================================\n",
      "[Iter] || Train_accr || Valid_accr || Train_loss || Valid_loss\n",
      "==============================================================\n"
     ]
    },
    {
     "name": "stderr",
     "output_type": "stream",
     "text": [
      "W0120 14:33:24.127595 139912799573760 deprecation.py:323] From /usr/local/lib/python3.5/dist-packages/tensorflow/python/training/saver.py:960: remove_checkpoint (from tensorflow.python.training.checkpoint_management) is deprecated and will be removed in a future version.\n",
      "Instructions for updating:\n",
      "Use standard file APIs to delete files with this prefix.\n"
     ]
    },
    {
     "name": "stdout",
     "output_type": "stream",
     "text": [
      "[*100] || 70.00 %    || 70.00 %    || 0.57882053 || 0.59383178\n",
      "--------------------------------------------------------------\n",
      "[*200] || 90.00 %    || 89.00 %    || 0.24539526 || 0.25757864\n",
      "--------------------------------------------------------------\n",
      "[*300] || 90.00 %    || 94.00 %    || 0.18915069 || 0.17741467\n",
      "--------------------------------------------------------------\n",
      "[*400] || 92.00 %    || 88.00 %    || 0.20281844 || 0.29454744\n",
      "--------------------------------------------------------------\n",
      "[*500] || 92.00 %    || 89.00 %    || 0.20016240 || 0.22068276\n",
      "--------------------------------------------------------------\n",
      "[*600] || 88.00 %    || 93.00 %    || 0.30603325 || 0.16026703\n",
      "--------------------------------------------------------------\n",
      "[*700] || 92.00 %    || 92.00 %    || 0.21661736 || 0.24897406\n",
      "--------------------------------------------------------------\n",
      "[*800] || 90.00 %    || 93.00 %    || 0.23231833 || 0.16322985\n",
      "--------------------------------------------------------------\n",
      "[*900] || 94.00 %    || 92.00 %    || 0.13852629 || 0.21250157\n",
      "--------------------------------------------------------------\n",
      "[1000] || 87.00 %    || 93.00 %    || 0.25864241 || 0.16946463\n",
      "--------------------------------------------------------------\n",
      "[1100] || 91.00 %    || 89.00 %    || 0.25913504 || 0.29746446\n",
      "--------------------------------------------------------------\n",
      "[1200] || 89.00 %    || 95.00 %    || 0.23014030 || 0.14159313\n",
      "--------------------------------------------------------------\n",
      "[1300] || 93.00 %    || 91.00 %    || 0.12171483 || 0.19777034\n",
      "--------------------------------------------------------------\n",
      "[1400] || 91.00 %    || 92.00 %    || 0.17305447 || 0.16918343\n",
      "--------------------------------------------------------------\n",
      "[1500] || 87.00 %    || 94.00 %    || 0.25209725 || 0.15017413\n",
      "--------------------------------------------------------------\n",
      "[1600] || 90.00 %    || 91.00 %    || 0.17454250 || 0.20005238\n",
      "--------------------------------------------------------------\n",
      "[1700] || 97.00 %    || 98.00 %    || 0.14013106 || 0.07626445\n",
      "--------------------------------------------------------------\n",
      "[1800] || 88.00 %    || 94.00 %    || 0.31191865 || 0.14370376\n",
      "--------------------------------------------------------------\n",
      "[1900] || 92.00 %    || 94.00 %    || 0.17577462 || 0.13009527\n",
      "--------------------------------------------------------------\n",
      "[2000] || 97.00 %    || 100.00 %    || 0.11368748 || 0.06407995\n",
      "--------------------------------------------------------------\n",
      "[2100] || 96.00 %    || 91.00 %    || 0.16711010 || 0.19970123\n",
      "--------------------------------------------------------------\n",
      "[2200] || 94.00 %    || 93.00 %    || 0.11616883 || 0.19132586\n",
      "--------------------------------------------------------------\n",
      "[2300] || 91.00 %    || 93.00 %    || 0.21471648 || 0.23339787\n",
      "--------------------------------------------------------------\n",
      "[2400] || 96.00 %    || 95.00 %    || 0.10602482 || 0.27360654\n",
      "--------------------------------------------------------------\n",
      "[2500] || 95.00 %    || 96.00 %    || 0.13258919 || 0.11655933\n",
      "--------------------------------------------------------------\n",
      "[2600] || 94.00 %    || 95.00 %    || 0.13846590 || 0.11701885\n",
      "--------------------------------------------------------------\n",
      "[2700] || 96.00 %    || 99.00 %    || 0.09182709 || 0.06791652\n",
      "--------------------------------------------------------------\n",
      "[2800] || 98.00 %    || 100.00 %    || 0.06360505 || 0.03261616\n",
      "--------------------------------------------------------------\n",
      "[2900] || 97.00 %    || 94.00 %    || 0.11118463 || 0.13937286\n",
      "--------------------------------------------------------------\n",
      "[3000] || 96.00 %    || 97.00 %    || 0.13499182 || 0.10340884\n",
      "--------------------------------------------------------------\n",
      "[3100] || 97.00 %    || 95.00 %    || 0.07224888 || 0.13678317\n",
      "--------------------------------------------------------------\n",
      "[3200] || 92.00 %    || 93.00 %    || 0.18494286 || 0.18677196\n",
      "--------------------------------------------------------------\n",
      "[3300] || 94.00 %    || 92.00 %    || 0.12344487 || 0.16160180\n",
      "--------------------------------------------------------------\n",
      "[3400] || 96.00 %    || 93.00 %    || 0.10532727 || 0.26371706\n",
      "--------------------------------------------------------------\n",
      "[3500] || 97.00 %    || 95.00 %    || 0.09170649 || 0.10899702\n",
      "--------------------------------------------------------------\n",
      "[3600] || 96.00 %    || 94.00 %    || 0.11861511 || 0.10135464\n",
      "--------------------------------------------------------------\n",
      "[3700] || 98.00 %    || 97.00 %    || 0.04367869 || 0.10659777\n",
      "--------------------------------------------------------------\n",
      "[3800] || 98.00 %    || 100.00 %    || 0.07471722 || 0.03362850\n",
      "--------------------------------------------------------------\n",
      "[3900] || 96.00 %    || 96.00 %    || 0.08836304 || 0.08674253\n",
      "--------------------------------------------------------------\n",
      "[4000] || 96.00 %    || 98.00 %    || 0.07866212 || 0.05471537\n",
      "--------------------------------------------------------------\n",
      "[4100] || 100.00 %    || 96.00 %    || 0.02239240 || 0.13833757\n",
      "--------------------------------------------------------------\n",
      "[4200] || 97.00 %    || 95.00 %    || 0.08520583 || 0.08779497\n",
      "--------------------------------------------------------------\n",
      "[4300] || 99.00 %    || 98.00 %    || 0.06118672 || 0.06425289\n",
      "--------------------------------------------------------------\n",
      "[4400] || 97.00 %    || 99.00 %    || 0.07735722 || 0.07398833\n",
      "--------------------------------------------------------------\n",
      "[4500] || 98.00 %    || 95.00 %    || 0.06302997 || 0.09194327\n",
      "--------------------------------------------------------------\n",
      "[4600] || 100.00 %    || 97.00 %    || 0.02890794 || 0.06910318\n",
      "--------------------------------------------------------------\n",
      "[4700] || 100.00 %    || 98.00 %    || 0.03348166 || 0.06670098\n",
      "--------------------------------------------------------------\n",
      "[4800] || 96.00 %    || 98.00 %    || 0.11473939 || 0.06274606\n",
      "--------------------------------------------------------------\n",
      "[4900] || 99.00 %    || 95.00 %    || 0.04777206 || 0.09718297\n",
      "--------------------------------------------------------------\n",
      "[5000] || 96.00 %    || 97.00 %    || 0.07409708 || 0.10125478\n",
      "--------------------------------------------------------------\n",
      "[5100] || 99.00 %    || 98.00 %    || 0.05330281 || 0.07117636\n",
      "--------------------------------------------------------------\n",
      "[5200] || 99.00 %    || 98.00 %    || 0.02602807 || 0.03897632\n",
      "--------------------------------------------------------------\n",
      "[5300] || 96.00 %    || 98.00 %    || 0.11881249 || 0.04431050\n",
      "--------------------------------------------------------------\n",
      "[5400] || 96.00 %    || 97.00 %    || 0.12437179 || 0.08233398\n",
      "--------------------------------------------------------------\n",
      "[5500] || 97.00 %    || 99.00 %    || 0.05583049 || 0.07321443\n",
      "--------------------------------------------------------------\n",
      "[5600] || 95.00 %    || 98.00 %    || 0.08211222 || 0.04697501\n",
      "--------------------------------------------------------------\n",
      "[5700] || 98.00 %    || 98.00 %    || 0.04587830 || 0.05613231\n",
      "--------------------------------------------------------------\n",
      "[5800] || 97.00 %    || 97.00 %    || 0.06570031 || 0.07101241\n",
      "--------------------------------------------------------------\n",
      "[5900] || 98.00 %    || 99.00 %    || 0.08300386 || 0.05433281\n",
      "--------------------------------------------------------------\n",
      "[6000] || 98.00 %    || 98.00 %    || 0.05959870 || 0.05950436\n",
      "--------------------------------------------------------------\n",
      "[6100] || 99.00 %    || 97.00 %    || 0.03050936 || 0.06745543\n",
      "--------------------------------------------------------------\n",
      "[6200] || 99.00 %    || 99.00 %    || 0.04837870 || 0.04573048\n",
      "--------------------------------------------------------------\n",
      "[6300] || 97.00 %    || 97.00 %    || 0.07005814 || 0.04473666\n",
      "--------------------------------------------------------------\n",
      "[6400] || 97.00 %    || 97.00 %    || 0.06698110 || 0.09340350\n",
      "--------------------------------------------------------------\n",
      "[6500] || 97.00 %    || 96.00 %    || 0.04185094 || 0.07121406\n",
      "--------------------------------------------------------------\n"
     ]
    },
    {
     "name": "stdout",
     "output_type": "stream",
     "text": [
      "[6600] || 97.00 %    || 97.00 %    || 0.08759616 || 0.07510420\n",
      "--------------------------------------------------------------\n",
      "[6700] || 99.00 %    || 99.00 %    || 0.03693449 || 0.03172131\n",
      "--------------------------------------------------------------\n",
      "[6800] || 100.00 %    || 98.00 %    || 0.03260750 || 0.07790875\n",
      "--------------------------------------------------------------\n",
      "[6900] || 95.00 %    || 97.00 %    || 0.11935054 || 0.10996804\n",
      "--------------------------------------------------------------\n",
      "[7000] || 99.00 %    || 98.00 %    || 0.04343724 || 0.09214386\n",
      "--------------------------------------------------------------\n",
      "[7100] || 96.00 %    || 96.00 %    || 0.06936768 || 0.07206728\n",
      "--------------------------------------------------------------\n",
      "[7200] || 99.00 %    || 100.00 %    || 0.04605601 || 0.02216365\n",
      "--------------------------------------------------------------\n",
      "[7300] || 100.00 %    || 97.00 %    || 0.02624498 || 0.06110692\n",
      "--------------------------------------------------------------\n",
      "[7400] || 100.00 %    || 99.00 %    || 0.00910326 || 0.17645718\n",
      "--------------------------------------------------------------\n",
      "[7500] || 98.00 %    || 100.00 %    || 0.03002549 || 0.01458890\n",
      "--------------------------------------------------------------\n",
      "[7600] || 99.00 %    || 95.00 %    || 0.04559068 || 0.09842357\n",
      "--------------------------------------------------------------\n",
      "[7700] || 99.00 %    || 98.00 %    || 0.02975786 || 0.03910945\n",
      "--------------------------------------------------------------\n",
      "[7800] || 99.00 %    || 97.00 %    || 0.02330451 || 0.05433109\n",
      "--------------------------------------------------------------\n",
      "[7900] || 99.00 %    || 99.00 %    || 0.01352537 || 0.03932048\n",
      "--------------------------------------------------------------\n",
      "[8000] || 98.00 %    || 95.00 %    || 0.09543350 || 0.09355450\n",
      "--------------------------------------------------------------\n",
      "[8100] || 98.00 %    || 94.00 %    || 0.03954707 || 0.08806695\n",
      "--------------------------------------------------------------\n",
      "[8200] || 100.00 %    || 99.00 %    || 0.01584929 || 0.04095779\n",
      "--------------------------------------------------------------\n",
      "[8300] || 99.00 %    || 96.00 %    || 0.02798611 || 0.11738291\n",
      "--------------------------------------------------------------\n",
      "[8400] || 99.00 %    || 97.00 %    || 0.04484256 || 0.06421477\n",
      "--------------------------------------------------------------\n",
      "[8500] || 98.00 %    || 99.00 %    || 0.02884758 || 0.02362010\n",
      "--------------------------------------------------------------\n",
      "[8600] || 100.00 %    || 99.00 %    || 0.02556279 || 0.02583807\n",
      "--------------------------------------------------------------\n",
      "[8700] || 98.00 %    || 98.00 %    || 0.04395973 || 0.03787555\n",
      "--------------------------------------------------------------\n",
      "[8800] || 99.00 %    || 100.00 %    || 0.02705010 || 0.00989583\n",
      "--------------------------------------------------------------\n",
      "[8900] || 99.00 %    || 99.00 %    || 0.03591666 || 0.03474985\n",
      "--------------------------------------------------------------\n",
      "[9000] || 94.00 %    || 96.00 %    || 0.07578866 || 0.09346182\n",
      "--------------------------------------------------------------\n",
      "[9100] || 98.00 %    || 99.00 %    || 0.02635552 || 0.05418537\n",
      "--------------------------------------------------------------\n",
      "[9200] || 98.00 %    || 99.00 %    || 0.03951314 || 0.01663570\n",
      "--------------------------------------------------------------\n",
      "[9300] || 100.00 %    || 93.00 %    || 0.01364362 || 0.23708580\n",
      "--------------------------------------------------------------\n",
      "[9400] || 99.00 %    || 95.00 %    || 0.03786561 || 0.17661202\n",
      "--------------------------------------------------------------\n",
      "[9500] || 99.00 %    || 100.00 %    || 0.01590463 || 0.01039773\n",
      "--------------------------------------------------------------\n",
      "[9600] || 100.00 %    || 99.00 %    || 0.00502401 || 0.05355937\n",
      "--------------------------------------------------------------\n",
      "[9700] || 99.00 %    || 100.00 %    || 0.04424971 || 0.02085929\n",
      "--------------------------------------------------------------\n",
      "[9800] || 100.00 %    || 98.00 %    || 0.00255442 || 0.03583874\n",
      "--------------------------------------------------------------\n",
      "[9900] || 100.00 %    || 99.00 %    || 0.00771772 || 0.04180391\n",
      "--------------------------------------------------------------\n",
      "[10000] || 99.00 %    || 99.00 %    || 0.02383139 || 0.04773691\n",
      "--------------------------------------------------------------\n",
      "[10100] || 100.00 %    || 99.00 %    || 0.00660910 || 0.01842587\n",
      "--------------------------------------------------------------\n",
      "[10200] || 100.00 %    || 100.00 %    || 0.01621004 || 0.00700549\n",
      "--------------------------------------------------------------\n",
      "[10300] || 98.00 %    || 100.00 %    || 0.04395684 || 0.00589128\n",
      "--------------------------------------------------------------\n",
      "[10400] || 99.00 %    || 99.00 %    || 0.03058531 || 0.02545463\n",
      "--------------------------------------------------------------\n",
      "[10500] || 100.00 %    || 100.00 %    || 0.01002486 || 0.01145459\n",
      "--------------------------------------------------------------\n",
      "[10600] || 98.00 %    || 99.00 %    || 0.04978900 || 0.04401611\n",
      "--------------------------------------------------------------\n",
      "[10700] || 99.00 %    || 97.00 %    || 0.01669960 || 0.05598515\n",
      "--------------------------------------------------------------\n",
      "[10800] || 99.00 %    || 99.00 %    || 0.01978367 || 0.03251309\n",
      "--------------------------------------------------------------\n",
      "[10900] || 98.00 %    || 100.00 %    || 0.02970683 || 0.01510487\n",
      "--------------------------------------------------------------\n",
      "[11000] || 100.00 %    || 100.00 %    || 0.00402969 || 0.00270685\n",
      "--------------------------------------------------------------\n",
      "[11100] || 100.00 %    || 98.00 %    || 0.01075203 || 0.05480414\n",
      "--------------------------------------------------------------\n",
      "[11200] || 97.00 %    || 98.00 %    || 0.03405111 || 0.04377459\n",
      "--------------------------------------------------------------\n",
      "[11300] || 100.00 %    || 99.00 %    || 0.00947853 || 0.02266581\n",
      "--------------------------------------------------------------\n",
      "[11400] || 100.00 %    || 98.00 %    || 0.01664610 || 0.04708640\n",
      "--------------------------------------------------------------\n",
      "[11500] || 99.00 %    || 99.00 %    || 0.01732638 || 0.02162865\n",
      "--------------------------------------------------------------\n",
      "[11600] || 100.00 %    || 99.00 %    || 0.00663768 || 0.02854036\n",
      "--------------------------------------------------------------\n",
      "[11700] || 99.00 %    || 98.00 %    || 0.02929890 || 0.08012798\n",
      "--------------------------------------------------------------\n",
      "[11800] || 100.00 %    || 98.00 %    || 0.00698492 || 0.03389756\n",
      "--------------------------------------------------------------\n",
      "[11900] || 99.00 %    || 97.00 %    || 0.03912759 || 0.06569867\n",
      "--------------------------------------------------------------\n",
      "[12000] || 100.00 %    || 99.00 %    || 0.00575142 || 0.03418978\n",
      "--------------------------------------------------------------\n",
      "[12100] || 100.00 %    || 98.00 %    || 0.00504223 || 0.05388020\n",
      "--------------------------------------------------------------\n",
      "[12200] || 98.00 %    || 98.00 %    || 0.04365313 || 0.05356627\n",
      "--------------------------------------------------------------\n",
      "[12300] || 100.00 %    || 99.00 %    || 0.00325510 || 0.01941540\n",
      "--------------------------------------------------------------\n",
      "[12400] || 100.00 %    || 99.00 %    || 0.01005714 || 0.01256261\n",
      "--------------------------------------------------------------\n",
      "[12500] || 100.00 %    || 99.00 %    || 0.00182291 || 0.01919540\n",
      "--------------------------------------------------------------\n",
      "[12600] || 100.00 %    || 99.00 %    || 0.00314028 || 0.02807429\n",
      "--------------------------------------------------------------\n",
      "[12700] || 100.00 %    || 100.00 %    || 0.00378194 || 0.01171117\n",
      "--------------------------------------------------------------\n",
      "[12800] || 100.00 %    || 98.00 %    || 0.00682212 || 0.04720816\n",
      "--------------------------------------------------------------\n",
      "[12900] || 99.00 %    || 99.00 %    || 0.02938026 || 0.03551722\n",
      "--------------------------------------------------------------\n",
      "[13000] || 100.00 %    || 97.00 %    || 0.00840079 || 0.14449964\n",
      "--------------------------------------------------------------\n"
     ]
    },
    {
     "ename": "KeyboardInterrupt",
     "evalue": "",
     "output_type": "error",
     "traceback": [
      "\u001b[0;31m---------------------------------------------------------------------------\u001b[0m",
      "\u001b[0;31mKeyboardInterrupt\u001b[0m                         Traceback (most recent call last)",
      "\u001b[0;32m<ipython-input-15-0caa9220a20c>\u001b[0m in \u001b[0;36m<module>\u001b[0;34m\u001b[0m\n\u001b[1;32m     17\u001b[0m \u001b[0;32mwhile\u001b[0m \u001b[0;32mTrue\u001b[0m\u001b[0;34m:\u001b[0m\u001b[0;34m\u001b[0m\u001b[0m\n\u001b[1;32m     18\u001b[0m     \u001b[0mneg_train_x\u001b[0m\u001b[0;34m,\u001b[0m \u001b[0mneg_train_y\u001b[0m \u001b[0;34m=\u001b[0m \u001b[0mload_random_minibatch\u001b[0m\u001b[0;34m(\u001b[0m\u001b[0mneg_train_path\u001b[0m\u001b[0;34m,\u001b[0m \u001b[0mcls\u001b[0m \u001b[0;34m=\u001b[0m \u001b[0;36m0\u001b[0m\u001b[0;34m,\u001b[0m \u001b[0mbatch_size\u001b[0m \u001b[0;34m=\u001b[0m \u001b[0mn_batch\u001b[0m\u001b[0;34m)\u001b[0m\u001b[0;34m\u001b[0m\u001b[0m\n\u001b[0;32m---> 19\u001b[0;31m     \u001b[0ma_train_x\u001b[0m\u001b[0;34m,\u001b[0m \u001b[0ma_train_y\u001b[0m \u001b[0;34m=\u001b[0m \u001b[0mload_random_minibatch\u001b[0m\u001b[0;34m(\u001b[0m\u001b[0ma_train_path\u001b[0m\u001b[0;34m,\u001b[0m \u001b[0mcls\u001b[0m \u001b[0;34m=\u001b[0m \u001b[0;36m1\u001b[0m\u001b[0;34m,\u001b[0m \u001b[0mbatch_size\u001b[0m \u001b[0;34m=\u001b[0m \u001b[0mn_batch\u001b[0m\u001b[0;34m)\u001b[0m\u001b[0;34m\u001b[0m\u001b[0m\n\u001b[0m\u001b[1;32m     20\u001b[0m     \u001b[0mtrain_x\u001b[0m \u001b[0;34m=\u001b[0m \u001b[0mnp\u001b[0m\u001b[0;34m.\u001b[0m\u001b[0mvstack\u001b[0m\u001b[0;34m(\u001b[0m\u001b[0;34m[\u001b[0m\u001b[0mneg_train_x\u001b[0m\u001b[0;34m,\u001b[0m \u001b[0ma_train_x\u001b[0m\u001b[0;34m]\u001b[0m\u001b[0;34m)\u001b[0m\u001b[0;34m\u001b[0m\u001b[0m\n\u001b[1;32m     21\u001b[0m     \u001b[0mtrain_y\u001b[0m \u001b[0;34m=\u001b[0m \u001b[0mnp\u001b[0m\u001b[0;34m.\u001b[0m\u001b[0mvstack\u001b[0m\u001b[0;34m(\u001b[0m\u001b[0;34m[\u001b[0m\u001b[0mneg_train_y\u001b[0m\u001b[0;34m,\u001b[0m \u001b[0ma_train_y\u001b[0m\u001b[0;34m]\u001b[0m\u001b[0;34m)\u001b[0m\u001b[0;34m\u001b[0m\u001b[0m\n",
      "\u001b[0;32m/mnt/disk1/project/SMhospital/capsule/ce_packages/ce_utils.py\u001b[0m in \u001b[0;36mload_random_minibatch\u001b[0;34m(pathlist, cls, n_cls, batch_size, image_ch)\u001b[0m\n\u001b[1;32m    195\u001b[0m     \u001b[0mbatch\u001b[0m \u001b[0;34m=\u001b[0m \u001b[0;34m[\u001b[0m\u001b[0;34m]\u001b[0m\u001b[0;34m\u001b[0m\u001b[0m\n\u001b[1;32m    196\u001b[0m     \u001b[0;32mfor\u001b[0m \u001b[0mi\u001b[0m \u001b[0;32min\u001b[0m \u001b[0mbatch_dir\u001b[0m\u001b[0;34m:\u001b[0m\u001b[0;34m\u001b[0m\u001b[0m\n\u001b[0;32m--> 197\u001b[0;31m         \u001b[0mtemp\u001b[0m \u001b[0;34m=\u001b[0m \u001b[0mcv2\u001b[0m\u001b[0;34m.\u001b[0m\u001b[0mimread\u001b[0m\u001b[0;34m(\u001b[0m\u001b[0mi\u001b[0m\u001b[0;34m)\u001b[0m\u001b[0;34m\u001b[0m\u001b[0m\n\u001b[0m\u001b[1;32m    198\u001b[0m         \u001b[0;32mif\u001b[0m \u001b[0mimage_ch\u001b[0m \u001b[0;34m==\u001b[0m \u001b[0;34m'bgr'\u001b[0m\u001b[0;34m:\u001b[0m\u001b[0;34m\u001b[0m\u001b[0m\n\u001b[1;32m    199\u001b[0m             \u001b[0;32mpass\u001b[0m\u001b[0;34m\u001b[0m\u001b[0m\n",
      "\u001b[0;31mKeyboardInterrupt\u001b[0m: "
     ]
    }
   ],
   "source": [
    "sess = tf.Session()\n",
    "init = tf.global_variables_initializer()\n",
    "sess.run(init)\n",
    "\n",
    "n_iter = 0\n",
    "n_batch = 50\n",
    "cal_interval = 10\n",
    "prt_interval = 100\n",
    " \n",
    "early_stopping = False\n",
    "accr_train, accr_valid, loss_train, loss_valid = [], [], [], []\n",
    "hist = training_history(accr_train, accr_valid, loss_train, loss_valid)\n",
    "hist.table()\n",
    "\n",
    "start_time = time.time()\n",
    "\n",
    "while True:\n",
    "    neg_train_x, neg_train_y = load_random_minibatch(neg_train_path, cls = 0, batch_size = n_batch)\n",
    "    a_train_x, a_train_y = load_random_minibatch(a_train_path, cls = 1, batch_size = n_batch)\n",
    "    train_x = np.vstack([neg_train_x, a_train_x])\n",
    "    train_y = np.vstack([neg_train_y, a_train_y])\n",
    "    train_x, train_y = shuffle(train_x, train_y)\n",
    "    \n",
    "    sess.run(optm, feed_dict = {'img:0': train_x, 'label:0': train_y, 'is_training:0' :1, LR: D_lr[n_iter]})\n",
    "    n_iter += 1\n",
    "    \n",
    "    if n_iter % cal_interval == 0:\n",
    "        c, p = sess.run([loss, score], feed_dict = {'img:0': train_x, 'label:0': train_y, 'is_training:0' :0})\n",
    "\n",
    "        p = np.argmax(p, axis = 1)\n",
    "        l = np.argmax(train_y, axis = 1)\n",
    "        a = np.mean(np.equal(p, l))\n",
    "        \n",
    "        neg_valid_x, neg_valid_y = load_random_minibatch(neg_valid_path, cls = 0, batch_size = n_batch)\n",
    "        a_valid_x, a_valid_y = load_random_minibatch(a_valid_path, cls = 1, batch_size = n_batch)\n",
    "        valid_x = np.vstack([neg_valid_x, a_valid_x])\n",
    "        valid_y = np.vstack([neg_valid_y, a_valid_y])\n",
    "        \n",
    "        c_valid, p_valid = sess.run([loss, score], feed_dict = {'img:0': valid_x, 'label:0': valid_y, 'is_training:0' :0})\n",
    "\n",
    "        p_valid = np.argmax(p_valid, axis = 1)\n",
    "        l_valid = np.argmax(valid_y, axis = 1)\n",
    "        a_valid = np.mean(np.equal(p_valid, l_valid))\n",
    "\n",
    "        accr_valid.append(a_valid)\n",
    "        loss_valid.append(c_valid)\n",
    "        accr_train.append(a)\n",
    "        loss_train.append(c)\n",
    "\n",
    "        if n_iter % prt_interval == 0:\n",
    "            hist.prt_evl(n_iter)\n",
    "\n",
    "        if loss_valid[-1] == np.min(loss_valid):\n",
    "            now = datetime.datetime.now()\n",
    "            nowDatetime = now.strftime('%y%m%d%H%M')\n",
    "            model_name = 'X160_frb_ND_{0}_{1}_val_acc_{2:.2f}_val_loss_{3:.6f}'.format(nowDatetime, n_iter, accr_valid[-1], loss_valid[-1])\n",
    "            saver.save(sess, './model/' + model_name)\n",
    "        if n_iter == 40000:\n",
    "            break\n",
    "#         if n_iter > 5000:\n",
    "#             if np.max(accr_train) < 0.9:\n",
    "#                 if np.mean(loss_train[-50:-30]) <= np.mean(loss_train[-30:]) :\n",
    "#                     hist.early_under(n_iter)\n",
    "#                     early_stopping = True\n",
    "#                     break\n",
    "#             if np.mean(accr_train[## training negative images: 254,280 (x40)-50:]) >= 0.995:\n",
    "#                 if (\n",
    "#                     np.mean(loss_valid[-41:-21]) <= np.mean(loss_valid[-21:-1]) and\n",
    "#                     loss_valid[-1] < loss_valid[-2] # np.min(loss_valid[-20:]) == loss_valid[-1]\n",
    "#                     ):\n",
    "#                     hist.early_over(n_iter)\n",
    "#                     early_stopping = True\n",
    "#                     break          \n",
    "    \n",
    "train_time = int((time.time() - start_time)/60)  \n",
    "hist.done(n_iter, train_time, early_stopping)\n",
    "\n",
    "hist.plot(cal_interval)   \n",
    "\n",
    "# sess.close()"
   ]
  },
  {
   "cell_type": "code",
   "execution_count": 37,
   "metadata": {
    "ExecuteTime": {
     "end_time": "2020-01-20T09:53:22.526627Z",
     "start_time": "2020-01-20T09:53:21.881653Z"
    }
   },
   "outputs": [
    {
     "data": {
      "image/png": "[encoded data removed]",
      "text/plain": [
       "<Figure size 1080x1440 with 2 Axes>"
      ]
     },
     "metadata": {
      "needs_background": "light"
     },
     "output_type": "display_data"
    }
   ],
   "source": [
    "hist.plot(cal_interval)  "
   ]
  },
  {
   "cell_type": "code",
   "execution_count": 16,
   "metadata": {
    "ExecuteTime": {
     "end_time": "2020-01-20T09:41:15.384083Z",
     "start_time": "2020-01-20T09:41:15.367683Z"
    }
   },
   "outputs": [],
   "source": [
    "def test_batch_idxs(data, batch_size = 250):\n",
    "    \"\"\"generate the serial batch of data on index-level.\n",
    "       Usually, the data is too large to be evaluated at once.\n",
    "    \n",
    "    Args:\n",
    "      data: A list or array of target dataset e.g. data_x we use\n",
    "      batchsize: A integer\n",
    "      \n",
    "    Returns:\n",
    "      batch_idxs: A list, \n",
    "    \"\"\"\n",
    "    total_size = len(data)\n",
    "    batch_idxs = []\n",
    "    start = 0\n",
    "    while True:\n",
    "        if total_size >= start + batch_size:\n",
    "            batch_idxs.append([start + i for i in range(batch_size)])\n",
    "        elif total_size < start + batch_size:\n",
    "            batch_idxs.append([start + i for i in range(total_size - start)])\n",
    "        start += batch_size\n",
    "        if total_size <= start:\n",
    "            break\n",
    "    return batch_idxs\n",
    "\n",
    "def batch_flatten(data):\n",
    "    \"\"\"flatten A list stacked with the result of batch.\n",
    "    \n",
    "    Args:\n",
    "      data: A list or array  \n",
    "      \n",
    "    Returns:\n",
    "      Data: A list, total result\n",
    "    \"\"\"\n",
    "    batch_n = len(data)\n",
    "    for i in range(batch_n):\n",
    "        if i == 0:\n",
    "            Data = data[i]\n",
    "        else:\n",
    "            Data = np.concatenate((Data, data[i]), axis = 0)   \n",
    "    return Data"
   ]
  },
  {
   "cell_type": "code",
   "execution_count": 30,
   "metadata": {
    "ExecuteTime": {
     "end_time": "2020-01-20T09:51:07.222677Z",
     "start_time": "2020-01-20T09:51:07.190017Z"
    }
   },
   "outputs": [],
   "source": [
    "a_crop_path = []\n",
    "\n",
    "for p in a_valid_path:\n",
    "    name = os.path.basename(p)\n",
    "    if (name.split('c_')[-1])[:-4] == '-_-_-':\n",
    "        a_crop_path.append(p)\n",
    "        \n",
    "a_crop_path = np.asarray(a_crop_path)"
   ]
  },
  {
   "cell_type": "code",
   "execution_count": 31,
   "metadata": {
    "ExecuteTime": {
     "end_time": "2020-01-20T09:51:10.741399Z",
     "start_time": "2020-01-20T09:51:10.734047Z"
    }
   },
   "outputs": [
    {
     "data": {
      "text/plain": [
       "190"
      ]
     },
     "execution_count": 31,
     "metadata": {},
     "output_type": "execute_result"
    }
   ],
   "source": [
    "len(a_crop_path)"
   ]
  },
  {
   "cell_type": "code",
   "execution_count": 34,
   "metadata": {
    "ExecuteTime": {
     "end_time": "2020-01-20T09:51:37.508050Z",
     "start_time": "2020-01-20T09:51:26.078060Z"
    }
   },
   "outputs": [],
   "source": [
    "accr_list = []\n",
    "\n",
    "for i in range(30):\n",
    "    a_valid_x, a_valid_y = load_random_minibatch(a_crop_path, cls = 1, batch_size = n_batch)\n",
    "    p = sess.run(score, feed_dict = {'img:0': a_valid_x, 'is_training:0' :0})\n",
    "\n",
    "    pred = np.argmax(p, axis = 1)\n",
    "    true = np.argmax(a_valid_y, axis =1)\n",
    "    \n",
    "    accr_list.append(np.mean(np.equal(pred, true)))"
   ]
  },
  {
   "cell_type": "code",
   "execution_count": 36,
   "metadata": {
    "ExecuteTime": {
     "end_time": "2020-01-20T09:51:58.734702Z",
     "start_time": "2020-01-20T09:51:58.727172Z"
    }
   },
   "outputs": [
    {
     "data": {
      "text/plain": [
       "0.9926666666666667"
      ]
     },
     "execution_count": 36,
     "metadata": {},
     "output_type": "execute_result"
    }
   ],
   "source": [
    "np.mean(accr_list)"
   ]
  },
  {
   "cell_type": "code",
   "execution_count": 38,
   "metadata": {
    "ExecuteTime": {
     "end_time": "2020-01-20T10:29:27.809527Z",
     "start_time": "2020-01-20T09:54:18.873972Z"
    }
   },
   "outputs": [
    {
     "name": "stdout",
     "output_type": "stream",
     "text": [
      "==============================================================\n",
      "[Iter] || Train_accr || Valid_accr || Train_loss || Valid_loss\n",
      "==============================================================\n",
      "[13100] || 99.00 %    || 96.00 %    || 0.01975419 || 0.28902397\n",
      "--------------------------------------------------------------\n",
      "[13200] || 100.00 %    || 100.00 %    || 0.00513335 || 0.01195045\n",
      "--------------------------------------------------------------\n",
      "[13300] || 100.00 %    || 100.00 %    || 0.00761196 || 0.01125525\n",
      "--------------------------------------------------------------\n",
      "[13400] || 99.00 %    || 100.00 %    || 0.02375382 || 0.01554983\n",
      "--------------------------------------------------------------\n",
      "[13500] || 100.00 %    || 99.00 %    || 0.00244509 || 0.02196291\n",
      "--------------------------------------------------------------\n",
      "[13600] || 100.00 %    || 99.00 %    || 0.00377666 || 0.05378171\n",
      "--------------------------------------------------------------\n",
      "[13700] || 100.00 %    || 100.00 %    || 0.00975880 || 0.00942621\n",
      "--------------------------------------------------------------\n",
      "[13800] || 99.00 %    || 97.00 %    || 0.01567147 || 0.13493760\n",
      "--------------------------------------------------------------\n",
      "[13900] || 99.00 %    || 97.00 %    || 0.01500121 || 0.06179280\n",
      "--------------------------------------------------------------\n",
      "[14000] || 100.00 %    || 99.00 %    || 0.00411493 || 0.02054473\n",
      "--------------------------------------------------------------\n",
      "[14100] || 100.00 %    || 100.00 %    || 0.00440755 || 0.01003978\n",
      "--------------------------------------------------------------\n",
      "[14200] || 100.00 %    || 100.00 %    || 0.00781345 || 0.00554909\n",
      "--------------------------------------------------------------\n",
      "[14300] || 99.00 %    || 100.00 %    || 0.01029327 || 0.00609945\n",
      "--------------------------------------------------------------\n",
      "[14400] || 100.00 %    || 97.00 %    || 0.01015103 || 0.09361437\n",
      "--------------------------------------------------------------\n",
      "[14500] || 99.00 %    || 100.00 %    || 0.04211812 || 0.00476308\n",
      "--------------------------------------------------------------\n",
      "[14600] || 99.00 %    || 100.00 %    || 0.02309111 || 0.00438387\n",
      "--------------------------------------------------------------\n",
      "[14700] || 99.00 %    || 97.00 %    || 0.01104461 || 0.05210780\n",
      "--------------------------------------------------------------\n",
      "[14800] || 100.00 %    || 100.00 %    || 0.00452492 || 0.01373870\n",
      "--------------------------------------------------------------\n",
      "[14900] || 100.00 %    || 98.00 %    || 0.00329121 || 0.05302432\n",
      "--------------------------------------------------------------\n"
     ]
    },
    {
     "ename": "KeyboardInterrupt",
     "evalue": "",
     "output_type": "error",
     "traceback": [
      "\u001b[0;31m---------------------------------------------------------------------------\u001b[0m",
      "\u001b[0;31mKeyboardInterrupt\u001b[0m                         Traceback (most recent call last)",
      "\u001b[0;32m<ipython-input-38-85fde83b343b>\u001b[0m in \u001b[0;36m<module>\u001b[0;34m\u001b[0m\n\u001b[1;32m     10\u001b[0m     \u001b[0mtrain_x\u001b[0m\u001b[0;34m,\u001b[0m \u001b[0mtrain_y\u001b[0m \u001b[0;34m=\u001b[0m \u001b[0mshuffle\u001b[0m\u001b[0;34m(\u001b[0m\u001b[0mtrain_x\u001b[0m\u001b[0;34m,\u001b[0m \u001b[0mtrain_y\u001b[0m\u001b[0;34m)\u001b[0m\u001b[0;34m\u001b[0m\u001b[0m\n\u001b[1;32m     11\u001b[0m \u001b[0;34m\u001b[0m\u001b[0m\n\u001b[0;32m---> 12\u001b[0;31m     \u001b[0msess\u001b[0m\u001b[0;34m.\u001b[0m\u001b[0mrun\u001b[0m\u001b[0;34m(\u001b[0m\u001b[0moptm\u001b[0m\u001b[0;34m,\u001b[0m \u001b[0mfeed_dict\u001b[0m \u001b[0;34m=\u001b[0m \u001b[0;34m{\u001b[0m\u001b[0;34m'img:0'\u001b[0m\u001b[0;34m:\u001b[0m \u001b[0mtrain_x\u001b[0m\u001b[0;34m,\u001b[0m \u001b[0;34m'label:0'\u001b[0m\u001b[0;34m:\u001b[0m \u001b[0mtrain_y\u001b[0m\u001b[0;34m,\u001b[0m \u001b[0;34m'is_training:0'\u001b[0m \u001b[0;34m:\u001b[0m\u001b[0;36m1\u001b[0m\u001b[0;34m,\u001b[0m \u001b[0mLR\u001b[0m\u001b[0;34m:\u001b[0m \u001b[0mD_lr\u001b[0m\u001b[0;34m[\u001b[0m\u001b[0mn_iter\u001b[0m\u001b[0;34m]\u001b[0m\u001b[0;34m}\u001b[0m\u001b[0;34m)\u001b[0m\u001b[0;34m\u001b[0m\u001b[0m\n\u001b[0m\u001b[1;32m     13\u001b[0m     \u001b[0mn_iter\u001b[0m \u001b[0;34m+=\u001b[0m \u001b[0;36m1\u001b[0m\u001b[0;34m\u001b[0m\u001b[0m\n\u001b[1;32m     14\u001b[0m \u001b[0;34m\u001b[0m\u001b[0m\n",
      "\u001b[0;32m/usr/local/lib/python3.5/dist-packages/tensorflow/python/client/session.py\u001b[0m in \u001b[0;36mrun\u001b[0;34m(self, fetches, feed_dict, options, run_metadata)\u001b[0m\n\u001b[1;32m    948\u001b[0m     \u001b[0;32mtry\u001b[0m\u001b[0;34m:\u001b[0m\u001b[0;34m\u001b[0m\u001b[0m\n\u001b[1;32m    949\u001b[0m       result = self._run(None, fetches, feed_dict, options_ptr,\n\u001b[0;32m--> 950\u001b[0;31m                          run_metadata_ptr)\n\u001b[0m\u001b[1;32m    951\u001b[0m       \u001b[0;32mif\u001b[0m \u001b[0mrun_metadata\u001b[0m\u001b[0;34m:\u001b[0m\u001b[0;34m\u001b[0m\u001b[0m\n\u001b[1;32m    952\u001b[0m         \u001b[0mproto_data\u001b[0m \u001b[0;34m=\u001b[0m \u001b[0mtf_session\u001b[0m\u001b[0;34m.\u001b[0m\u001b[0mTF_GetBuffer\u001b[0m\u001b[0;34m(\u001b[0m\u001b[0mrun_metadata_ptr\u001b[0m\u001b[0;34m)\u001b[0m\u001b[0;34m\u001b[0m\u001b[0m\n",
      "\u001b[0;31mKeyboardInterrupt\u001b[0m: "
     ]
    }
   ],
   "source": [
    "hist.table()\n",
    "\n",
    "start_time = time.time()\n",
    "\n",
    "while True:\n",
    "    neg_train_x, neg_train_y = load_random_minibatch(neg_train_path, cls = 0, batch_size = n_batch)\n",
    "    a_train_x, a_train_y = load_random_minibatch(a_train_path, cls = 1, batch_size = n_batch)\n",
    "    train_x = np.vstack([neg_train_x, a_train_x])\n",
    "    train_y = np.vstack([neg_train_y, a_train_y])\n",
    "    train_x, train_y = shuffle(train_x, train_y)\n",
    "    \n",
    "    sess.run(optm, feed_dict = {'img:0': train_x, 'label:0': train_y, 'is_training:0' :1, LR: D_lr[n_iter]})\n",
    "    n_iter += 1\n",
    "    \n",
    "    if n_iter % cal_interval == 0:\n",
    "        c, p = sess.run([loss, score], feed_dict = {'img:0': train_x, 'label:0': train_y, 'is_training:0' :0})\n",
    "\n",
    "        p = np.argmax(p, axis = 1)\n",
    "        l = np.argmax(train_y, axis = 1)\n",
    "        a = np.mean(np.equal(p, l))\n",
    "        \n",
    "        neg_valid_x, neg_valid_y = load_random_minibatch(neg_valid_path, cls = 0, batch_size = n_batch)\n",
    "        a_valid_x, a_valid_y = load_random_minibatch(a_valid_path, cls = 1, batch_size = n_batch)\n",
    "        valid_x = np.vstack([neg_valid_x, a_valid_x])\n",
    "        valid_y = np.vstack([neg_valid_y, a_valid_y])\n",
    "        \n",
    "        c_valid, p_valid = sess.run([loss, score], feed_dict = {'img:0': valid_x, 'label:0': valid_y, 'is_training:0' :0})\n",
    "\n",
    "        p_valid = np.argmax(p_valid, axis = 1)\n",
    "        l_valid = np.argmax(valid_y, axis = 1)\n",
    "        a_valid = np.mean(np.equal(p_valid, l_valid))\n",
    "\n",
    "        accr_valid.append(a_valid)\n",
    "        loss_valid.append(c_valid)\n",
    "        accr_train.append(a)\n",
    "        loss_train.append(c)\n",
    "\n",
    "        if n_iter % prt_interval == 0:\n",
    "            hist.prt_evl(n_iter)\n",
    "\n",
    "        if loss_valid[-1] == np.min(loss_valid):\n",
    "            now = datetime.datetime.now()\n",
    "            nowDatetime = now.strftime('%y%m%d%H%M')\n",
    "            model_name = 'X160_frb_ND_{0}_{1}_val_acc_{2:.2f}_val_loss_{3:.6f}'.format(nowDatetime, n_iter, accr_valid[-1], loss_valid[-1])\n",
    "            saver.save(sess, './model/' + model_name)\n",
    "        if n_iter == 40000:\n",
    "            break\n",
    "#         if n_iter > 5000:\n",
    "#             if np.max(accr_train) < 0.9:\n",
    "#                 if np.mean(loss_train[-50:-30]) <= np.mean(loss_train[-30:]) :\n",
    "#                     hist.early_under(n_iter)\n",
    "#                     early_stopping = True\n",
    "#                     break\n",
    "#             if np.mean(accr_train[## training negative images: 254,280 (x40)-50:]) >= 0.995:\n",
    "#                 if (\n",
    "#                     np.mean(loss_valid[-41:-21]) <= np.mean(loss_valid[-21:-1]) and\n",
    "#                     loss_valid[-1] < loss_valid[-2] # np.min(loss_valid[-20:]) == loss_valid[-1]\n",
    "#                     ):\n",
    "#                     hist.early_over(n_iter)\n",
    "#                     early_stopping = True\n",
    "#                     break          \n",
    "    \n",
    "train_time = int((time.time() - start_time)/60)  \n",
    "hist.done(n_iter, train_time, early_stopping)\n",
    "\n",
    "hist.plot(cal_interval)   \n",
    "\n",
    "# sess.close()"
   ]
  },
  {
   "cell_type": "code",
   "execution_count": null,
   "metadata": {},
   "outputs": [],
   "source": []
  },
  {
   "cell_type": "code",
   "execution_count": null,
   "metadata": {},
   "outputs": [],
   "source": []
  }
 ],
 "metadata": {
  "hide_input": false,
  "kernelspec": {
   "display_name": "Python 3",
   "language": "python",
   "name": "python3"
  },
  "language_info": {
   "codemirror_mode": {
    "name": "ipython",
    "version": 3
   },
   "file_extension": ".py",
   "mimetype": "text/x-python",
   "name": "python",
   "nbconvert_exporter": "python",
   "pygments_lexer": "ipython3",
   "version": "3.5.2"
  },
  "toc": {
   "base_numbering": 1,
   "nav_menu": {},
   "number_sections": true,
   "sideBar": true,
   "skip_h1_title": false,
   "title_cell": "Table of Contents",
   "title_sidebar": "Contents",
   "toc_cell": false,
   "toc_position": {},
   "toc_section_display": true,
   "toc_window_display": false
  }
 },
 "nbformat": 4,
 "nbformat_minor": 2
}
