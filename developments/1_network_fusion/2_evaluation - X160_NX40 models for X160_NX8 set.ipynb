{
 "cells": [
  {
   "cell_type": "code",
   "execution_count": 1,
   "metadata": {
    "ExecuteTime": {
     "end_time": "2020-01-16T07:39:01.980721Z",
     "start_time": "2020-01-16T07:39:01.670257Z"
    }
   },
   "outputs": [
    {
     "name": "stdout",
     "output_type": "stream",
     "text": [
      "Thu Jan 16 16:39:01 2020       \n",
      "+-----------------------------------------------------------------------------+\n",
      "| NVIDIA-SMI 430.26       Driver Version: 430.26       CUDA Version: 10.2     |\n",
      "|-------------------------------+----------------------+----------------------+\n",
      "| GPU  Name        Persistence-M| Bus-Id        Disp.A | Volatile Uncorr. ECC |\n",
      "| Fan  Temp  Perf  Pwr:Usage/Cap|         Memory-Usage | GPU-Util  Compute M. |\n",
      "|===============================+======================+======================|\n",
      "|   0  GeForce RTX 208...  Off  | 00000000:1D:00.0 Off |                  N/A |\n",
      "| 27%   31C    P8    13W / 250W |     10MiB / 11019MiB |      0%      Default |\n",
      "+-------------------------------+----------------------+----------------------+\n",
      "|   1  GeForce RTX 208...  Off  | 00000000:1E:00.0 Off |                  N/A |\n",
      "| 27%   31C    P0    75W / 250W |     10MiB / 11019MiB |      0%      Default |\n",
      "+-------------------------------+----------------------+----------------------+\n",
      "|   2  GeForce RTX 208...  Off  | 00000000:1F:00.0 Off |                  N/A |\n",
      "| 35%   61C    P2   207W / 250W |  10925MiB / 11019MiB |     33%      Default |\n",
      "+-------------------------------+----------------------+----------------------+\n",
      "|   3  GeForce RTX 208...  Off  | 00000000:20:00.0 Off |                  N/A |\n",
      "| 33%   54C    P2    89W / 250W |  10925MiB / 11019MiB |     19%      Default |\n",
      "+-------------------------------+----------------------+----------------------+\n",
      "|   4  GeForce RTX 208...  Off  | 00000000:21:00.0 Off |                  N/A |\n",
      "| 27%   29C    P8    25W / 250W |  10665MiB / 11019MiB |      0%      Default |\n",
      "+-------------------------------+----------------------+----------------------+\n",
      "|   5  GeForce RTX 208...  Off  | 00000000:22:00.0 Off |                  N/A |\n",
      "| 35%   59C    P2    92W / 250W |  10925MiB / 11019MiB |     11%      Default |\n",
      "+-------------------------------+----------------------+----------------------+\n",
      "|   6  GeForce RTX 208...  Off  | 00000000:23:00.0 Off |                  N/A |\n",
      "| 27%   29C    P8    18W / 250W |     10MiB / 11019MiB |      0%      Default |\n",
      "+-------------------------------+----------------------+----------------------+\n",
      "|   7  GeForce RTX 208...  Off  | 00000000:24:00.0 Off |                  N/A |\n",
      "| 27%   29C    P8     1W / 250W |     10MiB / 11019MiB |      0%      Default |\n",
      "+-------------------------------+----------------------+----------------------+\n",
      "                                                                               \n",
      "+-----------------------------------------------------------------------------+\n",
      "| Processes:                                                       GPU Memory |\n",
      "|  GPU       PID   Type   Process name                             Usage      |\n",
      "|=============================================================================|\n",
      "|    2     12996      C   /usr/bin/python3                           10915MiB |\n",
      "|    3     13017      C   /usr/bin/python3                           10915MiB |\n",
      "|    4      9736      C   /usr/bin/python3                           10655MiB |\n",
      "|    5     13011      C   /usr/bin/python3                           10915MiB |\n",
      "+-----------------------------------------------------------------------------+\n"
     ]
    }
   ],
   "source": [
    "!nvidia-smi"
   ]
  },
  {
   "cell_type": "code",
   "execution_count": 2,
   "metadata": {
    "ExecuteTime": {
     "end_time": "2020-01-16T07:39:57.498343Z",
     "start_time": "2020-01-16T07:39:52.594666Z"
    },
    "scrolled": true
   },
   "outputs": [
    {
     "name": "stderr",
     "output_type": "stream",
     "text": [
      "/usr/local/lib/python3.5/dist-packages/tensorflow/python/framework/dtypes.py:516: FutureWarning: Passing (type, 1) or '1type' as a synonym of type is deprecated; in a future version of numpy, it will be understood as (type, (1,)) / '(1,)type'.\n",
      "  _np_qint8 = np.dtype([(\"qint8\", np.int8, 1)])\n",
      "/usr/local/lib/python3.5/dist-packages/tensorflow/python/framework/dtypes.py:517: FutureWarning: Passing (type, 1) or '1type' as a synonym of type is deprecated; in a future version of numpy, it will be understood as (type, (1,)) / '(1,)type'.\n",
      "  _np_quint8 = np.dtype([(\"quint8\", np.uint8, 1)])\n",
      "/usr/local/lib/python3.5/dist-packages/tensorflow/python/framework/dtypes.py:518: FutureWarning: Passing (type, 1) or '1type' as a synonym of type is deprecated; in a future version of numpy, it will be understood as (type, (1,)) / '(1,)type'.\n",
      "  _np_qint16 = np.dtype([(\"qint16\", np.int16, 1)])\n",
      "/usr/local/lib/python3.5/dist-packages/tensorflow/python/framework/dtypes.py:519: FutureWarning: Passing (type, 1) or '1type' as a synonym of type is deprecated; in a future version of numpy, it will be understood as (type, (1,)) / '(1,)type'.\n",
      "  _np_quint16 = np.dtype([(\"quint16\", np.uint16, 1)])\n",
      "/usr/local/lib/python3.5/dist-packages/tensorflow/python/framework/dtypes.py:520: FutureWarning: Passing (type, 1) or '1type' as a synonym of type is deprecated; in a future version of numpy, it will be understood as (type, (1,)) / '(1,)type'.\n",
      "  _np_qint32 = np.dtype([(\"qint32\", np.int32, 1)])\n",
      "/usr/local/lib/python3.5/dist-packages/tensorflow/python/framework/dtypes.py:525: FutureWarning: Passing (type, 1) or '1type' as a synonym of type is deprecated; in a future version of numpy, it will be understood as (type, (1,)) / '(1,)type'.\n",
      "  np_resource = np.dtype([(\"resource\", np.ubyte, 1)])\n",
      "/usr/local/lib/python3.5/dist-packages/tensorboard/compat/tensorflow_stub/dtypes.py:541: FutureWarning: Passing (type, 1) or '1type' as a synonym of type is deprecated; in a future version of numpy, it will be understood as (type, (1,)) / '(1,)type'.\n",
      "  _np_qint8 = np.dtype([(\"qint8\", np.int8, 1)])\n",
      "/usr/local/lib/python3.5/dist-packages/tensorboard/compat/tensorflow_stub/dtypes.py:542: FutureWarning: Passing (type, 1) or '1type' as a synonym of type is deprecated; in a future version of numpy, it will be understood as (type, (1,)) / '(1,)type'.\n",
      "  _np_quint8 = np.dtype([(\"quint8\", np.uint8, 1)])\n",
      "/usr/local/lib/python3.5/dist-packages/tensorboard/compat/tensorflow_stub/dtypes.py:543: FutureWarning: Passing (type, 1) or '1type' as a synonym of type is deprecated; in a future version of numpy, it will be understood as (type, (1,)) / '(1,)type'.\n",
      "  _np_qint16 = np.dtype([(\"qint16\", np.int16, 1)])\n",
      "/usr/local/lib/python3.5/dist-packages/tensorboard/compat/tensorflow_stub/dtypes.py:544: FutureWarning: Passing (type, 1) or '1type' as a synonym of type is deprecated; in a future version of numpy, it will be understood as (type, (1,)) / '(1,)type'.\n",
      "  _np_quint16 = np.dtype([(\"quint16\", np.uint16, 1)])\n",
      "/usr/local/lib/python3.5/dist-packages/tensorboard/compat/tensorflow_stub/dtypes.py:545: FutureWarning: Passing (type, 1) or '1type' as a synonym of type is deprecated; in a future version of numpy, it will be understood as (type, (1,)) / '(1,)type'.\n",
      "  _np_qint32 = np.dtype([(\"qint32\", np.int32, 1)])\n",
      "/usr/local/lib/python3.5/dist-packages/tensorboard/compat/tensorflow_stub/dtypes.py:550: FutureWarning: Passing (type, 1) or '1type' as a synonym of type is deprecated; in a future version of numpy, it will be understood as (type, (1,)) / '(1,)type'.\n",
      "  np_resource = np.dtype([(\"resource\", np.ubyte, 1)])\n"
     ]
    }
   ],
   "source": [
    "import os\n",
    "os.environ[\"CUDA_DEVICE_ORDER\"]=\"PCI_BUS_ID\"\n",
    "os.environ[\"CUDA_VISIBLE_DEVICES\"]=\"1\"\n",
    "\n",
    "import numpy as np\n",
    "import matplotlib.pyplot as plt\n",
    "import cv2\n",
    "\n",
    "import sys\n",
    "sys.path.append('/mnt/disk1/project/SMhospital/capsule/ce_packages')\n",
    "\n",
    "from ce_utils import load_data, one_hot, test_batch_idxs, batch_flatten\n",
    "from ce_utils import model_prob\n",
    "from ce_utils import classification_metric\n",
    "from ce_model import binary_model, ensemble_model"
   ]
  },
  {
   "cell_type": "markdown",
   "metadata": {},
   "source": [
    "# Load Data"
   ]
  },
  {
   "cell_type": "code",
   "execution_count": 3,
   "metadata": {
    "ExecuteTime": {
     "end_time": "2020-01-16T07:46:53.965416Z",
     "start_time": "2020-01-16T07:40:02.279105Z"
    }
   },
   "outputs": [],
   "source": [
    "neg_img, neg_name = load_data('test', 'n', 'neg', data = 'sm_x160', extract_name = True)\n",
    "redspot_img, redspot_name = load_data('test', 'h', 'redspot', data = 'sm_x160', extract_name = True)\n",
    "angio_img, angio_name = load_data('test', 'h', 'angio', data = 'sm_x160', extract_name = True)\n",
    "active_img, active_name = load_data('test', 'h', 'active', data = 'sm_x160', extract_name = True)\n",
    "ero_img, ero_name = load_data('test', 'd', 'ero', data = 'sm_x160', extract_name = True)\n",
    "ulcer_img, ulcer_name = load_data('test', 'd', 'ulcer', data = 'sm_x160', extract_name = True)\n",
    "str_img, str_name = load_data('test', 'd', 'str', data = 'sm_x160', extract_name = True)"
   ]
  },
  {
   "cell_type": "code",
   "execution_count": 4,
   "metadata": {
    "ExecuteTime": {
     "end_time": "2020-01-16T07:46:54.229166Z",
     "start_time": "2020-01-16T07:46:53.968352Z"
    }
   },
   "outputs": [
    {
     "name": "stdout",
     "output_type": "stream",
     "text": [
      "negative: (11592, 512, 512, 3) (11592, 2)\n",
      "red spot: (18240, 512, 512, 3) (18240, 2)\n",
      "angioectasia: (480, 512, 512, 3) (480, 2)\n",
      "active_bleeding: (19520, 512, 512, 3) (19520, 2)\n",
      "erosion: (19360, 512, 512, 3) (19360, 2)\n",
      "ulcer: (22560, 512, 512, 3) (22560, 2)\n",
      "stricture: (4960, 512, 512, 3) (4960, 2)\n"
     ]
    }
   ],
   "source": [
    "neg_label = one_hot(neg_img, 0)\n",
    "redspot_label = one_hot(redspot_img, 1)\n",
    "angio_label = one_hot(angio_img, 1)\n",
    "active_label = one_hot(active_img, 1)\n",
    "ero_label = one_hot(ero_img, 1)\n",
    "ulcer_label = one_hot(ulcer_img, 1)\n",
    "str_label = one_hot(str_img, 1)\n",
    "\n",
    "print(\"negative:\",neg_img.shape, neg_label.shape)\n",
    "print(\"red spot:\",redspot_img.shape, redspot_label.shape)\n",
    "print(\"angioectasia:\",angio_img.shape, angio_label.shape)\n",
    "print(\"active_bleeding:\",active_img.shape, active_label.shape)\n",
    "print(\"erosion:\",ero_img.shape, ero_label.shape)\n",
    "print(\"ulcer:\",ulcer_img.shape, ulcer_label.shape)\n",
    "print(\"stricture:\",str_img.shape, str_label.shape)"
   ]
  },
  {
   "cell_type": "markdown",
   "metadata": {},
   "source": [
    "# Model Inference"
   ]
  },
  {
   "cell_type": "code",
   "execution_count": 11,
   "metadata": {
    "ExecuteTime": {
     "end_time": "2020-01-16T07:58:09.325698Z",
     "start_time": "2020-01-16T07:58:09.313474Z"
    }
   },
   "outputs": [],
   "source": [
    "nh_list = sorted([i[:-5] for i in os.listdir('./model') if 'meta' in i and 'X160_NX40H' in i])\n",
    "nd_list = sorted([i[:-5] for i in os.listdir('./model') if 'meta' in i and 'X160_NX40D' in i])\n",
    "b_list = sorted([i[:-5] for i in os.listdir('./model') if 'meta' in i and 'X160_NX40A' in i])"
   ]
  },
  {
   "cell_type": "code",
   "execution_count": 12,
   "metadata": {
    "ExecuteTime": {
     "end_time": "2020-01-16T07:58:10.901678Z",
     "start_time": "2020-01-16T07:58:10.895010Z"
    }
   },
   "outputs": [
    {
     "data": {
      "text/plain": [
       "['X160_NX40H_2001161345_10_val_acc_0.60_val_loss_0.680715',\n",
       " 'X160_NX40H_2001161345_40_val_acc_0.86_val_loss_0.384926',\n",
       " 'X160_NX40H_2001161346_60_val_acc_0.88_val_loss_0.335898',\n",
       " 'X160_NX40H_2001161355_130_val_acc_0.82_val_loss_0.415592',\n",
       " 'X160_NX40H_2001161357_190_val_acc_0.83_val_loss_0.351918',\n",
       " 'X160_NX40H_2001161357_210_val_acc_0.90_val_loss_0.329515',\n",
       " 'X160_NX40H_2001161400_370_val_acc_0.91_val_loss_0.322729',\n",
       " 'X160_NX40H_2001161401_380_val_acc_0.94_val_loss_0.231456']"
      ]
     },
     "execution_count": 12,
     "metadata": {},
     "output_type": "execute_result"
    }
   ],
   "source": [
    "nh_list"
   ]
  },
  {
   "cell_type": "code",
   "execution_count": 13,
   "metadata": {
    "ExecuteTime": {
     "end_time": "2020-01-16T07:58:11.055364Z",
     "start_time": "2020-01-16T07:58:11.049347Z"
    },
    "scrolled": false
   },
   "outputs": [
    {
     "data": {
      "text/plain": [
       "['X160_NX40D_2001161406_390_val_acc_0.94_val_loss_0.221698',\n",
       " 'X160_NX40D_2001161411_620_val_acc_0.94_val_loss_0.161949',\n",
       " 'X160_NX40D_2001161432_1550_val_acc_0.95_val_loss_0.146773',\n",
       " 'X160_NX40D_2001161434_1640_val_acc_0.97_val_loss_0.135257',\n",
       " 'X160_NX40D_2001161434_1660_val_acc_0.96_val_loss_0.103803']"
      ]
     },
     "execution_count": 13,
     "metadata": {},
     "output_type": "execute_result"
    }
   ],
   "source": [
    "nd_list"
   ]
  },
  {
   "cell_type": "code",
   "execution_count": 14,
   "metadata": {
    "ExecuteTime": {
     "end_time": "2020-01-16T07:58:11.476689Z",
     "start_time": "2020-01-16T07:58:11.470306Z"
    }
   },
   "outputs": [
    {
     "data": {
      "text/plain": [
       "['X160_NX40A_2001161417_800_val_acc_0.93_val_loss_0.164143',\n",
       " 'X160_NX40A_2001161417_810_val_acc_0.95_val_loss_0.158911',\n",
       " 'X160_NX40A_2001161419_910_val_acc_0.98_val_loss_0.109640',\n",
       " 'X160_NX40A_2001161421_1000_val_acc_0.99_val_loss_0.075190',\n",
       " 'X160_NX40A_2001161431_1440_val_acc_1.00_val_loss_0.025336']"
      ]
     },
     "execution_count": 14,
     "metadata": {},
     "output_type": "execute_result"
    }
   ],
   "source": [
    "b_list"
   ]
  },
  {
   "cell_type": "code",
   "execution_count": 15,
   "metadata": {
    "ExecuteTime": {
     "end_time": "2020-01-16T07:58:22.334669Z",
     "start_time": "2020-01-16T07:58:16.455891Z"
    }
   },
   "outputs": [
    {
     "name": "stderr",
     "output_type": "stream",
     "text": [
      "WARNING: Logging before flag parsing goes to stderr.\n",
      "W0116 16:58:16.491338 140704733816576 deprecation_wrapper.py:119] From /mnt/disk1/project/SMhospital/capsule/ce_packages/ce_model.py:108: The name tf.Session is deprecated. Please use tf.compat.v1.Session instead.\n",
      "\n",
      "W0116 16:58:17.142794 140704733816576 deprecation_wrapper.py:119] From /mnt/disk1/project/SMhospital/capsule/ce_packages/ce_model.py:109: The name tf.train.import_meta_graph is deprecated. Please use tf.compat.v1.train.import_meta_graph instead.\n",
      "\n",
      "W0116 16:58:17.462484 140704733816576 deprecation.py:323] From /usr/local/lib/python3.5/dist-packages/tensorflow/python/training/saver.py:1276: checkpoint_exists (from tensorflow.python.training.checkpoint_management) is deprecated and will be removed in a future version.\n",
      "Instructions for updating:\n",
      "Use standard file APIs to check for files with this prefix.\n"
     ]
    }
   ],
   "source": [
    "nh_path = './model/' + nh_list[-1]\n",
    "nd_path = './model/' + nd_list[-1]\n",
    "b_path = './model/' + b_list[-1]\n",
    "\n",
    "NH_model = binary_model(nh_path)\n",
    "ND_model = binary_model(nd_path)\n",
    "E_model = ensemble_model(nh_path, nd_path)\n",
    "B_model = binary_model(b_path)"
   ]
  },
  {
   "cell_type": "code",
   "execution_count": 16,
   "metadata": {
    "ExecuteTime": {
     "end_time": "2020-01-16T08:08:55.083732Z",
     "start_time": "2020-01-16T07:58:32.897764Z"
    }
   },
   "outputs": [
    {
     "name": "stdout",
     "output_type": "stream",
     "text": [
      "#: 11592 / Inference Time: 00:01:17\n",
      "#: 18240 / Inference Time: 00:01:54\n",
      "#: 480 / Inference Time: 00:00:04\n",
      "#: 19520 / Inference Time: 00:02:02\n",
      "#: 19360 / Inference Time: 00:02:02\n",
      "#: 22560 / Inference Time: 00:02:25\n",
      "#: 4960 / Inference Time: 00:00:34\n"
     ]
    }
   ],
   "source": [
    "neg_e_output, neg_nh_output, neg_nd_output = model_prob(E_model, neg_img, model_type = 'ensemble')\n",
    "redspot_e_output, redspot_nh_output, redspot_nd_output = model_prob(E_model, redspot_img, model_type = 'ensemble')\n",
    "angio_e_output, angio_nh_output, angio_nd_output = model_prob(E_model, angio_img, model_type = 'ensemble')\n",
    "active_e_output, active_nh_output, active_nd_output = model_prob(E_model, active_img, model_type = 'ensemble')\n",
    "ero_e_output, ero_nh_output, ero_nd_output = model_prob(E_model, ero_img, model_type = 'ensemble')\n",
    "ulcer_e_output, ulcer_nh_output, ulcer_nd_output = model_prob(E_model, ulcer_img, model_type = 'ensemble')\n",
    "str_e_output, str_nh_output, str_nd_output  = model_prob(E_model, str_img, model_type = 'ensemble')"
   ]
  },
  {
   "cell_type": "code",
   "execution_count": 17,
   "metadata": {
    "ExecuteTime": {
     "end_time": "2020-01-16T08:14:06.385535Z",
     "start_time": "2020-01-16T08:08:55.088798Z"
    }
   },
   "outputs": [
    {
     "name": "stdout",
     "output_type": "stream",
     "text": [
      "#: 11592 / Inference Time: 00:00:37\n",
      "#: 18240 / Inference Time: 00:00:57\n",
      "#: 480 / Inference Time: 00:00:01\n",
      "#: 19520 / Inference Time: 00:01:02\n",
      "#: 19360 / Inference Time: 00:01:01\n",
      "#: 22560 / Inference Time: 00:01:12\n",
      "#: 4960 / Inference Time: 00:00:18\n"
     ]
    }
   ],
   "source": [
    "neg_b_output = model_prob(B_model, neg_img)\n",
    "redspot_b_output = model_prob(B_model, redspot_img)\n",
    "angio_b_output = model_prob(B_model, angio_img)\n",
    "active_b_output = model_prob(B_model, active_img)\n",
    "ero_b_output = model_prob(B_model, ero_img)\n",
    "ulcer_b_output = model_prob(B_model, ulcer_img)\n",
    "str_b_output  = model_prob(B_model, str_img)"
   ]
  },
  {
   "cell_type": "markdown",
   "metadata": {},
   "source": [
    "# Evaluation"
   ]
  },
  {
   "cell_type": "code",
   "execution_count": 18,
   "metadata": {
    "ExecuteTime": {
     "end_time": "2020-01-16T08:14:06.397613Z",
     "start_time": "2020-01-16T08:14:06.391649Z"
    }
   },
   "outputs": [],
   "source": [
    "cls = classification_metric()"
   ]
  },
  {
   "cell_type": "markdown",
   "metadata": {},
   "source": [
    "## Accuracy per lesion"
   ]
  },
  {
   "cell_type": "code",
   "execution_count": 19,
   "metadata": {
    "ExecuteTime": {
     "end_time": "2020-01-16T08:14:06.413565Z",
     "start_time": "2020-01-16T08:14:06.402632Z"
    }
   },
   "outputs": [
    {
     "name": "stdout",
     "output_type": "stream",
     "text": [
      "Accuracy: 92.49 %\n",
      "Accuracy: 72.89 %\n",
      "Accuracy: 82.08 %\n",
      "Accuracy: 87.68 %\n"
     ]
    }
   ],
   "source": [
    "neg_nh_acc = cls.accuracy(neg_label, neg_nh_output)\n",
    "redspot_nh_acc = cls.accuracy(redspot_label, redspot_nh_output)\n",
    "angio_nh_acc = cls.accuracy(angio_label, angio_nh_output)\n",
    "active_nh_acc = cls.accuracy(active_label, active_nh_output)"
   ]
  },
  {
   "cell_type": "code",
   "execution_count": 20,
   "metadata": {
    "ExecuteTime": {
     "end_time": "2020-01-16T08:14:06.426461Z",
     "start_time": "2020-01-16T08:14:06.417118Z"
    }
   },
   "outputs": [
    {
     "name": "stdout",
     "output_type": "stream",
     "text": [
      "Accuracy: 96.14 %\n",
      "Accuracy: 90.03 %\n",
      "Accuracy: 82.77 %\n",
      "Accuracy: 80.18 %\n"
     ]
    }
   ],
   "source": [
    "neg_nd_acc = cls.accuracy(neg_label, neg_nd_output)\n",
    "ero_nd_acc = cls.accuracy(ero_label, ero_nd_output)\n",
    "ulcer_nd_acc = cls.accuracy(ulcer_label, ulcer_nd_output)\n",
    "str_nd_acc = cls.accuracy(str_label, str_nd_output)"
   ]
  },
  {
   "cell_type": "code",
   "execution_count": 21,
   "metadata": {
    "ExecuteTime": {
     "end_time": "2020-01-16T08:14:06.439316Z",
     "start_time": "2020-01-16T08:14:06.429393Z"
    }
   },
   "outputs": [
    {
     "name": "stdout",
     "output_type": "stream",
     "text": [
      "Accuracy: 98.62 %\n",
      "Accuracy: 87.59 %\n",
      "Accuracy: 100.00 %\n",
      "Accuracy: 97.05 %\n",
      "Accuracy: 89.85 %\n",
      "Accuracy: 81.77 %\n",
      "Accuracy: 97.68 %\n"
     ]
    }
   ],
   "source": [
    "neg_b_acc = cls.accuracy(neg_label, neg_b_output)\n",
    "redspot_b_acc = cls.accuracy(redspot_label, redspot_b_output)\n",
    "angio_b_acc = cls.accuracy(angio_label, angio_b_output)\n",
    "active_b_acc = cls.accuracy(active_label, active_b_output)\n",
    "ero_b_acc = cls.accuracy(ero_label, ero_b_output)\n",
    "ulcer_b_acc = cls.accuracy(ulcer_label, ulcer_b_output)\n",
    "str_b_acc = cls.accuracy(str_label, str_b_output)"
   ]
  },
  {
   "cell_type": "code",
   "execution_count": 22,
   "metadata": {
    "ExecuteTime": {
     "end_time": "2020-01-16T08:14:06.450286Z",
     "start_time": "2020-01-16T08:14:06.441600Z"
    }
   },
   "outputs": [
    {
     "name": "stdout",
     "output_type": "stream",
     "text": [
      "Accuracy: 89.35 %\n",
      "Accuracy: 89.77 %\n",
      "Accuracy: 100.00 %\n",
      "Accuracy: 95.20 %\n",
      "Accuracy: 92.44 %\n",
      "Accuracy: 89.45 %\n",
      "Accuracy: 84.90 %\n"
     ]
    }
   ],
   "source": [
    "neg_e_acc = cls.accuracy(neg_label, neg_e_output)\n",
    "redspot_e_acc = cls.accuracy(redspot_label, redspot_e_output)\n",
    "angio_e_acc = cls.accuracy(angio_label, angio_e_output)\n",
    "active_e_acc = cls.accuracy(active_label, active_e_output)\n",
    "ero_e_acc = cls.accuracy(ero_label, ero_e_output)\n",
    "ulcer_e_acc = cls.accuracy(ulcer_label, ulcer_e_output)\n",
    "str_e_acc = cls.accuracy(str_label, str_e_output)"
   ]
  },
  {
   "cell_type": "markdown",
   "metadata": {},
   "source": [
    "## Confusion Matrix"
   ]
  },
  {
   "cell_type": "code",
   "execution_count": 23,
   "metadata": {
    "ExecuteTime": {
     "end_time": "2020-01-16T08:14:06.501381Z",
     "start_time": "2020-01-16T08:14:06.453490Z"
    }
   },
   "outputs": [],
   "source": [
    "nh_outputs = np.vstack([neg_nh_output, redspot_nh_output, angio_nh_output, active_nh_output])\n",
    "labels = np.vstack([neg_label, redspot_label, angio_label, active_label])\n",
    "\n",
    "nh_CM = cls.con_mat(labels, nh_outputs)"
   ]
  },
  {
   "cell_type": "code",
   "execution_count": 24,
   "metadata": {
    "ExecuteTime": {
     "end_time": "2020-01-16T08:14:06.860103Z",
     "start_time": "2020-01-16T08:14:06.504772Z"
    }
   },
   "outputs": [
    {
     "data": {
      "image/png": "[encoded data removed]",
      "text/plain": [
       "<Figure size 1152x576 with 2 Axes>"
      ]
     },
     "metadata": {
      "needs_background": "light"
     },
     "output_type": "display_data"
    }
   ],
   "source": [
    "plt.figure(figsize=(16, 8))\n",
    "plt.subplot(121)\n",
    "cls.plot_cm(nh_CM, value_size = 25, label_size = 20)\n",
    "plt.subplot(122)\n",
    "cls.plot_cm(nh_CM, value_size = 25, label_size = 20, mode = 'num')\n",
    "plt.show()"
   ]
  },
  {
   "cell_type": "code",
   "execution_count": 25,
   "metadata": {
    "ExecuteTime": {
     "end_time": "2020-01-16T08:14:06.912579Z",
     "start_time": "2020-01-16T08:14:06.862237Z"
    }
   },
   "outputs": [],
   "source": [
    "nd_outputs = np.vstack([neg_nd_output, ero_nd_output, ulcer_nd_output, str_nd_output])\n",
    "labels = np.vstack([neg_label, ero_label, ulcer_label, str_label])\n",
    "\n",
    "nd_CM = cls.con_mat(labels, nd_outputs)"
   ]
  },
  {
   "cell_type": "code",
   "execution_count": 26,
   "metadata": {
    "ExecuteTime": {
     "end_time": "2020-01-16T08:14:07.192237Z",
     "start_time": "2020-01-16T08:14:06.914539Z"
    }
   },
   "outputs": [
    {
     "data": {
      "image/png": "[encoded data removed]",
      "text/plain": [
       "<Figure size 1152x576 with 2 Axes>"
      ]
     },
     "metadata": {
      "needs_background": "light"
     },
     "output_type": "display_data"
    }
   ],
   "source": [
    "plt.figure(figsize=(16, 8))\n",
    "plt.subplot(121)\n",
    "cls.plot_cm(nd_CM, value_size = 25, label_size = 20)\n",
    "plt.subplot(122)\n",
    "cls.plot_cm(nd_CM, value_size = 25, label_size = 20, mode = 'num')\n",
    "plt.show()"
   ]
  },
  {
   "cell_type": "code",
   "execution_count": 27,
   "metadata": {
    "ExecuteTime": {
     "end_time": "2020-01-16T08:14:07.277771Z",
     "start_time": "2020-01-16T08:14:07.194088Z"
    }
   },
   "outputs": [],
   "source": [
    "e_outputs = np.vstack([neg_e_output, redspot_e_output, angio_e_output, active_e_output, ero_e_output, ulcer_e_output, str_e_output])\n",
    "labels = np.vstack([neg_label, redspot_label, angio_label, active_label, ero_label, ulcer_label, str_label])\n",
    "\n",
    "e_CM = cls.con_mat(labels, e_outputs)"
   ]
  },
  {
   "cell_type": "code",
   "execution_count": 28,
   "metadata": {
    "ExecuteTime": {
     "end_time": "2020-01-16T08:14:07.581238Z",
     "start_time": "2020-01-16T08:14:07.280698Z"
    }
   },
   "outputs": [
    {
     "data": {
      "image/png": "[encoded data removed]",
      "text/plain": [
       "<Figure size 1152x576 with 2 Axes>"
      ]
     },
     "metadata": {
      "needs_background": "light"
     },
     "output_type": "display_data"
    }
   ],
   "source": [
    "plt.figure(figsize=(16, 8))\n",
    "plt.subplot(121)\n",
    "cls.plot_cm(e_CM, value_size = 25, label_size = 20)\n",
    "plt.subplot(122)\n",
    "cls.plot_cm(e_CM, value_size = 25, label_size = 20, mode = 'num')\n",
    "plt.show()"
   ]
  },
  {
   "cell_type": "code",
   "execution_count": 29,
   "metadata": {
    "ExecuteTime": {
     "end_time": "2020-01-16T08:14:07.667984Z",
     "start_time": "2020-01-16T08:14:07.584747Z"
    }
   },
   "outputs": [],
   "source": [
    "b_outputs = np.vstack([neg_b_output, redspot_b_output, angio_b_output, active_b_output, ero_b_output, ulcer_b_output, str_b_output])\n",
    "labels = np.vstack([neg_label, redspot_label, angio_label, active_label, ero_label, ulcer_label, str_label])\n",
    "\n",
    "b_CM = cls.con_mat(labels, b_outputs)"
   ]
  },
  {
   "cell_type": "code",
   "execution_count": 30,
   "metadata": {
    "ExecuteTime": {
     "end_time": "2020-01-16T08:14:07.957303Z",
     "start_time": "2020-01-16T08:14:07.670193Z"
    }
   },
   "outputs": [
    {
     "data": {
      "image/png": "[encoded data removed]",
      "text/plain": [
       "<Figure size 1152x576 with 2 Axes>"
      ]
     },
     "metadata": {
      "needs_background": "light"
     },
     "output_type": "display_data"
    }
   ],
   "source": [
    "plt.figure(figsize=(16, 8))\n",
    "plt.subplot(121)\n",
    "cls.plot_cm(b_CM, value_size = 25, label_size = 20)\n",
    "plt.grid(False)\n",
    "plt.subplot(122)\n",
    "cls.plot_cm(b_CM, value_size = 25, label_size = 20, mode = 'num')\n",
    "plt.grid(False)\n",
    "plt.show()"
   ]
  },
  {
   "cell_type": "markdown",
   "metadata": {},
   "source": [
    "## ROC curve"
   ]
  },
  {
   "cell_type": "code",
   "execution_count": 31,
   "metadata": {
    "ExecuteTime": {
     "end_time": "2020-01-16T08:14:07.965856Z",
     "start_time": "2020-01-16T08:14:07.959843Z"
    }
   },
   "outputs": [],
   "source": [
    "from scipy.stats import sem, t\n",
    "from scipy import mean\n",
    "\n",
    "def conf_interval(data, conf_level = 0.95, mode = 'value', metric = 'Accr'):\n",
    "    n = len(data)\n",
    "    m = mean(data)\n",
    "    std_err = sem(data)\n",
    "    h = std_err * t.ppf((1 + conf_level) / 2, n - 1)\n",
    "\n",
    "    start = m - h\n",
    "    end = m + h\n",
    "    \n",
    "    if mode == 'value':\n",
    "        return m, start, end\n",
    "    elif mode == 'print':\n",
    "        return print(\"{} --- {:.2f} ({:.2f} ~ {:.2f})\".format(metric, m, start, end))"
   ]
  },
  {
   "cell_type": "code",
   "execution_count": 32,
   "metadata": {
    "ExecuteTime": {
     "end_time": "2020-01-16T08:14:07.991101Z",
     "start_time": "2020-01-16T08:14:07.970080Z"
    }
   },
   "outputs": [],
   "source": [
    "from sklearn.model_selection import KFold\n",
    "\n",
    "def k_fold_idx(n_fold, dataset):\n",
    "    kf = KFold(n_splits = n_fold, shuffle = True)\n",
    "    train_idxs = []\n",
    "    test_idxs = []\n",
    "    for train_idx, test_idx in kf.split(dataset):\n",
    "        train_idxs.append(train_idx)\n",
    "        test_idxs.append(test_idx)\n",
    "    return train_idxs, test_idxs"
   ]
  },
  {
   "cell_type": "code",
   "execution_count": 33,
   "metadata": {
    "ExecuteTime": {
     "end_time": "2020-01-16T08:14:08.012581Z",
     "start_time": "2020-01-16T08:14:07.993895Z"
    }
   },
   "outputs": [],
   "source": [
    "n_g = 10\n",
    "\n",
    "_, neg_idxs = k_fold_idx(n_fold = n_g, dataset = neg_label)\n",
    "_, redspot_idxs = k_fold_idx(n_fold = n_g, dataset = redspot_label)\n",
    "_, angio_idxs = k_fold_idx(n_fold = n_g, dataset = angio_label)\n",
    "_, active_idxs = k_fold_idx(n_fold = n_g, dataset = active_label)\n",
    "_, ero_idxs = k_fold_idx(n_fold = n_g, dataset = ero_label)\n",
    "_, ulcer_idxs = k_fold_idx(n_fold = n_g, dataset = ulcer_label)\n",
    "_, str_idxs = k_fold_idx(n_fold = n_g, dataset = str_label)"
   ]
  },
  {
   "cell_type": "code",
   "execution_count": 34,
   "metadata": {
    "ExecuteTime": {
     "end_time": "2020-01-16T08:14:08.070941Z",
     "start_time": "2020-01-16T08:14:08.014840Z"
    },
    "scrolled": false
   },
   "outputs": [],
   "source": [
    "from sklearn.metrics import roc_curve, auc\n",
    "\n",
    "e_aucs, b_aucs = [], []\n",
    "\n",
    "for n_idx, r_idx, an_idx, ac_idx, e_idx, u_idx, s_idx in zip(neg_idxs, redspot_idxs, angio_idxs, active_idxs,\n",
    "                                                               ero_idxs, ulcer_idxs, str_idxs):\n",
    "    \n",
    "    b_outputs = np.vstack([neg_b_output[n_idx], redspot_b_output[r_idx], angio_b_output[an_idx], active_b_output[ac_idx], \n",
    "                           ero_b_output[e_idx], ulcer_b_output[u_idx], str_b_output[s_idx]])\n",
    "    e_outputs = np.vstack([neg_e_output[n_idx], redspot_e_output[r_idx], angio_e_output[an_idx], active_e_output[ac_idx], \n",
    "                           ero_e_output[e_idx], ulcer_e_output[u_idx], str_e_output[s_idx]])\n",
    "    labels = np.vstack([neg_label[n_idx], redspot_label[r_idx], angio_label[an_idx], active_label[ac_idx], \n",
    "                        ero_label[e_idx], ulcer_label[u_idx], str_label[s_idx]])\n",
    "    e_fpr, e_tpr, thresholds = roc_curve(labels[:, 1], e_outputs[:,1])\n",
    "    b_fpr, b_tpr, thresholds = roc_curve(labels[:, 1], b_outputs[:,1])\n",
    "    e_aucs.append(auc(e_fpr, e_tpr))\n",
    "    b_aucs.append(auc(b_fpr, b_tpr))"
   ]
  },
  {
   "cell_type": "code",
   "execution_count": 35,
   "metadata": {
    "ExecuteTime": {
     "end_time": "2020-01-16T08:14:08.648538Z",
     "start_time": "2020-01-16T08:14:08.072874Z"
    }
   },
   "outputs": [
    {
     "name": "stderr",
     "output_type": "stream",
     "text": [
      "/usr/local/lib/python3.5/dist-packages/matplotlib/cbook/__init__.py:424: MatplotlibDeprecationWarning: \n",
      "Passing one of 'on', 'true', 'off', 'false' as a boolean is deprecated; use an actual boolean (True/False) instead.\n",
      "  warn_deprecated(\"2.2\", \"Passing one of 'on', 'true', 'off', 'false' as a \"\n"
     ]
    },
    {
     "data": {
      "image/png": "[encoded data removed]",
      "text/plain": [
       "<Figure size 720x576 with 1 Axes>"
      ]
     },
     "metadata": {
      "needs_background": "light"
     },
     "output_type": "display_data"
    },
    {
     "data": {
      "image/png": "[encoded data removed]",
      "text/plain": [
       "<Figure size 720x576 with 1 Axes>"
      ]
     },
     "metadata": {
      "needs_background": "light"
     },
     "output_type": "display_data"
    }
   ],
   "source": [
    "e_auc_m, e_auc_l, e_auc_u = conf_interval(e_aucs, mode = 'value')\n",
    "b_auc_m, b_auc_l, b_auc_u = conf_interval(b_aucs, mode = 'value')\n",
    "\n",
    "b_outputs = np.vstack([neg_b_output, redspot_b_output, angio_b_output, active_b_output, ero_b_output, ulcer_b_output, str_b_output])\n",
    "e_outputs = np.vstack([neg_e_output, redspot_e_output, angio_e_output, active_e_output, ero_e_output, ulcer_e_output, str_e_output])\n",
    "labels = np.vstack([neg_label, redspot_label, angio_label, active_label, ero_label, ulcer_label, str_label])\n",
    "\n",
    "e_fpr, e_tpr, thresholds = roc_curve(labels[:, 1], e_outputs[:,1])\n",
    "b_fpr, b_tpr, thresholds = roc_curve(labels[:, 1], b_outputs[:,1])\n",
    "\n",
    "fig = plt.figure(figsize=(10, 8))\n",
    "plt.plot(e_fpr, e_tpr, 'r-', label=\"Ensemble model, AUC: {:.4f} ({:.4f}~{:.4f}), 95 % CI\".format(e_auc_m, e_auc_l, e_auc_u))\n",
    "plt.plot(b_fpr, b_tpr, 'k-', label=\"Binary model, AUC: {:.4f} ({:.4f}~{:.4f}), 95 % CI\".format(b_auc_m, b_auc_l, b_auc_u))\n",
    "plt.xlabel('1 - Specificity', fontsize = 15)\n",
    "plt.ylabel('Sensitivity', fontsize = 15)\n",
    "plt.legend(fontsize = 12)\n",
    "plt.grid('on')\n",
    "fig.show()\n",
    "\n",
    "fig = plt.figure(figsize=(10, 8))\n",
    "plt.plot(e_fpr, e_tpr, 'r-', label=\"Ensemble model\")\n",
    "plt.plot(b_fpr, b_tpr, 'k-', label=\"Binary model\")\n",
    "plt.xlim([0.0, 0.1])\n",
    "plt.ylim([0.9, 1.0])\n",
    "plt.legend(fontsize = 20, loc = 4)\n",
    "fig.show()"
   ]
  },
  {
   "cell_type": "markdown",
   "metadata": {},
   "source": [
    "## Statistics"
   ]
  },
  {
   "cell_type": "markdown",
   "metadata": {},
   "source": [
    "![image](http://mblogthumb3.phinf.naver.net/20121114_106/istech7_1352875002440GYyqh_PNG/%B5%CE%C1%FD%B4%DC%C2%F7%C0%CC_%B0%CB%C1%A4%B9%E6%B9%FD%C8%E5%B8%A7%B5%B5.png?type=w2)\n",
    "\n",
    "![image](https://t1.daumcdn.net/cfile/tistory/2743524658F2520C2A)\n",
    "\n",
    "https://img1.daumcdn.net/thumb/R800x0/?scode=mtistory2&fname=https%3A%2F%2Ft1.daumcdn.net%2Fcfile%2Ftistory%2F1378B94E4F9C187F23"
   ]
  },
  {
   "cell_type": "code",
   "execution_count": 36,
   "metadata": {
    "ExecuteTime": {
     "end_time": "2020-01-16T08:14:08.833413Z",
     "start_time": "2020-01-16T08:14:08.650352Z"
    }
   },
   "outputs": [
    {
     "name": "stdout",
     "output_type": "stream",
     "text": [
      "(9672, 2)\n",
      "(9672, 2)\n",
      "(9671, 2)\n",
      "(9671, 2)\n",
      "(9671, 2)\n",
      "(9671, 2)\n",
      "(9671, 2)\n",
      "(9671, 2)\n",
      "(9671, 2)\n",
      "(9671, 2)\n"
     ]
    }
   ],
   "source": [
    "e_CM, b_CM = [], []\n",
    "\n",
    "for n_idx, r_idx, an_idx, ac_idx, e_idx, u_idx, s_idx in zip(neg_idxs, redspot_idxs, angio_idxs, active_idxs,\n",
    "                                                               ero_idxs, ulcer_idxs, str_idxs):\n",
    "    \n",
    "    b_outputs = np.vstack([neg_b_output[n_idx], redspot_b_output[r_idx], angio_b_output[an_idx], active_b_output[ac_idx], \n",
    "                           ero_b_output[e_idx], ulcer_b_output[u_idx], str_b_output[s_idx]])\n",
    "    e_outputs = np.vstack([neg_e_output[n_idx], redspot_e_output[r_idx], angio_e_output[an_idx], active_e_output[ac_idx], \n",
    "                           ero_e_output[e_idx], ulcer_e_output[u_idx], str_e_output[s_idx]])\n",
    "    labels = np.vstack([neg_label[n_idx], redspot_label[r_idx], angio_label[an_idx], active_label[ac_idx], \n",
    "                        ero_label[e_idx], ulcer_label[u_idx], str_label[s_idx]])\n",
    "    print(labels.shape)\n",
    "    e_CM.append(cls.con_mat(labels, e_outputs)), b_CM.append(cls.con_mat(labels, b_outputs))"
   ]
  },
  {
   "cell_type": "code",
   "execution_count": 37,
   "metadata": {
    "ExecuteTime": {
     "end_time": "2020-01-16T08:14:08.840044Z",
     "start_time": "2020-01-16T08:14:08.835444Z"
    }
   },
   "outputs": [],
   "source": [
    "b_metrices = []\n",
    "e_metrices = []\n",
    "\n",
    "for e_cm, b_cm in zip(e_CM, b_CM):\n",
    "    b_metrices.append(cls.cm2metric(b_cm))\n",
    "    e_metrices.append(cls.cm2metric(e_cm))\n",
    "    \n",
    "b_metrices = np.asarray(b_metrices)\n",
    "e_metrices = np.asarray(e_metrices)"
   ]
  },
  {
   "cell_type": "code",
   "execution_count": 38,
   "metadata": {
    "ExecuteTime": {
     "end_time": "2020-01-16T08:14:08.848727Z",
     "start_time": "2020-01-16T08:14:08.843903Z"
    }
   },
   "outputs": [
    {
     "data": {
      "text/plain": [
       "array([[0.90612076, 0.89473684, 0.98965517, 0.56164384, 0.99842685],\n",
       "       [0.90622415, 0.89461936, 0.99137931, 0.56179775, 0.99868852],\n",
       "       [0.90373281, 0.89332707, 0.98015531, 0.55577299, 0.9969844 ],\n",
       "       [0.9031124 , 0.89215226, 0.98360656, 0.55393586, 0.99750427],\n",
       "       [0.90352601, 0.89203477, 0.98792062, 0.55474806, 0.99815959],\n",
       "       [0.90569745, 0.89426692, 0.98964625, 0.56033219, 0.99842602],\n",
       "       [0.90921311, 0.89884868, 0.98533218, 0.57014478, 0.99778299],\n",
       "       [0.90497363, 0.8943844 , 0.98274374, 0.55888126, 0.9973798 ],\n",
       "       [0.9033192 , 0.89262218, 0.98188093, 0.5545809 , 0.99724373],\n",
       "       [0.90352601, 0.89179981, 0.98964625, 0.55464217, 0.99842168]])"
      ]
     },
     "execution_count": 38,
     "metadata": {},
     "output_type": "execute_result"
    }
   ],
   "source": [
    "b_metrices"
   ]
  },
  {
   "cell_type": "code",
   "execution_count": 39,
   "metadata": {
    "ExecuteTime": {
     "end_time": "2020-01-16T08:14:08.854516Z",
     "start_time": "2020-01-16T08:14:08.850428Z"
    }
   },
   "outputs": [
    {
     "data": {
      "text/plain": [
       "array([[0.9103598 , 0.9118891 , 0.89913793, 0.58170664, 0.9851504 ],\n",
       "       [0.90756824, 0.90566259, 0.92155172, 0.57104701, 0.98833333],\n",
       "       [0.90941992, 0.91365132, 0.8783434 , 0.58071877, 0.98219247],\n",
       "       [0.90631786, 0.91024436, 0.87748059, 0.57102751, 0.98200253],\n",
       "       [0.9085927 , 0.91329887, 0.87402934, 0.57852656, 0.98156566],\n",
       "       [0.91324579, 0.91635338, 0.89042278, 0.59174312, 0.98397881],\n",
       "       [0.91665805, 0.9175282 , 0.91026747, 0.60045532, 0.98685873],\n",
       "       [0.9139696 , 0.91647086, 0.89559965, 0.59348199, 0.98472608],\n",
       "       [0.91128115, 0.91353383, 0.89473684, 0.58488438, 0.98455305],\n",
       "       [0.91055734, 0.91282895, 0.89387403, 0.58267717, 0.98441657]])"
      ]
     },
     "execution_count": 39,
     "metadata": {},
     "output_type": "execute_result"
    }
   ],
   "source": [
    "e_metrices"
   ]
  },
  {
   "cell_type": "code",
   "execution_count": 40,
   "metadata": {
    "ExecuteTime": {
     "end_time": "2020-01-16T08:14:08.870131Z",
     "start_time": "2020-01-16T08:14:08.856048Z"
    }
   },
   "outputs": [
    {
     "name": "stdout",
     "output_type": "stream",
     "text": [
      "95 % CI\n",
      "\n",
      "Binary model\n",
      "Accr --- 90.49 (90.36 ~ 90.63)\n",
      "Sen --- 89.39 (89.24 ~ 89.54)\n",
      "Spec --- 98.62 (98.34 ~ 98.90)\n",
      "NPV --- 55.86 (55.50 ~ 56.23)\n",
      "PPV --- 99.79 (99.75 ~ 99.83)\n",
      "\n",
      "Ensemble model\n",
      "Accr --- 91.08 (90.86 ~ 91.30)\n",
      "Sen --- 91.31 (91.07 ~ 91.56)\n",
      "Spec --- 89.35 (88.29 ~ 90.42)\n",
      "NPV --- 58.36 (57.69 ~ 59.04)\n",
      "PPV --- 98.44 (98.29 ~ 98.59)\n"
     ]
    }
   ],
   "source": [
    "print(\"95 % CI\\n\")\n",
    "\n",
    "print('Binary model')\n",
    "conf_interval(100*b_metrices[:, 0], mode = 'print', metric = 'Accr')\n",
    "conf_interval(100*b_metrices[:, 1], mode = 'print', metric = 'Sen')\n",
    "conf_interval(100*b_metrices[:, 2], mode = 'print', metric = 'Spec')\n",
    "conf_interval(100*b_metrices[:, 3], mode = 'print', metric = 'NPV')\n",
    "conf_interval(100*b_metrices[:, 4], mode = 'print', metric = 'PPV')\n",
    "print('')\n",
    "print('Ensemble model')\n",
    "conf_interval(100*e_metrices[:, 0], mode = 'print', metric = 'Accr')\n",
    "conf_interval(100*e_metrices[:, 1], mode = 'print', metric = 'Sen')\n",
    "conf_interval(100*e_metrices[:, 2], mode = 'print', metric = 'Spec')\n",
    "conf_interval(100*e_metrices[:, 3], mode = 'print', metric = 'NPV')\n",
    "conf_interval(100*e_metrices[:, 4], mode = 'print', metric = 'PPV')"
   ]
  },
  {
   "cell_type": "markdown",
   "metadata": {},
   "source": [
    "### Equal-Variance Test"
   ]
  },
  {
   "cell_type": "code",
   "execution_count": 41,
   "metadata": {
    "ExecuteTime": {
     "end_time": "2020-01-16T08:14:08.883355Z",
     "start_time": "2020-01-16T08:14:08.871765Z"
    }
   },
   "outputs": [
    {
     "name": "stdout",
     "output_type": "stream",
     "text": [
      "bartlett test for accuracy: 1.944, pvalue=0.163185436086\n",
      "bartlett test for sensitivity: 2.090, pvalue=0.148264678357\n",
      "bartlett test for specificity: 11.931, pvalue=0.000552052483\n",
      "bartlett test for negative predictive values: 3.095, pvalue=0.078551110262\n",
      "bartlett test for positive predictive values: 11.156, pvalue=0.000837597530\n"
     ]
    }
   ],
   "source": [
    "from scipy.stats import bartlett\n",
    "\n",
    "accr_stats = bartlett(100*b_metrices[:, 0], 100*e_metrices[:, 0])\n",
    "sens_stats = bartlett(100*b_metrices[:, 1], 100*e_metrices[:, 1])\n",
    "spec_stats = bartlett(100*b_metrices[:, 2], 100*e_metrices[:, 2])\n",
    "npv_stats = bartlett(100*b_metrices[:, 3], 100*e_metrices[:, 3])\n",
    "ppv_stats = bartlett(100*b_metrices[:, 4], 100*e_metrices[:, 4])\n",
    "\n",
    "print(\"bartlett test for accuracy: {:.3f}, pvalue={:.12f}\".format(accr_stats[0], accr_stats[1]))\n",
    "print(\"bartlett test for sensitivity: {:.3f}, pvalue={:.12f}\".format(sens_stats[0], sens_stats[1]))\n",
    "print(\"bartlett test for specificity: {:.3f}, pvalue={:.12f}\".format(spec_stats[0], spec_stats[1]))\n",
    "print(\"bartlett test for negative predictive values: {:.3f}, pvalue={:.12f}\".format(npv_stats[0], npv_stats[1]))\n",
    "print(\"bartlett test for positive predictive values: {:.3f}, pvalue={:.12f}\".format(ppv_stats[0], ppv_stats[1]))"
   ]
  },
  {
   "cell_type": "code",
   "execution_count": 42,
   "metadata": {
    "ExecuteTime": {
     "end_time": "2020-01-16T08:14:08.897025Z",
     "start_time": "2020-01-16T08:14:08.885301Z"
    }
   },
   "outputs": [
    {
     "name": "stdout",
     "output_type": "stream",
     "text": [
      "levene test for accuracy: 1.321, pvalue=0.265448496379\n",
      "levene test for sensitivity: 0.988, pvalue=0.333347388720\n",
      "levene test for specificity: 5.509, pvalue=0.030552453106\n",
      "levene test for negative predictive values: 2.033, pvalue=0.171020304417\n",
      "levene test for positive predictive values: 5.308, pvalue=0.033369365732\n"
     ]
    }
   ],
   "source": [
    "from scipy.stats import levene\n",
    "\n",
    "accr_stats = levene(100*b_metrices[:, 0], 100*e_metrices[:, 0])\n",
    "sens_stats = levene(100*b_metrices[:, 1], 100*e_metrices[:, 1])\n",
    "spec_stats = levene(100*b_metrices[:, 2], 100*e_metrices[:, 2])\n",
    "npv_stats = levene(100*b_metrices[:, 3], 100*e_metrices[:, 3])\n",
    "ppv_stats = levene(100*b_metrices[:, 4], 100*e_metrices[:, 4])\n",
    "\n",
    "print(\"levene test for accuracy: {:.3f}, pvalue={:.12f}\".format(accr_stats[0], accr_stats[1]))\n",
    "print(\"levene test for sensitivity: {:.3f}, pvalue={:.12f}\".format(sens_stats[0], sens_stats[1]))\n",
    "print(\"levene test for specificity: {:.3f}, pvalue={:.12f}\".format(spec_stats[0], spec_stats[1]))\n",
    "print(\"levene test for negative predictive values: {:.3f}, pvalue={:.12f}\".format(npv_stats[0], npv_stats[1]))\n",
    "print(\"levene test for positive predictive values: {:.3f}, pvalue={:.12f}\".format(ppv_stats[0], ppv_stats[1]))"
   ]
  },
  {
   "cell_type": "markdown",
   "metadata": {},
   "source": [
    "### Normality Test"
   ]
  },
  {
   "cell_type": "code",
   "execution_count": 43,
   "metadata": {
    "ExecuteTime": {
     "end_time": "2020-01-16T08:14:08.907387Z",
     "start_time": "2020-01-16T08:14:08.898688Z"
    }
   },
   "outputs": [
    {
     "name": "stdout",
     "output_type": "stream",
     "text": [
      "Kolmogorov-Smirnov test for accuracy: 0.900, pvalue=0.000216501764\n",
      "Kolmogorov-Smirnov test for sensitivity: 1.000, pvalue=0.000010825088\n",
      "Kolmogorov-Smirnov test for specificity: 1.000, pvalue=0.000010825088\n",
      "Kolmogorov-Smirnov test for negative predictive values: 1.000, pvalue=0.000010825088\n",
      "Kolmogorov-Smirnov test for positive predictive values: 1.000, pvalue=0.000010825088\n"
     ]
    }
   ],
   "source": [
    "from scipy.stats import ks_2samp\n",
    "\n",
    "accr_stats = ks_2samp(100*b_metrices[:, 0], 100*e_metrices[:, 0])\n",
    "sens_stats = ks_2samp(100*b_metrices[:, 1], 100*e_metrices[:, 1])\n",
    "spec_stats = ks_2samp(100*b_metrices[:, 2], 100*e_metrices[:, 2])\n",
    "npv_stats = ks_2samp(100*b_metrices[:, 3], 100*e_metrices[:, 3])\n",
    "ppv_stats = ks_2samp(100*b_metrices[:, 4], 100*e_metrices[:, 4])\n",
    "\n",
    "print(\"Kolmogorov-Smirnov test for accuracy: {:.3f}, pvalue={:.12f}\".format(accr_stats[0], accr_stats[1]))\n",
    "print(\"Kolmogorov-Smirnov test for sensitivity: {:.3f}, pvalue={:.12f}\".format(sens_stats[0], sens_stats[1]))\n",
    "print(\"Kolmogorov-Smirnov test for specificity: {:.3f}, pvalue={:.12f}\".format(spec_stats[0], spec_stats[1]))\n",
    "print(\"Kolmogorov-Smirnov test for negative predictive values: {:.3f}, pvalue={:.12f}\".format(npv_stats[0], npv_stats[1]))\n",
    "print(\"Kolmogorov-Smirnov test for positive predictive values: {:.3f}, pvalue={:.12f}\".format(ppv_stats[0], ppv_stats[1]))"
   ]
  },
  {
   "cell_type": "markdown",
   "metadata": {},
   "source": [
    "### Wilcoxon signed-ranks test (not normal and paired group)"
   ]
  },
  {
   "cell_type": "code",
   "execution_count": 44,
   "metadata": {
    "ExecuteTime": {
     "end_time": "2020-01-16T08:14:08.919133Z",
     "start_time": "2020-01-16T08:14:08.909151Z"
    }
   },
   "outputs": [
    {
     "name": "stdout",
     "output_type": "stream",
     "text": [
      "wilcoxon signed-ranks test for accuracy: 0.000, pvalue=0.005062032126\n",
      "wilcoxon signed-ranks test for sensitivity: 0.000, pvalue=0.005062032126\n",
      "wilcoxon signed-ranks test for specificity: 0.000, pvalue=0.005033508201\n",
      "wilcoxon signed-ranks test for negative predictive values: 0.000, pvalue=0.005062032126\n",
      "wilcoxon signed-ranks test for positive predictive values: 0.000, pvalue=0.005062032126\n"
     ]
    }
   ],
   "source": [
    "from scipy.stats import wilcoxon\n",
    "\n",
    "accr_stats = wilcoxon(100*b_metrices[:, 0], 100*e_metrices[:, 0])\n",
    "sens_stats = wilcoxon(100*b_metrices[:, 1], 100*e_metrices[:, 1])\n",
    "spec_stats = wilcoxon(100*b_metrices[:, 2], 100*e_metrices[:, 2])\n",
    "npv_stats = wilcoxon(100*b_metrices[:, 3], 100*e_metrices[:, 3])\n",
    "ppv_stats = wilcoxon(100*b_metrices[:, 4], 100*e_metrices[:, 4])\n",
    "\n",
    "print(\"wilcoxon signed-ranks test for accuracy: {:.3f}, pvalue={:.12f}\".format(accr_stats[0], accr_stats[1]))\n",
    "print(\"wilcoxon signed-ranks test for sensitivity: {:.3f}, pvalue={:.12f}\".format(sens_stats[0], sens_stats[1]))\n",
    "print(\"wilcoxon signed-ranks test for specificity: {:.3f}, pvalue={:.12f}\".format(spec_stats[0], spec_stats[1]))\n",
    "print(\"wilcoxon signed-ranks test for negative predictive values: {:.3f}, pvalue={:.12f}\".format(npv_stats[0], npv_stats[1]))\n",
    "print(\"wilcoxon signed-ranks test for positive predictive values: {:.3f}, pvalue={:.12f}\".format(ppv_stats[0], ppv_stats[1]))"
   ]
  },
  {
   "cell_type": "markdown",
   "metadata": {},
   "source": [
    "### Paired two-sample t-Test (normal and paired group)"
   ]
  },
  {
   "cell_type": "code",
   "execution_count": 45,
   "metadata": {
    "ExecuteTime": {
     "end_time": "2020-01-16T08:14:08.930196Z",
     "start_time": "2020-01-16T08:14:08.920869Z"
    }
   },
   "outputs": [
    {
     "name": "stdout",
     "output_type": "stream",
     "text": [
      "t-statistics for accuracy: -7.721, pvalue=0.000029366200\n",
      "t-statistics for sensitivity: -18.220, pvalue=0.000000020628\n",
      "t-statistics for specificity: 21.541, pvalue=0.000000004713\n",
      "t-statistics for negative predictive values: -10.242, pvalue=0.000002931016\n",
      "t-statistics for positive predictive values: 21.894, pvalue=0.000000004082\n"
     ]
    }
   ],
   "source": [
    "from scipy.stats import ttest_rel\n",
    "\n",
    "accr_stats = ttest_rel(100*b_metrices[:, 0], 100*e_metrices[:, 0])\n",
    "sens_stats = ttest_rel(100*b_metrices[:, 1], 100*e_metrices[:, 1])\n",
    "spec_stats = ttest_rel(100*b_metrices[:, 2], 100*e_metrices[:, 2])\n",
    "npv_stats = ttest_rel(100*b_metrices[:, 3], 100*e_metrices[:, 3])\n",
    "ppv_stats = ttest_rel(100*b_metrices[:, 4], 100*e_metrices[:, 4])\n",
    "\n",
    "print(\"t-statistics for accuracy: {:.3f}, pvalue={:.12f}\".format(accr_stats[0], accr_stats[1]))\n",
    "print(\"t-statistics for sensitivity: {:.3f}, pvalue={:.12f}\".format(sens_stats[0], sens_stats[1]))\n",
    "print(\"t-statistics for specificity: {:.3f}, pvalue={:.12f}\".format(spec_stats[0], spec_stats[1]))\n",
    "print(\"t-statistics for negative predictive values: {:.3f}, pvalue={:.12f}\".format(npv_stats[0], npv_stats[1]))\n",
    "print(\"t-statistics for positive predictive values: {:.3f}, pvalue={:.12f}\".format(ppv_stats[0], ppv_stats[1]))"
   ]
  },
  {
   "cell_type": "code",
   "execution_count": 46,
   "metadata": {
    "ExecuteTime": {
     "end_time": "2020-01-16T08:14:09.759333Z",
     "start_time": "2020-01-16T08:14:08.931842Z"
    }
   },
   "outputs": [
    {
     "data": {
      "image/png": "[encoded data removed]",
      "text/plain": [
       "<Figure size 1440x216 with 5 Axes>"
      ]
     },
     "metadata": {
      "needs_background": "light"
     },
     "output_type": "display_data"
    }
   ],
   "source": [
    "## Distribution by metric\n",
    "\n",
    "import seaborn as sns\n",
    "\n",
    "fig, axes = plt.subplots(ncols = 5)\n",
    "fig.set_size_inches(20, 3)\n",
    "\n",
    "sns.set_style({'axes.grid' : True})\n",
    "\n",
    "sns.distplot(b_metrices[:, 0], color='k', ax = axes[0])\n",
    "sns.distplot(e_metrices[:, 0], color='r', ax = axes[0])\n",
    "sns.distplot(b_metrices[:, 1], color='k', ax = axes[1])\n",
    "sns.distplot(e_metrices[:, 1], color='r', ax = axes[1])\n",
    "sns.distplot(b_metrices[:, 2], color='k', ax = axes[2])\n",
    "sns.distplot(e_metrices[:, 2], color='r', ax = axes[2])\n",
    "sns.distplot(b_metrices[:, 3], color='k', ax = axes[3])\n",
    "sns.distplot(e_metrices[:, 3], color='r', ax = axes[3])\n",
    "sns.distplot(b_metrices[:, 4], color='k', ax = axes[4])\n",
    "sns.distplot(e_metrices[:, 4], color='r', ax = axes[4])\n",
    "\n",
    "fig.show()"
   ]
  },
  {
   "cell_type": "code",
   "execution_count": null,
   "metadata": {},
   "outputs": [],
   "source": []
  },
  {
   "cell_type": "code",
   "execution_count": null,
   "metadata": {},
   "outputs": [],
   "source": []
  },
  {
   "cell_type": "code",
   "execution_count": null,
   "metadata": {},
   "outputs": [],
   "source": []
  }
 ],
 "metadata": {
  "hide_input": false,
  "kernelspec": {
   "display_name": "Python 3",
   "language": "python",
   "name": "python3"
  },
  "language_info": {
   "codemirror_mode": {
    "name": "ipython",
    "version": 3
   },
   "file_extension": ".py",
   "mimetype": "text/x-python",
   "name": "python",
   "nbconvert_exporter": "python",
   "pygments_lexer": "ipython3",
   "version": "3.5.2"
  },
  "toc": {
   "base_numbering": 1,
   "nav_menu": {},
   "number_sections": true,
   "sideBar": true,
   "skip_h1_title": false,
   "title_cell": "Table of Contents",
   "title_sidebar": "Contents",
   "toc_cell": false,
   "toc_position": {},
   "toc_section_display": true,
   "toc_window_display": false
  }
 },
 "nbformat": 4,
 "nbformat_minor": 2
}
