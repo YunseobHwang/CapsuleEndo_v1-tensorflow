{
 "cells": [
  {
   "cell_type": "code",
   "execution_count": 1,
   "metadata": {
    "ExecuteTime": {
     "end_time": "2020-07-10T08:30:02.549526Z",
     "start_time": "2020-07-10T08:29:56.425350Z"
    }
   },
   "outputs": [
    {
     "name": "stdout",
     "output_type": "stream",
     "text": [
      "Fri Jul 10 17:30:01 2020       \r\n",
      "+-----------------------------------------------------------------------------+\r\n",
      "| NVIDIA-SMI 430.26       Driver Version: 430.26       CUDA Version: 10.2     |\r\n",
      "|-------------------------------+----------------------+----------------------+\r\n",
      "| GPU  Name        Persistence-M| Bus-Id        Disp.A | Volatile Uncorr. ECC |\r\n",
      "| Fan  Temp  Perf  Pwr:Usage/Cap|         Memory-Usage | GPU-Util  Compute M. |\r\n",
      "|===============================+======================+======================|\r\n",
      "|   0  GeForce RTX 208...  Off  | 00000000:1D:00.0 Off |                  N/A |\r\n",
      "| 28%   39C    P0    54W / 250W |      0MiB / 11019MiB |      0%      Default |\r\n",
      "+-------------------------------+----------------------+----------------------+\r\n",
      "|   1  GeForce RTX 208...  Off  | 00000000:1E:00.0 Off |                  N/A |\r\n",
      "| 29%   41C    P0    62W / 250W |      0MiB / 11019MiB |      0%      Default |\r\n",
      "+-------------------------------+----------------------+----------------------+\r\n",
      "|   2  GeForce RTX 208...  Off  | 00000000:1F:00.0 Off |                  N/A |\r\n",
      "| 27%   38C    P0    62W / 250W |      0MiB / 11019MiB |      0%      Default |\r\n",
      "+-------------------------------+----------------------+----------------------+\r\n",
      "|   3  GeForce RTX 208...  Off  | 00000000:20:00.0 Off |                  N/A |\r\n",
      "| 26%   36C    P0    65W / 250W |      0MiB / 11019MiB |      0%      Default |\r\n",
      "+-------------------------------+----------------------+----------------------+\r\n",
      "|   4  GeForce RTX 208...  Off  | 00000000:21:00.0 Off |                  N/A |\r\n",
      "| 30%   41C    P0    66W / 250W |      0MiB / 11019MiB |      1%      Default |\r\n",
      "+-------------------------------+----------------------+----------------------+\r\n",
      "|   5  GeForce RTX 208...  Off  | 00000000:22:00.0 Off |                  N/A |\r\n",
      "| 30%   39C    P0    59W / 250W |      0MiB / 11019MiB |      1%      Default |\r\n",
      "+-------------------------------+----------------------+----------------------+\r\n",
      "|   6  GeForce RTX 208...  Off  | 00000000:23:00.0 Off |                  N/A |\r\n",
      "| 18%   40C    P0     1W / 250W |      0MiB / 11019MiB |      0%      Default |\r\n",
      "+-------------------------------+----------------------+----------------------+\r\n",
      "|   7  GeForce RTX 208...  Off  | 00000000:24:00.0 Off |                  N/A |\r\n",
      "| 27%   29C    P8     1W / 250W |    199MiB / 11019MiB |      0%      Default |\r\n",
      "+-------------------------------+----------------------+----------------------+\r\n",
      "                                                                               \r\n",
      "+-----------------------------------------------------------------------------+\r\n",
      "| Processes:                                                       GPU Memory |\r\n",
      "|  GPU       PID   Type   Process name                             Usage      |\r\n",
      "|=============================================================================|\r\n",
      "|    7     11636      C   /usr/bin/python3                             189MiB |\r\n",
      "+-----------------------------------------------------------------------------+\r\n"
     ]
    }
   ],
   "source": [
    "!nvidia-smi"
   ]
  },
  {
   "cell_type": "code",
   "execution_count": 2,
   "metadata": {
    "ExecuteTime": {
     "end_time": "2020-07-10T08:30:07.606901Z",
     "start_time": "2020-07-10T08:30:05.529030Z"
    }
   },
   "outputs": [
    {
     "name": "stderr",
     "output_type": "stream",
     "text": [
      "/usr/local/lib/python3.5/dist-packages/tensorflow/python/framework/dtypes.py:516: FutureWarning: Passing (type, 1) or '1type' as a synonym of type is deprecated; in a future version of numpy, it will be understood as (type, (1,)) / '(1,)type'.\n",
      "  _np_qint8 = np.dtype([(\"qint8\", np.int8, 1)])\n",
      "/usr/local/lib/python3.5/dist-packages/tensorflow/python/framework/dtypes.py:517: FutureWarning: Passing (type, 1) or '1type' as a synonym of type is deprecated; in a future version of numpy, it will be understood as (type, (1,)) / '(1,)type'.\n",
      "  _np_quint8 = np.dtype([(\"quint8\", np.uint8, 1)])\n",
      "/usr/local/lib/python3.5/dist-packages/tensorflow/python/framework/dtypes.py:518: FutureWarning: Passing (type, 1) or '1type' as a synonym of type is deprecated; in a future version of numpy, it will be understood as (type, (1,)) / '(1,)type'.\n",
      "  _np_qint16 = np.dtype([(\"qint16\", np.int16, 1)])\n",
      "/usr/local/lib/python3.5/dist-packages/tensorflow/python/framework/dtypes.py:519: FutureWarning: Passing (type, 1) or '1type' as a synonym of type is deprecated; in a future version of numpy, it will be understood as (type, (1,)) / '(1,)type'.\n",
      "  _np_quint16 = np.dtype([(\"quint16\", np.uint16, 1)])\n",
      "/usr/local/lib/python3.5/dist-packages/tensorflow/python/framework/dtypes.py:520: FutureWarning: Passing (type, 1) or '1type' as a synonym of type is deprecated; in a future version of numpy, it will be understood as (type, (1,)) / '(1,)type'.\n",
      "  _np_qint32 = np.dtype([(\"qint32\", np.int32, 1)])\n",
      "/usr/local/lib/python3.5/dist-packages/tensorflow/python/framework/dtypes.py:525: FutureWarning: Passing (type, 1) or '1type' as a synonym of type is deprecated; in a future version of numpy, it will be understood as (type, (1,)) / '(1,)type'.\n",
      "  np_resource = np.dtype([(\"resource\", np.ubyte, 1)])\n",
      "/usr/local/lib/python3.5/dist-packages/tensorboard/compat/tensorflow_stub/dtypes.py:541: FutureWarning: Passing (type, 1) or '1type' as a synonym of type is deprecated; in a future version of numpy, it will be understood as (type, (1,)) / '(1,)type'.\n",
      "  _np_qint8 = np.dtype([(\"qint8\", np.int8, 1)])\n",
      "/usr/local/lib/python3.5/dist-packages/tensorboard/compat/tensorflow_stub/dtypes.py:542: FutureWarning: Passing (type, 1) or '1type' as a synonym of type is deprecated; in a future version of numpy, it will be understood as (type, (1,)) / '(1,)type'.\n",
      "  _np_quint8 = np.dtype([(\"quint8\", np.uint8, 1)])\n",
      "/usr/local/lib/python3.5/dist-packages/tensorboard/compat/tensorflow_stub/dtypes.py:543: FutureWarning: Passing (type, 1) or '1type' as a synonym of type is deprecated; in a future version of numpy, it will be understood as (type, (1,)) / '(1,)type'.\n",
      "  _np_qint16 = np.dtype([(\"qint16\", np.int16, 1)])\n",
      "/usr/local/lib/python3.5/dist-packages/tensorboard/compat/tensorflow_stub/dtypes.py:544: FutureWarning: Passing (type, 1) or '1type' as a synonym of type is deprecated; in a future version of numpy, it will be understood as (type, (1,)) / '(1,)type'.\n",
      "  _np_quint16 = np.dtype([(\"quint16\", np.uint16, 1)])\n",
      "/usr/local/lib/python3.5/dist-packages/tensorboard/compat/tensorflow_stub/dtypes.py:545: FutureWarning: Passing (type, 1) or '1type' as a synonym of type is deprecated; in a future version of numpy, it will be understood as (type, (1,)) / '(1,)type'.\n",
      "  _np_qint32 = np.dtype([(\"qint32\", np.int32, 1)])\n",
      "/usr/local/lib/python3.5/dist-packages/tensorboard/compat/tensorflow_stub/dtypes.py:550: FutureWarning: Passing (type, 1) or '1type' as a synonym of type is deprecated; in a future version of numpy, it will be understood as (type, (1,)) / '(1,)type'.\n",
      "  np_resource = np.dtype([(\"resource\", np.ubyte, 1)])\n"
     ]
    }
   ],
   "source": [
    "import os\n",
    "os.environ[\"CUDA_DEVICE_ORDER\"]=\"PCI_BUS_ID\"\n",
    "os.environ[\"CUDA_VISIBLE_DEVICES\"]=\"0\"\n",
    "\n",
    "import numpy as np\n",
    "import matplotlib.pyplot as plt\n",
    "\n",
    "import sys\n",
    "sys.path.append('/mnt/disk1/project/SMhospital/capsule/ce_packages')\n",
    "\n",
    "from ce_utils import load_data, one_hot, test_batch_idxs\n",
    "from ce_utils import model_prob\n",
    "from ce_utils import classification_metric\n",
    "from ce_model_rev import binary_model, ensemble_model"
   ]
  },
  {
   "cell_type": "markdown",
   "metadata": {},
   "source": [
    "# Load Data"
   ]
  },
  {
   "cell_type": "code",
   "execution_count": 3,
   "metadata": {
    "ExecuteTime": {
     "end_time": "2020-07-10T08:30:07.820181Z",
     "start_time": "2020-07-10T08:30:07.796886Z"
    }
   },
   "outputs": [],
   "source": [
    "import glob\n",
    "import cv2\n",
    "\n",
    "def load_data(phase, cls, les = None, data = 'sm', data_dir = '/mnt/disk2/data/private_data/SMhospital/capsule/1 preprocessed', \n",
    "              extract_name = False, image_ch = 'bgr'):\n",
    "    \"\"\"\n",
    "    phase = 'train', 'test'\n",
    "    cls: [les]  \n",
    "      'n': ['neg']\n",
    "      'h': ['redspot', 'angio', 'active'], \n",
    "      'd': ['ero', 'ulc', 'str'],\n",
    "      'p': ['amp', 'lym', 'tum']}\n",
    "    \"\"\"\n",
    "    lesions = dict(neg = 'negative', \n",
    "                   redspot = 'red_spot', angio = 'angioectasia', active = 'active_bleeding', \n",
    "                   ero = 'erosion', ulcer = 'ulcer', str = 'stricture', \n",
    "                   amp = 'ampulla_of_vater', lym = 'lymphoid_follicles', tum = 'small_bowel_tumor')\n",
    "    classes = dict(n = 'negative', h = 'hemorrhagic', d = 'depressed', p = 'protruded')\n",
    "\n",
    "    path = os.path.join(data_dir, data, phase, classes[cls], lesions[les])\n",
    "    pathlist = glob.glob(path + '/*.jpg')\n",
    "    new_pathlist = []\n",
    "    for p in pathlist:\n",
    "        name = os.path.basename(p)\n",
    "        name_seg1 = name.split('___')[0]\n",
    "        if not ('f_' in name_seg1 or 'r1_' in name_seg1 or 'r2_' in name_seg1 or 'r3_' in name_seg1):\n",
    "            new_pathlist.append(p)\n",
    "    return load_image_from_path(new_pathlist, image_ch = image_ch, extract_name = extract_name)\n",
    "\n",
    "def load_image_from_path(pathlist,image_ch = 'bgr', extract_name = False):\n",
    "    data = []\n",
    "    for i in pathlist:\n",
    "        temp = cv2.imread(i)\n",
    "        if image_ch == 'bgr':\n",
    "            pass\n",
    "        elif image_ch == 'rgb':\n",
    "            temp = cv2.cvtColor(temp, cv2.COLOR_BGR2RGB)\n",
    "        elif image_ch == 'hsv':\n",
    "            temp = cv2.cvtColor(temp, cv2.COLOR_BGR2HSV)\n",
    "        data.append(temp)\n",
    "    if extract_name != False:\n",
    "        name = []\n",
    "        for i in pathlist:\n",
    "            name.append(os.path.basename(i))\n",
    "        return np.asarray(data), np.asarray(name)\n",
    "    else:\n",
    "        return np.asarray(data) "
   ]
  },
  {
   "cell_type": "code",
   "execution_count": 4,
   "metadata": {
    "ExecuteTime": {
     "end_time": "2020-07-10T08:30:08.763725Z",
     "start_time": "2020-07-10T08:30:08.708477Z"
    }
   },
   "outputs": [],
   "source": [
    "angio_img, angio_name = load_data('test', 'h', 'angio', data = 'sm_v2', extract_name = True)"
   ]
  },
  {
   "cell_type": "code",
   "execution_count": 5,
   "metadata": {
    "ExecuteTime": {
     "end_time": "2020-07-10T08:30:23.474174Z",
     "start_time": "2020-07-10T08:30:09.129222Z"
    }
   },
   "outputs": [],
   "source": [
    "neg_img, neg_name = load_data('test', 'n', 'neg', data = 'sm_v2', extract_name = True)\n",
    "redspot_img, redspot_name = load_data('test', 'h', 'redspot', data = 'sm_v2', extract_name = True)\n",
    "angio_img, angio_name = load_data('test', 'h', 'angio', data = 'sm_v2', extract_name = True)\n",
    "active_img, active_name = load_data('test', 'h', 'active', data = 'sm_v2', extract_name = True)\n",
    "ero_img, ero_name = load_data('test', 'd', 'ero', data = 'sm_v2', extract_name = True)\n",
    "ulcer_img, ulcer_name = load_data('test', 'd', 'ulcer', data = 'sm_v2', extract_name = True)\n",
    "str_img, str_name = load_data('test', 'd', 'str', data = 'sm_v2', extract_name = True)"
   ]
  },
  {
   "cell_type": "code",
   "execution_count": 6,
   "metadata": {
    "ExecuteTime": {
     "end_time": "2020-07-10T08:30:23.496240Z",
     "start_time": "2020-07-10T08:30:23.478358Z"
    }
   },
   "outputs": [
    {
     "name": "stdout",
     "output_type": "stream",
     "text": [
      "negative: (1561, 512, 512, 3) (1561, 2)\n",
      "red spot: (139, 512, 512, 3) (139, 2)\n",
      "angioectasia: (5, 512, 512, 3) (5, 2)\n",
      "active_bleeding: (108, 512, 512, 3) (108, 2)\n",
      "erosion: (185, 512, 512, 3) (185, 2)\n",
      "ulcer: (183, 512, 512, 3) (183, 2)\n",
      "stricture: (26, 512, 512, 3) (26, 2)\n"
     ]
    }
   ],
   "source": [
    "neg_label = one_hot(neg_img, 0)\n",
    "redspot_label = one_hot(redspot_img, 1)\n",
    "angio_label = one_hot(angio_img, 1)\n",
    "active_label = one_hot(active_img, 1)\n",
    "ero_label = one_hot(ero_img, 1)\n",
    "ulcer_label = one_hot(ulcer_img, 1)\n",
    "str_label = one_hot(str_img, 1)\n",
    "\n",
    "print(\"negative:\",neg_img.shape, neg_label.shape)\n",
    "print(\"red spot:\",redspot_img.shape, redspot_label.shape)\n",
    "print(\"angioectasia:\",angio_img.shape, angio_label.shape)\n",
    "print(\"active_bleeding:\",active_img.shape, active_label.shape)\n",
    "print(\"erosion:\",ero_img.shape, ero_label.shape)\n",
    "print(\"ulcer:\",ulcer_img.shape, ulcer_label.shape)\n",
    "print(\"stricture:\",str_img.shape, str_label.shape)"
   ]
  },
  {
   "cell_type": "code",
   "execution_count": 7,
   "metadata": {
    "ExecuteTime": {
     "end_time": "2020-07-10T08:30:23.505218Z",
     "start_time": "2020-07-10T08:30:23.499072Z"
    }
   },
   "outputs": [
    {
     "data": {
      "text/plain": [
       "252"
      ]
     },
     "execution_count": 7,
     "metadata": {},
     "output_type": "execute_result"
    }
   ],
   "source": [
    "len(redspot_name) + len(angio_name) + len(active_name)"
   ]
  },
  {
   "cell_type": "code",
   "execution_count": 8,
   "metadata": {
    "ExecuteTime": {
     "end_time": "2020-07-10T08:30:23.511442Z",
     "start_time": "2020-07-10T08:30:23.507285Z"
    }
   },
   "outputs": [
    {
     "data": {
      "text/plain": [
       "394"
      ]
     },
     "execution_count": 8,
     "metadata": {},
     "output_type": "execute_result"
    }
   ],
   "source": [
    "len(ero_name) + len(ulcer_name) + len(str_name)"
   ]
  },
  {
   "cell_type": "code",
   "execution_count": 9,
   "metadata": {
    "ExecuteTime": {
     "end_time": "2020-07-10T08:30:23.517420Z",
     "start_time": "2020-07-10T08:30:23.513075Z"
    }
   },
   "outputs": [
    {
     "data": {
      "text/plain": [
       "646"
      ]
     },
     "execution_count": 9,
     "metadata": {},
     "output_type": "execute_result"
    }
   ],
   "source": [
    "len(redspot_name) + len(angio_name) + len(active_name) + len(ero_name) + len(ulcer_name) + len(str_name)"
   ]
  },
  {
   "cell_type": "code",
   "execution_count": 10,
   "metadata": {
    "ExecuteTime": {
     "end_time": "2020-07-10T08:30:23.524152Z",
     "start_time": "2020-07-10T08:30:23.519129Z"
    }
   },
   "outputs": [
    {
     "data": {
      "text/plain": [
       "array([ 438, 1329,  348, ...,  872, 1272,  469])"
      ]
     },
     "execution_count": 10,
     "metadata": {},
     "output_type": "execute_result"
    }
   ],
   "source": [
    "np.random.choice(len(neg_name), 4522)"
   ]
  },
  {
   "cell_type": "code",
   "execution_count": 11,
   "metadata": {
    "ExecuteTime": {
     "end_time": "2020-07-10T08:30:24.591348Z",
     "start_time": "2020-07-10T08:30:23.526010Z"
    }
   },
   "outputs": [],
   "source": [
    "neg2_img = neg_img[np.random.choice(len(neg_name), 4522)]\n",
    "neg2_label = one_hot(neg2_img, 0)"
   ]
  },
  {
   "cell_type": "code",
   "execution_count": 12,
   "metadata": {
    "ExecuteTime": {
     "end_time": "2020-07-10T08:30:24.598927Z",
     "start_time": "2020-07-10T08:30:24.594842Z"
    }
   },
   "outputs": [
    {
     "data": {
      "text/plain": [
       "(4522, 512, 512, 3)"
      ]
     },
     "execution_count": 12,
     "metadata": {},
     "output_type": "execute_result"
    }
   ],
   "source": [
    "neg2_img.shape"
   ]
  },
  {
   "cell_type": "markdown",
   "metadata": {},
   "source": [
    "# Model Inference"
   ]
  },
  {
   "cell_type": "code",
   "execution_count": 13,
   "metadata": {
    "ExecuteTime": {
     "end_time": "2020-07-10T08:30:24.606233Z",
     "start_time": "2020-07-10T08:30:24.600569Z"
    }
   },
   "outputs": [],
   "source": [
    "nh_list = sorted([i[:-5] for i in os.listdir('./model') if 'meta' in i and 'ENTIRE2_NH' in i])\n",
    "nd_list = sorted([i[:-5] for i in os.listdir('./model') if 'meta' in i and 'ENTIRE2_ND' in i])\n",
    "b_list = sorted([i[:-5] for i in os.listdir('./model') if 'meta' in i and 'ENTIRE2_B' in i])"
   ]
  },
  {
   "cell_type": "code",
   "execution_count": 19,
   "metadata": {
    "ExecuteTime": {
     "end_time": "2020-01-20T07:32:31.824177Z",
     "start_time": "2020-01-20T07:32:31.816838Z"
    }
   },
   "outputs": [
    {
     "data": {
      "text/plain": [
       "['ENTIRE2_NH_2001060148_2540_val_acc_1.00_val_loss_0.034387',\n",
       " 'ENTIRE2_NH_2001060150_2870_val_acc_0.98_val_loss_0.027345',\n",
       " 'ENTIRE2_NH_2001060155_3730_val_acc_1.00_val_loss_0.015424',\n",
       " 'ENTIRE2_NH_2001060204_5320_val_acc_1.00_val_loss_0.009253',\n",
       " 'ENTIRE2_NH_2001060208_6000_val_acc_1.00_val_loss_0.005527',\n",
       " 'ENTIRE2_NH_2001062352_20490_val_acc_1.00_val_loss_0.000032',\n",
       " 'ENTIRE2_NH_2001070020_23020_val_acc_1.00_val_loss_0.000018',\n",
       " 'ENTIRE2_NH_2001070150_5800_val_acc_0.98_val_loss_0.043403',\n",
       " 'ENTIRE2_NH_2001070151_5900_val_acc_0.98_val_loss_0.038373',\n",
       " 'ENTIRE2_NH_2001070214_8200_val_acc_1.00_val_loss_0.035504',\n",
       " 'ENTIRE2_NH_2001070221_8900_val_acc_0.99_val_loss_0.023356',\n",
       " 'ENTIRE2_NH_2001080155_12800_val_acc_0.99_val_loss_0.016635',\n",
       " 'ENTIRE2_NH_2001081600_2000_val_acc_0.97_val_loss_0.093729',\n",
       " 'ENTIRE2_NH_2001081601_2100_val_acc_0.97_val_loss_0.057087',\n",
       " 'ENTIRE2_NH_2001081619_3800_val_acc_0.97_val_loss_0.054612',\n",
       " 'ENTIRE2_NH_2001081626_4500_val_acc_0.98_val_loss_0.046558',\n",
       " 'ENTIRE2_NH_2001081636_5500_val_acc_0.99_val_loss_0.035910',\n",
       " 'ENTIRE2_NH_2001100009_520_val_acc_0.82_val_loss_0.420632',\n",
       " 'ENTIRE2_NH_2001100009_540_val_acc_0.80_val_loss_0.420203',\n",
       " 'ENTIRE2_NH_2001100010_560_val_acc_0.81_val_loss_0.404852',\n",
       " 'ENTIRE2_NH_2001100010_600_val_acc_0.86_val_loss_0.363961',\n",
       " 'ENTIRE2_NH_2001100013_800_val_acc_0.84_val_loss_0.363432',\n",
       " 'ENTIRE2_NH_2001100015_10_val_acc_0.51_val_loss_0.691620',\n",
       " 'ENTIRE2_NH_2001100015_20_val_acc_0.54_val_loss_0.689558',\n",
       " 'ENTIRE2_NH_2001100015_30_val_acc_0.62_val_loss_0.668374',\n",
       " 'ENTIRE2_NH_2001100016_50_val_acc_0.67_val_loss_0.607173',\n",
       " 'ENTIRE2_NH_2001100016_60_val_acc_0.66_val_loss_0.604228',\n",
       " 'ENTIRE2_NH_2001100048_1330_val_acc_0.99_val_loss_0.045598',\n",
       " 'ENTIRE2_NH_2001100050_1460_val_acc_0.98_val_loss_0.044435',\n",
       " 'ENTIRE2_NH_2001100055_1710_val_acc_0.99_val_loss_0.044217',\n",
       " 'ENTIRE2_NH_2001100102_2100_val_acc_1.00_val_loss_0.019105',\n",
       " 'ENTIRE2_NH_2001100103_2170_val_acc_1.00_val_loss_0.007778',\n",
       " 'ENTIRE2_NH_2001111342_3890_val_acc_1.00_val_loss_0.002133',\n",
       " 'ENTIRE2_NH_2001111439_6970_val_acc_1.00_val_loss_0.000618',\n",
       " 'ENTIRE2_NH_2001111440_7010_val_acc_1.00_val_loss_0.000609',\n",
       " 'ENTIRE2_NH_2001111447_7410_val_acc_1.00_val_loss_0.000572',\n",
       " 'ENTIRE2_NH_2001111508_8490_val_acc_1.00_val_loss_0.000414']"
      ]
     },
     "execution_count": 19,
     "metadata": {},
     "output_type": "execute_result"
    }
   ],
   "source": [
    "nh_list"
   ]
  },
  {
   "cell_type": "code",
   "execution_count": 20,
   "metadata": {
    "ExecuteTime": {
     "end_time": "2020-01-20T07:32:32.477846Z",
     "start_time": "2020-01-20T07:32:32.468205Z"
    },
    "scrolled": false
   },
   "outputs": [
    {
     "data": {
      "text/plain": [
       "['ENTIRE2_ND_2001062348_20190_val_acc_1.00_val_loss_0.002604',\n",
       " 'ENTIRE2_ND_2001062355_20780_val_acc_1.00_val_loss_0.001135',\n",
       " 'ENTIRE2_ND_2001070006_21740_val_acc_1.00_val_loss_0.000432',\n",
       " 'ENTIRE2_ND_2001070141_4900_val_acc_0.96_val_loss_0.124103',\n",
       " 'ENTIRE2_ND_2001070150_5800_val_acc_0.96_val_loss_0.120055',\n",
       " 'ENTIRE2_ND_2001070152_6000_val_acc_0.97_val_loss_0.106324',\n",
       " 'ENTIRE2_ND_2001070211_7800_val_acc_0.96_val_loss_0.104963',\n",
       " 'ENTIRE2_ND_2001070212_7900_val_acc_0.97_val_loss_0.058071',\n",
       " 'ENTIRE2_ND_2001081614_2700_val_acc_0.95_val_loss_0.130868',\n",
       " 'ENTIRE2_ND_2001081615_2800_val_acc_0.96_val_loss_0.113698',\n",
       " 'ENTIRE2_ND_2001081634_4700_val_acc_0.95_val_loss_0.104473',\n",
       " 'ENTIRE2_ND_2001081639_5200_val_acc_0.97_val_loss_0.078812',\n",
       " 'ENTIRE2_ND_2001081650_6300_val_acc_0.98_val_loss_0.049867',\n",
       " 'ENTIRE2_ND_2001100010_10_val_acc_0.50_val_loss_0.691652',\n",
       " 'ENTIRE2_ND_2001100010_50_val_acc_0.48_val_loss_0.690351',\n",
       " 'ENTIRE2_ND_2001100011_60_val_acc_0.47_val_loss_0.679513',\n",
       " 'ENTIRE2_ND_2001100011_70_val_acc_0.65_val_loss_0.657932',\n",
       " 'ENTIRE2_ND_2001100011_90_val_acc_0.67_val_loss_0.563440',\n",
       " 'ENTIRE2_ND_2001100015_10_val_acc_0.52_val_loss_0.691693',\n",
       " 'ENTIRE2_ND_2001100015_30_val_acc_0.50_val_loss_0.691295',\n",
       " 'ENTIRE2_ND_2001100015_40_val_acc_0.61_val_loss_0.686412',\n",
       " 'ENTIRE2_ND_2001100016_80_val_acc_0.49_val_loss_0.674461',\n",
       " 'ENTIRE2_ND_2001100118_2870_val_acc_1.00_val_loss_0.030858',\n",
       " 'ENTIRE2_ND_2001100129_3460_val_acc_0.99_val_loss_0.026349',\n",
       " 'ENTIRE2_ND_2001100149_4520_val_acc_1.00_val_loss_0.023429',\n",
       " 'ENTIRE2_ND_2001100152_4670_val_acc_1.00_val_loss_0.012078',\n",
       " 'ENTIRE2_ND_2001100154_4760_val_acc_1.00_val_loss_0.010985',\n",
       " 'ENTIRE2_ND_2001111357_4670_val_acc_1.00_val_loss_0.009702',\n",
       " 'ENTIRE2_ND_2001111433_6630_val_acc_1.00_val_loss_0.004391',\n",
       " 'ENTIRE2_ND_2001111500_8110_val_acc_1.00_val_loss_0.002249',\n",
       " 'ENTIRE2_ND_2001111513_8820_val_acc_1.00_val_loss_0.002107',\n",
       " 'ENTIRE2_ND_2001111523_9360_val_acc_1.00_val_loss_0.000198']"
      ]
     },
     "execution_count": 20,
     "metadata": {},
     "output_type": "execute_result"
    }
   ],
   "source": [
    "nd_list"
   ]
  },
  {
   "cell_type": "code",
   "execution_count": 21,
   "metadata": {
    "ExecuteTime": {
     "end_time": "2020-01-20T07:32:32.934999Z",
     "start_time": "2020-01-20T07:32:32.927143Z"
    }
   },
   "outputs": [
    {
     "data": {
      "text/plain": [
       "['ENTIRE2_B_2001060434_9410_val_acc_1.00_val_loss_0.019657',\n",
       " 'ENTIRE2_B_2001060441_9870_val_acc_1.00_val_loss_0.011613',\n",
       " 'ENTIRE2_B_2001060509_11910_val_acc_1.00_val_loss_0.009551',\n",
       " 'ENTIRE2_B_2001060518_12540_val_acc_1.00_val_loss_0.008383',\n",
       " 'ENTIRE2_B_2001060534_13690_val_acc_1.00_val_loss_0.006853',\n",
       " 'ENTIRE2_B_2001081714_6900_val_acc_0.96_val_loss_0.094075',\n",
       " 'ENTIRE2_B_2001081734_8800_val_acc_0.97_val_loss_0.077247',\n",
       " 'ENTIRE2_B_2001081739_9300_val_acc_0.98_val_loss_0.059156',\n",
       " 'ENTIRE2_B_2001081801_11400_val_acc_0.98_val_loss_0.050810',\n",
       " 'ENTIRE2_B_2001081821_13300_val_acc_0.98_val_loss_0.042233',\n",
       " 'ENTIRE2_B_2001100012_80_val_acc_0.60_val_loss_0.659025',\n",
       " 'ENTIRE2_B_2001100013_150_val_acc_0.66_val_loss_0.650705',\n",
       " 'ENTIRE2_B_2001100013_90_val_acc_0.57_val_loss_0.655705',\n",
       " 'ENTIRE2_B_2001100014_160_val_acc_0.64_val_loss_0.616498',\n",
       " 'ENTIRE2_B_2001100014_180_val_acc_0.68_val_loss_0.614124',\n",
       " 'ENTIRE2_B_2001100015_10_val_acc_0.50_val_loss_0.691157',\n",
       " 'ENTIRE2_B_2001100015_30_val_acc_0.62_val_loss_0.688692',\n",
       " 'ENTIRE2_B_2001100015_50_val_acc_0.64_val_loss_0.606388',\n",
       " 'ENTIRE2_B_2001100122_3070_val_acc_1.00_val_loss_0.034832',\n",
       " 'ENTIRE2_B_2001100128_3400_val_acc_0.99_val_loss_0.023191',\n",
       " 'ENTIRE2_B_2001100151_4610_val_acc_1.00_val_loss_0.007210',\n",
       " 'ENTIRE2_B_2001100245_7540_val_acc_1.00_val_loss_0.005794',\n",
       " 'ENTIRE2_B_2001100252_7900_val_acc_1.00_val_loss_0.005764',\n",
       " 'ENTIRE2_B_2001111520_9240_val_acc_1.00_val_loss_0.006530',\n",
       " 'ENTIRE2_B_2001111534_10000_val_acc_1.00_val_loss_0.003601',\n",
       " 'ENTIRE2_B_2001111601_11500_val_acc_1.00_val_loss_0.003172',\n",
       " 'ENTIRE2_B_2001111644_13910_val_acc_1.00_val_loss_0.001824',\n",
       " 'ENTIRE2_B_2001111644_13940_val_acc_1.00_val_loss_0.000300']"
      ]
     },
     "execution_count": 21,
     "metadata": {},
     "output_type": "execute_result"
    }
   ],
   "source": [
    "b_list"
   ]
  },
  {
   "cell_type": "code",
   "execution_count": 14,
   "metadata": {
    "ExecuteTime": {
     "end_time": "2020-07-10T08:30:46.835416Z",
     "start_time": "2020-07-10T08:30:24.610235Z"
    }
   },
   "outputs": [
    {
     "name": "stderr",
     "output_type": "stream",
     "text": [
      "WARNING: Logging before flag parsing goes to stderr.\n",
      "W0710 17:30:32.744864 140287753737984 deprecation.py:323] From /usr/local/lib/python3.5/dist-packages/tensorflow/python/training/saver.py:1276: checkpoint_exists (from tensorflow.python.training.checkpoint_management) is deprecated and will be removed in a future version.\n",
      "Instructions for updating:\n",
      "Use standard file APIs to check for files with this prefix.\n"
     ]
    }
   ],
   "source": [
    "nh_path = './model/' + 'NH_2001062207_10900_val_acc_1.00_val_loss_0.000584'\n",
    "nd_path = './model/' + 'ND_2001060354_8430_val_acc_1.00_val_loss_0.009623'\n",
    "b_path = './model/' + 'B_2001060534_13690_val_acc_1.00_val_loss_0.006853'\n",
    "\n",
    "nh_path = './model/' + 'NH_2001080155_12800_val_acc_0.99_val_loss_0.016635'\n",
    "nd_path = './model/' + 'ND_2001070006_21740_val_acc_1.00_val_loss_0.000432'\n",
    "b_path = './model/' + 'B_2001080202_18300_val_acc_0.99_val_loss_0.026502'\n",
    "\n",
    "nh_path = './model/resnet/' + 'NH_2007071254_38700_val_acc_0.99_val_loss_0.023783'\n",
    "nd_path = './model/resnet/' + 'ND_2007071203_27400_val_acc_0.99_val_loss_0.036596'\n",
    "b_path = './model/resnet/' + 'B_2007071629_36200_val_acc_0.99_val_loss_0.032725'\n",
    "\n",
    "# nh_path = './model/' + nh_list[-1]\n",
    "# nd_path = './model/' + nd_list[-1]\n",
    "# b_path = './model/' + b_list[-1]\n",
    "\n",
    "NH_model = binary_model(nh_path)\n",
    "ND_model = binary_model(nd_path)\n",
    "E_model = ensemble_model(nh_path, nd_path)\n",
    "B_model = binary_model(b_path)"
   ]
  },
  {
   "cell_type": "code",
   "execution_count": 15,
   "metadata": {
    "ExecuteTime": {
     "end_time": "2020-07-10T08:31:45.561989Z",
     "start_time": "2020-07-10T08:30:46.837555Z"
    }
   },
   "outputs": [
    {
     "name": "stdout",
     "output_type": "stream",
     "text": [
      "1561 / Inference Time: 00:00:38\n",
      "139 / Inference Time: 00:00:04\n",
      "5 / Inference Time: 00:00:01\n",
      "108 / Inference Time: 00:00:03\n",
      "185 / Inference Time: 00:00:04\n",
      "183 / Inference Time: 00:00:04\n",
      "26 / Inference Time: 00:00:01\n"
     ]
    }
   ],
   "source": [
    "neg_e_output, neg_nh_output, neg_nd_output = model_prob(E_model, neg_img, model_type = 'ensemble')\n",
    "redspot_e_output, redspot_nh_output, redspot_nd_output = model_prob(E_model, redspot_img, model_type = 'ensemble')\n",
    "angio_e_output, angio_nh_output, angio_nd_output = model_prob(E_model, angio_img, model_type = 'ensemble')\n",
    "active_e_output, active_nh_output, active_nd_output = model_prob(E_model, active_img, model_type = 'ensemble')\n",
    "ero_e_output, ero_nh_output, ero_nd_output = model_prob(E_model, ero_img, model_type = 'ensemble')\n",
    "ulcer_e_output, ulcer_nh_output, ulcer_nd_output = model_prob(E_model, ulcer_img, model_type = 'ensemble')\n",
    "str_e_output, str_nh_output, str_nd_output  = model_prob(E_model, str_img, model_type = 'ensemble')"
   ]
  },
  {
   "cell_type": "code",
   "execution_count": 16,
   "metadata": {
    "ExecuteTime": {
     "end_time": "2020-07-10T08:32:12.105848Z",
     "start_time": "2020-07-10T08:31:45.566587Z"
    }
   },
   "outputs": [
    {
     "name": "stdout",
     "output_type": "stream",
     "text": [
      "1561 / Inference Time: 00:00:17\n",
      "139 / Inference Time: 00:00:01\n",
      "5 / Inference Time: 00:00:00\n",
      "108 / Inference Time: 00:00:01\n",
      "185 / Inference Time: 00:00:02\n",
      "183 / Inference Time: 00:00:02\n",
      "26 / Inference Time: 00:00:00\n"
     ]
    }
   ],
   "source": [
    "neg_b_output = model_prob(B_model, neg_img)\n",
    "redspot_b_output = model_prob(B_model, redspot_img)\n",
    "angio_b_output = model_prob(B_model, angio_img)\n",
    "active_b_output = model_prob(B_model, active_img)\n",
    "ero_b_output = model_prob(B_model, ero_img)\n",
    "ulcer_b_output = model_prob(B_model, ulcer_img)\n",
    "str_b_output  = model_prob(B_model, str_img)"
   ]
  },
  {
   "cell_type": "markdown",
   "metadata": {},
   "source": [
    "# Evaluation"
   ]
  },
  {
   "cell_type": "code",
   "execution_count": 17,
   "metadata": {
    "ExecuteTime": {
     "end_time": "2020-07-10T08:32:12.114864Z",
     "start_time": "2020-07-10T08:32:12.109805Z"
    }
   },
   "outputs": [],
   "source": [
    "cls = classification_metric()"
   ]
  },
  {
   "cell_type": "markdown",
   "metadata": {},
   "source": [
    "## Accuracy per lesion"
   ]
  },
  {
   "cell_type": "code",
   "execution_count": 18,
   "metadata": {
    "ExecuteTime": {
     "end_time": "2020-07-10T08:32:12.128533Z",
     "start_time": "2020-07-10T08:32:12.120166Z"
    }
   },
   "outputs": [
    {
     "name": "stdout",
     "output_type": "stream",
     "text": [
      "neg: 96.73 %\n",
      "red spot: 86.33 %\n",
      "angio: 100.00 %\n",
      "active: 100.00 %\n"
     ]
    }
   ],
   "source": [
    "neg_nh_acc = cls.accuracy(neg_label, neg_nh_output, 'neg')\n",
    "redspot_nh_acc = cls.accuracy(redspot_label, redspot_nh_output, 'red spot')\n",
    "angio_nh_acc = cls.accuracy(angio_label, angio_nh_output, 'angio')\n",
    "active_nh_acc = cls.accuracy(active_label, active_nh_output, 'active')"
   ]
  },
  {
   "cell_type": "code",
   "execution_count": 19,
   "metadata": {
    "ExecuteTime": {
     "end_time": "2020-07-10T08:32:12.138833Z",
     "start_time": "2020-07-10T08:32:12.132025Z"
    }
   },
   "outputs": [
    {
     "name": "stdout",
     "output_type": "stream",
     "text": [
      "neg: 96.93 %\n",
      "ero: 91.89 %\n",
      "ulcer: 94.54 %\n",
      "str: 92.31 %\n"
     ]
    }
   ],
   "source": [
    "neg_nd_acc = cls.accuracy(neg_label, neg_nd_output, 'neg')\n",
    "ero_nd_acc = cls.accuracy(ero_label, ero_nd_output, 'ero')\n",
    "ulcer_nd_acc = cls.accuracy(ulcer_label, ulcer_nd_output, 'ulcer')\n",
    "str_nd_acc = cls.accuracy(str_label, str_nd_output, 'str')"
   ]
  },
  {
   "cell_type": "code",
   "execution_count": 20,
   "metadata": {
    "ExecuteTime": {
     "end_time": "2020-07-10T08:32:12.150089Z",
     "start_time": "2020-07-10T08:32:12.141483Z"
    }
   },
   "outputs": [
    {
     "name": "stdout",
     "output_type": "stream",
     "text": [
      "neg: 97.63 %\n",
      "red: 82.01 %\n",
      "ang: 100.00 %\n",
      "active: 97.22 %\n",
      "ero: 94.05 %\n",
      "ulcer: 88.52 %\n",
      " str: 88.46 %\n"
     ]
    }
   ],
   "source": [
    "neg_b_acc = cls.accuracy(neg_label, neg_b_output, 'neg')\n",
    "redspot_b_acc = cls.accuracy(redspot_label, redspot_b_output, 'red')\n",
    "angio_b_acc = cls.accuracy(angio_label, angio_b_output, 'ang')\n",
    "active_b_acc = cls.accuracy(active_label, active_b_output, 'active')\n",
    "ero_b_acc = cls.accuracy(ero_label, ero_b_output, 'ero')\n",
    "ulcer_b_acc = cls.accuracy(ulcer_label, ulcer_b_output, 'ulcer')\n",
    "str_b_acc = cls.accuracy(str_label, str_b_output, ' str')"
   ]
  },
  {
   "cell_type": "code",
   "execution_count": 21,
   "metadata": {
    "ExecuteTime": {
     "end_time": "2020-07-10T08:32:12.161331Z",
     "start_time": "2020-07-10T08:32:12.152541Z"
    }
   },
   "outputs": [
    {
     "name": "stdout",
     "output_type": "stream",
     "text": [
      "neg: 94.30 %\n",
      "red: 87.77 %\n",
      "ang: 100.00 %\n",
      "active: 100.00 %\n",
      "ero: 95.68 %\n",
      "ulcer: 97.27 %\n",
      "str: 96.15 %\n"
     ]
    }
   ],
   "source": [
    "neg_e_acc = cls.accuracy(neg_label, neg_e_output, 'neg')\n",
    "redspot_e_acc = cls.accuracy(redspot_label, redspot_e_output, 'red')\n",
    "angio_e_acc = cls.accuracy(angio_label, angio_e_output, 'ang')\n",
    "active_e_acc = cls.accuracy(active_label, active_e_output, 'active')\n",
    "ero_e_acc = cls.accuracy(ero_label, ero_e_output, 'ero')\n",
    "ulcer_e_acc = cls.accuracy(ulcer_label, ulcer_e_output, 'ulcer')\n",
    "str_e_acc = cls.accuracy(str_label, str_e_output, 'str')"
   ]
  },
  {
   "cell_type": "markdown",
   "metadata": {},
   "source": [
    "## Confusion Matrix"
   ]
  },
  {
   "cell_type": "code",
   "execution_count": 22,
   "metadata": {
    "ExecuteTime": {
     "end_time": "2020-07-10T08:32:12.172126Z",
     "start_time": "2020-07-10T08:32:12.163619Z"
    }
   },
   "outputs": [],
   "source": [
    "nh_outputs = np.vstack([neg_nh_output, redspot_nh_output, angio_nh_output, active_nh_output])\n",
    "labels = np.vstack([neg_label, redspot_label, angio_label, active_label])\n",
    "\n",
    "nh_CM = cls.con_mat(labels, nh_outputs)"
   ]
  },
  {
   "cell_type": "code",
   "execution_count": 23,
   "metadata": {
    "ExecuteTime": {
     "end_time": "2020-07-10T08:32:12.517707Z",
     "start_time": "2020-07-10T08:32:12.174667Z"
    }
   },
   "outputs": [
    {
     "data": {
      "image/png": "[encoded data removed]",
      "text/plain": [
       "<Figure size 1152x576 with 2 Axes>"
      ]
     },
     "metadata": {
      "needs_background": "light"
     },
     "output_type": "display_data"
    }
   ],
   "source": [
    "plt.figure(figsize=(16, 8))\n",
    "plt.subplot(121)\n",
    "cls.plot_cm(nh_CM, value_size = 25, label_size = 20)\n",
    "plt.subplot(122)\n",
    "cls.plot_cm(nh_CM, value_size = 25, label_size = 20, mode = 'num')\n",
    "plt.show()"
   ]
  },
  {
   "cell_type": "code",
   "execution_count": 24,
   "metadata": {
    "ExecuteTime": {
     "end_time": "2020-07-10T08:32:12.528493Z",
     "start_time": "2020-07-10T08:32:12.520581Z"
    }
   },
   "outputs": [],
   "source": [
    "nd_outputs = np.vstack([neg_nd_output, ero_nd_output, ulcer_nd_output, str_nd_output])\n",
    "labels = np.vstack([neg_label, ero_label, ulcer_label, str_label])\n",
    "\n",
    "nd_CM = cls.con_mat(labels, nd_outputs)"
   ]
  },
  {
   "cell_type": "code",
   "execution_count": 25,
   "metadata": {
    "ExecuteTime": {
     "end_time": "2020-07-10T08:32:12.802646Z",
     "start_time": "2020-07-10T08:32:12.530678Z"
    }
   },
   "outputs": [
    {
     "data": {
      "image/png": "[encoded data removed]",
      "text/plain": [
       "<Figure size 1152x576 with 2 Axes>"
      ]
     },
     "metadata": {
      "needs_background": "light"
     },
     "output_type": "display_data"
    }
   ],
   "source": [
    "plt.figure(figsize=(16, 8))\n",
    "plt.subplot(121)\n",
    "cls.plot_cm(nd_CM, value_size = 25, label_size = 20)\n",
    "plt.subplot(122)\n",
    "cls.plot_cm(nd_CM, value_size = 25, label_size = 20, mode = 'num')\n",
    "plt.show()"
   ]
  },
  {
   "cell_type": "code",
   "execution_count": 26,
   "metadata": {
    "ExecuteTime": {
     "end_time": "2020-07-10T08:32:12.810824Z",
     "start_time": "2020-07-10T08:32:12.804621Z"
    }
   },
   "outputs": [],
   "source": [
    "e_outputs = np.vstack([neg_e_output, redspot_e_output, angio_e_output, active_e_output, ero_e_output, ulcer_e_output, str_e_output])\n",
    "labels = np.vstack([neg_label, redspot_label, angio_label, active_label, ero_label, ulcer_label, str_label])\n",
    "\n",
    "e_CM = cls.con_mat(labels, e_outputs)"
   ]
  },
  {
   "cell_type": "code",
   "execution_count": 27,
   "metadata": {
    "ExecuteTime": {
     "end_time": "2020-07-10T08:32:13.075363Z",
     "start_time": "2020-07-10T08:32:12.812659Z"
    }
   },
   "outputs": [
    {
     "data": {
      "image/png": "[encoded data removed]",
      "text/plain": [
       "<Figure size 1152x576 with 2 Axes>"
      ]
     },
     "metadata": {
      "needs_background": "light"
     },
     "output_type": "display_data"
    }
   ],
   "source": [
    "plt.figure(figsize=(16, 8))\n",
    "plt.subplot(121)\n",
    "cls.plot_cm(e_CM, value_size = 25, label_size = 20)\n",
    "plt.subplot(122)\n",
    "cls.plot_cm(e_CM, value_size = 25, label_size = 20, mode = 'num')\n",
    "plt.show()"
   ]
  },
  {
   "cell_type": "code",
   "execution_count": 28,
   "metadata": {
    "ExecuteTime": {
     "end_time": "2020-07-10T08:32:13.084368Z",
     "start_time": "2020-07-10T08:32:13.078136Z"
    }
   },
   "outputs": [],
   "source": [
    "b_outputs = np.vstack([neg_b_output, redspot_b_output, angio_b_output, active_b_output, ero_b_output, ulcer_b_output, str_b_output])\n",
    "labels = np.vstack([neg_label, redspot_label, angio_label, active_label, ero_label, ulcer_label, str_label])\n",
    "\n",
    "b_CM = cls.con_mat(labels, b_outputs)"
   ]
  },
  {
   "cell_type": "code",
   "execution_count": 29,
   "metadata": {
    "ExecuteTime": {
     "end_time": "2020-07-10T08:32:13.350609Z",
     "start_time": "2020-07-10T08:32:13.086249Z"
    }
   },
   "outputs": [
    {
     "data": {
      "image/png": "[encoded data removed]",
      "text/plain": [
       "<Figure size 1152x576 with 2 Axes>"
      ]
     },
     "metadata": {
      "needs_background": "light"
     },
     "output_type": "display_data"
    }
   ],
   "source": [
    "plt.figure(figsize=(16, 8))\n",
    "plt.subplot(121)\n",
    "cls.plot_cm(b_CM, value_size = 25, label_size = 20)\n",
    "plt.grid(False)\n",
    "plt.subplot(122)\n",
    "cls.plot_cm(b_CM, value_size = 25, label_size = 20, mode = 'num')\n",
    "plt.grid(False)\n",
    "plt.show()"
   ]
  },
  {
   "cell_type": "markdown",
   "metadata": {},
   "source": [
    "## ROC curve"
   ]
  },
  {
   "cell_type": "code",
   "execution_count": 30,
   "metadata": {
    "ExecuteTime": {
     "end_time": "2020-07-10T08:32:52.110615Z",
     "start_time": "2020-07-10T08:32:52.097894Z"
    }
   },
   "outputs": [],
   "source": [
    "from scipy.stats import sem, t\n",
    "from scipy import mean\n",
    "\n",
    "def conf_interval(data, conf_level = 0.95, mode = 'value', metric = 'Accr'):\n",
    "    n = len(data)\n",
    "    m = mean(data)\n",
    "    std_err = sem(data)\n",
    "    h = std_err * t.ppf((1 + conf_level) / 2, n - 1)\n",
    "\n",
    "    start = m - h\n",
    "    end = m + h\n",
    "    \n",
    "    if mode == 'value':\n",
    "        return m, start, end\n",
    "    elif mode == 'print':\n",
    "        return print(\"{} --- {:.2f} ({:.2f} ~ {:.2f})\".format(metric, m, start, end))"
   ]
  },
  {
   "cell_type": "code",
   "execution_count": 31,
   "metadata": {
    "ExecuteTime": {
     "end_time": "2020-07-10T08:32:52.476311Z",
     "start_time": "2020-07-10T08:32:52.457909Z"
    }
   },
   "outputs": [],
   "source": [
    "from sklearn.model_selection import KFold\n",
    "\n",
    "def k_fold_idx(n_fold, dataset):\n",
    "    kf = KFold(n_splits = n_fold, shuffle = True)\n",
    "    train_idxs = []\n",
    "    test_idxs = []\n",
    "    for train_idx, test_idx in kf.split(dataset):\n",
    "        train_idxs.append(train_idx)\n",
    "        test_idxs.append(test_idx)\n",
    "    return train_idxs, test_idxs"
   ]
  },
  {
   "cell_type": "code",
   "execution_count": 32,
   "metadata": {
    "ExecuteTime": {
     "end_time": "2020-07-10T08:32:53.669392Z",
     "start_time": "2020-07-10T08:32:53.653372Z"
    }
   },
   "outputs": [],
   "source": [
    "n_g = 5\n",
    "\n",
    "_, neg2_idxs = k_fold_idx(n_fold = n_g, dataset = neg2_label)\n",
    "_, redspot_idxs = k_fold_idx(n_fold = n_g, dataset = redspot_label)\n",
    "_, angio_idxs = k_fold_idx(n_fold = n_g, dataset = angio_label)\n",
    "_, active_idxs = k_fold_idx(n_fold = n_g, dataset = active_label)\n",
    "_, ero_idxs = k_fold_idx(n_fold = n_g, dataset = ero_label)\n",
    "_, ulcer_idxs = k_fold_idx(n_fold = n_g, dataset = ulcer_label)\n",
    "_, str_idxs = k_fold_idx(n_fold = n_g, dataset = str_label)"
   ]
  },
  {
   "cell_type": "code",
   "execution_count": 37,
   "metadata": {
    "ExecuteTime": {
     "end_time": "2020-07-10T08:34:36.360654Z",
     "start_time": "2020-07-10T08:33:39.744492Z"
    },
    "scrolled": true
   },
   "outputs": [
    {
     "name": "stdout",
     "output_type": "stream",
     "text": [
      "4522 / Inference Time: 00:00:49\n"
     ]
    },
    {
     "ename": "KeyboardInterrupt",
     "evalue": "",
     "output_type": "error",
     "traceback": [
      "\u001b[0;31m---------------------------------------------------------------------------\u001b[0m",
      "\u001b[0;31mKeyboardInterrupt\u001b[0m                         Traceback (most recent call last)",
      "\u001b[0;32m<ipython-input-37-c14b0a5fba20>\u001b[0m in \u001b[0;36m<module>\u001b[0;34m\u001b[0m\n\u001b[1;32m      1\u001b[0m \u001b[0mneg2_b_output\u001b[0m \u001b[0;34m=\u001b[0m \u001b[0mmodel_prob\u001b[0m\u001b[0;34m(\u001b[0m\u001b[0mB_model\u001b[0m\u001b[0;34m,\u001b[0m \u001b[0mneg2_img\u001b[0m\u001b[0;34m)\u001b[0m\u001b[0;34m\u001b[0m\u001b[0m\n\u001b[0;32m----> 2\u001b[0;31m \u001b[0mneg2_e_output\u001b[0m\u001b[0;34m,\u001b[0m \u001b[0m_\u001b[0m\u001b[0;34m,\u001b[0m \u001b[0m_\u001b[0m \u001b[0;34m=\u001b[0m \u001b[0mmodel_prob\u001b[0m\u001b[0;34m(\u001b[0m\u001b[0mE_model\u001b[0m\u001b[0;34m,\u001b[0m \u001b[0mneg2_img\u001b[0m\u001b[0;34m,\u001b[0m \u001b[0mmodel_type\u001b[0m \u001b[0;34m=\u001b[0m \u001b[0;34m'ensemble'\u001b[0m\u001b[0;34m)\u001b[0m\u001b[0;34m\u001b[0m\u001b[0m\n\u001b[0m",
      "\u001b[0;32m/mnt/disk1/project/SMhospital/capsule/ce_packages/ce_utils.py\u001b[0m in \u001b[0;36mmodel_prob\u001b[0;34m(model, image, model_type)\u001b[0m\n\u001b[1;32m    370\u001b[0m         \u001b[0mstart_time\u001b[0m \u001b[0;34m=\u001b[0m \u001b[0mtime\u001b[0m\u001b[0;34m.\u001b[0m\u001b[0mtime\u001b[0m\u001b[0;34m(\u001b[0m\u001b[0;34m)\u001b[0m\u001b[0;34m\u001b[0m\u001b[0m\n\u001b[1;32m    371\u001b[0m         \u001b[0;32mfor\u001b[0m \u001b[0mb_idx\u001b[0m \u001b[0;32min\u001b[0m \u001b[0mb_idxs\u001b[0m\u001b[0;34m:\u001b[0m\u001b[0;34m\u001b[0m\u001b[0m\n\u001b[0;32m--> 372\u001b[0;31m             \u001b[0me_softmax\u001b[0m\u001b[0;34m,\u001b[0m \u001b[0mnh_softmax\u001b[0m\u001b[0;34m,\u001b[0m \u001b[0mnd_softmax\u001b[0m \u001b[0;34m=\u001b[0m \u001b[0mmodel\u001b[0m\u001b[0;34m.\u001b[0m\u001b[0mget_softmax\u001b[0m\u001b[0;34m(\u001b[0m\u001b[0mimage\u001b[0m\u001b[0;34m[\u001b[0m\u001b[0mb_idx\u001b[0m\u001b[0;34m]\u001b[0m\u001b[0;34m)\u001b[0m\u001b[0;34m\u001b[0m\u001b[0m\n\u001b[0m\u001b[1;32m    373\u001b[0m             \u001b[0me_outputs\u001b[0m\u001b[0;34m.\u001b[0m\u001b[0mappend\u001b[0m\u001b[0;34m(\u001b[0m\u001b[0me_softmax\u001b[0m\u001b[0;34m)\u001b[0m\u001b[0;34m,\u001b[0m \u001b[0mnh_outputs\u001b[0m\u001b[0;34m.\u001b[0m\u001b[0mappend\u001b[0m\u001b[0;34m(\u001b[0m\u001b[0mnh_softmax\u001b[0m\u001b[0;34m)\u001b[0m\u001b[0;34m,\u001b[0m \u001b[0mnd_outputs\u001b[0m\u001b[0;34m.\u001b[0m\u001b[0mappend\u001b[0m\u001b[0;34m(\u001b[0m\u001b[0mnd_softmax\u001b[0m\u001b[0;34m)\u001b[0m\u001b[0;34m\u001b[0m\u001b[0m\n\u001b[1;32m    374\u001b[0m         \u001b[0mtime_taken\u001b[0m \u001b[0;34m=\u001b[0m \u001b[0mtime\u001b[0m\u001b[0;34m.\u001b[0m\u001b[0mtime\u001b[0m\u001b[0;34m(\u001b[0m\u001b[0;34m)\u001b[0m \u001b[0;34m-\u001b[0m \u001b[0mstart_time\u001b[0m\u001b[0;34m\u001b[0m\u001b[0m\n",
      "\u001b[0;32m/mnt/disk1/project/SMhospital/capsule/ce_packages/ce_model_rev.py\u001b[0m in \u001b[0;36mget_softmax\u001b[0;34m(self, image)\u001b[0m\n\u001b[1;32m    202\u001b[0m         \u001b[0mimage\u001b[0m\u001b[0;34m.\u001b[0m\u001b[0mshape\u001b[0m \u001b[0;34m=\u001b[0m \u001b[0;34m(\u001b[0m\u001b[0;32mNone\u001b[0m\u001b[0;34m,\u001b[0m \u001b[0;36m512\u001b[0m\u001b[0;34m,\u001b[0m \u001b[0;36m512\u001b[0m\u001b[0;34m,\u001b[0m \u001b[0;36m3\u001b[0m\u001b[0;34m)\u001b[0m\u001b[0;34m\u001b[0m\u001b[0m\n\u001b[1;32m    203\u001b[0m         \"\"\"\n\u001b[0;32m--> 204\u001b[0;31m         \u001b[0mnh_softmax\u001b[0m \u001b[0;34m=\u001b[0m \u001b[0mself\u001b[0m\u001b[0;34m.\u001b[0m\u001b[0mnh_sess\u001b[0m\u001b[0;34m.\u001b[0m\u001b[0mrun\u001b[0m\u001b[0;34m(\u001b[0m\u001b[0mtf\u001b[0m\u001b[0;34m.\u001b[0m\u001b[0mnn\u001b[0m\u001b[0;34m.\u001b[0m\u001b[0msoftmax\u001b[0m\u001b[0;34m(\u001b[0m\u001b[0mself\u001b[0m\u001b[0;34m.\u001b[0m\u001b[0mnh_score\u001b[0m\u001b[0;34m)\u001b[0m\u001b[0;34m,\u001b[0m \u001b[0mfeed_dict\u001b[0m\u001b[0;34m=\u001b[0m\u001b[0;34m{\u001b[0m\u001b[0mself\u001b[0m\u001b[0;34m.\u001b[0m\u001b[0mnh_x\u001b[0m\u001b[0;34m:\u001b[0m \u001b[0mimage\u001b[0m\u001b[0;34m,\u001b[0m \u001b[0mself\u001b[0m\u001b[0;34m.\u001b[0m\u001b[0mnh_d_rate\u001b[0m\u001b[0;34m:\u001b[0m \u001b[0;36m0.0\u001b[0m\u001b[0;34m}\u001b[0m\u001b[0;34m)\u001b[0m\u001b[0;34m\u001b[0m\u001b[0m\n\u001b[0m\u001b[1;32m    205\u001b[0m         \u001b[0mnd_softmax\u001b[0m \u001b[0;34m=\u001b[0m \u001b[0mself\u001b[0m\u001b[0;34m.\u001b[0m\u001b[0mnd_sess\u001b[0m\u001b[0;34m.\u001b[0m\u001b[0mrun\u001b[0m\u001b[0;34m(\u001b[0m\u001b[0mtf\u001b[0m\u001b[0;34m.\u001b[0m\u001b[0mnn\u001b[0m\u001b[0;34m.\u001b[0m\u001b[0msoftmax\u001b[0m\u001b[0;34m(\u001b[0m\u001b[0mself\u001b[0m\u001b[0;34m.\u001b[0m\u001b[0mnd_score\u001b[0m\u001b[0;34m)\u001b[0m\u001b[0;34m,\u001b[0m \u001b[0mfeed_dict\u001b[0m\u001b[0;34m=\u001b[0m\u001b[0;34m{\u001b[0m\u001b[0mself\u001b[0m\u001b[0;34m.\u001b[0m\u001b[0mnd_x\u001b[0m\u001b[0;34m:\u001b[0m \u001b[0mimage\u001b[0m\u001b[0;34m,\u001b[0m \u001b[0mself\u001b[0m\u001b[0;34m.\u001b[0m\u001b[0mnd_d_rate\u001b[0m\u001b[0;34m:\u001b[0m \u001b[0;36m0.0\u001b[0m\u001b[0;34m}\u001b[0m\u001b[0;34m)\u001b[0m\u001b[0;34m\u001b[0m\u001b[0m\n\u001b[1;32m    206\u001b[0m \u001b[0;34m\u001b[0m\u001b[0m\n",
      "\u001b[0;32m/usr/local/lib/python3.5/dist-packages/tensorflow/python/client/session.py\u001b[0m in \u001b[0;36mrun\u001b[0;34m(self, fetches, feed_dict, options, run_metadata)\u001b[0m\n\u001b[1;32m    948\u001b[0m     \u001b[0;32mtry\u001b[0m\u001b[0;34m:\u001b[0m\u001b[0;34m\u001b[0m\u001b[0m\n\u001b[1;32m    949\u001b[0m       result = self._run(None, fetches, feed_dict, options_ptr,\n\u001b[0;32m--> 950\u001b[0;31m                          run_metadata_ptr)\n\u001b[0m\u001b[1;32m    951\u001b[0m       \u001b[0;32mif\u001b[0m \u001b[0mrun_metadata\u001b[0m\u001b[0;34m:\u001b[0m\u001b[0;34m\u001b[0m\u001b[0m\n\u001b[1;32m    952\u001b[0m         \u001b[0mproto_data\u001b[0m \u001b[0;34m=\u001b[0m \u001b[0mtf_session\u001b[0m\u001b[0;34m.\u001b[0m\u001b[0mTF_GetBuffer\u001b[0m\u001b[0;34m(\u001b[0m\u001b[0mrun_metadata_ptr\u001b[0m\u001b[0;34m)\u001b[0m\u001b[0;34m\u001b[0m\u001b[0m\n",
      "\u001b[0;32m/usr/local/lib/python3.5/dist-packages/tensorflow/python/client/session.py\u001b[0m in \u001b[0;36m_run\u001b[0;34m(self, handle, fetches, feed_dict, options, run_metadata)\u001b[0m\n\u001b[1;32m   1171\u001b[0m     \u001b[0;32mif\u001b[0m \u001b[0mfinal_fetches\u001b[0m \u001b[0;32mor\u001b[0m \u001b[0mfinal_targets\u001b[0m \u001b[0;32mor\u001b[0m \u001b[0;34m(\u001b[0m\u001b[0mhandle\u001b[0m \u001b[0;32mand\u001b[0m \u001b[0mfeed_dict_tensor\u001b[0m\u001b[0;34m)\u001b[0m\u001b[0;34m:\u001b[0m\u001b[0;34m\u001b[0m\u001b[0m\n\u001b[1;32m   1172\u001b[0m       results = self._do_run(handle, final_targets, final_fetches,\n\u001b[0;32m-> 1173\u001b[0;31m                              feed_dict_tensor, options, run_metadata)\n\u001b[0m\u001b[1;32m   1174\u001b[0m     \u001b[0;32melse\u001b[0m\u001b[0;34m:\u001b[0m\u001b[0;34m\u001b[0m\u001b[0m\n\u001b[1;32m   1175\u001b[0m       \u001b[0mresults\u001b[0m \u001b[0;34m=\u001b[0m \u001b[0;34m[\u001b[0m\u001b[0;34m]\u001b[0m\u001b[0;34m\u001b[0m\u001b[0m\n",
      "\u001b[0;32m/usr/local/lib/python3.5/dist-packages/tensorflow/python/client/session.py\u001b[0m in \u001b[0;36m_do_run\u001b[0;34m(self, handle, target_list, fetch_list, feed_dict, options, run_metadata)\u001b[0m\n\u001b[1;32m   1348\u001b[0m     \u001b[0;32mif\u001b[0m \u001b[0mhandle\u001b[0m \u001b[0;32mis\u001b[0m \u001b[0;32mNone\u001b[0m\u001b[0;34m:\u001b[0m\u001b[0;34m\u001b[0m\u001b[0m\n\u001b[1;32m   1349\u001b[0m       return self._do_call(_run_fn, feeds, fetches, targets, options,\n\u001b[0;32m-> 1350\u001b[0;31m                            run_metadata)\n\u001b[0m\u001b[1;32m   1351\u001b[0m     \u001b[0;32melse\u001b[0m\u001b[0;34m:\u001b[0m\u001b[0;34m\u001b[0m\u001b[0m\n\u001b[1;32m   1352\u001b[0m       \u001b[0;32mreturn\u001b[0m \u001b[0mself\u001b[0m\u001b[0;34m.\u001b[0m\u001b[0m_do_call\u001b[0m\u001b[0;34m(\u001b[0m\u001b[0m_prun_fn\u001b[0m\u001b[0;34m,\u001b[0m \u001b[0mhandle\u001b[0m\u001b[0;34m,\u001b[0m \u001b[0mfeeds\u001b[0m\u001b[0;34m,\u001b[0m \u001b[0mfetches\u001b[0m\u001b[0;34m)\u001b[0m\u001b[0;34m\u001b[0m\u001b[0m\n",
      "\u001b[0;32m/usr/local/lib/python3.5/dist-packages/tensorflow/python/client/session.py\u001b[0m in \u001b[0;36m_do_call\u001b[0;34m(self, fn, *args)\u001b[0m\n\u001b[1;32m   1354\u001b[0m   \u001b[0;32mdef\u001b[0m \u001b[0m_do_call\u001b[0m\u001b[0;34m(\u001b[0m\u001b[0mself\u001b[0m\u001b[0;34m,\u001b[0m \u001b[0mfn\u001b[0m\u001b[0;34m,\u001b[0m \u001b[0;34m*\u001b[0m\u001b[0margs\u001b[0m\u001b[0;34m)\u001b[0m\u001b[0;34m:\u001b[0m\u001b[0;34m\u001b[0m\u001b[0m\n\u001b[1;32m   1355\u001b[0m     \u001b[0;32mtry\u001b[0m\u001b[0;34m:\u001b[0m\u001b[0;34m\u001b[0m\u001b[0m\n\u001b[0;32m-> 1356\u001b[0;31m       \u001b[0;32mreturn\u001b[0m \u001b[0mfn\u001b[0m\u001b[0;34m(\u001b[0m\u001b[0;34m*\u001b[0m\u001b[0margs\u001b[0m\u001b[0;34m)\u001b[0m\u001b[0;34m\u001b[0m\u001b[0m\n\u001b[0m\u001b[1;32m   1357\u001b[0m     \u001b[0;32mexcept\u001b[0m \u001b[0merrors\u001b[0m\u001b[0;34m.\u001b[0m\u001b[0mOpError\u001b[0m \u001b[0;32mas\u001b[0m \u001b[0me\u001b[0m\u001b[0;34m:\u001b[0m\u001b[0;34m\u001b[0m\u001b[0m\n\u001b[1;32m   1358\u001b[0m       \u001b[0mmessage\u001b[0m \u001b[0;34m=\u001b[0m \u001b[0mcompat\u001b[0m\u001b[0;34m.\u001b[0m\u001b[0mas_text\u001b[0m\u001b[0;34m(\u001b[0m\u001b[0me\u001b[0m\u001b[0;34m.\u001b[0m\u001b[0mmessage\u001b[0m\u001b[0;34m)\u001b[0m\u001b[0;34m\u001b[0m\u001b[0m\n",
      "\u001b[0;32m/usr/local/lib/python3.5/dist-packages/tensorflow/python/client/session.py\u001b[0m in \u001b[0;36m_run_fn\u001b[0;34m(feed_dict, fetch_list, target_list, options, run_metadata)\u001b[0m\n\u001b[1;32m   1339\u001b[0m       \u001b[0mself\u001b[0m\u001b[0;34m.\u001b[0m\u001b[0m_extend_graph\u001b[0m\u001b[0;34m(\u001b[0m\u001b[0;34m)\u001b[0m\u001b[0;34m\u001b[0m\u001b[0m\n\u001b[1;32m   1340\u001b[0m       return self._call_tf_sessionrun(\n\u001b[0;32m-> 1341\u001b[0;31m           options, feed_dict, fetch_list, target_list, run_metadata)\n\u001b[0m\u001b[1;32m   1342\u001b[0m \u001b[0;34m\u001b[0m\u001b[0m\n\u001b[1;32m   1343\u001b[0m     \u001b[0;32mdef\u001b[0m \u001b[0m_prun_fn\u001b[0m\u001b[0;34m(\u001b[0m\u001b[0mhandle\u001b[0m\u001b[0;34m,\u001b[0m \u001b[0mfeed_dict\u001b[0m\u001b[0;34m,\u001b[0m \u001b[0mfetch_list\u001b[0m\u001b[0;34m)\u001b[0m\u001b[0;34m:\u001b[0m\u001b[0;34m\u001b[0m\u001b[0m\n",
      "\u001b[0;32m/usr/local/lib/python3.5/dist-packages/tensorflow/python/client/session.py\u001b[0m in \u001b[0;36m_call_tf_sessionrun\u001b[0;34m(self, options, feed_dict, fetch_list, target_list, run_metadata)\u001b[0m\n\u001b[1;32m   1427\u001b[0m     return tf_session.TF_SessionRun_wrapper(\n\u001b[1;32m   1428\u001b[0m         \u001b[0mself\u001b[0m\u001b[0;34m.\u001b[0m\u001b[0m_session\u001b[0m\u001b[0;34m,\u001b[0m \u001b[0moptions\u001b[0m\u001b[0;34m,\u001b[0m \u001b[0mfeed_dict\u001b[0m\u001b[0;34m,\u001b[0m \u001b[0mfetch_list\u001b[0m\u001b[0;34m,\u001b[0m \u001b[0mtarget_list\u001b[0m\u001b[0;34m,\u001b[0m\u001b[0;34m\u001b[0m\u001b[0m\n\u001b[0;32m-> 1429\u001b[0;31m         run_metadata)\n\u001b[0m\u001b[1;32m   1430\u001b[0m \u001b[0;34m\u001b[0m\u001b[0m\n\u001b[1;32m   1431\u001b[0m   \u001b[0;32mdef\u001b[0m \u001b[0m_call_tf_sessionprun\u001b[0m\u001b[0;34m(\u001b[0m\u001b[0mself\u001b[0m\u001b[0;34m,\u001b[0m \u001b[0mhandle\u001b[0m\u001b[0;34m,\u001b[0m \u001b[0mfeed_dict\u001b[0m\u001b[0;34m,\u001b[0m \u001b[0mfetch_list\u001b[0m\u001b[0;34m)\u001b[0m\u001b[0;34m:\u001b[0m\u001b[0;34m\u001b[0m\u001b[0m\n",
      "\u001b[0;31mKeyboardInterrupt\u001b[0m: "
     ]
    }
   ],
   "source": [
    "neg2_b_output = model_prob(B_model, neg2_img)"
   ]
  },
  {
   "cell_type": "code",
   "execution_count": 46,
   "metadata": {
    "ExecuteTime": {
     "end_time": "2020-07-10T08:36:43.935584Z",
     "start_time": "2020-07-10T08:36:43.914215Z"
    },
    "scrolled": false
   },
   "outputs": [],
   "source": [
    "from sklearn.metrics import roc_curve, auc\n",
    "\n",
    "e_aucs, b_aucs = [], []\n",
    "\n",
    "for n_idx, r_idx, an_idx, ac_idx, e_idx, u_idx, s_idx in zip(neg2_idxs, redspot_idxs, angio_idxs, active_idxs,\n",
    "                                                               ero_idxs, ulcer_idxs, str_idxs):\n",
    "    \n",
    "    b_outputs = np.vstack([neg2_b_output[n_idx], redspot_b_output[r_idx], angio_b_output[an_idx], active_b_output[ac_idx], \n",
    "                           ero_b_output[e_idx], ulcer_b_output[u_idx], str_b_output[s_idx]])\n",
    "\n",
    "    labels = np.vstack([neg2_label[n_idx], redspot_label[r_idx], angio_label[an_idx], active_label[ac_idx], \n",
    "                        ero_label[e_idx], ulcer_label[u_idx], str_label[s_idx]])\n",
    "\n",
    "    b_fpr, b_tpr, thresholds = roc_curve(labels[:, 1], b_outputs[:,1])\n",
    "\n",
    "    b_aucs.append(auc(b_fpr, b_tpr))"
   ]
  },
  {
   "cell_type": "code",
   "execution_count": 47,
   "metadata": {
    "ExecuteTime": {
     "end_time": "2020-07-10T08:36:50.891434Z",
     "start_time": "2020-07-10T08:36:50.884557Z"
    }
   },
   "outputs": [
    {
     "data": {
      "text/plain": [
       "[0.995858462317068,\n",
       " 0.9835189120271993,\n",
       " 0.9941712049012934,\n",
       " 0.9827157079646018,\n",
       " 0.9753588600097555]"
      ]
     },
     "execution_count": 47,
     "metadata": {},
     "output_type": "execute_result"
    }
   ],
   "source": [
    " b_aucs"
   ]
  },
  {
   "cell_type": "code",
   "execution_count": 48,
   "metadata": {
    "ExecuteTime": {
     "end_time": "2020-07-10T08:39:01.876395Z",
     "start_time": "2020-07-10T08:39:01.406972Z"
    }
   },
   "outputs": [
    {
     "name": "stderr",
     "output_type": "stream",
     "text": [
      "/usr/local/lib/python3.5/dist-packages/matplotlib/cbook/__init__.py:424: MatplotlibDeprecationWarning: \n",
      "Passing one of 'on', 'true', 'off', 'false' as a boolean is deprecated; use an actual boolean (True/False) instead.\n",
      "  warn_deprecated(\"2.2\", \"Passing one of 'on', 'true', 'off', 'false' as a \"\n"
     ]
    },
    {
     "data": {
      "image/png": "[encoded data removed]",
      "text/plain": [
       "<Figure size 720x576 with 1 Axes>"
      ]
     },
     "metadata": {
      "needs_background": "light"
     },
     "output_type": "display_data"
    },
    {
     "data": {
      "image/png": "[encoded data removed]",
      "text/plain": [
       "<Figure size 720x576 with 1 Axes>"
      ]
     },
     "metadata": {
      "needs_background": "light"
     },
     "output_type": "display_data"
    }
   ],
   "source": [
    "\n",
    "b_auc_m, b_auc_l, b_auc_u = conf_interval(b_aucs, mode = 'value')\n",
    "\n",
    "b_outputs = np.vstack([neg_b_output, redspot_b_output, angio_b_output, active_b_output, ero_b_output, ulcer_b_output, str_b_output])\n",
    "\n",
    "labels = np.vstack([neg_label, redspot_label, angio_label, active_label, ero_label, ulcer_label, str_label])\n",
    "\n",
    "\n",
    "b_fpr, b_tpr, thresholds = roc_curve(labels[:, 1], b_outputs[:,1])\n",
    "\n",
    "fig = plt.figure(figsize=(10, 8))\n",
    "plt.plot(b_fpr, b_tpr, 'k-', label=\"Binary model, AUC: {:.4f} ({:.4f}~{:.4f}), 95 % CI\".format(b_auc_m, b_auc_l, b_auc_u))\n",
    "plt.xlabel('1 - Specificity', fontsize = 15)\n",
    "plt.ylabel('Sensitivity', fontsize = 15)\n",
    "plt.legend(fontsize = 12)\n",
    "plt.grid('on')\n",
    "fig.show()\n",
    "\n",
    "fig = plt.figure(figsize=(10, 8))\n",
    "plt.plot(b_fpr, b_tpr, 'k-', label=\"Binary model\")\n",
    "plt.xlim([0.0, 0.1])\n",
    "plt.ylim([0.9, 1.0])\n",
    "plt.legend(fontsize = 20, loc = 4)\n",
    "fig.show()"
   ]
  },
  {
   "cell_type": "code",
   "execution_count": 50,
   "metadata": {
    "ExecuteTime": {
     "end_time": "2020-07-10T08:39:15.144862Z",
     "start_time": "2020-07-10T08:39:15.138822Z"
    }
   },
   "outputs": [
    {
     "data": {
      "text/plain": [
       "(170,)"
      ]
     },
     "execution_count": 50,
     "metadata": {},
     "output_type": "execute_result"
    }
   ],
   "source": [
    "b_fpr.shape"
   ]
  },
  {
   "cell_type": "markdown",
   "metadata": {},
   "source": [
    "## Statistics"
   ]
  },
  {
   "cell_type": "markdown",
   "metadata": {},
   "source": [
    "![image](http://mblogthumb3.phinf.naver.net/20121114_106/istech7_1352875002440GYyqh_PNG/%B5%CE%C1%FD%B4%DC%C2%F7%C0%CC_%B0%CB%C1%A4%B9%E6%B9%FD%C8%E5%B8%A7%B5%B5.png?type=w2)\n",
    "\n",
    "![image](https://t1.daumcdn.net/cfile/tistory/2743524658F2520C2A)\n",
    "\n",
    "https://img1.daumcdn.net/thumb/R800x0/?scode=mtistory2&fname=https%3A%2F%2Ft1.daumcdn.net%2Fcfile%2Ftistory%2F1378B94E4F9C187F23"
   ]
  },
  {
   "cell_type": "code",
   "execution_count": 36,
   "metadata": {
    "ExecuteTime": {
     "end_time": "2020-07-09T01:54:24.460842Z",
     "start_time": "2020-07-09T01:54:24.424188Z"
    }
   },
   "outputs": [
    {
     "name": "stdout",
     "output_type": "stream",
     "text": [
      "(1036, 2)\n",
      "(1035, 2)\n",
      "(1034, 2)\n",
      "(1032, 2)\n",
      "(1031, 2)\n"
     ]
    }
   ],
   "source": [
    "e_CM, b_CM = [], []\n",
    "\n",
    "for n_idx, r_idx, an_idx, ac_idx, e_idx, u_idx, s_idx in zip(neg2_idxs, redspot_idxs, angio_idxs, active_idxs,\n",
    "                                                               ero_idxs, ulcer_idxs, str_idxs):\n",
    "    \n",
    "    b_outputs = np.vstack([neg2_b_output[n_idx], redspot_b_output[r_idx], angio_b_output[an_idx], active_b_output[ac_idx], \n",
    "                           ero_b_output[e_idx], ulcer_b_output[u_idx], str_b_output[s_idx]])\n",
    "    e_outputs = np.vstack([neg2_e_output[n_idx], redspot_e_output[r_idx], angio_e_output[an_idx], active_e_output[ac_idx], \n",
    "                           ero_e_output[e_idx], ulcer_e_output[u_idx], str_e_output[s_idx]])\n",
    "    labels = np.vstack([neg2_label[n_idx], redspot_label[r_idx], angio_label[an_idx], active_label[ac_idx], \n",
    "                        ero_label[e_idx], ulcer_label[u_idx], str_label[s_idx]])\n",
    "    print(labels.shape)\n",
    "    e_CM.append(cls.con_mat(labels, e_outputs)), b_CM.append(cls.con_mat(labels, b_outputs))"
   ]
  },
  {
   "cell_type": "code",
   "execution_count": 37,
   "metadata": {
    "ExecuteTime": {
     "end_time": "2020-07-09T01:54:24.959685Z",
     "start_time": "2020-07-09T01:54:24.951445Z"
    }
   },
   "outputs": [],
   "source": [
    "b_metrices = []\n",
    "e_metrices = []\n",
    "\n",
    "for e_cm, b_cm in zip(e_CM, b_CM):\n",
    "    b_metrices.append(cls.cm2metric(b_cm))\n",
    "    e_metrices.append(cls.cm2metric(e_cm))\n",
    "    \n",
    "b_metrices = np.asarray(b_metrices)\n",
    "e_metrices = np.asarray(e_metrices)"
   ]
  },
  {
   "cell_type": "code",
   "execution_count": 38,
   "metadata": {
    "ExecuteTime": {
     "end_time": "2020-07-09T01:54:25.457346Z",
     "start_time": "2020-07-09T01:54:25.446649Z"
    }
   },
   "outputs": [
    {
     "data": {
      "text/plain": [
       "array([[0.96911197, 0.92366412, 0.97569061, 0.98880179, 0.84615385],\n",
       "       [0.95845411, 0.88461538, 0.96906077, 0.98318386, 0.8041958 ],\n",
       "       [0.96615087, 0.88461538, 0.97787611, 0.98331479, 0.85185185],\n",
       "       [0.96705426, 0.921875  , 0.97345133, 0.98876404, 0.83098592],\n",
       "       [0.96702231, 0.8976378 , 0.97676991, 0.98549107, 0.84444444]])"
      ]
     },
     "execution_count": 38,
     "metadata": {},
     "output_type": "execute_result"
    }
   ],
   "source": [
    "b_metrices"
   ]
  },
  {
   "cell_type": "code",
   "execution_count": 39,
   "metadata": {
    "ExecuteTime": {
     "end_time": "2020-07-09T01:54:26.098377Z",
     "start_time": "2020-07-09T01:54:26.090946Z"
    }
   },
   "outputs": [
    {
     "data": {
      "text/plain": [
       "array([[0.94401544, 0.96183206, 0.94143646, 0.99416569, 0.70391061],\n",
       "       [0.94009662, 0.96153846, 0.93701657, 0.99413834, 0.68681319],\n",
       "       [0.94294004, 0.92307692, 0.94579646, 0.98843931, 0.71005917],\n",
       "       [0.94573643, 0.9453125 , 0.94579646, 0.99187935, 0.71176471],\n",
       "       [0.9456838 , 0.96850394, 0.94247788, 0.9953271 , 0.70285714]])"
      ]
     },
     "execution_count": 39,
     "metadata": {},
     "output_type": "execute_result"
    }
   ],
   "source": [
    "e_metrices"
   ]
  },
  {
   "cell_type": "code",
   "execution_count": 40,
   "metadata": {
    "ExecuteTime": {
     "end_time": "2020-07-09T01:54:26.476934Z",
     "start_time": "2020-07-09T01:54:26.445177Z"
    }
   },
   "outputs": [
    {
     "name": "stdout",
     "output_type": "stream",
     "text": [
      "95 % CI\n",
      "\n",
      "Binary model\n",
      "Accr --- 96.56 (96.04 ~ 97.07)\n",
      "Sen --- 90.25 (87.85 ~ 92.64)\n",
      "Spec --- 97.46 (97.02 ~ 97.89)\n",
      "NPV --- 98.59 (98.25 ~ 98.94)\n",
      "PPV --- 83.55 (81.18 ~ 85.93)\n",
      "\n",
      "Ensemble model\n",
      "Accr --- 94.37 (94.08 ~ 94.66)\n",
      "Sen --- 95.21 (92.93 ~ 97.48)\n",
      "Spec --- 94.25 (93.80 ~ 94.70)\n",
      "NPV --- 99.28 (98.94 ~ 99.62)\n",
      "PPV --- 70.31 (69.08 ~ 71.53)\n"
     ]
    }
   ],
   "source": [
    "print(\"95 % CI\\n\")\n",
    "\n",
    "print('Binary model')\n",
    "conf_interval(100*b_metrices[:, 0], mode = 'print', metric = 'Accr')\n",
    "conf_interval(100*b_metrices[:, 1], mode = 'print', metric = 'Sen')\n",
    "conf_interval(100*b_metrices[:, 2], mode = 'print', metric = 'Spec')\n",
    "conf_interval(100*b_metrices[:, 3], mode = 'print', metric = 'NPV')\n",
    "conf_interval(100*b_metrices[:, 4], mode = 'print', metric = 'PPV')\n",
    "print('')\n",
    "print('Ensemble model')\n",
    "conf_interval(100*e_metrices[:, 0], mode = 'print', metric = 'Accr')\n",
    "conf_interval(100*e_metrices[:, 1], mode = 'print', metric = 'Sen')\n",
    "conf_interval(100*e_metrices[:, 2], mode = 'print', metric = 'Spec')\n",
    "conf_interval(100*e_metrices[:, 3], mode = 'print', metric = 'NPV')\n",
    "conf_interval(100*e_metrices[:, 4], mode = 'print', metric = 'PPV')"
   ]
  },
  {
   "cell_type": "markdown",
   "metadata": {},
   "source": [
    "### Equal-Variance Test"
   ]
  },
  {
   "cell_type": "code",
   "execution_count": 41,
   "metadata": {
    "ExecuteTime": {
     "end_time": "2020-07-09T01:54:29.663842Z",
     "start_time": "2020-07-09T01:54:29.643392Z"
    }
   },
   "outputs": [
    {
     "name": "stdout",
     "output_type": "stream",
     "text": [
      "bartlett test for accuracy: 1.093, pvalue=0.295732078663\n",
      "bartlett test for sensitivity: 0.009, pvalue=0.922723857021\n",
      "bartlett test for specificity: 0.006, pvalue=0.936280527511\n",
      "bartlett test for negative predictive values: 0.001, pvalue=0.976595110253\n",
      "bartlett test for positive predictive values: 1.452, pvalue=0.228135724654\n"
     ]
    }
   ],
   "source": [
    "from scipy.stats import bartlett\n",
    "\n",
    "accr_stats = bartlett(100*b_metrices[:, 0], 100*e_metrices[:, 0])\n",
    "sens_stats = bartlett(100*b_metrices[:, 1], 100*e_metrices[:, 1])\n",
    "spec_stats = bartlett(100*b_metrices[:, 2], 100*e_metrices[:, 2])\n",
    "npv_stats = bartlett(100*b_metrices[:, 3], 100*e_metrices[:, 3])\n",
    "ppv_stats = bartlett(100*b_metrices[:, 4], 100*e_metrices[:, 4])\n",
    "\n",
    "print(\"bartlett test for accuracy: {:.3f}, pvalue={:.12f}\".format(accr_stats[0], accr_stats[1]))\n",
    "print(\"bartlett test for sensitivity: {:.3f}, pvalue={:.12f}\".format(sens_stats[0], sens_stats[1]))\n",
    "print(\"bartlett test for specificity: {:.3f}, pvalue={:.12f}\".format(spec_stats[0], spec_stats[1]))\n",
    "print(\"bartlett test for negative predictive values: {:.3f}, pvalue={:.12f}\".format(npv_stats[0], npv_stats[1]))\n",
    "print(\"bartlett test for positive predictive values: {:.3f}, pvalue={:.12f}\".format(ppv_stats[0], ppv_stats[1]))"
   ]
  },
  {
   "cell_type": "code",
   "execution_count": 42,
   "metadata": {
    "ExecuteTime": {
     "end_time": "2020-07-09T01:54:32.373209Z",
     "start_time": "2020-07-09T01:54:32.349677Z"
    }
   },
   "outputs": [
    {
     "name": "stdout",
     "output_type": "stream",
     "text": [
      "levene test for accuracy: 0.135, pvalue=0.723213134107\n",
      "levene test for sensitivity: 0.113, pvalue=0.745637746774\n",
      "levene test for specificity: 0.018, pvalue=0.895298678462\n",
      "levene test for negative predictive values: 0.098, pvalue=0.762814540535\n",
      "levene test for positive predictive values: 0.599, pvalue=0.461101767426\n"
     ]
    }
   ],
   "source": [
    "from scipy.stats import levene\n",
    "\n",
    "accr_stats = levene(100*b_metrices[:, 0], 100*e_metrices[:, 0])\n",
    "sens_stats = levene(100*b_metrices[:, 1], 100*e_metrices[:, 1])\n",
    "spec_stats = levene(100*b_metrices[:, 2], 100*e_metrices[:, 2])\n",
    "npv_stats = levene(100*b_metrices[:, 3], 100*e_metrices[:, 3])\n",
    "ppv_stats = levene(100*b_metrices[:, 4], 100*e_metrices[:, 4])\n",
    "\n",
    "print(\"levene test for accuracy: {:.3f}, pvalue={:.12f}\".format(accr_stats[0], accr_stats[1]))\n",
    "print(\"levene test for sensitivity: {:.3f}, pvalue={:.12f}\".format(sens_stats[0], sens_stats[1]))\n",
    "print(\"levene test for specificity: {:.3f}, pvalue={:.12f}\".format(spec_stats[0], spec_stats[1]))\n",
    "print(\"levene test for negative predictive values: {:.3f}, pvalue={:.12f}\".format(npv_stats[0], npv_stats[1]))\n",
    "print(\"levene test for positive predictive values: {:.3f}, pvalue={:.12f}\".format(ppv_stats[0], ppv_stats[1]))"
   ]
  },
  {
   "cell_type": "markdown",
   "metadata": {},
   "source": [
    "### Normality Test"
   ]
  },
  {
   "cell_type": "code",
   "execution_count": 43,
   "metadata": {
    "ExecuteTime": {
     "end_time": "2020-07-09T01:54:33.330292Z",
     "start_time": "2020-07-09T01:54:33.311263Z"
    }
   },
   "outputs": [
    {
     "name": "stdout",
     "output_type": "stream",
     "text": [
      "Kolmogorov-Smirnov test for accuracy: 1.000, pvalue=0.007936507937\n",
      "Kolmogorov-Smirnov test for sensitivity: 0.800, pvalue=0.079365079365\n",
      "Kolmogorov-Smirnov test for specificity: 1.000, pvalue=0.007936507937\n",
      "Kolmogorov-Smirnov test for negative predictive values: 0.800, pvalue=0.079365079365\n",
      "Kolmogorov-Smirnov test for positive predictive values: 1.000, pvalue=0.007936507937\n"
     ]
    }
   ],
   "source": [
    "from scipy.stats import ks_2samp\n",
    "\n",
    "accr_stats = ks_2samp(100*b_metrices[:, 0], 100*e_metrices[:, 0])\n",
    "sens_stats = ks_2samp(100*b_metrices[:, 1], 100*e_metrices[:, 1])\n",
    "spec_stats = ks_2samp(100*b_metrices[:, 2], 100*e_metrices[:, 2])\n",
    "npv_stats = ks_2samp(100*b_metrices[:, 3], 100*e_metrices[:, 3])\n",
    "ppv_stats = ks_2samp(100*b_metrices[:, 4], 100*e_metrices[:, 4])\n",
    "\n",
    "print(\"Kolmogorov-Smirnov test for accuracy: {:.3f}, pvalue={:.12f}\".format(accr_stats[0], accr_stats[1]))\n",
    "print(\"Kolmogorov-Smirnov test for sensitivity: {:.3f}, pvalue={:.12f}\".format(sens_stats[0], sens_stats[1]))\n",
    "print(\"Kolmogorov-Smirnov test for specificity: {:.3f}, pvalue={:.12f}\".format(spec_stats[0], spec_stats[1]))\n",
    "print(\"Kolmogorov-Smirnov test for negative predictive values: {:.3f}, pvalue={:.12f}\".format(npv_stats[0], npv_stats[1]))\n",
    "print(\"Kolmogorov-Smirnov test for positive predictive values: {:.3f}, pvalue={:.12f}\".format(ppv_stats[0], ppv_stats[1]))"
   ]
  },
  {
   "cell_type": "markdown",
   "metadata": {},
   "source": [
    "### Wilcoxon signed-ranks test (not normal and paired group)"
   ]
  },
  {
   "cell_type": "code",
   "execution_count": 44,
   "metadata": {
    "ExecuteTime": {
     "end_time": "2020-07-09T01:54:34.241283Z",
     "start_time": "2020-07-09T01:54:34.215024Z"
    }
   },
   "outputs": [
    {
     "name": "stdout",
     "output_type": "stream",
     "text": [
      "wilcoxon signed-ranks test for accuracy: 0.000, pvalue=0.043114446783\n",
      "wilcoxon signed-ranks test for sensitivity: 0.000, pvalue=0.043114446783\n",
      "wilcoxon signed-ranks test for specificity: 0.000, pvalue=0.043114446783\n",
      "wilcoxon signed-ranks test for negative predictive values: 0.000, pvalue=0.043114446783\n",
      "wilcoxon signed-ranks test for positive predictive values: 0.000, pvalue=0.043114446783\n"
     ]
    },
    {
     "name": "stderr",
     "output_type": "stream",
     "text": [
      "/usr/local/lib/python3.5/dist-packages/scipy/stats/morestats.py:2863: UserWarning: Sample size too small for normal approximation.\n",
      "  warnings.warn(\"Sample size too small for normal approximation.\")\n"
     ]
    }
   ],
   "source": [
    "from scipy.stats import wilcoxon\n",
    "\n",
    "accr_stats = wilcoxon(100*b_metrices[:, 0], 100*e_metrices[:, 0])\n",
    "sens_stats = wilcoxon(100*b_metrices[:, 1], 100*e_metrices[:, 1])\n",
    "spec_stats = wilcoxon(100*b_metrices[:, 2], 100*e_metrices[:, 2])\n",
    "npv_stats = wilcoxon(100*b_metrices[:, 3], 100*e_metrices[:, 3])\n",
    "ppv_stats = wilcoxon(100*b_metrices[:, 4], 100*e_metrices[:, 4])\n",
    "\n",
    "print(\"wilcoxon signed-ranks test for accuracy: {:.3f}, pvalue={:.12f}\".format(accr_stats[0], accr_stats[1]))\n",
    "print(\"wilcoxon signed-ranks test for sensitivity: {:.3f}, pvalue={:.12f}\".format(sens_stats[0], sens_stats[1]))\n",
    "print(\"wilcoxon signed-ranks test for specificity: {:.3f}, pvalue={:.12f}\".format(spec_stats[0], spec_stats[1]))\n",
    "print(\"wilcoxon signed-ranks test for negative predictive values: {:.3f}, pvalue={:.12f}\".format(npv_stats[0], npv_stats[1]))\n",
    "print(\"wilcoxon signed-ranks test for positive predictive values: {:.3f}, pvalue={:.12f}\".format(ppv_stats[0], ppv_stats[1]))"
   ]
  },
  {
   "cell_type": "markdown",
   "metadata": {},
   "source": [
    "### Paired two-sample t-Test (normal and paired group)"
   ]
  },
  {
   "cell_type": "code",
   "execution_count": 45,
   "metadata": {
    "ExecuteTime": {
     "end_time": "2020-07-09T01:54:35.157933Z",
     "start_time": "2020-07-09T01:54:35.136468Z"
    }
   },
   "outputs": [
    {
     "name": "stdout",
     "output_type": "stream",
     "text": [
      "t-statistics for accuracy: 19.504, pvalue=0.000040745371\n",
      "t-statistics for sensitivity: -4.794, pvalue=0.008683333524\n",
      "t-statistics for specificity: 26.536, pvalue=0.000011986457\n",
      "t-statistics for negative predictive values: -4.591, pvalue=0.010096348696\n",
      "t-statistics for positive predictive values: 22.905, pvalue=0.000021523899\n"
     ]
    }
   ],
   "source": [
    "from scipy.stats import ttest_rel\n",
    "\n",
    "accr_stats = ttest_rel(100*b_metrices[:, 0], 100*e_metrices[:, 0])\n",
    "sens_stats = ttest_rel(100*b_metrices[:, 1], 100*e_metrices[:, 1])\n",
    "spec_stats = ttest_rel(100*b_metrices[:, 2], 100*e_metrices[:, 2])\n",
    "npv_stats = ttest_rel(100*b_metrices[:, 3], 100*e_metrices[:, 3])\n",
    "ppv_stats = ttest_rel(100*b_metrices[:, 4], 100*e_metrices[:, 4])\n",
    "\n",
    "print(\"t-statistics for accuracy: {:.3f}, pvalue={:.12f}\".format(accr_stats[0], accr_stats[1]))\n",
    "print(\"t-statistics for sensitivity: {:.3f}, pvalue={:.12f}\".format(sens_stats[0], sens_stats[1]))\n",
    "print(\"t-statistics for specificity: {:.3f}, pvalue={:.12f}\".format(spec_stats[0], spec_stats[1]))\n",
    "print(\"t-statistics for negative predictive values: {:.3f}, pvalue={:.12f}\".format(npv_stats[0], npv_stats[1]))\n",
    "print(\"t-statistics for positive predictive values: {:.3f}, pvalue={:.12f}\".format(ppv_stats[0], ppv_stats[1]))"
   ]
  },
  {
   "cell_type": "code",
   "execution_count": 46,
   "metadata": {
    "ExecuteTime": {
     "end_time": "2020-07-09T01:54:38.001342Z",
     "start_time": "2020-07-09T01:54:37.294621Z"
    }
   },
   "outputs": [
    {
     "data": {
      "image/png": "[encoded data removed]",
      "text/plain": [
       "<Figure size 1440x216 with 5 Axes>"
      ]
     },
     "metadata": {
      "needs_background": "light"
     },
     "output_type": "display_data"
    }
   ],
   "source": [
    "## Distribution by metric\n",
    "\n",
    "import seaborn as sns\n",
    "\n",
    "fig, axes = plt.subplots(ncols = 5)\n",
    "fig.set_size_inches(20, 3)\n",
    "\n",
    "sns.set_style({'axes.grid' : True})\n",
    "\n",
    "sns.distplot(b_metrices[:, 0], color='k', ax = axes[0])\n",
    "sns.distplot(e_metrices[:, 0], color='r', ax = axes[0])\n",
    "sns.distplot(b_metrices[:, 1], color='k', ax = axes[1])\n",
    "sns.distplot(e_metrices[:, 1], color='r', ax = axes[1])\n",
    "sns.distplot(b_metrices[:, 2], color='k', ax = axes[2])\n",
    "sns.distplot(e_metrices[:, 2], color='r', ax = axes[2])\n",
    "sns.distplot(b_metrices[:, 3], color='k', ax = axes[3])\n",
    "sns.distplot(e_metrices[:, 3], color='r', ax = axes[3])\n",
    "sns.distplot(b_metrices[:, 4], color='k', ax = axes[4])\n",
    "sns.distplot(e_metrices[:, 4], color='r', ax = axes[4])\n",
    "\n",
    "fig.show()"
   ]
  },
  {
   "cell_type": "code",
   "execution_count": null,
   "metadata": {},
   "outputs": [],
   "source": []
  }
 ],
 "metadata": {
  "hide_input": false,
  "kernelspec": {
   "display_name": "Python 3",
   "language": "python",
   "name": "python3"
  },
  "language_info": {
   "codemirror_mode": {
    "name": "ipython",
    "version": 3
   },
   "file_extension": ".py",
   "mimetype": "text/x-python",
   "name": "python",
   "nbconvert_exporter": "python",
   "pygments_lexer": "ipython3",
   "version": "3.5.2"
  },
  "toc": {
   "base_numbering": 1,
   "nav_menu": {},
   "number_sections": true,
   "sideBar": true,
   "skip_h1_title": false,
   "title_cell": "Table of Contents",
   "title_sidebar": "Contents",
   "toc_cell": false,
   "toc_position": {},
   "toc_section_display": true,
   "toc_window_display": false
  }
 },
 "nbformat": 4,
 "nbformat_minor": 2
}
