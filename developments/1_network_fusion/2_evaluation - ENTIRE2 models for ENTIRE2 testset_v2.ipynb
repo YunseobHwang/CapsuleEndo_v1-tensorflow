{
 "cells": [
  {
   "cell_type": "code",
   "execution_count": 2,
   "metadata": {
    "ExecuteTime": {
     "end_time": "2020-07-09T00:58:14.812694Z",
     "start_time": "2020-07-09T00:58:10.145687Z"
    }
   },
   "outputs": [
    {
     "name": "stdout",
     "output_type": "stream",
     "text": [
      "Thu Jul  9 09:58:14 2020       \n",
      "+-----------------------------------------------------------------------------+\n",
      "| NVIDIA-SMI 430.26       Driver Version: 430.26       CUDA Version: 10.2     |\n",
      "|-------------------------------+----------------------+----------------------+\n",
      "| GPU  Name        Persistence-M| Bus-Id        Disp.A | Volatile Uncorr. ECC |\n",
      "| Fan  Temp  Perf  Pwr:Usage/Cap|         Memory-Usage | GPU-Util  Compute M. |\n",
      "|===============================+======================+======================|\n",
      "|   0  GeForce RTX 208...  Off  | 00000000:1D:00.0 Off |                  N/A |\n",
      "| 27%   28C    P0    51W / 250W |      0MiB / 11019MiB |      0%      Default |\n",
      "+-------------------------------+----------------------+----------------------+\n",
      "|   1  GeForce RTX 208...  Off  | 00000000:1E:00.0 Off |                  N/A |\n",
      "| 27%   25C    P8     4W / 250W |  10745MiB / 11019MiB |      0%      Default |\n",
      "+-------------------------------+----------------------+----------------------+\n",
      "|   2  GeForce RTX 208...  Off  | 00000000:1F:00.0 Off |                  N/A |\n",
      "| 27%   26C    P8    21W / 250W |    199MiB / 11019MiB |      0%      Default |\n",
      "+-------------------------------+----------------------+----------------------+\n",
      "|   3  GeForce RTX 208...  Off  | 00000000:20:00.0 Off |                  N/A |\n",
      "| 26%   31C    P0    63W / 250W |      0MiB / 11019MiB |      0%      Default |\n",
      "+-------------------------------+----------------------+----------------------+\n",
      "|   4  GeForce RTX 208...  Off  | 00000000:21:00.0 Off |                  N/A |\n",
      "| 28%   32C    P0    64W / 250W |      0MiB / 11019MiB |      1%      Default |\n",
      "+-------------------------------+----------------------+----------------------+\n",
      "|   5  GeForce RTX 208...  Off  | 00000000:22:00.0 Off |                  N/A |\n",
      "| 28%   27C    P0    56W / 250W |      0MiB / 11019MiB |      1%      Default |\n",
      "+-------------------------------+----------------------+----------------------+\n",
      "|   6  GeForce RTX 208...  Off  | 00000000:23:00.0 Off |                  N/A |\n",
      "| 19%   28C    P0     1W / 250W |      0MiB / 11019MiB |      0%      Default |\n",
      "+-------------------------------+----------------------+----------------------+\n",
      "|   7  GeForce RTX 208...  Off  | 00000000:24:00.0 Off |                  N/A |\n",
      "| 27%   27C    P8     1W / 250W |  10925MiB / 11019MiB |      0%      Default |\n",
      "+-------------------------------+----------------------+----------------------+\n",
      "                                                                               \n",
      "+-----------------------------------------------------------------------------+\n",
      "| Processes:                                                       GPU Memory |\n",
      "|  GPU       PID   Type   Process name                             Usage      |\n",
      "|=============================================================================|\n",
      "|    1     34188      C   /usr/bin/python3                           10735MiB |\n",
      "|    2     31659      C   /usr/bin/python3                             189MiB |\n",
      "|    7     34157      C   /usr/bin/python3                           10915MiB |\n",
      "+-----------------------------------------------------------------------------+\n"
     ]
    }
   ],
   "source": [
    "!nvidia-smi"
   ]
  },
  {
   "cell_type": "code",
   "execution_count": 4,
   "metadata": {
    "ExecuteTime": {
     "end_time": "2020-07-09T00:58:40.557060Z",
     "start_time": "2020-07-09T00:58:39.251594Z"
    }
   },
   "outputs": [
    {
     "name": "stderr",
     "output_type": "stream",
     "text": [
      "/usr/local/lib/python3.5/dist-packages/tensorflow/python/framework/dtypes.py:516: FutureWarning: Passing (type, 1) or '1type' as a synonym of type is deprecated; in a future version of numpy, it will be understood as (type, (1,)) / '(1,)type'.\n",
      "  _np_qint8 = np.dtype([(\"qint8\", np.int8, 1)])\n",
      "/usr/local/lib/python3.5/dist-packages/tensorflow/python/framework/dtypes.py:517: FutureWarning: Passing (type, 1) or '1type' as a synonym of type is deprecated; in a future version of numpy, it will be understood as (type, (1,)) / '(1,)type'.\n",
      "  _np_quint8 = np.dtype([(\"quint8\", np.uint8, 1)])\n",
      "/usr/local/lib/python3.5/dist-packages/tensorflow/python/framework/dtypes.py:518: FutureWarning: Passing (type, 1) or '1type' as a synonym of type is deprecated; in a future version of numpy, it will be understood as (type, (1,)) / '(1,)type'.\n",
      "  _np_qint16 = np.dtype([(\"qint16\", np.int16, 1)])\n",
      "/usr/local/lib/python3.5/dist-packages/tensorflow/python/framework/dtypes.py:519: FutureWarning: Passing (type, 1) or '1type' as a synonym of type is deprecated; in a future version of numpy, it will be understood as (type, (1,)) / '(1,)type'.\n",
      "  _np_quint16 = np.dtype([(\"quint16\", np.uint16, 1)])\n",
      "/usr/local/lib/python3.5/dist-packages/tensorflow/python/framework/dtypes.py:520: FutureWarning: Passing (type, 1) or '1type' as a synonym of type is deprecated; in a future version of numpy, it will be understood as (type, (1,)) / '(1,)type'.\n",
      "  _np_qint32 = np.dtype([(\"qint32\", np.int32, 1)])\n",
      "/usr/local/lib/python3.5/dist-packages/tensorflow/python/framework/dtypes.py:525: FutureWarning: Passing (type, 1) or '1type' as a synonym of type is deprecated; in a future version of numpy, it will be understood as (type, (1,)) / '(1,)type'.\n",
      "  np_resource = np.dtype([(\"resource\", np.ubyte, 1)])\n",
      "/usr/local/lib/python3.5/dist-packages/tensorboard/compat/tensorflow_stub/dtypes.py:541: FutureWarning: Passing (type, 1) or '1type' as a synonym of type is deprecated; in a future version of numpy, it will be understood as (type, (1,)) / '(1,)type'.\n",
      "  _np_qint8 = np.dtype([(\"qint8\", np.int8, 1)])\n",
      "/usr/local/lib/python3.5/dist-packages/tensorboard/compat/tensorflow_stub/dtypes.py:542: FutureWarning: Passing (type, 1) or '1type' as a synonym of type is deprecated; in a future version of numpy, it will be understood as (type, (1,)) / '(1,)type'.\n",
      "  _np_quint8 = np.dtype([(\"quint8\", np.uint8, 1)])\n",
      "/usr/local/lib/python3.5/dist-packages/tensorboard/compat/tensorflow_stub/dtypes.py:543: FutureWarning: Passing (type, 1) or '1type' as a synonym of type is deprecated; in a future version of numpy, it will be understood as (type, (1,)) / '(1,)type'.\n",
      "  _np_qint16 = np.dtype([(\"qint16\", np.int16, 1)])\n",
      "/usr/local/lib/python3.5/dist-packages/tensorboard/compat/tensorflow_stub/dtypes.py:544: FutureWarning: Passing (type, 1) or '1type' as a synonym of type is deprecated; in a future version of numpy, it will be understood as (type, (1,)) / '(1,)type'.\n",
      "  _np_quint16 = np.dtype([(\"quint16\", np.uint16, 1)])\n",
      "/usr/local/lib/python3.5/dist-packages/tensorboard/compat/tensorflow_stub/dtypes.py:545: FutureWarning: Passing (type, 1) or '1type' as a synonym of type is deprecated; in a future version of numpy, it will be understood as (type, (1,)) / '(1,)type'.\n",
      "  _np_qint32 = np.dtype([(\"qint32\", np.int32, 1)])\n",
      "/usr/local/lib/python3.5/dist-packages/tensorboard/compat/tensorflow_stub/dtypes.py:550: FutureWarning: Passing (type, 1) or '1type' as a synonym of type is deprecated; in a future version of numpy, it will be understood as (type, (1,)) / '(1,)type'.\n",
      "  np_resource = np.dtype([(\"resource\", np.ubyte, 1)])\n"
     ]
    }
   ],
   "source": [
    "import os\n",
    "os.environ[\"CUDA_DEVICE_ORDER\"]=\"PCI_BUS_ID\"\n",
    "os.environ[\"CUDA_VISIBLE_DEVICES\"]=\"0\"\n",
    "\n",
    "import numpy as np\n",
    "import matplotlib.pyplot as plt\n",
    "\n",
    "import sys\n",
    "sys.path.append('/mnt/disk1/project/SMhospital/capsule/ce_packages')\n",
    "\n",
    "from ce_utils import load_data, one_hot, test_batch_idxs\n",
    "from ce_utils import model_prob\n",
    "from ce_utils import classification_metric\n",
    "from ce_model import binary_model, ensemble_model"
   ]
  },
  {
   "cell_type": "markdown",
   "metadata": {},
   "source": [
    "# Load Data"
   ]
  },
  {
   "cell_type": "code",
   "execution_count": 5,
   "metadata": {
    "ExecuteTime": {
     "end_time": "2020-07-09T00:58:42.401702Z",
     "start_time": "2020-07-09T00:58:42.378819Z"
    }
   },
   "outputs": [],
   "source": [
    "import glob\n",
    "import cv2\n",
    "\n",
    "def load_data(phase, cls, les = None, data = 'sm', data_dir = '/mnt/disk2/data/private_data/SMhospital/capsule/1 preprocessed', \n",
    "              extract_name = False, image_ch = 'bgr'):\n",
    "    \"\"\"\n",
    "    phase = 'train', 'test'\n",
    "    cls: [les]  \n",
    "      'n': ['neg']\n",
    "      'h': ['redspot', 'angio', 'active'], \n",
    "      'd': ['ero', 'ulc', 'str'],\n",
    "      'p': ['amp', 'lym', 'tum']}\n",
    "    \"\"\"\n",
    "    lesions = dict(neg = 'negative', \n",
    "                   redspot = 'red_spot', angio = 'angioectasia', active = 'active_bleeding', \n",
    "                   ero = 'erosion', ulcer = 'ulcer', str = 'stricture', \n",
    "                   amp = 'ampulla_of_vater', lym = 'lymphoid_follicles', tum = 'small_bowel_tumor')\n",
    "    classes = dict(n = 'negative', h = 'hemorrhagic', d = 'depressed', p = 'protruded')\n",
    "\n",
    "    path = os.path.join(data_dir, data, phase, classes[cls], lesions[les])\n",
    "    pathlist = glob.glob(path + '/*.jpg')\n",
    "    new_pathlist = []\n",
    "    for p in pathlist:\n",
    "        name = os.path.basename(p)\n",
    "        name_seg1 = name.split('___')[0]\n",
    "        if not ('f_' in name_seg1 or 'r1_' in name_seg1 or 'r2_' in name_seg1 or 'r3_' in name_seg1):\n",
    "            new_pathlist.append(p)\n",
    "    return load_image_from_path(new_pathlist, image_ch = image_ch, extract_name = extract_name)\n",
    "\n",
    "def load_image_from_path(pathlist,image_ch = 'bgr', extract_name = False):\n",
    "    data = []\n",
    "    for i in pathlist:\n",
    "        temp = cv2.imread(i)\n",
    "        if image_ch == 'bgr':\n",
    "            pass\n",
    "        elif image_ch == 'rgb':\n",
    "            temp = cv2.cvtColor(temp, cv2.COLOR_BGR2RGB)\n",
    "        elif image_ch == 'hsv':\n",
    "            temp = cv2.cvtColor(temp, cv2.COLOR_BGR2HSV)\n",
    "        data.append(temp)\n",
    "    if extract_name != False:\n",
    "        name = []\n",
    "        for i in pathlist:\n",
    "            name.append(os.path.basename(i))\n",
    "        return np.asarray(data), np.asarray(name)\n",
    "    else:\n",
    "        return np.asarray(data) "
   ]
  },
  {
   "cell_type": "code",
   "execution_count": 6,
   "metadata": {
    "ExecuteTime": {
     "end_time": "2020-07-09T00:58:43.241286Z",
     "start_time": "2020-07-09T00:58:43.200850Z"
    }
   },
   "outputs": [],
   "source": [
    "angio_img, angio_name = load_data('test', 'h', 'angio', data = 'sm_v2', extract_name = True)"
   ]
  },
  {
   "cell_type": "code",
   "execution_count": 7,
   "metadata": {
    "ExecuteTime": {
     "end_time": "2020-07-09T00:58:58.775837Z",
     "start_time": "2020-07-09T00:58:43.938702Z"
    }
   },
   "outputs": [],
   "source": [
    "neg_img, neg_name = load_data('test', 'n', 'neg', data = 'sm_v2', extract_name = True)\n",
    "redspot_img, redspot_name = load_data('test', 'h', 'redspot', data = 'sm_v2', extract_name = True)\n",
    "angio_img, angio_name = load_data('test', 'h', 'angio', data = 'sm_v2', extract_name = True)\n",
    "active_img, active_name = load_data('test', 'h', 'active', data = 'sm_v2', extract_name = True)\n",
    "ero_img, ero_name = load_data('test', 'd', 'ero', data = 'sm_v2', extract_name = True)\n",
    "ulcer_img, ulcer_name = load_data('test', 'd', 'ulcer', data = 'sm_v2', extract_name = True)\n",
    "str_img, str_name = load_data('test', 'd', 'str', data = 'sm_v2', extract_name = True)"
   ]
  },
  {
   "cell_type": "code",
   "execution_count": 8,
   "metadata": {
    "ExecuteTime": {
     "end_time": "2020-07-09T00:58:58.799775Z",
     "start_time": "2020-07-09T00:58:58.780239Z"
    }
   },
   "outputs": [
    {
     "name": "stdout",
     "output_type": "stream",
     "text": [
      "negative: (1561, 512, 512, 3) (1561, 2)\n",
      "red spot: (139, 512, 512, 3) (139, 2)\n",
      "angioectasia: (5, 512, 512, 3) (5, 2)\n",
      "active_bleeding: (108, 512, 512, 3) (108, 2)\n",
      "erosion: (185, 512, 512, 3) (185, 2)\n",
      "ulcer: (183, 512, 512, 3) (183, 2)\n",
      "stricture: (26, 512, 512, 3) (26, 2)\n"
     ]
    }
   ],
   "source": [
    "neg_label = one_hot(neg_img, 0)\n",
    "redspot_label = one_hot(redspot_img, 1)\n",
    "angio_label = one_hot(angio_img, 1)\n",
    "active_label = one_hot(active_img, 1)\n",
    "ero_label = one_hot(ero_img, 1)\n",
    "ulcer_label = one_hot(ulcer_img, 1)\n",
    "str_label = one_hot(str_img, 1)\n",
    "\n",
    "print(\"negative:\",neg_img.shape, neg_label.shape)\n",
    "print(\"red spot:\",redspot_img.shape, redspot_label.shape)\n",
    "print(\"angioectasia:\",angio_img.shape, angio_label.shape)\n",
    "print(\"active_bleeding:\",active_img.shape, active_label.shape)\n",
    "print(\"erosion:\",ero_img.shape, ero_label.shape)\n",
    "print(\"ulcer:\",ulcer_img.shape, ulcer_label.shape)\n",
    "print(\"stricture:\",str_img.shape, str_label.shape)"
   ]
  },
  {
   "cell_type": "code",
   "execution_count": 9,
   "metadata": {
    "ExecuteTime": {
     "end_time": "2020-07-09T01:01:35.302189Z",
     "start_time": "2020-07-09T01:01:35.289452Z"
    }
   },
   "outputs": [
    {
     "data": {
      "text/plain": [
       "252"
      ]
     },
     "execution_count": 9,
     "metadata": {},
     "output_type": "execute_result"
    }
   ],
   "source": [
    "len(redspot_name) + len(angio_name) + len(active_name)"
   ]
  },
  {
   "cell_type": "code",
   "execution_count": 10,
   "metadata": {
    "ExecuteTime": {
     "end_time": "2020-07-09T01:01:36.068775Z",
     "start_time": "2020-07-09T01:01:36.060855Z"
    }
   },
   "outputs": [
    {
     "data": {
      "text/plain": [
       "394"
      ]
     },
     "execution_count": 10,
     "metadata": {},
     "output_type": "execute_result"
    }
   ],
   "source": [
    "len(ero_name) + len(ulcer_name) + len(str_name)"
   ]
  },
  {
   "cell_type": "code",
   "execution_count": 11,
   "metadata": {
    "ExecuteTime": {
     "end_time": "2020-07-09T01:01:36.540806Z",
     "start_time": "2020-07-09T01:01:36.523993Z"
    }
   },
   "outputs": [
    {
     "data": {
      "text/plain": [
       "646"
      ]
     },
     "execution_count": 11,
     "metadata": {},
     "output_type": "execute_result"
    }
   ],
   "source": [
    "len(redspot_name) + len(angio_name) + len(active_name) + len(ero_name) + len(ulcer_name) + len(str_name)"
   ]
  },
  {
   "cell_type": "code",
   "execution_count": 12,
   "metadata": {
    "ExecuteTime": {
     "end_time": "2020-07-09T01:01:36.904952Z",
     "start_time": "2020-07-09T01:01:36.894505Z"
    }
   },
   "outputs": [
    {
     "data": {
      "text/plain": [
       "array([442, 964, 102, ..., 833, 490, 112])"
      ]
     },
     "execution_count": 12,
     "metadata": {},
     "output_type": "execute_result"
    }
   ],
   "source": [
    "np.random.choice(len(neg_name), 4522)"
   ]
  },
  {
   "cell_type": "code",
   "execution_count": 13,
   "metadata": {
    "ExecuteTime": {
     "end_time": "2020-07-09T01:01:38.268932Z",
     "start_time": "2020-07-09T01:01:37.166429Z"
    }
   },
   "outputs": [],
   "source": [
    "neg2_img = neg_img[np.random.choice(len(neg_name), 4522)]\n",
    "neg2_label = one_hot(neg2_img, 0)"
   ]
  },
  {
   "cell_type": "code",
   "execution_count": 46,
   "metadata": {
    "ExecuteTime": {
     "end_time": "2020-07-09T01:15:39.720285Z",
     "start_time": "2020-07-09T01:15:39.713782Z"
    }
   },
   "outputs": [
    {
     "data": {
      "text/plain": [
       "(4522, 512, 512, 3)"
      ]
     },
     "execution_count": 46,
     "metadata": {},
     "output_type": "execute_result"
    }
   ],
   "source": [
    "neg2_img.shape"
   ]
  },
  {
   "cell_type": "markdown",
   "metadata": {},
   "source": [
    "# Model Inference"
   ]
  },
  {
   "cell_type": "code",
   "execution_count": 18,
   "metadata": {
    "ExecuteTime": {
     "end_time": "2020-01-20T07:32:31.466799Z",
     "start_time": "2020-01-20T07:32:31.454488Z"
    }
   },
   "outputs": [],
   "source": [
    "nh_list = sorted([i[:-5] for i in os.listdir('./model') if 'meta' in i and 'ENTIRE2_NH' in i])\n",
    "nd_list = sorted([i[:-5] for i in os.listdir('./model') if 'meta' in i and 'ENTIRE2_ND' in i])\n",
    "b_list = sorted([i[:-5] for i in os.listdir('./model') if 'meta' in i and 'ENTIRE2_B' in i])"
   ]
  },
  {
   "cell_type": "code",
   "execution_count": 19,
   "metadata": {
    "ExecuteTime": {
     "end_time": "2020-01-20T07:32:31.824177Z",
     "start_time": "2020-01-20T07:32:31.816838Z"
    }
   },
   "outputs": [
    {
     "data": {
      "text/plain": [
       "['ENTIRE2_NH_2001060148_2540_val_acc_1.00_val_loss_0.034387',\n",
       " 'ENTIRE2_NH_2001060150_2870_val_acc_0.98_val_loss_0.027345',\n",
       " 'ENTIRE2_NH_2001060155_3730_val_acc_1.00_val_loss_0.015424',\n",
       " 'ENTIRE2_NH_2001060204_5320_val_acc_1.00_val_loss_0.009253',\n",
       " 'ENTIRE2_NH_2001060208_6000_val_acc_1.00_val_loss_0.005527',\n",
       " 'ENTIRE2_NH_2001062352_20490_val_acc_1.00_val_loss_0.000032',\n",
       " 'ENTIRE2_NH_2001070020_23020_val_acc_1.00_val_loss_0.000018',\n",
       " 'ENTIRE2_NH_2001070150_5800_val_acc_0.98_val_loss_0.043403',\n",
       " 'ENTIRE2_NH_2001070151_5900_val_acc_0.98_val_loss_0.038373',\n",
       " 'ENTIRE2_NH_2001070214_8200_val_acc_1.00_val_loss_0.035504',\n",
       " 'ENTIRE2_NH_2001070221_8900_val_acc_0.99_val_loss_0.023356',\n",
       " 'ENTIRE2_NH_2001080155_12800_val_acc_0.99_val_loss_0.016635',\n",
       " 'ENTIRE2_NH_2001081600_2000_val_acc_0.97_val_loss_0.093729',\n",
       " 'ENTIRE2_NH_2001081601_2100_val_acc_0.97_val_loss_0.057087',\n",
       " 'ENTIRE2_NH_2001081619_3800_val_acc_0.97_val_loss_0.054612',\n",
       " 'ENTIRE2_NH_2001081626_4500_val_acc_0.98_val_loss_0.046558',\n",
       " 'ENTIRE2_NH_2001081636_5500_val_acc_0.99_val_loss_0.035910',\n",
       " 'ENTIRE2_NH_2001100009_520_val_acc_0.82_val_loss_0.420632',\n",
       " 'ENTIRE2_NH_2001100009_540_val_acc_0.80_val_loss_0.420203',\n",
       " 'ENTIRE2_NH_2001100010_560_val_acc_0.81_val_loss_0.404852',\n",
       " 'ENTIRE2_NH_2001100010_600_val_acc_0.86_val_loss_0.363961',\n",
       " 'ENTIRE2_NH_2001100013_800_val_acc_0.84_val_loss_0.363432',\n",
       " 'ENTIRE2_NH_2001100015_10_val_acc_0.51_val_loss_0.691620',\n",
       " 'ENTIRE2_NH_2001100015_20_val_acc_0.54_val_loss_0.689558',\n",
       " 'ENTIRE2_NH_2001100015_30_val_acc_0.62_val_loss_0.668374',\n",
       " 'ENTIRE2_NH_2001100016_50_val_acc_0.67_val_loss_0.607173',\n",
       " 'ENTIRE2_NH_2001100016_60_val_acc_0.66_val_loss_0.604228',\n",
       " 'ENTIRE2_NH_2001100048_1330_val_acc_0.99_val_loss_0.045598',\n",
       " 'ENTIRE2_NH_2001100050_1460_val_acc_0.98_val_loss_0.044435',\n",
       " 'ENTIRE2_NH_2001100055_1710_val_acc_0.99_val_loss_0.044217',\n",
       " 'ENTIRE2_NH_2001100102_2100_val_acc_1.00_val_loss_0.019105',\n",
       " 'ENTIRE2_NH_2001100103_2170_val_acc_1.00_val_loss_0.007778',\n",
       " 'ENTIRE2_NH_2001111342_3890_val_acc_1.00_val_loss_0.002133',\n",
       " 'ENTIRE2_NH_2001111439_6970_val_acc_1.00_val_loss_0.000618',\n",
       " 'ENTIRE2_NH_2001111440_7010_val_acc_1.00_val_loss_0.000609',\n",
       " 'ENTIRE2_NH_2001111447_7410_val_acc_1.00_val_loss_0.000572',\n",
       " 'ENTIRE2_NH_2001111508_8490_val_acc_1.00_val_loss_0.000414']"
      ]
     },
     "execution_count": 19,
     "metadata": {},
     "output_type": "execute_result"
    }
   ],
   "source": [
    "nh_list"
   ]
  },
  {
   "cell_type": "code",
   "execution_count": 20,
   "metadata": {
    "ExecuteTime": {
     "end_time": "2020-01-20T07:32:32.477846Z",
     "start_time": "2020-01-20T07:32:32.468205Z"
    },
    "scrolled": false
   },
   "outputs": [
    {
     "data": {
      "text/plain": [
       "['ENTIRE2_ND_2001062348_20190_val_acc_1.00_val_loss_0.002604',\n",
       " 'ENTIRE2_ND_2001062355_20780_val_acc_1.00_val_loss_0.001135',\n",
       " 'ENTIRE2_ND_2001070006_21740_val_acc_1.00_val_loss_0.000432',\n",
       " 'ENTIRE2_ND_2001070141_4900_val_acc_0.96_val_loss_0.124103',\n",
       " 'ENTIRE2_ND_2001070150_5800_val_acc_0.96_val_loss_0.120055',\n",
       " 'ENTIRE2_ND_2001070152_6000_val_acc_0.97_val_loss_0.106324',\n",
       " 'ENTIRE2_ND_2001070211_7800_val_acc_0.96_val_loss_0.104963',\n",
       " 'ENTIRE2_ND_2001070212_7900_val_acc_0.97_val_loss_0.058071',\n",
       " 'ENTIRE2_ND_2001081614_2700_val_acc_0.95_val_loss_0.130868',\n",
       " 'ENTIRE2_ND_2001081615_2800_val_acc_0.96_val_loss_0.113698',\n",
       " 'ENTIRE2_ND_2001081634_4700_val_acc_0.95_val_loss_0.104473',\n",
       " 'ENTIRE2_ND_2001081639_5200_val_acc_0.97_val_loss_0.078812',\n",
       " 'ENTIRE2_ND_2001081650_6300_val_acc_0.98_val_loss_0.049867',\n",
       " 'ENTIRE2_ND_2001100010_10_val_acc_0.50_val_loss_0.691652',\n",
       " 'ENTIRE2_ND_2001100010_50_val_acc_0.48_val_loss_0.690351',\n",
       " 'ENTIRE2_ND_2001100011_60_val_acc_0.47_val_loss_0.679513',\n",
       " 'ENTIRE2_ND_2001100011_70_val_acc_0.65_val_loss_0.657932',\n",
       " 'ENTIRE2_ND_2001100011_90_val_acc_0.67_val_loss_0.563440',\n",
       " 'ENTIRE2_ND_2001100015_10_val_acc_0.52_val_loss_0.691693',\n",
       " 'ENTIRE2_ND_2001100015_30_val_acc_0.50_val_loss_0.691295',\n",
       " 'ENTIRE2_ND_2001100015_40_val_acc_0.61_val_loss_0.686412',\n",
       " 'ENTIRE2_ND_2001100016_80_val_acc_0.49_val_loss_0.674461',\n",
       " 'ENTIRE2_ND_2001100118_2870_val_acc_1.00_val_loss_0.030858',\n",
       " 'ENTIRE2_ND_2001100129_3460_val_acc_0.99_val_loss_0.026349',\n",
       " 'ENTIRE2_ND_2001100149_4520_val_acc_1.00_val_loss_0.023429',\n",
       " 'ENTIRE2_ND_2001100152_4670_val_acc_1.00_val_loss_0.012078',\n",
       " 'ENTIRE2_ND_2001100154_4760_val_acc_1.00_val_loss_0.010985',\n",
       " 'ENTIRE2_ND_2001111357_4670_val_acc_1.00_val_loss_0.009702',\n",
       " 'ENTIRE2_ND_2001111433_6630_val_acc_1.00_val_loss_0.004391',\n",
       " 'ENTIRE2_ND_2001111500_8110_val_acc_1.00_val_loss_0.002249',\n",
       " 'ENTIRE2_ND_2001111513_8820_val_acc_1.00_val_loss_0.002107',\n",
       " 'ENTIRE2_ND_2001111523_9360_val_acc_1.00_val_loss_0.000198']"
      ]
     },
     "execution_count": 20,
     "metadata": {},
     "output_type": "execute_result"
    }
   ],
   "source": [
    "nd_list"
   ]
  },
  {
   "cell_type": "code",
   "execution_count": 21,
   "metadata": {
    "ExecuteTime": {
     "end_time": "2020-01-20T07:32:32.934999Z",
     "start_time": "2020-01-20T07:32:32.927143Z"
    }
   },
   "outputs": [
    {
     "data": {
      "text/plain": [
       "['ENTIRE2_B_2001060434_9410_val_acc_1.00_val_loss_0.019657',\n",
       " 'ENTIRE2_B_2001060441_9870_val_acc_1.00_val_loss_0.011613',\n",
       " 'ENTIRE2_B_2001060509_11910_val_acc_1.00_val_loss_0.009551',\n",
       " 'ENTIRE2_B_2001060518_12540_val_acc_1.00_val_loss_0.008383',\n",
       " 'ENTIRE2_B_2001060534_13690_val_acc_1.00_val_loss_0.006853',\n",
       " 'ENTIRE2_B_2001081714_6900_val_acc_0.96_val_loss_0.094075',\n",
       " 'ENTIRE2_B_2001081734_8800_val_acc_0.97_val_loss_0.077247',\n",
       " 'ENTIRE2_B_2001081739_9300_val_acc_0.98_val_loss_0.059156',\n",
       " 'ENTIRE2_B_2001081801_11400_val_acc_0.98_val_loss_0.050810',\n",
       " 'ENTIRE2_B_2001081821_13300_val_acc_0.98_val_loss_0.042233',\n",
       " 'ENTIRE2_B_2001100012_80_val_acc_0.60_val_loss_0.659025',\n",
       " 'ENTIRE2_B_2001100013_150_val_acc_0.66_val_loss_0.650705',\n",
       " 'ENTIRE2_B_2001100013_90_val_acc_0.57_val_loss_0.655705',\n",
       " 'ENTIRE2_B_2001100014_160_val_acc_0.64_val_loss_0.616498',\n",
       " 'ENTIRE2_B_2001100014_180_val_acc_0.68_val_loss_0.614124',\n",
       " 'ENTIRE2_B_2001100015_10_val_acc_0.50_val_loss_0.691157',\n",
       " 'ENTIRE2_B_2001100015_30_val_acc_0.62_val_loss_0.688692',\n",
       " 'ENTIRE2_B_2001100015_50_val_acc_0.64_val_loss_0.606388',\n",
       " 'ENTIRE2_B_2001100122_3070_val_acc_1.00_val_loss_0.034832',\n",
       " 'ENTIRE2_B_2001100128_3400_val_acc_0.99_val_loss_0.023191',\n",
       " 'ENTIRE2_B_2001100151_4610_val_acc_1.00_val_loss_0.007210',\n",
       " 'ENTIRE2_B_2001100245_7540_val_acc_1.00_val_loss_0.005794',\n",
       " 'ENTIRE2_B_2001100252_7900_val_acc_1.00_val_loss_0.005764',\n",
       " 'ENTIRE2_B_2001111520_9240_val_acc_1.00_val_loss_0.006530',\n",
       " 'ENTIRE2_B_2001111534_10000_val_acc_1.00_val_loss_0.003601',\n",
       " 'ENTIRE2_B_2001111601_11500_val_acc_1.00_val_loss_0.003172',\n",
       " 'ENTIRE2_B_2001111644_13910_val_acc_1.00_val_loss_0.001824',\n",
       " 'ENTIRE2_B_2001111644_13940_val_acc_1.00_val_loss_0.000300']"
      ]
     },
     "execution_count": 21,
     "metadata": {},
     "output_type": "execute_result"
    }
   ],
   "source": [
    "b_list"
   ]
  },
  {
   "cell_type": "code",
   "execution_count": 15,
   "metadata": {
    "ExecuteTime": {
     "end_time": "2020-07-09T01:02:26.400894Z",
     "start_time": "2020-07-09T01:02:18.981810Z"
    }
   },
   "outputs": [
    {
     "name": "stderr",
     "output_type": "stream",
     "text": [
      "WARNING: Logging before flag parsing goes to stderr.\n",
      "W0709 10:02:24.016807 139782784444160 deprecation.py:323] From /usr/local/lib/python3.5/dist-packages/tensorflow/python/training/saver.py:1276: checkpoint_exists (from tensorflow.python.training.checkpoint_management) is deprecated and will be removed in a future version.\n",
      "Instructions for updating:\n",
      "Use standard file APIs to check for files with this prefix.\n"
     ]
    }
   ],
   "source": [
    "nh_path = './model/' + 'NH_2001062207_10900_val_acc_1.00_val_loss_0.000584'\n",
    "nd_path = './model/' + 'ND_2001060354_8430_val_acc_1.00_val_loss_0.009623'\n",
    "b_path = './model/' + 'B_2001060534_13690_val_acc_1.00_val_loss_0.006853'\n",
    "\n",
    "nh_path = './model/' + 'NH_2001080155_12800_val_acc_0.99_val_loss_0.016635'\n",
    "nd_path = './model/' + 'ND_2001070006_21740_val_acc_1.00_val_loss_0.000432'\n",
    "b_path = './model/' + 'B_2001080202_18300_val_acc_0.99_val_loss_0.026502'\n",
    "\n",
    "nh_path = './model/' + 'NH_2007081211_19400_val_acc_1.00_val_loss_0.000554'\n",
    "nd_path = './model/' + 'ND_2007072041_24400_val_acc_1.00_val_loss_0.000811'\n",
    "b_path = './model/' + 'B_2007081857_34000_val_acc_1.00_val_loss_0.006241'\n",
    "\n",
    "# nh_path = './model/' + nh_list[-1]\n",
    "# nd_path = './model/' + nd_list[-1]\n",
    "# b_path = './model/' + b_list[-1]\n",
    "\n",
    "NH_model = binary_model(nh_path)\n",
    "ND_model = binary_model(nd_path)\n",
    "E_model = ensemble_model(nh_path, nd_path)\n",
    "B_model = binary_model(b_path)"
   ]
  },
  {
   "cell_type": "code",
   "execution_count": 16,
   "metadata": {
    "ExecuteTime": {
     "end_time": "2020-07-09T01:03:02.053712Z",
     "start_time": "2020-07-09T01:02:27.250847Z"
    }
   },
   "outputs": [
    {
     "name": "stdout",
     "output_type": "stream",
     "text": [
      "1561 / Inference Time: 00:00:22\n",
      "139 / Inference Time: 00:00:02\n",
      "5 / Inference Time: 00:00:00\n",
      "108 / Inference Time: 00:00:01\n",
      "185 / Inference Time: 00:00:03\n",
      "183 / Inference Time: 00:00:03\n",
      "26 / Inference Time: 00:00:00\n"
     ]
    }
   ],
   "source": [
    "neg_e_output, neg_nh_output, neg_nd_output = model_prob(E_model, neg_img, model_type = 'ensemble')\n",
    "redspot_e_output, redspot_nh_output, redspot_nd_output = model_prob(E_model, redspot_img, model_type = 'ensemble')\n",
    "angio_e_output, angio_nh_output, angio_nd_output = model_prob(E_model, angio_img, model_type = 'ensemble')\n",
    "active_e_output, active_nh_output, active_nd_output = model_prob(E_model, active_img, model_type = 'ensemble')\n",
    "ero_e_output, ero_nh_output, ero_nd_output = model_prob(E_model, ero_img, model_type = 'ensemble')\n",
    "ulcer_e_output, ulcer_nh_output, ulcer_nd_output = model_prob(E_model, ulcer_img, model_type = 'ensemble')\n",
    "str_e_output, str_nh_output, str_nd_output  = model_prob(E_model, str_img, model_type = 'ensemble')"
   ]
  },
  {
   "cell_type": "code",
   "execution_count": 17,
   "metadata": {
    "ExecuteTime": {
     "end_time": "2020-07-09T01:03:24.956557Z",
     "start_time": "2020-07-09T01:03:11.893235Z"
    }
   },
   "outputs": [
    {
     "name": "stdout",
     "output_type": "stream",
     "text": [
      "1561 / Inference Time: 00:00:08\n",
      "139 / Inference Time: 00:00:00\n",
      "5 / Inference Time: 00:00:00\n",
      "108 / Inference Time: 00:00:00\n",
      "185 / Inference Time: 00:00:01\n",
      "183 / Inference Time: 00:00:01\n",
      "26 / Inference Time: 00:00:00\n"
     ]
    }
   ],
   "source": [
    "neg_b_output = model_prob(B_model, neg_img)\n",
    "redspot_b_output = model_prob(B_model, redspot_img)\n",
    "angio_b_output = model_prob(B_model, angio_img)\n",
    "active_b_output = model_prob(B_model, active_img)\n",
    "ero_b_output = model_prob(B_model, ero_img)\n",
    "ulcer_b_output = model_prob(B_model, ulcer_img)\n",
    "str_b_output  = model_prob(B_model, str_img)"
   ]
  },
  {
   "cell_type": "markdown",
   "metadata": {},
   "source": [
    "# Evaluation"
   ]
  },
  {
   "cell_type": "code",
   "execution_count": 18,
   "metadata": {
    "ExecuteTime": {
     "end_time": "2020-07-09T01:03:24.966586Z",
     "start_time": "2020-07-09T01:03:24.961561Z"
    }
   },
   "outputs": [],
   "source": [
    "cls = classification_metric()"
   ]
  },
  {
   "cell_type": "markdown",
   "metadata": {},
   "source": [
    "## Accuracy per lesion"
   ]
  },
  {
   "cell_type": "code",
   "execution_count": 21,
   "metadata": {
    "ExecuteTime": {
     "end_time": "2020-07-09T01:05:36.844842Z",
     "start_time": "2020-07-09T01:05:36.827657Z"
    }
   },
   "outputs": [
    {
     "name": "stdout",
     "output_type": "stream",
     "text": [
      "neg: 97.31 %\n",
      "red spot: 90.65 %\n",
      "angio: 100.00 %\n",
      "active: 98.15 %\n"
     ]
    }
   ],
   "source": [
    "neg_nh_acc = cls.accuracy(neg_label, neg_nh_output, 'neg')\n",
    "redspot_nh_acc = cls.accuracy(redspot_label, redspot_nh_output, 'red spot')\n",
    "angio_nh_acc = cls.accuracy(angio_label, angio_nh_output, 'angio')\n",
    "active_nh_acc = cls.accuracy(active_label, active_nh_output, 'active')"
   ]
  },
  {
   "cell_type": "code",
   "execution_count": 23,
   "metadata": {
    "ExecuteTime": {
     "end_time": "2020-07-09T01:05:59.435338Z",
     "start_time": "2020-07-09T01:05:59.424503Z"
    }
   },
   "outputs": [
    {
     "name": "stdout",
     "output_type": "stream",
     "text": [
      "neg: 98.72 %\n",
      "ero: 94.05 %\n",
      "ulcer: 93.44 %\n",
      "str: 88.46 %\n"
     ]
    }
   ],
   "source": [
    "neg_nd_acc = cls.accuracy(neg_label, neg_nd_output, 'neg')\n",
    "ero_nd_acc = cls.accuracy(ero_label, ero_nd_output, 'ero')\n",
    "ulcer_nd_acc = cls.accuracy(ulcer_label, ulcer_nd_output, 'ulcer')\n",
    "str_nd_acc = cls.accuracy(str_label, str_nd_output, 'str')"
   ]
  },
  {
   "cell_type": "code",
   "execution_count": 25,
   "metadata": {
    "ExecuteTime": {
     "end_time": "2020-07-09T01:06:38.174668Z",
     "start_time": "2020-07-09T01:06:38.161583Z"
    }
   },
   "outputs": [
    {
     "name": "stdout",
     "output_type": "stream",
     "text": [
      "neg: 98.33 %\n",
      "red: 87.77 %\n",
      "ang: 100.00 %\n",
      "active: 98.15 %\n",
      "ero: 95.14 %\n",
      "ulcer: 91.80 %\n",
      " str: 92.31 %\n"
     ]
    }
   ],
   "source": [
    "neg_b_acc = cls.accuracy(neg_label, neg_b_output, 'neg')\n",
    "redspot_b_acc = cls.accuracy(redspot_label, redspot_b_output, 'red')\n",
    "angio_b_acc = cls.accuracy(angio_label, angio_b_output, 'ang')\n",
    "active_b_acc = cls.accuracy(active_label, active_b_output, 'active')\n",
    "ero_b_acc = cls.accuracy(ero_label, ero_b_output, 'ero')\n",
    "ulcer_b_acc = cls.accuracy(ulcer_label, ulcer_b_output, 'ulcer')\n",
    "str_b_acc = cls.accuracy(str_label, str_b_output, ' str')"
   ]
  },
  {
   "cell_type": "code",
   "execution_count": 26,
   "metadata": {
    "ExecuteTime": {
     "end_time": "2020-07-09T01:07:07.048107Z",
     "start_time": "2020-07-09T01:07:07.034125Z"
    }
   },
   "outputs": [
    {
     "name": "stdout",
     "output_type": "stream",
     "text": [
      "neg: 96.22 %\n",
      "red: 92.81 %\n",
      "ang: 100.00 %\n",
      "active: 99.07 %\n",
      "ero: 95.14 %\n",
      "ulcer: 93.99 %\n",
      "str: 92.31 %\n"
     ]
    }
   ],
   "source": [
    "neg_e_acc = cls.accuracy(neg_label, neg_e_output, 'neg')\n",
    "redspot_e_acc = cls.accuracy(redspot_label, redspot_e_output, 'red')\n",
    "angio_e_acc = cls.accuracy(angio_label, angio_e_output, 'ang')\n",
    "active_e_acc = cls.accuracy(active_label, active_e_output, 'active')\n",
    "ero_e_acc = cls.accuracy(ero_label, ero_e_output, 'ero')\n",
    "ulcer_e_acc = cls.accuracy(ulcer_label, ulcer_e_output, 'ulcer')\n",
    "str_e_acc = cls.accuracy(str_label, str_e_output, 'str')"
   ]
  },
  {
   "cell_type": "markdown",
   "metadata": {},
   "source": [
    "## Confusion Matrix"
   ]
  },
  {
   "cell_type": "code",
   "execution_count": 27,
   "metadata": {
    "ExecuteTime": {
     "end_time": "2020-07-09T01:07:09.977877Z",
     "start_time": "2020-07-09T01:07:09.963994Z"
    }
   },
   "outputs": [],
   "source": [
    "nh_outputs = np.vstack([neg_nh_output, redspot_nh_output, angio_nh_output, active_nh_output])\n",
    "labels = np.vstack([neg_label, redspot_label, angio_label, active_label])\n",
    "\n",
    "nh_CM = cls.con_mat(labels, nh_outputs)"
   ]
  },
  {
   "cell_type": "code",
   "execution_count": 28,
   "metadata": {
    "ExecuteTime": {
     "end_time": "2020-07-09T01:07:11.208179Z",
     "start_time": "2020-07-09T01:07:10.881953Z"
    }
   },
   "outputs": [
    {
     "data": {
      "image/png": "[encoded data removed]",
      "text/plain": [
       "<Figure size 1152x576 with 2 Axes>"
      ]
     },
     "metadata": {
      "needs_background": "light"
     },
     "output_type": "display_data"
    }
   ],
   "source": [
    "plt.figure(figsize=(16, 8))\n",
    "plt.subplot(121)\n",
    "cls.plot_cm(nh_CM, value_size = 25, label_size = 20)\n",
    "plt.subplot(122)\n",
    "cls.plot_cm(nh_CM, value_size = 25, label_size = 20, mode = 'num')\n",
    "plt.show()"
   ]
  },
  {
   "cell_type": "code",
   "execution_count": 29,
   "metadata": {
    "ExecuteTime": {
     "end_time": "2020-07-09T01:07:33.802593Z",
     "start_time": "2020-07-09T01:07:33.788912Z"
    }
   },
   "outputs": [],
   "source": [
    "nd_outputs = np.vstack([neg_nd_output, ero_nd_output, ulcer_nd_output, str_nd_output])\n",
    "labels = np.vstack([neg_label, ero_label, ulcer_label, str_label])\n",
    "\n",
    "nd_CM = cls.con_mat(labels, nd_outputs)"
   ]
  },
  {
   "cell_type": "code",
   "execution_count": 30,
   "metadata": {
    "ExecuteTime": {
     "end_time": "2020-07-09T01:07:34.601795Z",
     "start_time": "2020-07-09T01:07:34.331411Z"
    }
   },
   "outputs": [
    {
     "data": {
      "image/png": "[encoded data removed]",
      "text/plain": [
       "<Figure size 1152x576 with 2 Axes>"
      ]
     },
     "metadata": {
      "needs_background": "light"
     },
     "output_type": "display_data"
    }
   ],
   "source": [
    "plt.figure(figsize=(16, 8))\n",
    "plt.subplot(121)\n",
    "cls.plot_cm(nd_CM, value_size = 25, label_size = 20)\n",
    "plt.subplot(122)\n",
    "cls.plot_cm(nd_CM, value_size = 25, label_size = 20, mode = 'num')\n",
    "plt.show()"
   ]
  },
  {
   "cell_type": "code",
   "execution_count": 31,
   "metadata": {
    "ExecuteTime": {
     "end_time": "2020-07-09T01:07:38.674764Z",
     "start_time": "2020-07-09T01:07:38.659969Z"
    }
   },
   "outputs": [],
   "source": [
    "e_outputs = np.vstack([neg_e_output, redspot_e_output, angio_e_output, active_e_output, ero_e_output, ulcer_e_output, str_e_output])\n",
    "labels = np.vstack([neg_label, redspot_label, angio_label, active_label, ero_label, ulcer_label, str_label])\n",
    "\n",
    "e_CM = cls.con_mat(labels, e_outputs)"
   ]
  },
  {
   "cell_type": "code",
   "execution_count": 32,
   "metadata": {
    "ExecuteTime": {
     "end_time": "2020-07-09T01:07:39.498629Z",
     "start_time": "2020-07-09T01:07:39.210742Z"
    }
   },
   "outputs": [
    {
     "data": {
      "image/png": "[encoded data removed]",
      "text/plain": [
       "<Figure size 1152x576 with 2 Axes>"
      ]
     },
     "metadata": {
      "needs_background": "light"
     },
     "output_type": "display_data"
    }
   ],
   "source": [
    "plt.figure(figsize=(16, 8))\n",
    "plt.subplot(121)\n",
    "cls.plot_cm(e_CM, value_size = 25, label_size = 20)\n",
    "plt.subplot(122)\n",
    "cls.plot_cm(e_CM, value_size = 25, label_size = 20, mode = 'num')\n",
    "plt.show()"
   ]
  },
  {
   "cell_type": "code",
   "execution_count": 33,
   "metadata": {
    "ExecuteTime": {
     "end_time": "2020-07-09T01:07:48.951169Z",
     "start_time": "2020-07-09T01:07:48.931352Z"
    }
   },
   "outputs": [],
   "source": [
    "b_outputs = np.vstack([neg_b_output, redspot_b_output, angio_b_output, active_b_output, ero_b_output, ulcer_b_output, str_b_output])\n",
    "labels = np.vstack([neg_label, redspot_label, angio_label, active_label, ero_label, ulcer_label, str_label])\n",
    "\n",
    "b_CM = cls.con_mat(labels, b_outputs)"
   ]
  },
  {
   "cell_type": "code",
   "execution_count": 34,
   "metadata": {
    "ExecuteTime": {
     "end_time": "2020-07-09T01:07:49.590563Z",
     "start_time": "2020-07-09T01:07:49.323256Z"
    }
   },
   "outputs": [
    {
     "data": {
      "image/png": "[encoded data removed]",
      "text/plain": [
       "<Figure size 1152x576 with 2 Axes>"
      ]
     },
     "metadata": {
      "needs_background": "light"
     },
     "output_type": "display_data"
    }
   ],
   "source": [
    "plt.figure(figsize=(16, 8))\n",
    "plt.subplot(121)\n",
    "cls.plot_cm(b_CM, value_size = 25, label_size = 20)\n",
    "plt.grid(False)\n",
    "plt.subplot(122)\n",
    "cls.plot_cm(b_CM, value_size = 25, label_size = 20, mode = 'num')\n",
    "plt.grid(False)\n",
    "plt.show()"
   ]
  },
  {
   "cell_type": "markdown",
   "metadata": {},
   "source": [
    "## ROC curve"
   ]
  },
  {
   "cell_type": "code",
   "execution_count": 35,
   "metadata": {
    "ExecuteTime": {
     "end_time": "2020-07-09T01:08:08.847263Z",
     "start_time": "2020-07-09T01:08:08.835087Z"
    }
   },
   "outputs": [],
   "source": [
    "from scipy.stats import sem, t\n",
    "from scipy import mean\n",
    "\n",
    "def conf_interval(data, conf_level = 0.95, mode = 'value', metric = 'Accr'):\n",
    "    n = len(data)\n",
    "    m = mean(data)\n",
    "    std_err = sem(data)\n",
    "    h = std_err * t.ppf((1 + conf_level) / 2, n - 1)\n",
    "\n",
    "    start = m - h\n",
    "    end = m + h\n",
    "    \n",
    "    if mode == 'value':\n",
    "        return m, start, end\n",
    "    elif mode == 'print':\n",
    "        return print(\"{} --- {:.2f} ({:.2f} ~ {:.2f})\".format(metric, m, start, end))"
   ]
  },
  {
   "cell_type": "code",
   "execution_count": 36,
   "metadata": {
    "ExecuteTime": {
     "end_time": "2020-07-09T01:08:09.641368Z",
     "start_time": "2020-07-09T01:08:09.619271Z"
    }
   },
   "outputs": [],
   "source": [
    "from sklearn.model_selection import KFold\n",
    "\n",
    "def k_fold_idx(n_fold, dataset):\n",
    "    kf = KFold(n_splits = n_fold, shuffle = True)\n",
    "    train_idxs = []\n",
    "    test_idxs = []\n",
    "    for train_idx, test_idx in kf.split(dataset):\n",
    "        train_idxs.append(train_idx)\n",
    "        test_idxs.append(test_idx)\n",
    "    return train_idxs, test_idxs"
   ]
  },
  {
   "cell_type": "code",
   "execution_count": 42,
   "metadata": {
    "ExecuteTime": {
     "end_time": "2020-07-09T01:13:11.661246Z",
     "start_time": "2020-07-09T01:13:11.644051Z"
    }
   },
   "outputs": [],
   "source": [
    "n_g = 5\n",
    "\n",
    "_, neg2_idxs = k_fold_idx(n_fold = n_g, dataset = neg2_label)\n",
    "_, redspot_idxs = k_fold_idx(n_fold = n_g, dataset = redspot_label)\n",
    "_, angio_idxs = k_fold_idx(n_fold = n_g, dataset = angio_label)\n",
    "_, active_idxs = k_fold_idx(n_fold = n_g, dataset = active_label)\n",
    "_, ero_idxs = k_fold_idx(n_fold = n_g, dataset = ero_label)\n",
    "_, ulcer_idxs = k_fold_idx(n_fold = n_g, dataset = ulcer_label)\n",
    "_, str_idxs = k_fold_idx(n_fold = n_g, dataset = str_label)"
   ]
  },
  {
   "cell_type": "code",
   "execution_count": 52,
   "metadata": {
    "ExecuteTime": {
     "end_time": "2020-07-09T01:29:52.985413Z",
     "start_time": "2020-07-09T01:28:30.705054Z"
    }
   },
   "outputs": [
    {
     "name": "stdout",
     "output_type": "stream",
     "text": [
      "4522 / Inference Time: 00:00:27\n",
      "4522 / Inference Time: 00:00:54\n"
     ]
    }
   ],
   "source": [
    "neg2_b_output = model_prob(B_model, neg2_img)\n",
    "neg2_e_output, _, _ = model_prob(E_model, neg2_img, model_type = 'ensemble')"
   ]
  },
  {
   "cell_type": "code",
   "execution_count": 53,
   "metadata": {
    "ExecuteTime": {
     "end_time": "2020-07-09T01:30:08.462514Z",
     "start_time": "2020-07-09T01:30:08.432232Z"
    },
    "scrolled": false
   },
   "outputs": [],
   "source": [
    "from sklearn.metrics import roc_curve, auc\n",
    "\n",
    "e_aucs, b_aucs = [], []\n",
    "\n",
    "for n_idx, r_idx, an_idx, ac_idx, e_idx, u_idx, s_idx in zip(neg2_idxs, redspot_idxs, angio_idxs, active_idxs,\n",
    "                                                               ero_idxs, ulcer_idxs, str_idxs):\n",
    "    \n",
    "    b_outputs = np.vstack([neg2_b_output[n_idx], redspot_b_output[r_idx], angio_b_output[an_idx], active_b_output[ac_idx], \n",
    "                           ero_b_output[e_idx], ulcer_b_output[u_idx], str_b_output[s_idx]])\n",
    "    e_outputs = np.vstack([neg2_e_output[n_idx], redspot_e_output[r_idx], angio_e_output[an_idx], active_e_output[ac_idx], \n",
    "                           ero_e_output[e_idx], ulcer_e_output[u_idx], str_e_output[s_idx]])\n",
    "    labels = np.vstack([neg2_label[n_idx], redspot_label[r_idx], angio_label[an_idx], active_label[ac_idx], \n",
    "                        ero_label[e_idx], ulcer_label[u_idx], str_label[s_idx]])\n",
    "    e_fpr, e_tpr, thresholds = roc_curve(labels[:, 1], e_outputs[:,1])\n",
    "    b_fpr, b_tpr, thresholds = roc_curve(labels[:, 1], b_outputs[:,1])\n",
    "    e_aucs.append(auc(e_fpr, e_tpr))\n",
    "    b_aucs.append(auc(b_fpr, b_tpr))"
   ]
  },
  {
   "cell_type": "code",
   "execution_count": 54,
   "metadata": {
    "ExecuteTime": {
     "end_time": "2020-07-09T01:30:11.809759Z",
     "start_time": "2020-07-09T01:30:11.337585Z"
    }
   },
   "outputs": [
    {
     "data": {
      "image/png": "[encoded data removed]",
      "text/plain": [
       "<Figure size 720x576 with 1 Axes>"
      ]
     },
     "metadata": {
      "needs_background": "light"
     },
     "output_type": "display_data"
    },
    {
     "data": {
      "image/png": "[encoded data removed]",
      "text/plain": [
       "<Figure size 720x576 with 1 Axes>"
      ]
     },
     "metadata": {
      "needs_background": "light"
     },
     "output_type": "display_data"
    }
   ],
   "source": [
    "e_auc_m, e_auc_l, e_auc_u = conf_interval(e_aucs, mode = 'value')\n",
    "b_auc_m, b_auc_l, b_auc_u = conf_interval(b_aucs, mode = 'value')\n",
    "\n",
    "b_outputs = np.vstack([neg_b_output, redspot_b_output, angio_b_output, active_b_output, ero_b_output, ulcer_b_output, str_b_output])\n",
    "e_outputs = np.vstack([neg_e_output, redspot_e_output, angio_e_output, active_e_output, ero_e_output, ulcer_e_output, str_e_output])\n",
    "labels = np.vstack([neg_label, redspot_label, angio_label, active_label, ero_label, ulcer_label, str_label])\n",
    "\n",
    "e_fpr, e_tpr, thresholds = roc_curve(labels[:, 1], e_outputs[:,1])\n",
    "b_fpr, b_tpr, thresholds = roc_curve(labels[:, 1], b_outputs[:,1])\n",
    "\n",
    "fig = plt.figure(figsize=(10, 8))\n",
    "plt.plot(e_fpr, e_tpr, 'r-', label=\"Ensemble model, AUC: {:.4f} ({:.4f}~{:.4f}), 95 % CI\".format(e_auc_m, e_auc_l, e_auc_u))\n",
    "plt.plot(b_fpr, b_tpr, 'k-', label=\"Binary model, AUC: {:.4f} ({:.4f}~{:.4f}), 95 % CI\".format(b_auc_m, b_auc_l, b_auc_u))\n",
    "plt.xlabel('1 - Specificity', fontsize = 15)\n",
    "plt.ylabel('Sensitivity', fontsize = 15)\n",
    "plt.legend(fontsize = 12)\n",
    "plt.grid('on')\n",
    "fig.show()\n",
    "\n",
    "fig = plt.figure(figsize=(10, 8))\n",
    "plt.plot(e_fpr, e_tpr, 'r-', label=\"Ensemble model\")\n",
    "plt.plot(b_fpr, b_tpr, 'k-', label=\"Binary model\")\n",
    "plt.xlim([0.0, 0.1])\n",
    "plt.ylim([0.9, 1.0])\n",
    "plt.legend(fontsize = 20, loc = 4)\n",
    "fig.show()"
   ]
  },
  {
   "cell_type": "markdown",
   "metadata": {},
   "source": [
    "## Statistics"
   ]
  },
  {
   "cell_type": "markdown",
   "metadata": {},
   "source": [
    "![image](http://mblogthumb3.phinf.naver.net/20121114_106/istech7_1352875002440GYyqh_PNG/%B5%CE%C1%FD%B4%DC%C2%F7%C0%CC_%B0%CB%C1%A4%B9%E6%B9%FD%C8%E5%B8%A7%B5%B5.png?type=w2)\n",
    "\n",
    "![image](https://t1.daumcdn.net/cfile/tistory/2743524658F2520C2A)\n",
    "\n",
    "https://img1.daumcdn.net/thumb/R800x0/?scode=mtistory2&fname=https%3A%2F%2Ft1.daumcdn.net%2Fcfile%2Ftistory%2F1378B94E4F9C187F23"
   ]
  },
  {
   "cell_type": "code",
   "execution_count": 55,
   "metadata": {
    "ExecuteTime": {
     "end_time": "2020-07-09T01:30:19.384439Z",
     "start_time": "2020-07-09T01:30:19.340724Z"
    }
   },
   "outputs": [
    {
     "name": "stdout",
     "output_type": "stream",
     "text": [
      "(1036, 2)\n",
      "(1035, 2)\n",
      "(1034, 2)\n",
      "(1032, 2)\n",
      "(1031, 2)\n"
     ]
    }
   ],
   "source": [
    "e_CM, b_CM = [], []\n",
    "\n",
    "for n_idx, r_idx, an_idx, ac_idx, e_idx, u_idx, s_idx in zip(neg2_idxs, redspot_idxs, angio_idxs, active_idxs,\n",
    "                                                               ero_idxs, ulcer_idxs, str_idxs):\n",
    "    \n",
    "    b_outputs = np.vstack([neg2_b_output[n_idx], redspot_b_output[r_idx], angio_b_output[an_idx], active_b_output[ac_idx], \n",
    "                           ero_b_output[e_idx], ulcer_b_output[u_idx], str_b_output[s_idx]])\n",
    "    e_outputs = np.vstack([neg2_e_output[n_idx], redspot_e_output[r_idx], angio_e_output[an_idx], active_e_output[ac_idx], \n",
    "                           ero_e_output[e_idx], ulcer_e_output[u_idx], str_e_output[s_idx]])\n",
    "    labels = np.vstack([neg2_label[n_idx], redspot_label[r_idx], angio_label[an_idx], active_label[ac_idx], \n",
    "                        ero_label[e_idx], ulcer_label[u_idx], str_label[s_idx]])\n",
    "    print(labels.shape)\n",
    "    e_CM.append(cls.con_mat(labels, e_outputs)), b_CM.append(cls.con_mat(labels, b_outputs))"
   ]
  },
  {
   "cell_type": "code",
   "execution_count": 56,
   "metadata": {
    "ExecuteTime": {
     "end_time": "2020-07-09T01:30:20.455298Z",
     "start_time": "2020-07-09T01:30:20.446668Z"
    }
   },
   "outputs": [],
   "source": [
    "b_metrices = []\n",
    "e_metrices = []\n",
    "\n",
    "for e_cm, b_cm in zip(e_CM, b_CM):\n",
    "    b_metrices.append(cls.cm2metric(b_cm))\n",
    "    e_metrices.append(cls.cm2metric(e_cm))\n",
    "    \n",
    "b_metrices = np.asarray(b_metrices)\n",
    "e_metrices = np.asarray(e_metrices)"
   ]
  },
  {
   "cell_type": "code",
   "execution_count": 57,
   "metadata": {
    "ExecuteTime": {
     "end_time": "2020-07-09T01:30:21.087397Z",
     "start_time": "2020-07-09T01:30:21.078501Z"
    }
   },
   "outputs": [
    {
     "data": {
      "text/plain": [
       "array([[0.97586873, 0.9389313 , 0.98121547, 0.99107143, 0.87857143],\n",
       "       [0.97874396, 0.91538462, 0.9878453 , 0.9878453 , 0.91538462],\n",
       "       [0.9729207 , 0.93076923, 0.9789823 , 0.98993289, 0.86428571],\n",
       "       [0.97965116, 0.9453125 , 0.98451327, 0.99219621, 0.8962963 ],\n",
       "       [0.97769156, 0.92125984, 0.98561947, 0.98890122, 0.9       ]])"
      ]
     },
     "execution_count": 57,
     "metadata": {},
     "output_type": "execute_result"
    }
   ],
   "source": [
    "b_metrices"
   ]
  },
  {
   "cell_type": "code",
   "execution_count": 58,
   "metadata": {
    "ExecuteTime": {
     "end_time": "2020-07-09T01:30:21.768230Z",
     "start_time": "2020-07-09T01:30:21.760551Z"
    }
   },
   "outputs": [
    {
     "data": {
      "text/plain": [
       "array([[0.96814672, 0.95419847, 0.97016575, 0.99321267, 0.82236842],\n",
       "       [0.96521739, 0.93846154, 0.96906077, 0.99096045, 0.81333333],\n",
       "       [0.96131528, 0.96923077, 0.96017699, 0.99541284, 0.77777778],\n",
       "       [0.95736434, 0.953125  , 0.9579646 , 0.99311927, 0.7625    ],\n",
       "       [0.95053346, 0.92913386, 0.95353982, 0.98966705, 0.7375    ]])"
      ]
     },
     "execution_count": 58,
     "metadata": {},
     "output_type": "execute_result"
    }
   ],
   "source": [
    "e_metrices"
   ]
  },
  {
   "cell_type": "code",
   "execution_count": 59,
   "metadata": {
    "ExecuteTime": {
     "end_time": "2020-07-09T01:30:22.593297Z",
     "start_time": "2020-07-09T01:30:22.566223Z"
    }
   },
   "outputs": [
    {
     "name": "stdout",
     "output_type": "stream",
     "text": [
      "95 % CI\n",
      "\n",
      "Binary model\n",
      "Accr --- 97.70 (97.37 ~ 98.03)\n",
      "Sen --- 93.03 (91.51 ~ 94.56)\n",
      "Spec --- 98.36 (97.92 ~ 98.80)\n",
      "NPV --- 99.00 (98.79 ~ 99.21)\n",
      "PPV --- 89.09 (86.63 ~ 91.55)\n",
      "\n",
      "Ensemble model\n",
      "Accr --- 96.05 (95.19 ~ 96.91)\n",
      "Sen --- 94.88 (92.96 ~ 96.81)\n",
      "Spec --- 96.22 (95.32 ~ 97.11)\n",
      "NPV --- 99.25 (98.97 ~ 99.52)\n",
      "PPV --- 78.27 (73.89 ~ 82.65)\n"
     ]
    }
   ],
   "source": [
    "print(\"95 % CI\\n\")\n",
    "\n",
    "print('Binary model')\n",
    "conf_interval(100*b_metrices[:, 0], mode = 'print', metric = 'Accr')\n",
    "conf_interval(100*b_metrices[:, 1], mode = 'print', metric = 'Sen')\n",
    "conf_interval(100*b_metrices[:, 2], mode = 'print', metric = 'Spec')\n",
    "conf_interval(100*b_metrices[:, 3], mode = 'print', metric = 'NPV')\n",
    "conf_interval(100*b_metrices[:, 4], mode = 'print', metric = 'PPV')\n",
    "print('')\n",
    "print('Ensemble model')\n",
    "conf_interval(100*e_metrices[:, 0], mode = 'print', metric = 'Accr')\n",
    "conf_interval(100*e_metrices[:, 1], mode = 'print', metric = 'Sen')\n",
    "conf_interval(100*e_metrices[:, 2], mode = 'print', metric = 'Spec')\n",
    "conf_interval(100*e_metrices[:, 3], mode = 'print', metric = 'NPV')\n",
    "conf_interval(100*e_metrices[:, 4], mode = 'print', metric = 'PPV')"
   ]
  },
  {
   "cell_type": "markdown",
   "metadata": {},
   "source": [
    "### Equal-Variance Test"
   ]
  },
  {
   "cell_type": "code",
   "execution_count": 60,
   "metadata": {
    "ExecuteTime": {
     "end_time": "2020-07-09T01:30:24.517934Z",
     "start_time": "2020-07-09T01:30:24.494408Z"
    }
   },
   "outputs": [
    {
     "name": "stdout",
     "output_type": "stream",
     "text": [
      "bartlett test for accuracy: 2.821, pvalue=0.093041492170\n",
      "bartlett test for sensitivity: 0.188, pvalue=0.664703958460\n",
      "bartlett test for specificity: 1.669, pvalue=0.196346354886\n",
      "bartlett test for negative predictive values: 0.232, pvalue=0.629918113711\n",
      "bartlett test for positive predictive values: 1.125, pvalue=0.288913575320\n"
     ]
    }
   ],
   "source": [
    "from scipy.stats import bartlett\n",
    "\n",
    "accr_stats = bartlett(100*b_metrices[:, 0], 100*e_metrices[:, 0])\n",
    "sens_stats = bartlett(100*b_metrices[:, 1], 100*e_metrices[:, 1])\n",
    "spec_stats = bartlett(100*b_metrices[:, 2], 100*e_metrices[:, 2])\n",
    "npv_stats = bartlett(100*b_metrices[:, 3], 100*e_metrices[:, 3])\n",
    "ppv_stats = bartlett(100*b_metrices[:, 4], 100*e_metrices[:, 4])\n",
    "\n",
    "print(\"bartlett test for accuracy: {:.3f}, pvalue={:.12f}\".format(accr_stats[0], accr_stats[1]))\n",
    "print(\"bartlett test for sensitivity: {:.3f}, pvalue={:.12f}\".format(sens_stats[0], sens_stats[1]))\n",
    "print(\"bartlett test for specificity: {:.3f}, pvalue={:.12f}\".format(spec_stats[0], spec_stats[1]))\n",
    "print(\"bartlett test for negative predictive values: {:.3f}, pvalue={:.12f}\".format(npv_stats[0], npv_stats[1]))\n",
    "print(\"bartlett test for positive predictive values: {:.3f}, pvalue={:.12f}\".format(ppv_stats[0], ppv_stats[1]))"
   ]
  },
  {
   "cell_type": "code",
   "execution_count": 61,
   "metadata": {
    "ExecuteTime": {
     "end_time": "2020-07-09T01:30:25.073438Z",
     "start_time": "2020-07-09T01:30:25.046128Z"
    }
   },
   "outputs": [
    {
     "name": "stdout",
     "output_type": "stream",
     "text": [
      "levene test for accuracy: 2.626, pvalue=0.143755972619\n",
      "levene test for sensitivity: 0.094, pvalue=0.767500239491\n",
      "levene test for specificity: 1.807, pvalue=0.215794668566\n",
      "levene test for negative predictive values: 0.141, pvalue=0.717205164445\n",
      "levene test for positive predictive values: 1.528, pvalue=0.251536391738\n"
     ]
    }
   ],
   "source": [
    "from scipy.stats import levene\n",
    "\n",
    "accr_stats = levene(100*b_metrices[:, 0], 100*e_metrices[:, 0])\n",
    "sens_stats = levene(100*b_metrices[:, 1], 100*e_metrices[:, 1])\n",
    "spec_stats = levene(100*b_metrices[:, 2], 100*e_metrices[:, 2])\n",
    "npv_stats = levene(100*b_metrices[:, 3], 100*e_metrices[:, 3])\n",
    "ppv_stats = levene(100*b_metrices[:, 4], 100*e_metrices[:, 4])\n",
    "\n",
    "print(\"levene test for accuracy: {:.3f}, pvalue={:.12f}\".format(accr_stats[0], accr_stats[1]))\n",
    "print(\"levene test for sensitivity: {:.3f}, pvalue={:.12f}\".format(sens_stats[0], sens_stats[1]))\n",
    "print(\"levene test for specificity: {:.3f}, pvalue={:.12f}\".format(spec_stats[0], spec_stats[1]))\n",
    "print(\"levene test for negative predictive values: {:.3f}, pvalue={:.12f}\".format(npv_stats[0], npv_stats[1]))\n",
    "print(\"levene test for positive predictive values: {:.3f}, pvalue={:.12f}\".format(ppv_stats[0], ppv_stats[1]))"
   ]
  },
  {
   "cell_type": "markdown",
   "metadata": {},
   "source": [
    "### Normality Test"
   ]
  },
  {
   "cell_type": "code",
   "execution_count": 62,
   "metadata": {
    "ExecuteTime": {
     "end_time": "2020-07-09T01:30:42.993346Z",
     "start_time": "2020-07-09T01:30:42.976216Z"
    }
   },
   "outputs": [
    {
     "name": "stdout",
     "output_type": "stream",
     "text": [
      "Kolmogorov-Smirnov test for accuracy: 1.000, pvalue=0.007936507937\n",
      "Kolmogorov-Smirnov test for sensitivity: 0.600, pvalue=0.357142857143\n",
      "Kolmogorov-Smirnov test for specificity: 1.000, pvalue=0.007936507937\n",
      "Kolmogorov-Smirnov test for negative predictive values: 0.600, pvalue=0.357142857143\n",
      "Kolmogorov-Smirnov test for positive predictive values: 1.000, pvalue=0.007936507937\n"
     ]
    }
   ],
   "source": [
    "from scipy.stats import ks_2samp\n",
    "\n",
    "accr_stats = ks_2samp(100*b_metrices[:, 0], 100*e_metrices[:, 0])\n",
    "sens_stats = ks_2samp(100*b_metrices[:, 1], 100*e_metrices[:, 1])\n",
    "spec_stats = ks_2samp(100*b_metrices[:, 2], 100*e_metrices[:, 2])\n",
    "npv_stats = ks_2samp(100*b_metrices[:, 3], 100*e_metrices[:, 3])\n",
    "ppv_stats = ks_2samp(100*b_metrices[:, 4], 100*e_metrices[:, 4])\n",
    "\n",
    "print(\"Kolmogorov-Smirnov test for accuracy: {:.3f}, pvalue={:.12f}\".format(accr_stats[0], accr_stats[1]))\n",
    "print(\"Kolmogorov-Smirnov test for sensitivity: {:.3f}, pvalue={:.12f}\".format(sens_stats[0], sens_stats[1]))\n",
    "print(\"Kolmogorov-Smirnov test for specificity: {:.3f}, pvalue={:.12f}\".format(spec_stats[0], spec_stats[1]))\n",
    "print(\"Kolmogorov-Smirnov test for negative predictive values: {:.3f}, pvalue={:.12f}\".format(npv_stats[0], npv_stats[1]))\n",
    "print(\"Kolmogorov-Smirnov test for positive predictive values: {:.3f}, pvalue={:.12f}\".format(ppv_stats[0], ppv_stats[1]))"
   ]
  },
  {
   "cell_type": "markdown",
   "metadata": {},
   "source": [
    "### Wilcoxon signed-ranks test (not normal and paired group)"
   ]
  },
  {
   "cell_type": "code",
   "execution_count": 63,
   "metadata": {
    "ExecuteTime": {
     "end_time": "2020-07-09T01:30:44.596340Z",
     "start_time": "2020-07-09T01:30:44.573313Z"
    }
   },
   "outputs": [
    {
     "name": "stdout",
     "output_type": "stream",
     "text": [
      "wilcoxon signed-ranks test for accuracy: 0.000, pvalue=0.043114446783\n",
      "wilcoxon signed-ranks test for sensitivity: 0.000, pvalue=0.043114446783\n",
      "wilcoxon signed-ranks test for specificity: 0.000, pvalue=0.043114446783\n",
      "wilcoxon signed-ranks test for negative predictive values: 0.000, pvalue=0.043114446783\n",
      "wilcoxon signed-ranks test for positive predictive values: 0.000, pvalue=0.043114446783\n"
     ]
    },
    {
     "name": "stderr",
     "output_type": "stream",
     "text": [
      "/usr/local/lib/python3.5/dist-packages/scipy/stats/morestats.py:2863: UserWarning: Sample size too small for normal approximation.\n",
      "  warnings.warn(\"Sample size too small for normal approximation.\")\n"
     ]
    }
   ],
   "source": [
    "from scipy.stats import wilcoxon\n",
    "\n",
    "accr_stats = wilcoxon(100*b_metrices[:, 0], 100*e_metrices[:, 0])\n",
    "sens_stats = wilcoxon(100*b_metrices[:, 1], 100*e_metrices[:, 1])\n",
    "spec_stats = wilcoxon(100*b_metrices[:, 2], 100*e_metrices[:, 2])\n",
    "npv_stats = wilcoxon(100*b_metrices[:, 3], 100*e_metrices[:, 3])\n",
    "ppv_stats = wilcoxon(100*b_metrices[:, 4], 100*e_metrices[:, 4])\n",
    "\n",
    "print(\"wilcoxon signed-ranks test for accuracy: {:.3f}, pvalue={:.12f}\".format(accr_stats[0], accr_stats[1]))\n",
    "print(\"wilcoxon signed-ranks test for sensitivity: {:.3f}, pvalue={:.12f}\".format(sens_stats[0], sens_stats[1]))\n",
    "print(\"wilcoxon signed-ranks test for specificity: {:.3f}, pvalue={:.12f}\".format(spec_stats[0], spec_stats[1]))\n",
    "print(\"wilcoxon signed-ranks test for negative predictive values: {:.3f}, pvalue={:.12f}\".format(npv_stats[0], npv_stats[1]))\n",
    "print(\"wilcoxon signed-ranks test for positive predictive values: {:.3f}, pvalue={:.12f}\".format(ppv_stats[0], ppv_stats[1]))"
   ]
  },
  {
   "cell_type": "markdown",
   "metadata": {},
   "source": [
    "### Paired two-sample t-Test (normal and paired group)"
   ]
  },
  {
   "cell_type": "code",
   "execution_count": 64,
   "metadata": {
    "ExecuteTime": {
     "end_time": "2020-07-09T01:30:47.704205Z",
     "start_time": "2020-07-09T01:30:47.685194Z"
    }
   },
   "outputs": [
    {
     "name": "stdout",
     "output_type": "stream",
     "text": [
      "t-statistics for accuracy: 4.592, pvalue=0.010088889098\n",
      "t-statistics for sensitivity: -3.228, pvalue=0.032050994757\n",
      "t-statistics for specificity: 5.936, pvalue=0.004038306728\n",
      "t-statistics for negative predictive values: -2.881, pvalue=0.044967506225\n",
      "t-statistics for positive predictive values: 5.862, pvalue=0.004227902289\n"
     ]
    }
   ],
   "source": [
    "from scipy.stats import ttest_rel\n",
    "\n",
    "accr_stats = ttest_rel(100*b_metrices[:, 0], 100*e_metrices[:, 0])\n",
    "sens_stats = ttest_rel(100*b_metrices[:, 1], 100*e_metrices[:, 1])\n",
    "spec_stats = ttest_rel(100*b_metrices[:, 2], 100*e_metrices[:, 2])\n",
    "npv_stats = ttest_rel(100*b_metrices[:, 3], 100*e_metrices[:, 3])\n",
    "ppv_stats = ttest_rel(100*b_metrices[:, 4], 100*e_metrices[:, 4])\n",
    "\n",
    "print(\"t-statistics for accuracy: {:.3f}, pvalue={:.12f}\".format(accr_stats[0], accr_stats[1]))\n",
    "print(\"t-statistics for sensitivity: {:.3f}, pvalue={:.12f}\".format(sens_stats[0], sens_stats[1]))\n",
    "print(\"t-statistics for specificity: {:.3f}, pvalue={:.12f}\".format(spec_stats[0], spec_stats[1]))\n",
    "print(\"t-statistics for negative predictive values: {:.3f}, pvalue={:.12f}\".format(npv_stats[0], npv_stats[1]))\n",
    "print(\"t-statistics for positive predictive values: {:.3f}, pvalue={:.12f}\".format(ppv_stats[0], ppv_stats[1]))"
   ]
  },
  {
   "cell_type": "code",
   "execution_count": 65,
   "metadata": {
    "ExecuteTime": {
     "end_time": "2020-07-09T01:30:49.338847Z",
     "start_time": "2020-07-09T01:30:48.613055Z"
    }
   },
   "outputs": [
    {
     "data": {
      "image/png": "[encoded data removed]",
      "text/plain": [
       "<Figure size 1440x216 with 5 Axes>"
      ]
     },
     "metadata": {
      "needs_background": "light"
     },
     "output_type": "display_data"
    }
   ],
   "source": [
    "## Distribution by metric\n",
    "\n",
    "import seaborn as sns\n",
    "\n",
    "fig, axes = plt.subplots(ncols = 5)\n",
    "fig.set_size_inches(20, 3)\n",
    "\n",
    "sns.set_style({'axes.grid' : True})\n",
    "\n",
    "sns.distplot(b_metrices[:, 0], color='k', ax = axes[0])\n",
    "sns.distplot(e_metrices[:, 0], color='r', ax = axes[0])\n",
    "sns.distplot(b_metrices[:, 1], color='k', ax = axes[1])\n",
    "sns.distplot(e_metrices[:, 1], color='r', ax = axes[1])\n",
    "sns.distplot(b_metrices[:, 2], color='k', ax = axes[2])\n",
    "sns.distplot(e_metrices[:, 2], color='r', ax = axes[2])\n",
    "sns.distplot(b_metrices[:, 3], color='k', ax = axes[3])\n",
    "sns.distplot(e_metrices[:, 3], color='r', ax = axes[3])\n",
    "sns.distplot(b_metrices[:, 4], color='k', ax = axes[4])\n",
    "sns.distplot(e_metrices[:, 4], color='r', ax = axes[4])\n",
    "\n",
    "fig.show()"
   ]
  },
  {
   "cell_type": "code",
   "execution_count": null,
   "metadata": {},
   "outputs": [],
   "source": []
  }
 ],
 "metadata": {
  "hide_input": false,
  "kernelspec": {
   "display_name": "Python 3",
   "language": "python",
   "name": "python3"
  },
  "language_info": {
   "codemirror_mode": {
    "name": "ipython",
    "version": 3
   },
   "file_extension": ".py",
   "mimetype": "text/x-python",
   "name": "python",
   "nbconvert_exporter": "python",
   "pygments_lexer": "ipython3",
   "version": "3.5.2"
  },
  "toc": {
   "base_numbering": 1,
   "nav_menu": {},
   "number_sections": true,
   "sideBar": true,
   "skip_h1_title": false,
   "title_cell": "Table of Contents",
   "title_sidebar": "Contents",
   "toc_cell": false,
   "toc_position": {},
   "toc_section_display": true,
   "toc_window_display": false
  }
 },
 "nbformat": 4,
 "nbformat_minor": 2
}
