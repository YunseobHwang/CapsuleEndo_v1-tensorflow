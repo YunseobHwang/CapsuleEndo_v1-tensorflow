{
 "cells": [
  {
   "cell_type": "code",
   "execution_count": 1,
   "metadata": {
    "ExecuteTime": {
     "end_time": "2020-08-03T06:02:21.750452Z",
     "start_time": "2020-08-03T06:02:21.197886Z"
    }
   },
   "outputs": [],
   "source": [
    "import numpy as np\n",
    "import matplotlib.pyplot as plt\n",
    "import sys\n",
    "import os\n",
    "import glob\n",
    "import cv2\n",
    "import pandas as pd\n",
    "from itertools import product"
   ]
  },
  {
   "cell_type": "code",
   "execution_count": 2,
   "metadata": {
    "ExecuteTime": {
     "end_time": "2020-08-03T06:02:33.999639Z",
     "start_time": "2020-08-03T06:02:23.194702Z"
    }
   },
   "outputs": [],
   "source": [
    "data_dir = '/mnt/disk2/data/private_data/SMhospital/capsule/1 preprocessed/sm_external/total'\n",
    "\n",
    "target_types = ['negative', 'hemorrhagic', 'depressed', 'protruded']\n",
    "lesion_types = [i for i in os.listdir(data_dir) if i in target_types]\n",
    "\n",
    "save_dir = '/mnt/disk2/data/private_data/SMhospital/capsule/1 preprocessed/sm_external'\n",
    "\n",
    "if not(os.path.isdir(save_dir + '/train')):\n",
    "    os.makedirs(save_dir + '/train')\n",
    "if not(os.path.isdir(save_dir + '/test')):\n",
    "    os.makedirs(save_dir + '/test')\n",
    "\n",
    "for l_t in lesion_types:\n",
    "    lesions = os.listdir(os.path.join(data_dir, l_t))\n",
    "    for l in lesions:\n",
    "        lesion_path = np.array(glob.glob(os.path.join(data_dir, l_t, l) + '/*.jpg'))\n",
    "        train_idx = np.sort(np.random.choice(len(lesion_path), int(len(lesion_path)*0.8), replace = False))\n",
    "        test_idx = np.setdiff1d(np.arange(len(lesion_path)), train_idx)\n",
    "        \n",
    "        train_path = lesion_path[train_idx]\n",
    "        test_path = lesion_path[test_idx]\n",
    "\n",
    "        for t_path in train_path:\n",
    "            img = cv2.imread(t_path)\n",
    "            cv2.imwrite(save_dir + '/train/' + '/'.join(t_path.split('/')[-3:]), img)\n",
    "\n",
    "        for t_path in test_path:\n",
    "            img = cv2.imread(t_path)\n",
    "            cv2.imwrite(save_dir + '/test/' + '/'.join(t_path.split('/')[-3:]), img)       "
   ]
  }
 ],
 "metadata": {
  "hide_input": false,
  "kernelspec": {
   "display_name": "Python 3",
   "language": "python",
   "name": "python3"
  },
  "language_info": {
   "codemirror_mode": {
    "name": "ipython",
    "version": 3
   },
   "file_extension": ".py",
   "mimetype": "text/x-python",
   "name": "python",
   "nbconvert_exporter": "python",
   "pygments_lexer": "ipython3",
   "version": "3.5.2"
  },
  "toc": {
   "base_numbering": 1,
   "nav_menu": {},
   "number_sections": true,
   "sideBar": true,
   "skip_h1_title": false,
   "title_cell": "Table of Contents",
   "title_sidebar": "Contents",
   "toc_cell": false,
   "toc_position": {},
   "toc_section_display": true,
   "toc_window_display": false
  }
 },
 "nbformat": 4,
 "nbformat_minor": 2
}
