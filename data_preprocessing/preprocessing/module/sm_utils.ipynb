{
 "cells": [
  {
   "cell_type": "markdown",
   "metadata": {},
   "source": [
    "# Import Dependent Modules"
   ]
  },
  {
   "cell_type": "code",
   "execution_count": 1,
   "metadata": {},
   "outputs": [],
   "source": [
    "import numpy as np\n",
    "import os\n",
    "import cv2"
   ]
  },
  {
   "cell_type": "markdown",
   "metadata": {},
   "source": [
    "# Load Data"
   ]
  },
  {
   "cell_type": "code",
   "execution_count": 1,
   "metadata": {},
   "outputs": [],
   "source": [
    "def load_data(source, purpose, pathology, dir_default='/mnt/disk1/project/public/SMhospital/Database/1_ongoing/'):\n",
    "    \"\"\"Import dataset according to source, purpose and pathology.\n",
    "    \n",
    "    Args:\n",
    "      source: A string, 'sm', 'miccai', or 'sm_core'\n",
    "      purpose: A string, 'train' or 'test'\n",
    "      pathology: A string, 'hemorrhagic' or 'depressed'\n",
    "      dir_data: A string, \n",
    "      \n",
    "    Returns:\n",
    "      data_list: A tuple, (data_x, data_y)\n",
    "      \n",
    "    \"\"\"\n",
    "    cls = ['negative']\n",
    "    cls.append(pathology)\n",
    "    lesion = {'negative' : ['negative'], \n",
    "              'hemorrhagic': ['red_spot', 'angioectasia', 'active_bleeding'],\n",
    "              'depressed': ['erosion', 'ulcer', 'stricture'],\n",
    "              'protruded': ['ampulla_of_vater', 'lymphoid_follicles', 'small_bowel_tumor']}\n",
    "    \n",
    "    dir_detail = dir_default + source + '/' + purpose + '/'\n",
    "    \n",
    "    data_x = [None]*2\n",
    "    for i in cls:\n",
    "        data_x[cls.index(i)] = []\n",
    "        for j in lesion[i]:\n",
    "            dir_folder_temp = dir_detail + i + '/' + j\n",
    "            dir_temp = os.listdir(dir_folder_temp)\n",
    "            for k in dir_temp:\n",
    "                temp = cv2.imread(dir_folder_temp + '/' + k)\n",
    "                temp_rgb = cv2.cvtColor(temp, cv2.COLOR_BGR2RGB)\n",
    "                data_x[cls.index(i)].append(temp_rgb)\n",
    "            \n",
    "    data_y = [None]*2\n",
    "    for i in cls:\n",
    "        temp = np.zeros(shape=(len(data_x[cls.index(i)]), len(data_x)))\n",
    "        temp[:, cls.index(i)] = 1\n",
    "        data_y[cls.index(i)] = list(temp)\n",
    "        \n",
    "    return (data_x, data_y)"
   ]
  },
  {
   "cell_type": "markdown",
   "metadata": {},
   "source": [
    "# Equalize Data Size"
   ]
  },
  {
   "cell_type": "code",
   "execution_count": 3,
   "metadata": {},
   "outputs": [],
   "source": [
    "def equal(data_x, data_y):\n",
    "    \"\"\"Equalize the size of two dataset, negative and positive.\n",
    "    \n",
    "    Args:\n",
    "      data_x: A list, images of two classes\n",
    "      data_y: A list, corresponding labels\n",
    "      \n",
    "    Returns:\n",
    "      equalized dataset: A tuple, (data_x_picked, data_y_picked)\n",
    "      \n",
    "    \"\"\"\n",
    "    def pick(data_x, data_y, num):\n",
    "        num_data = len(data_x)\n",
    "        picked_idx = set(np.random.choice(num_data, num, replace=False))\n",
    "        \n",
    "        picked_x = [data_x[i] for i in picked_idx]\n",
    "        picked_y = [data_y[i] for i in picked_idx]\n",
    "        \n",
    "        return (picked_x, picked_y)\n",
    "    \n",
    "    data_size = min([len(data_y[0]), len(data_y[1])])\n",
    "    data_x_picked = [None]*2\n",
    "    data_y_picked = [None]*2\n",
    "    \n",
    "    for i in range(len(data_x)): # class\n",
    "        data_x_picked[i], data_y_picked[i] = pick(data_x[i], data_y[i], data_size)\n",
    "    \n",
    "    return (data_x_picked, data_y_picked)"
   ]
  },
  {
   "cell_type": "markdown",
   "metadata": {},
   "source": [
    "# Split Train Data into Train (75%) / Validation (25%)"
   ]
  },
  {
   "cell_type": "code",
   "execution_count": 4,
   "metadata": {},
   "outputs": [],
   "source": [
    "def split(data_x, data_y):\n",
    "    \"\"\"Split the train data into train data (75%) and validation data (25%).\n",
    "    \n",
    "    Args:\n",
    "      data_x: A list, images of two classes\n",
    "      data_y: A list, corresponding labels\n",
    "      \n",
    "    Returns:\n",
    "      Train and Validation dataset: A tuple, (train_x, train_y, valid_x, valid_y)\n",
    "      \n",
    "    \"\"\"\n",
    "    def sep(data_x, data_y):\n",
    "        num_data = len(data_x)\n",
    "        num_train_data = int(num_data*0.75)\n",
    "\n",
    "        train_idx = set(np.random.choice(num_data, num_train_data, replace=False))\n",
    "        valid_idx = set(np.arange(len(data_x))) - train_idx\n",
    "        \n",
    "        train_x = [data_x[i] for i in train_idx]\n",
    "        train_y = [data_y[i] for i in train_idx]\n",
    "        valid_x = [data_x[i] for i in valid_idx]\n",
    "        valid_y = [data_y[i] for i in valid_idx]\n",
    "        \n",
    "        return (train_x, train_y, valid_x, valid_y)\n",
    "    \n",
    "    train_x = [None]*2\n",
    "    train_y = [None]*2\n",
    "    valid_x = [None]*2\n",
    "    valid_y = [None]*2\n",
    "    \n",
    "    for i in range(len(data_x)): # class\n",
    "        train_x[i], train_y[i], valid_x[i], valid_y[i] = sep(data_x[i], data_y[i])\n",
    "        \n",
    "    return (train_x, train_y, valid_x, valid_y)"
   ]
  },
  {
   "cell_type": "markdown",
   "metadata": {},
   "source": [
    "# Batchmaker"
   ]
  },
  {
   "cell_type": "code",
   "execution_count": 5,
   "metadata": {},
   "outputs": [],
   "source": [
    "def batch(target_x, target_y, batchsize):\n",
    "    \"\"\"Make batch according to purpose and batchsize from target_x and target_y.\n",
    "       The output batchsize will be double of input parameter because of the number of classes.\n",
    "    \n",
    "    Args:\n",
    "      target_x: A list, list of target dataset e.g. data_x we use\n",
    "      batchsize: A integer\n",
    "      \n",
    "    Returns:\n",
    "      batch: A tuple, (batch_x, batch_y)\n",
    "      \n",
    "    \"\"\"\n",
    "    batch_idx = np.random.choice(len(target_x[0]), batchsize, replace=False)\n",
    "        \n",
    "    batch_x = []\n",
    "    batch_y = []\n",
    "        \n",
    "    for i in batch_idx:\n",
    "        for j in range(len(target_x)): # class\n",
    "            batch_x.append(target_x[j][i])\n",
    "            batch_y.append(target_y[j][i])\n",
    "        \n",
    "    return (np.array(batch_x, dtype = 'f4'), np.array(batch_y, dtype = 'f4'))"
   ]
  }
 ],
 "metadata": {
  "kernelspec": {
   "display_name": "Python 3",
   "language": "python",
   "name": "python3"
  },
  "language_info": {
   "codemirror_mode": {
    "name": "ipython",
    "version": 3
   },
   "file_extension": ".py",
   "mimetype": "text/x-python",
   "name": "python",
   "nbconvert_exporter": "python",
   "pygments_lexer": "ipython3",
   "version": "3.6.3"
  }
 },
 "nbformat": 4,
 "nbformat_minor": 2
}
