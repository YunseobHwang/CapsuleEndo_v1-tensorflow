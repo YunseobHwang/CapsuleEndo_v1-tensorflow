{
 "cells": [
  {
   "cell_type": "code",
   "execution_count": 1,
   "metadata": {
    "ExecuteTime": {
     "end_time": "2019-12-26T06:55:13.471968Z",
     "start_time": "2019-12-26T06:55:13.465669Z"
    }
   },
   "outputs": [],
   "source": [
    "# GPU setting\n",
    "import os\n",
    "os.environ[\"CUDA_DEVICE_ORDER\"]=\"PCI_BUS_ID\"\n",
    "os.environ[\"CUDA_VISIBLE_DEVICES\"]=\"3\""
   ]
  },
  {
   "cell_type": "code",
   "execution_count": 2,
   "metadata": {
    "ExecuteTime": {
     "end_time": "2019-12-26T06:55:14.210765Z",
     "start_time": "2019-12-26T06:55:13.879589Z"
    }
   },
   "outputs": [],
   "source": [
    "import os\n",
    "import numpy as np\n",
    "import glob\n",
    "import matplotlib.pyplot as plt\n",
    "import matplotlib.image as mpimg\n",
    "import random\n",
    "import cv2"
   ]
  },
  {
   "cell_type": "code",
   "execution_count": 3,
   "metadata": {
    "ExecuteTime": {
     "end_time": "2019-12-26T06:55:14.217719Z",
     "start_time": "2019-12-26T06:55:14.213396Z"
    }
   },
   "outputs": [],
   "source": [
    "def pre_process(img):\n",
    "    img = np.array(img, dtype = 'f4')\n",
    "    img_pre = img[32:544, 32:544, :]\n",
    "    for i in range(100):\n",
    "        for j in range(100):\n",
    "            if i + j > 99:\n",
    "                pass\n",
    "            else :\n",
    "                img_pre[i, j, :] = 0\n",
    "                img_pre[i, -j, :] = 0\n",
    "    return img_pre"
   ]
  },
  {
   "cell_type": "code",
   "execution_count": 4,
   "metadata": {
    "ExecuteTime": {
     "end_time": "2019-12-26T06:55:14.415823Z",
     "start_time": "2019-12-26T06:55:14.407813Z"
    }
   },
   "outputs": [],
   "source": [
    "def rotate90(img, times):\n",
    "    rows, cols = img.shape[:2]\n",
    "    M = cv2.getRotationMatrix2D(center = (cols/2, rows/2), angle = 90*times, scale = 1)\n",
    "    img_rotated = cv2.warpAffine(img, M, dsize = (rows, cols))\n",
    "    return img_rotated"
   ]
  },
  {
   "cell_type": "code",
   "execution_count": 5,
   "metadata": {
    "ExecuteTime": {
     "end_time": "2019-12-26T06:55:14.862926Z",
     "start_time": "2019-12-26T06:55:14.854963Z"
    }
   },
   "outputs": [],
   "source": [
    "def sep(file_list):\n",
    "    num_data = len(file_list)\n",
    "    num_train_data = int(num_data*0.8)\n",
    "\n",
    "    train_idx = set(np.random.choice(num_data, num_train_data, replace=False))\n",
    "    test_idx = set(np.arange(num_data)) - train_idx\n",
    "        \n",
    "    return (train_idx, test_idx)"
   ]
  },
  {
   "cell_type": "code",
   "execution_count": 6,
   "metadata": {
    "ExecuteTime": {
     "end_time": "2019-12-26T06:55:15.739277Z",
     "start_time": "2019-12-26T06:55:15.734267Z"
    }
   },
   "outputs": [],
   "source": [
    "name = ['negative/negative/','depressed/erosion/', 'depressed/stricture/', 'depressed/ulcer/', 'hemorrhagic/active_bleeding/', 'hemorrhagic/angioectasia/', 'hemorrhagic/red_spot/', 'protruded/ampulla_of_vater/', 'protruded/lymphoid_follicles/', 'protruded/small_bowel_tumor/']\n",
    "\n"
   ]
  },
  {
   "cell_type": "code",
   "execution_count": 7,
   "metadata": {
    "ExecuteTime": {
     "end_time": "2019-12-26T07:00:27.158677Z",
     "start_time": "2019-12-26T06:55:16.952250Z"
    },
    "scrolled": true
   },
   "outputs": [
    {
     "name": "stdout",
     "output_type": "stream",
     "text": [
      "negative/negative/\n",
      "100\n",
      "200\n",
      "300\n",
      "400\n",
      "500\n",
      "600\n",
      "700\n",
      "800\n",
      "900\n",
      "1000\n",
      "1100\n",
      "1200\n",
      "1300\n",
      "1400\n",
      "1500\n",
      "1600\n",
      "1700\n",
      "1800\n",
      "1900\n",
      "2000\n",
      "100\n",
      "200\n",
      "300\n",
      "400\n",
      "500\n",
      "depressed/erosion/\n",
      "100\n",
      "200\n",
      "300\n",
      "400\n",
      "500\n",
      "600\n",
      "700\n",
      "100\n",
      "depressed/stricture/\n",
      "100\n",
      "depressed/ulcer/\n",
      "100\n",
      "200\n",
      "300\n",
      "400\n",
      "500\n",
      "600\n",
      "700\n",
      "100\n",
      "hemorrhagic/active_bleeding/\n",
      "100\n",
      "200\n",
      "300\n",
      "400\n",
      "100\n",
      "hemorrhagic/angioectasia/\n",
      "hemorrhagic/red_spot/\n",
      "100\n",
      "200\n",
      "300\n",
      "400\n",
      "500\n",
      "100\n",
      "protruded/ampulla_of_vater/\n",
      "protruded/lymphoid_follicles/\n",
      "100\n",
      "200\n",
      "300\n",
      "protruded/small_bowel_tumor/\n",
      "100\n"
     ]
    }
   ],
   "source": [
    "\n",
    "for nm in name:\n",
    "    print(nm)\n",
    "    import_path = '/mnt/disk2/data/private_data/SMhospital/capsule/0 data/labeled/190520 p3_2/p3_2/' + nm\n",
    "\n",
    "    train_path = '/mnt/disk2/data/private_data/SMhospital/capsule/1 preprocessed/sm_v2/train/' + nm\n",
    "    test_path = '/mnt/disk2/data/private_data/SMhospital/capsule/1 preprocessed/sm_v2/test/' + nm\n",
    "    file_list = os.listdir(import_path)\n",
    "    train_idx, test_idx = sep(file_list)\n",
    "    cnt = 0\n",
    "    for i in train_idx:\n",
    "        cnt += 1\n",
    "        image = cv2.imread(import_path + file_list[i])\n",
    "        temp = pre_process(image) # original\n",
    "\n",
    "        temp_r1 = rotate90(temp, 1) # 90도\n",
    "        temp_r2 = rotate90(temp, 2) # 180도\n",
    "        temp_r3 = rotate90(temp, 3) # 270도\n",
    "\n",
    "        temp_f = np.flipud(temp) # flip up and down\n",
    "        temp_f_r1 = rotate90(temp_f, 1) # 90도\n",
    "        temp_f_r2 = rotate90(temp_f, 2) # 180도\n",
    "        temp_f_r3 = rotate90(temp_f, 3) # 270도\n",
    "\n",
    "        cv2.imwrite(train_path + '{}'.format(file_list[i]), temp)\n",
    "        cv2.imwrite(train_path + 'r1_{}'.format(file_list[i]), temp_r1)\n",
    "        cv2.imwrite(train_path + 'r2_{}'.format(file_list[i]), temp_r2)\n",
    "        cv2.imwrite(train_path + 'r3_{}'.format(file_list[i]), temp_r3)\n",
    "\n",
    "        cv2.imwrite(train_path + 'f_{}'.format(file_list[i]), temp_f)\n",
    "        cv2.imwrite(train_path + 'f_r1_{}'.format(file_list[i]), temp_f_r1)\n",
    "        cv2.imwrite(train_path + 'f_r2_{}'.format(file_list[i]), temp_f_r2)\n",
    "        cv2.imwrite(train_path + 'f_r3_{}'.format(file_list[i]), temp_f_r3) \n",
    "\n",
    "        if cnt % 100 == 0:\n",
    "            print(cnt)\n",
    "    \n",
    "    cnt = 0\n",
    "    for i in test_idx:\n",
    "        cnt += 1\n",
    "        image = cv2.imread(import_path + file_list[i])\n",
    "        temp = pre_process(image) # original\n",
    "\n",
    "        temp_r1 = rotate90(temp, 1) # 90도\n",
    "        temp_r2 = rotate90(temp, 2) # 180도\n",
    "        temp_r3 = rotate90(temp, 3) # 270도\n",
    "\n",
    "        temp_f = np.flipud(temp) # flip up and down\n",
    "        temp_f_r1 = rotate90(temp_f, 1) # 90도\n",
    "        temp_f_r2 = rotate90(temp_f, 2) # 180도\n",
    "        temp_f_r3 = rotate90(temp_f, 3) # 270도\n",
    "\n",
    "        cv2.imwrite(test_path + '{}'.format(file_list[i]), temp)\n",
    "        cv2.imwrite(test_path + 'r1_{}'.format(file_list[i]), temp_r1)\n",
    "        cv2.imwrite(test_path + 'r2_{}'.format(file_list[i]), temp_r2)\n",
    "        cv2.imwrite(test_path + 'r3_{}'.format(file_list[i]), temp_r3)\n",
    "\n",
    "        cv2.imwrite(test_path + 'f_{}'.format(file_list[i]), temp_f)\n",
    "        cv2.imwrite(test_path + 'f_r1_{}'.format(file_list[i]), temp_f_r1)\n",
    "        cv2.imwrite(test_path + 'f_r2_{}'.format(file_list[i]), temp_f_r2)\n",
    "\n",
    "        if cnt % 100 == 0:\n",
    "            print(cnt)\n",
    "    "
   ]
  },
  {
   "cell_type": "code",
   "execution_count": 11,
   "metadata": {
    "ExecuteTime": {
     "end_time": "2019-12-26T07:02:41.439815Z",
     "start_time": "2019-12-26T07:02:41.420437Z"
    },
    "scrolled": true
   },
   "outputs": [
    {
     "name": "stdout",
     "output_type": "stream",
     "text": [
      "negative/negative/\n"
     ]
    }
   ],
   "source": [
    "nm = 'negative/negative/'\n",
    "\n",
    "print(nm)\n",
    "import_path = '/mnt/disk2/data/private_data/SMhospital/capsule/0 data/labeled/190814 negative/raw/'\n",
    "\n",
    "train_path = '/mnt/disk2/data/private_data/SMhospital/capsule/1 preprocessed/sm_v2/train/' + nm\n",
    "test_path = '/mnt/disk2/data/private_data/SMhospital/capsule/1 preprocessed/sm_v2/test/' + nm\n",
    "file_list = os.listdir(import_path)\n",
    "train_idx, test_idx = sep(file_list)\n"
   ]
  },
  {
   "cell_type": "code",
   "execution_count": 12,
   "metadata": {
    "ExecuteTime": {
     "end_time": "2019-12-26T07:07:16.467883Z",
     "start_time": "2019-12-26T07:02:46.331697Z"
    },
    "scrolled": true
   },
   "outputs": [
    {
     "name": "stdout",
     "output_type": "stream",
     "text": [
      "100\n",
      "200\n",
      "300\n",
      "400\n",
      "500\n",
      "600\n",
      "700\n",
      "800\n",
      "900\n",
      "1000\n",
      "1100\n",
      "1200\n",
      "1300\n",
      "1400\n",
      "1500\n",
      "1600\n",
      "1700\n",
      "1800\n",
      "1900\n",
      "2000\n",
      "2100\n",
      "2200\n",
      "2300\n",
      "2400\n",
      "2500\n",
      "2600\n",
      "2700\n",
      "2800\n",
      "2900\n",
      "3000\n",
      "3100\n",
      "3200\n",
      "3300\n",
      "3400\n",
      "3500\n",
      "3600\n",
      "3700\n",
      "3800\n",
      "3900\n",
      "4000\n",
      "4100\n",
      "4200\n",
      "100\n",
      "200\n",
      "300\n",
      "400\n",
      "500\n",
      "600\n",
      "700\n",
      "800\n",
      "900\n",
      "1000\n"
     ]
    }
   ],
   "source": [
    "cnt = 0\n",
    "for i in train_idx:\n",
    "    cnt += 1\n",
    "    image = cv2.imread(import_path + file_list[i])\n",
    "    temp = pre_process(image) # original\n",
    "\n",
    "    temp_r1 = rotate90(temp, 1) # 90도\n",
    "    temp_r2 = rotate90(temp, 2) # 180도\n",
    "    temp_r3 = rotate90(temp, 3) # 270도\n",
    "\n",
    "    temp_f = np.flipud(temp) # flip up and down\n",
    "    temp_f_r1 = rotate90(temp_f, 1) # 90도\n",
    "    temp_f_r2 = rotate90(temp_f, 2) # 180도\n",
    "    temp_f_r3 = rotate90(temp_f, 3) # 270도\n",
    "\n",
    "    cv2.imwrite(train_path + '{}'.format(file_list[i]), temp)\n",
    "    cv2.imwrite(train_path + 'r1_{}'.format(file_list[i]), temp_r1)\n",
    "    cv2.imwrite(train_path + 'r2_{}'.format(file_list[i]), temp_r2)\n",
    "    cv2.imwrite(train_path + 'r3_{}'.format(file_list[i]), temp_r3)\n",
    "\n",
    "    cv2.imwrite(train_path + 'f_{}'.format(file_list[i]), temp_f)\n",
    "    cv2.imwrite(train_path + 'f_r1_{}'.format(file_list[i]), temp_f_r1)\n",
    "    cv2.imwrite(train_path + 'f_r2_{}'.format(file_list[i]), temp_f_r2)\n",
    "    cv2.imwrite(train_path + 'f_r3_{}'.format(file_list[i]), temp_f_r3) \n",
    "\n",
    "    if cnt % 100 == 0:\n",
    "        print(cnt)\n",
    "\n",
    "cnt = 0\n",
    "for i in test_idx:\n",
    "    cnt += 1\n",
    "    image = cv2.imread(import_path + file_list[i])\n",
    "    temp = pre_process(image) # original\n",
    "\n",
    "    temp_r1 = rotate90(temp, 1) # 90도\n",
    "    temp_r2 = rotate90(temp, 2) # 180도\n",
    "    temp_r3 = rotate90(temp, 3) # 270도\n",
    "\n",
    "    temp_f = np.flipud(temp) # flip up and down\n",
    "    temp_f_r1 = rotate90(temp_f, 1) # 90도\n",
    "    temp_f_r2 = rotate90(temp_f, 2) # 180도\n",
    "    temp_f_r3 = rotate90(temp_f, 3) # 270도\n",
    "\n",
    "    cv2.imwrite(test_path + '{}'.format(file_list[i]), temp)\n",
    "    cv2.imwrite(test_path + 'r1_{}'.format(file_list[i]), temp_r1)\n",
    "    cv2.imwrite(test_path + 'r2_{}'.format(file_list[i]), temp_r2)\n",
    "    cv2.imwrite(test_path + 'r3_{}'.format(file_list[i]), temp_r3)\n",
    "\n",
    "    cv2.imwrite(test_path + 'f_{}'.format(file_list[i]), temp_f)\n",
    "    cv2.imwrite(test_path + 'f_r1_{}'.format(file_list[i]), temp_f_r1)\n",
    "    cv2.imwrite(test_path + 'f_r2_{}'.format(file_list[i]), temp_f_r2)\n",
    "\n",
    "    if cnt % 100 == 0:\n",
    "        print(cnt)\n"
   ]
  },
  {
   "cell_type": "code",
   "execution_count": null,
   "metadata": {},
   "outputs": [],
   "source": []
  }
 ],
 "metadata": {
  "hide_input": false,
  "kernelspec": {
   "display_name": "Python 3",
   "language": "python",
   "name": "python3"
  },
  "language_info": {
   "codemirror_mode": {
    "name": "ipython",
    "version": 3
   },
   "file_extension": ".py",
   "mimetype": "text/x-python",
   "name": "python",
   "nbconvert_exporter": "python",
   "pygments_lexer": "ipython3",
   "version": "3.5.2"
  },
  "toc": {
   "base_numbering": 1,
   "nav_menu": {},
   "number_sections": true,
   "sideBar": true,
   "skip_h1_title": false,
   "title_cell": "Table of Contents",
   "title_sidebar": "Contents",
   "toc_cell": false,
   "toc_position": {},
   "toc_section_display": true,
   "toc_window_display": false
  }
 },
 "nbformat": 4,
 "nbformat_minor": 2
}
