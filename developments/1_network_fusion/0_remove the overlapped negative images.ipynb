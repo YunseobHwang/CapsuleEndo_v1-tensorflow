{
 "cells": [
  {
   "cell_type": "code",
   "execution_count": 1,
   "metadata": {
    "ExecuteTime": {
     "end_time": "2020-01-05T13:20:25.520871Z",
     "start_time": "2020-01-05T13:20:25.341677Z"
    }
   },
   "outputs": [],
   "source": [
    "import os\n",
    "import glob\n",
    "import numpy as np\n",
    "\n",
    "def load_name(phase, cls, lesion = None, data = 'sm', data_dir =  '/mnt/disk2/data/private_data/SMhospital/capsule/1 preprocessed'):\n",
    "    \"\"\"\n",
    "    cls = 'negative', 'hemorrhagic', 'depressed', 'protruded'\n",
    "    cls: [lesion]  \n",
    "    'hemorrhagic': ['red_spot', 'angioectasia', 'active_bleeding'], \n",
    "    'depressed': ['erosion', 'ulcer', 'stricture'],\n",
    "    'protruded': ['ampulla_of_vater', 'lymphoid_follicles', 'small_bowel_tumor']}\n",
    "    phase = 'train', 'test'\n",
    "    \"\"\"\n",
    "    if cls == 'negative':\n",
    "        lesion = cls\n",
    "    \n",
    "    path = os.path.join(data_dir, data, phase, cls, lesion)\n",
    "    pathlist = glob.glob(path + '/*.jpg')\n",
    "\n",
    "    data = []\n",
    "    name = []\n",
    "\n",
    "    for i in pathlist:\n",
    "#         temp = cv2.imread(i)\n",
    "#         temp_rgb = cv2.cvtColor(temp, cv2.COLOR_BGR2RGB)\n",
    "#         data.append(temp_rgb)\n",
    "        name.append(os.path.basename(i))\n",
    "\n",
    "    return np.asarray(name)"
   ]
  },
  {
   "cell_type": "markdown",
   "metadata": {},
   "source": [
    "# sm"
   ]
  },
  {
   "cell_type": "code",
   "execution_count": 21,
   "metadata": {
    "ExecuteTime": {
     "end_time": "2020-01-05T11:41:26.870415Z",
     "start_time": "2020-01-05T11:41:26.552320Z"
    }
   },
   "outputs": [],
   "source": [
    "neg_tr_name = load_name('train', 'negative', data = 'sm')\n",
    "redspot_tr_name = load_name('train', 'hemorrhagic', 'red_spot', data = 'sm')\n",
    "angio_tr_name = load_name('train', 'hemorrhagic', 'angioectasia', data = 'sm')\n",
    "active_tr_name = load_name('train', 'hemorrhagic', 'active_bleeding', data = 'sm')\n",
    "ero_tr_name = load_name('train', 'depressed', 'erosion', data = 'sm')\n",
    "ulcer_tr_name = load_name('train', 'depressed', 'ulcer', data = 'sm')\n",
    "str_tr_name = load_name('train', 'depressed', 'stricture', data = 'sm')"
   ]
  },
  {
   "cell_type": "code",
   "execution_count": 20,
   "metadata": {
    "ExecuteTime": {
     "end_time": "2020-01-05T11:41:26.522597Z",
     "start_time": "2020-01-05T11:41:26.405320Z"
    }
   },
   "outputs": [],
   "source": [
    "neg_ts_name = load_name('test', 'negative', data = 'sm')\n",
    "redspot_ts_name = load_name('test', 'hemorrhagic', 'red_spot', data = 'sm')\n",
    "angio_ts_name = load_name('test', 'hemorrhagic', 'angioectasia', data = 'sm')\n",
    "active_ts_name = load_name('test', 'hemorrhagic', 'active_bleeding', data = 'sm')\n",
    "ero_ts_name = load_name('test', 'depressed', 'erosion', data = 'sm')\n",
    "ulcer_ts_name = load_name('test', 'depressed', 'ulcer', data = 'sm')\n",
    "str_ts_name = load_name('test', 'depressed', 'stricture', data = 'sm')"
   ]
  },
  {
   "cell_type": "code",
   "execution_count": 24,
   "metadata": {
    "ExecuteTime": {
     "end_time": "2020-01-05T11:45:04.657089Z",
     "start_time": "2020-01-05T11:45:04.556328Z"
    }
   },
   "outputs": [],
   "source": [
    "neg_overlapped = np.intersect1d(neg_ts_name, neg_tr_name)\n",
    "redspot_overlapped = np.intersect1d(redspot_ts_name, redspot_tr_name)\n",
    "angio_overlapped = np.intersect1d(angio_ts_name, angio_tr_name)\n",
    "active_overlapped = np.intersect1d(active_ts_name, active_tr_name)\n",
    "ero_overlapped = np.intersect1d(ero_ts_name, ero_tr_name)\n",
    "ulcer_overlapped = np.intersect1d(ulcer_ts_name, ulcer_tr_name)\n",
    "str_overlapped = np.intersect1d(str_ts_name, str_tr_name)"
   ]
  },
  {
   "cell_type": "code",
   "execution_count": 65,
   "metadata": {
    "ExecuteTime": {
     "end_time": "2020-01-05T12:27:43.472848Z",
     "start_time": "2020-01-05T12:27:43.465260Z"
    }
   },
   "outputs": [
    {
     "data": {
      "text/plain": [
       "(49999, 12514)"
      ]
     },
     "execution_count": 65,
     "metadata": {},
     "output_type": "execute_result"
    }
   ],
   "source": [
    "len(neg_tr_name), len(neg_ts_name)"
   ]
  },
  {
   "cell_type": "code",
   "execution_count": 58,
   "metadata": {
    "ExecuteTime": {
     "end_time": "2020-01-05T12:16:28.525013Z",
     "start_time": "2020-01-05T12:16:28.518013Z"
    }
   },
   "outputs": [
    {
     "data": {
      "text/plain": [
       "65"
      ]
     },
     "execution_count": 58,
     "metadata": {},
     "output_type": "execute_result"
    }
   ],
   "source": [
    "len(neg_overlapped)"
   ]
  },
  {
   "cell_type": "code",
   "execution_count": 26,
   "metadata": {
    "ExecuteTime": {
     "end_time": "2020-01-05T11:45:10.870040Z",
     "start_time": "2020-01-05T11:45:10.856239Z"
    }
   },
   "outputs": [
    {
     "name": "stdout",
     "output_type": "stream",
     "text": [
      "['PI___02-07-28___2025907.jpg' 'f_r1_경박___02-50-56___2025968.jpg'\n",
      " 'f_r1_경박___04-05-58___2036715.jpg' 'f_r1_기강___02-07-36___2024268.jpg'\n",
      " 'f_r1_민김___03-30-22___2031484.jpg' 'f_r1_병문___05-03-34___2053539.jpg'\n",
      " 'f_r1_봉오___02-19-59___2033103.jpg' 'f_r1_봉오___04-27-35___2049205.jpg'\n",
      " 'f_r1_정주___10-28-04___2092504.jpg' 'f_r1_형최___02-26-57___2030679.jpg'\n",
      " 'f_r2_경박___04-05-58___2036715.jpg' 'f_r2_명나___02-27-38___2024017.jpg'\n",
      " 'f_r2_민김___03-30-22___2031484.jpg' 'f_r2_봉오___03-21-22___2041257.jpg'\n",
      " 'f_r2_봉오___04-27-35___2049205.jpg' 'f_r2_상이___04-04-06___2046391.jpg'\n",
      " 'f_r2_순하___04-48-31___2050619.jpg' 'f_r2_승이___02-17-05___2028981.jpg'\n",
      " 'f_r2_진강___03-14-33___2040438.jpg' 'f_r3_경박___03-33-51___2032059.jpg'\n",
      " 'f_r3_봉오___03-21-22___2041257.jpg' 'f_r3_봉오___04-27-35___2049205.jpg'\n",
      " 'f_r3_순하___04-48-31___2050619.jpg' 'f_r3_정주___10-28-04___2092504.jpg'\n",
      " 'f_r3_형최___02-26-57___2030679.jpg' 'f_r3_형최___03-30-23___2042166.jpg'\n",
      " 'f_기강___01-46-31___2020958.jpg' 'f_명나___02-27-38___2024017.jpg'\n",
      " 'f_민김___03-30-22___2031484.jpg' 'f_웅김___00-50-21___1006043.jpg'\n",
      " 'f_형최___03-30-23___2042166.jpg' 'r1_PI___02-07-28___2025907.jpg'\n",
      " 'r1_경박___04-05-58___2036715.jpg' 'r1_기강___02-07-36___2024268.jpg'\n",
      " 'r1_솔신___10-20-53___1074514.jpg' 'r1_순하___04-48-31___2050619.jpg'\n",
      " 'r1_승이___02-17-05___2028981.jpg' 'r1_웅김___00-50-21___1006043.jpg'\n",
      " 'r1_윤김___05-27-31___2056402.jpg' 'r2_PI___02-07-28___2025907.jpg'\n",
      " 'r2_경박___02-50-56___2025968.jpg' 'r2_병문___05-03-34___2053539.jpg'\n",
      " 'r2_석강___04-30-00___2049492.jpg' 'r2_솔신___10-20-53___1074514.jpg'\n",
      " 'r2_윤김___05-27-31___2056402.jpg' 'r2_진강___03-13-14___2040279.jpg'\n",
      " 'r2_진강___03-14-33___2040438.jpg' 'r2_진강___03-15-52___2040595.jpg'\n",
      " 'r2_형최___03-30-23___2042166.jpg' 'r3_경박___02-50-56___2025968.jpg'\n",
      " 'r3_순하___04-48-31___2050619.jpg' 'r3_진강___03-15-52___2040595.jpg'\n",
      " 'r3_형최___03-30-23___2042166.jpg' '경박___03-33-51___2032059.jpg'\n",
      " '병문___05-03-34___2053539.jpg' '봉오___03-21-22___2041257.jpg'\n",
      " '석강___04-30-00___2049492.jpg' '솔신___10-20-53___1074514.jpg'\n",
      " '순하___04-48-31___2050619.jpg' '승이___02-17-05___2028981.jpg'\n",
      " '윤김___05-27-31___2056402.jpg' '정주___10-28-04___2092504.jpg'\n",
      " '진강___03-14-33___2040438.jpg' '진강___03-15-52___2040595.jpg'\n",
      " '형최___02-26-57___2030679.jpg'] [] [] [] [] [] []\n"
     ]
    }
   ],
   "source": [
    "print(neg_overlapped ,redspot_overlapped, angio_overlapped, active_overlapped, ero_overlapped, ulcer_overlapped, str_overlapped)"
   ]
  },
  {
   "cell_type": "code",
   "execution_count": 66,
   "metadata": {
    "ExecuteTime": {
     "end_time": "2020-01-05T12:50:46.951164Z",
     "start_time": "2020-01-05T12:50:46.907138Z"
    }
   },
   "outputs": [],
   "source": [
    "path  =  '/mnt/disk2/data/private_data/SMhospital/capsule/1 preprocessed/sm/test/negative/negative/'\n",
    "\n",
    "for i in neg_overlapped:\n",
    "    os.remove(path + i)    "
   ]
  },
  {
   "cell_type": "code",
   "execution_count": 67,
   "metadata": {
    "ExecuteTime": {
     "end_time": "2020-01-05T12:51:06.060644Z",
     "start_time": "2020-01-05T12:51:05.999631Z"
    }
   },
   "outputs": [],
   "source": [
    "neg_ts_name = load_name('test', 'negative', data = 'sm')"
   ]
  },
  {
   "cell_type": "code",
   "execution_count": 68,
   "metadata": {
    "ExecuteTime": {
     "end_time": "2020-01-05T12:51:11.160615Z",
     "start_time": "2020-01-05T12:51:11.153409Z"
    }
   },
   "outputs": [
    {
     "data": {
      "text/plain": [
       "(49999, 12449)"
      ]
     },
     "execution_count": 68,
     "metadata": {},
     "output_type": "execute_result"
    }
   ],
   "source": [
    "len(neg_tr_name), len(neg_ts_name)"
   ]
  },
  {
   "cell_type": "code",
   "execution_count": 69,
   "metadata": {
    "ExecuteTime": {
     "end_time": "2020-01-05T12:51:56.081528Z",
     "start_time": "2020-01-05T12:51:55.989184Z"
    },
    "scrolled": true
   },
   "outputs": [
    {
     "data": {
      "text/plain": [
       "0"
      ]
     },
     "execution_count": 69,
     "metadata": {},
     "output_type": "execute_result"
    }
   ],
   "source": [
    "neg_overlapped = np.intersect1d(neg_ts_name, neg_tr_name)\n",
    "\n",
    "len(neg_overlapped)"
   ]
  },
  {
   "cell_type": "markdown",
   "metadata": {},
   "source": [
    "# sm_v2"
   ]
  },
  {
   "cell_type": "code",
   "execution_count": 2,
   "metadata": {
    "ExecuteTime": {
     "end_time": "2020-01-05T13:21:11.566222Z",
     "start_time": "2020-01-05T13:21:11.334979Z"
    }
   },
   "outputs": [],
   "source": [
    "neg_tr_name = load_name('train', 'negative', data = 'sm_v2')\n",
    "redspot_tr_name = load_name('train', 'hemorrhagic', 'red_spot', data = 'sm_v2')\n",
    "angio_tr_name = load_name('train', 'hemorrhagic', 'angioectasia', data = 'sm_v2')\n",
    "active_tr_name = load_name('train', 'hemorrhagic', 'active_bleeding', data = 'sm_v2')\n",
    "ero_tr_name = load_name('train', 'depressed', 'erosion', data = 'sm_v2')\n",
    "ulcer_tr_name = load_name('train', 'depressed', 'ulcer', data = 'sm_v2')\n",
    "str_tr_name = load_name('train', 'depressed', 'stricture', data = 'sm_v2')"
   ]
  },
  {
   "cell_type": "code",
   "execution_count": 3,
   "metadata": {
    "ExecuteTime": {
     "end_time": "2020-01-05T13:21:19.474919Z",
     "start_time": "2020-01-05T13:21:19.411125Z"
    }
   },
   "outputs": [],
   "source": [
    "neg_ts_name = load_name('test', 'negative', data = 'sm_v2')\n",
    "redspot_ts_name = load_name('test', 'hemorrhagic', 'red_spot', data = 'sm_v2')\n",
    "angio_ts_name = load_name('test', 'hemorrhagic', 'angioectasia', data = 'sm_v2')\n",
    "active_ts_name = load_name('test', 'hemorrhagic', 'active_bleeding', data = 'sm_v2')\n",
    "ero_ts_name = load_name('test', 'depressed', 'erosion', data = 'sm_v2')\n",
    "ulcer_ts_name = load_name('test', 'depressed', 'ulcer', data = 'sm_v2')\n",
    "str_ts_name = load_name('test', 'depressed', 'stricture', data = 'sm_v2')"
   ]
  },
  {
   "cell_type": "code",
   "execution_count": 4,
   "metadata": {
    "ExecuteTime": {
     "end_time": "2020-01-05T13:21:22.173726Z",
     "start_time": "2020-01-05T13:21:22.049888Z"
    }
   },
   "outputs": [],
   "source": [
    "neg_overlapped = np.intersect1d(neg_ts_name, neg_tr_name)\n",
    "redspot_overlapped = np.intersect1d(redspot_ts_name, redspot_tr_name)\n",
    "angio_overlapped = np.intersect1d(angio_ts_name, angio_tr_name)\n",
    "active_overlapped = np.intersect1d(active_ts_name, active_tr_name)\n",
    "ero_overlapped = np.intersect1d(ero_ts_name, ero_tr_name)\n",
    "ulcer_overlapped = np.intersect1d(ulcer_ts_name, ulcer_tr_name)\n",
    "str_overlapped = np.intersect1d(str_ts_name, str_tr_name)"
   ]
  },
  {
   "cell_type": "code",
   "execution_count": 5,
   "metadata": {
    "ExecuteTime": {
     "end_time": "2020-01-05T13:21:22.840416Z",
     "start_time": "2020-01-05T13:21:22.819471Z"
    }
   },
   "outputs": [
    {
     "data": {
      "text/plain": [
       "(49960, 10969)"
      ]
     },
     "execution_count": 5,
     "metadata": {},
     "output_type": "execute_result"
    }
   ],
   "source": [
    "len(neg_tr_name), len(neg_ts_name)"
   ]
  },
  {
   "cell_type": "code",
   "execution_count": 6,
   "metadata": {
    "ExecuteTime": {
     "end_time": "2020-01-05T13:21:24.552147Z",
     "start_time": "2020-01-05T13:21:24.545537Z"
    }
   },
   "outputs": [
    {
     "data": {
      "text/plain": [
       "42"
      ]
     },
     "execution_count": 6,
     "metadata": {},
     "output_type": "execute_result"
    }
   ],
   "source": [
    "len(neg_overlapped)"
   ]
  },
  {
   "cell_type": "code",
   "execution_count": 7,
   "metadata": {
    "ExecuteTime": {
     "end_time": "2020-01-05T13:21:25.914325Z",
     "start_time": "2020-01-05T13:21:25.905787Z"
    }
   },
   "outputs": [
    {
     "name": "stdout",
     "output_type": "stream",
     "text": [
      "['f_r1_경박___04-05-58___2036715.jpg' 'f_r1_명나___02-27-38___2024017.jpg'\n",
      " 'f_r1_민김___03-30-22___2031484.jpg' 'f_r1_봉오___02-19-59___2033103.jpg'\n",
      " 'f_r1_석강___04-30-00___2049492.jpg' 'f_r1_진강___03-13-14___2040279.jpg'\n",
      " 'f_r2_경박___04-05-58___2036715.jpg' 'f_r2_명나___02-27-38___2024017.jpg'\n",
      " 'f_r2_민김___03-30-22___2031484.jpg' 'f_r2_봉오___02-19-59___2033103.jpg'\n",
      " 'f_r2_석강___04-30-00___2049492.jpg' 'f_r2_진강___03-13-14___2040279.jpg'\n",
      " 'f_경박___04-05-58___2036715.jpg' 'f_명나___02-27-38___2024017.jpg'\n",
      " 'f_민김___03-30-22___2031484.jpg' 'f_봉오___02-19-59___2033103.jpg'\n",
      " 'f_석강___04-30-00___2049492.jpg' 'f_진강___03-13-14___2040279.jpg'\n",
      " 'r1_경박___04-05-58___2036715.jpg' 'r1_명나___02-27-38___2024017.jpg'\n",
      " 'r1_민김___03-30-22___2031484.jpg' 'r1_봉오___02-19-59___2033103.jpg'\n",
      " 'r1_석강___04-30-00___2049492.jpg' 'r1_진강___03-13-14___2040279.jpg'\n",
      " 'r2_경박___04-05-58___2036715.jpg' 'r2_명나___02-27-38___2024017.jpg'\n",
      " 'r2_민김___03-30-22___2031484.jpg' 'r2_봉오___02-19-59___2033103.jpg'\n",
      " 'r2_석강___04-30-00___2049492.jpg' 'r2_진강___03-13-14___2040279.jpg'\n",
      " 'r3_경박___04-05-58___2036715.jpg' 'r3_명나___02-27-38___2024017.jpg'\n",
      " 'r3_민김___03-30-22___2031484.jpg' 'r3_봉오___02-19-59___2033103.jpg'\n",
      " 'r3_석강___04-30-00___2049492.jpg' 'r3_진강___03-13-14___2040279.jpg'\n",
      " '경박___04-05-58___2036715.jpg' '명나___02-27-38___2024017.jpg'\n",
      " '민김___03-30-22___2031484.jpg' '봉오___02-19-59___2033103.jpg'\n",
      " '석강___04-30-00___2049492.jpg' '진강___03-13-14___2040279.jpg'] [] [] [] [] [] []\n"
     ]
    }
   ],
   "source": [
    "print(neg_overlapped ,redspot_overlapped, angio_overlapped, active_overlapped, ero_overlapped, ulcer_overlapped, str_overlapped)"
   ]
  },
  {
   "cell_type": "code",
   "execution_count": 8,
   "metadata": {
    "ExecuteTime": {
     "end_time": "2020-01-05T13:21:38.877664Z",
     "start_time": "2020-01-05T13:21:38.868878Z"
    }
   },
   "outputs": [],
   "source": [
    "path  =  '/mnt/disk2/data/private_data/SMhospital/capsule/1 preprocessed/sm_v2/test/negative/negative/'\n",
    "\n",
    "for i in neg_overlapped:\n",
    "    os.remove(path + i)    "
   ]
  },
  {
   "cell_type": "code",
   "execution_count": 9,
   "metadata": {
    "ExecuteTime": {
     "end_time": "2020-01-05T13:21:45.011993Z",
     "start_time": "2020-01-05T13:21:44.963013Z"
    }
   },
   "outputs": [],
   "source": [
    "neg_ts_name = load_name('test', 'negative', data = 'sm_v2')"
   ]
  },
  {
   "cell_type": "code",
   "execution_count": 10,
   "metadata": {
    "ExecuteTime": {
     "end_time": "2020-01-05T13:21:45.780269Z",
     "start_time": "2020-01-05T13:21:45.772875Z"
    }
   },
   "outputs": [
    {
     "data": {
      "text/plain": [
       "(49960, 10927)"
      ]
     },
     "execution_count": 10,
     "metadata": {},
     "output_type": "execute_result"
    }
   ],
   "source": [
    "len(neg_tr_name), len(neg_ts_name)"
   ]
  },
  {
   "cell_type": "code",
   "execution_count": 11,
   "metadata": {
    "ExecuteTime": {
     "end_time": "2020-01-05T13:21:54.459368Z",
     "start_time": "2020-01-05T13:21:54.356171Z"
    },
    "scrolled": true
   },
   "outputs": [
    {
     "data": {
      "text/plain": [
       "0"
      ]
     },
     "execution_count": 11,
     "metadata": {},
     "output_type": "execute_result"
    }
   ],
   "source": [
    "neg_overlapped = np.intersect1d(neg_ts_name, neg_tr_name)\n",
    "\n",
    "len(neg_overlapped)"
   ]
  }
 ],
 "metadata": {
  "hide_input": false,
  "kernelspec": {
   "display_name": "Python 3",
   "language": "python",
   "name": "python3"
  },
  "language_info": {
   "codemirror_mode": {
    "name": "ipython",
    "version": 3
   },
   "file_extension": ".py",
   "mimetype": "text/x-python",
   "name": "python",
   "nbconvert_exporter": "python",
   "pygments_lexer": "ipython3",
   "version": "3.5.2"
  },
  "toc": {
   "base_numbering": 1,
   "nav_menu": {},
   "number_sections": true,
   "sideBar": true,
   "skip_h1_title": false,
   "title_cell": "Table of Contents",
   "title_sidebar": "Contents",
   "toc_cell": false,
   "toc_position": {},
   "toc_section_display": true,
   "toc_window_display": false
  }
 },
 "nbformat": 4,
 "nbformat_minor": 2
}
